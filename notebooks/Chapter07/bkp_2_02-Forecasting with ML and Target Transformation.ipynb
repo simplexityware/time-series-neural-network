{
 "cells": [
  {
   "cell_type": "code",
   "execution_count": 1,
   "id": "b25018c9-2624-434c-aa23-04be1d73e729",
   "metadata": {},
   "outputs": [
    {
     "name": "stdout",
     "output_type": "stream",
     "text": [
      "D:\\Playground\\AdvancedTimeSeriesForecastingBook\\Github\\Modern-Time-Series-Forecasting-with-Python-\n"
     ]
    }
   ],
   "source": [
    "%cd ../.."
   ]
  },
  {
   "cell_type": "code",
   "execution_count": 2,
   "id": "4f023467-970a-461e-a60f-7a66fce6a497",
   "metadata": {},
   "outputs": [
    {
     "name": "stderr",
     "output_type": "stream",
     "text": [
      "C:\\Users\\MANUJO~1\\AppData\\Local\\Temp/ipykernel_19912/3755203312.py:11: TqdmExperimentalWarning: Using `tqdm.autonotebook.tqdm` in notebook mode. Use `tqdm.tqdm` instead to force console mode (e.g. in jupyter console)\n",
      "  from tqdm.autonotebook import tqdm\n"
     ]
    }
   ],
   "source": [
    "import numpy as np\n",
    "import pandas as pd\n",
    "import time\n",
    "import plotly.express as px\n",
    "import plotly.graph_objects as go\n",
    "import os\n",
    "import plotly.io as pio\n",
    "pio.templates.default = \"plotly_white\"\n",
    "\n",
    "from pathlib import Path\n",
    "from tqdm.autonotebook import tqdm\n",
    "import warnings\n",
    "import humanize\n",
    "import joblib\n",
    "\n",
    "from darts.metrics import mase, mse, mae\n",
    "from sklearn.preprocessing import StandardScaler\n",
    "\n",
    "from src.utils.ts_utils import forecast_bias, darts_metrics_adapter\n",
    "from src.utils.general import LogTime\n",
    "from src.utils import plotting_utils\n",
    "%load_ext autoreload\n",
    "%autoreload 2\n",
    "np.random.seed(42)\n",
    "tqdm.pandas()"
   ]
  },
  {
   "cell_type": "code",
   "execution_count": 3,
   "id": "41ae72a1-3721-4b36-b211-b78d4b09c855",
   "metadata": {},
   "outputs": [],
   "source": [
    "os.makedirs(\"imgs/chapter_7\", exist_ok=True)\n",
    "preprocessed = Path(\"data/london_smart_meters/preprocessed\")\n",
    "output = Path(\"data/london_smart_meters/output\")"
   ]
  },
  {
   "cell_type": "code",
   "execution_count": 4,
   "id": "8900cd43-718f-4dc1-ace9-ef9dc99b600d",
   "metadata": {},
   "outputs": [],
   "source": [
    "def format_plot(fig, legends = None, xlabel=\"Time\", ylabel=\"Value\", title=\"\"):\n",
    "    if legends:\n",
    "        names = cycle(legends)\n",
    "        fig.for_each_trace(lambda t:  t.update(name = next(names)))\n",
    "    fig.update_layout(\n",
    "            autosize=False,\n",
    "            width=900,\n",
    "            height=500,\n",
    "            title_text=title,\n",
    "            title={\n",
    "            'x':0.5,\n",
    "            'xanchor': 'center',\n",
    "            'yanchor': 'top'},\n",
    "            titlefont={\n",
    "                \"size\": 20\n",
    "            },\n",
    "            legend_title = None,\n",
    "            yaxis=dict(\n",
    "                title_text=ylabel,\n",
    "                titlefont=dict(size=12),\n",
    "            ),\n",
    "            xaxis=dict(\n",
    "                title_text=xlabel,\n",
    "                titlefont=dict(size=12),\n",
    "            )\n",
    "        )\n",
    "    return fig"
   ]
  },
  {
   "cell_type": "code",
   "execution_count": 5,
   "id": "50ce7975-4fb6-4f30-94b5-06adf042f526",
   "metadata": {},
   "outputs": [],
   "source": [
    "#Readin the missing value imputed and train test split data\n",
    "train_df = pd.read_parquet(preprocessed/\"block_0-7_train_missing_imputed_feature_engg.parquet\")\n",
    "auto_stat_target = pd.read_parquet(preprocessed/\"block_0-7_train_auto_stat_target.parquet\")\n",
    "transformer_pipelines = joblib.load(preprocessed/\"auto_transformer_pipelines_train.pkl\")\n",
    "#Reading in validation as test\n",
    "test_df = pd.read_parquet(preprocessed/\"block_0-7_val_missing_imputed_feature_engg.parquet\")"
   ]
  },
  {
   "cell_type": "code",
   "execution_count": 6,
   "id": "6046a8fe-283d-4f4b-ab1f-a5b23bad55e7",
   "metadata": {},
   "outputs": [
    {
     "data": {
      "text/plain": [
       "399"
      ]
     },
     "execution_count": 6,
     "metadata": {},
     "output_type": "execute_result"
    }
   ],
   "source": [
    "len(train_df.LCLid.unique())"
   ]
  },
  {
   "cell_type": "code",
   "execution_count": 7,
   "id": "ef63dd04-cb12-49f6-b027-ef89934d6020",
   "metadata": {},
   "outputs": [],
   "source": [
    "train_df = train_df.set_index(['LCLid','timestamp']).join(auto_stat_target).reset_index()\n",
    "test_df.rename(columns={\"energy_consumption\":\"energy_consumption_auto_stat\"}, inplace=True)"
   ]
  },
  {
   "cell_type": "markdown",
   "id": "2320d66e-e998-4902-9036-f071a73cbfde",
   "metadata": {},
   "source": [
    "### Loading the single step backtesting baselines for validation"
   ]
  },
  {
   "cell_type": "code",
   "execution_count": null,
   "id": "6284f600-fbe6-48e7-9247-7b1ec840e111",
   "metadata": {
    "tags": []
   },
   "outputs": [],
   "source": [
    "baseline_metrics_df = pd.read_pickle(output/\"single_step_backtesting_baseline_metrics_val_df.pkl\")\n",
    "baseline_aggregate_metrics_df = pd.read_pickle(output/\"single_step_backtesting_baseline_aggregate_metrics_val.pkl\")\n",
    "# baseline_metrics_test_df = pd.read_pickle(output/\"single_step_backtesting_baseline_metrics_test_df.pkl\")\n",
    "# baseline_aggregate_metrics_test_df = pd.read_pickle(output/\"single_step_backtesting_baseline_aggregate_metrics_test.pkl\")"
   ]
  },
  {
   "cell_type": "markdown",
   "id": "debe3f31-9081-49ee-beed-b56c040cebc2",
   "metadata": {
    "jp-MarkdownHeadingCollapsed": true,
    "tags": []
   },
   "source": [
    "# Feature Definition"
   ]
  },
  {
   "cell_type": "code",
   "execution_count": null,
   "id": "d230f461-5a87-4955-8c98-a29f7fbba75b",
   "metadata": {},
   "outputs": [],
   "source": [
    "date_col = \"timestamp\"\n",
    "target_col = \"energy_consumption\"\n",
    "index_cols = [date_col]\n",
    "categorical_features= [\n",
    "    'holidays',\n",
    "    'precipType',\n",
    "    'icon',\n",
    "    'summary',\n",
    "    'timestamp_Month',\n",
    "    'timestamp_Quarter',\n",
    "    'timestamp_WeekDay',\n",
    "    'timestamp_Dayofweek',\n",
    "    'timestamp_Dayofyear',\n",
    "    'timestamp_Hour',\n",
    "    'timestamp_Minute',\n",
    "\n",
    "]\n",
    "boolean_features = [\n",
    "    'timestamp_Is_quarter_end',\n",
    "    'timestamp_Is_quarter_start',\n",
    "    'timestamp_Is_year_end',\n",
    "    'timestamp_Is_year_start',\n",
    "    'timestamp_Is_month_start',\n",
    "]\n",
    "continuous_features = [\n",
    " 'visibility',\n",
    " 'windBearing',\n",
    " 'temperature',\n",
    " 'dewPoint',\n",
    " 'pressure',\n",
    " 'apparentTemperature',\n",
    " 'windSpeed',\n",
    " 'humidity',\n",
    " 'energy_consumption_lag_1',\n",
    " 'energy_consumption_lag_2',\n",
    " 'energy_consumption_lag_3',\n",
    " 'energy_consumption_lag_4',\n",
    " 'energy_consumption_lag_5',\n",
    " 'energy_consumption_lag_49',\n",
    " 'energy_consumption_lag_50',\n",
    " 'energy_consumption_lag_51',\n",
    " 'energy_consumption_lag_52',\n",
    " 'energy_consumption_lag_53',\n",
    " 'energy_consumption_rolling_3_mean',\n",
    " 'energy_consumption_rolling_3_std',\n",
    " 'energy_consumption_rolling_6_mean',\n",
    " 'energy_consumption_rolling_6_std',\n",
    " 'energy_consumption_rolling_12_mean',\n",
    " 'energy_consumption_rolling_12_std',\n",
    " 'energy_consumption_rolling_48_mean',\n",
    " 'energy_consumption_rolling_48_std',\n",
    " 'energy_consumption_48_seasonal_rolling_3_mean',\n",
    " 'energy_consumption_48_seasonal_rolling_3_std',\n",
    " 'energy_consumption_336_seasonal_rolling_3_mean',\n",
    " 'energy_consumption_336_seasonal_rolling_3_std',\n",
    " 'energy_consumption_ewma__span_2880',\n",
    " 'energy_consumption_ewma__span_336',\n",
    " 'energy_consumption_ewma__span_48',\n",
    " 'timestamp_Elapsed',\n",
    " 'timestamp_Month_sin_1',\n",
    " 'timestamp_Month_sin_2',\n",
    " 'timestamp_Month_sin_3',\n",
    " 'timestamp_Month_sin_4',\n",
    " 'timestamp_Month_sin_5',\n",
    " 'timestamp_Month_cos_1',\n",
    " 'timestamp_Month_cos_2',\n",
    " 'timestamp_Month_cos_3',\n",
    " 'timestamp_Month_cos_4',\n",
    " 'timestamp_Month_cos_5',\n",
    " 'timestamp_Hour_sin_1',\n",
    " 'timestamp_Hour_sin_2',\n",
    " 'timestamp_Hour_sin_3',\n",
    " 'timestamp_Hour_sin_4',\n",
    " 'timestamp_Hour_sin_5',\n",
    " 'timestamp_Hour_cos_1',\n",
    " 'timestamp_Hour_cos_2',\n",
    " 'timestamp_Hour_cos_3',\n",
    " 'timestamp_Hour_cos_4',\n",
    " 'timestamp_Hour_cos_5',\n",
    " 'timestamp_Minute_sin_1',\n",
    " 'timestamp_Minute_sin_2',\n",
    " 'timestamp_Minute_sin_3',\n",
    " 'timestamp_Minute_sin_4',\n",
    " 'timestamp_Minute_sin_5',\n",
    " 'timestamp_Minute_cos_1',\n",
    " 'timestamp_Minute_cos_2',\n",
    " 'timestamp_Minute_cos_3',\n",
    " 'timestamp_Minute_cos_4',\n",
    " 'timestamp_Minute_cos_5']\n",
    "\n",
    "exogenous_variables = [\n",
    "    'holidays',\n",
    "    'precipType',\n",
    "    'icon',\n",
    "    'summary',\n",
    "    'visibility',\n",
    "    'windBearing',\n",
    "    'temperature',\n",
    "    'dewPoint',\n",
    "    'pressure',\n",
    "    'apparentTemperature',\n",
    "    'windSpeed',\n",
    "    'humidity',\n",
    "]\n",
    "\n",
    "feature_list = categorical_features+continuous_features+boolean_features\n",
    "\n",
    "assert target_col not in feature_list\n",
    "assert date_col not in feature_list\n",
    "assert len(set(exogenous_variables)-set(feature_list)) == 0\n",
    "assert np.all([col in feature_list+[target_col, date_col] for col in index_cols])\n",
    "dropped_columns = set(train_df.columns) - set(feature_list+[target_col, date_col])\n",
    "print(f\"Columns not being used: {dropped_columns}\")"
   ]
  },
  {
   "cell_type": "markdown",
   "id": "17af55e0-6b45-403e-a3a1-4bdaff23b280",
   "metadata": {
    "jp-MarkdownHeadingCollapsed": true,
    "tags": []
   },
   "source": [
    "# Feature and Target Preparation"
   ]
  },
  {
   "cell_type": "code",
   "execution_count": null,
   "id": "8241eaa0-5390-41df-8794-1864fa4a3393",
   "metadata": {},
   "outputs": [],
   "source": [
    "def get_X_y(df, categorical=False, exogenous=False):\n",
    "    feature_list = continuous_features\n",
    "    if categorical:\n",
    "        feature_list += categorical_features\n",
    "    if not exogenous:\n",
    "        feature_list = list(set(feature_list)-set(exogenous_variables))\n",
    "    return df.loc[:, feature_list+index_cols].set_index(index_cols), df.loc[:, [target_col]+index_cols].set_index(index_cols)"
   ]
  },
  {
   "cell_type": "markdown",
   "id": "e0547317-b2d4-4e80-855e-9f9a177087c1",
   "metadata": {
    "tags": []
   },
   "source": [
    "# Sample Household"
   ]
  },
  {
   "cell_type": "code",
   "execution_count": null,
   "id": "b9c465f1-6a30-4119-b673-a60236e20275",
   "metadata": {},
   "outputs": [],
   "source": [
    "train_features, train_target = get_X_y(train_df.loc[train_df.LCLid==\"MAC000193\",:], categorical=False, exogenous=False)\n",
    "#Loading the Validation as test\n",
    "test_features, test_target = get_X_y(test_df.loc[test_df.LCLid==\"MAC000193\",:], categorical=False, exogenous=False)"
   ]
  },
  {
   "cell_type": "markdown",
   "id": "26327070-5ebf-4648-bfcb-951eca45e5d7",
   "metadata": {
    "tags": []
   },
   "source": [
    "# Missing Value Handling"
   ]
  },
  {
   "cell_type": "markdown",
   "id": "bbc19bb7-6477-4821-8d0b-300d115d32cf",
   "metadata": {
    "tags": []
   },
   "source": [
    "## Null check"
   ]
  },
  {
   "cell_type": "code",
   "execution_count": null,
   "id": "34e44aa9-8f06-465d-a07b-279f923f11f7",
   "metadata": {},
   "outputs": [],
   "source": [
    "nc = train_features.isnull().sum()\n",
    "nc[nc>0]"
   ]
  },
  {
   "cell_type": "code",
   "execution_count": null,
   "id": "94f7375c-b378-4213-95db-57ac7ed5733b",
   "metadata": {},
   "outputs": [],
   "source": [
    "nc = test_features.isnull().sum()\n",
    "nc[nc>0]"
   ]
  },
  {
   "cell_type": "code",
   "execution_count": null,
   "id": "3d3e9165-37a2-4737-8b00-9c7e8a070a22",
   "metadata": {},
   "outputs": [],
   "source": [
    "bfill_cols=['energy_consumption_lag_1',\n",
    " 'energy_consumption_lag_2',\n",
    " 'energy_consumption_lag_3',\n",
    " 'energy_consumption_lag_4',\n",
    " 'energy_consumption_lag_5',\n",
    " 'energy_consumption_lag_49',\n",
    " 'energy_consumption_lag_50',\n",
    " 'energy_consumption_lag_51',\n",
    " 'energy_consumption_lag_52',\n",
    " 'energy_consumption_lag_53',\n",
    " 'energy_consumption_rolling_3_mean',\n",
    " 'energy_consumption_rolling_3_std',\n",
    " 'energy_consumption_rolling_6_mean',\n",
    " 'energy_consumption_rolling_6_std',\n",
    " 'energy_consumption_rolling_12_mean',\n",
    " 'energy_consumption_rolling_12_std',\n",
    " 'energy_consumption_rolling_48_mean',\n",
    " 'energy_consumption_rolling_48_std',\n",
    " 'energy_consumption_48_seasonal_rolling_3_mean',\n",
    " 'energy_consumption_48_seasonal_rolling_3_std',\n",
    " 'energy_consumption_336_seasonal_rolling_3_mean',\n",
    " 'energy_consumption_336_seasonal_rolling_3_std',\n",
    " 'energy_consumption_ewma__span_2880',\n",
    " 'energy_consumption_ewma__span_336',\n",
    " 'energy_consumption_ewma__span_48']\n",
    "zero_fill_cols = []\n",
    "\n",
    "def impute_missing_values(df):\n",
    "    df = df.copy()\n",
    "    df[bfill_cols] = df[bfill_cols].fillna(method=\"bfill\")\n",
    "    df[zero_fill_cols] = df[zero_fill_cols].fillna(0)\n",
    "    # Filling with mean as default fillna strategy\n",
    "    return df.fillna(df.mean())"
   ]
  },
  {
   "cell_type": "markdown",
   "id": "a3f58137-48c8-4a7a-b459-5579612385bf",
   "metadata": {
    "tags": []
   },
   "source": [
    "# Running ML models on a Sample household"
   ]
  },
  {
   "cell_type": "code",
   "execution_count": null,
   "id": "4ea10c3c-bee4-41a3-9c2e-4fd6e6e23ab7",
   "metadata": {},
   "outputs": [],
   "source": [
    "pred_df = pd.concat([train_target, test_target])\n",
    "metric_record = []"
   ]
  },
  {
   "cell_type": "code",
   "execution_count": null,
   "id": "77272044-bc61-46b9-9b46-9ca42c88aa61",
   "metadata": {},
   "outputs": [],
   "source": [
    "metric_record+=baseline_metrics_df.loc[baseline_metrics_df.LCLid==\"MAC000193\"].drop(columns=\"LCLid\").to_dict(orient=\"records\")"
   ]
  },
  {
   "cell_type": "code",
   "execution_count": null,
   "id": "a33dad86-f9d5-49be-a0a5-d0b50f7ed991",
   "metadata": {},
   "outputs": [],
   "source": [
    "metric_record"
   ]
  },
  {
   "cell_type": "code",
   "execution_count": null,
   "id": "1ea5e27d-2c57-4303-97e5-f3ffc19322cc",
   "metadata": {},
   "outputs": [],
   "source": [
    "def intersect_list(list1, list2):\n",
    "    return list(set(list1).intersection(set(list2)))\n",
    "\n",
    "def subtract_list(list1, list2):\n",
    "    return list(set(list1)- set(list2))\n",
    "\n",
    "def union_list(list1, list2):\n",
    "    return list(set(list1).union(set(list2)))"
   ]
  },
  {
   "cell_type": "code",
   "execution_count": null,
   "id": "afc505af-8858-4ff8-8809-1bfcc0712621",
   "metadata": {},
   "outputs": [],
   "source": [
    "def eval_model(model, train_features, train_target, test_features, test_target, name=None, fit_kwargs={}, normalize=True, fill_missing=True):\n",
    "    if name is None:\n",
    "        name = type(model).__name__\n",
    "    if fill_missing:\n",
    "        train_features = impute_missing_values(train_features)\n",
    "        test_features = impute_missing_values(test_features)\n",
    "    else:\n",
    "        train_features = train_features.copy()\n",
    "        test_features = test_features.copy()\n",
    "    if normalize:\n",
    "        scaler=StandardScaler()\n",
    "        cont_cols =intersect_list(continuous_features, train_features.columns)\n",
    "        train_features[cont_cols] = scaler.fit_transform(train_features[cont_cols])\n",
    "        test_features[cont_cols] = scaler.transform(test_features[cont_cols])\n",
    "    model.fit(train_features, train_target.values.ravel(), **fit_kwargs)\n",
    "    if hasattr(model, \"coef_\") or hasattr(model, \"feature_importances_\"):\n",
    "        feat_df = pd.DataFrame({\"feature\":train_features.columns,\"importance\":model.coef_.ravel() if hasattr(model, \"coef_\") else model.feature_importances_.ravel()})\n",
    "        feat_df[\"_abs_imp\"] = np.abs(feat_df.importance)\n",
    "        feat_df = feat_df.sort_values(\"_abs_imp\", ascending=False).drop(columns=\"_abs_imp\")\n",
    "    else:\n",
    "        feat_df = pd.DataFrame()\n",
    "    y_pred = model.predict(test_features)\n",
    "    y_pred = pd.Series(y_pred.ravel(), index=test_target.index, name=name)\n",
    "    return y_pred, {\n",
    "        \"Algorithm\": name,\n",
    "        \"MAE\": darts_metrics_adapter(mae, actual_series = test_target, pred_series = y_pred),\n",
    "        \"MSE\": darts_metrics_adapter(mse, actual_series = test_target, pred_series = y_pred),\n",
    "        \"MASE\": darts_metrics_adapter(mase, actual_series = test_target, pred_series = y_pred, insample=train_target),\n",
    "        \"Forecast Bias\": darts_metrics_adapter(forecast_bias, actual_series = test_target, pred_series = y_pred)\n",
    "    }, feat_df"
   ]
  },
  {
   "cell_type": "code",
   "execution_count": null,
   "id": "b742039b-fdbf-418b-a37c-e6815205f0e3",
   "metadata": {},
   "outputs": [],
   "source": [
    "from itertools import cycle\n",
    "def plot_forecast(pred_df, forecast_columns, forecast_display_names=None):\n",
    "    if forecast_display_names is None:\n",
    "        forecast_display_names = forecast_columns\n",
    "    else:\n",
    "        assert len(forecast_columns)==len(forecast_display_names)\n",
    "    mask = ~pred_df[forecast_columns[0]].isnull()\n",
    "    colors = [\"rgba(\"+\",\".join([str(c) for c in plotting_utils.hex_to_rgb(c)])+\",<alpha>)\" for c in px.colors.qualitative.Plotly]\n",
    "    act_color = colors[0]\n",
    "    colors = cycle(colors[1:])\n",
    "    fig = go.Figure()\n",
    "    fig.add_trace(go.Scatter(x=pred_df[mask].index, y=pred_df[mask].energy_consumption,\n",
    "                        mode='lines', line = dict(color=act_color.replace(\"<alpha>\", \"0.9\")),\n",
    "                        name='Actual Consumption'))\n",
    "    for col, display_col in zip(forecast_columns,forecast_display_names):\n",
    "        fig.add_trace(go.Scatter(x=pred_df[mask].index, y=pred_df.loc[mask, col],\n",
    "                            mode='lines', line = dict(dash='dot', color=next(colors).replace(\"<alpha>\", \"1\")),\n",
    "                            name=display_col))\n",
    "    return fig"
   ]
  },
  {
   "cell_type": "markdown",
   "id": "b2952da7-8f29-4917-a9e7-38587e75471c",
   "metadata": {
    "tags": []
   },
   "source": [
    "## Linear Models"
   ]
  },
  {
   "cell_type": "code",
   "execution_count": null,
   "id": "e2450814-97e9-41a4-ba4f-406c87b5f3ce",
   "metadata": {},
   "outputs": [],
   "source": [
    "from sklearn.linear_model import LinearRegression, RidgeCV, LassoCV"
   ]
  },
  {
   "cell_type": "markdown",
   "id": "a9ba1476-5dff-4973-b794-c7892ae3897a",
   "metadata": {},
   "source": [
    "### Linear Regression"
   ]
  },
  {
   "cell_type": "code",
   "execution_count": null,
   "id": "cedfbab9-ce9d-4cd1-9506-5836243984e4",
   "metadata": {},
   "outputs": [],
   "source": [
    "name = \"Linear Regression\"\n",
    "model = LinearRegression()\n",
    "with LogTime() as timer:\n",
    "    y_pred, metrics, feat_df = eval_model(model, train_features, train_target, test_features, test_target, name=name, normalize=True, fill_missing=True)\n",
    "metrics['Time Elapsed'] = timer.elapsed\n",
    "metric_record.append(metrics)\n",
    "pred_df = pred_df.join(y_pred)"
   ]
  },
  {
   "cell_type": "code",
   "execution_count": null,
   "id": "5e761119-0fa1-4529-802e-b8fd56bc0196",
   "metadata": {},
   "outputs": [],
   "source": [
    "fig = plot_forecast(pred_df, forecast_columns=[name], forecast_display_names=[name])\n",
    "fig = format_plot(fig, title=f\"{name}: MAE: {metrics['MAE']:.4f} | MSE: {metrics['MSE']:.4f} | MASE: {metrics['MASE']:.4f} | Bias: {metrics['Forecast Bias']:.4f}\")\n",
    "fig.update_xaxes(type=\"date\", range=[\"2014-01-01\", \"2014-01-08\"])\n",
    "fig.write_image(\"imgs/chapter_7/lin_reg.png\")\n",
    "fig.show()"
   ]
  },
  {
   "cell_type": "code",
   "execution_count": null,
   "id": "2712e919-23c8-44c3-9369-ca96cde11465",
   "metadata": {},
   "outputs": [],
   "source": [
    "fig = px.bar(feat_df.head(15), x=\"feature\", y=\"importance\")\n",
    "format_plot(fig, xlabel=\"Features\", ylabel=\"Importance\", title=f\"Feature Importance - {name}\")\n",
    "fig.write_image(\"imgs/chapter_7/lin_reg_fimp.png\")\n",
    "fig.show()"
   ]
  },
  {
   "cell_type": "markdown",
   "id": "4963d26a-80c6-44e2-b704-aca762b20c9b",
   "metadata": {},
   "source": [
    "### Ridge Regression (L2)"
   ]
  },
  {
   "cell_type": "code",
   "execution_count": null,
   "id": "ba86e9f0-04a0-4e32-ac17-3c7478ae174e",
   "metadata": {},
   "outputs": [],
   "source": [
    "name = \"Ridge Regression\"\n",
    "model = RidgeCV()\n",
    "with LogTime() as timer:\n",
    "    y_pred, metrics, feat_df = eval_model(model, train_features, train_target, test_features, test_target, name=name, normalize=True, fill_missing=True)\n",
    "metrics['Time Elapsed'] = timer.elapsed\n",
    "metric_record.append(metrics)\n",
    "pred_df = pred_df.join(y_pred)"
   ]
  },
  {
   "cell_type": "code",
   "execution_count": null,
   "id": "9d837910-dbe5-4dbe-8654-38f720effb18",
   "metadata": {},
   "outputs": [],
   "source": [
    "fig = plot_forecast(pred_df, forecast_columns=[name], forecast_display_names=['name'])\n",
    "fig = format_plot(fig, title=f\"{name}: MAE: {metrics['MAE']:.4f} | MSE: {metrics['MSE']:.4f} | MASE: {metrics['MASE']:.4f} | Bias: {metrics['Forecast Bias']:.4f}\")\n",
    "fig.update_xaxes(type=\"date\", range=[\"2014-01-01\", \"2014-01-08\"])\n",
    "fig.write_image(\"imgs/chapter_7/ridge_reg.png\")\n",
    "fig.show()"
   ]
  },
  {
   "cell_type": "code",
   "execution_count": null,
   "id": "1421e4d7-79b1-401a-8078-39e5be22cba6",
   "metadata": {},
   "outputs": [],
   "source": [
    "fig = px.bar(feat_df.head(15), x=\"feature\", y=\"importance\")\n",
    "format_plot(fig, xlabel=\"Features\", ylabel=\"Importance\", title=f\"Feature Importance - {name}\")\n",
    "fig.write_image(\"imgs/chapter_7/ridge_reg_fimp.png\")\n",
    "fig.show()"
   ]
  },
  {
   "cell_type": "markdown",
   "id": "04ff045e-b46a-4a43-b35a-9a8cb3c32c63",
   "metadata": {},
   "source": [
    "### Lasso Regression (L1)"
   ]
  },
  {
   "cell_type": "code",
   "execution_count": null,
   "id": "bb00e2e7-3154-407c-9209-a9361f6b45db",
   "metadata": {},
   "outputs": [],
   "source": [
    "name = \"Lasso Regression\"\n",
    "model = LassoCV()\n",
    "with LogTime() as timer:\n",
    "    y_pred, metrics, feat_df = eval_model(model, train_features, train_target, test_features, test_target, name=name, normalize=True, fill_missing=True)\n",
    "metrics['Time Elapsed'] = timer.elapsed\n",
    "metric_record.append(metrics)\n",
    "pred_df = pred_df.join(y_pred)"
   ]
  },
  {
   "cell_type": "code",
   "execution_count": null,
   "id": "f28ba4a2-e4d1-4019-9382-2c848f7fece3",
   "metadata": {},
   "outputs": [],
   "source": [
    "fig = plot_forecast(pred_df, forecast_columns=[name], forecast_display_names=['name'])\n",
    "fig = format_plot(fig, title=f\"{name}: MAE: {metrics['MAE']:.4f} | MSE: {metrics['MSE']:.4f} | MASE: {metrics['MASE']:.4f} | Bias: {metrics['Forecast Bias']:.4f}\")\n",
    "fig.update_xaxes(type=\"date\", range=[\"2014-01-01\", \"2014-01-08\"])\n",
    "fig.write_image(\"imgs/chapter_7/lasso_reg.png\")\n",
    "fig.show()"
   ]
  },
  {
   "cell_type": "code",
   "execution_count": null,
   "id": "c9d512ec-17b2-44df-a817-1cdbecb0779e",
   "metadata": {},
   "outputs": [],
   "source": [
    "fig = px.bar(feat_df.head(15), x=\"feature\", y=\"importance\")\n",
    "format_plot(fig, xlabel=\"Features\", ylabel=\"Importance\", title=f\"Feature Importance - {name}\")\n",
    "fig.write_image(\"imgs/chapter_7/lasso_reg_fimp.png\")\n",
    "fig.show()"
   ]
  },
  {
   "cell_type": "markdown",
   "id": "6e0af470-4b6b-4c18-b563-97d426eccf2c",
   "metadata": {},
   "source": [
    "## Decision Tree"
   ]
  },
  {
   "cell_type": "code",
   "execution_count": null,
   "id": "00711fd1-4281-47a3-8afa-bf55fe9bdeba",
   "metadata": {},
   "outputs": [],
   "source": [
    "from sklearn.tree import DecisionTreeRegressor"
   ]
  },
  {
   "cell_type": "code",
   "execution_count": null,
   "id": "c68a60f1-375d-43d0-a2b0-6ea4b2047df4",
   "metadata": {},
   "outputs": [],
   "source": [
    "name = \"Decision Tree\"\n",
    "model = DecisionTreeRegressor(max_depth = 4, random_state=42)\n",
    "with LogTime() as timer:\n",
    "    y_pred, metrics, feat_df = eval_model(model, train_features, train_target, test_features, test_target, name=name, normalize=True, fill_missing=True)\n",
    "metrics['Time Elapsed'] = timer.elapsed\n",
    "metric_record.append(metrics)\n",
    "pred_df = pred_df.join(y_pred)"
   ]
  },
  {
   "cell_type": "code",
   "execution_count": null,
   "id": "bf9ca6bf-767d-43ab-8074-be1304e10536",
   "metadata": {},
   "outputs": [],
   "source": [
    "fig = plot_forecast(pred_df, forecast_columns=[name], forecast_display_names=[name])\n",
    "fig = format_plot(fig, title=f\"{name}: MAE: {metrics['MAE']:.4f} | MSE: {metrics['MSE']:.4f} | MASE: {metrics['MASE']:.4f} | Bias: {metrics['Forecast Bias']:.4f}\")\n",
    "fig.update_xaxes(type=\"date\", range=[\"2014-01-01\", \"2014-01-08\"])\n",
    "fig.write_image(\"imgs/chapter_7/dtree.png\")\n",
    "fig.show()"
   ]
  },
  {
   "cell_type": "code",
   "execution_count": null,
   "id": "fef90d4e-c126-4950-8f28-d64772601292",
   "metadata": {},
   "outputs": [],
   "source": [
    "fig = px.bar(feat_df.head(15), x=\"feature\", y=\"importance\")\n",
    "format_plot(fig, xlabel=\"Features\", ylabel=\"Importance\", title=f\"Feature Importance - {name}\")\n",
    "fig.write_image(\"imgs/chapter_7/dtree_fimp.png\")\n",
    "fig.show()"
   ]
  },
  {
   "cell_type": "markdown",
   "id": "c3754c42-cfc9-4353-a881-da061d47d711",
   "metadata": {},
   "source": [
    "## Bagging and Boosting Trees"
   ]
  },
  {
   "cell_type": "markdown",
   "id": "a427be35-83ba-400f-8902-3afd32ab68d5",
   "metadata": {},
   "source": [
    "### Random Forest"
   ]
  },
  {
   "cell_type": "code",
   "execution_count": null,
   "id": "d37571e2-1556-4a77-bf49-ce8a709bdb35",
   "metadata": {},
   "outputs": [],
   "source": [
    "from sklearn.ensemble import RandomForestRegressor"
   ]
  },
  {
   "cell_type": "code",
   "execution_count": null,
   "id": "8b2becf8-e935-421d-a38c-fa62be2957d6",
   "metadata": {},
   "outputs": [],
   "source": [
    "name = \"Random Forest\"\n",
    "model = RandomForestRegressor(random_state=42, max_depth=4)\n",
    "with LogTime() as timer:\n",
    "    y_pred, metrics, feat_df = eval_model(model, train_features, train_target, test_features, test_target, name=name, normalize=False, fill_missing=True)\n",
    "metrics['Time Elapsed'] = timer.elapsed\n",
    "metric_record.append(metrics)\n",
    "pred_df = pred_df.join(y_pred)"
   ]
  },
  {
   "cell_type": "code",
   "execution_count": null,
   "id": "2a40cb9f-b9ec-4ff4-8828-652922819449",
   "metadata": {},
   "outputs": [],
   "source": [
    "fig = plot_forecast(pred_df, forecast_columns=[name], forecast_display_names=[name])\n",
    "fig = format_plot(fig, title=f\"{name}: MAE: {metrics['MAE']:.4f} | MSE: {metrics['MSE']:.4f} | MASE: {metrics['MASE']:.4f} | Bias: {metrics['Forecast Bias']:.4f}\")\n",
    "fig.update_xaxes(type=\"date\", range=[\"2014-01-01\", \"2014-01-08\"])\n",
    "fig.write_image(\"imgs/chapter_7/rf.png\")\n",
    "fig.show()"
   ]
  },
  {
   "cell_type": "code",
   "execution_count": null,
   "id": "cbb16b9d-002c-4e33-bcc5-c2744b924cf3",
   "metadata": {},
   "outputs": [],
   "source": [
    "fig = px.bar(feat_df.head(15), x=\"feature\", y=\"importance\")\n",
    "format_plot(fig, xlabel=\"Features\", ylabel=\"Importance\", title=f\"Feature Importance - {name}\")\n",
    "fig.write_image(\"imgs/chapter_7/rf_fimp.png\")\n",
    "fig.show()"
   ]
  },
  {
   "cell_type": "markdown",
   "id": "760673e6-abc4-49ad-a76e-ba4a068f9909",
   "metadata": {},
   "source": [
    "### XGBoost Random Forest"
   ]
  },
  {
   "cell_type": "code",
   "execution_count": null,
   "id": "2da7863a-63d2-4768-8759-6288b763cafa",
   "metadata": {},
   "outputs": [],
   "source": [
    "from xgboost import XGBRFRegressor"
   ]
  },
  {
   "cell_type": "code",
   "execution_count": null,
   "id": "6a359e92-71a0-469c-8407-1d574dbd83f2",
   "metadata": {},
   "outputs": [],
   "source": [
    "name = \"XGB Random Forest\"\n",
    "model = XGBRFRegressor(random_state=42, max_depth=4)\n",
    "with LogTime() as timer:\n",
    "    y_pred, metrics, feat_df = eval_model(model, train_features, train_target, test_features, test_target, name=name, normalize=False, fill_missing=True)\n",
    "metrics['Time Elapsed'] = timer.elapsed\n",
    "metric_record.append(metrics)\n",
    "pred_df = pred_df.join(y_pred)"
   ]
  },
  {
   "cell_type": "code",
   "execution_count": null,
   "id": "c289c057-ad2d-404b-a54e-c31a81f0af17",
   "metadata": {},
   "outputs": [],
   "source": [
    "fig = plot_forecast(pred_df, forecast_columns=[name], forecast_display_names=[name])\n",
    "fig = format_plot(fig, title=f\"{name}: MAE: {metrics['MAE']:.4f} | MSE: {metrics['MSE']:.4f} | MASE: {metrics['MASE']:.4f} | Bias: {metrics['Forecast Bias']:.4f}\")\n",
    "fig.update_xaxes(type=\"date\", range=[\"2014-01-01\", \"2014-01-08\"])\n",
    "fig.write_image(\"imgs/chapter_7/xgbrf.png\")\n",
    "fig.show()"
   ]
  },
  {
   "cell_type": "code",
   "execution_count": null,
   "id": "d3f90d47-6df8-4cdb-8c34-150cd0f41935",
   "metadata": {},
   "outputs": [],
   "source": [
    "fig = px.bar(feat_df.head(15), x=\"feature\", y=\"importance\")\n",
    "format_plot(fig, xlabel=\"Features\", ylabel=\"Importance\", title=f\"Feature Importance - {name}\")\n",
    "fig.write_image(\"imgs/chapter_7/xgbrf_fimp.png\")\n",
    "fig.show()"
   ]
  },
  {
   "cell_type": "markdown",
   "id": "8c0eca47-d48b-4468-80b2-9ef3fc20f8f6",
   "metadata": {},
   "source": [
    "### LightGBM"
   ]
  },
  {
   "cell_type": "code",
   "execution_count": null,
   "id": "ab52bdfe-f4f1-4ea5-abf8-ffdfcd633800",
   "metadata": {},
   "outputs": [],
   "source": [
    "from lightgbm import LGBMRegressor"
   ]
  },
  {
   "cell_type": "code",
   "execution_count": null,
   "id": "f149e0d7-7f0f-4dd1-af1e-c381dbada69c",
   "metadata": {},
   "outputs": [],
   "source": [
    "name = \"LightGBM\"\n",
    "model = LGBMRegressor(random_state=42)\n",
    "with LogTime() as timer:\n",
    "    y_pred, metrics, feat_df = eval_model(model, train_features, train_target, test_features, test_target, name=name, normalize=False, fill_missing=True)\n",
    "metrics['Time Elapsed'] = timer.elapsed\n",
    "metric_record.append(metrics)\n",
    "pred_df = pred_df.join(y_pred)"
   ]
  },
  {
   "cell_type": "code",
   "execution_count": null,
   "id": "01004c00-152d-4906-a979-37aadbf927b3",
   "metadata": {},
   "outputs": [],
   "source": [
    "fig = plot_forecast(pred_df, forecast_columns=[name], forecast_display_names=[name])\n",
    "fig = format_plot(fig, title=f\"{name}: MAE: {metrics['MAE']:.4f} | MSE: {metrics['MSE']:.4f} | MASE: {metrics['MASE']:.4f} | Bias: {metrics['Forecast Bias']:.4f}\")\n",
    "fig.update_xaxes(type=\"date\", range=[\"2014-01-01\", \"2014-01-08\"])\n",
    "fig.write_image(\"imgs/chapter_7/lgbm.png\")\n",
    "fig.show()"
   ]
  },
  {
   "cell_type": "code",
   "execution_count": null,
   "id": "ef3d745f-87fe-40d2-b645-93080fd1fef1",
   "metadata": {},
   "outputs": [],
   "source": [
    "fig = px.bar(feat_df.head(15), x=\"feature\", y=\"importance\")\n",
    "format_plot(fig, xlabel=\"Features\", ylabel=\"Importance\", title=f\"Feature Importance - {name}\")\n",
    "fig.write_image(\"imgs/chapter_7/lgbm_fimp.png\")\n",
    "fig.show()"
   ]
  },
  {
   "cell_type": "markdown",
   "id": "55428bc2-b17a-4492-bc89-03c48119664e",
   "metadata": {},
   "source": [
    "## Summary"
   ]
  },
  {
   "cell_type": "code",
   "execution_count": null,
   "id": "36d7d0f4-1f29-4a19-b39b-f6caac498e0b",
   "metadata": {},
   "outputs": [],
   "source": [
    "def highlight_abs_min(s, props=''):\n",
    "    return np.where(s == np.nanmin(np.abs(s.values)), props, '')\n",
    "\n",
    "formatted = pd.DataFrame(metric_record).style.format({\"MAE\": \"{:.3f}\", \n",
    "                          \"MSE\": \"{:.3f}\", \n",
    "                          \"MASE\": \"{:.3f}\", \n",
    "                          \"Forecast Bias\": \"{:.2f}%\"})\n",
    "formatted.highlight_min(color='lightgreen', subset=[\"MAE\",\"MSE\",\"MASE\"]).apply(highlight_abs_min, props='color:black;background-color:lightgreen', axis=0, subset=['Forecast Bias'])"
   ]
  },
  {
   "cell_type": "markdown",
   "id": "783e372f-6459-49cc-b2d1-640c6b2b5401",
   "metadata": {
    "jp-MarkdownHeadingCollapsed": true,
    "tags": []
   },
   "source": [
    "# Running ML Forecast for all consumers"
   ]
  },
  {
   "cell_type": "markdown",
   "id": "3c24cf01-6f27-41a9-a065-14b2229c98c4",
   "metadata": {},
   "source": [
    "Running Lasso Regression, XGB Random Forest, and LightGBM"
   ]
  },
  {
   "cell_type": "code",
   "execution_count": null,
   "id": "866a7bbe-621b-4c6a-8fd9-75a60ca5fd81",
   "metadata": {},
   "outputs": [],
   "source": [
    "from sklearn.base import clone\n",
    "from collections import namedtuple"
   ]
  },
  {
   "cell_type": "code",
   "execution_count": null,
   "id": "366fe44b-bbb7-46e0-a898-2b9b5e0bba04",
   "metadata": {},
   "outputs": [],
   "source": [
    "lcl_ids = sorted(train_df.LCLid.unique())\n",
    "\n",
    "model_tuple = namedtuple(\"Model\", [\"name\", \"model\", \"normalize\", \"fill_missing\", \"encode_categorical\"])\n",
    "models_to_run = [\n",
    "    model_tuple(\"Lasso\", LassoCV(random_state=42), True, True, True),\n",
    "    model_tuple(\"XGBRandomForest\", XGBRFRegressor(random_state=42), False, True, True),\n",
    "    model_tuple(\"LightGBM\", LGBMRegressor(random_state=42), False, True, False),\n",
    "]"
   ]
  },
  {
   "cell_type": "code",
   "execution_count": null,
   "id": "fb50d352-fb06-47d8-b54a-a32d26034120",
   "metadata": {
    "tags": []
   },
   "outputs": [],
   "source": [
    "all_preds = []\n",
    "all_metrics = []\n",
    "#We can parallelize this loop to run this faster\n",
    "for lcl_id in tqdm(lcl_ids):\n",
    "    for model in models_to_run:\n",
    "        _model = clone(model.model)\n",
    "        X_train, y_train = get_X_y(train_df.loc[train_df.LCLid==lcl_id,:], categorical=False, exogenous=False)\n",
    "        X_test, y_test = get_X_y(test_df.loc[test_df.LCLid==lcl_id,:], categorical=False, exogenous=False)\n",
    "        y_pred, metrics, feat_df = eval_model(_model, X_train, y_train, X_test, y_test, name=model.name, normalize=model.normalize, fill_missing=model.fill_missing)\n",
    "        y_pred.name = \"predictions\"\n",
    "        y_pred = y_pred.to_frame()\n",
    "        y_pred['LCLid'] = lcl_id\n",
    "        y_pred['Algorithm'] = model.name\n",
    "        metrics[\"LCLid\"] = lcl_id\n",
    "        metrics[\"Algorithm\"] = model.name\n",
    "        y_pred['energy_consumption'] = y_test.values\n",
    "        all_preds.append(y_pred)\n",
    "        all_metrics.append(metrics)"
   ]
  },
  {
   "cell_type": "code",
   "execution_count": null,
   "id": "5ef397c8-d658-48e7-91e1-224319042e57",
   "metadata": {},
   "outputs": [],
   "source": [
    "pred_df = pd.concat(all_preds)\n",
    "pred_df.head()"
   ]
  },
  {
   "cell_type": "code",
   "execution_count": null,
   "id": "be827e9e-a406-4ee8-8fd8-9923f1c8bda7",
   "metadata": {},
   "outputs": [],
   "source": [
    "metrics_df = pd.DataFrame(all_metrics)\n",
    "metrics_df.head()"
   ]
  },
  {
   "cell_type": "markdown",
   "id": "e5e51169-e983-44f0-97b0-c39d988ce549",
   "metadata": {
    "tags": []
   },
   "source": [
    "# Evaluation of ML Forecast"
   ]
  },
  {
   "cell_type": "code",
   "execution_count": null,
   "id": "e288dfc0-63a6-422e-8dde-a436bacb22cc",
   "metadata": {},
   "outputs": [],
   "source": [
    "from src.utils import ts_utils"
   ]
  },
  {
   "cell_type": "code",
   "execution_count": null,
   "id": "40cab8d2-3a10-4eff-a580-4a849f2eb44b",
   "metadata": {},
   "outputs": [],
   "source": [
    "baseline_aggregate_metrics_df"
   ]
  },
  {
   "cell_type": "code",
   "execution_count": null,
   "id": "64157814-0544-485a-bdcc-d97f4ae9e0ed",
   "metadata": {},
   "outputs": [],
   "source": [
    "metrics = baseline_aggregate_metrics_df.reset_index().rename(columns={\"index\":\"Algorithm\"}).to_dict(orient=\"records\")"
   ]
  },
  {
   "cell_type": "code",
   "execution_count": null,
   "id": "3ca44213-d681-4d4d-bd23-fcd4e32e491c",
   "metadata": {},
   "outputs": [],
   "source": [
    "\n",
    "for model in models_to_run:\n",
    "    pred_mask = pred_df.Algorithm==model.name\n",
    "    metric_mask = metrics_df.Algorithm==model.name\n",
    "    metrics.append({\n",
    "    \"Algorithm\": model.name,\n",
    "    \"MAE\": ts_utils.mae(pred_df.loc[pred_mask,\"energy_consumption\"], pred_df.loc[pred_mask,\"predictions\"]),\n",
    "    \"MSE\": ts_utils.mse(pred_df.loc[pred_mask,\"energy_consumption\"], pred_df.loc[pred_mask,\"predictions\"]),\n",
    "    \"meanMASE\": metrics_df.loc[metric_mask, \"MASE\"].mean(),\n",
    "    \"Forecast Bias\": ts_utils.forecast_bias_aggregate(pred_df.loc[pred_mask,\"energy_consumption\"], pred_df.loc[pred_mask,\"predictions\"])\n",
    "})"
   ]
  },
  {
   "cell_type": "code",
   "execution_count": null,
   "id": "08744668-4986-43f1-b744-fd5ad49353c4",
   "metadata": {},
   "outputs": [],
   "source": [
    "agg_metrics_df = pd.DataFrame(metrics)\n",
    "agg_metrics_df.style.format({\"MAE\": \"{:.3f}\", \n",
    "                          \"MSE\": \"{:.3f}\", \n",
    "                          \"meanMASE\": \"{:.3f}\", \n",
    "                          \"Forecast Bias\": \"{:.2f}%\"}).highlight_min(color='lightgreen', subset=[\"MAE\",\"MSE\",\"meanMASE\"]).apply(highlight_abs_min, props='color:black;background-color:lightgreen', axis=0, subset=['Forecast Bias'])"
   ]
  },
  {
   "cell_type": "code",
   "execution_count": null,
   "id": "9d164184-dca3-4472-a138-c260019eeb68",
   "metadata": {},
   "outputs": [],
   "source": [
    "fig = px.histogram(metrics_df, \n",
    "                   x=\"MASE\", \n",
    "                   color=\"Algorithm\",\n",
    "                   pattern_shape=\"Algorithm\", \n",
    "                   marginal=\"box\", \n",
    "                   nbins=500, \n",
    "                   barmode=\"overlay\",\n",
    "                   histnorm=\"probability density\")\n",
    "fig = format_plot(fig, xlabel=\"MASE\", ylabel=\"Probability Density\", title=\"Distribution of MASE in the dataset\")\n",
    "fig.update_layout(xaxis_range=[0,2.5])\n",
    "fig.write_image(\"imgs/chapter_7/mase_dist.png\")\n",
    "fig.show()"
   ]
  },
  {
   "cell_type": "code",
   "execution_count": null,
   "id": "05599872-81eb-406c-b096-cece0d153817",
   "metadata": {},
   "outputs": [],
   "source": [
    "fig = px.histogram(metrics_df, \n",
    "                   x=\"MAE\", \n",
    "                   color=\"Algorithm\",\n",
    "                   pattern_shape=\"Algorithm\", \n",
    "                   marginal=\"box\", \n",
    "                   nbins=100, \n",
    "                   barmode=\"overlay\",\n",
    "                   histnorm=\"probability density\")\n",
    "fig = format_plot(fig, xlabel=\"MAE\", ylabel=\"Probability Density\", title=\"Distribution of MAE in the dataset\")\n",
    "fig.write_image(\"imgs/chapter_7/mae_dist.png\")\n",
    "fig.update_layout(xaxis_range=[0,0.4])\n",
    "fig.show()"
   ]
  },
  {
   "cell_type": "code",
   "execution_count": null,
   "id": "9e89266e-ab40-4f44-9461-ec0c755c6a61",
   "metadata": {},
   "outputs": [],
   "source": [
    "fig = px.histogram(metrics_df, \n",
    "                   x=\"MSE\", \n",
    "                   color=\"Algorithm\",\n",
    "                   pattern_shape=\"Algorithm\", \n",
    "                   marginal=\"box\", \n",
    "                   nbins=500, \n",
    "                   barmode=\"overlay\",\n",
    "                   histnorm=\"probability density\")\n",
    "fig = format_plot(fig, xlabel=\"MSE\", ylabel=\"Probability Density\", title=\"Distribution of MSE in the dataset\")\n",
    "fig.update_layout(xaxis_range=[0,0.3])\n",
    "fig.write_image(\"imgs/chapter_7/mse_dist.png\")\n",
    "fig.show()"
   ]
  },
  {
   "cell_type": "code",
   "execution_count": null,
   "id": "2695707d-1e83-4289-9aea-859bbf83586c",
   "metadata": {},
   "outputs": [],
   "source": [
    "fig = px.histogram(metrics_df, \n",
    "                   x=\"Forecast Bias\", \n",
    "                   color=\"Algorithm\",\n",
    "                   pattern_shape=\"Algorithm\", \n",
    "                   marginal=\"box\", \n",
    "                   nbins=250,\n",
    "                   barmode=\"overlay\",\n",
    "                   histnorm=\"probability density\")\n",
    "fig = format_plot(fig, xlabel=\"Forecast Bias\", ylabel=\"Probability Density\", title=\"Distribution of Forecast Bias in the dataset\")\n",
    "fig.update_layout(xaxis_range=[-50,30])\n",
    "fig.write_image(\"imgs/chapter_7/bias_dist.png\")\n",
    "fig.show()"
   ]
  },
  {
   "cell_type": "markdown",
   "id": "8563e46a-8c50-4ae4-8321-2a36e9d104d8",
   "metadata": {
    "tags": []
   },
   "source": [
    "# Saving the Baseline Forecasts and Metrics"
   ]
  },
  {
   "cell_type": "code",
   "execution_count": null,
   "id": "330d2005-faba-44da-89a9-29b088758998",
   "metadata": {},
   "outputs": [],
   "source": [
    "os.makedirs(\"data/london_smart_meters/output\", exist_ok=True)\n",
    "output = Path(\"data/london_smart_meters/output\")"
   ]
  },
  {
   "cell_type": "code",
   "execution_count": null,
   "id": "b3505b8f-21cb-4dd3-8396-4f05ec6ee973",
   "metadata": {},
   "outputs": [],
   "source": [
    "pred_df.to_pickle(output/\"ml_single_step_prediction_auto_stationary_val_df.pkl\")\n",
    "metrics_df.to_pickle(output/\"ml_single_step_metrics_auto_stationary_val_df.pkl\")\n",
    "agg_metrics_df.to_pickle(output/\"ml_single_step_aggregate_metrics_auto_stationary_val.pkl\")"
   ]
  }
 ],
 "metadata": {
  "kernelspec": {
   "display_name": "Python 3 (ipykernel)",
   "language": "python",
   "name": "python3"
  },
  "language_info": {
   "codemirror_mode": {
    "name": "ipython",
    "version": 3
   },
   "file_extension": ".py",
   "mimetype": "text/x-python",
   "name": "python",
   "nbconvert_exporter": "python",
   "pygments_lexer": "ipython3",
   "version": "3.9.0"
  },
  "varInspector": {
   "cols": {
    "lenName": 16,
    "lenType": 16,
    "lenVar": 40
   },
   "kernels_config": {
    "python": {
     "delete_cmd_postfix": "",
     "delete_cmd_prefix": "del ",
     "library": "var_list.py",
     "varRefreshCmd": "print(var_dic_list())"
    },
    "r": {
     "delete_cmd_postfix": ") ",
     "delete_cmd_prefix": "rm(",
     "library": "var_list.r",
     "varRefreshCmd": "cat(var_dic_list()) "
    }
   },
   "types_to_exclude": [
    "module",
    "function",
    "builtin_function_or_method",
    "instance",
    "_Feature"
   ],
   "window_display": false
  }
 },
 "nbformat": 4,
 "nbformat_minor": 5
}
