{
 "cells": [
  {
   "cell_type": "code",
   "execution_count": 1,
   "id": "1c696685-98bc-4cd1-8792-8f6b250ab956",
   "metadata": {},
   "outputs": [
    {
     "name": "stdout",
     "output_type": "stream",
     "text": [
      "C:\\Users\\ManuJoseph\\OneDrive - Thoucentric\\Work\\Projects\\Playground\\AdvancedTimeSeriesForecastingBook\\Github\\Modern-Time-Series-Forecasting-with-Python-\n"
     ]
    }
   ],
   "source": [
    "%cd ../.."
   ]
  },
  {
   "cell_type": "code",
   "execution_count": 2,
   "id": "94bfdac4-3813-4ec0-8817-aef3b09932a4",
   "metadata": {},
   "outputs": [
    {
     "name": "stderr",
     "output_type": "stream",
     "text": [
      "C:\\Users\\ManuJoseph\\OneDrive - Thoucentric\\Work\\Projects\\Playground\\AdvancedTimeSeriesForecastingBook\\Github\\Modern-Time-Series-Forecasting-with-Python-\\src\\utils\\data_utils.py:6: TqdmExperimentalWarning: Using `tqdm.autonotebook.tqdm` in notebook mode. Use `tqdm.tqdm` instead to force console mode (e.g. in jupyter console)\n",
      "  from tqdm.autonotebook import tqdm\n"
     ]
    }
   ],
   "source": [
    "import os\n",
    "import shutil\n",
    "\n",
    "import joblib\n",
    "import numpy as np\n",
    "import pandas as pd\n",
    "import plotly.express as px\n",
    "import plotly.graph_objects as go\n",
    "import plotly.io as pio\n",
    "pio.templates.default = \"plotly_white\"\n",
    "\n",
    "from pathlib import Path\n",
    "\n",
    "from src.forecasting.ml_forecasting import (\n",
    "    MissingValueConfig,\n",
    "    calculate_metrics,\n",
    ")\n",
    "from src.utils import plotting_utils\n",
    "from tqdm.autonotebook import tqdm\n",
    "from src.forecasting.ml_forecasting import calculate_metrics\n",
    "from src.utils import ts_utils\n",
    "\n",
    "%load_ext autoreload\n",
    "%autoreload 2\n",
    "np.random.seed(42)\n",
    "tqdm.pandas()"
   ]
  },
  {
   "cell_type": "code",
   "execution_count": 3,
   "id": "3fe3dbd6-c494-455b-a2bb-573bc634c627",
   "metadata": {},
   "outputs": [],
   "source": [
    "os.makedirs(\"imgs/chapter_14\", exist_ok=True)\n",
    "preprocessed = Path(\"data/london_smart_meters/preprocessed\")\n",
    "output = Path(\"data/london_smart_meters/output\")\n",
    "TRAIN_SUBSAMPLE = True"
   ]
  },
  {
   "cell_type": "markdown",
   "id": "1e9b4a30-c264-499a-b767-cedc511faf52",
   "metadata": {
    "tags": []
   },
   "source": [
    "## Utility Functions"
   ]
  },
  {
   "cell_type": "code",
   "execution_count": 4,
   "id": "cf53a95c-0b8b-45d9-8e2b-d657dddedc29",
   "metadata": {},
   "outputs": [],
   "source": [
    "def format_plot(fig, legends=None, xlabel=\"Time\", ylabel=\"Value\", title=\"\", font_size=15):\n",
    "    if legends:\n",
    "        names = cycle(legends)\n",
    "        fig.for_each_trace(lambda t: t.update(name=next(names)))\n",
    "    fig.update_layout(\n",
    "        autosize=False,\n",
    "        width=900,\n",
    "        height=500,\n",
    "        title_text=title,\n",
    "        title={\"x\": 0.5, \"xanchor\": \"center\", \"yanchor\": \"top\"},\n",
    "        titlefont={\"size\": 20},\n",
    "        legend_title=None,\n",
    "        legend=dict(\n",
    "            font=dict(size=font_size),\n",
    "            orientation=\"h\",\n",
    "            yanchor=\"bottom\",\n",
    "            y=0.98,\n",
    "            xanchor=\"right\",\n",
    "            x=1,\n",
    "        ),\n",
    "        yaxis=dict(\n",
    "            title_text=ylabel,\n",
    "            titlefont=dict(size=font_size),\n",
    "            tickfont=dict(size=font_size),\n",
    "        ),\n",
    "        xaxis=dict(\n",
    "            title_text=xlabel,\n",
    "            titlefont=dict(size=font_size),\n",
    "            tickfont=dict(size=font_size),\n",
    "        )\n",
    "    )\n",
    "    return fig"
   ]
  },
  {
   "cell_type": "code",
   "execution_count": 175,
   "id": "d5c15835-d868-4284-83d4-e842d7eedd8b",
   "metadata": {
    "tags": []
   },
   "outputs": [],
   "source": [
    "from itertools import cycle\n",
    "\n",
    "\n",
    "def plot_forecast(pred_df, forecast_columns, forecast_display_names=None):\n",
    "    if forecast_display_names is None:\n",
    "        forecast_display_names = forecast_columns\n",
    "    else:\n",
    "        assert len(forecast_columns) == len(forecast_display_names)\n",
    "    mask = ~pred_df[forecast_columns[0]].isnull()\n",
    "    colors = [\n",
    "        \"rgba(\" + \",\".join([str(c) for c in plotting_utils.hex_to_rgb(c)]) + \",<alpha>)\"\n",
    "        for c in px.colors.qualitative.Plotly\n",
    "    ]\n",
    "    act_color = colors[0]\n",
    "    colors = cycle(colors[1:])\n",
    "    fig = go.Figure()\n",
    "    fig.add_trace(\n",
    "        go.Scatter(\n",
    "            x=pred_df[mask].index,\n",
    "            y=pred_df[mask].energy_consumption,\n",
    "            mode=\"lines\",\n",
    "            line=dict(color=act_color.replace(\"<alpha>\", \"0.9\")),\n",
    "            name=\"Actual Consumption\",\n",
    "        )\n",
    "    )\n",
    "    for col, display_col in zip(forecast_columns, forecast_display_names):\n",
    "        fig.add_trace(\n",
    "            go.Scatter(\n",
    "                x=pred_df[mask].index,\n",
    "                y=pred_df.loc[mask, col],\n",
    "                mode=\"lines\",\n",
    "                line=dict(dash=\"dot\", color=next(colors).replace(\"<alpha>\", \"1\")),\n",
    "                name=display_col,\n",
    "            )\n",
    "        )\n",
    "    return fig\n",
    "\n",
    "def highlight_abs_min(s, props=''):\n",
    "    return np.where(s.abs() == np.nanmin(np.abs(s.values)), props, '')\n",
    "\n",
    "def evaluate_forecast(pred_df, train_data, fc_column, name, target_name=\"energy_consumption\"):\n",
    "    metric_l = []\n",
    "    for _id in tqdm(pred_df.index.get_level_values(0).unique(), desc=\"Calculating metrics...\"):\n",
    "        target = pred_df.xs(_id)[[target_name]]\n",
    "        _y_pred = pred_df.xs(_id)[[fc_column]]\n",
    "        history = train_data.xs(_id)[[target_name]]\n",
    "        # display(history.tail())\n",
    "        # display(_y_pred.head())\n",
    "        # display(target.head())\n",
    "        metric_l.append(\n",
    "            calculate_metrics(target, _y_pred, name=name, y_train=history)\n",
    "        )\n",
    "    eval_metrics_df = pd.DataFrame(metric_l)\n",
    "    agg_metrics = {\n",
    "            \"Algorithm\": name,\n",
    "            \"MAE\": np.nanmean(np.abs(pred_df[fc_column]-pred_df[target_name])),\n",
    "            \"MSE\": np.nanmean(np.power(pred_df[fc_column]-pred_df[target_name], 2)),\n",
    "            \"meanMASE\": eval_metrics_df.loc[:, \"MASE\"].mean(),\n",
    "            \"Forecast Bias\": 100*(np.nansum(pred_df[fc_column])-np.nansum(pred_df[target_name]))/np.nansum(pred_df[target_name])\n",
    "    }\n",
    "    return agg_metrics, eval_metrics_df\n",
    "\n",
    "from pytorch_lightning.utilities.cloud_io import load as pl_load\n",
    "\n",
    "def load_weights(model, weight_path):\n",
    "    state_dict = pl_load(weight_path)\n",
    "    model.load_state_dict(state_dict)"
   ]
  },
  {
   "cell_type": "code",
   "execution_count": 6,
   "id": "9806f8e4-9f66-41ff-894c-cbf27045a7b6",
   "metadata": {},
   "outputs": [],
   "source": [
    "from collections import namedtuple\n",
    "\n",
    "FeatureConfig = namedtuple(\n",
    "    \"FeatureConfig\",\n",
    "    [\n",
    "        \"target\",\n",
    "        \"index_cols\",\n",
    "        \"static_categoricals\",\n",
    "        \"static_reals\",\n",
    "        \"time_varying_known_categoricals\",\n",
    "        \"time_varying_known_reals\",\n",
    "        \"time_varying_unknown_reals\",\n",
    "        \"group_ids\"\n",
    "    ],\n",
    ")"
   ]
  },
  {
   "cell_type": "markdown",
   "id": "e2d116bb-3924-4c83-94d6-530df0d1b8f8",
   "metadata": {
    "tags": []
   },
   "source": [
    "## Reading the data"
   ]
  },
  {
   "cell_type": "code",
   "execution_count": 7,
   "id": "415a63e4-408e-4ebd-864e-091dba77ba01",
   "metadata": {},
   "outputs": [],
   "source": [
    "#Reading the missing value imputed and train test split data\n",
    "train_df = pd.read_parquet(preprocessed/\"selected_blocks_train_missing_imputed_feature_engg.parquet\")\n",
    "# Read in the Validation dataset as test_df so that we predict on it\n",
    "test_df = pd.read_parquet(preprocessed/\"selected_blocks_val_missing_imputed_feature_engg.parquet\")\n",
    "# test_df = pd.read_parquet(preprocessed/\"selected_blocks_test_missing_imputed_feature_engg.parquet\")"
   ]
  },
  {
   "cell_type": "code",
   "execution_count": 8,
   "id": "cc656a09-6164-4671-96f0-0699681c3161",
   "metadata": {},
   "outputs": [],
   "source": [
    "# To run on smaller set of data for faster iteration.\n",
    "if TRAIN_SUBSAMPLE:\n",
    "    SAMPLE = 10\n",
    "    sampled_LCLids = pd.Series(train_df.LCLid.unique().remove_unused_categories().categories).sample(SAMPLE, random_state=99).tolist()\n",
    "    train_df = train_df.loc[train_df.LCLid.isin(sampled_LCLids)]\n",
    "    test_df = test_df.loc[test_df.LCLid.isin(sampled_LCLids)]"
   ]
  },
  {
   "cell_type": "markdown",
   "id": "f2715dd9-2eaa-4d4a-bac1-9a1f392fb2ee",
   "metadata": {
    "tags": []
   },
   "source": [
    "## Defining the different features"
   ]
  },
  {
   "cell_type": "code",
   "execution_count": 9,
   "id": "5b37505e-5275-448a-8b3b-7d045c3505f7",
   "metadata": {},
   "outputs": [],
   "source": [
    "feat_config = FeatureConfig(\n",
    "    target=\"energy_consumption\",\n",
    "    index_cols=[\"LCLid\", \"timestamp\"],\n",
    "    static_categoricals=[\n",
    "        \"LCLid\",\n",
    "        \"stdorToU\",\n",
    "        \"Acorn\",\n",
    "        \"Acorn_grouped\",\n",
    "        \"file\",\n",
    "    ],  # Categoricals which does not change with time\n",
    "    static_reals=[],  # Reals which does not change with time\n",
    "    time_varying_known_categoricals=[  # Categoricals which change with time\n",
    "        \"holidays\",\n",
    "        \"timestamp_Dayofweek\",\n",
    "    ],\n",
    "    time_varying_known_reals=[  # Reals which change with time\n",
    "        \"apparentTemperature\",\n",
    "    ],  \n",
    "    time_varying_unknown_reals=[  # Reals which change with time, but we don't have the future. Like the target\n",
    "        \"energy_consumption\"\n",
    "    ],  \n",
    "    group_ids=[  # Feature or list of features which uniquely identifies each entity\n",
    "        \"LCLid\"\n",
    "    ],  \n",
    ")"
   ]
  },
  {
   "cell_type": "markdown",
   "id": "f76544a8-045d-45e0-9ca8-de39bca1da5b",
   "metadata": {
    "tags": []
   },
   "source": [
    "### Creating a continuous time index for PyTorch Forecasting"
   ]
  },
  {
   "cell_type": "code",
   "execution_count": 10,
   "id": "ff08cafc-9adf-41f7-aba1-9a7526f0774e",
   "metadata": {},
   "outputs": [],
   "source": [
    "# Combining train and test with a flag\n",
    "train_df['train'] = True\n",
    "test_df['train'] = False\n",
    "data = pd.concat([train_df, test_df])\n",
    "del train_df, test_df\n",
    "# Adding the time index\n",
    "data['time_idx'] = data.timestamp.apply(lambda x: x.value)\n",
    "diff = data.iloc[1]['time_idx'] - data.iloc[0]['time_idx']\n",
    "data[\"_min_time_idx\"] = data.groupby(\"LCLid\", observed=True)['time_idx'].transform(\"min\")\n",
    "data['time_idx'] = ((data['time_idx']-data['_min_time_idx'])/diff).astype(int)\n",
    "data.drop(columns=\"_min_time_idx\", inplace=True)\n",
    "# separating to train and test\n",
    "train_df = data.loc[data.train]\n",
    "test_df = data.loc[~data.train]\n",
    "del data"
   ]
  },
  {
   "cell_type": "markdown",
   "id": "8c2b1470-40ee-49af-a29e-17a44bad2fc5",
   "metadata": {
    "tags": []
   },
   "source": [
    "### Converting the categoricals to Category dtype"
   ]
  },
  {
   "cell_type": "code",
   "execution_count": 11,
   "id": "1be41828-5877-456b-ab0a-736852a84695",
   "metadata": {},
   "outputs": [],
   "source": [
    "train_df[\n",
    "    feat_config.static_categoricals + feat_config.time_varying_known_categoricals\n",
    "] = train_df[\n",
    "    feat_config.static_categoricals + feat_config.time_varying_known_categoricals\n",
    "].astype(\n",
    "    \"object\"\n",
    ")\n",
    "\n",
    "test_df[\n",
    "    feat_config.static_categoricals + feat_config.time_varying_known_categoricals\n",
    "] = test_df[\n",
    "    feat_config.static_categoricals + feat_config.time_varying_known_categoricals\n",
    "].astype(\n",
    "    \"object\"\n",
    ")"
   ]
  },
  {
   "cell_type": "markdown",
   "id": "55015911-fe45-477e-a509-ba0fae3c071a",
   "metadata": {
    "tags": []
   },
   "source": [
    "### Handling Missing Values"
   ]
  },
  {
   "cell_type": "code",
   "execution_count": 12,
   "id": "c39b19fc-cff1-4aa4-a346-1958922d18ea",
   "metadata": {},
   "outputs": [
    {
     "data": {
      "text/plain": [
       "pressure                                          True\n",
       "energy_consumption_lag_1                          True\n",
       "energy_consumption_lag_2                          True\n",
       "energy_consumption_lag_3                          True\n",
       "energy_consumption_lag_4                          True\n",
       "energy_consumption_lag_5                          True\n",
       "energy_consumption_lag_46                         True\n",
       "energy_consumption_lag_47                         True\n",
       "energy_consumption_lag_48                         True\n",
       "energy_consumption_lag_49                         True\n",
       "energy_consumption_lag_50                         True\n",
       "energy_consumption_lag_334                        True\n",
       "energy_consumption_lag_335                        True\n",
       "energy_consumption_lag_336                        True\n",
       "energy_consumption_lag_337                        True\n",
       "energy_consumption_lag_338                        True\n",
       "energy_consumption_rolling_3_mean                 True\n",
       "energy_consumption_rolling_3_std                  True\n",
       "energy_consumption_rolling_6_mean                 True\n",
       "energy_consumption_rolling_6_std                  True\n",
       "energy_consumption_rolling_12_mean                True\n",
       "energy_consumption_rolling_12_std                 True\n",
       "energy_consumption_rolling_48_mean                True\n",
       "energy_consumption_rolling_48_std                 True\n",
       "energy_consumption_48_seasonal_rolling_3_mean     True\n",
       "energy_consumption_48_seasonal_rolling_3_std      True\n",
       "energy_consumption_336_seasonal_rolling_3_mean    True\n",
       "energy_consumption_336_seasonal_rolling_3_std     True\n",
       "dtype: bool"
      ]
     },
     "execution_count": 12,
     "metadata": {},
     "output_type": "execute_result"
    }
   ],
   "source": [
    "#Checking missing values\n",
    "n = train_df.isna().any()\n",
    "n[n]"
   ]
  },
  {
   "cell_type": "code",
   "execution_count": 13,
   "id": "221e3353-5d1a-4747-a349-66dbd39ba182",
   "metadata": {},
   "outputs": [],
   "source": [
    "# We aren't using any of these features. So let it be"
   ]
  },
  {
   "cell_type": "markdown",
   "id": "24118217-9f80-4017-924d-9cc2f7e156f9",
   "metadata": {},
   "source": [
    "# Training Global Models"
   ]
  },
  {
   "cell_type": "code",
   "execution_count": 14,
   "id": "1f885fc4-8d75-4e82-a7f9-5dd16688e7e4",
   "metadata": {},
   "outputs": [
    {
     "name": "stderr",
     "output_type": "stream",
     "text": [
      "Global seed set to 42\n"
     ]
    }
   ],
   "source": [
    "import pytorch_lightning as pl\n",
    "pl.seed_everything(42)\n",
    "import torch\n",
    "\n",
    "from pytorch_forecasting import TimeSeriesDataSet\n",
    "from pytorch_forecasting.data import GroupNormalizer\n",
    "from pytorch_forecasting.metrics import RMSE, MAE"
   ]
  },
  {
   "cell_type": "code",
   "execution_count": 15,
   "id": "d6db1b45-25db-444b-8a6d-b35e301a80df",
   "metadata": {},
   "outputs": [],
   "source": [
    "# # Load the TensorBoard notebook extension\n",
    "# %load_ext tensorboard\n",
    "# os.makedirs(\"lightning_logs\", exist_ok=True)\n",
    "# %tensorboard --logdir lightning_logs/\n",
    "\n",
    "# Or start the tensorboard in a separate command prompt/terminal using\n",
    "# tensorboard --logdir lightning_logs/"
   ]
  },
  {
   "cell_type": "markdown",
   "id": "0f26ace8-0934-43b7-a272-cc2784f89276",
   "metadata": {
    "tags": []
   },
   "source": [
    "### Config"
   ]
  },
  {
   "cell_type": "code",
   "execution_count": 16,
   "id": "111ced86-ec78-4b4a-a7b5-b41fef55c03d",
   "metadata": {},
   "outputs": [],
   "source": [
    "max_prediction_length = 1\n",
    "max_encoder_length = 48*2\n",
    "batch_size = 512  # set this to a value which your GPU can handle\n",
    "train_model = False # Set this to True to train model. Else will load saved models"
   ]
  },
  {
   "cell_type": "code",
   "execution_count": 17,
   "id": "a0fd2576-8aff-458f-af8a-d2f2365dbdd3",
   "metadata": {},
   "outputs": [],
   "source": [
    "metric_record = []\n",
    "individual_metrics = dict()"
   ]
  },
  {
   "cell_type": "markdown",
   "id": "0f09ae16-1fed-45f4-a66d-f356f0ef0d06",
   "metadata": {
    "tags": []
   },
   "source": [
    "### Creating dataframes for train, val and test"
   ]
  },
  {
   "cell_type": "code",
   "execution_count": 18,
   "id": "342b92be-1a8c-4ce6-9dc2-f14b2aa103fe",
   "metadata": {},
   "outputs": [
    {
     "data": {
      "text/plain": [
       "(Timestamp('2013-12-31 23:30:00'), Timestamp('2014-01-01 00:00:00'))"
      ]
     },
     "execution_count": 18,
     "metadata": {},
     "output_type": "execute_result"
    }
   ],
   "source": [
    "train_df.timestamp.max(), test_df.timestamp.min()"
   ]
  },
  {
   "cell_type": "code",
   "execution_count": 19,
   "id": "26b1d390-51b2-4050-94c7-311afe7df792",
   "metadata": {},
   "outputs": [
    {
     "name": "stdout",
     "output_type": "stream",
     "text": [
      "History Min: 2013-12-30 00:00:00 | Max: 2013-12-31 23:30:00 | Length: 96\n"
     ]
    }
   ],
   "source": [
    "#Adding 2 days of history (48*2) to create the samples\n",
    "history_cutoff = train_df.timestamp.max() - pd.Timedelta(2, \"D\")\n",
    "hist_df = train_df[train_df.timestamp>history_cutoff]\n",
    "print(f\"History Min: {hist_df.timestamp.min()} | Max: {hist_df.timestamp.max()} | Length: {len(hist_df.timestamp.unique())}\")"
   ]
  },
  {
   "cell_type": "code",
   "execution_count": 20,
   "id": "644006c3-d659-4dd7-95e7-c932c1ccb686",
   "metadata": {},
   "outputs": [
    {
     "name": "stdout",
     "output_type": "stream",
     "text": [
      "Split Timestamps:\n",
      "Train Max: 2013-12-30 23:30:00 | Val History Min and Max: (Timestamp('2013-12-28 23:30:00'), Timestamp('2013-12-30 23:30:00')) | Val Min and Max: (Timestamp('2013-12-31 00:00:00'), Timestamp('2013-12-31 23:30:00'))\n",
      "Val History Size: 97 | Val Size: 48\n"
     ]
    }
   ],
   "source": [
    "#Keeping 1 days aside as a validation set\n",
    "cutoff = train_df.timestamp.max() - pd.Timedelta(1, \"D\")\n",
    "#Adding 2 days of history (48*2) to create the samples\n",
    "history_cutoff = train_df.timestamp.max() - pd.Timedelta(3, \"D\")\n",
    "val_history = train_df[(train_df.timestamp>=history_cutoff)&(train_df.timestamp<=cutoff)].reset_index(drop=True)\n",
    "val_df = train_df[train_df.timestamp>cutoff].reset_index(drop=True)\n",
    "train_df = train_df[train_df.timestamp<=cutoff].reset_index(drop=True)\n",
    "print(\"Split Timestamps:\")\n",
    "print(f\"Train Max: {train_df.timestamp.max()} | Val History Min and Max: {val_history.timestamp.min(), val_history.timestamp.max()} | Val Min and Max: {val_df.timestamp.min(), val_df.timestamp.max()}\")\n",
    "print(f\"Val History Size: {len(val_history.timestamp.unique())} | Val Size: {len(val_df.timestamp.unique())}\")"
   ]
  },
  {
   "cell_type": "code",
   "execution_count": 21,
   "id": "8271fe02-6b1e-4857-b7e9-2e3e4f8d40c4",
   "metadata": {},
   "outputs": [],
   "source": [
    "pred_df = test_df[feat_config.index_cols+[feat_config.target]+['time_idx']].copy()\n",
    "# pred_df.set_index(feat_config.index_cols, inplace=True)"
   ]
  },
  {
   "cell_type": "code",
   "execution_count": 22,
   "id": "c119fd2c-ceeb-46e7-a9d0-40fc49186167",
   "metadata": {},
   "outputs": [],
   "source": [
    "cols = feat_config.index_cols + [feat_config.target]\n",
    "full_df = pd.concat(\n",
    "    [\n",
    "        train_df[cols],\n",
    "        val_df[cols],\n",
    "    ]\n",
    ").set_index(feat_config.index_cols)"
   ]
  },
  {
   "cell_type": "markdown",
   "id": "8ae32af6-ada8-4301-9afe-54776a17fb9a",
   "metadata": {
    "tags": []
   },
   "source": [
    "## Baseline\n",
    "\n",
    "Using just the history of the time series"
   ]
  },
  {
   "cell_type": "code",
   "execution_count": 23,
   "id": "deac0b52-709c-4425-9322-cbe3bda1ea81",
   "metadata": {},
   "outputs": [],
   "source": [
    "tag = \"simple\""
   ]
  },
  {
   "cell_type": "markdown",
   "id": "066650ee-e2d6-485c-b1f6-5549b7a466cc",
   "metadata": {},
   "source": [
    "### Converting data into TimeSeriesDataset from PyTorch Forecasting"
   ]
  },
  {
   "cell_type": "code",
   "execution_count": 24,
   "id": "e312c5ad-9b02-450f-a3c6-931e918a2f8d",
   "metadata": {},
   "outputs": [],
   "source": [
    "# Defining the training dataset\n",
    "training = TimeSeriesDataSet(\n",
    "    train_df,\n",
    "    time_idx=\"time_idx\",\n",
    "    target=feat_config.target,\n",
    "    group_ids=feat_config.group_ids,\n",
    "    max_encoder_length=max_encoder_length,\n",
    "    max_prediction_length=max_prediction_length,\n",
    "    time_varying_unknown_reals=[\n",
    "        \"energy_consumption\",\n",
    "    ],\n",
    "    target_normalizer=GroupNormalizer(\n",
    "        groups=feat_config.group_ids, transformation=None\n",
    "    )\n",
    ")\n",
    "# Defining the validation dataset with the same parameters as training\n",
    "validation = TimeSeriesDataSet.from_dataset(training, pd.concat([val_history,val_df]).reset_index(drop=True), stop_randomization=True)\n",
    "# Defining the test dataset with the same parameters as training\n",
    "test = TimeSeriesDataSet.from_dataset(training, pd.concat([hist_df, test_df]).reset_index(drop=True), stop_randomization=True)"
   ]
  },
  {
   "cell_type": "code",
   "execution_count": 25,
   "id": "f82e3fd6-8041-40ae-b0b9-608abe7bd75c",
   "metadata": {},
   "outputs": [],
   "source": [
    "# Making the dataloaders\n",
    "# num_workers can be increased in linux to speed-up training\n",
    "train_dataloader = training.to_dataloader(train=True, batch_size=batch_size, num_workers=0)\n",
    "val_dataloader = validation.to_dataloader(train=False, batch_size=batch_size, num_workers=0)"
   ]
  },
  {
   "cell_type": "code",
   "execution_count": 26,
   "id": "db1506f5-1100-4edb-8868-7a7cca134aa0",
   "metadata": {},
   "outputs": [
    {
     "name": "stdout",
     "output_type": "stream",
     "text": [
      "\n",
      "sizes of x =\n",
      "\tencoder_cat = torch.Size([512, 96, 0])\n",
      "\tencoder_cont = torch.Size([512, 96, 1])\n",
      "\tencoder_target = torch.Size([512, 96])\n",
      "\tencoder_lengths = torch.Size([512])\n",
      "\tdecoder_cat = torch.Size([512, 1, 0])\n",
      "\tdecoder_cont = torch.Size([512, 1, 1])\n",
      "\tdecoder_target = torch.Size([512, 1])\n",
      "\tdecoder_lengths = torch.Size([512])\n",
      "\tdecoder_time_idx = torch.Size([512, 1])\n",
      "\tgroups = torch.Size([512, 1])\n",
      "\ttarget_scale = torch.Size([512, 2])\n",
      "\n",
      "size of y =\n",
      "\ty = torch.Size([512, 1])\n"
     ]
    }
   ],
   "source": [
    "# Testing the dataloader\n",
    "x, y = next(iter(train_dataloader))\n",
    "print(\"\\nsizes of x =\")\n",
    "for key, value in x.items():\n",
    "    print(f\"\\t{key} = {value.size()}\")\n",
    "print(\"\\nsize of y =\")\n",
    "print(f\"\\ty = {y[0].size()}\")"
   ]
  },
  {
   "cell_type": "markdown",
   "id": "db207603-dcf8-4d03-aa29-2b2fce662826",
   "metadata": {},
   "source": [
    "### Creating the Model"
   ]
  },
  {
   "cell_type": "code",
   "execution_count": 27,
   "id": "cc0d756f-588b-4ee8-a41f-8025e41a5573",
   "metadata": {},
   "outputs": [],
   "source": [
    "# Importing the skeleton and helper models from src\n",
    "from src.dl.ptf_models import SingleStepRNN, SingleStepRNNModel"
   ]
  },
  {
   "cell_type": "markdown",
   "id": "ac65e4fc-1115-4d2e-9136-ac2ce02433a5",
   "metadata": {},
   "source": [
    "**The helper model which is a custom PyTorch Forecasting model is as below:**\n",
    "\n",
    "It is designed for simple RNN based forecasting, which is what we will be using to show different strategies of global modelling\n",
    "```python\n",
    "class SingleStepRNNModel(BaseModel):\n",
    "    def __init__(self, network_callable: Callable, model_params: Dict, **kwargs):\n",
    "        # saves arguments in signature to `.hparams` attribute, mandatory call - do not skip this\n",
    "        self.save_hyperparameters(model_params)\n",
    "        # pass additional arguments to BaseModel.__init__, mandatory call - do not skip this\n",
    "        super().__init__(**kwargs)\n",
    "        self.network = network_callable(**model_params)\n",
    "\n",
    "    def forward(self, x: Dict[str, torch.Tensor]) -> Dict[str, torch.Tensor]:\n",
    "        prediction = self.network(x)\n",
    "        # rescale predictions into target space\n",
    "        prediction = self.transform_output(prediction, target_scale=x[\"target_scale\"])\n",
    "        # We need to return a dictionary that at least contains the prediction\n",
    "        # The parameter can be directly forwarded from the input.\n",
    "        # The conversion to a named tuple can be directly achieved with the `to_network_output` function.\n",
    "        return self.to_network_output(prediction=prediction)\n",
    "```"
   ]
  },
  {
   "cell_type": "markdown",
   "id": "7557a5df-5c7c-4808-925f-e5ba99ba765a",
   "metadata": {},
   "source": [
    "### Defining the Forward function"
   ]
  },
  {
   "cell_type": "code",
   "execution_count": 28,
   "id": "2d132bf4-f4d1-4821-b870-6c397aa58f6a",
   "metadata": {},
   "outputs": [],
   "source": [
    "from typing import Dict\n",
    "\n",
    "class SimpleRNNModel(SingleStepRNN):\n",
    "    def __init__(\n",
    "        self,\n",
    "        rnn_type: str,\n",
    "        input_size: int,\n",
    "        hidden_size: int,\n",
    "        num_layers: int,\n",
    "        bidirectional: bool,\n",
    "    ):\n",
    "        super().__init__(rnn_type, input_size, hidden_size, num_layers, bidirectional)\n",
    "\n",
    "    def forward(self, x: Dict):\n",
    "        # Using the encoder continuous which has the history window\n",
    "        x = x[\"encoder_cont\"] # x --> (batch_size, seq_len, input_size)\n",
    "        # Processing through the RNN\n",
    "        x, _ = self.rnn(x)  # --> (batch_size, seq_len, hidden_size)\n",
    "        # Using a FC layer on last hidden state\n",
    "        x = self.fc(x[:,-1,:])  # --> (batch_size, seq_len, 1)\n",
    "        return x"
   ]
  },
  {
   "cell_type": "code",
   "execution_count": 29,
   "id": "ebbd9820-c59e-4ffb-a6b7-fd8d33202fcd",
   "metadata": {},
   "outputs": [],
   "source": [
    "model_params = dict(\n",
    "    rnn_type=\"LSTM\",\n",
    "    input_size=len(training.reals),\n",
    "    hidden_size=256, #128\n",
    "    num_layers=2,\n",
    "    bidirectional=False,\n",
    ")\n",
    "other_params = dict(\n",
    "    learning_rate=5e-5,\n",
    "    optimizer=\"adam\",\n",
    "    loss=RMSE(),\n",
    "    logging_metrics=[RMSE(), MAE()],\n",
    ")"
   ]
  },
  {
   "cell_type": "code",
   "execution_count": 30,
   "id": "146fced5-e902-44a0-9841-2c59e698cdc1",
   "metadata": {
    "tags": []
   },
   "outputs": [
    {
     "data": {
      "text/plain": [
       "(pytorch_forecasting.utils.TupleOutputMixIn.to_network_output.<locals>.Output,\n",
       " torch.Size([512, 1]))"
      ]
     },
     "execution_count": 30,
     "metadata": {},
     "output_type": "execute_result"
    }
   ],
   "source": [
    "model = SingleStepRNNModel.from_dataset(\n",
    "    training,\n",
    "    network_callable=SimpleRNNModel,\n",
    "    model_params=model_params,\n",
    "    **other_params\n",
    ")\n",
    "#Testing out the model\n",
    "x, y = next(iter(train_dataloader))\n",
    "_ = model(x)\n",
    "type(_), _.prediction.shape"
   ]
  },
  {
   "cell_type": "code",
   "execution_count": 31,
   "id": "f8637260-9361-4f50-90ba-1ce10d2bdbf3",
   "metadata": {},
   "outputs": [],
   "source": [
    "# model = SingleStepRNNModel.load_from_checkpoint(r\"C:\\\\Users\\\\ManuJoseph\\\\OneDrive - Thoucentric\\\\Work\\\\Projects\\\\Playground\\\\AdvancedTimeSeriesForecastingBook\\\\Github\\\\Modern-Time-Series-Forecasting-with-Python-\\\\lightning_logs\\\\version_21\\\\checkpoints\\\\epoch=9-step=5789.ckpt\")"
   ]
  },
  {
   "cell_type": "markdown",
   "id": "75796f18-565a-481d-934c-4a6558e46017",
   "metadata": {},
   "source": [
    "### Training the model"
   ]
  },
  {
   "cell_type": "code",
   "execution_count": 32,
   "id": "ece81667-ab81-4287-85c3-284baaeb75f2",
   "metadata": {},
   "outputs": [],
   "source": [
    "saved_model_sampled = 'notebooks/Chapter14/saved_weights/baseline_sampled.wt'\n",
    "saved_model_full = 'notebooks/Chapter14/saved_weights/baseline.wt'"
   ]
  },
  {
   "cell_type": "code",
   "execution_count": 33,
   "id": "1d5a93e8-99a2-467a-816f-a3f89ebfd3ee",
   "metadata": {
    "tags": []
   },
   "outputs": [
    {
     "name": "stdout",
     "output_type": "stream",
     "text": [
      "Loading the model from: notebooks/Chapter14/saved_weights/baseline_sampled.wt\n"
     ]
    }
   ],
   "source": [
    "if train_model:\n",
    "    trainer = pl.Trainer(\n",
    "        auto_select_gpus=True,\n",
    "        gpus=-1,\n",
    "        min_epochs=1,\n",
    "        max_epochs=20,\n",
    "        callbacks=[\n",
    "            pl.callbacks.EarlyStopping(monitor=\"val_loss\", patience=2),\n",
    "            pl.callbacks.ModelCheckpoint(\n",
    "                monitor=\"val_loss\", save_last=True, mode=\"min\", auto_insert_metric_name=True\n",
    "            ),\n",
    "        ],\n",
    "        # fast_dev_run=True\n",
    "        # precision = 16\n",
    "    )\n",
    "    trainer.fit(\n",
    "        model,\n",
    "        train_dataloaders=train_dataloader,\n",
    "        val_dataloaders=val_dataloader,\n",
    "    )\n",
    "    #Loading the best model\n",
    "    best_model_path = trainer.checkpoint_callback.best_model_path\n",
    "    best_model = SingleStepRNNModel.load_from_checkpoint(best_model_path)\n",
    "    torch.save(best_model.state_dict(), saved_model_sampled if TRAIN_SUBSAMPLE else saved_model_full)\n",
    "else:\n",
    "    best_model_path = saved_model_sampled if TRAIN_SUBSAMPLE else saved_model_full\n",
    "    load_weights(model, best_model_path)\n",
    "    best_model =  model\n",
    "print(f\"Loading the model from: {best_model_path}\")"
   ]
  },
  {
   "cell_type": "code",
   "execution_count": 34,
   "id": "d3bd05e9-b4f3-4ec8-a39e-6740120237be",
   "metadata": {},
   "outputs": [
    {
     "data": {
      "application/vnd.jupyter.widget-view+json": {
       "model_id": "cf97411b5d9c4edbb448a9900b577d4b",
       "version_major": 2,
       "version_minor": 0
      },
      "text/plain": [
       "Predict:   0%|          | 0/233 [00:00<?, ? batches/s]"
      ]
     },
     "metadata": {},
     "output_type": "display_data"
    },
    {
     "data": {
      "application/vnd.jupyter.widget-view+json": {
       "model_id": "507c5d4c3b384efeb8eb552ecfc36fa4",
       "version_major": 2,
       "version_minor": 0
      },
      "text/plain": [
       "Calculating metrics...:   0%|          | 0/10 [00:00<?, ?it/s]"
      ]
     },
     "metadata": {},
     "output_type": "display_data"
    }
   ],
   "source": [
    "pred, index = best_model.predict(test, return_index=True, show_progress_bar=True)\n",
    "index[tag] = pred\n",
    "pred_df = pred_df.reset_index().merge(index, on=[\"time_idx\",\"LCLid\"], how='left').set_index(feat_config.index_cols)\n",
    "agg_metrics, eval_metrics_df = evaluate_forecast(\n",
    "    pred_df = pred_df,\n",
    "    train_data = full_df,\n",
    "    fc_column=tag,\n",
    "    name=tag,\n",
    ")\n",
    "metric_record.append(agg_metrics)\n",
    "individual_metrics[tag]=eval_metrics_df"
   ]
  },
  {
   "cell_type": "code",
   "execution_count": 35,
   "id": "f0eb2da3-3735-4c07-a20b-37a9fb0c561d",
   "metadata": {},
   "outputs": [
    {
     "data": {
      "text/html": [
       "<div>\n",
       "<style scoped>\n",
       "    .dataframe tbody tr th:only-of-type {\n",
       "        vertical-align: middle;\n",
       "    }\n",
       "\n",
       "    .dataframe tbody tr th {\n",
       "        vertical-align: top;\n",
       "    }\n",
       "\n",
       "    .dataframe thead th {\n",
       "        text-align: right;\n",
       "    }\n",
       "</style>\n",
       "<table border=\"1\" class=\"dataframe\">\n",
       "  <thead>\n",
       "    <tr style=\"text-align: right;\">\n",
       "      <th></th>\n",
       "      <th>Algorithm</th>\n",
       "      <th>MAE</th>\n",
       "      <th>MSE</th>\n",
       "      <th>meanMASE</th>\n",
       "      <th>Forecast Bias</th>\n",
       "    </tr>\n",
       "  </thead>\n",
       "  <tbody>\n",
       "    <tr>\n",
       "      <th>0</th>\n",
       "      <td>simple</td>\n",
       "      <td>0.078654</td>\n",
       "      <td>0.025016</td>\n",
       "      <td>0.931107</td>\n",
       "      <td>-3.707719</td>\n",
       "    </tr>\n",
       "  </tbody>\n",
       "</table>\n",
       "</div>"
      ],
      "text/plain": [
       "  Algorithm       MAE       MSE  meanMASE  Forecast Bias\n",
       "0    simple  0.078654  0.025016  0.931107      -3.707719"
      ]
     },
     "execution_count": 35,
     "metadata": {},
     "output_type": "execute_result"
    }
   ],
   "source": [
    "pd.DataFrame(metric_record)"
   ]
  },
  {
   "cell_type": "markdown",
   "id": "34534674-13b2-4615-9dcc-4f964b7ade37",
   "metadata": {
    "tags": []
   },
   "source": [
    "## Baseline + Time-varying Information\n",
    "\n",
    "Using the history of the time series, static, and time varying features"
   ]
  },
  {
   "cell_type": "code",
   "execution_count": 36,
   "id": "76c27084-ca19-44cc-be36-3087a3c9a510",
   "metadata": {},
   "outputs": [],
   "source": [
    "tag = \"simple+time_varying\""
   ]
  },
  {
   "cell_type": "markdown",
   "id": "7331a570-32a6-459e-8426-c6f958d63658",
   "metadata": {},
   "source": [
    "### Converting data into TimeSeriesDataset from PyTorch Forecasting"
   ]
  },
  {
   "cell_type": "code",
   "execution_count": 37,
   "id": "0b1e23ce-0dff-4fb7-8692-aac753848299",
   "metadata": {},
   "outputs": [],
   "source": [
    "# Defining the training dataset\n",
    "training = TimeSeriesDataSet(\n",
    "    train_df,\n",
    "    time_idx=\"time_idx\",\n",
    "    target=feat_config.target,\n",
    "    group_ids=feat_config.group_ids,\n",
    "    max_encoder_length=max_encoder_length,\n",
    "    max_prediction_length=max_prediction_length,\n",
    "    # static_categoricals=feat_config.static_categoricals,\n",
    "    # static_reals=feat_config.static_reals,\n",
    "    time_varying_known_categoricals=feat_config.time_varying_known_categoricals,\n",
    "    time_varying_known_reals=feat_config.time_varying_known_reals,\n",
    "    time_varying_unknown_reals=[\n",
    "        \"energy_consumption\",\n",
    "    ],\n",
    "    target_normalizer=GroupNormalizer(\n",
    "        groups=feat_config.group_ids, transformation=None\n",
    "    )\n",
    ")\n",
    "# Defining the validation dataset with the same parameters as training\n",
    "validation = TimeSeriesDataSet.from_dataset(training, pd.concat([val_history,val_df]).reset_index(drop=True), stop_randomization=True)\n",
    "# Defining the test dataset with the same parameters as training\n",
    "test = TimeSeriesDataSet.from_dataset(training, pd.concat([hist_df, test_df]).reset_index(drop=True), stop_randomization=True)"
   ]
  },
  {
   "cell_type": "code",
   "execution_count": 38,
   "id": "ba6e644b-db49-44a3-8365-c3d0e699fd15",
   "metadata": {},
   "outputs": [],
   "source": [
    "# Making the dataloaders\n",
    "# num_workers can be increased in linux to speed-up training\n",
    "train_dataloader = training.to_dataloader(train=True, batch_size=batch_size, num_workers=0)\n",
    "val_dataloader = validation.to_dataloader(train=False, batch_size=batch_size, num_workers=0)"
   ]
  },
  {
   "cell_type": "code",
   "execution_count": 39,
   "id": "120e697f-c302-4a16-a495-270193d5a95e",
   "metadata": {},
   "outputs": [
    {
     "name": "stdout",
     "output_type": "stream",
     "text": [
      "\n",
      "sizes of x =\n",
      "\tencoder_cat = torch.Size([512, 96, 2])\n",
      "\tencoder_cont = torch.Size([512, 96, 2])\n",
      "\tencoder_target = torch.Size([512, 96])\n",
      "\tencoder_lengths = torch.Size([512])\n",
      "\tdecoder_cat = torch.Size([512, 1, 2])\n",
      "\tdecoder_cont = torch.Size([512, 1, 2])\n",
      "\tdecoder_target = torch.Size([512, 1])\n",
      "\tdecoder_lengths = torch.Size([512])\n",
      "\tdecoder_time_idx = torch.Size([512, 1])\n",
      "\tgroups = torch.Size([512, 1])\n",
      "\ttarget_scale = torch.Size([512, 2])\n",
      "\n",
      "size of y =\n",
      "\ty = torch.Size([512, 1])\n"
     ]
    }
   ],
   "source": [
    "# Testing the dataloader\n",
    "x, y = next(iter(train_dataloader))\n",
    "print(\"\\nsizes of x =\")\n",
    "for key, value in x.items():\n",
    "    print(f\"\\t{key} = {value.size()}\")\n",
    "print(\"\\nsize of y =\")\n",
    "print(f\"\\ty = {y[0].size()}\")"
   ]
  },
  {
   "cell_type": "markdown",
   "id": "14139027-de44-4f02-a132-426cec49baff",
   "metadata": {},
   "source": [
    "### Creating the Model"
   ]
  },
  {
   "cell_type": "markdown",
   "id": "5d4f81a2-dc1d-455e-a1d2-7978dbe024b5",
   "metadata": {},
   "source": [
    "### Defining the Forward function"
   ]
  },
  {
   "cell_type": "code",
   "execution_count": 40,
   "id": "d0b8ffb6-3a94-4746-92f4-a2003d1b9c41",
   "metadata": {},
   "outputs": [],
   "source": [
    "from typing import Dict\n",
    "\n",
    "class DynamicFeatureRNNModel(SingleStepRNN):\n",
    "    def __init__(\n",
    "        self,\n",
    "        rnn_type: str,\n",
    "        input_size: int,\n",
    "        hidden_size: int,\n",
    "        num_layers: int,\n",
    "        bidirectional: bool,\n",
    "    ):\n",
    "        super().__init__(rnn_type, input_size, hidden_size, num_layers, bidirectional)\n",
    "\n",
    "    def forward(self, x: Dict):\n",
    "        # Using the encoder and decoder sequence (explanation in the book)\n",
    "        x_cont = torch.cat([x[\"encoder_cont\"],x[\"decoder_cont\"]], dim=1)\n",
    "        # Roll target by 1 (explanation in the book)\n",
    "        x_cont[:,:,-1] = torch.roll(x_cont[:,:,-1], 1, dims=1)\n",
    "        x = x_cont\n",
    "        # dropping first timestep (explanation in the book)\n",
    "        x = x[:,1:,:] # x --> (batch_size, seq_len, input_size)\n",
    "        # Processing through the RNN\n",
    "        x, _ = self.rnn(x)  # --> (batch_size, seq_len, hidden_size)\n",
    "        # Using a FC layer on last hidden state\n",
    "        x = self.fc(x[:,-1,:])  # --> (batch_size, seq_len, 1)\n",
    "        return x"
   ]
  },
  {
   "cell_type": "code",
   "execution_count": 41,
   "id": "70bccae1-709e-4c27-a023-397da6da44ce",
   "metadata": {},
   "outputs": [],
   "source": [
    "model_params = dict(\n",
    "    rnn_type=\"LSTM\",\n",
    "    input_size=len(training.reals),\n",
    "    hidden_size=256, #128\n",
    "    num_layers=2,\n",
    "    bidirectional=False,\n",
    ")\n",
    "\n",
    "other_params = dict(\n",
    "    learning_rate=5e-5,\n",
    "    optimizer=\"adam\",\n",
    "    loss=RMSE(),\n",
    "    logging_metrics=[RMSE(), MAE()],\n",
    ")"
   ]
  },
  {
   "cell_type": "code",
   "execution_count": 42,
   "id": "0d03ac7c-ae2d-4a67-b9fa-c7bf036755be",
   "metadata": {
    "tags": []
   },
   "outputs": [
    {
     "data": {
      "text/plain": [
       "(pytorch_forecasting.utils.TupleOutputMixIn.to_network_output.<locals>.Output,\n",
       " torch.Size([512, 1]))"
      ]
     },
     "execution_count": 42,
     "metadata": {},
     "output_type": "execute_result"
    }
   ],
   "source": [
    "model = SingleStepRNNModel.from_dataset(\n",
    "    training,\n",
    "    network_callable=DynamicFeatureRNNModel,\n",
    "    model_params = model_params,\n",
    "    **other_params\n",
    ")\n",
    "#Testing out the model\n",
    "x, y = next(iter(train_dataloader))\n",
    "_ = model(x)\n",
    "type(_), _.prediction.shape"
   ]
  },
  {
   "cell_type": "markdown",
   "id": "792bb3dc-0b8f-496d-b4ba-9b8ecf9f5a42",
   "metadata": {},
   "source": [
    "### Training the model"
   ]
  },
  {
   "cell_type": "code",
   "execution_count": 43,
   "id": "4a591a3f-c8c7-4032-92d6-7f6b9e06470e",
   "metadata": {},
   "outputs": [],
   "source": [
    "saved_model_sampled = 'notebooks/Chapter14/saved_weights/baseline_time_varying_sampled.wt'\n",
    "saved_model_full = 'notebooks/Chapter14/saved_weights/baseline_time_varying.wt'"
   ]
  },
  {
   "cell_type": "code",
   "execution_count": 44,
   "id": "6a070ffc-7602-4f6b-8ca8-401e8e424bd1",
   "metadata": {},
   "outputs": [
    {
     "name": "stdout",
     "output_type": "stream",
     "text": [
      "Loading the model from: notebooks/Chapter14/saved_weights/baseline_time_varying_sampled.wt\n"
     ]
    }
   ],
   "source": [
    "if train_model:\n",
    "    trainer = pl.Trainer(\n",
    "        auto_select_gpus=True,\n",
    "        gpus=-1,\n",
    "        min_epochs=1,\n",
    "        max_epochs=20,\n",
    "        callbacks=[\n",
    "            pl.callbacks.EarlyStopping(monitor=\"val_loss\", patience=2),\n",
    "            pl.callbacks.ModelCheckpoint(\n",
    "                monitor=\"val_loss\", save_last=True, mode=\"min\", auto_insert_metric_name=True\n",
    "            ),\n",
    "        ],\n",
    "        # fast_dev_run=True\n",
    "        # precision = 16\n",
    "    )\n",
    "    trainer.fit(\n",
    "        model,\n",
    "        train_dataloaders=train_dataloader,\n",
    "        val_dataloaders=val_dataloader,\n",
    "    )\n",
    "    #Loading the best model\n",
    "    best_model_path = trainer.checkpoint_callback.best_model_path\n",
    "    best_model = SingleStepRNNModel.load_from_checkpoint(best_model_path)\n",
    "    torch.save(best_model.state_dict(), saved_model_sampled if TRAIN_SUBSAMPLE else saved_model_full)\n",
    "else:\n",
    "    best_model_path = saved_model_sampled if TRAIN_SUBSAMPLE else saved_model_full\n",
    "    load_weights(model, best_model_path)\n",
    "    best_model =  model\n",
    "print(f\"Loading the model from: {best_model_path}\")"
   ]
  },
  {
   "cell_type": "code",
   "execution_count": 45,
   "id": "3e5ff883-6ff1-434d-a62b-cab1ec5a997c",
   "metadata": {},
   "outputs": [
    {
     "data": {
      "application/vnd.jupyter.widget-view+json": {
       "model_id": "84c03b1dea324d52a5b1fbaa11109bd3",
       "version_major": 2,
       "version_minor": 0
      },
      "text/plain": [
       "Predict:   0%|          | 0/233 [00:00<?, ? batches/s]"
      ]
     },
     "metadata": {},
     "output_type": "display_data"
    },
    {
     "data": {
      "application/vnd.jupyter.widget-view+json": {
       "model_id": "f97039388f0f475d94c7503b59913f9d",
       "version_major": 2,
       "version_minor": 0
      },
      "text/plain": [
       "Calculating metrics...:   0%|          | 0/10 [00:00<?, ?it/s]"
      ]
     },
     "metadata": {},
     "output_type": "display_data"
    }
   ],
   "source": [
    "pred, index = best_model.predict(test, return_index=True, show_progress_bar=True)\n",
    "index[tag] = pred\n",
    "pred_df = pred_df.reset_index().merge(index, on=[\"time_idx\",\"LCLid\"], how='left').set_index(feat_config.index_cols)\n",
    "agg_metrics, eval_metrics_df = evaluate_forecast(\n",
    "    pred_df = pred_df,\n",
    "    train_data = full_df,\n",
    "    fc_column=tag,\n",
    "    name=tag,\n",
    ")\n",
    "metric_record.append(agg_metrics)\n",
    "individual_metrics[tag]=eval_metrics_df"
   ]
  },
  {
   "cell_type": "code",
   "execution_count": 46,
   "id": "a78c6368-0b28-46bd-b58c-7c028f08e974",
   "metadata": {},
   "outputs": [
    {
     "data": {
      "text/html": [
       "<div>\n",
       "<style scoped>\n",
       "    .dataframe tbody tr th:only-of-type {\n",
       "        vertical-align: middle;\n",
       "    }\n",
       "\n",
       "    .dataframe tbody tr th {\n",
       "        vertical-align: top;\n",
       "    }\n",
       "\n",
       "    .dataframe thead th {\n",
       "        text-align: right;\n",
       "    }\n",
       "</style>\n",
       "<table border=\"1\" class=\"dataframe\">\n",
       "  <thead>\n",
       "    <tr style=\"text-align: right;\">\n",
       "      <th></th>\n",
       "      <th>Algorithm</th>\n",
       "      <th>MAE</th>\n",
       "      <th>MSE</th>\n",
       "      <th>meanMASE</th>\n",
       "      <th>Forecast Bias</th>\n",
       "    </tr>\n",
       "  </thead>\n",
       "  <tbody>\n",
       "    <tr>\n",
       "      <th>0</th>\n",
       "      <td>simple</td>\n",
       "      <td>0.078654</td>\n",
       "      <td>0.025016</td>\n",
       "      <td>0.931107</td>\n",
       "      <td>-3.707719</td>\n",
       "    </tr>\n",
       "    <tr>\n",
       "      <th>1</th>\n",
       "      <td>simple+time_varying</td>\n",
       "      <td>0.079606</td>\n",
       "      <td>0.024328</td>\n",
       "      <td>0.941491</td>\n",
       "      <td>-1.858576</td>\n",
       "    </tr>\n",
       "  </tbody>\n",
       "</table>\n",
       "</div>"
      ],
      "text/plain": [
       "             Algorithm       MAE       MSE  meanMASE  Forecast Bias\n",
       "0               simple  0.078654  0.025016  0.931107      -3.707719\n",
       "1  simple+time_varying  0.079606  0.024328  0.941491      -1.858576"
      ]
     },
     "execution_count": 46,
     "metadata": {},
     "output_type": "execute_result"
    }
   ],
   "source": [
    "pd.DataFrame(metric_record)"
   ]
  },
  {
   "cell_type": "markdown",
   "id": "51d8fbc1-caae-40da-b116-9eda031b4c15",
   "metadata": {
    "tags": []
   },
   "source": [
    "## Baseline + Static + Time-varying Information\n",
    "\n",
    "Using the history of the time series, static, and time varying features"
   ]
  },
  {
   "cell_type": "code",
   "execution_count": 47,
   "id": "e101f258-5409-4285-8b07-534b0153ef05",
   "metadata": {},
   "outputs": [],
   "source": [
    "tag = \"simple+static+time_varying\""
   ]
  },
  {
   "cell_type": "markdown",
   "id": "2f3150b0-168c-4cc2-8535-ec4b43df3784",
   "metadata": {},
   "source": [
    "### Converting data into TimeSeriesDataset from PyTorch Forecasting"
   ]
  },
  {
   "cell_type": "code",
   "execution_count": 48,
   "id": "fbdc7fd0-2f8b-40c9-ab1c-c8a0de7b92bd",
   "metadata": {},
   "outputs": [],
   "source": [
    "# Defining the training dataset\n",
    "training = TimeSeriesDataSet(\n",
    "    train_df,\n",
    "    time_idx=\"time_idx\",\n",
    "    target=feat_config.target,\n",
    "    group_ids=feat_config.group_ids,\n",
    "    max_encoder_length=max_encoder_length,\n",
    "    max_prediction_length=max_prediction_length,\n",
    "    static_categoricals=feat_config.static_categoricals,\n",
    "    static_reals=feat_config.static_reals,\n",
    "    time_varying_known_categoricals=feat_config.time_varying_known_categoricals,\n",
    "    time_varying_known_reals=feat_config.time_varying_known_reals,\n",
    "    time_varying_unknown_reals=[\n",
    "        \"energy_consumption\",\n",
    "    ],\n",
    "    target_normalizer=GroupNormalizer(\n",
    "        groups=feat_config.group_ids, transformation=None\n",
    "    )\n",
    ")\n",
    "# Defining the validation dataset with the same parameters as training\n",
    "validation = TimeSeriesDataSet.from_dataset(training, pd.concat([val_history,val_df]).reset_index(drop=True), stop_randomization=True)\n",
    "# Defining the test dataset with the same parameters as training\n",
    "test = TimeSeriesDataSet.from_dataset(training, pd.concat([hist_df, test_df]).reset_index(drop=True), stop_randomization=True)"
   ]
  },
  {
   "cell_type": "code",
   "execution_count": 49,
   "id": "8e87969c-e4f9-4038-b6b1-9b33b8d6860b",
   "metadata": {},
   "outputs": [],
   "source": [
    "# Making the dataloaders\n",
    "# num_workers can be increased in linux to speed-up training\n",
    "train_dataloader = training.to_dataloader(train=True, batch_size=batch_size, num_workers=0)\n",
    "val_dataloader = validation.to_dataloader(train=False, batch_size=batch_size, num_workers=0)"
   ]
  },
  {
   "cell_type": "code",
   "execution_count": 50,
   "id": "ce688604-1f50-46e4-8367-6227ad205cf6",
   "metadata": {},
   "outputs": [
    {
     "name": "stdout",
     "output_type": "stream",
     "text": [
      "\n",
      "sizes of x =\n",
      "\tencoder_cat = torch.Size([512, 96, 7])\n",
      "\tencoder_cont = torch.Size([512, 96, 2])\n",
      "\tencoder_target = torch.Size([512, 96])\n",
      "\tencoder_lengths = torch.Size([512])\n",
      "\tdecoder_cat = torch.Size([512, 1, 7])\n",
      "\tdecoder_cont = torch.Size([512, 1, 2])\n",
      "\tdecoder_target = torch.Size([512, 1])\n",
      "\tdecoder_lengths = torch.Size([512])\n",
      "\tdecoder_time_idx = torch.Size([512, 1])\n",
      "\tgroups = torch.Size([512, 1])\n",
      "\ttarget_scale = torch.Size([512, 2])\n",
      "\n",
      "size of y =\n",
      "\ty = torch.Size([512, 1])\n"
     ]
    }
   ],
   "source": [
    "# Testing the dataloader\n",
    "x, y = next(iter(train_dataloader))\n",
    "print(\"\\nsizes of x =\")\n",
    "for key, value in x.items():\n",
    "    print(f\"\\t{key} = {value.size()}\")\n",
    "print(\"\\nsize of y =\")\n",
    "print(f\"\\ty = {y[0].size()}\")"
   ]
  },
  {
   "cell_type": "markdown",
   "id": "546c0ff0-6a3e-4735-95a5-2c574a067806",
   "metadata": {
    "jp-MarkdownHeadingCollapsed": true,
    "tags": []
   },
   "source": [
    "### [Additional] Rolling the input and formatting the input"
   ]
  },
  {
   "cell_type": "code",
   "execution_count": 51,
   "id": "6bba0460-d56b-486a-ab32-d698452d54c5",
   "metadata": {},
   "outputs": [
    {
     "data": {
      "text/plain": [
       "torch.Size([512, 97, 2])"
      ]
     },
     "execution_count": 51,
     "metadata": {},
     "output_type": "execute_result"
    }
   ],
   "source": [
    "x_cont = torch.cat([x[\"encoder_cont\"],x[\"decoder_cont\"]], dim=1)\n",
    "x_cont.shape"
   ]
  },
  {
   "cell_type": "code",
   "execution_count": 52,
   "id": "d7b68fe2-67db-4047-9eae-df729fecfd43",
   "metadata": {},
   "outputs": [
    {
     "data": {
      "text/plain": [
       "tensor([-0.3053, -0.5901,  0.3911,  6.0759,  1.6319,  1.6888,  0.7329,  0.0302,\n",
       "        -0.0837, -0.3116, -0.5712, -0.5712, -0.4762, -0.6598, -0.4889, -0.5395,\n",
       "        -0.6661, -0.5268, -0.5965, -0.6661, -0.5205,  0.8532, -0.4509, -0.2610,\n",
       "        -0.3749,  0.1315, -0.6281, -0.3812,  0.2898,  0.7646,  1.2141,  1.7395,\n",
       "         1.4926,  1.3470, -0.0267,  0.5240,  0.5050,  0.6823,  0.4417,  1.4356,\n",
       "         0.1885, -0.2736,  0.5304,  2.6068,  3.3728,  3.2018,  0.4607, -0.0710,\n",
       "         0.6127,  0.1189,  0.1948,  0.4860,  0.5177,  0.1062, -0.0520, -0.3939,\n",
       "        -0.5268, -0.4066, -0.6028, -0.3939,  0.2202,  0.1252,  0.3721, -0.3559,\n",
       "        -0.6218, -0.3686, -0.5838, -0.4952, -0.5332,  0.7583, -0.4066, -0.3116,\n",
       "        -0.3116, -0.3559, -0.5142,  0.2455,  4.6389, -0.2103,  0.5810,  1.2900,\n",
       "         1.5939,  2.0877,  0.1125, -0.5838, -0.3812, -0.6408,  0.2898, -0.0267,\n",
       "         3.7020,  2.3979,  3.0183,  1.6509,  2.2206,  1.7142,  0.0999,  0.8595,\n",
       "         2.5118])"
      ]
     },
     "execution_count": 52,
     "metadata": {},
     "output_type": "execute_result"
    }
   ],
   "source": [
    "x_cont[0,:,-1]"
   ]
  },
  {
   "cell_type": "code",
   "execution_count": 53,
   "id": "50a6739d-fbd9-4866-ba34-c2327558df37",
   "metadata": {},
   "outputs": [],
   "source": [
    "x_cont[:,:,-1] = torch.roll(x_cont[:,:,-1], 1, dims=1)"
   ]
  },
  {
   "cell_type": "code",
   "execution_count": 54,
   "id": "49d22d59-151f-4020-ab9a-a9deae6849bd",
   "metadata": {},
   "outputs": [
    {
     "data": {
      "text/plain": [
       "tensor([ 2.5118, -0.3053, -0.5901,  0.3911,  6.0759,  1.6319,  1.6888,  0.7329,\n",
       "         0.0302, -0.0837, -0.3116, -0.5712, -0.5712, -0.4762, -0.6598, -0.4889,\n",
       "        -0.5395, -0.6661, -0.5268, -0.5965, -0.6661, -0.5205,  0.8532, -0.4509,\n",
       "        -0.2610, -0.3749,  0.1315, -0.6281, -0.3812,  0.2898,  0.7646,  1.2141,\n",
       "         1.7395,  1.4926,  1.3470, -0.0267,  0.5240,  0.5050,  0.6823,  0.4417,\n",
       "         1.4356,  0.1885, -0.2736,  0.5304,  2.6068,  3.3728,  3.2018,  0.4607,\n",
       "        -0.0710,  0.6127,  0.1189,  0.1948,  0.4860,  0.5177,  0.1062, -0.0520,\n",
       "        -0.3939, -0.5268, -0.4066, -0.6028, -0.3939,  0.2202,  0.1252,  0.3721,\n",
       "        -0.3559, -0.6218, -0.3686, -0.5838, -0.4952, -0.5332,  0.7583, -0.4066,\n",
       "        -0.3116, -0.3116, -0.3559, -0.5142,  0.2455,  4.6389, -0.2103,  0.5810,\n",
       "         1.2900,  1.5939,  2.0877,  0.1125, -0.5838, -0.3812, -0.6408,  0.2898,\n",
       "        -0.0267,  3.7020,  2.3979,  3.0183,  1.6509,  2.2206,  1.7142,  0.0999,\n",
       "         0.8595])"
      ]
     },
     "execution_count": 54,
     "metadata": {},
     "output_type": "execute_result"
    }
   ],
   "source": [
    "x_cont[0,:,-1]"
   ]
  },
  {
   "cell_type": "code",
   "execution_count": 55,
   "id": "64f72572-a867-4d24-b5d3-494b09e3c178",
   "metadata": {},
   "outputs": [
    {
     "data": {
      "text/plain": [
       "torch.Size([512, 97, 2])"
      ]
     },
     "execution_count": 55,
     "metadata": {},
     "output_type": "execute_result"
    }
   ],
   "source": [
    "x_cont.shape"
   ]
  },
  {
   "cell_type": "code",
   "execution_count": 56,
   "id": "5fc63d02-cefe-4d0a-b944-aa7128b0ae04",
   "metadata": {},
   "outputs": [
    {
     "data": {
      "text/plain": [
       "torch.Size([96, 2])"
      ]
     },
     "execution_count": 56,
     "metadata": {},
     "output_type": "execute_result"
    }
   ],
   "source": [
    "x_cont[0,1:,:].shape"
   ]
  },
  {
   "cell_type": "markdown",
   "id": "f7bd6788-9edf-4ffc-a873-b4b2b32f8af2",
   "metadata": {},
   "source": [
    "### Creating the Model"
   ]
  },
  {
   "cell_type": "markdown",
   "id": "25840565-60e1-40e3-814a-527b16da6a94",
   "metadata": {},
   "source": [
    "### Defining the Forward function"
   ]
  },
  {
   "cell_type": "markdown",
   "id": "4b2d0d67-15e7-492a-b88d-e5b34ca9fdbb",
   "metadata": {},
   "source": [
    "#### Defining the embedding sizes for each categorical variable"
   ]
  },
  {
   "cell_type": "code",
   "execution_count": 57,
   "id": "f00fce3b-205d-4fd2-b92d-c1bd969ee683",
   "metadata": {},
   "outputs": [
    {
     "data": {
      "text/plain": [
       "['LCLid',\n",
       " 'stdorToU',\n",
       " 'Acorn',\n",
       " 'Acorn_grouped',\n",
       " 'file',\n",
       " 'holidays',\n",
       " 'timestamp_Dayofweek']"
      ]
     },
     "execution_count": 57,
     "metadata": {},
     "output_type": "execute_result"
    }
   ],
   "source": [
    "training.categoricals"
   ]
  },
  {
   "cell_type": "code",
   "execution_count": 58,
   "id": "9cc19169-1fb9-499e-8b51-aa66f0f158c8",
   "metadata": {},
   "outputs": [],
   "source": [
    "# Using a thumbrule\n",
    "cardinality = [len(training.categorical_encoders[c].classes_) for c in training.categoricals]\n",
    "embedding_sizes = [\n",
    "    (x, min(50, (x + 1) // 2))\n",
    "    for x in cardinality\n",
    "]"
   ]
  },
  {
   "cell_type": "code",
   "execution_count": 59,
   "id": "d579ce6d-b98e-4ef4-b18b-1f6387aef51e",
   "metadata": {},
   "outputs": [],
   "source": [
    "from typing import Dict\n",
    "\n",
    "class StaticDynamicFeatureRNNModel(SingleStepRNN):\n",
    "    def __init__(\n",
    "        self,\n",
    "        rnn_type: str,\n",
    "        input_size: int,\n",
    "        hidden_size: int,\n",
    "        num_layers: int,\n",
    "        bidirectional: bool,\n",
    "        embedding_sizes = []\n",
    "    ):\n",
    "        super().__init__(rnn_type, input_size, hidden_size, num_layers, bidirectional)\n",
    "        self.embeddings = torch.nn.ModuleList(\n",
    "            [torch.nn.Embedding(card, size) for card, size in embedding_sizes]\n",
    "        )\n",
    "\n",
    "    def forward(self, x: Dict):\n",
    "        # Using the encoder and decoder sequence (explanation in the book)\n",
    "        x_cont = torch.cat([x[\"encoder_cont\"],x[\"decoder_cont\"]], dim=1)\n",
    "        # Roll target by 1 (explanation in the book)\n",
    "        x_cont[:,:,-1] = torch.roll(x_cont[:,:,-1], 1, dims=1)\n",
    "        # Combine the encoder and decoder categoricals (explanation in the book)\n",
    "        static_cat = torch.cat([x[\"encoder_cat\"],x[\"decoder_cat\"]], dim=1)\n",
    "        if static_cat.size(-1)>0:\n",
    "            x_cat = torch.cat([emb(static_cat[:,:,i]) for i, emb in enumerate(self.embeddings)], dim=-1)\n",
    "            x = torch.cat([x_cont, x_cat], dim=-1)\n",
    "        else:\n",
    "            x = x_cont\n",
    "        # dropping first timestep (explanation in the book)\n",
    "        x = x[:,1:,:] # x --> (batch_size, seq_len, input_size)\n",
    "        # Processing through the RNN\n",
    "        x, _ = self.rnn(x)  # --> (batch_size, seq_len, hidden_size)\n",
    "        # Using a FC layer on last hidden state\n",
    "        x = self.fc(x[:,-1,:])  # --> (batch_size, seq_len, 1)\n",
    "        return x"
   ]
  },
  {
   "cell_type": "code",
   "execution_count": 60,
   "id": "4bbe1cfe-f945-4738-930a-0f9132e2df19",
   "metadata": {},
   "outputs": [],
   "source": [
    "model_params = dict(\n",
    "    rnn_type=\"LSTM\",\n",
    "    input_size=len(training.reals)+sum([s for _, s in embedding_sizes]),\n",
    "    hidden_size=256, #128\n",
    "    num_layers=2,\n",
    "    bidirectional=False,\n",
    "    embedding_sizes=embedding_sizes,\n",
    ")\n",
    "\n",
    "other_params = dict(\n",
    "    learning_rate=5e-5,\n",
    "    optimizer=\"adam\",\n",
    "    loss=RMSE(),\n",
    "    logging_metrics=[RMSE(), MAE()],\n",
    ")"
   ]
  },
  {
   "cell_type": "code",
   "execution_count": 61,
   "id": "de4531f8-5017-4aca-986d-4d258b7312f6",
   "metadata": {
    "tags": []
   },
   "outputs": [
    {
     "data": {
      "text/plain": [
       "(pytorch_forecasting.utils.TupleOutputMixIn.to_network_output.<locals>.Output,\n",
       " torch.Size([512, 1]))"
      ]
     },
     "execution_count": 61,
     "metadata": {},
     "output_type": "execute_result"
    }
   ],
   "source": [
    "model = SingleStepRNNModel.from_dataset(\n",
    "    training,\n",
    "    network_callable=StaticDynamicFeatureRNNModel,\n",
    "    model_params = model_params,\n",
    "    **other_params\n",
    ")\n",
    "#Testing out the model\n",
    "x, y = next(iter(train_dataloader))\n",
    "_ = model(x)\n",
    "type(_), _.prediction.shape"
   ]
  },
  {
   "cell_type": "markdown",
   "id": "30b57682-9c60-4f4d-b4ee-05b879959fb7",
   "metadata": {},
   "source": [
    "### Training the model"
   ]
  },
  {
   "cell_type": "code",
   "execution_count": 62,
   "id": "f6429817-7ede-443a-9b59-8253ecb762a6",
   "metadata": {},
   "outputs": [],
   "source": [
    "saved_model_sampled = 'notebooks/Chapter14/saved_weights/baseline_time_varying_static_sampled.wt'\n",
    "saved_model_full = 'notebooks/Chapter14/saved_weights/baseline_time_varying_static.wt'"
   ]
  },
  {
   "cell_type": "code",
   "execution_count": 63,
   "id": "67a60b9f-f4bc-4566-bf00-6ee18af40cb8",
   "metadata": {},
   "outputs": [
    {
     "name": "stdout",
     "output_type": "stream",
     "text": [
      "Loading the model from: notebooks/Chapter14/saved_weights/baseline_time_varying_static_sampled.wt\n"
     ]
    }
   ],
   "source": [
    "if train_model:\n",
    "    trainer = pl.Trainer(\n",
    "        auto_select_gpus=True,\n",
    "        gpus=-1,\n",
    "        min_epochs=1,\n",
    "        max_epochs=20,\n",
    "        callbacks=[\n",
    "            pl.callbacks.EarlyStopping(monitor=\"val_loss\", patience=2),\n",
    "            pl.callbacks.ModelCheckpoint(\n",
    "                monitor=\"val_loss\", save_last=True, mode=\"min\", auto_insert_metric_name=True\n",
    "            ),\n",
    "        ],\n",
    "        # fast_dev_run=True\n",
    "        # precision = 16\n",
    "    )\n",
    "    trainer.fit(\n",
    "        model,\n",
    "        train_dataloaders=train_dataloader,\n",
    "        val_dataloaders=val_dataloader,\n",
    "    )\n",
    "    #Loading the best model\n",
    "    best_model_path = trainer.checkpoint_callback.best_model_path\n",
    "    best_model = SingleStepRNNModel.load_from_checkpoint(best_model_path)\n",
    "    torch.save(best_model.state_dict(), saved_model_sampled if TRAIN_SUBSAMPLE else saved_model_full)\n",
    "else:\n",
    "    best_model_path = saved_model_sampled if TRAIN_SUBSAMPLE else saved_model_full\n",
    "    load_weights(model, best_model_path)\n",
    "    best_model =  model\n",
    "print(f\"Loading the model from: {best_model_path}\")"
   ]
  },
  {
   "cell_type": "code",
   "execution_count": 64,
   "id": "75a19f88-55ba-44b5-9801-473e00f1ae6b",
   "metadata": {},
   "outputs": [
    {
     "data": {
      "application/vnd.jupyter.widget-view+json": {
       "model_id": "d65df305618f40e79eb5f9c17c93d29b",
       "version_major": 2,
       "version_minor": 0
      },
      "text/plain": [
       "Predict:   0%|          | 0/233 [00:00<?, ? batches/s]"
      ]
     },
     "metadata": {},
     "output_type": "display_data"
    },
    {
     "data": {
      "application/vnd.jupyter.widget-view+json": {
       "model_id": "19a4c049d0004e32821a62d5b021fd24",
       "version_major": 2,
       "version_minor": 0
      },
      "text/plain": [
       "Calculating metrics...:   0%|          | 0/10 [00:00<?, ?it/s]"
      ]
     },
     "metadata": {},
     "output_type": "display_data"
    }
   ],
   "source": [
    "pred, index = best_model.predict(test, return_index=True, show_progress_bar=True)\n",
    "index[tag] = pred\n",
    "pred_df = pred_df.reset_index().merge(index, on=[\"time_idx\",\"LCLid\"], how='left').set_index(feat_config.index_cols)\n",
    "agg_metrics, eval_metrics_df = evaluate_forecast(\n",
    "    pred_df = pred_df,\n",
    "    train_data = full_df,\n",
    "    fc_column=tag,\n",
    "    name=tag,\n",
    ")\n",
    "metric_record.append(agg_metrics)\n",
    "individual_metrics[tag]=eval_metrics_df"
   ]
  },
  {
   "cell_type": "code",
   "execution_count": 65,
   "id": "4145a24c-ad32-4723-acc5-daac9484b319",
   "metadata": {},
   "outputs": [
    {
     "data": {
      "text/html": [
       "<div>\n",
       "<style scoped>\n",
       "    .dataframe tbody tr th:only-of-type {\n",
       "        vertical-align: middle;\n",
       "    }\n",
       "\n",
       "    .dataframe tbody tr th {\n",
       "        vertical-align: top;\n",
       "    }\n",
       "\n",
       "    .dataframe thead th {\n",
       "        text-align: right;\n",
       "    }\n",
       "</style>\n",
       "<table border=\"1\" class=\"dataframe\">\n",
       "  <thead>\n",
       "    <tr style=\"text-align: right;\">\n",
       "      <th></th>\n",
       "      <th>Algorithm</th>\n",
       "      <th>MAE</th>\n",
       "      <th>MSE</th>\n",
       "      <th>meanMASE</th>\n",
       "      <th>Forecast Bias</th>\n",
       "    </tr>\n",
       "  </thead>\n",
       "  <tbody>\n",
       "    <tr>\n",
       "      <th>0</th>\n",
       "      <td>simple</td>\n",
       "      <td>0.078654</td>\n",
       "      <td>0.025016</td>\n",
       "      <td>0.931107</td>\n",
       "      <td>-3.707719</td>\n",
       "    </tr>\n",
       "    <tr>\n",
       "      <th>1</th>\n",
       "      <td>simple+time_varying</td>\n",
       "      <td>0.079606</td>\n",
       "      <td>0.024328</td>\n",
       "      <td>0.941491</td>\n",
       "      <td>-1.858576</td>\n",
       "    </tr>\n",
       "    <tr>\n",
       "      <th>2</th>\n",
       "      <td>simple+static+time_varying</td>\n",
       "      <td>0.076008</td>\n",
       "      <td>0.022752</td>\n",
       "      <td>0.903804</td>\n",
       "      <td>-5.487272</td>\n",
       "    </tr>\n",
       "  </tbody>\n",
       "</table>\n",
       "</div>"
      ],
      "text/plain": [
       "                    Algorithm       MAE       MSE  meanMASE  Forecast Bias\n",
       "0                      simple  0.078654  0.025016  0.931107      -3.707719\n",
       "1         simple+time_varying  0.079606  0.024328  0.941491      -1.858576\n",
       "2  simple+static+time_varying  0.076008  0.022752  0.903804      -5.487272"
      ]
     },
     "execution_count": 65,
     "metadata": {},
     "output_type": "execute_result"
    }
   ],
   "source": [
    "pd.DataFrame(metric_record)"
   ]
  },
  {
   "cell_type": "markdown",
   "id": "b645f53b-de72-4134-97e7-e0dad12b15e8",
   "metadata": {
    "tags": []
   },
   "source": [
    "## Baseline + Static + Time-varying Information + Scale\n",
    "\n",
    "Using the history of the time series, static, time varying features and scale"
   ]
  },
  {
   "cell_type": "code",
   "execution_count": 66,
   "id": "e555f39f-dc94-499f-830d-b426e132d5bc",
   "metadata": {},
   "outputs": [],
   "source": [
    "tag = \"simple+static+time_varying+scale\""
   ]
  },
  {
   "cell_type": "markdown",
   "id": "17db637c-3450-4470-91cf-afbdb2384010",
   "metadata": {},
   "source": [
    "### Converting data into TimeSeriesDataset from PyTorch Forecasting"
   ]
  },
  {
   "cell_type": "code",
   "execution_count": 67,
   "id": "f4f46581-7137-4c8a-a93e-8b06eeffb159",
   "metadata": {},
   "outputs": [],
   "source": [
    "# Defining the training dataset\n",
    "training = TimeSeriesDataSet(\n",
    "    train_df,\n",
    "    time_idx=\"time_idx\",\n",
    "    target=feat_config.target,\n",
    "    group_ids=feat_config.group_ids,\n",
    "    max_encoder_length=max_encoder_length,\n",
    "    max_prediction_length=max_prediction_length,\n",
    "    static_categoricals=feat_config.static_categoricals,\n",
    "    static_reals=feat_config.static_reals,\n",
    "    time_varying_known_categoricals=feat_config.time_varying_known_categoricals,\n",
    "    time_varying_known_reals=feat_config.time_varying_known_reals,\n",
    "    time_varying_unknown_reals=[\n",
    "        \"energy_consumption\",\n",
    "    ],\n",
    "    target_normalizer=GroupNormalizer(\n",
    "        groups=feat_config.group_ids, transformation=None\n",
    "    ),\n",
    "    add_target_scales=True\n",
    ")\n",
    "# Defining the validation dataset with the same parameters as training\n",
    "validation = TimeSeriesDataSet.from_dataset(training, pd.concat([val_history,val_df]).reset_index(drop=True), stop_randomization=True)\n",
    "# Defining the test dataset with the same parameters as training\n",
    "test = TimeSeriesDataSet.from_dataset(training, pd.concat([hist_df, test_df]).reset_index(drop=True), stop_randomization=True)"
   ]
  },
  {
   "cell_type": "code",
   "execution_count": 68,
   "id": "88d1da27-6135-4af8-b772-1664d2fa64ae",
   "metadata": {},
   "outputs": [],
   "source": [
    "# Making the dataloaders\n",
    "# num_workers can be increased in linux to speed-up training\n",
    "train_dataloader = training.to_dataloader(train=True, batch_size=batch_size, num_workers=0)\n",
    "val_dataloader = validation.to_dataloader(train=False, batch_size=batch_size, num_workers=0)"
   ]
  },
  {
   "cell_type": "code",
   "execution_count": 69,
   "id": "660b52dc-ee30-4807-8963-3a584802d2b6",
   "metadata": {},
   "outputs": [
    {
     "name": "stdout",
     "output_type": "stream",
     "text": [
      "\n",
      "sizes of x =\n",
      "\tencoder_cat = torch.Size([512, 96, 7])\n",
      "\tencoder_cont = torch.Size([512, 96, 4])\n",
      "\tencoder_target = torch.Size([512, 96])\n",
      "\tencoder_lengths = torch.Size([512])\n",
      "\tdecoder_cat = torch.Size([512, 1, 7])\n",
      "\tdecoder_cont = torch.Size([512, 1, 4])\n",
      "\tdecoder_target = torch.Size([512, 1])\n",
      "\tdecoder_lengths = torch.Size([512])\n",
      "\tdecoder_time_idx = torch.Size([512, 1])\n",
      "\tgroups = torch.Size([512, 1])\n",
      "\ttarget_scale = torch.Size([512, 2])\n",
      "\n",
      "size of y =\n",
      "\ty = torch.Size([512, 1])\n"
     ]
    }
   ],
   "source": [
    "# Testing the dataloader\n",
    "x, y = next(iter(train_dataloader))\n",
    "print(\"\\nsizes of x =\")\n",
    "for key, value in x.items():\n",
    "    print(f\"\\t{key} = {value.size()}\")\n",
    "print(\"\\nsize of y =\")\n",
    "print(f\"\\ty = {y[0].size()}\")"
   ]
  },
  {
   "cell_type": "markdown",
   "id": "e42c309b-0650-4109-8802-5d180e08f732",
   "metadata": {},
   "source": [
    "### Creating the Model"
   ]
  },
  {
   "cell_type": "markdown",
   "id": "20b034f2-fcbb-4dda-a949-f17e4598b807",
   "metadata": {},
   "source": [
    "### Defining the Forward function"
   ]
  },
  {
   "cell_type": "code",
   "execution_count": 70,
   "id": "b8516508-51c2-4b4c-878f-ad665c357086",
   "metadata": {},
   "outputs": [],
   "source": [
    "cardinality = [len(training.categorical_encoders[c].classes_) for c in training.categoricals]\n",
    "embedding_sizes = [\n",
    "    (x, min(50, (x + 1) // 2))\n",
    "    for x in cardinality\n",
    "]"
   ]
  },
  {
   "cell_type": "code",
   "execution_count": 72,
   "id": "328227a8-07be-490f-a9d8-487a2cccac2c",
   "metadata": {},
   "outputs": [],
   "source": [
    "model_params = dict(\n",
    "    rnn_type=\"LSTM\",\n",
    "    input_size=len(training.reals)+sum([s for _, s in embedding_sizes]),\n",
    "    hidden_size=256, #128\n",
    "    num_layers=2,\n",
    "    bidirectional=False,\n",
    "    embedding_sizes=embedding_sizes,\n",
    ")\n",
    "\n",
    "other_params = dict(\n",
    "    learning_rate=5e-5,\n",
    "    optimizer=\"adam\",\n",
    "    loss=RMSE(),\n",
    "    logging_metrics=[RMSE(), MAE()],\n",
    ")"
   ]
  },
  {
   "cell_type": "code",
   "execution_count": 73,
   "id": "ca7c4532-64ed-4253-837b-4f7e925db492",
   "metadata": {
    "tags": []
   },
   "outputs": [
    {
     "data": {
      "text/plain": [
       "(pytorch_forecasting.utils.TupleOutputMixIn.to_network_output.<locals>.Output,\n",
       " torch.Size([512, 1]))"
      ]
     },
     "execution_count": 73,
     "metadata": {},
     "output_type": "execute_result"
    }
   ],
   "source": [
    "model = SingleStepRNNModel.from_dataset(\n",
    "    training,\n",
    "    network_callable=StaticDynamicFeatureRNNModel,\n",
    "    model_params = model_params,\n",
    "    **other_params\n",
    ")\n",
    "#Testing out the model\n",
    "x, y = next(iter(train_dataloader))\n",
    "_ = model(x)\n",
    "type(_), _.prediction.shape"
   ]
  },
  {
   "cell_type": "markdown",
   "id": "fb468b58-ba1e-43fa-aa4e-71c814e9f801",
   "metadata": {},
   "source": [
    "### Training the model"
   ]
  },
  {
   "cell_type": "code",
   "execution_count": 74,
   "id": "30269762-3e8e-4a64-891e-7c5ee203d0b0",
   "metadata": {},
   "outputs": [],
   "source": [
    "saved_model_sampled = 'notebooks/Chapter14/saved_weights/baseline_time_varying_static_scale_sampled.wt'\n",
    "saved_model_full = 'notebooks/Chapter14/saved_weights/baseline_time_varying_static_scale.wt'"
   ]
  },
  {
   "cell_type": "code",
   "execution_count": 75,
   "id": "71bee766-3858-46d6-bc81-33ec9812f771",
   "metadata": {},
   "outputs": [
    {
     "name": "stdout",
     "output_type": "stream",
     "text": [
      "Loading the model from: notebooks/Chapter14/saved_weights/baseline_time_varying_static_scale_sampled.wt\n"
     ]
    }
   ],
   "source": [
    "if train_model:\n",
    "    trainer = pl.Trainer(\n",
    "        auto_select_gpus=True,\n",
    "        gpus=-1,\n",
    "        min_epochs=1,\n",
    "        max_epochs=20,\n",
    "        callbacks=[\n",
    "            pl.callbacks.EarlyStopping(monitor=\"val_loss\", patience=2),\n",
    "            pl.callbacks.ModelCheckpoint(\n",
    "                monitor=\"val_loss\", save_last=True, mode=\"min\", auto_insert_metric_name=True\n",
    "            ),\n",
    "        ],\n",
    "        # fast_dev_run=True\n",
    "        # precision = 16\n",
    "    )\n",
    "    trainer.fit(\n",
    "        model,\n",
    "        train_dataloaders=train_dataloader,\n",
    "        val_dataloaders=val_dataloader,\n",
    "    )\n",
    "    #Loading the best model\n",
    "    best_model_path = trainer.checkpoint_callback.best_model_path\n",
    "    best_model = SingleStepRNNModel.load_from_checkpoint(best_model_path)\n",
    "    torch.save(best_model.state_dict(), saved_model_sampled if TRAIN_SUBSAMPLE else saved_model_full)\n",
    "else:\n",
    "    best_model_path = saved_model_sampled if TRAIN_SUBSAMPLE else saved_model_full\n",
    "    load_weights(model, best_model_path)\n",
    "    best_model =  model\n",
    "print(f\"Loading the model from: {best_model_path}\")"
   ]
  },
  {
   "cell_type": "code",
   "execution_count": 76,
   "id": "d9d0a80b-50b1-4e70-a9dc-8bfe03d571e1",
   "metadata": {},
   "outputs": [
    {
     "data": {
      "application/vnd.jupyter.widget-view+json": {
       "model_id": "87717dcafdd94e279bb123e4f94a1826",
       "version_major": 2,
       "version_minor": 0
      },
      "text/plain": [
       "Predict:   0%|          | 0/233 [00:00<?, ? batches/s]"
      ]
     },
     "metadata": {},
     "output_type": "display_data"
    },
    {
     "data": {
      "application/vnd.jupyter.widget-view+json": {
       "model_id": "bc54700900db43beb818b076faf05a22",
       "version_major": 2,
       "version_minor": 0
      },
      "text/plain": [
       "Calculating metrics...:   0%|          | 0/10 [00:00<?, ?it/s]"
      ]
     },
     "metadata": {},
     "output_type": "display_data"
    }
   ],
   "source": [
    "pred, index = best_model.predict(test, return_index=True, show_progress_bar=True)\n",
    "index[tag] = pred\n",
    "pred_df = pred_df.reset_index().merge(index, on=[\"time_idx\",\"LCLid\"], how='left').set_index(feat_config.index_cols)\n",
    "agg_metrics, eval_metrics_df = evaluate_forecast(\n",
    "    pred_df = pred_df,\n",
    "    train_data = full_df,\n",
    "    fc_column=tag,\n",
    "    name=tag,\n",
    ")\n",
    "metric_record.append(agg_metrics)\n",
    "individual_metrics[tag]=eval_metrics_df"
   ]
  },
  {
   "cell_type": "code",
   "execution_count": 77,
   "id": "afc218c4-8bcd-4e85-b001-1a168163307e",
   "metadata": {},
   "outputs": [
    {
     "data": {
      "text/html": [
       "<div>\n",
       "<style scoped>\n",
       "    .dataframe tbody tr th:only-of-type {\n",
       "        vertical-align: middle;\n",
       "    }\n",
       "\n",
       "    .dataframe tbody tr th {\n",
       "        vertical-align: top;\n",
       "    }\n",
       "\n",
       "    .dataframe thead th {\n",
       "        text-align: right;\n",
       "    }\n",
       "</style>\n",
       "<table border=\"1\" class=\"dataframe\">\n",
       "  <thead>\n",
       "    <tr style=\"text-align: right;\">\n",
       "      <th></th>\n",
       "      <th>Algorithm</th>\n",
       "      <th>MAE</th>\n",
       "      <th>MSE</th>\n",
       "      <th>meanMASE</th>\n",
       "      <th>Forecast Bias</th>\n",
       "    </tr>\n",
       "  </thead>\n",
       "  <tbody>\n",
       "    <tr>\n",
       "      <th>0</th>\n",
       "      <td>simple</td>\n",
       "      <td>0.078654</td>\n",
       "      <td>0.025016</td>\n",
       "      <td>0.931107</td>\n",
       "      <td>-3.707719</td>\n",
       "    </tr>\n",
       "    <tr>\n",
       "      <th>1</th>\n",
       "      <td>simple+time_varying</td>\n",
       "      <td>0.079606</td>\n",
       "      <td>0.024328</td>\n",
       "      <td>0.941491</td>\n",
       "      <td>-1.858576</td>\n",
       "    </tr>\n",
       "    <tr>\n",
       "      <th>2</th>\n",
       "      <td>simple+static+time_varying</td>\n",
       "      <td>0.076008</td>\n",
       "      <td>0.022752</td>\n",
       "      <td>0.903804</td>\n",
       "      <td>-5.487272</td>\n",
       "    </tr>\n",
       "    <tr>\n",
       "      <th>3</th>\n",
       "      <td>simple+static+time_varying+scale</td>\n",
       "      <td>0.077468</td>\n",
       "      <td>0.024239</td>\n",
       "      <td>0.919911</td>\n",
       "      <td>-5.451568</td>\n",
       "    </tr>\n",
       "  </tbody>\n",
       "</table>\n",
       "</div>"
      ],
      "text/plain": [
       "                          Algorithm       MAE       MSE  meanMASE  \\\n",
       "0                            simple  0.078654  0.025016  0.931107   \n",
       "1               simple+time_varying  0.079606  0.024328  0.941491   \n",
       "2        simple+static+time_varying  0.076008  0.022752  0.903804   \n",
       "3  simple+static+time_varying+scale  0.077468  0.024239  0.919911   \n",
       "\n",
       "   Forecast Bias  \n",
       "0      -3.707719  \n",
       "1      -1.858576  \n",
       "2      -5.487272  \n",
       "3      -5.451568  "
      ]
     },
     "execution_count": 77,
     "metadata": {},
     "output_type": "execute_result"
    }
   ],
   "source": [
    "pd.DataFrame(metric_record)"
   ]
  },
  {
   "cell_type": "markdown",
   "id": "0d74e706-c1fb-4157-a4b0-e263b8fa8bc2",
   "metadata": {
    "tags": []
   },
   "source": [
    "## Baseline + Static + Time-varying Information + Samplers\n",
    "\n",
    "Using the history of the time series, static, and time varying features"
   ]
  },
  {
   "cell_type": "code",
   "execution_count": 139,
   "id": "89cecddb-77bb-4ae6-a77a-d6dd64669e3c",
   "metadata": {},
   "outputs": [],
   "source": [
    "tag = \"simple+static+time_varying+num_sampler\""
   ]
  },
  {
   "cell_type": "markdown",
   "id": "b0b34b19-65d2-4865-a534-446dcc2e2cbc",
   "metadata": {},
   "source": [
    "### Converting data into TimeSeriesDataset from PyTorch Forecasting"
   ]
  },
  {
   "cell_type": "code",
   "execution_count": 140,
   "id": "0324ad10-a260-410d-b669-f32d6debafb0",
   "metadata": {},
   "outputs": [],
   "source": [
    "# Defining the training dataset\n",
    "training = TimeSeriesDataSet(\n",
    "    train_df,\n",
    "    time_idx=\"time_idx\",\n",
    "    target=feat_config.target,\n",
    "    group_ids=feat_config.group_ids,\n",
    "    max_encoder_length=max_encoder_length,\n",
    "    max_prediction_length=max_prediction_length,\n",
    "    static_categoricals=feat_config.static_categoricals,\n",
    "    static_reals=feat_config.static_reals,\n",
    "    time_varying_known_categoricals=feat_config.time_varying_known_categoricals,\n",
    "    time_varying_known_reals=feat_config.time_varying_known_reals,\n",
    "    time_varying_unknown_reals=[\n",
    "        \"energy_consumption\",\n",
    "    ],\n",
    "    target_normalizer=GroupNormalizer(\n",
    "        groups=feat_config.group_ids, transformation=None\n",
    "    )\n",
    ")\n",
    "# Defining the validation dataset with the same parameters as training\n",
    "validation = TimeSeriesDataSet.from_dataset(training, pd.concat([val_history,val_df]).reset_index(drop=True), stop_randomization=True)\n",
    "# Defining the test dataset with the same parameters as training\n",
    "test = TimeSeriesDataSet.from_dataset(training, pd.concat([hist_df, test_df]).reset_index(drop=True), stop_randomization=True)"
   ]
  },
  {
   "cell_type": "markdown",
   "id": "cd11c3cf-37ab-464e-9867-7c9cfb4c1a18",
   "metadata": {
    "tags": []
   },
   "source": [
    "### With and Without Batch Samplers (Visualization)"
   ]
  },
  {
   "cell_type": "code",
   "execution_count": 141,
   "id": "795b709a-f1df-41b9-9b53-dbd92e81a94c",
   "metadata": {},
   "outputs": [],
   "source": [
    "from tqdm.auto import tqdm\n",
    "import plotly.graph_objects as go\n",
    "from collections import defaultdict"
   ]
  },
  {
   "cell_type": "code",
   "execution_count": 142,
   "id": "62764ed0-40b6-4393-9043-990924adf195",
   "metadata": {},
   "outputs": [],
   "source": [
    "n_bins= 10\n",
    "enc = training.categorical_encoders[\"__group_id__LCLid\"]\n",
    "\n",
    "df = training.index.copy()\n",
    "\n",
    "df['bins'] = [f\"bin_{i}\" for i in np.digitize(df[\"count\"].values, bins)]\n",
    "\n",
    "counts = train_df.groupby(\"LCLid\")['timestamp'].count()\n",
    "out, bins = pd.cut(counts, bins=n_bins, retbins=True)\n",
    "out = out.cat.rename_categories({\n",
    "    f\"bin_{i}\" for i, _ in enumerate(out.cat.categories) \n",
    "})"
   ]
  },
  {
   "cell_type": "code",
   "execution_count": 143,
   "id": "cf741c02-bb55-4c99-9057-99e9e9b3a5e1",
   "metadata": {},
   "outputs": [],
   "source": [
    "def get_batch_count(train_dataloader, n=50):\n",
    "    all_batches=defaultdict(list)\n",
    "    enc = training.categorical_encoders[\"__group_id__LCLid\"]\n",
    "    # all_batches={c:list() for c in out.cat.categories}\n",
    "    for i,(x,y) in tqdm(enumerate(train_dataloader), total=n):\n",
    "        grps = enc.inverse_transform(x[\"groups\"])\n",
    "        bins = out[grps.ravel()]\n",
    "        curr = bins.value_counts().to_dict()\n",
    "        for key in curr.keys():\n",
    "            all_batches[key].append(curr.get(key))\n",
    "        if i>=n:\n",
    "            break\n",
    "    return all_batches\n",
    "\n",
    "def plot_batches(all_batches):\n",
    "    \n",
    "    x = [str(x) for x in range(len(all_batches[out[0]]))]\n",
    "    data_append = []\n",
    "    for bin_name in out.cat.categories:\n",
    "        data_append.append(go.Bar(\n",
    "                                   x=x,\n",
    "                                   y=all_batches[bin_name],\n",
    "                                   # text=all_batches[bin_name],\n",
    "                                   textposition='auto',name=bin_name))\n",
    "        \n",
    "        \n",
    "\n",
    "        \n",
    "        \n",
    "    fig = go.Figure(data=data_append)\n",
    "    return fig"
   ]
  },
  {
   "cell_type": "markdown",
   "id": "59547e41-37c9-4893-9c27-54405d817c01",
   "metadata": {
    "tags": []
   },
   "source": [
    "#### Without Batch Samplers"
   ]
  },
  {
   "cell_type": "code",
   "execution_count": 144,
   "id": "892d86cf-6774-4581-b786-9c660befa2e3",
   "metadata": {},
   "outputs": [
    {
     "data": {
      "application/vnd.jupyter.widget-view+json": {
       "model_id": "23a79c44b8e44f27a51bcabbee2224fb",
       "version_major": 2,
       "version_minor": 0
      },
      "text/plain": [
       "  0%|          | 0/50 [00:00<?, ?it/s]"
      ]
     },
     "metadata": {},
     "output_type": "display_data"
    }
   ],
   "source": [
    "train_dataloader = training.to_dataloader(train=True, batch_size=batch_size, num_workers=0)\n",
    "all_batches = get_batch_count(train_dataloader, n=50)"
   ]
  },
  {
   "cell_type": "code",
   "execution_count": 145,
   "id": "df545e6e-a28f-4ca6-b22c-acec2638b273",
   "metadata": {},
   "outputs": [
    {
     "data": {
      "application/vnd.plotly.v1+json": {
       "config": {
        "plotlyServerURL": "https://plot.ly"
       },
       "data": [
        {
         "name": "bin_1",
         "textposition": "auto",
         "type": "bar",
         "x": [
          "0",
          "1",
          "2",
          "3",
          "4",
          "5",
          "6",
          "7",
          "8",
          "9",
          "10",
          "11",
          "12",
          "13",
          "14",
          "15",
          "16",
          "17",
          "18",
          "19",
          "20",
          "21",
          "22",
          "23",
          "24",
          "25",
          "26",
          "27",
          "28",
          "29",
          "30",
          "31",
          "32",
          "33",
          "34",
          "35",
          "36",
          "37",
          "38",
          "39",
          "40",
          "41",
          "42",
          "43",
          "44",
          "45",
          "46",
          "47",
          "48",
          "49",
          "50"
         ],
         "y": [
          37,
          40,
          30,
          34,
          29,
          37,
          42,
          33,
          41,
          35,
          26,
          36,
          41,
          27,
          33,
          33,
          22,
          32,
          31,
          38,
          34,
          32,
          36,
          33,
          40,
          38,
          46,
          23,
          35,
          27,
          33,
          37,
          31,
          39,
          39,
          26,
          33,
          37,
          35,
          35,
          39,
          41,
          30,
          24,
          35,
          35,
          37,
          33,
          28,
          30,
          29
         ]
        },
        {
         "name": "bin_5",
         "textposition": "auto",
         "type": "bar",
         "x": [
          "0",
          "1",
          "2",
          "3",
          "4",
          "5",
          "6",
          "7",
          "8",
          "9",
          "10",
          "11",
          "12",
          "13",
          "14",
          "15",
          "16",
          "17",
          "18",
          "19",
          "20",
          "21",
          "22",
          "23",
          "24",
          "25",
          "26",
          "27",
          "28",
          "29",
          "30",
          "31",
          "32",
          "33",
          "34",
          "35",
          "36",
          "37",
          "38",
          "39",
          "40",
          "41",
          "42",
          "43",
          "44",
          "45",
          "46",
          "47",
          "48",
          "49",
          "50"
         ],
         "y": [
          27,
          38,
          46,
          30,
          40,
          27,
          40,
          36,
          34,
          41,
          38,
          45,
          30,
          43,
          41,
          43,
          50,
          33,
          42,
          25,
          38,
          30,
          41,
          50,
          36,
          37,
          32,
          32,
          40,
          33,
          35,
          46,
          32,
          51,
          42,
          39,
          44,
          34,
          41,
          47,
          43,
          44,
          30,
          53,
          42,
          37,
          34,
          33,
          38,
          30,
          42
         ]
        },
        {
         "name": "bin_6",
         "textposition": "auto",
         "type": "bar",
         "x": [
          "0",
          "1",
          "2",
          "3",
          "4",
          "5",
          "6",
          "7",
          "8",
          "9",
          "10",
          "11",
          "12",
          "13",
          "14",
          "15",
          "16",
          "17",
          "18",
          "19",
          "20",
          "21",
          "22",
          "23",
          "24",
          "25",
          "26",
          "27",
          "28",
          "29",
          "30",
          "31",
          "32",
          "33",
          "34",
          "35",
          "36",
          "37",
          "38",
          "39",
          "40",
          "41",
          "42",
          "43",
          "44",
          "45",
          "46",
          "47",
          "48",
          "49",
          "50"
         ],
         "y": [
          0,
          0,
          0,
          0,
          0,
          0,
          0,
          0,
          0,
          0,
          0,
          0,
          0,
          0,
          0,
          0,
          0,
          0,
          0,
          0,
          0,
          0,
          0,
          0,
          0,
          0,
          0,
          0,
          0,
          0,
          0,
          0,
          0,
          0,
          0,
          0,
          0,
          0,
          0,
          0,
          0,
          0,
          0,
          0,
          0,
          0,
          0,
          0,
          0,
          0,
          0
         ]
        },
        {
         "name": "bin_7",
         "textposition": "auto",
         "type": "bar",
         "x": [
          "0",
          "1",
          "2",
          "3",
          "4",
          "5",
          "6",
          "7",
          "8",
          "9",
          "10",
          "11",
          "12",
          "13",
          "14",
          "15",
          "16",
          "17",
          "18",
          "19",
          "20",
          "21",
          "22",
          "23",
          "24",
          "25",
          "26",
          "27",
          "28",
          "29",
          "30",
          "31",
          "32",
          "33",
          "34",
          "35",
          "36",
          "37",
          "38",
          "39",
          "40",
          "41",
          "42",
          "43",
          "44",
          "45",
          "46",
          "47",
          "48",
          "49",
          "50"
         ],
         "y": [
          0,
          0,
          0,
          0,
          0,
          0,
          0,
          0,
          0,
          0,
          0,
          0,
          0,
          0,
          0,
          0,
          0,
          0,
          0,
          0,
          0,
          0,
          0,
          0,
          0,
          0,
          0,
          0,
          0,
          0,
          0,
          0,
          0,
          0,
          0,
          0,
          0,
          0,
          0,
          0,
          0,
          0,
          0,
          0,
          0,
          0,
          0,
          0,
          0,
          0,
          0
         ]
        },
        {
         "name": "bin_4",
         "textposition": "auto",
         "type": "bar",
         "x": [
          "0",
          "1",
          "2",
          "3",
          "4",
          "5",
          "6",
          "7",
          "8",
          "9",
          "10",
          "11",
          "12",
          "13",
          "14",
          "15",
          "16",
          "17",
          "18",
          "19",
          "20",
          "21",
          "22",
          "23",
          "24",
          "25",
          "26",
          "27",
          "28",
          "29",
          "30",
          "31",
          "32",
          "33",
          "34",
          "35",
          "36",
          "37",
          "38",
          "39",
          "40",
          "41",
          "42",
          "43",
          "44",
          "45",
          "46",
          "47",
          "48",
          "49",
          "50"
         ],
         "y": [
          0,
          0,
          0,
          0,
          0,
          0,
          0,
          0,
          0,
          0,
          0,
          0,
          0,
          0,
          0,
          0,
          0,
          0,
          0,
          0,
          0,
          0,
          0,
          0,
          0,
          0,
          0,
          0,
          0,
          0,
          0,
          0,
          0,
          0,
          0,
          0,
          0,
          0,
          0,
          0,
          0,
          0,
          0,
          0,
          0,
          0,
          0,
          0,
          0,
          0,
          0
         ]
        },
        {
         "name": "bin_8",
         "textposition": "auto",
         "type": "bar",
         "x": [
          "0",
          "1",
          "2",
          "3",
          "4",
          "5",
          "6",
          "7",
          "8",
          "9",
          "10",
          "11",
          "12",
          "13",
          "14",
          "15",
          "16",
          "17",
          "18",
          "19",
          "20",
          "21",
          "22",
          "23",
          "24",
          "25",
          "26",
          "27",
          "28",
          "29",
          "30",
          "31",
          "32",
          "33",
          "34",
          "35",
          "36",
          "37",
          "38",
          "39",
          "40",
          "41",
          "42",
          "43",
          "44",
          "45",
          "46",
          "47",
          "48",
          "49",
          "50"
         ],
         "y": [
          149,
          155,
          134,
          164,
          146,
          158,
          158,
          169,
          124,
          162,
          143,
          139,
          149,
          152,
          150,
          152,
          142,
          159,
          152,
          156,
          145,
          173,
          157,
          131,
          154,
          147,
          157,
          154,
          164,
          166,
          142,
          131,
          150,
          152,
          147,
          159,
          151,
          168,
          149,
          138,
          152,
          147,
          149,
          138,
          170,
          151,
          164,
          160,
          165,
          151,
          161
         ]
        },
        {
         "name": "bin_2",
         "textposition": "auto",
         "type": "bar",
         "x": [
          "0",
          "1",
          "2",
          "3",
          "4",
          "5",
          "6",
          "7",
          "8",
          "9",
          "10",
          "11",
          "12",
          "13",
          "14",
          "15",
          "16",
          "17",
          "18",
          "19",
          "20",
          "21",
          "22",
          "23",
          "24",
          "25",
          "26",
          "27",
          "28",
          "29",
          "30",
          "31",
          "32",
          "33",
          "34",
          "35",
          "36",
          "37",
          "38",
          "39",
          "40",
          "41",
          "42",
          "43",
          "44",
          "45",
          "46",
          "47",
          "48",
          "49",
          "50"
         ],
         "y": [
          45,
          57,
          62,
          53,
          40,
          48,
          40,
          50,
          58,
          56,
          57,
          50,
          55,
          49,
          60,
          42,
          58,
          57,
          49,
          51,
          52,
          53,
          59,
          55,
          57,
          44,
          47,
          60,
          48,
          57,
          51,
          48,
          57,
          46,
          38,
          57,
          57,
          50,
          52,
          48,
          53,
          46,
          62,
          64,
          44,
          62,
          50,
          37,
          45,
          52,
          53
         ]
        },
        {
         "name": "bin_3",
         "textposition": "auto",
         "type": "bar",
         "x": [
          "0",
          "1",
          "2",
          "3",
          "4",
          "5",
          "6",
          "7",
          "8",
          "9",
          "10",
          "11",
          "12",
          "13",
          "14",
          "15",
          "16",
          "17",
          "18",
          "19",
          "20",
          "21",
          "22",
          "23",
          "24",
          "25",
          "26",
          "27",
          "28",
          "29",
          "30",
          "31",
          "32",
          "33",
          "34",
          "35",
          "36",
          "37",
          "38",
          "39",
          "40",
          "41",
          "42",
          "43",
          "44",
          "45",
          "46",
          "47",
          "48",
          "49",
          "50"
         ],
         "y": [
          0,
          0,
          0,
          0,
          0,
          0,
          0,
          0,
          0,
          0,
          0,
          0,
          0,
          0,
          0,
          0,
          0,
          0,
          0,
          0,
          0,
          0,
          0,
          0,
          0,
          0,
          0,
          0,
          0,
          0,
          0,
          0,
          0,
          0,
          0,
          0,
          0,
          0,
          0,
          0,
          0,
          0,
          0,
          0,
          0,
          0,
          0,
          0,
          0,
          0,
          0
         ]
        },
        {
         "name": "bin_9",
         "textposition": "auto",
         "type": "bar",
         "x": [
          "0",
          "1",
          "2",
          "3",
          "4",
          "5",
          "6",
          "7",
          "8",
          "9",
          "10",
          "11",
          "12",
          "13",
          "14",
          "15",
          "16",
          "17",
          "18",
          "19",
          "20",
          "21",
          "22",
          "23",
          "24",
          "25",
          "26",
          "27",
          "28",
          "29",
          "30",
          "31",
          "32",
          "33",
          "34",
          "35",
          "36",
          "37",
          "38",
          "39",
          "40",
          "41",
          "42",
          "43",
          "44",
          "45",
          "46",
          "47",
          "48",
          "49",
          "50"
         ],
         "y": [
          57,
          53,
          66,
          53,
          73,
          52,
          50,
          68,
          65,
          39,
          65,
          53,
          58,
          53,
          64,
          47,
          67,
          51,
          58,
          65,
          49,
          59,
          46,
          47,
          46,
          49,
          53,
          47,
          57,
          48,
          65,
          66,
          68,
          57,
          64,
          55,
          58,
          53,
          64,
          64,
          62,
          60,
          50,
          59,
          60,
          63,
          55,
          58,
          66,
          43,
          70
         ]
        },
        {
         "name": "bin_0",
         "textposition": "auto",
         "type": "bar",
         "x": [
          "0",
          "1",
          "2",
          "3",
          "4",
          "5",
          "6",
          "7",
          "8",
          "9",
          "10",
          "11",
          "12",
          "13",
          "14",
          "15",
          "16",
          "17",
          "18",
          "19",
          "20",
          "21",
          "22",
          "23",
          "24",
          "25",
          "26",
          "27",
          "28",
          "29",
          "30",
          "31",
          "32",
          "33",
          "34",
          "35",
          "36",
          "37",
          "38",
          "39",
          "40",
          "41",
          "42",
          "43",
          "44",
          "45",
          "46",
          "47",
          "48",
          "49",
          "50"
         ],
         "y": [
          197,
          169,
          174,
          178,
          184,
          190,
          182,
          156,
          190,
          179,
          183,
          189,
          179,
          188,
          164,
          195,
          173,
          180,
          180,
          177,
          194,
          165,
          173,
          196,
          179,
          197,
          177,
          196,
          168,
          181,
          186,
          184,
          174,
          167,
          182,
          176,
          169,
          170,
          171,
          180,
          163,
          174,
          191,
          174,
          161,
          164,
          172,
          191,
          170,
          206,
          157
         ]
        }
       ],
       "layout": {
        "autosize": false,
        "barmode": "stack",
        "height": 500,
        "template": {
         "data": {
          "bar": [
           {
            "error_x": {
             "color": "#2a3f5f"
            },
            "error_y": {
             "color": "#2a3f5f"
            },
            "marker": {
             "line": {
              "color": "white",
              "width": 0.5
             },
             "pattern": {
              "fillmode": "overlay",
              "size": 10,
              "solidity": 0.2
             }
            },
            "type": "bar"
           }
          ],
          "barpolar": [
           {
            "marker": {
             "line": {
              "color": "white",
              "width": 0.5
             },
             "pattern": {
              "fillmode": "overlay",
              "size": 10,
              "solidity": 0.2
             }
            },
            "type": "barpolar"
           }
          ],
          "carpet": [
           {
            "aaxis": {
             "endlinecolor": "#2a3f5f",
             "gridcolor": "#C8D4E3",
             "linecolor": "#C8D4E3",
             "minorgridcolor": "#C8D4E3",
             "startlinecolor": "#2a3f5f"
            },
            "baxis": {
             "endlinecolor": "#2a3f5f",
             "gridcolor": "#C8D4E3",
             "linecolor": "#C8D4E3",
             "minorgridcolor": "#C8D4E3",
             "startlinecolor": "#2a3f5f"
            },
            "type": "carpet"
           }
          ],
          "choropleth": [
           {
            "colorbar": {
             "outlinewidth": 0,
             "ticks": ""
            },
            "type": "choropleth"
           }
          ],
          "contour": [
           {
            "colorbar": {
             "outlinewidth": 0,
             "ticks": ""
            },
            "colorscale": [
             [
              0,
              "#0d0887"
             ],
             [
              0.1111111111111111,
              "#46039f"
             ],
             [
              0.2222222222222222,
              "#7201a8"
             ],
             [
              0.3333333333333333,
              "#9c179e"
             ],
             [
              0.4444444444444444,
              "#bd3786"
             ],
             [
              0.5555555555555556,
              "#d8576b"
             ],
             [
              0.6666666666666666,
              "#ed7953"
             ],
             [
              0.7777777777777778,
              "#fb9f3a"
             ],
             [
              0.8888888888888888,
              "#fdca26"
             ],
             [
              1,
              "#f0f921"
             ]
            ],
            "type": "contour"
           }
          ],
          "contourcarpet": [
           {
            "colorbar": {
             "outlinewidth": 0,
             "ticks": ""
            },
            "type": "contourcarpet"
           }
          ],
          "heatmap": [
           {
            "colorbar": {
             "outlinewidth": 0,
             "ticks": ""
            },
            "colorscale": [
             [
              0,
              "#0d0887"
             ],
             [
              0.1111111111111111,
              "#46039f"
             ],
             [
              0.2222222222222222,
              "#7201a8"
             ],
             [
              0.3333333333333333,
              "#9c179e"
             ],
             [
              0.4444444444444444,
              "#bd3786"
             ],
             [
              0.5555555555555556,
              "#d8576b"
             ],
             [
              0.6666666666666666,
              "#ed7953"
             ],
             [
              0.7777777777777778,
              "#fb9f3a"
             ],
             [
              0.8888888888888888,
              "#fdca26"
             ],
             [
              1,
              "#f0f921"
             ]
            ],
            "type": "heatmap"
           }
          ],
          "heatmapgl": [
           {
            "colorbar": {
             "outlinewidth": 0,
             "ticks": ""
            },
            "colorscale": [
             [
              0,
              "#0d0887"
             ],
             [
              0.1111111111111111,
              "#46039f"
             ],
             [
              0.2222222222222222,
              "#7201a8"
             ],
             [
              0.3333333333333333,
              "#9c179e"
             ],
             [
              0.4444444444444444,
              "#bd3786"
             ],
             [
              0.5555555555555556,
              "#d8576b"
             ],
             [
              0.6666666666666666,
              "#ed7953"
             ],
             [
              0.7777777777777778,
              "#fb9f3a"
             ],
             [
              0.8888888888888888,
              "#fdca26"
             ],
             [
              1,
              "#f0f921"
             ]
            ],
            "type": "heatmapgl"
           }
          ],
          "histogram": [
           {
            "marker": {
             "pattern": {
              "fillmode": "overlay",
              "size": 10,
              "solidity": 0.2
             }
            },
            "type": "histogram"
           }
          ],
          "histogram2d": [
           {
            "colorbar": {
             "outlinewidth": 0,
             "ticks": ""
            },
            "colorscale": [
             [
              0,
              "#0d0887"
             ],
             [
              0.1111111111111111,
              "#46039f"
             ],
             [
              0.2222222222222222,
              "#7201a8"
             ],
             [
              0.3333333333333333,
              "#9c179e"
             ],
             [
              0.4444444444444444,
              "#bd3786"
             ],
             [
              0.5555555555555556,
              "#d8576b"
             ],
             [
              0.6666666666666666,
              "#ed7953"
             ],
             [
              0.7777777777777778,
              "#fb9f3a"
             ],
             [
              0.8888888888888888,
              "#fdca26"
             ],
             [
              1,
              "#f0f921"
             ]
            ],
            "type": "histogram2d"
           }
          ],
          "histogram2dcontour": [
           {
            "colorbar": {
             "outlinewidth": 0,
             "ticks": ""
            },
            "colorscale": [
             [
              0,
              "#0d0887"
             ],
             [
              0.1111111111111111,
              "#46039f"
             ],
             [
              0.2222222222222222,
              "#7201a8"
             ],
             [
              0.3333333333333333,
              "#9c179e"
             ],
             [
              0.4444444444444444,
              "#bd3786"
             ],
             [
              0.5555555555555556,
              "#d8576b"
             ],
             [
              0.6666666666666666,
              "#ed7953"
             ],
             [
              0.7777777777777778,
              "#fb9f3a"
             ],
             [
              0.8888888888888888,
              "#fdca26"
             ],
             [
              1,
              "#f0f921"
             ]
            ],
            "type": "histogram2dcontour"
           }
          ],
          "mesh3d": [
           {
            "colorbar": {
             "outlinewidth": 0,
             "ticks": ""
            },
            "type": "mesh3d"
           }
          ],
          "parcoords": [
           {
            "line": {
             "colorbar": {
              "outlinewidth": 0,
              "ticks": ""
             }
            },
            "type": "parcoords"
           }
          ],
          "pie": [
           {
            "automargin": true,
            "type": "pie"
           }
          ],
          "scatter": [
           {
            "fillpattern": {
             "fillmode": "overlay",
             "size": 10,
             "solidity": 0.2
            },
            "type": "scatter"
           }
          ],
          "scatter3d": [
           {
            "line": {
             "colorbar": {
              "outlinewidth": 0,
              "ticks": ""
             }
            },
            "marker": {
             "colorbar": {
              "outlinewidth": 0,
              "ticks": ""
             }
            },
            "type": "scatter3d"
           }
          ],
          "scattercarpet": [
           {
            "marker": {
             "colorbar": {
              "outlinewidth": 0,
              "ticks": ""
             }
            },
            "type": "scattercarpet"
           }
          ],
          "scattergeo": [
           {
            "marker": {
             "colorbar": {
              "outlinewidth": 0,
              "ticks": ""
             }
            },
            "type": "scattergeo"
           }
          ],
          "scattergl": [
           {
            "marker": {
             "colorbar": {
              "outlinewidth": 0,
              "ticks": ""
             }
            },
            "type": "scattergl"
           }
          ],
          "scattermapbox": [
           {
            "marker": {
             "colorbar": {
              "outlinewidth": 0,
              "ticks": ""
             }
            },
            "type": "scattermapbox"
           }
          ],
          "scatterpolar": [
           {
            "marker": {
             "colorbar": {
              "outlinewidth": 0,
              "ticks": ""
             }
            },
            "type": "scatterpolar"
           }
          ],
          "scatterpolargl": [
           {
            "marker": {
             "colorbar": {
              "outlinewidth": 0,
              "ticks": ""
             }
            },
            "type": "scatterpolargl"
           }
          ],
          "scatterternary": [
           {
            "marker": {
             "colorbar": {
              "outlinewidth": 0,
              "ticks": ""
             }
            },
            "type": "scatterternary"
           }
          ],
          "surface": [
           {
            "colorbar": {
             "outlinewidth": 0,
             "ticks": ""
            },
            "colorscale": [
             [
              0,
              "#0d0887"
             ],
             [
              0.1111111111111111,
              "#46039f"
             ],
             [
              0.2222222222222222,
              "#7201a8"
             ],
             [
              0.3333333333333333,
              "#9c179e"
             ],
             [
              0.4444444444444444,
              "#bd3786"
             ],
             [
              0.5555555555555556,
              "#d8576b"
             ],
             [
              0.6666666666666666,
              "#ed7953"
             ],
             [
              0.7777777777777778,
              "#fb9f3a"
             ],
             [
              0.8888888888888888,
              "#fdca26"
             ],
             [
              1,
              "#f0f921"
             ]
            ],
            "type": "surface"
           }
          ],
          "table": [
           {
            "cells": {
             "fill": {
              "color": "#EBF0F8"
             },
             "line": {
              "color": "white"
             }
            },
            "header": {
             "fill": {
              "color": "#C8D4E3"
             },
             "line": {
              "color": "white"
             }
            },
            "type": "table"
           }
          ]
         },
         "layout": {
          "annotationdefaults": {
           "arrowcolor": "#2a3f5f",
           "arrowhead": 0,
           "arrowwidth": 1
          },
          "autotypenumbers": "strict",
          "coloraxis": {
           "colorbar": {
            "outlinewidth": 0,
            "ticks": ""
           }
          },
          "colorscale": {
           "diverging": [
            [
             0,
             "#8e0152"
            ],
            [
             0.1,
             "#c51b7d"
            ],
            [
             0.2,
             "#de77ae"
            ],
            [
             0.3,
             "#f1b6da"
            ],
            [
             0.4,
             "#fde0ef"
            ],
            [
             0.5,
             "#f7f7f7"
            ],
            [
             0.6,
             "#e6f5d0"
            ],
            [
             0.7,
             "#b8e186"
            ],
            [
             0.8,
             "#7fbc41"
            ],
            [
             0.9,
             "#4d9221"
            ],
            [
             1,
             "#276419"
            ]
           ],
           "sequential": [
            [
             0,
             "#0d0887"
            ],
            [
             0.1111111111111111,
             "#46039f"
            ],
            [
             0.2222222222222222,
             "#7201a8"
            ],
            [
             0.3333333333333333,
             "#9c179e"
            ],
            [
             0.4444444444444444,
             "#bd3786"
            ],
            [
             0.5555555555555556,
             "#d8576b"
            ],
            [
             0.6666666666666666,
             "#ed7953"
            ],
            [
             0.7777777777777778,
             "#fb9f3a"
            ],
            [
             0.8888888888888888,
             "#fdca26"
            ],
            [
             1,
             "#f0f921"
            ]
           ],
           "sequentialminus": [
            [
             0,
             "#0d0887"
            ],
            [
             0.1111111111111111,
             "#46039f"
            ],
            [
             0.2222222222222222,
             "#7201a8"
            ],
            [
             0.3333333333333333,
             "#9c179e"
            ],
            [
             0.4444444444444444,
             "#bd3786"
            ],
            [
             0.5555555555555556,
             "#d8576b"
            ],
            [
             0.6666666666666666,
             "#ed7953"
            ],
            [
             0.7777777777777778,
             "#fb9f3a"
            ],
            [
             0.8888888888888888,
             "#fdca26"
            ],
            [
             1,
             "#f0f921"
            ]
           ]
          },
          "colorway": [
           "#636efa",
           "#EF553B",
           "#00cc96",
           "#ab63fa",
           "#FFA15A",
           "#19d3f3",
           "#FF6692",
           "#B6E880",
           "#FF97FF",
           "#FECB52"
          ],
          "font": {
           "color": "#2a3f5f"
          },
          "geo": {
           "bgcolor": "white",
           "lakecolor": "white",
           "landcolor": "white",
           "showlakes": true,
           "showland": true,
           "subunitcolor": "#C8D4E3"
          },
          "hoverlabel": {
           "align": "left"
          },
          "hovermode": "closest",
          "mapbox": {
           "style": "light"
          },
          "paper_bgcolor": "white",
          "plot_bgcolor": "white",
          "polar": {
           "angularaxis": {
            "gridcolor": "#EBF0F8",
            "linecolor": "#EBF0F8",
            "ticks": ""
           },
           "bgcolor": "white",
           "radialaxis": {
            "gridcolor": "#EBF0F8",
            "linecolor": "#EBF0F8",
            "ticks": ""
           }
          },
          "scene": {
           "xaxis": {
            "backgroundcolor": "white",
            "gridcolor": "#DFE8F3",
            "gridwidth": 2,
            "linecolor": "#EBF0F8",
            "showbackground": true,
            "ticks": "",
            "zerolinecolor": "#EBF0F8"
           },
           "yaxis": {
            "backgroundcolor": "white",
            "gridcolor": "#DFE8F3",
            "gridwidth": 2,
            "linecolor": "#EBF0F8",
            "showbackground": true,
            "ticks": "",
            "zerolinecolor": "#EBF0F8"
           },
           "zaxis": {
            "backgroundcolor": "white",
            "gridcolor": "#DFE8F3",
            "gridwidth": 2,
            "linecolor": "#EBF0F8",
            "showbackground": true,
            "ticks": "",
            "zerolinecolor": "#EBF0F8"
           }
          },
          "shapedefaults": {
           "line": {
            "color": "#2a3f5f"
           }
          },
          "ternary": {
           "aaxis": {
            "gridcolor": "#DFE8F3",
            "linecolor": "#A2B1C6",
            "ticks": ""
           },
           "baxis": {
            "gridcolor": "#DFE8F3",
            "linecolor": "#A2B1C6",
            "ticks": ""
           },
           "bgcolor": "white",
           "caxis": {
            "gridcolor": "#DFE8F3",
            "linecolor": "#A2B1C6",
            "ticks": ""
           }
          },
          "title": {
           "x": 0.05
          },
          "xaxis": {
           "automargin": true,
           "gridcolor": "#EBF0F8",
           "linecolor": "#EBF0F8",
           "ticks": "",
           "title": {
            "standoff": 15
           },
           "zerolinecolor": "#EBF0F8",
           "zerolinewidth": 2
          },
          "yaxis": {
           "automargin": true,
           "gridcolor": "#EBF0F8",
           "linecolor": "#EBF0F8",
           "ticks": "",
           "title": {
            "standoff": 15
           },
           "zerolinecolor": "#EBF0F8",
           "zerolinewidth": 2
          }
         }
        },
        "width": 900,
        "xaxis": {
         "autorange": true,
         "range": [
          -0.5,
          50.5
         ],
         "tickfont": {
          "size": 14
         },
         "title": {
          "font": {
           "size": 14
          },
          "text": "Batch Number"
         },
         "type": "category"
        },
        "yaxis": {
         "autorange": true,
         "range": [
          0,
          538.9473684210526
         ],
         "tickfont": {
          "size": 14
         },
         "title": {
          "font": {
           "size": 14
          },
          "text": "Bin Frequency"
         },
         "type": "linear"
        }
       }
      },
      "image/png": "[encoded data removed]",
      "text/html": [
       "<div>                            <div id=\"a589eb67-ec31-4007-9830-f3d50c4f610f\" class=\"plotly-graph-div\" style=\"height:500px; width:900px;\"></div>            <script type=\"text/javascript\">                require([\"plotly\"], function(Plotly) {                    window.PLOTLYENV=window.PLOTLYENV || {};                                    if (document.getElementById(\"a589eb67-ec31-4007-9830-f3d50c4f610f\")) {                    Plotly.newPlot(                        \"a589eb67-ec31-4007-9830-f3d50c4f610f\",                        [{\"name\":\"bin_1\",\"textposition\":\"auto\",\"x\":[\"0\",\"1\",\"2\",\"3\",\"4\",\"5\",\"6\",\"7\",\"8\",\"9\",\"10\",\"11\",\"12\",\"13\",\"14\",\"15\",\"16\",\"17\",\"18\",\"19\",\"20\",\"21\",\"22\",\"23\",\"24\",\"25\",\"26\",\"27\",\"28\",\"29\",\"30\",\"31\",\"32\",\"33\",\"34\",\"35\",\"36\",\"37\",\"38\",\"39\",\"40\",\"41\",\"42\",\"43\",\"44\",\"45\",\"46\",\"47\",\"48\",\"49\",\"50\"],\"y\":[37,40,30,34,29,37,42,33,41,35,26,36,41,27,33,33,22,32,31,38,34,32,36,33,40,38,46,23,35,27,33,37,31,39,39,26,33,37,35,35,39,41,30,24,35,35,37,33,28,30,29],\"type\":\"bar\"},{\"name\":\"bin_5\",\"textposition\":\"auto\",\"x\":[\"0\",\"1\",\"2\",\"3\",\"4\",\"5\",\"6\",\"7\",\"8\",\"9\",\"10\",\"11\",\"12\",\"13\",\"14\",\"15\",\"16\",\"17\",\"18\",\"19\",\"20\",\"21\",\"22\",\"23\",\"24\",\"25\",\"26\",\"27\",\"28\",\"29\",\"30\",\"31\",\"32\",\"33\",\"34\",\"35\",\"36\",\"37\",\"38\",\"39\",\"40\",\"41\",\"42\",\"43\",\"44\",\"45\",\"46\",\"47\",\"48\",\"49\",\"50\"],\"y\":[27,38,46,30,40,27,40,36,34,41,38,45,30,43,41,43,50,33,42,25,38,30,41,50,36,37,32,32,40,33,35,46,32,51,42,39,44,34,41,47,43,44,30,53,42,37,34,33,38,30,42],\"type\":\"bar\"},{\"name\":\"bin_6\",\"textposition\":\"auto\",\"x\":[\"0\",\"1\",\"2\",\"3\",\"4\",\"5\",\"6\",\"7\",\"8\",\"9\",\"10\",\"11\",\"12\",\"13\",\"14\",\"15\",\"16\",\"17\",\"18\",\"19\",\"20\",\"21\",\"22\",\"23\",\"24\",\"25\",\"26\",\"27\",\"28\",\"29\",\"30\",\"31\",\"32\",\"33\",\"34\",\"35\",\"36\",\"37\",\"38\",\"39\",\"40\",\"41\",\"42\",\"43\",\"44\",\"45\",\"46\",\"47\",\"48\",\"49\",\"50\"],\"y\":[0,0,0,0,0,0,0,0,0,0,0,0,0,0,0,0,0,0,0,0,0,0,0,0,0,0,0,0,0,0,0,0,0,0,0,0,0,0,0,0,0,0,0,0,0,0,0,0,0,0,0],\"type\":\"bar\"},{\"name\":\"bin_7\",\"textposition\":\"auto\",\"x\":[\"0\",\"1\",\"2\",\"3\",\"4\",\"5\",\"6\",\"7\",\"8\",\"9\",\"10\",\"11\",\"12\",\"13\",\"14\",\"15\",\"16\",\"17\",\"18\",\"19\",\"20\",\"21\",\"22\",\"23\",\"24\",\"25\",\"26\",\"27\",\"28\",\"29\",\"30\",\"31\",\"32\",\"33\",\"34\",\"35\",\"36\",\"37\",\"38\",\"39\",\"40\",\"41\",\"42\",\"43\",\"44\",\"45\",\"46\",\"47\",\"48\",\"49\",\"50\"],\"y\":[0,0,0,0,0,0,0,0,0,0,0,0,0,0,0,0,0,0,0,0,0,0,0,0,0,0,0,0,0,0,0,0,0,0,0,0,0,0,0,0,0,0,0,0,0,0,0,0,0,0,0],\"type\":\"bar\"},{\"name\":\"bin_4\",\"textposition\":\"auto\",\"x\":[\"0\",\"1\",\"2\",\"3\",\"4\",\"5\",\"6\",\"7\",\"8\",\"9\",\"10\",\"11\",\"12\",\"13\",\"14\",\"15\",\"16\",\"17\",\"18\",\"19\",\"20\",\"21\",\"22\",\"23\",\"24\",\"25\",\"26\",\"27\",\"28\",\"29\",\"30\",\"31\",\"32\",\"33\",\"34\",\"35\",\"36\",\"37\",\"38\",\"39\",\"40\",\"41\",\"42\",\"43\",\"44\",\"45\",\"46\",\"47\",\"48\",\"49\",\"50\"],\"y\":[0,0,0,0,0,0,0,0,0,0,0,0,0,0,0,0,0,0,0,0,0,0,0,0,0,0,0,0,0,0,0,0,0,0,0,0,0,0,0,0,0,0,0,0,0,0,0,0,0,0,0],\"type\":\"bar\"},{\"name\":\"bin_8\",\"textposition\":\"auto\",\"x\":[\"0\",\"1\",\"2\",\"3\",\"4\",\"5\",\"6\",\"7\",\"8\",\"9\",\"10\",\"11\",\"12\",\"13\",\"14\",\"15\",\"16\",\"17\",\"18\",\"19\",\"20\",\"21\",\"22\",\"23\",\"24\",\"25\",\"26\",\"27\",\"28\",\"29\",\"30\",\"31\",\"32\",\"33\",\"34\",\"35\",\"36\",\"37\",\"38\",\"39\",\"40\",\"41\",\"42\",\"43\",\"44\",\"45\",\"46\",\"47\",\"48\",\"49\",\"50\"],\"y\":[149,155,134,164,146,158,158,169,124,162,143,139,149,152,150,152,142,159,152,156,145,173,157,131,154,147,157,154,164,166,142,131,150,152,147,159,151,168,149,138,152,147,149,138,170,151,164,160,165,151,161],\"type\":\"bar\"},{\"name\":\"bin_2\",\"textposition\":\"auto\",\"x\":[\"0\",\"1\",\"2\",\"3\",\"4\",\"5\",\"6\",\"7\",\"8\",\"9\",\"10\",\"11\",\"12\",\"13\",\"14\",\"15\",\"16\",\"17\",\"18\",\"19\",\"20\",\"21\",\"22\",\"23\",\"24\",\"25\",\"26\",\"27\",\"28\",\"29\",\"30\",\"31\",\"32\",\"33\",\"34\",\"35\",\"36\",\"37\",\"38\",\"39\",\"40\",\"41\",\"42\",\"43\",\"44\",\"45\",\"46\",\"47\",\"48\",\"49\",\"50\"],\"y\":[45,57,62,53,40,48,40,50,58,56,57,50,55,49,60,42,58,57,49,51,52,53,59,55,57,44,47,60,48,57,51,48,57,46,38,57,57,50,52,48,53,46,62,64,44,62,50,37,45,52,53],\"type\":\"bar\"},{\"name\":\"bin_3\",\"textposition\":\"auto\",\"x\":[\"0\",\"1\",\"2\",\"3\",\"4\",\"5\",\"6\",\"7\",\"8\",\"9\",\"10\",\"11\",\"12\",\"13\",\"14\",\"15\",\"16\",\"17\",\"18\",\"19\",\"20\",\"21\",\"22\",\"23\",\"24\",\"25\",\"26\",\"27\",\"28\",\"29\",\"30\",\"31\",\"32\",\"33\",\"34\",\"35\",\"36\",\"37\",\"38\",\"39\",\"40\",\"41\",\"42\",\"43\",\"44\",\"45\",\"46\",\"47\",\"48\",\"49\",\"50\"],\"y\":[0,0,0,0,0,0,0,0,0,0,0,0,0,0,0,0,0,0,0,0,0,0,0,0,0,0,0,0,0,0,0,0,0,0,0,0,0,0,0,0,0,0,0,0,0,0,0,0,0,0,0],\"type\":\"bar\"},{\"name\":\"bin_9\",\"textposition\":\"auto\",\"x\":[\"0\",\"1\",\"2\",\"3\",\"4\",\"5\",\"6\",\"7\",\"8\",\"9\",\"10\",\"11\",\"12\",\"13\",\"14\",\"15\",\"16\",\"17\",\"18\",\"19\",\"20\",\"21\",\"22\",\"23\",\"24\",\"25\",\"26\",\"27\",\"28\",\"29\",\"30\",\"31\",\"32\",\"33\",\"34\",\"35\",\"36\",\"37\",\"38\",\"39\",\"40\",\"41\",\"42\",\"43\",\"44\",\"45\",\"46\",\"47\",\"48\",\"49\",\"50\"],\"y\":[57,53,66,53,73,52,50,68,65,39,65,53,58,53,64,47,67,51,58,65,49,59,46,47,46,49,53,47,57,48,65,66,68,57,64,55,58,53,64,64,62,60,50,59,60,63,55,58,66,43,70],\"type\":\"bar\"},{\"name\":\"bin_0\",\"textposition\":\"auto\",\"x\":[\"0\",\"1\",\"2\",\"3\",\"4\",\"5\",\"6\",\"7\",\"8\",\"9\",\"10\",\"11\",\"12\",\"13\",\"14\",\"15\",\"16\",\"17\",\"18\",\"19\",\"20\",\"21\",\"22\",\"23\",\"24\",\"25\",\"26\",\"27\",\"28\",\"29\",\"30\",\"31\",\"32\",\"33\",\"34\",\"35\",\"36\",\"37\",\"38\",\"39\",\"40\",\"41\",\"42\",\"43\",\"44\",\"45\",\"46\",\"47\",\"48\",\"49\",\"50\"],\"y\":[197,169,174,178,184,190,182,156,190,179,183,189,179,188,164,195,173,180,180,177,194,165,173,196,179,197,177,196,168,181,186,184,174,167,182,176,169,170,171,180,163,174,191,174,161,164,172,191,170,206,157],\"type\":\"bar\"}],                        {\"template\":{\"data\":{\"histogram2dcontour\":[{\"type\":\"histogram2dcontour\",\"colorbar\":{\"outlinewidth\":0,\"ticks\":\"\"},\"colorscale\":[[0.0,\"#0d0887\"],[0.1111111111111111,\"#46039f\"],[0.2222222222222222,\"#7201a8\"],[0.3333333333333333,\"#9c179e\"],[0.4444444444444444,\"#bd3786\"],[0.5555555555555556,\"#d8576b\"],[0.6666666666666666,\"#ed7953\"],[0.7777777777777778,\"#fb9f3a\"],[0.8888888888888888,\"#fdca26\"],[1.0,\"#f0f921\"]]}],\"choropleth\":[{\"type\":\"choropleth\",\"colorbar\":{\"outlinewidth\":0,\"ticks\":\"\"}}],\"histogram2d\":[{\"type\":\"histogram2d\",\"colorbar\":{\"outlinewidth\":0,\"ticks\":\"\"},\"colorscale\":[[0.0,\"#0d0887\"],[0.1111111111111111,\"#46039f\"],[0.2222222222222222,\"#7201a8\"],[0.3333333333333333,\"#9c179e\"],[0.4444444444444444,\"#bd3786\"],[0.5555555555555556,\"#d8576b\"],[0.6666666666666666,\"#ed7953\"],[0.7777777777777778,\"#fb9f3a\"],[0.8888888888888888,\"#fdca26\"],[1.0,\"#f0f921\"]]}],\"heatmap\":[{\"type\":\"heatmap\",\"colorbar\":{\"outlinewidth\":0,\"ticks\":\"\"},\"colorscale\":[[0.0,\"#0d0887\"],[0.1111111111111111,\"#46039f\"],[0.2222222222222222,\"#7201a8\"],[0.3333333333333333,\"#9c179e\"],[0.4444444444444444,\"#bd3786\"],[0.5555555555555556,\"#d8576b\"],[0.6666666666666666,\"#ed7953\"],[0.7777777777777778,\"#fb9f3a\"],[0.8888888888888888,\"#fdca26\"],[1.0,\"#f0f921\"]]}],\"heatmapgl\":[{\"type\":\"heatmapgl\",\"colorbar\":{\"outlinewidth\":0,\"ticks\":\"\"},\"colorscale\":[[0.0,\"#0d0887\"],[0.1111111111111111,\"#46039f\"],[0.2222222222222222,\"#7201a8\"],[0.3333333333333333,\"#9c179e\"],[0.4444444444444444,\"#bd3786\"],[0.5555555555555556,\"#d8576b\"],[0.6666666666666666,\"#ed7953\"],[0.7777777777777778,\"#fb9f3a\"],[0.8888888888888888,\"#fdca26\"],[1.0,\"#f0f921\"]]}],\"contourcarpet\":[{\"type\":\"contourcarpet\",\"colorbar\":{\"outlinewidth\":0,\"ticks\":\"\"}}],\"contour\":[{\"type\":\"contour\",\"colorbar\":{\"outlinewidth\":0,\"ticks\":\"\"},\"colorscale\":[[0.0,\"#0d0887\"],[0.1111111111111111,\"#46039f\"],[0.2222222222222222,\"#7201a8\"],[0.3333333333333333,\"#9c179e\"],[0.4444444444444444,\"#bd3786\"],[0.5555555555555556,\"#d8576b\"],[0.6666666666666666,\"#ed7953\"],[0.7777777777777778,\"#fb9f3a\"],[0.8888888888888888,\"#fdca26\"],[1.0,\"#f0f921\"]]}],\"surface\":[{\"type\":\"surface\",\"colorbar\":{\"outlinewidth\":0,\"ticks\":\"\"},\"colorscale\":[[0.0,\"#0d0887\"],[0.1111111111111111,\"#46039f\"],[0.2222222222222222,\"#7201a8\"],[0.3333333333333333,\"#9c179e\"],[0.4444444444444444,\"#bd3786\"],[0.5555555555555556,\"#d8576b\"],[0.6666666666666666,\"#ed7953\"],[0.7777777777777778,\"#fb9f3a\"],[0.8888888888888888,\"#fdca26\"],[1.0,\"#f0f921\"]]}],\"mesh3d\":[{\"type\":\"mesh3d\",\"colorbar\":{\"outlinewidth\":0,\"ticks\":\"\"}}],\"scatter\":[{\"fillpattern\":{\"fillmode\":\"overlay\",\"size\":10,\"solidity\":0.2},\"type\":\"scatter\"}],\"parcoords\":[{\"type\":\"parcoords\",\"line\":{\"colorbar\":{\"outlinewidth\":0,\"ticks\":\"\"}}}],\"scatterpolargl\":[{\"type\":\"scatterpolargl\",\"marker\":{\"colorbar\":{\"outlinewidth\":0,\"ticks\":\"\"}}}],\"bar\":[{\"error_x\":{\"color\":\"#2a3f5f\"},\"error_y\":{\"color\":\"#2a3f5f\"},\"marker\":{\"line\":{\"color\":\"white\",\"width\":0.5},\"pattern\":{\"fillmode\":\"overlay\",\"size\":10,\"solidity\":0.2}},\"type\":\"bar\"}],\"scattergeo\":[{\"type\":\"scattergeo\",\"marker\":{\"colorbar\":{\"outlinewidth\":0,\"ticks\":\"\"}}}],\"scatterpolar\":[{\"type\":\"scatterpolar\",\"marker\":{\"colorbar\":{\"outlinewidth\":0,\"ticks\":\"\"}}}],\"histogram\":[{\"marker\":{\"pattern\":{\"fillmode\":\"overlay\",\"size\":10,\"solidity\":0.2}},\"type\":\"histogram\"}],\"scattergl\":[{\"type\":\"scattergl\",\"marker\":{\"colorbar\":{\"outlinewidth\":0,\"ticks\":\"\"}}}],\"scatter3d\":[{\"type\":\"scatter3d\",\"line\":{\"colorbar\":{\"outlinewidth\":0,\"ticks\":\"\"}},\"marker\":{\"colorbar\":{\"outlinewidth\":0,\"ticks\":\"\"}}}],\"scattermapbox\":[{\"type\":\"scattermapbox\",\"marker\":{\"colorbar\":{\"outlinewidth\":0,\"ticks\":\"\"}}}],\"scatterternary\":[{\"type\":\"scatterternary\",\"marker\":{\"colorbar\":{\"outlinewidth\":0,\"ticks\":\"\"}}}],\"scattercarpet\":[{\"type\":\"scattercarpet\",\"marker\":{\"colorbar\":{\"outlinewidth\":0,\"ticks\":\"\"}}}],\"carpet\":[{\"aaxis\":{\"endlinecolor\":\"#2a3f5f\",\"gridcolor\":\"#C8D4E3\",\"linecolor\":\"#C8D4E3\",\"minorgridcolor\":\"#C8D4E3\",\"startlinecolor\":\"#2a3f5f\"},\"baxis\":{\"endlinecolor\":\"#2a3f5f\",\"gridcolor\":\"#C8D4E3\",\"linecolor\":\"#C8D4E3\",\"minorgridcolor\":\"#C8D4E3\",\"startlinecolor\":\"#2a3f5f\"},\"type\":\"carpet\"}],\"table\":[{\"cells\":{\"fill\":{\"color\":\"#EBF0F8\"},\"line\":{\"color\":\"white\"}},\"header\":{\"fill\":{\"color\":\"#C8D4E3\"},\"line\":{\"color\":\"white\"}},\"type\":\"table\"}],\"barpolar\":[{\"marker\":{\"line\":{\"color\":\"white\",\"width\":0.5},\"pattern\":{\"fillmode\":\"overlay\",\"size\":10,\"solidity\":0.2}},\"type\":\"barpolar\"}],\"pie\":[{\"automargin\":true,\"type\":\"pie\"}]},\"layout\":{\"autotypenumbers\":\"strict\",\"colorway\":[\"#636efa\",\"#EF553B\",\"#00cc96\",\"#ab63fa\",\"#FFA15A\",\"#19d3f3\",\"#FF6692\",\"#B6E880\",\"#FF97FF\",\"#FECB52\"],\"font\":{\"color\":\"#2a3f5f\"},\"hovermode\":\"closest\",\"hoverlabel\":{\"align\":\"left\"},\"paper_bgcolor\":\"white\",\"plot_bgcolor\":\"white\",\"polar\":{\"bgcolor\":\"white\",\"angularaxis\":{\"gridcolor\":\"#EBF0F8\",\"linecolor\":\"#EBF0F8\",\"ticks\":\"\"},\"radialaxis\":{\"gridcolor\":\"#EBF0F8\",\"linecolor\":\"#EBF0F8\",\"ticks\":\"\"}},\"ternary\":{\"bgcolor\":\"white\",\"aaxis\":{\"gridcolor\":\"#DFE8F3\",\"linecolor\":\"#A2B1C6\",\"ticks\":\"\"},\"baxis\":{\"gridcolor\":\"#DFE8F3\",\"linecolor\":\"#A2B1C6\",\"ticks\":\"\"},\"caxis\":{\"gridcolor\":\"#DFE8F3\",\"linecolor\":\"#A2B1C6\",\"ticks\":\"\"}},\"coloraxis\":{\"colorbar\":{\"outlinewidth\":0,\"ticks\":\"\"}},\"colorscale\":{\"sequential\":[[0.0,\"#0d0887\"],[0.1111111111111111,\"#46039f\"],[0.2222222222222222,\"#7201a8\"],[0.3333333333333333,\"#9c179e\"],[0.4444444444444444,\"#bd3786\"],[0.5555555555555556,\"#d8576b\"],[0.6666666666666666,\"#ed7953\"],[0.7777777777777778,\"#fb9f3a\"],[0.8888888888888888,\"#fdca26\"],[1.0,\"#f0f921\"]],\"sequentialminus\":[[0.0,\"#0d0887\"],[0.1111111111111111,\"#46039f\"],[0.2222222222222222,\"#7201a8\"],[0.3333333333333333,\"#9c179e\"],[0.4444444444444444,\"#bd3786\"],[0.5555555555555556,\"#d8576b\"],[0.6666666666666666,\"#ed7953\"],[0.7777777777777778,\"#fb9f3a\"],[0.8888888888888888,\"#fdca26\"],[1.0,\"#f0f921\"]],\"diverging\":[[0,\"#8e0152\"],[0.1,\"#c51b7d\"],[0.2,\"#de77ae\"],[0.3,\"#f1b6da\"],[0.4,\"#fde0ef\"],[0.5,\"#f7f7f7\"],[0.6,\"#e6f5d0\"],[0.7,\"#b8e186\"],[0.8,\"#7fbc41\"],[0.9,\"#4d9221\"],[1,\"#276419\"]]},\"xaxis\":{\"gridcolor\":\"#EBF0F8\",\"linecolor\":\"#EBF0F8\",\"ticks\":\"\",\"title\":{\"standoff\":15},\"zerolinecolor\":\"#EBF0F8\",\"automargin\":true,\"zerolinewidth\":2},\"yaxis\":{\"gridcolor\":\"#EBF0F8\",\"linecolor\":\"#EBF0F8\",\"ticks\":\"\",\"title\":{\"standoff\":15},\"zerolinecolor\":\"#EBF0F8\",\"automargin\":true,\"zerolinewidth\":2},\"scene\":{\"xaxis\":{\"backgroundcolor\":\"white\",\"gridcolor\":\"#DFE8F3\",\"linecolor\":\"#EBF0F8\",\"showbackground\":true,\"ticks\":\"\",\"zerolinecolor\":\"#EBF0F8\",\"gridwidth\":2},\"yaxis\":{\"backgroundcolor\":\"white\",\"gridcolor\":\"#DFE8F3\",\"linecolor\":\"#EBF0F8\",\"showbackground\":true,\"ticks\":\"\",\"zerolinecolor\":\"#EBF0F8\",\"gridwidth\":2},\"zaxis\":{\"backgroundcolor\":\"white\",\"gridcolor\":\"#DFE8F3\",\"linecolor\":\"#EBF0F8\",\"showbackground\":true,\"ticks\":\"\",\"zerolinecolor\":\"#EBF0F8\",\"gridwidth\":2}},\"shapedefaults\":{\"line\":{\"color\":\"#2a3f5f\"}},\"annotationdefaults\":{\"arrowcolor\":\"#2a3f5f\",\"arrowhead\":0,\"arrowwidth\":1},\"geo\":{\"bgcolor\":\"white\",\"landcolor\":\"white\",\"subunitcolor\":\"#C8D4E3\",\"showland\":true,\"showlakes\":true,\"lakecolor\":\"white\"},\"title\":{\"x\":0.05},\"mapbox\":{\"style\":\"light\"}}},\"yaxis\":{\"title\":{\"font\":{\"size\":14},\"text\":\"Bin Frequency\"},\"tickfont\":{\"size\":14}},\"xaxis\":{\"title\":{\"font\":{\"size\":14},\"text\":\"Batch Number\"},\"tickfont\":{\"size\":14}},\"autosize\":false,\"width\":900,\"height\":500,\"barmode\":\"stack\"},                        {\"responsive\": true}                    ).then(function(){\n",
       "                            \n",
       "var gd = document.getElementById('a589eb67-ec31-4007-9830-f3d50c4f610f');\n",
       "var x = new MutationObserver(function (mutations, observer) {{\n",
       "        var display = window.getComputedStyle(gd).display;\n",
       "        if (!display || display === 'none') {{\n",
       "            console.log([gd, 'removed!']);\n",
       "            Plotly.purge(gd);\n",
       "            observer.disconnect();\n",
       "        }}\n",
       "}});\n",
       "\n",
       "// Listen for the removal of the full notebook cells\n",
       "var notebookContainer = gd.closest('#notebook-container');\n",
       "if (notebookContainer) {{\n",
       "    x.observe(notebookContainer, {childList: true});\n",
       "}}\n",
       "\n",
       "// Listen for the clearing of the current output cell\n",
       "var outputEl = gd.closest('.output');\n",
       "if (outputEl) {{\n",
       "    x.observe(outputEl, {childList: true});\n",
       "}}\n",
       "\n",
       "                        })                };                });            </script>        </div>"
      ]
     },
     "metadata": {},
     "output_type": "display_data"
    }
   ],
   "source": [
    "fig = plot_batches(all_batches)\n",
    "fig.update_layout(\n",
    "        autosize=False,\n",
    "        width=900,\n",
    "        height=500,\n",
    "    # title_text=\"\",\n",
    "        yaxis=dict(\n",
    "            title_text=\"Bin Frequency\",\n",
    "            titlefont=dict(size=14),\n",
    "            tickfont=dict(size=14),\n",
    "        ),\n",
    "        xaxis=dict(\n",
    "            title_text=\"Batch Number\",\n",
    "            titlefont=dict(size=14),\n",
    "            tickfont=dict(size=14),\n",
    "        ),\n",
    "    barmode=\"stack\",\n",
    "    )\n",
    "fig.show()"
   ]
  },
  {
   "cell_type": "markdown",
   "id": "47a485fe-bf44-4f59-ad1c-cf4f0f9d36d6",
   "metadata": {
    "tags": []
   },
   "source": [
    "#### With Batch Samplers"
   ]
  },
  {
   "cell_type": "markdown",
   "id": "2e308058-2058-4489-ae2b-79cccb2aa14d",
   "metadata": {},
   "source": [
    "We define a probabilitywhich makes the batch balanced across different batches.\n",
    "\n",
    "We can use the bins of the length of time series and initializing the weights as 1/frequency of each bin. This makes the sampling focus more on low frequency bins and make single batch equal"
   ]
  },
  {
   "cell_type": "code",
   "execution_count": 146,
   "id": "6af871ba-d2ed-4b9b-9d73-b260969780c9",
   "metadata": {},
   "outputs": [],
   "source": [
    "# df = training.index.copy()\n",
    "# df['bins'] = pd.cut(df[\"count\"], bins=10).cat.rename_categories({\n",
    "#     f\"bin_{i}\" for i, _ in enumerate(range(10)) \n",
    "# })\n",
    "# df['bins'] = out\n",
    "\n",
    "weights = 1/df['bins'].value_counts(normalize=True)\n",
    "\n",
    "weights = weights.reset_index().rename(columns={\"index\":\"bins\", \"bins\":\"weight\"})\n",
    "# df = training.index.copy()\n",
    "df = df.merge(weights, on='bins', how='left')\n",
    "probabilities = df.weight.values"
   ]
  },
  {
   "cell_type": "code",
   "execution_count": 147,
   "id": "5aeeca97-91f8-4c8b-8bc4-a3eaf0fb2218",
   "metadata": {},
   "outputs": [],
   "source": [
    "from torch.utils.data import WeightedRandomSampler\n",
    "sampler = WeightedRandomSampler(probabilities, len(probabilities))"
   ]
  },
  {
   "cell_type": "code",
   "execution_count": 148,
   "id": "d08cc96c-9f05-423a-aa9c-53ee0558e60c",
   "metadata": {},
   "outputs": [
    {
     "data": {
      "application/vnd.jupyter.widget-view+json": {
       "model_id": "62374fe526214824b9a36aafd6c45cf4",
       "version_major": 2,
       "version_minor": 0
      },
      "text/plain": [
       "  0%|          | 0/50 [00:00<?, ?it/s]"
      ]
     },
     "metadata": {},
     "output_type": "display_data"
    }
   ],
   "source": [
    "train_dataloader = training.to_dataloader(train=True, batch_size=batch_size, num_workers=0, sampler=sampler, shuffle=False)\n",
    "all_batches = get_batch_count(train_dataloader, n=50)"
   ]
  },
  {
   "cell_type": "code",
   "execution_count": 149,
   "id": "3fe2164c-e2b9-4a65-bb70-3bc393cc84df",
   "metadata": {},
   "outputs": [
    {
     "data": {
      "application/vnd.plotly.v1+json": {
       "config": {
        "plotlyServerURL": "https://plot.ly"
       },
       "data": [
        {
         "name": "bin_1",
         "textposition": "auto",
         "type": "bar",
         "x": [
          "0",
          "1",
          "2",
          "3",
          "4",
          "5",
          "6",
          "7",
          "8",
          "9",
          "10",
          "11",
          "12",
          "13",
          "14",
          "15",
          "16",
          "17",
          "18",
          "19",
          "20",
          "21",
          "22",
          "23",
          "24",
          "25",
          "26",
          "27",
          "28",
          "29",
          "30",
          "31",
          "32",
          "33",
          "34",
          "35",
          "36",
          "37",
          "38",
          "39",
          "40",
          "41",
          "42",
          "43",
          "44",
          "45",
          "46",
          "47",
          "48",
          "49",
          "50"
         ],
         "y": [
          103,
          99,
          82,
          74,
          92,
          77,
          78,
          85,
          91,
          81,
          91,
          83,
          84,
          90,
          80,
          84,
          85,
          89,
          80,
          79,
          96,
          82,
          91,
          99,
          78,
          80,
          94,
          79,
          88,
          77,
          87,
          90,
          77,
          84,
          95,
          78,
          71,
          99,
          85,
          76,
          86,
          67,
          101,
          85,
          87,
          99,
          76,
          101,
          77,
          80,
          75
         ]
        },
        {
         "name": "bin_5",
         "textposition": "auto",
         "type": "bar",
         "x": [
          "0",
          "1",
          "2",
          "3",
          "4",
          "5",
          "6",
          "7",
          "8",
          "9",
          "10",
          "11",
          "12",
          "13",
          "14",
          "15",
          "16",
          "17",
          "18",
          "19",
          "20",
          "21",
          "22",
          "23",
          "24",
          "25",
          "26",
          "27",
          "28",
          "29",
          "30",
          "31",
          "32",
          "33",
          "34",
          "35",
          "36",
          "37",
          "38",
          "39",
          "40",
          "41",
          "42",
          "43",
          "44",
          "45",
          "46",
          "47",
          "48",
          "49",
          "50"
         ],
         "y": [
          74,
          85,
          87,
          87,
          77,
          90,
          92,
          81,
          80,
          79,
          73,
          85,
          92,
          82,
          90,
          88,
          97,
          72,
          90,
          87,
          96,
          93,
          99,
          98,
          79,
          98,
          82,
          98,
          83,
          91,
          79,
          93,
          90,
          93,
          86,
          74,
          112,
          83,
          75,
          79,
          89,
          95,
          72,
          63,
          83,
          80,
          88,
          81,
          94,
          78,
          94
         ]
        },
        {
         "name": "bin_6",
         "textposition": "auto",
         "type": "bar",
         "x": [
          "0",
          "1",
          "2",
          "3",
          "4",
          "5",
          "6",
          "7",
          "8",
          "9",
          "10",
          "11",
          "12",
          "13",
          "14",
          "15",
          "16",
          "17",
          "18",
          "19",
          "20",
          "21",
          "22",
          "23",
          "24",
          "25",
          "26",
          "27",
          "28",
          "29",
          "30",
          "31",
          "32",
          "33",
          "34",
          "35",
          "36",
          "37",
          "38",
          "39",
          "40",
          "41",
          "42",
          "43",
          "44",
          "45",
          "46",
          "47",
          "48",
          "49",
          "50"
         ],
         "y": [
          0,
          0,
          0,
          0,
          0,
          0,
          0,
          0,
          0,
          0,
          0,
          0,
          0,
          0,
          0,
          0,
          0,
          0,
          0,
          0,
          0,
          0,
          0,
          0,
          0,
          0,
          0,
          0,
          0,
          0,
          0,
          0,
          0,
          0,
          0,
          0,
          0,
          0,
          0,
          0,
          0,
          0,
          0,
          0,
          0,
          0,
          0,
          0,
          0,
          0,
          0
         ]
        },
        {
         "name": "bin_7",
         "textposition": "auto",
         "type": "bar",
         "x": [
          "0",
          "1",
          "2",
          "3",
          "4",
          "5",
          "6",
          "7",
          "8",
          "9",
          "10",
          "11",
          "12",
          "13",
          "14",
          "15",
          "16",
          "17",
          "18",
          "19",
          "20",
          "21",
          "22",
          "23",
          "24",
          "25",
          "26",
          "27",
          "28",
          "29",
          "30",
          "31",
          "32",
          "33",
          "34",
          "35",
          "36",
          "37",
          "38",
          "39",
          "40",
          "41",
          "42",
          "43",
          "44",
          "45",
          "46",
          "47",
          "48",
          "49",
          "50"
         ],
         "y": [
          0,
          0,
          0,
          0,
          0,
          0,
          0,
          0,
          0,
          0,
          0,
          0,
          0,
          0,
          0,
          0,
          0,
          0,
          0,
          0,
          0,
          0,
          0,
          0,
          0,
          0,
          0,
          0,
          0,
          0,
          0,
          0,
          0,
          0,
          0,
          0,
          0,
          0,
          0,
          0,
          0,
          0,
          0,
          0,
          0,
          0,
          0,
          0,
          0,
          0,
          0
         ]
        },
        {
         "name": "bin_4",
         "textposition": "auto",
         "type": "bar",
         "x": [
          "0",
          "1",
          "2",
          "3",
          "4",
          "5",
          "6",
          "7",
          "8",
          "9",
          "10",
          "11",
          "12",
          "13",
          "14",
          "15",
          "16",
          "17",
          "18",
          "19",
          "20",
          "21",
          "22",
          "23",
          "24",
          "25",
          "26",
          "27",
          "28",
          "29",
          "30",
          "31",
          "32",
          "33",
          "34",
          "35",
          "36",
          "37",
          "38",
          "39",
          "40",
          "41",
          "42",
          "43",
          "44",
          "45",
          "46",
          "47",
          "48",
          "49",
          "50"
         ],
         "y": [
          0,
          0,
          0,
          0,
          0,
          0,
          0,
          0,
          0,
          0,
          0,
          0,
          0,
          0,
          0,
          0,
          0,
          0,
          0,
          0,
          0,
          0,
          0,
          0,
          0,
          0,
          0,
          0,
          0,
          0,
          0,
          0,
          0,
          0,
          0,
          0,
          0,
          0,
          0,
          0,
          0,
          0,
          0,
          0,
          0,
          0,
          0,
          0,
          0,
          0,
          0
         ]
        },
        {
         "name": "bin_8",
         "textposition": "auto",
         "type": "bar",
         "x": [
          "0",
          "1",
          "2",
          "3",
          "4",
          "5",
          "6",
          "7",
          "8",
          "9",
          "10",
          "11",
          "12",
          "13",
          "14",
          "15",
          "16",
          "17",
          "18",
          "19",
          "20",
          "21",
          "22",
          "23",
          "24",
          "25",
          "26",
          "27",
          "28",
          "29",
          "30",
          "31",
          "32",
          "33",
          "34",
          "35",
          "36",
          "37",
          "38",
          "39",
          "40",
          "41",
          "42",
          "43",
          "44",
          "45",
          "46",
          "47",
          "48",
          "49",
          "50"
         ],
         "y": [
          84,
          87,
          94,
          88,
          72,
          104,
          87,
          84,
          63,
          94,
          74,
          77,
          78,
          81,
          88,
          94,
          74,
          78,
          92,
          74,
          69,
          78,
          76,
          83,
          88,
          78,
          85,
          83,
          88,
          73,
          90,
          87,
          101,
          80,
          77,
          87,
          74,
          83,
          77,
          85,
          77,
          92,
          98,
          112,
          79,
          78,
          105,
          84,
          73,
          98,
          96
         ]
        },
        {
         "name": "bin_2",
         "textposition": "auto",
         "type": "bar",
         "x": [
          "0",
          "1",
          "2",
          "3",
          "4",
          "5",
          "6",
          "7",
          "8",
          "9",
          "10",
          "11",
          "12",
          "13",
          "14",
          "15",
          "16",
          "17",
          "18",
          "19",
          "20",
          "21",
          "22",
          "23",
          "24",
          "25",
          "26",
          "27",
          "28",
          "29",
          "30",
          "31",
          "32",
          "33",
          "34",
          "35",
          "36",
          "37",
          "38",
          "39",
          "40",
          "41",
          "42",
          "43",
          "44",
          "45",
          "46",
          "47",
          "48",
          "49",
          "50"
         ],
         "y": [
          88,
          95,
          82,
          89,
          94,
          75,
          81,
          83,
          110,
          105,
          91,
          96,
          82,
          82,
          97,
          103,
          68,
          95,
          76,
          90,
          88,
          92,
          91,
          90,
          76,
          81,
          84,
          83,
          98,
          85,
          92,
          84,
          88,
          82,
          86,
          99,
          89,
          74,
          95,
          85,
          83,
          94,
          88,
          89,
          89,
          98,
          77,
          86,
          102,
          78,
          93
         ]
        },
        {
         "name": "bin_3",
         "textposition": "auto",
         "type": "bar",
         "x": [
          "0",
          "1",
          "2",
          "3",
          "4",
          "5",
          "6",
          "7",
          "8",
          "9",
          "10",
          "11",
          "12",
          "13",
          "14",
          "15",
          "16",
          "17",
          "18",
          "19",
          "20",
          "21",
          "22",
          "23",
          "24",
          "25",
          "26",
          "27",
          "28",
          "29",
          "30",
          "31",
          "32",
          "33",
          "34",
          "35",
          "36",
          "37",
          "38",
          "39",
          "40",
          "41",
          "42",
          "43",
          "44",
          "45",
          "46",
          "47",
          "48",
          "49",
          "50"
         ],
         "y": [
          0,
          0,
          0,
          0,
          0,
          0,
          0,
          0,
          0,
          0,
          0,
          0,
          0,
          0,
          0,
          0,
          0,
          0,
          0,
          0,
          0,
          0,
          0,
          0,
          0,
          0,
          0,
          0,
          0,
          0,
          0,
          0,
          0,
          0,
          0,
          0,
          0,
          0,
          0,
          0,
          0,
          0,
          0,
          0,
          0,
          0,
          0,
          0,
          0,
          0,
          0
         ]
        },
        {
         "name": "bin_9",
         "textposition": "auto",
         "type": "bar",
         "x": [
          "0",
          "1",
          "2",
          "3",
          "4",
          "5",
          "6",
          "7",
          "8",
          "9",
          "10",
          "11",
          "12",
          "13",
          "14",
          "15",
          "16",
          "17",
          "18",
          "19",
          "20",
          "21",
          "22",
          "23",
          "24",
          "25",
          "26",
          "27",
          "28",
          "29",
          "30",
          "31",
          "32",
          "33",
          "34",
          "35",
          "36",
          "37",
          "38",
          "39",
          "40",
          "41",
          "42",
          "43",
          "44",
          "45",
          "46",
          "47",
          "48",
          "49",
          "50"
         ],
         "y": [
          89,
          59,
          88,
          77,
          69,
          93,
          81,
          92,
          80,
          70,
          97,
          84,
          78,
          97,
          76,
          81,
          105,
          78,
          84,
          91,
          77,
          71,
          73,
          77,
          92,
          88,
          95,
          84,
          83,
          85,
          68,
          80,
          72,
          90,
          81,
          82,
          86,
          76,
          100,
          88,
          84,
          86,
          75,
          82,
          91,
          74,
          78,
          77,
          83,
          100,
          74
         ]
        },
        {
         "name": "bin_0",
         "textposition": "auto",
         "type": "bar",
         "x": [
          "0",
          "1",
          "2",
          "3",
          "4",
          "5",
          "6",
          "7",
          "8",
          "9",
          "10",
          "11",
          "12",
          "13",
          "14",
          "15",
          "16",
          "17",
          "18",
          "19",
          "20",
          "21",
          "22",
          "23",
          "24",
          "25",
          "26",
          "27",
          "28",
          "29",
          "30",
          "31",
          "32",
          "33",
          "34",
          "35",
          "36",
          "37",
          "38",
          "39",
          "40",
          "41",
          "42",
          "43",
          "44",
          "45",
          "46",
          "47",
          "48",
          "49",
          "50"
         ],
         "y": [
          74,
          87,
          79,
          97,
          108,
          73,
          93,
          87,
          88,
          83,
          86,
          87,
          98,
          80,
          81,
          62,
          83,
          100,
          90,
          91,
          86,
          96,
          82,
          65,
          99,
          87,
          72,
          85,
          72,
          101,
          96,
          78,
          84,
          83,
          87,
          92,
          80,
          97,
          80,
          99,
          93,
          78,
          78,
          81,
          83,
          83,
          88,
          83,
          83,
          78,
          80
         ]
        }
       ],
       "layout": {
        "autosize": false,
        "barmode": "stack",
        "height": 500,
        "template": {
         "data": {
          "bar": [
           {
            "error_x": {
             "color": "#2a3f5f"
            },
            "error_y": {
             "color": "#2a3f5f"
            },
            "marker": {
             "line": {
              "color": "white",
              "width": 0.5
             },
             "pattern": {
              "fillmode": "overlay",
              "size": 10,
              "solidity": 0.2
             }
            },
            "type": "bar"
           }
          ],
          "barpolar": [
           {
            "marker": {
             "line": {
              "color": "white",
              "width": 0.5
             },
             "pattern": {
              "fillmode": "overlay",
              "size": 10,
              "solidity": 0.2
             }
            },
            "type": "barpolar"
           }
          ],
          "carpet": [
           {
            "aaxis": {
             "endlinecolor": "#2a3f5f",
             "gridcolor": "#C8D4E3",
             "linecolor": "#C8D4E3",
             "minorgridcolor": "#C8D4E3",
             "startlinecolor": "#2a3f5f"
            },
            "baxis": {
             "endlinecolor": "#2a3f5f",
             "gridcolor": "#C8D4E3",
             "linecolor": "#C8D4E3",
             "minorgridcolor": "#C8D4E3",
             "startlinecolor": "#2a3f5f"
            },
            "type": "carpet"
           }
          ],
          "choropleth": [
           {
            "colorbar": {
             "outlinewidth": 0,
             "ticks": ""
            },
            "type": "choropleth"
           }
          ],
          "contour": [
           {
            "colorbar": {
             "outlinewidth": 0,
             "ticks": ""
            },
            "colorscale": [
             [
              0,
              "#0d0887"
             ],
             [
              0.1111111111111111,
              "#46039f"
             ],
             [
              0.2222222222222222,
              "#7201a8"
             ],
             [
              0.3333333333333333,
              "#9c179e"
             ],
             [
              0.4444444444444444,
              "#bd3786"
             ],
             [
              0.5555555555555556,
              "#d8576b"
             ],
             [
              0.6666666666666666,
              "#ed7953"
             ],
             [
              0.7777777777777778,
              "#fb9f3a"
             ],
             [
              0.8888888888888888,
              "#fdca26"
             ],
             [
              1,
              "#f0f921"
             ]
            ],
            "type": "contour"
           }
          ],
          "contourcarpet": [
           {
            "colorbar": {
             "outlinewidth": 0,
             "ticks": ""
            },
            "type": "contourcarpet"
           }
          ],
          "heatmap": [
           {
            "colorbar": {
             "outlinewidth": 0,
             "ticks": ""
            },
            "colorscale": [
             [
              0,
              "#0d0887"
             ],
             [
              0.1111111111111111,
              "#46039f"
             ],
             [
              0.2222222222222222,
              "#7201a8"
             ],
             [
              0.3333333333333333,
              "#9c179e"
             ],
             [
              0.4444444444444444,
              "#bd3786"
             ],
             [
              0.5555555555555556,
              "#d8576b"
             ],
             [
              0.6666666666666666,
              "#ed7953"
             ],
             [
              0.7777777777777778,
              "#fb9f3a"
             ],
             [
              0.8888888888888888,
              "#fdca26"
             ],
             [
              1,
              "#f0f921"
             ]
            ],
            "type": "heatmap"
           }
          ],
          "heatmapgl": [
           {
            "colorbar": {
             "outlinewidth": 0,
             "ticks": ""
            },
            "colorscale": [
             [
              0,
              "#0d0887"
             ],
             [
              0.1111111111111111,
              "#46039f"
             ],
             [
              0.2222222222222222,
              "#7201a8"
             ],
             [
              0.3333333333333333,
              "#9c179e"
             ],
             [
              0.4444444444444444,
              "#bd3786"
             ],
             [
              0.5555555555555556,
              "#d8576b"
             ],
             [
              0.6666666666666666,
              "#ed7953"
             ],
             [
              0.7777777777777778,
              "#fb9f3a"
             ],
             [
              0.8888888888888888,
              "#fdca26"
             ],
             [
              1,
              "#f0f921"
             ]
            ],
            "type": "heatmapgl"
           }
          ],
          "histogram": [
           {
            "marker": {
             "pattern": {
              "fillmode": "overlay",
              "size": 10,
              "solidity": 0.2
             }
            },
            "type": "histogram"
           }
          ],
          "histogram2d": [
           {
            "colorbar": {
             "outlinewidth": 0,
             "ticks": ""
            },
            "colorscale": [
             [
              0,
              "#0d0887"
             ],
             [
              0.1111111111111111,
              "#46039f"
             ],
             [
              0.2222222222222222,
              "#7201a8"
             ],
             [
              0.3333333333333333,
              "#9c179e"
             ],
             [
              0.4444444444444444,
              "#bd3786"
             ],
             [
              0.5555555555555556,
              "#d8576b"
             ],
             [
              0.6666666666666666,
              "#ed7953"
             ],
             [
              0.7777777777777778,
              "#fb9f3a"
             ],
             [
              0.8888888888888888,
              "#fdca26"
             ],
             [
              1,
              "#f0f921"
             ]
            ],
            "type": "histogram2d"
           }
          ],
          "histogram2dcontour": [
           {
            "colorbar": {
             "outlinewidth": 0,
             "ticks": ""
            },
            "colorscale": [
             [
              0,
              "#0d0887"
             ],
             [
              0.1111111111111111,
              "#46039f"
             ],
             [
              0.2222222222222222,
              "#7201a8"
             ],
             [
              0.3333333333333333,
              "#9c179e"
             ],
             [
              0.4444444444444444,
              "#bd3786"
             ],
             [
              0.5555555555555556,
              "#d8576b"
             ],
             [
              0.6666666666666666,
              "#ed7953"
             ],
             [
              0.7777777777777778,
              "#fb9f3a"
             ],
             [
              0.8888888888888888,
              "#fdca26"
             ],
             [
              1,
              "#f0f921"
             ]
            ],
            "type": "histogram2dcontour"
           }
          ],
          "mesh3d": [
           {
            "colorbar": {
             "outlinewidth": 0,
             "ticks": ""
            },
            "type": "mesh3d"
           }
          ],
          "parcoords": [
           {
            "line": {
             "colorbar": {
              "outlinewidth": 0,
              "ticks": ""
             }
            },
            "type": "parcoords"
           }
          ],
          "pie": [
           {
            "automargin": true,
            "type": "pie"
           }
          ],
          "scatter": [
           {
            "fillpattern": {
             "fillmode": "overlay",
             "size": 10,
             "solidity": 0.2
            },
            "type": "scatter"
           }
          ],
          "scatter3d": [
           {
            "line": {
             "colorbar": {
              "outlinewidth": 0,
              "ticks": ""
             }
            },
            "marker": {
             "colorbar": {
              "outlinewidth": 0,
              "ticks": ""
             }
            },
            "type": "scatter3d"
           }
          ],
          "scattercarpet": [
           {
            "marker": {
             "colorbar": {
              "outlinewidth": 0,
              "ticks": ""
             }
            },
            "type": "scattercarpet"
           }
          ],
          "scattergeo": [
           {
            "marker": {
             "colorbar": {
              "outlinewidth": 0,
              "ticks": ""
             }
            },
            "type": "scattergeo"
           }
          ],
          "scattergl": [
           {
            "marker": {
             "colorbar": {
              "outlinewidth": 0,
              "ticks": ""
             }
            },
            "type": "scattergl"
           }
          ],
          "scattermapbox": [
           {
            "marker": {
             "colorbar": {
              "outlinewidth": 0,
              "ticks": ""
             }
            },
            "type": "scattermapbox"
           }
          ],
          "scatterpolar": [
           {
            "marker": {
             "colorbar": {
              "outlinewidth": 0,
              "ticks": ""
             }
            },
            "type": "scatterpolar"
           }
          ],
          "scatterpolargl": [
           {
            "marker": {
             "colorbar": {
              "outlinewidth": 0,
              "ticks": ""
             }
            },
            "type": "scatterpolargl"
           }
          ],
          "scatterternary": [
           {
            "marker": {
             "colorbar": {
              "outlinewidth": 0,
              "ticks": ""
             }
            },
            "type": "scatterternary"
           }
          ],
          "surface": [
           {
            "colorbar": {
             "outlinewidth": 0,
             "ticks": ""
            },
            "colorscale": [
             [
              0,
              "#0d0887"
             ],
             [
              0.1111111111111111,
              "#46039f"
             ],
             [
              0.2222222222222222,
              "#7201a8"
             ],
             [
              0.3333333333333333,
              "#9c179e"
             ],
             [
              0.4444444444444444,
              "#bd3786"
             ],
             [
              0.5555555555555556,
              "#d8576b"
             ],
             [
              0.6666666666666666,
              "#ed7953"
             ],
             [
              0.7777777777777778,
              "#fb9f3a"
             ],
             [
              0.8888888888888888,
              "#fdca26"
             ],
             [
              1,
              "#f0f921"
             ]
            ],
            "type": "surface"
           }
          ],
          "table": [
           {
            "cells": {
             "fill": {
              "color": "#EBF0F8"
             },
             "line": {
              "color": "white"
             }
            },
            "header": {
             "fill": {
              "color": "#C8D4E3"
             },
             "line": {
              "color": "white"
             }
            },
            "type": "table"
           }
          ]
         },
         "layout": {
          "annotationdefaults": {
           "arrowcolor": "#2a3f5f",
           "arrowhead": 0,
           "arrowwidth": 1
          },
          "autotypenumbers": "strict",
          "coloraxis": {
           "colorbar": {
            "outlinewidth": 0,
            "ticks": ""
           }
          },
          "colorscale": {
           "diverging": [
            [
             0,
             "#8e0152"
            ],
            [
             0.1,
             "#c51b7d"
            ],
            [
             0.2,
             "#de77ae"
            ],
            [
             0.3,
             "#f1b6da"
            ],
            [
             0.4,
             "#fde0ef"
            ],
            [
             0.5,
             "#f7f7f7"
            ],
            [
             0.6,
             "#e6f5d0"
            ],
            [
             0.7,
             "#b8e186"
            ],
            [
             0.8,
             "#7fbc41"
            ],
            [
             0.9,
             "#4d9221"
            ],
            [
             1,
             "#276419"
            ]
           ],
           "sequential": [
            [
             0,
             "#0d0887"
            ],
            [
             0.1111111111111111,
             "#46039f"
            ],
            [
             0.2222222222222222,
             "#7201a8"
            ],
            [
             0.3333333333333333,
             "#9c179e"
            ],
            [
             0.4444444444444444,
             "#bd3786"
            ],
            [
             0.5555555555555556,
             "#d8576b"
            ],
            [
             0.6666666666666666,
             "#ed7953"
            ],
            [
             0.7777777777777778,
             "#fb9f3a"
            ],
            [
             0.8888888888888888,
             "#fdca26"
            ],
            [
             1,
             "#f0f921"
            ]
           ],
           "sequentialminus": [
            [
             0,
             "#0d0887"
            ],
            [
             0.1111111111111111,
             "#46039f"
            ],
            [
             0.2222222222222222,
             "#7201a8"
            ],
            [
             0.3333333333333333,
             "#9c179e"
            ],
            [
             0.4444444444444444,
             "#bd3786"
            ],
            [
             0.5555555555555556,
             "#d8576b"
            ],
            [
             0.6666666666666666,
             "#ed7953"
            ],
            [
             0.7777777777777778,
             "#fb9f3a"
            ],
            [
             0.8888888888888888,
             "#fdca26"
            ],
            [
             1,
             "#f0f921"
            ]
           ]
          },
          "colorway": [
           "#636efa",
           "#EF553B",
           "#00cc96",
           "#ab63fa",
           "#FFA15A",
           "#19d3f3",
           "#FF6692",
           "#B6E880",
           "#FF97FF",
           "#FECB52"
          ],
          "font": {
           "color": "#2a3f5f"
          },
          "geo": {
           "bgcolor": "white",
           "lakecolor": "white",
           "landcolor": "white",
           "showlakes": true,
           "showland": true,
           "subunitcolor": "#C8D4E3"
          },
          "hoverlabel": {
           "align": "left"
          },
          "hovermode": "closest",
          "mapbox": {
           "style": "light"
          },
          "paper_bgcolor": "white",
          "plot_bgcolor": "white",
          "polar": {
           "angularaxis": {
            "gridcolor": "#EBF0F8",
            "linecolor": "#EBF0F8",
            "ticks": ""
           },
           "bgcolor": "white",
           "radialaxis": {
            "gridcolor": "#EBF0F8",
            "linecolor": "#EBF0F8",
            "ticks": ""
           }
          },
          "scene": {
           "xaxis": {
            "backgroundcolor": "white",
            "gridcolor": "#DFE8F3",
            "gridwidth": 2,
            "linecolor": "#EBF0F8",
            "showbackground": true,
            "ticks": "",
            "zerolinecolor": "#EBF0F8"
           },
           "yaxis": {
            "backgroundcolor": "white",
            "gridcolor": "#DFE8F3",
            "gridwidth": 2,
            "linecolor": "#EBF0F8",
            "showbackground": true,
            "ticks": "",
            "zerolinecolor": "#EBF0F8"
           },
           "zaxis": {
            "backgroundcolor": "white",
            "gridcolor": "#DFE8F3",
            "gridwidth": 2,
            "linecolor": "#EBF0F8",
            "showbackground": true,
            "ticks": "",
            "zerolinecolor": "#EBF0F8"
           }
          },
          "shapedefaults": {
           "line": {
            "color": "#2a3f5f"
           }
          },
          "ternary": {
           "aaxis": {
            "gridcolor": "#DFE8F3",
            "linecolor": "#A2B1C6",
            "ticks": ""
           },
           "baxis": {
            "gridcolor": "#DFE8F3",
            "linecolor": "#A2B1C6",
            "ticks": ""
           },
           "bgcolor": "white",
           "caxis": {
            "gridcolor": "#DFE8F3",
            "linecolor": "#A2B1C6",
            "ticks": ""
           }
          },
          "title": {
           "x": 0.05
          },
          "xaxis": {
           "automargin": true,
           "gridcolor": "#EBF0F8",
           "linecolor": "#EBF0F8",
           "ticks": "",
           "title": {
            "standoff": 15
           },
           "zerolinecolor": "#EBF0F8",
           "zerolinewidth": 2
          },
          "yaxis": {
           "automargin": true,
           "gridcolor": "#EBF0F8",
           "linecolor": "#EBF0F8",
           "ticks": "",
           "title": {
            "standoff": 15
           },
           "zerolinecolor": "#EBF0F8",
           "zerolinewidth": 2
          }
         }
        },
        "width": 900,
        "xaxis": {
         "autorange": true,
         "range": [
          -0.5,
          50.5
         ],
         "tickfont": {
          "size": 14
         },
         "title": {
          "font": {
           "size": 14
          },
          "text": "Batch Number"
         },
         "type": "category"
        },
        "yaxis": {
         "autorange": true,
         "range": [
          0,
          538.9473684210526
         ],
         "tickfont": {
          "size": 14
         },
         "title": {
          "font": {
           "size": 14
          },
          "text": "Bin Frequency"
         },
         "type": "linear"
        }
       }
      },
      "image/png": "[encoded data removed]",
      "text/html": [
       "<div>                            <div id=\"26281b48-bae9-4ae6-831c-4e370ad5cd3d\" class=\"plotly-graph-div\" style=\"height:500px; width:900px;\"></div>            <script type=\"text/javascript\">                require([\"plotly\"], function(Plotly) {                    window.PLOTLYENV=window.PLOTLYENV || {};                                    if (document.getElementById(\"26281b48-bae9-4ae6-831c-4e370ad5cd3d\")) {                    Plotly.newPlot(                        \"26281b48-bae9-4ae6-831c-4e370ad5cd3d\",                        [{\"name\":\"bin_1\",\"textposition\":\"auto\",\"x\":[\"0\",\"1\",\"2\",\"3\",\"4\",\"5\",\"6\",\"7\",\"8\",\"9\",\"10\",\"11\",\"12\",\"13\",\"14\",\"15\",\"16\",\"17\",\"18\",\"19\",\"20\",\"21\",\"22\",\"23\",\"24\",\"25\",\"26\",\"27\",\"28\",\"29\",\"30\",\"31\",\"32\",\"33\",\"34\",\"35\",\"36\",\"37\",\"38\",\"39\",\"40\",\"41\",\"42\",\"43\",\"44\",\"45\",\"46\",\"47\",\"48\",\"49\",\"50\"],\"y\":[103,99,82,74,92,77,78,85,91,81,91,83,84,90,80,84,85,89,80,79,96,82,91,99,78,80,94,79,88,77,87,90,77,84,95,78,71,99,85,76,86,67,101,85,87,99,76,101,77,80,75],\"type\":\"bar\"},{\"name\":\"bin_5\",\"textposition\":\"auto\",\"x\":[\"0\",\"1\",\"2\",\"3\",\"4\",\"5\",\"6\",\"7\",\"8\",\"9\",\"10\",\"11\",\"12\",\"13\",\"14\",\"15\",\"16\",\"17\",\"18\",\"19\",\"20\",\"21\",\"22\",\"23\",\"24\",\"25\",\"26\",\"27\",\"28\",\"29\",\"30\",\"31\",\"32\",\"33\",\"34\",\"35\",\"36\",\"37\",\"38\",\"39\",\"40\",\"41\",\"42\",\"43\",\"44\",\"45\",\"46\",\"47\",\"48\",\"49\",\"50\"],\"y\":[74,85,87,87,77,90,92,81,80,79,73,85,92,82,90,88,97,72,90,87,96,93,99,98,79,98,82,98,83,91,79,93,90,93,86,74,112,83,75,79,89,95,72,63,83,80,88,81,94,78,94],\"type\":\"bar\"},{\"name\":\"bin_6\",\"textposition\":\"auto\",\"x\":[\"0\",\"1\",\"2\",\"3\",\"4\",\"5\",\"6\",\"7\",\"8\",\"9\",\"10\",\"11\",\"12\",\"13\",\"14\",\"15\",\"16\",\"17\",\"18\",\"19\",\"20\",\"21\",\"22\",\"23\",\"24\",\"25\",\"26\",\"27\",\"28\",\"29\",\"30\",\"31\",\"32\",\"33\",\"34\",\"35\",\"36\",\"37\",\"38\",\"39\",\"40\",\"41\",\"42\",\"43\",\"44\",\"45\",\"46\",\"47\",\"48\",\"49\",\"50\"],\"y\":[0,0,0,0,0,0,0,0,0,0,0,0,0,0,0,0,0,0,0,0,0,0,0,0,0,0,0,0,0,0,0,0,0,0,0,0,0,0,0,0,0,0,0,0,0,0,0,0,0,0,0],\"type\":\"bar\"},{\"name\":\"bin_7\",\"textposition\":\"auto\",\"x\":[\"0\",\"1\",\"2\",\"3\",\"4\",\"5\",\"6\",\"7\",\"8\",\"9\",\"10\",\"11\",\"12\",\"13\",\"14\",\"15\",\"16\",\"17\",\"18\",\"19\",\"20\",\"21\",\"22\",\"23\",\"24\",\"25\",\"26\",\"27\",\"28\",\"29\",\"30\",\"31\",\"32\",\"33\",\"34\",\"35\",\"36\",\"37\",\"38\",\"39\",\"40\",\"41\",\"42\",\"43\",\"44\",\"45\",\"46\",\"47\",\"48\",\"49\",\"50\"],\"y\":[0,0,0,0,0,0,0,0,0,0,0,0,0,0,0,0,0,0,0,0,0,0,0,0,0,0,0,0,0,0,0,0,0,0,0,0,0,0,0,0,0,0,0,0,0,0,0,0,0,0,0],\"type\":\"bar\"},{\"name\":\"bin_4\",\"textposition\":\"auto\",\"x\":[\"0\",\"1\",\"2\",\"3\",\"4\",\"5\",\"6\",\"7\",\"8\",\"9\",\"10\",\"11\",\"12\",\"13\",\"14\",\"15\",\"16\",\"17\",\"18\",\"19\",\"20\",\"21\",\"22\",\"23\",\"24\",\"25\",\"26\",\"27\",\"28\",\"29\",\"30\",\"31\",\"32\",\"33\",\"34\",\"35\",\"36\",\"37\",\"38\",\"39\",\"40\",\"41\",\"42\",\"43\",\"44\",\"45\",\"46\",\"47\",\"48\",\"49\",\"50\"],\"y\":[0,0,0,0,0,0,0,0,0,0,0,0,0,0,0,0,0,0,0,0,0,0,0,0,0,0,0,0,0,0,0,0,0,0,0,0,0,0,0,0,0,0,0,0,0,0,0,0,0,0,0],\"type\":\"bar\"},{\"name\":\"bin_8\",\"textposition\":\"auto\",\"x\":[\"0\",\"1\",\"2\",\"3\",\"4\",\"5\",\"6\",\"7\",\"8\",\"9\",\"10\",\"11\",\"12\",\"13\",\"14\",\"15\",\"16\",\"17\",\"18\",\"19\",\"20\",\"21\",\"22\",\"23\",\"24\",\"25\",\"26\",\"27\",\"28\",\"29\",\"30\",\"31\",\"32\",\"33\",\"34\",\"35\",\"36\",\"37\",\"38\",\"39\",\"40\",\"41\",\"42\",\"43\",\"44\",\"45\",\"46\",\"47\",\"48\",\"49\",\"50\"],\"y\":[84,87,94,88,72,104,87,84,63,94,74,77,78,81,88,94,74,78,92,74,69,78,76,83,88,78,85,83,88,73,90,87,101,80,77,87,74,83,77,85,77,92,98,112,79,78,105,84,73,98,96],\"type\":\"bar\"},{\"name\":\"bin_2\",\"textposition\":\"auto\",\"x\":[\"0\",\"1\",\"2\",\"3\",\"4\",\"5\",\"6\",\"7\",\"8\",\"9\",\"10\",\"11\",\"12\",\"13\",\"14\",\"15\",\"16\",\"17\",\"18\",\"19\",\"20\",\"21\",\"22\",\"23\",\"24\",\"25\",\"26\",\"27\",\"28\",\"29\",\"30\",\"31\",\"32\",\"33\",\"34\",\"35\",\"36\",\"37\",\"38\",\"39\",\"40\",\"41\",\"42\",\"43\",\"44\",\"45\",\"46\",\"47\",\"48\",\"49\",\"50\"],\"y\":[88,95,82,89,94,75,81,83,110,105,91,96,82,82,97,103,68,95,76,90,88,92,91,90,76,81,84,83,98,85,92,84,88,82,86,99,89,74,95,85,83,94,88,89,89,98,77,86,102,78,93],\"type\":\"bar\"},{\"name\":\"bin_3\",\"textposition\":\"auto\",\"x\":[\"0\",\"1\",\"2\",\"3\",\"4\",\"5\",\"6\",\"7\",\"8\",\"9\",\"10\",\"11\",\"12\",\"13\",\"14\",\"15\",\"16\",\"17\",\"18\",\"19\",\"20\",\"21\",\"22\",\"23\",\"24\",\"25\",\"26\",\"27\",\"28\",\"29\",\"30\",\"31\",\"32\",\"33\",\"34\",\"35\",\"36\",\"37\",\"38\",\"39\",\"40\",\"41\",\"42\",\"43\",\"44\",\"45\",\"46\",\"47\",\"48\",\"49\",\"50\"],\"y\":[0,0,0,0,0,0,0,0,0,0,0,0,0,0,0,0,0,0,0,0,0,0,0,0,0,0,0,0,0,0,0,0,0,0,0,0,0,0,0,0,0,0,0,0,0,0,0,0,0,0,0],\"type\":\"bar\"},{\"name\":\"bin_9\",\"textposition\":\"auto\",\"x\":[\"0\",\"1\",\"2\",\"3\",\"4\",\"5\",\"6\",\"7\",\"8\",\"9\",\"10\",\"11\",\"12\",\"13\",\"14\",\"15\",\"16\",\"17\",\"18\",\"19\",\"20\",\"21\",\"22\",\"23\",\"24\",\"25\",\"26\",\"27\",\"28\",\"29\",\"30\",\"31\",\"32\",\"33\",\"34\",\"35\",\"36\",\"37\",\"38\",\"39\",\"40\",\"41\",\"42\",\"43\",\"44\",\"45\",\"46\",\"47\",\"48\",\"49\",\"50\"],\"y\":[89,59,88,77,69,93,81,92,80,70,97,84,78,97,76,81,105,78,84,91,77,71,73,77,92,88,95,84,83,85,68,80,72,90,81,82,86,76,100,88,84,86,75,82,91,74,78,77,83,100,74],\"type\":\"bar\"},{\"name\":\"bin_0\",\"textposition\":\"auto\",\"x\":[\"0\",\"1\",\"2\",\"3\",\"4\",\"5\",\"6\",\"7\",\"8\",\"9\",\"10\",\"11\",\"12\",\"13\",\"14\",\"15\",\"16\",\"17\",\"18\",\"19\",\"20\",\"21\",\"22\",\"23\",\"24\",\"25\",\"26\",\"27\",\"28\",\"29\",\"30\",\"31\",\"32\",\"33\",\"34\",\"35\",\"36\",\"37\",\"38\",\"39\",\"40\",\"41\",\"42\",\"43\",\"44\",\"45\",\"46\",\"47\",\"48\",\"49\",\"50\"],\"y\":[74,87,79,97,108,73,93,87,88,83,86,87,98,80,81,62,83,100,90,91,86,96,82,65,99,87,72,85,72,101,96,78,84,83,87,92,80,97,80,99,93,78,78,81,83,83,88,83,83,78,80],\"type\":\"bar\"}],                        {\"template\":{\"data\":{\"histogram2dcontour\":[{\"type\":\"histogram2dcontour\",\"colorbar\":{\"outlinewidth\":0,\"ticks\":\"\"},\"colorscale\":[[0.0,\"#0d0887\"],[0.1111111111111111,\"#46039f\"],[0.2222222222222222,\"#7201a8\"],[0.3333333333333333,\"#9c179e\"],[0.4444444444444444,\"#bd3786\"],[0.5555555555555556,\"#d8576b\"],[0.6666666666666666,\"#ed7953\"],[0.7777777777777778,\"#fb9f3a\"],[0.8888888888888888,\"#fdca26\"],[1.0,\"#f0f921\"]]}],\"choropleth\":[{\"type\":\"choropleth\",\"colorbar\":{\"outlinewidth\":0,\"ticks\":\"\"}}],\"histogram2d\":[{\"type\":\"histogram2d\",\"colorbar\":{\"outlinewidth\":0,\"ticks\":\"\"},\"colorscale\":[[0.0,\"#0d0887\"],[0.1111111111111111,\"#46039f\"],[0.2222222222222222,\"#7201a8\"],[0.3333333333333333,\"#9c179e\"],[0.4444444444444444,\"#bd3786\"],[0.5555555555555556,\"#d8576b\"],[0.6666666666666666,\"#ed7953\"],[0.7777777777777778,\"#fb9f3a\"],[0.8888888888888888,\"#fdca26\"],[1.0,\"#f0f921\"]]}],\"heatmap\":[{\"type\":\"heatmap\",\"colorbar\":{\"outlinewidth\":0,\"ticks\":\"\"},\"colorscale\":[[0.0,\"#0d0887\"],[0.1111111111111111,\"#46039f\"],[0.2222222222222222,\"#7201a8\"],[0.3333333333333333,\"#9c179e\"],[0.4444444444444444,\"#bd3786\"],[0.5555555555555556,\"#d8576b\"],[0.6666666666666666,\"#ed7953\"],[0.7777777777777778,\"#fb9f3a\"],[0.8888888888888888,\"#fdca26\"],[1.0,\"#f0f921\"]]}],\"heatmapgl\":[{\"type\":\"heatmapgl\",\"colorbar\":{\"outlinewidth\":0,\"ticks\":\"\"},\"colorscale\":[[0.0,\"#0d0887\"],[0.1111111111111111,\"#46039f\"],[0.2222222222222222,\"#7201a8\"],[0.3333333333333333,\"#9c179e\"],[0.4444444444444444,\"#bd3786\"],[0.5555555555555556,\"#d8576b\"],[0.6666666666666666,\"#ed7953\"],[0.7777777777777778,\"#fb9f3a\"],[0.8888888888888888,\"#fdca26\"],[1.0,\"#f0f921\"]]}],\"contourcarpet\":[{\"type\":\"contourcarpet\",\"colorbar\":{\"outlinewidth\":0,\"ticks\":\"\"}}],\"contour\":[{\"type\":\"contour\",\"colorbar\":{\"outlinewidth\":0,\"ticks\":\"\"},\"colorscale\":[[0.0,\"#0d0887\"],[0.1111111111111111,\"#46039f\"],[0.2222222222222222,\"#7201a8\"],[0.3333333333333333,\"#9c179e\"],[0.4444444444444444,\"#bd3786\"],[0.5555555555555556,\"#d8576b\"],[0.6666666666666666,\"#ed7953\"],[0.7777777777777778,\"#fb9f3a\"],[0.8888888888888888,\"#fdca26\"],[1.0,\"#f0f921\"]]}],\"surface\":[{\"type\":\"surface\",\"colorbar\":{\"outlinewidth\":0,\"ticks\":\"\"},\"colorscale\":[[0.0,\"#0d0887\"],[0.1111111111111111,\"#46039f\"],[0.2222222222222222,\"#7201a8\"],[0.3333333333333333,\"#9c179e\"],[0.4444444444444444,\"#bd3786\"],[0.5555555555555556,\"#d8576b\"],[0.6666666666666666,\"#ed7953\"],[0.7777777777777778,\"#fb9f3a\"],[0.8888888888888888,\"#fdca26\"],[1.0,\"#f0f921\"]]}],\"mesh3d\":[{\"type\":\"mesh3d\",\"colorbar\":{\"outlinewidth\":0,\"ticks\":\"\"}}],\"scatter\":[{\"fillpattern\":{\"fillmode\":\"overlay\",\"size\":10,\"solidity\":0.2},\"type\":\"scatter\"}],\"parcoords\":[{\"type\":\"parcoords\",\"line\":{\"colorbar\":{\"outlinewidth\":0,\"ticks\":\"\"}}}],\"scatterpolargl\":[{\"type\":\"scatterpolargl\",\"marker\":{\"colorbar\":{\"outlinewidth\":0,\"ticks\":\"\"}}}],\"bar\":[{\"error_x\":{\"color\":\"#2a3f5f\"},\"error_y\":{\"color\":\"#2a3f5f\"},\"marker\":{\"line\":{\"color\":\"white\",\"width\":0.5},\"pattern\":{\"fillmode\":\"overlay\",\"size\":10,\"solidity\":0.2}},\"type\":\"bar\"}],\"scattergeo\":[{\"type\":\"scattergeo\",\"marker\":{\"colorbar\":{\"outlinewidth\":0,\"ticks\":\"\"}}}],\"scatterpolar\":[{\"type\":\"scatterpolar\",\"marker\":{\"colorbar\":{\"outlinewidth\":0,\"ticks\":\"\"}}}],\"histogram\":[{\"marker\":{\"pattern\":{\"fillmode\":\"overlay\",\"size\":10,\"solidity\":0.2}},\"type\":\"histogram\"}],\"scattergl\":[{\"type\":\"scattergl\",\"marker\":{\"colorbar\":{\"outlinewidth\":0,\"ticks\":\"\"}}}],\"scatter3d\":[{\"type\":\"scatter3d\",\"line\":{\"colorbar\":{\"outlinewidth\":0,\"ticks\":\"\"}},\"marker\":{\"colorbar\":{\"outlinewidth\":0,\"ticks\":\"\"}}}],\"scattermapbox\":[{\"type\":\"scattermapbox\",\"marker\":{\"colorbar\":{\"outlinewidth\":0,\"ticks\":\"\"}}}],\"scatterternary\":[{\"type\":\"scatterternary\",\"marker\":{\"colorbar\":{\"outlinewidth\":0,\"ticks\":\"\"}}}],\"scattercarpet\":[{\"type\":\"scattercarpet\",\"marker\":{\"colorbar\":{\"outlinewidth\":0,\"ticks\":\"\"}}}],\"carpet\":[{\"aaxis\":{\"endlinecolor\":\"#2a3f5f\",\"gridcolor\":\"#C8D4E3\",\"linecolor\":\"#C8D4E3\",\"minorgridcolor\":\"#C8D4E3\",\"startlinecolor\":\"#2a3f5f\"},\"baxis\":{\"endlinecolor\":\"#2a3f5f\",\"gridcolor\":\"#C8D4E3\",\"linecolor\":\"#C8D4E3\",\"minorgridcolor\":\"#C8D4E3\",\"startlinecolor\":\"#2a3f5f\"},\"type\":\"carpet\"}],\"table\":[{\"cells\":{\"fill\":{\"color\":\"#EBF0F8\"},\"line\":{\"color\":\"white\"}},\"header\":{\"fill\":{\"color\":\"#C8D4E3\"},\"line\":{\"color\":\"white\"}},\"type\":\"table\"}],\"barpolar\":[{\"marker\":{\"line\":{\"color\":\"white\",\"width\":0.5},\"pattern\":{\"fillmode\":\"overlay\",\"size\":10,\"solidity\":0.2}},\"type\":\"barpolar\"}],\"pie\":[{\"automargin\":true,\"type\":\"pie\"}]},\"layout\":{\"autotypenumbers\":\"strict\",\"colorway\":[\"#636efa\",\"#EF553B\",\"#00cc96\",\"#ab63fa\",\"#FFA15A\",\"#19d3f3\",\"#FF6692\",\"#B6E880\",\"#FF97FF\",\"#FECB52\"],\"font\":{\"color\":\"#2a3f5f\"},\"hovermode\":\"closest\",\"hoverlabel\":{\"align\":\"left\"},\"paper_bgcolor\":\"white\",\"plot_bgcolor\":\"white\",\"polar\":{\"bgcolor\":\"white\",\"angularaxis\":{\"gridcolor\":\"#EBF0F8\",\"linecolor\":\"#EBF0F8\",\"ticks\":\"\"},\"radialaxis\":{\"gridcolor\":\"#EBF0F8\",\"linecolor\":\"#EBF0F8\",\"ticks\":\"\"}},\"ternary\":{\"bgcolor\":\"white\",\"aaxis\":{\"gridcolor\":\"#DFE8F3\",\"linecolor\":\"#A2B1C6\",\"ticks\":\"\"},\"baxis\":{\"gridcolor\":\"#DFE8F3\",\"linecolor\":\"#A2B1C6\",\"ticks\":\"\"},\"caxis\":{\"gridcolor\":\"#DFE8F3\",\"linecolor\":\"#A2B1C6\",\"ticks\":\"\"}},\"coloraxis\":{\"colorbar\":{\"outlinewidth\":0,\"ticks\":\"\"}},\"colorscale\":{\"sequential\":[[0.0,\"#0d0887\"],[0.1111111111111111,\"#46039f\"],[0.2222222222222222,\"#7201a8\"],[0.3333333333333333,\"#9c179e\"],[0.4444444444444444,\"#bd3786\"],[0.5555555555555556,\"#d8576b\"],[0.6666666666666666,\"#ed7953\"],[0.7777777777777778,\"#fb9f3a\"],[0.8888888888888888,\"#fdca26\"],[1.0,\"#f0f921\"]],\"sequentialminus\":[[0.0,\"#0d0887\"],[0.1111111111111111,\"#46039f\"],[0.2222222222222222,\"#7201a8\"],[0.3333333333333333,\"#9c179e\"],[0.4444444444444444,\"#bd3786\"],[0.5555555555555556,\"#d8576b\"],[0.6666666666666666,\"#ed7953\"],[0.7777777777777778,\"#fb9f3a\"],[0.8888888888888888,\"#fdca26\"],[1.0,\"#f0f921\"]],\"diverging\":[[0,\"#8e0152\"],[0.1,\"#c51b7d\"],[0.2,\"#de77ae\"],[0.3,\"#f1b6da\"],[0.4,\"#fde0ef\"],[0.5,\"#f7f7f7\"],[0.6,\"#e6f5d0\"],[0.7,\"#b8e186\"],[0.8,\"#7fbc41\"],[0.9,\"#4d9221\"],[1,\"#276419\"]]},\"xaxis\":{\"gridcolor\":\"#EBF0F8\",\"linecolor\":\"#EBF0F8\",\"ticks\":\"\",\"title\":{\"standoff\":15},\"zerolinecolor\":\"#EBF0F8\",\"automargin\":true,\"zerolinewidth\":2},\"yaxis\":{\"gridcolor\":\"#EBF0F8\",\"linecolor\":\"#EBF0F8\",\"ticks\":\"\",\"title\":{\"standoff\":15},\"zerolinecolor\":\"#EBF0F8\",\"automargin\":true,\"zerolinewidth\":2},\"scene\":{\"xaxis\":{\"backgroundcolor\":\"white\",\"gridcolor\":\"#DFE8F3\",\"linecolor\":\"#EBF0F8\",\"showbackground\":true,\"ticks\":\"\",\"zerolinecolor\":\"#EBF0F8\",\"gridwidth\":2},\"yaxis\":{\"backgroundcolor\":\"white\",\"gridcolor\":\"#DFE8F3\",\"linecolor\":\"#EBF0F8\",\"showbackground\":true,\"ticks\":\"\",\"zerolinecolor\":\"#EBF0F8\",\"gridwidth\":2},\"zaxis\":{\"backgroundcolor\":\"white\",\"gridcolor\":\"#DFE8F3\",\"linecolor\":\"#EBF0F8\",\"showbackground\":true,\"ticks\":\"\",\"zerolinecolor\":\"#EBF0F8\",\"gridwidth\":2}},\"shapedefaults\":{\"line\":{\"color\":\"#2a3f5f\"}},\"annotationdefaults\":{\"arrowcolor\":\"#2a3f5f\",\"arrowhead\":0,\"arrowwidth\":1},\"geo\":{\"bgcolor\":\"white\",\"landcolor\":\"white\",\"subunitcolor\":\"#C8D4E3\",\"showland\":true,\"showlakes\":true,\"lakecolor\":\"white\"},\"title\":{\"x\":0.05},\"mapbox\":{\"style\":\"light\"}}},\"yaxis\":{\"title\":{\"font\":{\"size\":14},\"text\":\"Bin Frequency\"},\"tickfont\":{\"size\":14}},\"xaxis\":{\"title\":{\"font\":{\"size\":14},\"text\":\"Batch Number\"},\"tickfont\":{\"size\":14}},\"autosize\":false,\"width\":900,\"height\":500,\"barmode\":\"stack\"},                        {\"responsive\": true}                    ).then(function(){\n",
       "                            \n",
       "var gd = document.getElementById('26281b48-bae9-4ae6-831c-4e370ad5cd3d');\n",
       "var x = new MutationObserver(function (mutations, observer) {{\n",
       "        var display = window.getComputedStyle(gd).display;\n",
       "        if (!display || display === 'none') {{\n",
       "            console.log([gd, 'removed!']);\n",
       "            Plotly.purge(gd);\n",
       "            observer.disconnect();\n",
       "        }}\n",
       "}});\n",
       "\n",
       "// Listen for the removal of the full notebook cells\n",
       "var notebookContainer = gd.closest('#notebook-container');\n",
       "if (notebookContainer) {{\n",
       "    x.observe(notebookContainer, {childList: true});\n",
       "}}\n",
       "\n",
       "// Listen for the clearing of the current output cell\n",
       "var outputEl = gd.closest('.output');\n",
       "if (outputEl) {{\n",
       "    x.observe(outputEl, {childList: true});\n",
       "}}\n",
       "\n",
       "                        })                };                });            </script>        </div>"
      ]
     },
     "metadata": {},
     "output_type": "display_data"
    }
   ],
   "source": [
    "fig = plot_batches(all_batches)\n",
    "fig.update_layout(\n",
    "        autosize=False,\n",
    "        width=900,\n",
    "        height=500,\n",
    "    # title_text=\"\",\n",
    "        yaxis=dict(\n",
    "            title_text=\"Bin Frequency\",\n",
    "            titlefont=dict(size=14),\n",
    "            tickfont=dict(size=14),\n",
    "        ),\n",
    "        xaxis=dict(\n",
    "            title_text=\"Batch Number\",\n",
    "            titlefont=dict(size=14),\n",
    "            tickfont=dict(size=14),\n",
    "        ),\n",
    "    barmode=\"stack\",\n",
    "    )\n",
    "fig.show()"
   ]
  },
  {
   "cell_type": "markdown",
   "id": "1333aa2f-1adb-4345-b4fe-b330c0e66900",
   "metadata": {
    "tags": []
   },
   "source": [
    "#### Training with the custom sampler"
   ]
  },
  {
   "cell_type": "code",
   "execution_count": 150,
   "id": "0a0ca488-9018-4a6d-a741-74ad84df339a",
   "metadata": {},
   "outputs": [],
   "source": [
    "# Making the dataloaders\n",
    "# num_workers can be increased in linux to speed-up training\n",
    "train_dataloader = training.to_dataloader(train=True, batch_size=batch_size, num_workers=0, sampler=sampler, shuffle=False)\n",
    "val_dataloader = validation.to_dataloader(train=False, batch_size=batch_size, num_workers=0)"
   ]
  },
  {
   "cell_type": "code",
   "execution_count": 151,
   "id": "72c7346e-389c-4aa4-a28a-c9cd2fd1844c",
   "metadata": {},
   "outputs": [
    {
     "name": "stdout",
     "output_type": "stream",
     "text": [
      "\n",
      "sizes of x =\n",
      "\tencoder_cat = torch.Size([512, 96, 7])\n",
      "\tencoder_cont = torch.Size([512, 96, 2])\n",
      "\tencoder_target = torch.Size([512, 96])\n",
      "\tencoder_lengths = torch.Size([512])\n",
      "\tdecoder_cat = torch.Size([512, 1, 7])\n",
      "\tdecoder_cont = torch.Size([512, 1, 2])\n",
      "\tdecoder_target = torch.Size([512, 1])\n",
      "\tdecoder_lengths = torch.Size([512])\n",
      "\tdecoder_time_idx = torch.Size([512, 1])\n",
      "\tgroups = torch.Size([512, 1])\n",
      "\ttarget_scale = torch.Size([512, 2])\n",
      "\n",
      "size of y =\n",
      "\ty = torch.Size([512, 1])\n"
     ]
    }
   ],
   "source": [
    "# Testing the dataloader\n",
    "x, y = next(iter(train_dataloader))\n",
    "print(\"\\nsizes of x =\")\n",
    "for key, value in x.items():\n",
    "    print(f\"\\t{key} = {value.size()}\")\n",
    "print(\"\\nsize of y =\")\n",
    "print(f\"\\ty = {y[0].size()}\")"
   ]
  },
  {
   "cell_type": "markdown",
   "id": "dc66d33d-5d99-4778-b2e2-1a21b3cf2247",
   "metadata": {},
   "source": [
    "### Creating the Model"
   ]
  },
  {
   "cell_type": "markdown",
   "id": "38f312a6-b7af-436e-87fc-36f5b5b40a37",
   "metadata": {},
   "source": [
    "### Defining the Forward function"
   ]
  },
  {
   "cell_type": "code",
   "execution_count": 152,
   "id": "e8a6e55a-036d-469d-9cfa-e3a5e16210dd",
   "metadata": {},
   "outputs": [],
   "source": [
    "cardinality = [len(training.categorical_encoders[c].classes_) for c in training.categoricals]\n",
    "embedding_sizes = [\n",
    "    (x, min(50, (x + 1) // 2))\n",
    "    for x in cardinality\n",
    "]"
   ]
  },
  {
   "cell_type": "code",
   "execution_count": 154,
   "id": "cb3eebb7-3949-4e20-b769-332c625a6715",
   "metadata": {},
   "outputs": [],
   "source": [
    "model_params = dict(\n",
    "    rnn_type=\"LSTM\",\n",
    "    input_size=len(training.reals)+sum([s for _, s in embedding_sizes]),\n",
    "    hidden_size=256, #128\n",
    "    num_layers=2,\n",
    "    bidirectional=False,\n",
    "    embedding_sizes=embedding_sizes,\n",
    ")\n",
    "\n",
    "other_params = dict(\n",
    "    learning_rate=5e-5,\n",
    "    optimizer=\"adam\",\n",
    "    loss=RMSE(),\n",
    "    logging_metrics=[RMSE(), MAE()],\n",
    ")"
   ]
  },
  {
   "cell_type": "code",
   "execution_count": 155,
   "id": "0b189d49-2da6-43ac-966f-6e59d67647dd",
   "metadata": {
    "tags": []
   },
   "outputs": [
    {
     "data": {
      "text/plain": [
       "(pytorch_forecasting.utils.TupleOutputMixIn.to_network_output.<locals>.Output,\n",
       " torch.Size([512, 1]))"
      ]
     },
     "execution_count": 155,
     "metadata": {},
     "output_type": "execute_result"
    }
   ],
   "source": [
    "model = SingleStepRNNModel.from_dataset(\n",
    "    training,\n",
    "    network_callable=StaticDynamicFeatureRNNModel,\n",
    "    model_params = model_params,\n",
    "    **other_params\n",
    ")\n",
    "#Testing out the model\n",
    "x, y = next(iter(train_dataloader))\n",
    "_ = model(x)\n",
    "type(_), _.prediction.shape"
   ]
  },
  {
   "cell_type": "markdown",
   "id": "1634e8d7-f1cf-4d6d-8c9b-b974990cd685",
   "metadata": {},
   "source": [
    "### Training the model"
   ]
  },
  {
   "cell_type": "code",
   "execution_count": 156,
   "id": "598a9bbd-6603-4e08-987b-48c01a0f2260",
   "metadata": {},
   "outputs": [],
   "source": [
    "saved_model_sampled ='notebooks/Chapter14/saved_weights/baseline_time_varying_static_scale_weighted_sampler_sampled.wt'\n",
    "saved_model_full ='notebooks/Chapter14/saved_weights/baseline_time_varying_static_scale_weighted_sampler.wt'"
   ]
  },
  {
   "cell_type": "code",
   "execution_count": 157,
   "id": "5558b1df-a86d-42fe-9027-88fa7c791e38",
   "metadata": {},
   "outputs": [
    {
     "name": "stdout",
     "output_type": "stream",
     "text": [
      "Loading the model from: notebooks/Chapter14/saved_weights/baseline_time_varying_static_scale_weighted_sampler_sampled.wt\n"
     ]
    }
   ],
   "source": [
    "if train_model:\n",
    "    trainer = pl.Trainer(\n",
    "        auto_select_gpus=True,\n",
    "        gpus=-1,\n",
    "        min_epochs=1,\n",
    "        max_epochs=20,\n",
    "        callbacks=[\n",
    "            pl.callbacks.EarlyStopping(monitor=\"val_loss\", patience=2),\n",
    "            pl.callbacks.ModelCheckpoint(\n",
    "                monitor=\"val_loss\", save_last=True, mode=\"min\", auto_insert_metric_name=True\n",
    "            ),\n",
    "        ],\n",
    "        # fast_dev_run=True\n",
    "        # precision = 16\n",
    "    )\n",
    "    trainer.fit(\n",
    "        model,\n",
    "        train_dataloaders=train_dataloader,\n",
    "        val_dataloaders=val_dataloader,\n",
    "    )\n",
    "    #Loading the best model\n",
    "    best_model_path = trainer.checkpoint_callback.best_model_path\n",
    "    best_model = SingleStepRNNModel.load_from_checkpoint(best_model_path)\n",
    "    torch.save(best_model.state_dict(), saved_model_sampled if TRAIN_SUBSAMPLE else saved_model_full)\n",
    "else:\n",
    "    best_model_path = saved_model_sampled if TRAIN_SUBSAMPLE else saved_model_full\n",
    "    load_weights(model, best_model_path)\n",
    "    best_model =  model\n",
    "print(f\"Loading the model from: {best_model_path}\")"
   ]
  },
  {
   "cell_type": "code",
   "execution_count": 158,
   "id": "2b63982e-1fb1-435b-95a3-0c5d4f8a3d84",
   "metadata": {},
   "outputs": [
    {
     "data": {
      "application/vnd.jupyter.widget-view+json": {
       "model_id": "bc4c6e023b2b429db146d5b71c0de8ed",
       "version_major": 2,
       "version_minor": 0
      },
      "text/plain": [
       "Predict:   0%|          | 0/233 [00:00<?, ? batches/s]"
      ]
     },
     "metadata": {},
     "output_type": "display_data"
    },
    {
     "data": {
      "application/vnd.jupyter.widget-view+json": {
       "model_id": "f47172f2c24f4bc6838f17f7759377e1",
       "version_major": 2,
       "version_minor": 0
      },
      "text/plain": [
       "Calculating metrics...:   0%|          | 0/10 [00:00<?, ?it/s]"
      ]
     },
     "metadata": {},
     "output_type": "display_data"
    }
   ],
   "source": [
    "pred, index = best_model.predict(test, return_index=True, show_progress_bar=True)\n",
    "index[tag] = pred\n",
    "pred_df = pred_df.reset_index().merge(index, on=[\"time_idx\",\"LCLid\"], how='left').set_index(feat_config.index_cols)\n",
    "\n",
    "agg_metrics, eval_metrics_df = evaluate_forecast(\n",
    "    pred_df = pred_df,\n",
    "    train_data = full_df,\n",
    "    fc_column=tag,\n",
    "    name=tag,\n",
    ")\n",
    "metric_record.append(agg_metrics)\n",
    "individual_metrics[tag]=eval_metrics_df"
   ]
  },
  {
   "cell_type": "code",
   "execution_count": 176,
   "id": "2ca07dea-54eb-4f16-ac24-28b31d35ee87",
   "metadata": {},
   "outputs": [
    {
     "data": {
      "text/html": [
       "<style type=\"text/css\">\n",
       "#T_f8a8f_row1_col4 {\n",
       "  color: black;\n",
       "  background-color: lightgreen;\n",
       "}\n",
       "#T_f8a8f_row2_col1, #T_f8a8f_row2_col2, #T_f8a8f_row2_col3 {\n",
       "  background-color: lightgreen;\n",
       "}\n",
       "</style>\n",
       "<table id=\"T_f8a8f\">\n",
       "  <thead>\n",
       "    <tr>\n",
       "      <th class=\"blank level0\" >&nbsp;</th>\n",
       "      <th id=\"T_f8a8f_level0_col0\" class=\"col_heading level0 col0\" >Algorithm</th>\n",
       "      <th id=\"T_f8a8f_level0_col1\" class=\"col_heading level0 col1\" >MAE</th>\n",
       "      <th id=\"T_f8a8f_level0_col2\" class=\"col_heading level0 col2\" >MSE</th>\n",
       "      <th id=\"T_f8a8f_level0_col3\" class=\"col_heading level0 col3\" >meanMASE</th>\n",
       "      <th id=\"T_f8a8f_level0_col4\" class=\"col_heading level0 col4\" >Forecast Bias</th>\n",
       "    </tr>\n",
       "  </thead>\n",
       "  <tbody>\n",
       "    <tr>\n",
       "      <th id=\"T_f8a8f_level0_row0\" class=\"row_heading level0 row0\" >0</th>\n",
       "      <td id=\"T_f8a8f_row0_col0\" class=\"data row0 col0\" >simple</td>\n",
       "      <td id=\"T_f8a8f_row0_col1\" class=\"data row0 col1\" >0.0787</td>\n",
       "      <td id=\"T_f8a8f_row0_col2\" class=\"data row0 col2\" >0.0250</td>\n",
       "      <td id=\"T_f8a8f_row0_col3\" class=\"data row0 col3\" >0.9311</td>\n",
       "      <td id=\"T_f8a8f_row0_col4\" class=\"data row0 col4\" >-3.71%</td>\n",
       "    </tr>\n",
       "    <tr>\n",
       "      <th id=\"T_f8a8f_level0_row1\" class=\"row_heading level0 row1\" >1</th>\n",
       "      <td id=\"T_f8a8f_row1_col0\" class=\"data row1 col0\" >simple+time_varying</td>\n",
       "      <td id=\"T_f8a8f_row1_col1\" class=\"data row1 col1\" >0.0796</td>\n",
       "      <td id=\"T_f8a8f_row1_col2\" class=\"data row1 col2\" >0.0243</td>\n",
       "      <td id=\"T_f8a8f_row1_col3\" class=\"data row1 col3\" >0.9415</td>\n",
       "      <td id=\"T_f8a8f_row1_col4\" class=\"data row1 col4\" >-1.86%</td>\n",
       "    </tr>\n",
       "    <tr>\n",
       "      <th id=\"T_f8a8f_level0_row2\" class=\"row_heading level0 row2\" >2</th>\n",
       "      <td id=\"T_f8a8f_row2_col0\" class=\"data row2 col0\" >simple+static+time_varying</td>\n",
       "      <td id=\"T_f8a8f_row2_col1\" class=\"data row2 col1\" >0.0760</td>\n",
       "      <td id=\"T_f8a8f_row2_col2\" class=\"data row2 col2\" >0.0228</td>\n",
       "      <td id=\"T_f8a8f_row2_col3\" class=\"data row2 col3\" >0.9038</td>\n",
       "      <td id=\"T_f8a8f_row2_col4\" class=\"data row2 col4\" >-5.49%</td>\n",
       "    </tr>\n",
       "    <tr>\n",
       "      <th id=\"T_f8a8f_level0_row3\" class=\"row_heading level0 row3\" >3</th>\n",
       "      <td id=\"T_f8a8f_row3_col0\" class=\"data row3 col0\" >simple+static+time_varying+scale</td>\n",
       "      <td id=\"T_f8a8f_row3_col1\" class=\"data row3 col1\" >0.0775</td>\n",
       "      <td id=\"T_f8a8f_row3_col2\" class=\"data row3 col2\" >0.0242</td>\n",
       "      <td id=\"T_f8a8f_row3_col3\" class=\"data row3 col3\" >0.9199</td>\n",
       "      <td id=\"T_f8a8f_row3_col4\" class=\"data row3 col4\" >-5.45%</td>\n",
       "    </tr>\n",
       "    <tr>\n",
       "      <th id=\"T_f8a8f_level0_row4\" class=\"row_heading level0 row4\" >4</th>\n",
       "      <td id=\"T_f8a8f_row4_col0\" class=\"data row4 col0\" >simple+static+time_varying+num_sampler</td>\n",
       "      <td id=\"T_f8a8f_row4_col1\" class=\"data row4 col1\" >0.0785</td>\n",
       "      <td id=\"T_f8a8f_row4_col2\" class=\"data row4 col2\" >0.0234</td>\n",
       "      <td id=\"T_f8a8f_row4_col3\" class=\"data row4 col3\" >0.9310</td>\n",
       "      <td id=\"T_f8a8f_row4_col4\" class=\"data row4 col4\" >-2.90%</td>\n",
       "    </tr>\n",
       "  </tbody>\n",
       "</table>\n"
      ],
      "text/plain": [
       "<pandas.io.formats.style.Styler at 0x19e95b85e20>"
      ]
     },
     "execution_count": 176,
     "metadata": {},
     "output_type": "execute_result"
    }
   ],
   "source": [
    "pd.DataFrame(metric_record).style.format(\n",
    "    {\"MAE\": \"{:.4f}\", \"MSE\": \"{:.4f}\", \"meanMASE\": \"{:.4f}\", \"Forecast Bias\": \"{:.2f}%\"}\n",
    ").highlight_min(color=\"lightgreen\", subset=[\"MAE\", \"MSE\", \"meanMASE\"]).apply(\n",
    "    highlight_abs_min,\n",
    "    props=\"color:black;background-color:lightgreen\",\n",
    "    axis=0,\n",
    "    subset=[\"Forecast Bias\"],\n",
    ")"
   ]
  }
 ],
 "metadata": {
  "kernelspec": {
   "display_name": "Python 3 (ipykernel)",
   "language": "python",
   "name": "python3"
  },
  "language_info": {
   "codemirror_mode": {
    "name": "ipython",
    "version": 3
   },
   "file_extension": ".py",
   "mimetype": "text/x-python",
   "name": "python",
   "nbconvert_exporter": "python",
   "pygments_lexer": "ipython3",
   "version": "3.9.0"
  }
 },
 "nbformat": 4,
 "nbformat_minor": 5
}
