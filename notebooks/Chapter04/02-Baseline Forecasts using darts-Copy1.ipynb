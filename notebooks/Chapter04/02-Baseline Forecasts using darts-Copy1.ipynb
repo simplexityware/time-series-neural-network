{
 "cells": [
  {
   "cell_type": "code",
   "execution_count": 1,
   "id": "b25018c9-2624-434c-aa23-04be1d73e729",
   "metadata": {},
   "outputs": [
    {
     "name": "stdout",
     "output_type": "stream",
     "text": [
      "D:\\Playground\\AdvancedTimeSeriesForecastingBook\\Github\\Modern-Time-Series-Forecasting-with-Python-\n"
     ]
    }
   ],
   "source": [
    "%cd ../.."
   ]
  },
  {
   "cell_type": "code",
   "execution_count": 2,
   "id": "4f023467-970a-461e-a60f-7a66fce6a497",
   "metadata": {},
   "outputs": [
    {
     "name": "stderr",
     "output_type": "stream",
     "text": [
      "C:\\Users\\MANUJO~1\\AppData\\Local\\Temp/ipykernel_3556/3788438326.py:11: TqdmExperimentalWarning: Using `tqdm.autonotebook.tqdm` in notebook mode. Use `tqdm.tqdm` instead to force console mode (e.g. in jupyter console)\n",
      "  from tqdm.autonotebook import tqdm\n",
      "[2021-11-10 14:13:38,013] WARNING | darts.models | Support Facebook Prophet is not available. To enable it, install u8darts[prophet] or u8darts[all].\n"
     ]
    }
   ],
   "source": [
    "import numpy as np\n",
    "import pandas as pd\n",
    "import time\n",
    "import plotly.express as px\n",
    "import plotly.graph_objects as go\n",
    "import os\n",
    "import plotly.io as pio\n",
    "pio.templates.default = \"plotly_white\"\n",
    "\n",
    "from pathlib import Path\n",
    "from tqdm.autonotebook import tqdm\n",
    "import warnings\n",
    "import humanize\n",
    "\n",
    "#If importing darts is throwing an error, import torch beforehand and then import darts\n",
    "# import torch\n",
    "from darts import TimeSeries\n",
    "from darts.models import (\n",
    "    NaiveSeasonal,\n",
    "    NaiveMean,\n",
    "    NaiveDrift,\n",
    "    ExponentialSmoothing,\n",
    "    AutoARIMA,\n",
    "    ARIMA,\n",
    "    Theta,\n",
    "    FFT\n",
    ")\n",
    "\n",
    "from darts.metrics import mase, mse, mae, ope\n",
    "\n",
    "from src.utils.ts_utils import forecast_bias\n",
    "from src.utils.general import LogTime\n",
    "from src.utils import plotting_utils\n",
    "%load_ext autoreload\n",
    "%autoreload 2\n",
    "np.random.seed(42)\n",
    "tqdm.pandas()"
   ]
  },
  {
   "cell_type": "code",
   "execution_count": 3,
   "id": "41ae72a1-3721-4b36-b211-b78d4b09c855",
   "metadata": {},
   "outputs": [],
   "source": [
    "os.makedirs(\"imgs/chapter_4\", exist_ok=True)\n",
    "preprocessed = Path(\"data/london_smart_meters/preprocessed\")"
   ]
  },
  {
   "cell_type": "code",
   "execution_count": 4,
   "id": "8900cd43-718f-4dc1-ace9-ef9dc99b600d",
   "metadata": {},
   "outputs": [],
   "source": [
    "def format_plot(fig, legends = None, xlabel=\"Time\", ylabel=\"Value\", title=\"\"):\n",
    "    if legends:\n",
    "        names = cycle(legends)\n",
    "        fig.for_each_trace(lambda t:  t.update(name = next(names)))\n",
    "    fig.update_layout(\n",
    "            autosize=False,\n",
    "            width=900,\n",
    "            height=500,\n",
    "            title_text=title,\n",
    "            title={\n",
    "            'x':0.5,\n",
    "            'xanchor': 'center',\n",
    "            'yanchor': 'top'},\n",
    "            titlefont={\n",
    "                \"size\": 20\n",
    "            },\n",
    "            legend_title = None,\n",
    "            yaxis=dict(\n",
    "                title_text=ylabel,\n",
    "                titlefont=dict(size=12),\n",
    "            ),\n",
    "            xaxis=dict(\n",
    "                title_text=xlabel,\n",
    "                titlefont=dict(size=12),\n",
    "            )\n",
    "        )\n",
    "    return fig"
   ]
  },
  {
   "cell_type": "code",
   "execution_count": 13,
   "id": "4716f3d0-9ec6-4cfa-b345-fe93885543a7",
   "metadata": {},
   "outputs": [
    {
     "name": "stdout",
     "output_type": "stream",
     "text": [
      "Test DF Min and Max Date 2014-01-01 00:00:00 2014-02-27 23:30:00\n",
      "Backtesting DF Min and Max Date 2014-01-01 00:00:00 2014-01-08 00:00:00\n"
     ]
    }
   ],
   "source": [
    "#Readin the missing value imputed and train test split data\n",
    "train_df = pd.read_parquet(preprocessed/\"block_0-7_train_missing_imputed.parquet\")\n",
    "test_df = pd.read_parquet(preprocessed/\"block_0-7_test_missing_imputed.parquet\")\n",
    "\n",
    "print(\"Test DF Min and Max Date\",test_df.timestamp.min(), test_df.timestamp.max())\n",
    "\n",
    "# #Choosing a smaller backtesting window because of runtime issues\n",
    "backtesting = test_df[test_df.timestamp.between(pd.Timestamp(\"2014-01-01\"),pd.Timestamp(\"2014-01-08\"))]\n",
    "print(\"Backtesting DF Min and Max Date\",backtesting.timestamp.min(), backtesting.timestamp.max())"
   ]
  },
  {
   "cell_type": "code",
   "execution_count": 14,
   "id": "6046a8fe-283d-4f4b-ab1f-a5b23bad55e7",
   "metadata": {},
   "outputs": [
    {
     "data": {
      "text/plain": [
       "399"
      ]
     },
     "execution_count": 14,
     "metadata": {},
     "output_type": "execute_result"
    }
   ],
   "source": [
    "len(train_df.LCLid.unique())"
   ]
  },
  {
   "cell_type": "code",
   "execution_count": 15,
   "id": "8e2beaaa-814e-4949-88a8-fdcb7532b45b",
   "metadata": {},
   "outputs": [],
   "source": [
    "#picking a single time series from the dataset for illustration\n",
    "freq = train_df.iloc[0]['frequency']\n",
    "ts_train = train_df.loc[train_df.LCLid==\"MAC000193\", [\"timestamp\",\"energy_consumption\"]].set_index(\"timestamp\")\n",
    "ts_test = backtesting.loc[backtesting.LCLid==\"MAC000193\", [\"timestamp\",\"energy_consumption\"]].set_index(\"timestamp\")"
   ]
  },
  {
   "cell_type": "markdown",
   "id": "75855f45-8da9-4b46-9af1-1c5ea847cecd",
   "metadata": {},
   "source": [
    "# Baseline Forecasts"
   ]
  },
  {
   "cell_type": "code",
   "execution_count": 16,
   "id": "4ea10c3c-bee4-41a3-9c2e-4fd6e6e23ab7",
   "metadata": {},
   "outputs": [],
   "source": [
    "pred_df = pd.concat([ts_train, ts_test])\n",
    "metric_record = []\n",
    "\n",
    "ts_train = TimeSeries.from_series(ts_train)\n",
    "ts_test = TimeSeries.from_series(ts_test)"
   ]
  },
  {
   "cell_type": "code",
   "execution_count": 17,
   "id": "afc505af-8858-4ff8-8809-1bfcc0712621",
   "metadata": {},
   "outputs": [],
   "source": [
    "def eval_model(model, ts_train, ts_test, name=None):\n",
    "    if name is None:\n",
    "        name = type(model).__name__\n",
    "    model.fit(ts_train)\n",
    "    y_pred = model.predict(len(ts_test))\n",
    "    return y_pred, {\n",
    "        \"Algorithm\": name,\n",
    "        \"MAE\": mae(actual_series = ts_test, pred_series = y_pred),\n",
    "        \"MSE\": mse(actual_series = ts_test, pred_series = y_pred),\n",
    "        \"MASE\": mase(actual_series = ts_test, pred_series = y_pred, insample=ts_train),\n",
    "        \"Forecast Bias\": forecast_bias(actual_series = ts_test, pred_series = y_pred)\n",
    "    }\n",
    "\n",
    "def eval_model_backtest(model, ts_train, ts_test, name=None):\n",
    "    if name is None:\n",
    "        name = type(model).__name__\n",
    "    ts = ts_train.append(ts_test)\n",
    "    start = ts_test.time_index.min()\n",
    "    # model.fit(ts_train)\n",
    "    y_pred = model.historical_forecasts(ts, start=start, verbose=True)\n",
    "    return y_pred, {\n",
    "        \"Algorithm\": name,\n",
    "        \"MAE\": mae(actual_series = ts_test, pred_series = y_pred),\n",
    "        \"MSE\": mse(actual_series = ts_test, pred_series = y_pred),\n",
    "        \"MASE\": mase(actual_series = ts_test, pred_series = y_pred, insample=ts_train),\n",
    "        \"Forecast Bias\": forecast_bias(actual_series = ts_test, pred_series = y_pred)\n",
    "    }\n",
    "\n",
    "def format_y_pred(y_pred, name):\n",
    "    y_pred = y_pred.data_array().to_series()\n",
    "    y_pred.index = y_pred.index.get_level_values(0)\n",
    "    y_pred.name = name\n",
    "    return y_pred"
   ]
  },
  {
   "cell_type": "code",
   "execution_count": 18,
   "id": "b742039b-fdbf-418b-a37c-e6815205f0e3",
   "metadata": {},
   "outputs": [],
   "source": [
    "from itertools import cycle\n",
    "def plot_forecast(pred_df, forecast_columns, forecast_display_names=None):\n",
    "    if forecast_display_names is None:\n",
    "        forecast_display_names = forecast_columns\n",
    "    else:\n",
    "        assert len(forecast_columns)==len(forecast_display_names)\n",
    "    mask = ~pred_df[forecast_columns[0]].isnull()\n",
    "    colors = [\"rgba(\"+\",\".join([str(c) for c in plotting_utils.hex_to_rgb(c)])+\",<alpha>)\" for c in px.colors.qualitative.Plotly]\n",
    "    act_color = colors[0]\n",
    "    colors = cycle(colors[1:])\n",
    "    fig = go.Figure()\n",
    "    fig.add_trace(go.Scatter(x=pred_df[mask].index, y=pred_df[mask].energy_consumption,\n",
    "                        mode='lines', line = dict(color=act_color.replace(\"<alpha>\", \"0.9\")),\n",
    "                        name='Actual Consumption'))\n",
    "    for col, display_col in zip(forecast_columns,forecast_display_names):\n",
    "        fig.add_trace(go.Scatter(x=pred_df[mask].index, y=pred_df.loc[mask, col],\n",
    "                            mode='lines', line = dict(dash='dot', color=next(colors).replace(\"<alpha>\", \"1\")),\n",
    "                            name=display_col))\n",
    "    return fig"
   ]
  },
  {
   "cell_type": "markdown",
   "id": "783e372f-6459-49cc-b2d1-640c6b2b5401",
   "metadata": {},
   "source": [
    "## Running Baseline Forecast for all consumers"
   ]
  },
  {
   "cell_type": "code",
   "execution_count": 19,
   "id": "40a6447d-18cc-463b-bc94-82b2f6cbd7d5",
   "metadata": {},
   "outputs": [],
   "source": [
    "lcl_ids = sorted(train_df.LCLid.unique())"
   ]
  },
  {
   "cell_type": "markdown",
   "id": "86246ccc-716e-4fe2-aa7d-097c0356093b",
   "metadata": {},
   "source": [
    "### Naive Forecast"
   ]
  },
  {
   "cell_type": "code",
   "execution_count": 23,
   "id": "dcc43a7e-db30-410e-9d4b-f4d1c54db353",
   "metadata": {},
   "outputs": [],
   "source": [
    "from src.utils.ts_utils import darts_metrics_adapter"
   ]
  },
  {
   "cell_type": "code",
   "execution_count": 42,
   "id": "5406d13b-9f41-4d67-a3d5-7e050f323457",
   "metadata": {},
   "outputs": [
    {
     "data": {
      "application/vnd.jupyter.widget-view+json": {
       "model_id": "6ebc35465ef34f11881cf0a7034672c7",
       "version_major": 2,
       "version_minor": 0
      },
      "text/plain": [
       "  0%|          | 0/399 [00:00<?, ?it/s]"
      ]
     },
     "metadata": {},
     "output_type": "display_data"
    }
   ],
   "source": [
    "name = \"Naive\"\n",
    "naive_preds = []\n",
    "naive_metrics = []\n",
    "for lcl_id in tqdm(lcl_ids):\n",
    "    # naive_model = NaiveSeasonal(K=1)\n",
    "    tr = train_df.loc[train_df.LCLid==lcl_id, [\"timestamp\",\"energy_consumption\"]].set_index(\"timestamp\")\n",
    "    ts = test_df.loc[test_df.LCLid==lcl_id, [\"timestamp\",\"energy_consumption\"]].set_index(\"timestamp\")\n",
    "    tr_ts = pd.concat([tr, ts])\n",
    "    tr_ts['naive_predictions'] = tr_ts['energy_consumption'].shift(1)\n",
    "    y_pred = tr_ts.loc[ts.index].drop(columns=\"energy_consumption\")\n",
    "    metrics = {\n",
    "        \"Algorithm\": name,\n",
    "        \"MAE\": darts_metrics_adapter(mae,actual_series = ts, pred_series = y_pred),\n",
    "        \"MSE\": darts_metrics_adapter(mse,actual_series = ts, pred_series = y_pred),\n",
    "        \"MASE\": darts_metrics_adapter(mase,actual_series = ts, pred_series = y_pred, insample=tr.energy_consumption),\n",
    "        \"Forecast Bias\": darts_metrics_adapter(forecast_bias,actual_series = ts, pred_series = y_pred)\n",
    "    }\n",
    "    # break\n",
    "    # y_pred = format_y_pred(y_pred, \"naive_predictions\").to_frame()\n",
    "    y_pred['LCLid'] = lcl_id\n",
    "    metrics[\"LCLid\"] = lcl_id\n",
    "    y_pred['energy_consumption'] = ts.energy_consumption.values\n",
    "    naive_preds.append(y_pred)\n",
    "    naive_metrics.append(metrics)\n",
    "    # break"
   ]
  },
  {
   "cell_type": "code",
   "execution_count": 43,
   "id": "5ef397c8-d658-48e7-91e1-224319042e57",
   "metadata": {},
   "outputs": [
    {
     "data": {
      "text/html": [
       "<div>\n",
       "<style scoped>\n",
       "    .dataframe tbody tr th:only-of-type {\n",
       "        vertical-align: middle;\n",
       "    }\n",
       "\n",
       "    .dataframe tbody tr th {\n",
       "        vertical-align: top;\n",
       "    }\n",
       "\n",
       "    .dataframe thead th {\n",
       "        text-align: right;\n",
       "    }\n",
       "</style>\n",
       "<table border=\"1\" class=\"dataframe\">\n",
       "  <thead>\n",
       "    <tr style=\"text-align: right;\">\n",
       "      <th></th>\n",
       "      <th>naive_predictions</th>\n",
       "      <th>LCLid</th>\n",
       "      <th>energy_consumption</th>\n",
       "    </tr>\n",
       "    <tr>\n",
       "      <th>timestamp</th>\n",
       "      <th></th>\n",
       "      <th></th>\n",
       "      <th></th>\n",
       "    </tr>\n",
       "  </thead>\n",
       "  <tbody>\n",
       "    <tr>\n",
       "      <th>2014-01-01 00:00:00</th>\n",
       "      <td>0.452</td>\n",
       "      <td>MAC000002</td>\n",
       "      <td>0.496</td>\n",
       "    </tr>\n",
       "    <tr>\n",
       "      <th>2014-01-01 00:30:00</th>\n",
       "      <td>0.496</td>\n",
       "      <td>MAC000002</td>\n",
       "      <td>0.427</td>\n",
       "    </tr>\n",
       "    <tr>\n",
       "      <th>2014-01-01 01:00:00</th>\n",
       "      <td>0.427</td>\n",
       "      <td>MAC000002</td>\n",
       "      <td>0.469</td>\n",
       "    </tr>\n",
       "    <tr>\n",
       "      <th>2014-01-01 01:30:00</th>\n",
       "      <td>0.469</td>\n",
       "      <td>MAC000002</td>\n",
       "      <td>0.362</td>\n",
       "    </tr>\n",
       "    <tr>\n",
       "      <th>2014-01-01 02:00:00</th>\n",
       "      <td>0.362</td>\n",
       "      <td>MAC000002</td>\n",
       "      <td>0.452</td>\n",
       "    </tr>\n",
       "  </tbody>\n",
       "</table>\n",
       "</div>"
      ],
      "text/plain": [
       "                     naive_predictions      LCLid  energy_consumption\n",
       "timestamp                                                            \n",
       "2014-01-01 00:00:00              0.452  MAC000002               0.496\n",
       "2014-01-01 00:30:00              0.496  MAC000002               0.427\n",
       "2014-01-01 01:00:00              0.427  MAC000002               0.469\n",
       "2014-01-01 01:30:00              0.469  MAC000002               0.362\n",
       "2014-01-01 02:00:00              0.362  MAC000002               0.452"
      ]
     },
     "execution_count": 43,
     "metadata": {},
     "output_type": "execute_result"
    }
   ],
   "source": [
    "naive_pred_df = pd.concat(naive_preds)\n",
    "naive_pred_df.head()"
   ]
  },
  {
   "cell_type": "code",
   "execution_count": 44,
   "id": "be827e9e-a406-4ee8-8fd8-9923f1c8bda7",
   "metadata": {},
   "outputs": [
    {
     "data": {
      "text/html": [
       "<div>\n",
       "<style scoped>\n",
       "    .dataframe tbody tr th:only-of-type {\n",
       "        vertical-align: middle;\n",
       "    }\n",
       "\n",
       "    .dataframe tbody tr th {\n",
       "        vertical-align: top;\n",
       "    }\n",
       "\n",
       "    .dataframe thead th {\n",
       "        text-align: right;\n",
       "    }\n",
       "</style>\n",
       "<table border=\"1\" class=\"dataframe\">\n",
       "  <thead>\n",
       "    <tr style=\"text-align: right;\">\n",
       "      <th></th>\n",
       "      <th>Algorithm</th>\n",
       "      <th>MAE</th>\n",
       "      <th>MSE</th>\n",
       "      <th>MASE</th>\n",
       "      <th>Forecast Bias</th>\n",
       "      <th>LCLid</th>\n",
       "    </tr>\n",
       "  </thead>\n",
       "  <tbody>\n",
       "    <tr>\n",
       "      <th>0</th>\n",
       "      <td>Naive</td>\n",
       "      <td>0.113096</td>\n",
       "      <td>0.043370</td>\n",
       "      <td>1.050211</td>\n",
       "      <td>0.083798</td>\n",
       "      <td>MAC000002</td>\n",
       "    </tr>\n",
       "    <tr>\n",
       "      <th>1</th>\n",
       "      <td>Naive</td>\n",
       "      <td>0.068882</td>\n",
       "      <td>0.020838</td>\n",
       "      <td>1.223502</td>\n",
       "      <td>-0.000646</td>\n",
       "      <td>MAC000005</td>\n",
       "    </tr>\n",
       "    <tr>\n",
       "      <th>2</th>\n",
       "      <td>Naive</td>\n",
       "      <td>0.074593</td>\n",
       "      <td>0.019293</td>\n",
       "      <td>1.122474</td>\n",
       "      <td>0.110074</td>\n",
       "      <td>MAC000017</td>\n",
       "    </tr>\n",
       "    <tr>\n",
       "      <th>3</th>\n",
       "      <td>Naive</td>\n",
       "      <td>0.117861</td>\n",
       "      <td>0.048693</td>\n",
       "      <td>1.080140</td>\n",
       "      <td>-0.004914</td>\n",
       "      <td>MAC000030</td>\n",
       "    </tr>\n",
       "    <tr>\n",
       "      <th>4</th>\n",
       "      <td>Naive</td>\n",
       "      <td>0.305592</td>\n",
       "      <td>0.237029</td>\n",
       "      <td>1.612927</td>\n",
       "      <td>0.040173</td>\n",
       "      <td>MAC000040</td>\n",
       "    </tr>\n",
       "  </tbody>\n",
       "</table>\n",
       "</div>"
      ],
      "text/plain": [
       "  Algorithm       MAE       MSE      MASE  Forecast Bias      LCLid\n",
       "0     Naive  0.113096  0.043370  1.050211       0.083798  MAC000002\n",
       "1     Naive  0.068882  0.020838  1.223502      -0.000646  MAC000005\n",
       "2     Naive  0.074593  0.019293  1.122474       0.110074  MAC000017\n",
       "3     Naive  0.117861  0.048693  1.080140      -0.004914  MAC000030\n",
       "4     Naive  0.305592  0.237029  1.612927       0.040173  MAC000040"
      ]
     },
     "execution_count": 44,
     "metadata": {},
     "output_type": "execute_result"
    }
   ],
   "source": [
    "naive_metric_df = pd.DataFrame(naive_metrics)\n",
    "naive_metric_df.head()"
   ]
  },
  {
   "cell_type": "code",
   "execution_count": 67,
   "id": "1acbc635-e80f-4dc6-b876-837f8eb7867b",
   "metadata": {},
   "outputs": [],
   "source": [
    "from src.utils import ts_utils"
   ]
  },
  {
   "cell_type": "code",
   "execution_count": 69,
   "id": "ed2a8776-28e1-44f3-b1c3-97be54904967",
   "metadata": {},
   "outputs": [
    {
     "data": {
      "text/plain": [
       "{'MAE': 0.109260626,\n",
       " 'MSE': 0.05374795,\n",
       " 'meanMASE': 0.9956901105013407,\n",
       " 'Forecast Bias': 4.8523125e-05}"
      ]
     },
     "execution_count": 69,
     "metadata": {},
     "output_type": "execute_result"
    }
   ],
   "source": [
    "overall_metrics_naive = {\n",
    "    \"MAE\": ts_utils.mae(naive_pred_df[\"energy_consumption\"], naive_pred_df[\"naive_predictions\"]),\n",
    "    \"MSE\": ts_utils.mse(naive_pred_df.energy_consumption, naive_pred_df.naive_predictions),\n",
    "    \"meanMASE\": naive_metric_df.MASE.mean(),\n",
    "    \"Forecast Bias\": ts_utils.forecast_bias_aggregate(naive_pred_df.energy_consumption, naive_pred_df.naive_predictions)\n",
    "}\n",
    "overall_metrics_naive"
   ]
  },
  {
   "cell_type": "markdown",
   "id": "7d016677-6159-4de8-ae85-669d43f321e7",
   "metadata": {},
   "source": [
    "### Seasonal Naive Forecast"
   ]
  },
  {
   "cell_type": "code",
   "execution_count": 23,
   "id": "6843a2cb-6f7a-4683-a9f8-64b12857527e",
   "metadata": {},
   "outputs": [],
   "source": [
    "from src.utils.ts_utils import darts_metrics_adapter"
   ]
  },
  {
   "cell_type": "code",
   "execution_count": 42,
   "id": "d6b2a292-c90b-4697-bcf2-20e34d02010a",
   "metadata": {},
   "outputs": [
    {
     "data": {
      "application/vnd.jupyter.widget-view+json": {
       "model_id": "6ebc35465ef34f11881cf0a7034672c7",
       "version_major": 2,
       "version_minor": 0
      },
      "text/plain": [
       "  0%|          | 0/399 [00:00<?, ?it/s]"
      ]
     },
     "metadata": {},
     "output_type": "display_data"
    }
   ],
   "source": [
    "name = \"Naive\"\n",
    "naive_preds = []\n",
    "naive_metrics = []\n",
    "for lcl_id in tqdm(lcl_ids):\n",
    "    # naive_model = NaiveSeasonal(K=1)\n",
    "    tr = train_df.loc[train_df.LCLid==lcl_id, [\"timestamp\",\"energy_consumption\"]].set_index(\"timestamp\")\n",
    "    ts = test_df.loc[test_df.LCLid==lcl_id, [\"timestamp\",\"energy_consumption\"]].set_index(\"timestamp\")\n",
    "    tr_ts = pd.concat([tr, ts])\n",
    "    tr_ts['naive_predictions'] = tr_ts['energy_consumption'].shift(1)\n",
    "    y_pred = tr_ts.loc[ts.index].drop(columns=\"energy_consumption\")\n",
    "    metrics = {\n",
    "        \"Algorithm\": name,\n",
    "        \"MAE\": darts_metrics_adapter(mae,actual_series = ts, pred_series = y_pred),\n",
    "        \"MSE\": darts_metrics_adapter(mse,actual_series = ts, pred_series = y_pred),\n",
    "        \"MASE\": darts_metrics_adapter(mase,actual_series = ts, pred_series = y_pred, insample=tr.energy_consumption),\n",
    "        \"Forecast Bias\": darts_metrics_adapter(forecast_bias,actual_series = ts, pred_series = y_pred)\n",
    "    }\n",
    "    # break\n",
    "    # y_pred = format_y_pred(y_pred, \"naive_predictions\").to_frame()\n",
    "    y_pred['LCLid'] = lcl_id\n",
    "    metrics[\"LCLid\"] = lcl_id\n",
    "    y_pred['energy_consumption'] = ts.energy_consumption.values\n",
    "    naive_preds.append(y_pred)\n",
    "    naive_metrics.append(metrics)\n",
    "    # break"
   ]
  },
  {
   "cell_type": "code",
   "execution_count": 43,
   "id": "33bf5ccc-d61a-4373-97fe-ae9ec8fb7b3d",
   "metadata": {},
   "outputs": [
    {
     "data": {
      "text/html": [
       "<div>\n",
       "<style scoped>\n",
       "    .dataframe tbody tr th:only-of-type {\n",
       "        vertical-align: middle;\n",
       "    }\n",
       "\n",
       "    .dataframe tbody tr th {\n",
       "        vertical-align: top;\n",
       "    }\n",
       "\n",
       "    .dataframe thead th {\n",
       "        text-align: right;\n",
       "    }\n",
       "</style>\n",
       "<table border=\"1\" class=\"dataframe\">\n",
       "  <thead>\n",
       "    <tr style=\"text-align: right;\">\n",
       "      <th></th>\n",
       "      <th>naive_predictions</th>\n",
       "      <th>LCLid</th>\n",
       "      <th>energy_consumption</th>\n",
       "    </tr>\n",
       "    <tr>\n",
       "      <th>timestamp</th>\n",
       "      <th></th>\n",
       "      <th></th>\n",
       "      <th></th>\n",
       "    </tr>\n",
       "  </thead>\n",
       "  <tbody>\n",
       "    <tr>\n",
       "      <th>2014-01-01 00:00:00</th>\n",
       "      <td>0.452</td>\n",
       "      <td>MAC000002</td>\n",
       "      <td>0.496</td>\n",
       "    </tr>\n",
       "    <tr>\n",
       "      <th>2014-01-01 00:30:00</th>\n",
       "      <td>0.496</td>\n",
       "      <td>MAC000002</td>\n",
       "      <td>0.427</td>\n",
       "    </tr>\n",
       "    <tr>\n",
       "      <th>2014-01-01 01:00:00</th>\n",
       "      <td>0.427</td>\n",
       "      <td>MAC000002</td>\n",
       "      <td>0.469</td>\n",
       "    </tr>\n",
       "    <tr>\n",
       "      <th>2014-01-01 01:30:00</th>\n",
       "      <td>0.469</td>\n",
       "      <td>MAC000002</td>\n",
       "      <td>0.362</td>\n",
       "    </tr>\n",
       "    <tr>\n",
       "      <th>2014-01-01 02:00:00</th>\n",
       "      <td>0.362</td>\n",
       "      <td>MAC000002</td>\n",
       "      <td>0.452</td>\n",
       "    </tr>\n",
       "  </tbody>\n",
       "</table>\n",
       "</div>"
      ],
      "text/plain": [
       "                     naive_predictions      LCLid  energy_consumption\n",
       "timestamp                                                            \n",
       "2014-01-01 00:00:00              0.452  MAC000002               0.496\n",
       "2014-01-01 00:30:00              0.496  MAC000002               0.427\n",
       "2014-01-01 01:00:00              0.427  MAC000002               0.469\n",
       "2014-01-01 01:30:00              0.469  MAC000002               0.362\n",
       "2014-01-01 02:00:00              0.362  MAC000002               0.452"
      ]
     },
     "execution_count": 43,
     "metadata": {},
     "output_type": "execute_result"
    }
   ],
   "source": [
    "naive_pred_df = pd.concat(naive_preds)\n",
    "naive_pred_df.head()"
   ]
  },
  {
   "cell_type": "code",
   "execution_count": 44,
   "id": "d168bb77-0a25-4e1f-8b6e-71c0f5041548",
   "metadata": {},
   "outputs": [
    {
     "data": {
      "text/html": [
       "<div>\n",
       "<style scoped>\n",
       "    .dataframe tbody tr th:only-of-type {\n",
       "        vertical-align: middle;\n",
       "    }\n",
       "\n",
       "    .dataframe tbody tr th {\n",
       "        vertical-align: top;\n",
       "    }\n",
       "\n",
       "    .dataframe thead th {\n",
       "        text-align: right;\n",
       "    }\n",
       "</style>\n",
       "<table border=\"1\" class=\"dataframe\">\n",
       "  <thead>\n",
       "    <tr style=\"text-align: right;\">\n",
       "      <th></th>\n",
       "      <th>Algorithm</th>\n",
       "      <th>MAE</th>\n",
       "      <th>MSE</th>\n",
       "      <th>MASE</th>\n",
       "      <th>Forecast Bias</th>\n",
       "      <th>LCLid</th>\n",
       "    </tr>\n",
       "  </thead>\n",
       "  <tbody>\n",
       "    <tr>\n",
       "      <th>0</th>\n",
       "      <td>Naive</td>\n",
       "      <td>0.113096</td>\n",
       "      <td>0.043370</td>\n",
       "      <td>1.050211</td>\n",
       "      <td>0.083798</td>\n",
       "      <td>MAC000002</td>\n",
       "    </tr>\n",
       "    <tr>\n",
       "      <th>1</th>\n",
       "      <td>Naive</td>\n",
       "      <td>0.068882</td>\n",
       "      <td>0.020838</td>\n",
       "      <td>1.223502</td>\n",
       "      <td>-0.000646</td>\n",
       "      <td>MAC000005</td>\n",
       "    </tr>\n",
       "    <tr>\n",
       "      <th>2</th>\n",
       "      <td>Naive</td>\n",
       "      <td>0.074593</td>\n",
       "      <td>0.019293</td>\n",
       "      <td>1.122474</td>\n",
       "      <td>0.110074</td>\n",
       "      <td>MAC000017</td>\n",
       "    </tr>\n",
       "    <tr>\n",
       "      <th>3</th>\n",
       "      <td>Naive</td>\n",
       "      <td>0.117861</td>\n",
       "      <td>0.048693</td>\n",
       "      <td>1.080140</td>\n",
       "      <td>-0.004914</td>\n",
       "      <td>MAC000030</td>\n",
       "    </tr>\n",
       "    <tr>\n",
       "      <th>4</th>\n",
       "      <td>Naive</td>\n",
       "      <td>0.305592</td>\n",
       "      <td>0.237029</td>\n",
       "      <td>1.612927</td>\n",
       "      <td>0.040173</td>\n",
       "      <td>MAC000040</td>\n",
       "    </tr>\n",
       "  </tbody>\n",
       "</table>\n",
       "</div>"
      ],
      "text/plain": [
       "  Algorithm       MAE       MSE      MASE  Forecast Bias      LCLid\n",
       "0     Naive  0.113096  0.043370  1.050211       0.083798  MAC000002\n",
       "1     Naive  0.068882  0.020838  1.223502      -0.000646  MAC000005\n",
       "2     Naive  0.074593  0.019293  1.122474       0.110074  MAC000017\n",
       "3     Naive  0.117861  0.048693  1.080140      -0.004914  MAC000030\n",
       "4     Naive  0.305592  0.237029  1.612927       0.040173  MAC000040"
      ]
     },
     "execution_count": 44,
     "metadata": {},
     "output_type": "execute_result"
    }
   ],
   "source": [
    "naive_metric_df = pd.DataFrame(naive_metrics)\n",
    "naive_metric_df.head()"
   ]
  },
  {
   "cell_type": "code",
   "execution_count": 67,
   "id": "82a39916-6a90-4160-841f-732374faeb8f",
   "metadata": {},
   "outputs": [],
   "source": [
    "from src.utils import ts_utils"
   ]
  },
  {
   "cell_type": "code",
   "execution_count": 69,
   "id": "a0a9f9b3-a128-4efe-9e8f-8359ea401292",
   "metadata": {},
   "outputs": [
    {
     "data": {
      "text/plain": [
       "{'MAE': 0.109260626,\n",
       " 'MSE': 0.05374795,\n",
       " 'meanMASE': 0.9956901105013407,\n",
       " 'Forecast Bias': 4.8523125e-05}"
      ]
     },
     "execution_count": 69,
     "metadata": {},
     "output_type": "execute_result"
    }
   ],
   "source": [
    "overall_metrics_naive = {\n",
    "    \"MAE\": ts_utils.mae(naive_pred_df[\"energy_consumption\"], naive_pred_df[\"naive_predictions\"]),\n",
    "    \"MSE\": ts_utils.mse(naive_pred_df.energy_consumption, naive_pred_df.naive_predictions),\n",
    "    \"meanMASE\": naive_metric_df.MASE.mean(),\n",
    "    \"Forecast Bias\": ts_utils.forecast_bias_aggregate(naive_pred_df.energy_consumption, naive_pred_df.naive_predictions)\n",
    "}\n",
    "overall_metrics_naive"
   ]
  },
  {
   "cell_type": "code",
   "execution_count": null,
   "id": "bed9051d-a327-4061-b897-bf8ff99205d9",
   "metadata": {},
   "outputs": [],
   "source": []
  },
  {
   "cell_type": "code",
   "execution_count": null,
   "id": "9e8b564d-8366-4a2a-aab9-cfc549f0120a",
   "metadata": {},
   "outputs": [],
   "source": []
  },
  {
   "cell_type": "code",
   "execution_count": null,
   "id": "4895998c-7ae6-4a29-910f-d0f26b5977b1",
   "metadata": {},
   "outputs": [],
   "source": []
  },
  {
   "cell_type": "markdown",
   "id": "9a422d2e-1f19-42a3-9653-91ccac0b45e8",
   "metadata": {},
   "source": [
    "### FFT"
   ]
  },
  {
   "cell_type": "code",
   "execution_count": 38,
   "id": "2ed8f26e-b220-4cd0-8fa1-615380084e14",
   "metadata": {},
   "outputs": [
    {
     "data": {
      "application/vnd.jupyter.widget-view+json": {
       "model_id": "572b402392164b869343fdacb7d7832d",
       "version_major": 2,
       "version_minor": 0
      },
      "text/plain": [
       "  0%|          | 0/399 [00:00<?, ?it/s]"
      ]
     },
     "metadata": {},
     "output_type": "display_data"
    }
   ],
   "source": [
    "name = \"FFT\"\n",
    "fft_preds = []\n",
    "fft_metrics = []\n",
    "for lcl_id in tqdm(lcl_ids):\n",
    "    fft_model = FFT(nr_freqs_to_keep=35, trend=\"poly\", trend_poly_degree=2)\n",
    "    tr = TimeSeries.from_series(train_df.loc[train_df.LCLid==lcl_id, [\"timestamp\",\"energy_consumption\"]].set_index(\"timestamp\"))\n",
    "    ts = TimeSeries.from_series(test_df.loc[test_df.LCLid==lcl_id, [\"timestamp\",\"energy_consumption\"]].set_index(\"timestamp\"))\n",
    "    y_pred, metrics = eval_model(fft_model, tr, ts, name=name)\n",
    "    y_pred = format_y_pred(y_pred, \"fft_predictions\").to_frame()\n",
    "    y_pred['LCLid'] = lcl_id\n",
    "    metrics[\"LCLid\"] = lcl_id\n",
    "    y_pred['energy_consumption'] = ts.data_array().to_series().values\n",
    "    fft_preds.append(y_pred)\n",
    "    fft_metrics.append(metrics)"
   ]
  },
  {
   "cell_type": "code",
   "execution_count": 39,
   "id": "93f98b98-086a-421b-9e9d-3f9314c09eb7",
   "metadata": {},
   "outputs": [
    {
     "data": {
      "text/html": [
       "<div>\n",
       "<style scoped>\n",
       "    .dataframe tbody tr th:only-of-type {\n",
       "        vertical-align: middle;\n",
       "    }\n",
       "\n",
       "    .dataframe tbody tr th {\n",
       "        vertical-align: top;\n",
       "    }\n",
       "\n",
       "    .dataframe thead th {\n",
       "        text-align: right;\n",
       "    }\n",
       "</style>\n",
       "<table border=\"1\" class=\"dataframe\">\n",
       "  <thead>\n",
       "    <tr style=\"text-align: right;\">\n",
       "      <th></th>\n",
       "      <th>fft_predictions</th>\n",
       "      <th>LCLid</th>\n",
       "      <th>energy_consumption</th>\n",
       "    </tr>\n",
       "    <tr>\n",
       "      <th>time</th>\n",
       "      <th></th>\n",
       "      <th></th>\n",
       "      <th></th>\n",
       "    </tr>\n",
       "  </thead>\n",
       "  <tbody>\n",
       "    <tr>\n",
       "      <th>2014-01-01 00:00:00</th>\n",
       "      <td>0.255057</td>\n",
       "      <td>MAC000002</td>\n",
       "      <td>0.496</td>\n",
       "    </tr>\n",
       "    <tr>\n",
       "      <th>2014-01-01 00:30:00</th>\n",
       "      <td>0.234834</td>\n",
       "      <td>MAC000002</td>\n",
       "      <td>0.427</td>\n",
       "    </tr>\n",
       "    <tr>\n",
       "      <th>2014-01-01 01:00:00</th>\n",
       "      <td>0.207254</td>\n",
       "      <td>MAC000002</td>\n",
       "      <td>0.469</td>\n",
       "    </tr>\n",
       "    <tr>\n",
       "      <th>2014-01-01 01:30:00</th>\n",
       "      <td>0.175136</td>\n",
       "      <td>MAC000002</td>\n",
       "      <td>0.362</td>\n",
       "    </tr>\n",
       "    <tr>\n",
       "      <th>2014-01-01 02:00:00</th>\n",
       "      <td>0.144155</td>\n",
       "      <td>MAC000002</td>\n",
       "      <td>0.452</td>\n",
       "    </tr>\n",
       "  </tbody>\n",
       "</table>\n",
       "</div>"
      ],
      "text/plain": [
       "                     fft_predictions      LCLid  energy_consumption\n",
       "time                                                               \n",
       "2014-01-01 00:00:00         0.255057  MAC000002               0.496\n",
       "2014-01-01 00:30:00         0.234834  MAC000002               0.427\n",
       "2014-01-01 01:00:00         0.207254  MAC000002               0.469\n",
       "2014-01-01 01:30:00         0.175136  MAC000002               0.362\n",
       "2014-01-01 02:00:00         0.144155  MAC000002               0.452"
      ]
     },
     "execution_count": 39,
     "metadata": {},
     "output_type": "execute_result"
    }
   ],
   "source": [
    "fft_pred_df = pd.concat(fft_preds)\n",
    "fft_pred_df.head()"
   ]
  },
  {
   "cell_type": "code",
   "execution_count": 40,
   "id": "6d437c09-a0e4-4705-a0a8-601e91dd0d21",
   "metadata": {},
   "outputs": [
    {
     "data": {
      "text/html": [
       "<div>\n",
       "<style scoped>\n",
       "    .dataframe tbody tr th:only-of-type {\n",
       "        vertical-align: middle;\n",
       "    }\n",
       "\n",
       "    .dataframe tbody tr th {\n",
       "        vertical-align: top;\n",
       "    }\n",
       "\n",
       "    .dataframe thead th {\n",
       "        text-align: right;\n",
       "    }\n",
       "</style>\n",
       "<table border=\"1\" class=\"dataframe\">\n",
       "  <thead>\n",
       "    <tr style=\"text-align: right;\">\n",
       "      <th></th>\n",
       "      <th>Algorithm</th>\n",
       "      <th>MAE</th>\n",
       "      <th>MSE</th>\n",
       "      <th>MASE</th>\n",
       "      <th>Forecast Bias</th>\n",
       "      <th>LCLid</th>\n",
       "    </tr>\n",
       "  </thead>\n",
       "  <tbody>\n",
       "    <tr>\n",
       "      <th>0</th>\n",
       "      <td>FFT</td>\n",
       "      <td>0.161086</td>\n",
       "      <td>0.071382</td>\n",
       "      <td>1.495855</td>\n",
       "      <td>19.789894</td>\n",
       "      <td>MAC000002</td>\n",
       "    </tr>\n",
       "    <tr>\n",
       "      <th>1</th>\n",
       "      <td>FFT</td>\n",
       "      <td>0.060454</td>\n",
       "      <td>0.014239</td>\n",
       "      <td>1.073792</td>\n",
       "      <td>19.206942</td>\n",
       "      <td>MAC000005</td>\n",
       "    </tr>\n",
       "    <tr>\n",
       "      <th>2</th>\n",
       "      <td>FFT</td>\n",
       "      <td>0.084586</td>\n",
       "      <td>0.019561</td>\n",
       "      <td>1.272841</td>\n",
       "      <td>-3.236648</td>\n",
       "      <td>MAC000017</td>\n",
       "    </tr>\n",
       "    <tr>\n",
       "      <th>3</th>\n",
       "      <td>FFT</td>\n",
       "      <td>0.184020</td>\n",
       "      <td>0.075877</td>\n",
       "      <td>1.686455</td>\n",
       "      <td>-19.180533</td>\n",
       "      <td>MAC000030</td>\n",
       "    </tr>\n",
       "    <tr>\n",
       "      <th>4</th>\n",
       "      <td>FFT</td>\n",
       "      <td>0.365551</td>\n",
       "      <td>0.184259</td>\n",
       "      <td>1.929392</td>\n",
       "      <td>-18.135196</td>\n",
       "      <td>MAC000040</td>\n",
       "    </tr>\n",
       "  </tbody>\n",
       "</table>\n",
       "</div>"
      ],
      "text/plain": [
       "  Algorithm       MAE       MSE      MASE  Forecast Bias      LCLid\n",
       "0       FFT  0.161086  0.071382  1.495855      19.789894  MAC000002\n",
       "1       FFT  0.060454  0.014239  1.073792      19.206942  MAC000005\n",
       "2       FFT  0.084586  0.019561  1.272841      -3.236648  MAC000017\n",
       "3       FFT  0.184020  0.075877  1.686455     -19.180533  MAC000030\n",
       "4       FFT  0.365551  0.184259  1.929392     -18.135196  MAC000040"
      ]
     },
     "execution_count": 40,
     "metadata": {},
     "output_type": "execute_result"
    }
   ],
   "source": [
    "fft_metric_df = pd.DataFrame(fft_metrics)\n",
    "fft_metric_df.head()"
   ]
  },
  {
   "cell_type": "code",
   "execution_count": 41,
   "id": "95fc33e8-7f7c-4794-9ef8-401da4a99ed3",
   "metadata": {},
   "outputs": [],
   "source": [
    "actual_series = TimeSeries.from_values(fft_pred_df.energy_consumption.values)\n",
    "pred_series = TimeSeries.from_values(fft_pred_df.fft_predictions.values)"
   ]
  },
  {
   "cell_type": "code",
   "execution_count": 42,
   "id": "287edaa3-5bab-4f50-8640-2cff54d539d5",
   "metadata": {},
   "outputs": [
    {
     "data": {
      "text/plain": [
       "{'MAE': 0.18095471348575962,\n",
       " 'MSE': 0.10185350593419754,\n",
       " 'meanMASE': 1.7935677692251986,\n",
       " 'Forecast Bias': 11.560564558166767}"
      ]
     },
     "execution_count": 42,
     "metadata": {},
     "output_type": "execute_result"
    }
   ],
   "source": [
    "overall_metrics_fft = {\n",
    "    \"MAE\": mae(actual_series = actual_series, pred_series = pred_series),\n",
    "    \"MSE\": mse(actual_series = actual_series, pred_series = pred_series),\n",
    "    \"meanMASE\": fft_metric_df.MASE.mean(),\n",
    "    \"Forecast Bias\": ope(actual_series = actual_series, pred_series = pred_series)\n",
    "}\n",
    "overall_metrics_fft"
   ]
  },
  {
   "cell_type": "markdown",
   "id": "e5e51169-e983-44f0-97b0-c39d988ce549",
   "metadata": {},
   "source": [
    "## Evaluation of Baseline Forecast"
   ]
  },
  {
   "cell_type": "code",
   "execution_count": 43,
   "id": "b4c5888e-c587-44e1-916f-cb10eae833d7",
   "metadata": {},
   "outputs": [
    {
     "data": {
      "text/html": [
       "<style  type=\"text/css\" >\n",
       "#T_bf5d5_row0_col0,#T_bf5d5_row0_col1,#T_bf5d5_row0_col2,#T_bf5d5_row0_col3{\n",
       "            background-color:  lightgreen;\n",
       "        }</style><table id=\"T_bf5d5_\" ><thead>    <tr>        <th class=\"blank level0\" ></th>        <th class=\"col_heading level0 col0\" >MAE</th>        <th class=\"col_heading level0 col1\" >MSE</th>        <th class=\"col_heading level0 col2\" >meanMASE</th>        <th class=\"col_heading level0 col3\" >Forecast Bias</th>    </tr></thead><tbody>\n",
       "                <tr>\n",
       "                        <th id=\"T_bf5d5_level0_row0\" class=\"row_heading level0 row0\" >FFT</th>\n",
       "                        <td id=\"T_bf5d5_row0_col0\" class=\"data row0 col0\" >0.181</td>\n",
       "                        <td id=\"T_bf5d5_row0_col1\" class=\"data row0 col1\" >0.102</td>\n",
       "                        <td id=\"T_bf5d5_row0_col2\" class=\"data row0 col2\" >1.794</td>\n",
       "                        <td id=\"T_bf5d5_row0_col3\" class=\"data row0 col3\" >11.56%</td>\n",
       "            </tr>\n",
       "            <tr>\n",
       "                        <th id=\"T_bf5d5_level0_row1\" class=\"row_heading level0 row1\" >Theta</th>\n",
       "                        <td id=\"T_bf5d5_row1_col0\" class=\"data row1 col0\" >0.233</td>\n",
       "                        <td id=\"T_bf5d5_row1_col1\" class=\"data row1 col1\" >0.162</td>\n",
       "                        <td id=\"T_bf5d5_row1_col2\" class=\"data row1 col2\" >2.092</td>\n",
       "                        <td id=\"T_bf5d5_row1_col3\" class=\"data row1 col3\" >15.25%</td>\n",
       "            </tr>\n",
       "    </tbody></table>"
      ],
      "text/plain": [
       "<pandas.io.formats.style.Styler at 0x23e273efa60>"
      ]
     },
     "execution_count": 43,
     "metadata": {},
     "output_type": "execute_result"
    }
   ],
   "source": [
    "p_df = pd.DataFrame([overall_metrics_fft, overall_metrics_theta], index=[\"FFT\",\"Theta\"])\n",
    "\n",
    "p_df.style.format({\"MAE\": \"{:.3f}\", \n",
    "                          \"MSE\": \"{:.3f}\", \n",
    "                          \"meanMASE\": \"{:.3f}\", \n",
    "                          \"Forecast Bias\": \"{:.2f}%\"}).highlight_min(color='lightgreen')"
   ]
  },
  {
   "cell_type": "code",
   "execution_count": 44,
   "id": "15c25f33-a1c5-4217-9d28-30ee21bdfef3",
   "metadata": {},
   "outputs": [],
   "source": [
    "baseline_pred_df = theta_pred_df.reset_index().merge(fft_pred_df.reset_index().drop(columns='energy_consumption'), on=['time','LCLid'], how='outer')"
   ]
  },
  {
   "cell_type": "code",
   "execution_count": 45,
   "id": "eb9ece72-317f-4f1c-ae78-8d459cf358e0",
   "metadata": {},
   "outputs": [
    {
     "data": {
      "text/html": [
       "<div>\n",
       "<style scoped>\n",
       "    .dataframe tbody tr th:only-of-type {\n",
       "        vertical-align: middle;\n",
       "    }\n",
       "\n",
       "    .dataframe tbody tr th {\n",
       "        vertical-align: top;\n",
       "    }\n",
       "\n",
       "    .dataframe thead th {\n",
       "        text-align: right;\n",
       "    }\n",
       "</style>\n",
       "<table border=\"1\" class=\"dataframe\">\n",
       "  <thead>\n",
       "    <tr style=\"text-align: right;\">\n",
       "      <th></th>\n",
       "      <th>Algorithm</th>\n",
       "      <th>MAE</th>\n",
       "      <th>MSE</th>\n",
       "      <th>MASE</th>\n",
       "      <th>Forecast Bias</th>\n",
       "      <th>LCLid</th>\n",
       "    </tr>\n",
       "  </thead>\n",
       "  <tbody>\n",
       "    <tr>\n",
       "      <th>0</th>\n",
       "      <td>Theta</td>\n",
       "      <td>0.195943</td>\n",
       "      <td>0.072140</td>\n",
       "      <td>1.819537</td>\n",
       "      <td>-21.151956</td>\n",
       "      <td>MAC000002</td>\n",
       "    </tr>\n",
       "    <tr>\n",
       "      <th>1</th>\n",
       "      <td>Theta</td>\n",
       "      <td>0.077784</td>\n",
       "      <td>0.013287</td>\n",
       "      <td>1.381620</td>\n",
       "      <td>-25.762581</td>\n",
       "      <td>MAC000005</td>\n",
       "    </tr>\n",
       "    <tr>\n",
       "      <th>2</th>\n",
       "      <td>Theta</td>\n",
       "      <td>0.124269</td>\n",
       "      <td>0.033778</td>\n",
       "      <td>1.869995</td>\n",
       "      <td>77.886231</td>\n",
       "      <td>MAC000017</td>\n",
       "    </tr>\n",
       "    <tr>\n",
       "      <th>3</th>\n",
       "      <td>Theta</td>\n",
       "      <td>0.132909</td>\n",
       "      <td>0.065851</td>\n",
       "      <td>1.218045</td>\n",
       "      <td>27.962869</td>\n",
       "      <td>MAC000030</td>\n",
       "    </tr>\n",
       "    <tr>\n",
       "      <th>4</th>\n",
       "      <td>Theta</td>\n",
       "      <td>0.312368</td>\n",
       "      <td>0.166005</td>\n",
       "      <td>1.648694</td>\n",
       "      <td>-4.295670</td>\n",
       "      <td>MAC000040</td>\n",
       "    </tr>\n",
       "  </tbody>\n",
       "</table>\n",
       "</div>"
      ],
      "text/plain": [
       "  Algorithm       MAE       MSE      MASE  Forecast Bias      LCLid\n",
       "0     Theta  0.195943  0.072140  1.819537     -21.151956  MAC000002\n",
       "1     Theta  0.077784  0.013287  1.381620     -25.762581  MAC000005\n",
       "2     Theta  0.124269  0.033778  1.869995      77.886231  MAC000017\n",
       "3     Theta  0.132909  0.065851  1.218045      27.962869  MAC000030\n",
       "4     Theta  0.312368  0.166005  1.648694      -4.295670  MAC000040"
      ]
     },
     "execution_count": 45,
     "metadata": {},
     "output_type": "execute_result"
    }
   ],
   "source": [
    "baseline_metrics_df = pd.concat([theta_metric_df, fft_metric_df])\n",
    "baseline_metrics_df.head()"
   ]
  },
  {
   "cell_type": "code",
   "execution_count": 46,
   "id": "9d164184-dca3-4472-a138-c260019eeb68",
   "metadata": {},
   "outputs": [
    {
     "data": {
      "application/vnd.plotly.v1+json": {
       "config": {
        "plotlyServerURL": "https://plot.ly"
       },
       "data": [
        {
         "alignmentgroup": "True",
         "bingroup": "x",
         "histnorm": "probability density",
         "hovertemplate": "Algorithm=Theta<br>MASE=%{x}<br>probability density=%{y}<extra></extra>",
         "legendgroup": "Theta",
         "marker": {
          "color": "#636efa",
          "opacity": 0.5,
          "pattern": {
           "shape": ""
          }
         },
         "name": "Theta",
         "nbinsx": 500,
         "offsetgroup": "Theta",
         "orientation": "v",
         "showlegend": true,
         "type": "histogram",
         "x": [
          1.8195370342217607,
          1.3816198788887224,
          1.8699946089918067,
          1.2180445829407445,
          1.6486935684734725,
          0.5664667696392868,
          0.1806263959188428,
          2.806579600024575,
          2.3079490062897885,
          2.8244676341722212,
          0.16361254178345558,
          1.5273858404847267,
          1.3910244750265217,
          1.3031884688515658,
          1.9011861920532502,
          1.3196330189118428,
          3.2805846026581804,
          1.4761760023161903,
          1.2981562406021805,
          1.7413757250285706,
          0.17538935776394146,
          1.5323326954648722,
          0.9436488532159001,
          0.48819231221960535,
          1.3649358840988048,
          1.8933088126412767,
          0.4222248557003664,
          0.2518643297316016,
          1.186549864642714,
          2.707108680631659,
          2.9734819526139176,
          4.916002177525271,
          3.700479544515916,
          2.545507223512614,
          2.7400796310387356,
          1.0441734898755695,
          2.1152544093844186,
          0.5162696288412479,
          1.1052913278123493,
          0.5752447507656567,
          1.2996262114133508,
          2.102683715271723,
          1.3053811768687573,
          3.9478378430318055,
          3.8631614961028276,
          3.3939921780332396,
          5.226279359694032,
          0.90775051104279,
          1.939267159651806,
          0.2905948734620344,
          0.9467157664050287,
          2.4254522435616774,
          0.9778621718749838,
          4.7675352346863065,
          0.9117961694162388,
          1.6076397669652303,
          0.9082851652047318,
          1.1628392135882455,
          2.284827491879413,
          2.1474106320236372,
          1.1592436181919334,
          2.0847364614317505,
          1.713904932503264,
          0.3532277164244196,
          0.4058057053062812,
          2.022186802383012,
          0.8832913714572845,
          0.8223272867177895,
          1.7057014952368468,
          1.6010618243640438,
          2.4162066277362895,
          2.3613563124731005,
          1.2438554600839515,
          2.7870463702173787,
          1.6174582996014488,
          1.3884017395836197,
          1.357813732606932,
          2.963905043668944,
          3.2030278422665357,
          2.56956043319189,
          0.931578221932401,
          0.15707909357493788,
          2.405654089326067,
          1.794118324020897,
          1.8401375118558674,
          1.9381023240179074,
          3.757125288173762,
          1.727964031317733,
          5.225843266535002,
          1.4161707532141774,
          2.3980494066168108,
          1.5421197535870492,
          1.5022325640222263,
          2.874162274244898,
          2.6293693723731395,
          1.4896680429053997,
          1.2369772474407035,
          1.8592941604482907,
          2.82155314413399,
          5.253518077040207,
          1.3725981341323272,
          1.6488229385318638,
          3.8667266365111788,
          2.9945910407059704,
          7.335913768365028,
          7.339165573194004,
          0.14888835862189734,
          5.583508266590468,
          1.4791378663008319,
          1.7039572020460718,
          1.4888370874201262,
          1.405992431469911,
          1.9696958102050466,
          1.2993084002991842,
          0.948852572375863,
          1.6042276498361303,
          2.5134464736662543,
          3.270491616760249,
          2.548739535348714,
          1.1714010634226506,
          1.549519300519139,
          3.9872742754206896,
          2.2124520529994705,
          1.4217215311069789,
          0.7676258031823023,
          1.5383443468033142,
          1.2550610250534122,
          1.3565848168456884,
          1.0925493730972056,
          0.8413941761254596,
          2.443307922634262,
          1.6300169153992574,
          6.625917493425402,
          0.9277998127292321,
          1.6545531707917243,
          1.8453589274180873,
          1.5871208225360447,
          2.2753827421716966,
          0.4073205803456674,
          1.1493489219074833,
          2.681669041972349,
          3.5647408353926266,
          3.91300400299533,
          1.0631122260380188,
          1.9806224605458842,
          1.1594580143566315,
          1.0380632465959514,
          1.4819594279636015,
          2.527638087340534,
          1.3391156720904362,
          0.38213613690064124,
          0.9892118604467484,
          1.3506954346895057,
          1.0455048266260072,
          1.9925569092476845,
          0.8822739387973341,
          1.0818088951716753,
          2.2222481809447157,
          2.4395008118488812,
          3.1876705921048005,
          2.4268510697179457,
          0.6315252868976092,
          0.6532702726299251,
          2.3445868219308745,
          12.893706843156917,
          1.4034289075703434,
          1.295576632819849,
          1.4422925312772006,
          1.3059374108504789,
          2.1309031880800164,
          2.0004117594238426,
          2.667950739318328,
          1.1442029162509848,
          1.283562864093951,
          1.5009428912488123,
          1.3419154009675025,
          0.7700312468944361,
          1.394228936689868,
          1.8857119943037146,
          1.6498869106261385,
          1.4410332849185952,
          6.494156031421099,
          1.0631250191451402,
          1.7178536472417747,
          2.5594472796161822,
          4.218841741724004,
          1.1780592525416103,
          2.2532573514638723,
          1.493571901141561,
          0.33298563971356093,
          1.6542433009003656,
          0.9978878945654859,
          1.0818421138933474,
          1.6808215410829417,
          3.7806169335052404,
          1.8965764355492443,
          1.5829721903012597,
          1.0561986940148813,
          0.18284218555521806,
          1.4809936316834666,
          1.1230206540779721,
          1.1614690524244022,
          2.370575108346795,
          1.4383469748032327,
          1.1987801623189973,
          2.242492170806636,
          0.7664058961262953,
          2.4385311738792375,
          1.2839693299692767,
          1.49669979989958,
          3.027531642733647,
          1.519799050962775,
          2.8391949169492765,
          1.7801788843025697,
          2.046560287785657,
          1.4024503272576332,
          0.36848434043708933,
          1.2791582835203195,
          3.423978981424378,
          2.083874585290724,
          2.404162698636049,
          2.8509424806671264,
          3.221084429140897,
          0.7542155382828064,
          5.52583186955378,
          0.7255329113622979,
          0.9320418818956815,
          5.729182693541742,
          5.474308900033862,
          4.692694153513172,
          1.6340573769690923,
          4.19632171254431,
          4.723943406061345,
          3.2523861358645263,
          1.2625745419646852,
          2.056801355003094,
          2.7109324198605154,
          6.375686826932761,
          1.1105012815721076,
          1.2826322077581138,
          1.9868714982507993,
          0.4828443129101557,
          1.1989475599036394,
          2.6455899392263733,
          2.018326565857423,
          3.921537088254925,
          1.0746634494248029,
          2.2984168330976833,
          1.2889959949532312,
          1.400889589963846,
          1.4282318589260712,
          9.647026435663559,
          1.2796404932964855,
          0.28312068788000877,
          1.9087727046582446,
          0.9888254875120268,
          1.3929533190339816,
          1.6981050220842746,
          2.041505833282926,
          3.5385394692745393,
          1.2978328847200884,
          4.406233040244198,
          1.4814970882869631,
          5.519468445092423,
          2.677073285588213,
          1.474117041891039,
          2.0166307608746394,
          1.6100910047736252,
          1.8874777046921112,
          1.5582210032456987,
          1.7470564682616023,
          4.70091439948875,
          0.20274566635356572,
          1.6386958578095203,
          1.6729563183648806,
          0.3369471227259823,
          1.4561748901615752,
          0.9772776461357858,
          1.125127335970346,
          1.2527017120468644,
          4.11738332871749,
          4.362854213943114,
          0.2713291558102784,
          1.106544770408658,
          2.3774558252621723,
          1.428832670886972,
          2.6549166541639946,
          1.9276080887305713,
          1.8969912950154182,
          1.0050696999387667,
          1.270392691309882,
          1.2933921961430455,
          7.453690527912916,
          3.6161104980038075,
          2.3552659816529076,
          1.7227376368515341,
          2.56023884498139,
          1.366448109416565,
          1.8457401320911495,
          1.1767484117340001,
          1.69759381650542,
          8.757642995426792,
          5.159001743930721,
          1.3801458209222628,
          1.3242902861571337,
          1.3489750299831162,
          1.3037794495783155,
          5.580705157880761,
          1.491685981389339,
          4.436527899210304,
          0.13636793523618887,
          1.8309508295695378,
          1.259629946536941,
          1.6661974910851747,
          2.0426881263264334,
          0.16097829644063943,
          4.371843868772427,
          2.7259218631390594,
          1.0888574498879304,
          2.0297292470139774,
          2.312227013360528,
          2.50039029280587,
          2.7710988618409647,
          1.500834980114152,
          4.665079516682899,
          1.0753687590906413,
          0.5349932276772063,
          1.322819839899081,
          1.653871493456842,
          2.5521851760753647,
          1.9139174049498313,
          1.781346376083327,
          3.408176507921025,
          3.086072787167149,
          2.3822540112156,
          1.596586413547666,
          2.6085984819219536,
          1.0255571469452418,
          1.7840656472073695,
          2.1930310489213016,
          6.313148469043897,
          1.1849563200088562,
          1.2355463326754692,
          1.23855374355711,
          4.764467306026097,
          7.9338391017155505,
          1.1819348208347236,
          3.572004819718223,
          3.190507166950248,
          3.0855867244149784,
          2.155488696532018,
          3.11524217248351,
          2.020924432832851,
          2.3770188363470277,
          0.577978571915085,
          1.3798708905763395,
          1.3413944174001502,
          0.8593644625461409,
          0.28391050243574373,
          0.9617363648454019,
          4.08212484226441,
          0.10202335621146401,
          2.184824838821001,
          1.5039627844774595,
          0.659583017194999,
          1.8067949001539416,
          1.16649306108372,
          1.6080170206140278,
          4.342209747541521,
          1.4401003523937574,
          0.9576301875363752,
          1.376645628217775,
          1.7716948081028197,
          1.6124195771955134,
          2.2355766114268767,
          5.366083010039311,
          1.1345801081421951,
          0.4443082056658749,
          1.0347796986896447,
          2.910051357734729,
          0.6349607830320645,
          1.8461485627940502,
          1.5001037521997524,
          1.8734306299247294,
          1.2533789954872676,
          7.127689230398584,
          1.2734809774923808,
          3.6417178410291955,
          1.1033272658260491,
          3.078048636845888,
          2.534752544511451,
          1.0199881497702086,
          0.9654956785123777,
          1.2682883346858542,
          2.520980000828235,
          0.12849760677311223,
          1.2858615090625114,
          3.905350450909992,
          3.2343776798400836
         ],
         "xaxis": "x",
         "yaxis": "y"
        },
        {
         "alignmentgroup": "True",
         "hovertemplate": "Algorithm=Theta<br>MASE=%{x}<extra></extra>",
         "legendgroup": "Theta",
         "marker": {
          "color": "#636efa"
         },
         "name": "Theta",
         "notched": true,
         "offsetgroup": "Theta",
         "showlegend": false,
         "type": "box",
         "x": [
          1.8195370342217607,
          1.3816198788887224,
          1.8699946089918067,
          1.2180445829407445,
          1.6486935684734725,
          0.5664667696392868,
          0.1806263959188428,
          2.806579600024575,
          2.3079490062897885,
          2.8244676341722212,
          0.16361254178345558,
          1.5273858404847267,
          1.3910244750265217,
          1.3031884688515658,
          1.9011861920532502,
          1.3196330189118428,
          3.2805846026581804,
          1.4761760023161903,
          1.2981562406021805,
          1.7413757250285706,
          0.17538935776394146,
          1.5323326954648722,
          0.9436488532159001,
          0.48819231221960535,
          1.3649358840988048,
          1.8933088126412767,
          0.4222248557003664,
          0.2518643297316016,
          1.186549864642714,
          2.707108680631659,
          2.9734819526139176,
          4.916002177525271,
          3.700479544515916,
          2.545507223512614,
          2.7400796310387356,
          1.0441734898755695,
          2.1152544093844186,
          0.5162696288412479,
          1.1052913278123493,
          0.5752447507656567,
          1.2996262114133508,
          2.102683715271723,
          1.3053811768687573,
          3.9478378430318055,
          3.8631614961028276,
          3.3939921780332396,
          5.226279359694032,
          0.90775051104279,
          1.939267159651806,
          0.2905948734620344,
          0.9467157664050287,
          2.4254522435616774,
          0.9778621718749838,
          4.7675352346863065,
          0.9117961694162388,
          1.6076397669652303,
          0.9082851652047318,
          1.1628392135882455,
          2.284827491879413,
          2.1474106320236372,
          1.1592436181919334,
          2.0847364614317505,
          1.713904932503264,
          0.3532277164244196,
          0.4058057053062812,
          2.022186802383012,
          0.8832913714572845,
          0.8223272867177895,
          1.7057014952368468,
          1.6010618243640438,
          2.4162066277362895,
          2.3613563124731005,
          1.2438554600839515,
          2.7870463702173787,
          1.6174582996014488,
          1.3884017395836197,
          1.357813732606932,
          2.963905043668944,
          3.2030278422665357,
          2.56956043319189,
          0.931578221932401,
          0.15707909357493788,
          2.405654089326067,
          1.794118324020897,
          1.8401375118558674,
          1.9381023240179074,
          3.757125288173762,
          1.727964031317733,
          5.225843266535002,
          1.4161707532141774,
          2.3980494066168108,
          1.5421197535870492,
          1.5022325640222263,
          2.874162274244898,
          2.6293693723731395,
          1.4896680429053997,
          1.2369772474407035,
          1.8592941604482907,
          2.82155314413399,
          5.253518077040207,
          1.3725981341323272,
          1.6488229385318638,
          3.8667266365111788,
          2.9945910407059704,
          7.335913768365028,
          7.339165573194004,
          0.14888835862189734,
          5.583508266590468,
          1.4791378663008319,
          1.7039572020460718,
          1.4888370874201262,
          1.405992431469911,
          1.9696958102050466,
          1.2993084002991842,
          0.948852572375863,
          1.6042276498361303,
          2.5134464736662543,
          3.270491616760249,
          2.548739535348714,
          1.1714010634226506,
          1.549519300519139,
          3.9872742754206896,
          2.2124520529994705,
          1.4217215311069789,
          0.7676258031823023,
          1.5383443468033142,
          1.2550610250534122,
          1.3565848168456884,
          1.0925493730972056,
          0.8413941761254596,
          2.443307922634262,
          1.6300169153992574,
          6.625917493425402,
          0.9277998127292321,
          1.6545531707917243,
          1.8453589274180873,
          1.5871208225360447,
          2.2753827421716966,
          0.4073205803456674,
          1.1493489219074833,
          2.681669041972349,
          3.5647408353926266,
          3.91300400299533,
          1.0631122260380188,
          1.9806224605458842,
          1.1594580143566315,
          1.0380632465959514,
          1.4819594279636015,
          2.527638087340534,
          1.3391156720904362,
          0.38213613690064124,
          0.9892118604467484,
          1.3506954346895057,
          1.0455048266260072,
          1.9925569092476845,
          0.8822739387973341,
          1.0818088951716753,
          2.2222481809447157,
          2.4395008118488812,
          3.1876705921048005,
          2.4268510697179457,
          0.6315252868976092,
          0.6532702726299251,
          2.3445868219308745,
          12.893706843156917,
          1.4034289075703434,
          1.295576632819849,
          1.4422925312772006,
          1.3059374108504789,
          2.1309031880800164,
          2.0004117594238426,
          2.667950739318328,
          1.1442029162509848,
          1.283562864093951,
          1.5009428912488123,
          1.3419154009675025,
          0.7700312468944361,
          1.394228936689868,
          1.8857119943037146,
          1.6498869106261385,
          1.4410332849185952,
          6.494156031421099,
          1.0631250191451402,
          1.7178536472417747,
          2.5594472796161822,
          4.218841741724004,
          1.1780592525416103,
          2.2532573514638723,
          1.493571901141561,
          0.33298563971356093,
          1.6542433009003656,
          0.9978878945654859,
          1.0818421138933474,
          1.6808215410829417,
          3.7806169335052404,
          1.8965764355492443,
          1.5829721903012597,
          1.0561986940148813,
          0.18284218555521806,
          1.4809936316834666,
          1.1230206540779721,
          1.1614690524244022,
          2.370575108346795,
          1.4383469748032327,
          1.1987801623189973,
          2.242492170806636,
          0.7664058961262953,
          2.4385311738792375,
          1.2839693299692767,
          1.49669979989958,
          3.027531642733647,
          1.519799050962775,
          2.8391949169492765,
          1.7801788843025697,
          2.046560287785657,
          1.4024503272576332,
          0.36848434043708933,
          1.2791582835203195,
          3.423978981424378,
          2.083874585290724,
          2.404162698636049,
          2.8509424806671264,
          3.221084429140897,
          0.7542155382828064,
          5.52583186955378,
          0.7255329113622979,
          0.9320418818956815,
          5.729182693541742,
          5.474308900033862,
          4.692694153513172,
          1.6340573769690923,
          4.19632171254431,
          4.723943406061345,
          3.2523861358645263,
          1.2625745419646852,
          2.056801355003094,
          2.7109324198605154,
          6.375686826932761,
          1.1105012815721076,
          1.2826322077581138,
          1.9868714982507993,
          0.4828443129101557,
          1.1989475599036394,
          2.6455899392263733,
          2.018326565857423,
          3.921537088254925,
          1.0746634494248029,
          2.2984168330976833,
          1.2889959949532312,
          1.400889589963846,
          1.4282318589260712,
          9.647026435663559,
          1.2796404932964855,
          0.28312068788000877,
          1.9087727046582446,
          0.9888254875120268,
          1.3929533190339816,
          1.6981050220842746,
          2.041505833282926,
          3.5385394692745393,
          1.2978328847200884,
          4.406233040244198,
          1.4814970882869631,
          5.519468445092423,
          2.677073285588213,
          1.474117041891039,
          2.0166307608746394,
          1.6100910047736252,
          1.8874777046921112,
          1.5582210032456987,
          1.7470564682616023,
          4.70091439948875,
          0.20274566635356572,
          1.6386958578095203,
          1.6729563183648806,
          0.3369471227259823,
          1.4561748901615752,
          0.9772776461357858,
          1.125127335970346,
          1.2527017120468644,
          4.11738332871749,
          4.362854213943114,
          0.2713291558102784,
          1.106544770408658,
          2.3774558252621723,
          1.428832670886972,
          2.6549166541639946,
          1.9276080887305713,
          1.8969912950154182,
          1.0050696999387667,
          1.270392691309882,
          1.2933921961430455,
          7.453690527912916,
          3.6161104980038075,
          2.3552659816529076,
          1.7227376368515341,
          2.56023884498139,
          1.366448109416565,
          1.8457401320911495,
          1.1767484117340001,
          1.69759381650542,
          8.757642995426792,
          5.159001743930721,
          1.3801458209222628,
          1.3242902861571337,
          1.3489750299831162,
          1.3037794495783155,
          5.580705157880761,
          1.491685981389339,
          4.436527899210304,
          0.13636793523618887,
          1.8309508295695378,
          1.259629946536941,
          1.6661974910851747,
          2.0426881263264334,
          0.16097829644063943,
          4.371843868772427,
          2.7259218631390594,
          1.0888574498879304,
          2.0297292470139774,
          2.312227013360528,
          2.50039029280587,
          2.7710988618409647,
          1.500834980114152,
          4.665079516682899,
          1.0753687590906413,
          0.5349932276772063,
          1.322819839899081,
          1.653871493456842,
          2.5521851760753647,
          1.9139174049498313,
          1.781346376083327,
          3.408176507921025,
          3.086072787167149,
          2.3822540112156,
          1.596586413547666,
          2.6085984819219536,
          1.0255571469452418,
          1.7840656472073695,
          2.1930310489213016,
          6.313148469043897,
          1.1849563200088562,
          1.2355463326754692,
          1.23855374355711,
          4.764467306026097,
          7.9338391017155505,
          1.1819348208347236,
          3.572004819718223,
          3.190507166950248,
          3.0855867244149784,
          2.155488696532018,
          3.11524217248351,
          2.020924432832851,
          2.3770188363470277,
          0.577978571915085,
          1.3798708905763395,
          1.3413944174001502,
          0.8593644625461409,
          0.28391050243574373,
          0.9617363648454019,
          4.08212484226441,
          0.10202335621146401,
          2.184824838821001,
          1.5039627844774595,
          0.659583017194999,
          1.8067949001539416,
          1.16649306108372,
          1.6080170206140278,
          4.342209747541521,
          1.4401003523937574,
          0.9576301875363752,
          1.376645628217775,
          1.7716948081028197,
          1.6124195771955134,
          2.2355766114268767,
          5.366083010039311,
          1.1345801081421951,
          0.4443082056658749,
          1.0347796986896447,
          2.910051357734729,
          0.6349607830320645,
          1.8461485627940502,
          1.5001037521997524,
          1.8734306299247294,
          1.2533789954872676,
          7.127689230398584,
          1.2734809774923808,
          3.6417178410291955,
          1.1033272658260491,
          3.078048636845888,
          2.534752544511451,
          1.0199881497702086,
          0.9654956785123777,
          1.2682883346858542,
          2.520980000828235,
          0.12849760677311223,
          1.2858615090625114,
          3.905350450909992,
          3.2343776798400836
         ],
         "xaxis": "x2",
         "yaxis": "y2"
        },
        {
         "alignmentgroup": "True",
         "bingroup": "x",
         "histnorm": "probability density",
         "hovertemplate": "Algorithm=FFT<br>MASE=%{x}<br>probability density=%{y}<extra></extra>",
         "legendgroup": "FFT",
         "marker": {
          "color": "#EF553B",
          "opacity": 0.5,
          "pattern": {
           "shape": "/"
          }
         },
         "name": "FFT",
         "nbinsx": 500,
         "offsetgroup": "FFT",
         "orientation": "v",
         "showlegend": true,
         "type": "histogram",
         "x": [
          1.4958550115671472,
          1.0737921721362114,
          1.2728407164635964,
          1.6864546136865473,
          1.9293924165175205,
          1.2066618021594226,
          0.3296168997378689,
          1.7874534642433533,
          1.2206920183646288,
          1.9585538268191152,
          0.6454930048236623,
          1.3493714799282666,
          1.554100616308916,
          1.4126738236160417,
          1.9519211710465347,
          1.3136884869681376,
          1.6569632068082245,
          1.8334297336706982,
          1.1862125486018866,
          1.950242998607859,
          0.7997370733962043,
          1.2439893061424012,
          0.9555244920986371,
          0.7573523068486447,
          1.1154779577019145,
          1.9601574644196624,
          0.7583571510987878,
          0.4458829867609459,
          0.897671422258838,
          1.0614403346062249,
          2.6999199479167366,
          4.2578312011487665,
          1.0639217755698696,
          2.3028704389906096,
          3.9648244506708616,
          0.9042353753600604,
          0.9166837812468573,
          0.7572142777568708,
          1.2433781891473705,
          2.1990256753653683,
          1.213581947972672,
          1.3787480165783461,
          1.3021531377043445,
          4.20753388531392,
          2.353988968502756,
          2.1067327424177407,
          1.8469425315201844,
          0.9558922696509025,
          1.6514549566698993,
          1.1208905696893339,
          0.9292445438011948,
          1.6613503849392695,
          0.9712502592486961,
          3.395055328550437,
          1.1386776286030862,
          1.5602808413416487,
          0.9958200906814867,
          1.1199636554718793,
          1.7446854632185709,
          1.3723145087285868,
          1.6452686482459025,
          2.6359203458881817,
          0.9946278255681197,
          0.9309478233578624,
          0.7344036206099475,
          2.014781794633558,
          0.9012916811649285,
          0.995342737106599,
          2.9687892145318777,
          1.2223089574037922,
          1.7114715511111913,
          1.271025048279844,
          1.1069989748292783,
          1.6429947161283434,
          2.533989596846593,
          1.22277031888085,
          1.7281370346534408,
          2.899802553958706,
          1.5894044802890022,
          1.8029316155456527,
          1.109548487022708,
          0.6274447748251156,
          1.1286963281875604,
          2.494262281364617,
          1.863033513976855,
          1.4667409476290323,
          1.2678255018163813,
          1.7547161819960988,
          3.181996653291256,
          1.438865909053632,
          1.5448191018174022,
          1.2635975143962106,
          1.4822165660064237,
          1.0542073574502735,
          6.175297041667246,
          1.676370978760885,
          1.187592008232922,
          1.826209495352237,
          1.2292894346006114,
          1.195693591193134,
          1.6303073198433073,
          2.3571470340184177,
          2.8106957378922286,
          2.6610568346626233,
          1.6991565929089991,
          1.774016749280795,
          0.49339382485605787,
          1.8084155436842686,
          1.332690095413736,
          1.4591348364570798,
          0.7535601173948919,
          1.431105632020749,
          1.1751952633412832,
          1.4502561788405959,
          0.979323723651799,
          1.4312725430648219,
          1.5916278148855527,
          1.911584011563227,
          0.9148381684022777,
          1.2901123326312718,
          1.5041494802379107,
          3.9770426760684425,
          1.2748213090416631,
          1.1348709207128063,
          3.7584353135987736,
          1.6410179754064105,
          1.2041114619873392,
          1.3717144420435858,
          1.1506450842524276,
          3.0335378039150087,
          2.001478880523811,
          1.6941454520597776,
          2.574229699282082,
          1.0936306992058407,
          1.2290016992238402,
          1.8482803703218653,
          1.321315010611559,
          2.184389005411861,
          0.8893423148309589,
          1.499692909429968,
          4.542376199144231,
          2.3649067702328965,
          2.7842882144292735,
          1.0897443209380313,
          1.3645928147073199,
          1.3011446677207945,
          1.2094070042086542,
          1.0817664565948542,
          1.546256923245155,
          1.42667092940121,
          2.4859815662870193,
          0.8835828142304071,
          1.1897822117404695,
          1.2080828343241246,
          1.5579524095853108,
          1.1284690355388747,
          1.0132401868230303,
          1.0585848107200535,
          1.6541503306850975,
          2.0845714367378636,
          1.2969688464405222,
          1.4700468804979205,
          1.7632137163282657,
          2.038300737065708,
          3.3953839602918117,
          1.0881231977640302,
          1.2661457475934856,
          1.0220529911018228,
          1.2513221089689899,
          1.7361129719386739,
          1.5391492620612452,
          1.5177362694748127,
          1.9915106343380826,
          1.2081030813129023,
          1.1068662667448268,
          2.5684961768316334,
          0.8201962052401831,
          1.1344803735350852,
          1.475162587281142,
          1.453546297955704,
          1.5472421822799016,
          3.2709005926512322,
          1.1418386297319079,
          1.9014097339487264,
          1.4791292105846219,
          2.4851251026989387,
          1.2906837085105767,
          1.9257823281033202,
          1.6258864695077777,
          2.0987958526296153,
          0.9534476484764827,
          1.0629134935496887,
          1.16865111226129,
          1.7282037878961107,
          1.12978988858008,
          2.0467110804754416,
          1.2299654721128814,
          1.6072599930322269,
          0.9747349283691318,
          2.155771738779544,
          1.1321968833198797,
          1.2399920985109427,
          3.0981936703093997,
          1.4250413489881388,
          0.8673472044076345,
          1.5146821586952788,
          1.4439110063990854,
          1.6671628746242164,
          1.5759905560946696,
          1.360613157643301,
          1.3694350512281628,
          1.1743571617239648,
          1.7189408068900687,
          1.7183477053730563,
          2.308945599742916,
          1.0335082416136665,
          2.6846737313818796,
          1.6345633658060177,
          2.2913835170193027,
          1.480453939698499,
          1.847266154480532,
          1.5283510131442264,
          1.0969898428980818,
          0.7614511028005426,
          1.9512568161995618,
          1.7318220993743338,
          1.1256879098666543,
          1.7691523873924881,
          1.2273381844152043,
          1.948609211820294,
          1.3286221005032266,
          1.227349763341534,
          80.22618679618674,
          1.6128117220850566,
          0.9138406061722739,
          3.1280798872435045,
          1.9194533760875974,
          2.2555078131910795,
          1.002983281009259,
          2.6027988445597843,
          1.570103476688298,
          0.6606489445316892,
          1.3366555271218947,
          1.5008447140248473,
          1.0815849931699135,
          1.0989843163981032,
          1.1921755767223914,
          1.3729005023088143,
          1.3679847746681133,
          1.2504635919205422,
          1.3468862096536256,
          4.539685555363188,
          0.9371479996927337,
          0.5641770135627714,
          1.277819052124461,
          1.4252261768722332,
          1.7326134228048933,
          1.4286718292416327,
          1.0249097583903974,
          1.6444379782642466,
          2.4089496598601454,
          1.9094352881706151,
          1.168955950012428,
          2.65763935410295,
          1.8290307554011203,
          3.0563941360677434,
          1.605797968721345,
          1.4899471575191605,
          1.287456159771971,
          1.3131421892466684,
          1.6259263563048731,
          1.8474636251902565,
          0.9215913445782387,
          1.9344483532322403,
          2.970757974682173,
          0.7043899352833034,
          1.409550492937968,
          1.2224804210076379,
          1.1749932739002964,
          1.2612723314679488,
          3.5303548338691506,
          1.4485748400568146,
          1.953597085436819,
          1.3442964999060543,
          1.8411587103861498,
          1.504246790212341,
          1.2300251791241852,
          1.6264545620990916,
          1.2763252593954073,
          1.0933438491837173,
          1.5521965279849756,
          1.4166785435827554,
          2.7165546194463217,
          1.6042280129414628,
          1.1781792764356436,
          1.3231766358556372,
          2.065802214983129,
          1.2015933424145802,
          2.4899647944102443,
          1.5003407535482096,
          1.6115627761119011,
          1.9919001871064286,
          1.6532626205467098,
          2.157568275359216,
          1.350119377964316,
          2.0778898965011745,
          1.4422530803416316,
          2.0072703688241464,
          1.4533029510822106,
          2.903234513630663,
          0.36517075385174597,
          1.5616073014764738,
          1.5635323807776522,
          1.2574531360473158,
          1.3369103302143903,
          0.8427390690658174,
          1.408997535010389,
          2.2894394995603937,
          1.200041298970751,
          1.6085401574007405,
          1.7910047364288495,
          1.2396561585557044,
          2.105273753676754,
          1.5590425103388632,
          2.852499838792603,
          1.042746820434025,
          3.1342461353956317,
          1.5997268815956187,
          1.8199449741131497,
          1.9352191381304462,
          2.089946735020559,
          1.25850614011869,
          1.4890280662416764,
          1.4031767313061743,
          1.3777946060635122,
          0.9917139312215564,
          2.971216568560412,
          1.1055771604099716,
          1.8050715852587718,
          1.8221422692439402,
          1.0096719601496926,
          1.1198655236355755,
          1.2836798628411836,
          1.537955262882315,
          1.5678100635080112,
          2.575801712105208,
          1.234839041999828,
          0.8517468914896622,
          1.4855167594688987,
          1.2914149667215986,
          1.9627189625540065,
          1.913435988184022,
          3.5243136090212768,
          1.7413411365238547,
          1.5197501279806056,
          1.4739951485870633,
          1.09415704916009,
          0.7803604974435095,
          1.9725038273591793,
          1.1707479522875806,
          1.1942032256076502,
          0.4676290509377787,
          1.3049967626708348,
          1.0139392896367192,
          0.620793985226554,
          1.6957503834947318,
          1.0264836015572552,
          1.107391770930028,
          1.3915559494823553,
          1.1024650061497239,
          0.8044051763167047,
          1.4994349731867893,
          1.401862042430982,
          1.2122658946348173,
          1.9177329786366706,
          1.9415538346585803,
          0.9350103014610988,
          0.9512440644545906,
          1.0744730742699125,
          1.6068967865881583,
          1.3438175997408257,
          1.4528108719163917,
          1.0418164761350495,
          1.702320355936022,
          1.1104357925035029,
          1.4008040545176286,
          1.7846727611940596,
          1.4141838512767937,
          3.820458403785393,
          1.9215750453035294,
          1.9391302166693216,
          1.1008652470350664,
          0.807244942836445,
          1.269560155717322,
          1.556266827852728,
          0.5044950916583919,
          1.4031895893012405,
          1.7801812329131683,
          1.473175566995295
         ],
         "xaxis": "x",
         "yaxis": "y"
        },
        {
         "alignmentgroup": "True",
         "hovertemplate": "Algorithm=FFT<br>MASE=%{x}<extra></extra>",
         "legendgroup": "FFT",
         "marker": {
          "color": "#EF553B"
         },
         "name": "FFT",
         "notched": true,
         "offsetgroup": "FFT",
         "showlegend": false,
         "type": "box",
         "x": [
          1.4958550115671472,
          1.0737921721362114,
          1.2728407164635964,
          1.6864546136865473,
          1.9293924165175205,
          1.2066618021594226,
          0.3296168997378689,
          1.7874534642433533,
          1.2206920183646288,
          1.9585538268191152,
          0.6454930048236623,
          1.3493714799282666,
          1.554100616308916,
          1.4126738236160417,
          1.9519211710465347,
          1.3136884869681376,
          1.6569632068082245,
          1.8334297336706982,
          1.1862125486018866,
          1.950242998607859,
          0.7997370733962043,
          1.2439893061424012,
          0.9555244920986371,
          0.7573523068486447,
          1.1154779577019145,
          1.9601574644196624,
          0.7583571510987878,
          0.4458829867609459,
          0.897671422258838,
          1.0614403346062249,
          2.6999199479167366,
          4.2578312011487665,
          1.0639217755698696,
          2.3028704389906096,
          3.9648244506708616,
          0.9042353753600604,
          0.9166837812468573,
          0.7572142777568708,
          1.2433781891473705,
          2.1990256753653683,
          1.213581947972672,
          1.3787480165783461,
          1.3021531377043445,
          4.20753388531392,
          2.353988968502756,
          2.1067327424177407,
          1.8469425315201844,
          0.9558922696509025,
          1.6514549566698993,
          1.1208905696893339,
          0.9292445438011948,
          1.6613503849392695,
          0.9712502592486961,
          3.395055328550437,
          1.1386776286030862,
          1.5602808413416487,
          0.9958200906814867,
          1.1199636554718793,
          1.7446854632185709,
          1.3723145087285868,
          1.6452686482459025,
          2.6359203458881817,
          0.9946278255681197,
          0.9309478233578624,
          0.7344036206099475,
          2.014781794633558,
          0.9012916811649285,
          0.995342737106599,
          2.9687892145318777,
          1.2223089574037922,
          1.7114715511111913,
          1.271025048279844,
          1.1069989748292783,
          1.6429947161283434,
          2.533989596846593,
          1.22277031888085,
          1.7281370346534408,
          2.899802553958706,
          1.5894044802890022,
          1.8029316155456527,
          1.109548487022708,
          0.6274447748251156,
          1.1286963281875604,
          2.494262281364617,
          1.863033513976855,
          1.4667409476290323,
          1.2678255018163813,
          1.7547161819960988,
          3.181996653291256,
          1.438865909053632,
          1.5448191018174022,
          1.2635975143962106,
          1.4822165660064237,
          1.0542073574502735,
          6.175297041667246,
          1.676370978760885,
          1.187592008232922,
          1.826209495352237,
          1.2292894346006114,
          1.195693591193134,
          1.6303073198433073,
          2.3571470340184177,
          2.8106957378922286,
          2.6610568346626233,
          1.6991565929089991,
          1.774016749280795,
          0.49339382485605787,
          1.8084155436842686,
          1.332690095413736,
          1.4591348364570798,
          0.7535601173948919,
          1.431105632020749,
          1.1751952633412832,
          1.4502561788405959,
          0.979323723651799,
          1.4312725430648219,
          1.5916278148855527,
          1.911584011563227,
          0.9148381684022777,
          1.2901123326312718,
          1.5041494802379107,
          3.9770426760684425,
          1.2748213090416631,
          1.1348709207128063,
          3.7584353135987736,
          1.6410179754064105,
          1.2041114619873392,
          1.3717144420435858,
          1.1506450842524276,
          3.0335378039150087,
          2.001478880523811,
          1.6941454520597776,
          2.574229699282082,
          1.0936306992058407,
          1.2290016992238402,
          1.8482803703218653,
          1.321315010611559,
          2.184389005411861,
          0.8893423148309589,
          1.499692909429968,
          4.542376199144231,
          2.3649067702328965,
          2.7842882144292735,
          1.0897443209380313,
          1.3645928147073199,
          1.3011446677207945,
          1.2094070042086542,
          1.0817664565948542,
          1.546256923245155,
          1.42667092940121,
          2.4859815662870193,
          0.8835828142304071,
          1.1897822117404695,
          1.2080828343241246,
          1.5579524095853108,
          1.1284690355388747,
          1.0132401868230303,
          1.0585848107200535,
          1.6541503306850975,
          2.0845714367378636,
          1.2969688464405222,
          1.4700468804979205,
          1.7632137163282657,
          2.038300737065708,
          3.3953839602918117,
          1.0881231977640302,
          1.2661457475934856,
          1.0220529911018228,
          1.2513221089689899,
          1.7361129719386739,
          1.5391492620612452,
          1.5177362694748127,
          1.9915106343380826,
          1.2081030813129023,
          1.1068662667448268,
          2.5684961768316334,
          0.8201962052401831,
          1.1344803735350852,
          1.475162587281142,
          1.453546297955704,
          1.5472421822799016,
          3.2709005926512322,
          1.1418386297319079,
          1.9014097339487264,
          1.4791292105846219,
          2.4851251026989387,
          1.2906837085105767,
          1.9257823281033202,
          1.6258864695077777,
          2.0987958526296153,
          0.9534476484764827,
          1.0629134935496887,
          1.16865111226129,
          1.7282037878961107,
          1.12978988858008,
          2.0467110804754416,
          1.2299654721128814,
          1.6072599930322269,
          0.9747349283691318,
          2.155771738779544,
          1.1321968833198797,
          1.2399920985109427,
          3.0981936703093997,
          1.4250413489881388,
          0.8673472044076345,
          1.5146821586952788,
          1.4439110063990854,
          1.6671628746242164,
          1.5759905560946696,
          1.360613157643301,
          1.3694350512281628,
          1.1743571617239648,
          1.7189408068900687,
          1.7183477053730563,
          2.308945599742916,
          1.0335082416136665,
          2.6846737313818796,
          1.6345633658060177,
          2.2913835170193027,
          1.480453939698499,
          1.847266154480532,
          1.5283510131442264,
          1.0969898428980818,
          0.7614511028005426,
          1.9512568161995618,
          1.7318220993743338,
          1.1256879098666543,
          1.7691523873924881,
          1.2273381844152043,
          1.948609211820294,
          1.3286221005032266,
          1.227349763341534,
          80.22618679618674,
          1.6128117220850566,
          0.9138406061722739,
          3.1280798872435045,
          1.9194533760875974,
          2.2555078131910795,
          1.002983281009259,
          2.6027988445597843,
          1.570103476688298,
          0.6606489445316892,
          1.3366555271218947,
          1.5008447140248473,
          1.0815849931699135,
          1.0989843163981032,
          1.1921755767223914,
          1.3729005023088143,
          1.3679847746681133,
          1.2504635919205422,
          1.3468862096536256,
          4.539685555363188,
          0.9371479996927337,
          0.5641770135627714,
          1.277819052124461,
          1.4252261768722332,
          1.7326134228048933,
          1.4286718292416327,
          1.0249097583903974,
          1.6444379782642466,
          2.4089496598601454,
          1.9094352881706151,
          1.168955950012428,
          2.65763935410295,
          1.8290307554011203,
          3.0563941360677434,
          1.605797968721345,
          1.4899471575191605,
          1.287456159771971,
          1.3131421892466684,
          1.6259263563048731,
          1.8474636251902565,
          0.9215913445782387,
          1.9344483532322403,
          2.970757974682173,
          0.7043899352833034,
          1.409550492937968,
          1.2224804210076379,
          1.1749932739002964,
          1.2612723314679488,
          3.5303548338691506,
          1.4485748400568146,
          1.953597085436819,
          1.3442964999060543,
          1.8411587103861498,
          1.504246790212341,
          1.2300251791241852,
          1.6264545620990916,
          1.2763252593954073,
          1.0933438491837173,
          1.5521965279849756,
          1.4166785435827554,
          2.7165546194463217,
          1.6042280129414628,
          1.1781792764356436,
          1.3231766358556372,
          2.065802214983129,
          1.2015933424145802,
          2.4899647944102443,
          1.5003407535482096,
          1.6115627761119011,
          1.9919001871064286,
          1.6532626205467098,
          2.157568275359216,
          1.350119377964316,
          2.0778898965011745,
          1.4422530803416316,
          2.0072703688241464,
          1.4533029510822106,
          2.903234513630663,
          0.36517075385174597,
          1.5616073014764738,
          1.5635323807776522,
          1.2574531360473158,
          1.3369103302143903,
          0.8427390690658174,
          1.408997535010389,
          2.2894394995603937,
          1.200041298970751,
          1.6085401574007405,
          1.7910047364288495,
          1.2396561585557044,
          2.105273753676754,
          1.5590425103388632,
          2.852499838792603,
          1.042746820434025,
          3.1342461353956317,
          1.5997268815956187,
          1.8199449741131497,
          1.9352191381304462,
          2.089946735020559,
          1.25850614011869,
          1.4890280662416764,
          1.4031767313061743,
          1.3777946060635122,
          0.9917139312215564,
          2.971216568560412,
          1.1055771604099716,
          1.8050715852587718,
          1.8221422692439402,
          1.0096719601496926,
          1.1198655236355755,
          1.2836798628411836,
          1.537955262882315,
          1.5678100635080112,
          2.575801712105208,
          1.234839041999828,
          0.8517468914896622,
          1.4855167594688987,
          1.2914149667215986,
          1.9627189625540065,
          1.913435988184022,
          3.5243136090212768,
          1.7413411365238547,
          1.5197501279806056,
          1.4739951485870633,
          1.09415704916009,
          0.7803604974435095,
          1.9725038273591793,
          1.1707479522875806,
          1.1942032256076502,
          0.4676290509377787,
          1.3049967626708348,
          1.0139392896367192,
          0.620793985226554,
          1.6957503834947318,
          1.0264836015572552,
          1.107391770930028,
          1.3915559494823553,
          1.1024650061497239,
          0.8044051763167047,
          1.4994349731867893,
          1.401862042430982,
          1.2122658946348173,
          1.9177329786366706,
          1.9415538346585803,
          0.9350103014610988,
          0.9512440644545906,
          1.0744730742699125,
          1.6068967865881583,
          1.3438175997408257,
          1.4528108719163917,
          1.0418164761350495,
          1.702320355936022,
          1.1104357925035029,
          1.4008040545176286,
          1.7846727611940596,
          1.4141838512767937,
          3.820458403785393,
          1.9215750453035294,
          1.9391302166693216,
          1.1008652470350664,
          0.807244942836445,
          1.269560155717322,
          1.556266827852728,
          0.5044950916583919,
          1.4031895893012405,
          1.7801812329131683,
          1.473175566995295
         ],
         "xaxis": "x2",
         "yaxis": "y2"
        }
       ],
       "layout": {
        "autosize": false,
        "barmode": "overlay",
        "height": 500,
        "legend": {
         "title": {},
         "tracegroupgap": 0
        },
        "margin": {
         "t": 60
        },
        "template": {
         "data": {
          "bar": [
           {
            "error_x": {
             "color": "#2a3f5f"
            },
            "error_y": {
             "color": "#2a3f5f"
            },
            "marker": {
             "line": {
              "color": "white",
              "width": 0.5
             },
             "pattern": {
              "fillmode": "overlay",
              "size": 10,
              "solidity": 0.2
             }
            },
            "type": "bar"
           }
          ],
          "barpolar": [
           {
            "marker": {
             "line": {
              "color": "white",
              "width": 0.5
             },
             "pattern": {
              "fillmode": "overlay",
              "size": 10,
              "solidity": 0.2
             }
            },
            "type": "barpolar"
           }
          ],
          "carpet": [
           {
            "aaxis": {
             "endlinecolor": "#2a3f5f",
             "gridcolor": "#C8D4E3",
             "linecolor": "#C8D4E3",
             "minorgridcolor": "#C8D4E3",
             "startlinecolor": "#2a3f5f"
            },
            "baxis": {
             "endlinecolor": "#2a3f5f",
             "gridcolor": "#C8D4E3",
             "linecolor": "#C8D4E3",
             "minorgridcolor": "#C8D4E3",
             "startlinecolor": "#2a3f5f"
            },
            "type": "carpet"
           }
          ],
          "choropleth": [
           {
            "colorbar": {
             "outlinewidth": 0,
             "ticks": ""
            },
            "type": "choropleth"
           }
          ],
          "contour": [
           {
            "colorbar": {
             "outlinewidth": 0,
             "ticks": ""
            },
            "colorscale": [
             [
              0,
              "#0d0887"
             ],
             [
              0.1111111111111111,
              "#46039f"
             ],
             [
              0.2222222222222222,
              "#7201a8"
             ],
             [
              0.3333333333333333,
              "#9c179e"
             ],
             [
              0.4444444444444444,
              "#bd3786"
             ],
             [
              0.5555555555555556,
              "#d8576b"
             ],
             [
              0.6666666666666666,
              "#ed7953"
             ],
             [
              0.7777777777777778,
              "#fb9f3a"
             ],
             [
              0.8888888888888888,
              "#fdca26"
             ],
             [
              1,
              "#f0f921"
             ]
            ],
            "type": "contour"
           }
          ],
          "contourcarpet": [
           {
            "colorbar": {
             "outlinewidth": 0,
             "ticks": ""
            },
            "type": "contourcarpet"
           }
          ],
          "heatmap": [
           {
            "colorbar": {
             "outlinewidth": 0,
             "ticks": ""
            },
            "colorscale": [
             [
              0,
              "#0d0887"
             ],
             [
              0.1111111111111111,
              "#46039f"
             ],
             [
              0.2222222222222222,
              "#7201a8"
             ],
             [
              0.3333333333333333,
              "#9c179e"
             ],
             [
              0.4444444444444444,
              "#bd3786"
             ],
             [
              0.5555555555555556,
              "#d8576b"
             ],
             [
              0.6666666666666666,
              "#ed7953"
             ],
             [
              0.7777777777777778,
              "#fb9f3a"
             ],
             [
              0.8888888888888888,
              "#fdca26"
             ],
             [
              1,
              "#f0f921"
             ]
            ],
            "type": "heatmap"
           }
          ],
          "heatmapgl": [
           {
            "colorbar": {
             "outlinewidth": 0,
             "ticks": ""
            },
            "colorscale": [
             [
              0,
              "#0d0887"
             ],
             [
              0.1111111111111111,
              "#46039f"
             ],
             [
              0.2222222222222222,
              "#7201a8"
             ],
             [
              0.3333333333333333,
              "#9c179e"
             ],
             [
              0.4444444444444444,
              "#bd3786"
             ],
             [
              0.5555555555555556,
              "#d8576b"
             ],
             [
              0.6666666666666666,
              "#ed7953"
             ],
             [
              0.7777777777777778,
              "#fb9f3a"
             ],
             [
              0.8888888888888888,
              "#fdca26"
             ],
             [
              1,
              "#f0f921"
             ]
            ],
            "type": "heatmapgl"
           }
          ],
          "histogram": [
           {
            "marker": {
             "pattern": {
              "fillmode": "overlay",
              "size": 10,
              "solidity": 0.2
             }
            },
            "type": "histogram"
           }
          ],
          "histogram2d": [
           {
            "colorbar": {
             "outlinewidth": 0,
             "ticks": ""
            },
            "colorscale": [
             [
              0,
              "#0d0887"
             ],
             [
              0.1111111111111111,
              "#46039f"
             ],
             [
              0.2222222222222222,
              "#7201a8"
             ],
             [
              0.3333333333333333,
              "#9c179e"
             ],
             [
              0.4444444444444444,
              "#bd3786"
             ],
             [
              0.5555555555555556,
              "#d8576b"
             ],
             [
              0.6666666666666666,
              "#ed7953"
             ],
             [
              0.7777777777777778,
              "#fb9f3a"
             ],
             [
              0.8888888888888888,
              "#fdca26"
             ],
             [
              1,
              "#f0f921"
             ]
            ],
            "type": "histogram2d"
           }
          ],
          "histogram2dcontour": [
           {
            "colorbar": {
             "outlinewidth": 0,
             "ticks": ""
            },
            "colorscale": [
             [
              0,
              "#0d0887"
             ],
             [
              0.1111111111111111,
              "#46039f"
             ],
             [
              0.2222222222222222,
              "#7201a8"
             ],
             [
              0.3333333333333333,
              "#9c179e"
             ],
             [
              0.4444444444444444,
              "#bd3786"
             ],
             [
              0.5555555555555556,
              "#d8576b"
             ],
             [
              0.6666666666666666,
              "#ed7953"
             ],
             [
              0.7777777777777778,
              "#fb9f3a"
             ],
             [
              0.8888888888888888,
              "#fdca26"
             ],
             [
              1,
              "#f0f921"
             ]
            ],
            "type": "histogram2dcontour"
           }
          ],
          "mesh3d": [
           {
            "colorbar": {
             "outlinewidth": 0,
             "ticks": ""
            },
            "type": "mesh3d"
           }
          ],
          "parcoords": [
           {
            "line": {
             "colorbar": {
              "outlinewidth": 0,
              "ticks": ""
             }
            },
            "type": "parcoords"
           }
          ],
          "pie": [
           {
            "automargin": true,
            "type": "pie"
           }
          ],
          "scatter": [
           {
            "marker": {
             "colorbar": {
              "outlinewidth": 0,
              "ticks": ""
             }
            },
            "type": "scatter"
           }
          ],
          "scatter3d": [
           {
            "line": {
             "colorbar": {
              "outlinewidth": 0,
              "ticks": ""
             }
            },
            "marker": {
             "colorbar": {
              "outlinewidth": 0,
              "ticks": ""
             }
            },
            "type": "scatter3d"
           }
          ],
          "scattercarpet": [
           {
            "marker": {
             "colorbar": {
              "outlinewidth": 0,
              "ticks": ""
             }
            },
            "type": "scattercarpet"
           }
          ],
          "scattergeo": [
           {
            "marker": {
             "colorbar": {
              "outlinewidth": 0,
              "ticks": ""
             }
            },
            "type": "scattergeo"
           }
          ],
          "scattergl": [
           {
            "marker": {
             "colorbar": {
              "outlinewidth": 0,
              "ticks": ""
             }
            },
            "type": "scattergl"
           }
          ],
          "scattermapbox": [
           {
            "marker": {
             "colorbar": {
              "outlinewidth": 0,
              "ticks": ""
             }
            },
            "type": "scattermapbox"
           }
          ],
          "scatterpolar": [
           {
            "marker": {
             "colorbar": {
              "outlinewidth": 0,
              "ticks": ""
             }
            },
            "type": "scatterpolar"
           }
          ],
          "scatterpolargl": [
           {
            "marker": {
             "colorbar": {
              "outlinewidth": 0,
              "ticks": ""
             }
            },
            "type": "scatterpolargl"
           }
          ],
          "scatterternary": [
           {
            "marker": {
             "colorbar": {
              "outlinewidth": 0,
              "ticks": ""
             }
            },
            "type": "scatterternary"
           }
          ],
          "surface": [
           {
            "colorbar": {
             "outlinewidth": 0,
             "ticks": ""
            },
            "colorscale": [
             [
              0,
              "#0d0887"
             ],
             [
              0.1111111111111111,
              "#46039f"
             ],
             [
              0.2222222222222222,
              "#7201a8"
             ],
             [
              0.3333333333333333,
              "#9c179e"
             ],
             [
              0.4444444444444444,
              "#bd3786"
             ],
             [
              0.5555555555555556,
              "#d8576b"
             ],
             [
              0.6666666666666666,
              "#ed7953"
             ],
             [
              0.7777777777777778,
              "#fb9f3a"
             ],
             [
              0.8888888888888888,
              "#fdca26"
             ],
             [
              1,
              "#f0f921"
             ]
            ],
            "type": "surface"
           }
          ],
          "table": [
           {
            "cells": {
             "fill": {
              "color": "#EBF0F8"
             },
             "line": {
              "color": "white"
             }
            },
            "header": {
             "fill": {
              "color": "#C8D4E3"
             },
             "line": {
              "color": "white"
             }
            },
            "type": "table"
           }
          ]
         },
         "layout": {
          "annotationdefaults": {
           "arrowcolor": "#2a3f5f",
           "arrowhead": 0,
           "arrowwidth": 1
          },
          "autotypenumbers": "strict",
          "coloraxis": {
           "colorbar": {
            "outlinewidth": 0,
            "ticks": ""
           }
          },
          "colorscale": {
           "diverging": [
            [
             0,
             "#8e0152"
            ],
            [
             0.1,
             "#c51b7d"
            ],
            [
             0.2,
             "#de77ae"
            ],
            [
             0.3,
             "#f1b6da"
            ],
            [
             0.4,
             "#fde0ef"
            ],
            [
             0.5,
             "#f7f7f7"
            ],
            [
             0.6,
             "#e6f5d0"
            ],
            [
             0.7,
             "#b8e186"
            ],
            [
             0.8,
             "#7fbc41"
            ],
            [
             0.9,
             "#4d9221"
            ],
            [
             1,
             "#276419"
            ]
           ],
           "sequential": [
            [
             0,
             "#0d0887"
            ],
            [
             0.1111111111111111,
             "#46039f"
            ],
            [
             0.2222222222222222,
             "#7201a8"
            ],
            [
             0.3333333333333333,
             "#9c179e"
            ],
            [
             0.4444444444444444,
             "#bd3786"
            ],
            [
             0.5555555555555556,
             "#d8576b"
            ],
            [
             0.6666666666666666,
             "#ed7953"
            ],
            [
             0.7777777777777778,
             "#fb9f3a"
            ],
            [
             0.8888888888888888,
             "#fdca26"
            ],
            [
             1,
             "#f0f921"
            ]
           ],
           "sequentialminus": [
            [
             0,
             "#0d0887"
            ],
            [
             0.1111111111111111,
             "#46039f"
            ],
            [
             0.2222222222222222,
             "#7201a8"
            ],
            [
             0.3333333333333333,
             "#9c179e"
            ],
            [
             0.4444444444444444,
             "#bd3786"
            ],
            [
             0.5555555555555556,
             "#d8576b"
            ],
            [
             0.6666666666666666,
             "#ed7953"
            ],
            [
             0.7777777777777778,
             "#fb9f3a"
            ],
            [
             0.8888888888888888,
             "#fdca26"
            ],
            [
             1,
             "#f0f921"
            ]
           ]
          },
          "colorway": [
           "#636efa",
           "#EF553B",
           "#00cc96",
           "#ab63fa",
           "#FFA15A",
           "#19d3f3",
           "#FF6692",
           "#B6E880",
           "#FF97FF",
           "#FECB52"
          ],
          "font": {
           "color": "#2a3f5f"
          },
          "geo": {
           "bgcolor": "white",
           "lakecolor": "white",
           "landcolor": "white",
           "showlakes": true,
           "showland": true,
           "subunitcolor": "#C8D4E3"
          },
          "hoverlabel": {
           "align": "left"
          },
          "hovermode": "closest",
          "mapbox": {
           "style": "light"
          },
          "paper_bgcolor": "white",
          "plot_bgcolor": "white",
          "polar": {
           "angularaxis": {
            "gridcolor": "#EBF0F8",
            "linecolor": "#EBF0F8",
            "ticks": ""
           },
           "bgcolor": "white",
           "radialaxis": {
            "gridcolor": "#EBF0F8",
            "linecolor": "#EBF0F8",
            "ticks": ""
           }
          },
          "scene": {
           "xaxis": {
            "backgroundcolor": "white",
            "gridcolor": "#DFE8F3",
            "gridwidth": 2,
            "linecolor": "#EBF0F8",
            "showbackground": true,
            "ticks": "",
            "zerolinecolor": "#EBF0F8"
           },
           "yaxis": {
            "backgroundcolor": "white",
            "gridcolor": "#DFE8F3",
            "gridwidth": 2,
            "linecolor": "#EBF0F8",
            "showbackground": true,
            "ticks": "",
            "zerolinecolor": "#EBF0F8"
           },
           "zaxis": {
            "backgroundcolor": "white",
            "gridcolor": "#DFE8F3",
            "gridwidth": 2,
            "linecolor": "#EBF0F8",
            "showbackground": true,
            "ticks": "",
            "zerolinecolor": "#EBF0F8"
           }
          },
          "shapedefaults": {
           "line": {
            "color": "#2a3f5f"
           }
          },
          "ternary": {
           "aaxis": {
            "gridcolor": "#DFE8F3",
            "linecolor": "#A2B1C6",
            "ticks": ""
           },
           "baxis": {
            "gridcolor": "#DFE8F3",
            "linecolor": "#A2B1C6",
            "ticks": ""
           },
           "bgcolor": "white",
           "caxis": {
            "gridcolor": "#DFE8F3",
            "linecolor": "#A2B1C6",
            "ticks": ""
           }
          },
          "title": {
           "x": 0.05
          },
          "xaxis": {
           "automargin": true,
           "gridcolor": "#EBF0F8",
           "linecolor": "#EBF0F8",
           "ticks": "",
           "title": {
            "standoff": 15
           },
           "zerolinecolor": "#EBF0F8",
           "zerolinewidth": 2
          },
          "yaxis": {
           "automargin": true,
           "gridcolor": "#EBF0F8",
           "linecolor": "#EBF0F8",
           "ticks": "",
           "title": {
            "standoff": 15
           },
           "zerolinecolor": "#EBF0F8",
           "zerolinewidth": 2
          }
         }
        },
        "title": {
         "font": {
          "size": 20
         },
         "text": "Distribution of MASE in the dataset",
         "x": 0.5,
         "xanchor": "center",
         "yanchor": "top"
        },
        "width": 900,
        "xaxis": {
         "anchor": "y",
         "domain": [
          0,
          1
         ],
         "range": [
          0,
          10
         ],
         "title": {
          "font": {
           "size": 12
          },
          "text": "MASE"
         },
         "type": "linear"
        },
        "xaxis2": {
         "anchor": "y2",
         "domain": [
          0,
          1
         ],
         "matches": "x",
         "showgrid": true,
         "showticklabels": false,
         "type": "linear"
        },
        "yaxis": {
         "anchor": "x",
         "autorange": true,
         "domain": [
          0,
          0.7326
         ],
         "range": [
          0,
          0.9233610341643584
         ],
         "title": {
          "font": {
           "size": 12
          },
          "text": "Probability Density"
         }
        },
        "yaxis2": {
         "anchor": "x2",
         "autorange": true,
         "domain": [
          0.7426,
          1
         ],
         "matches": "y2",
         "range": [
          -0.5,
          1.5
         ],
         "showgrid": false,
         "showline": false,
         "showticklabels": false,
         "ticks": "",
         "type": "category"
        }
       }
      },
      "image/png": "[encoded data removed]",
      "text/html": [
       "<div>                            <div id=\"26206a81-d67c-438c-9afe-6020acc4ab02\" class=\"plotly-graph-div\" style=\"height:500px; width:900px;\"></div>            <script type=\"text/javascript\">                require([\"plotly\"], function(Plotly) {                    window.PLOTLYENV=window.PLOTLYENV || {};                                    if (document.getElementById(\"26206a81-d67c-438c-9afe-6020acc4ab02\")) {                    Plotly.newPlot(                        \"26206a81-d67c-438c-9afe-6020acc4ab02\",                        [{\"alignmentgroup\":\"True\",\"bingroup\":\"x\",\"histnorm\":\"probability density\",\"hovertemplate\":\"Algorithm=Theta<br>MASE=%{x}<br>probability density=%{y}<extra></extra>\",\"legendgroup\":\"Theta\",\"marker\":{\"color\":\"#636efa\",\"opacity\":0.5,\"pattern\":{\"shape\":\"\"}},\"name\":\"Theta\",\"nbinsx\":500,\"offsetgroup\":\"Theta\",\"orientation\":\"v\",\"showlegend\":true,\"type\":\"histogram\",\"x\":[1.8195370342217607,1.3816198788887224,1.8699946089918067,1.2180445829407445,1.6486935684734725,0.5664667696392868,0.1806263959188428,2.806579600024575,2.3079490062897885,2.8244676341722212,0.16361254178345558,1.5273858404847267,1.3910244750265217,1.3031884688515658,1.9011861920532502,1.3196330189118428,3.2805846026581804,1.4761760023161903,1.2981562406021805,1.7413757250285706,0.17538935776394146,1.5323326954648722,0.9436488532159001,0.48819231221960535,1.3649358840988048,1.8933088126412767,0.4222248557003664,0.2518643297316016,1.186549864642714,2.707108680631659,2.9734819526139176,4.916002177525271,3.700479544515916,2.545507223512614,2.7400796310387356,1.0441734898755695,2.1152544093844186,0.5162696288412479,1.1052913278123493,0.5752447507656567,1.2996262114133508,2.102683715271723,1.3053811768687573,3.9478378430318055,3.8631614961028276,3.3939921780332396,5.226279359694032,0.90775051104279,1.939267159651806,0.2905948734620344,0.9467157664050287,2.4254522435616774,0.9778621718749838,4.7675352346863065,0.9117961694162388,1.6076397669652303,0.9082851652047318,1.1628392135882455,2.284827491879413,2.1474106320236372,1.1592436181919334,2.0847364614317505,1.713904932503264,0.3532277164244196,0.4058057053062812,2.022186802383012,0.8832913714572845,0.8223272867177895,1.7057014952368468,1.6010618243640438,2.4162066277362895,2.3613563124731005,1.2438554600839515,2.7870463702173787,1.6174582996014488,1.3884017395836197,1.357813732606932,2.963905043668944,3.2030278422665357,2.56956043319189,0.931578221932401,0.15707909357493788,2.405654089326067,1.794118324020897,1.8401375118558674,1.9381023240179074,3.757125288173762,1.727964031317733,5.225843266535002,1.4161707532141774,2.3980494066168108,1.5421197535870492,1.5022325640222263,2.874162274244898,2.6293693723731395,1.4896680429053997,1.2369772474407035,1.8592941604482907,2.82155314413399,5.253518077040207,1.3725981341323272,1.6488229385318638,3.8667266365111788,2.9945910407059704,7.335913768365028,7.339165573194004,0.14888835862189734,5.583508266590468,1.4791378663008319,1.7039572020460718,1.4888370874201262,1.405992431469911,1.9696958102050466,1.2993084002991842,0.948852572375863,1.6042276498361303,2.5134464736662543,3.270491616760249,2.548739535348714,1.1714010634226506,1.549519300519139,3.9872742754206896,2.2124520529994705,1.4217215311069789,0.7676258031823023,1.5383443468033142,1.2550610250534122,1.3565848168456884,1.0925493730972056,0.8413941761254596,2.443307922634262,1.6300169153992574,6.625917493425402,0.9277998127292321,1.6545531707917243,1.8453589274180873,1.5871208225360447,2.2753827421716966,0.4073205803456674,1.1493489219074833,2.681669041972349,3.5647408353926266,3.91300400299533,1.0631122260380188,1.9806224605458842,1.1594580143566315,1.0380632465959514,1.4819594279636015,2.527638087340534,1.3391156720904362,0.38213613690064124,0.9892118604467484,1.3506954346895057,1.0455048266260072,1.9925569092476845,0.8822739387973341,1.0818088951716753,2.2222481809447157,2.4395008118488812,3.1876705921048005,2.4268510697179457,0.6315252868976092,0.6532702726299251,2.3445868219308745,12.893706843156917,1.4034289075703434,1.295576632819849,1.4422925312772006,1.3059374108504789,2.1309031880800164,2.0004117594238426,2.667950739318328,1.1442029162509848,1.283562864093951,1.5009428912488123,1.3419154009675025,0.7700312468944361,1.394228936689868,1.8857119943037146,1.6498869106261385,1.4410332849185952,6.494156031421099,1.0631250191451402,1.7178536472417747,2.5594472796161822,4.218841741724004,1.1780592525416103,2.2532573514638723,1.493571901141561,0.33298563971356093,1.6542433009003656,0.9978878945654859,1.0818421138933474,1.6808215410829417,3.7806169335052404,1.8965764355492443,1.5829721903012597,1.0561986940148813,0.18284218555521806,1.4809936316834666,1.1230206540779721,1.1614690524244022,2.370575108346795,1.4383469748032327,1.1987801623189973,2.242492170806636,0.7664058961262953,2.4385311738792375,1.2839693299692767,1.49669979989958,3.027531642733647,1.519799050962775,2.8391949169492765,1.7801788843025697,2.046560287785657,1.4024503272576332,0.36848434043708933,1.2791582835203195,3.423978981424378,2.083874585290724,2.404162698636049,2.8509424806671264,3.221084429140897,0.7542155382828064,5.52583186955378,0.7255329113622979,0.9320418818956815,5.729182693541742,5.474308900033862,4.692694153513172,1.6340573769690923,4.19632171254431,4.723943406061345,3.2523861358645263,1.2625745419646852,2.056801355003094,2.7109324198605154,6.375686826932761,1.1105012815721076,1.2826322077581138,1.9868714982507993,0.4828443129101557,1.1989475599036394,2.6455899392263733,2.018326565857423,3.921537088254925,1.0746634494248029,2.2984168330976833,1.2889959949532312,1.400889589963846,1.4282318589260712,9.647026435663559,1.2796404932964855,0.28312068788000877,1.9087727046582446,0.9888254875120268,1.3929533190339816,1.6981050220842746,2.041505833282926,3.5385394692745393,1.2978328847200884,4.406233040244198,1.4814970882869631,5.519468445092423,2.677073285588213,1.474117041891039,2.0166307608746394,1.6100910047736252,1.8874777046921112,1.5582210032456987,1.7470564682616023,4.70091439948875,0.20274566635356572,1.6386958578095203,1.6729563183648806,0.3369471227259823,1.4561748901615752,0.9772776461357858,1.125127335970346,1.2527017120468644,4.11738332871749,4.362854213943114,0.2713291558102784,1.106544770408658,2.3774558252621723,1.428832670886972,2.6549166541639946,1.9276080887305713,1.8969912950154182,1.0050696999387667,1.270392691309882,1.2933921961430455,7.453690527912916,3.6161104980038075,2.3552659816529076,1.7227376368515341,2.56023884498139,1.366448109416565,1.8457401320911495,1.1767484117340001,1.69759381650542,8.757642995426792,5.159001743930721,1.3801458209222628,1.3242902861571337,1.3489750299831162,1.3037794495783155,5.580705157880761,1.491685981389339,4.436527899210304,0.13636793523618887,1.8309508295695378,1.259629946536941,1.6661974910851747,2.0426881263264334,0.16097829644063943,4.371843868772427,2.7259218631390594,1.0888574498879304,2.0297292470139774,2.312227013360528,2.50039029280587,2.7710988618409647,1.500834980114152,4.665079516682899,1.0753687590906413,0.5349932276772063,1.322819839899081,1.653871493456842,2.5521851760753647,1.9139174049498313,1.781346376083327,3.408176507921025,3.086072787167149,2.3822540112156,1.596586413547666,2.6085984819219536,1.0255571469452418,1.7840656472073695,2.1930310489213016,6.313148469043897,1.1849563200088562,1.2355463326754692,1.23855374355711,4.764467306026097,7.9338391017155505,1.1819348208347236,3.572004819718223,3.190507166950248,3.0855867244149784,2.155488696532018,3.11524217248351,2.020924432832851,2.3770188363470277,0.577978571915085,1.3798708905763395,1.3413944174001502,0.8593644625461409,0.28391050243574373,0.9617363648454019,4.08212484226441,0.10202335621146401,2.184824838821001,1.5039627844774595,0.659583017194999,1.8067949001539416,1.16649306108372,1.6080170206140278,4.342209747541521,1.4401003523937574,0.9576301875363752,1.376645628217775,1.7716948081028197,1.6124195771955134,2.2355766114268767,5.366083010039311,1.1345801081421951,0.4443082056658749,1.0347796986896447,2.910051357734729,0.6349607830320645,1.8461485627940502,1.5001037521997524,1.8734306299247294,1.2533789954872676,7.127689230398584,1.2734809774923808,3.6417178410291955,1.1033272658260491,3.078048636845888,2.534752544511451,1.0199881497702086,0.9654956785123777,1.2682883346858542,2.520980000828235,0.12849760677311223,1.2858615090625114,3.905350450909992,3.2343776798400836],\"xaxis\":\"x\",\"yaxis\":\"y\"},{\"alignmentgroup\":\"True\",\"hovertemplate\":\"Algorithm=Theta<br>MASE=%{x}<extra></extra>\",\"legendgroup\":\"Theta\",\"marker\":{\"color\":\"#636efa\"},\"name\":\"Theta\",\"notched\":true,\"offsetgroup\":\"Theta\",\"showlegend\":false,\"type\":\"box\",\"x\":[1.8195370342217607,1.3816198788887224,1.8699946089918067,1.2180445829407445,1.6486935684734725,0.5664667696392868,0.1806263959188428,2.806579600024575,2.3079490062897885,2.8244676341722212,0.16361254178345558,1.5273858404847267,1.3910244750265217,1.3031884688515658,1.9011861920532502,1.3196330189118428,3.2805846026581804,1.4761760023161903,1.2981562406021805,1.7413757250285706,0.17538935776394146,1.5323326954648722,0.9436488532159001,0.48819231221960535,1.3649358840988048,1.8933088126412767,0.4222248557003664,0.2518643297316016,1.186549864642714,2.707108680631659,2.9734819526139176,4.916002177525271,3.700479544515916,2.545507223512614,2.7400796310387356,1.0441734898755695,2.1152544093844186,0.5162696288412479,1.1052913278123493,0.5752447507656567,1.2996262114133508,2.102683715271723,1.3053811768687573,3.9478378430318055,3.8631614961028276,3.3939921780332396,5.226279359694032,0.90775051104279,1.939267159651806,0.2905948734620344,0.9467157664050287,2.4254522435616774,0.9778621718749838,4.7675352346863065,0.9117961694162388,1.6076397669652303,0.9082851652047318,1.1628392135882455,2.284827491879413,2.1474106320236372,1.1592436181919334,2.0847364614317505,1.713904932503264,0.3532277164244196,0.4058057053062812,2.022186802383012,0.8832913714572845,0.8223272867177895,1.7057014952368468,1.6010618243640438,2.4162066277362895,2.3613563124731005,1.2438554600839515,2.7870463702173787,1.6174582996014488,1.3884017395836197,1.357813732606932,2.963905043668944,3.2030278422665357,2.56956043319189,0.931578221932401,0.15707909357493788,2.405654089326067,1.794118324020897,1.8401375118558674,1.9381023240179074,3.757125288173762,1.727964031317733,5.225843266535002,1.4161707532141774,2.3980494066168108,1.5421197535870492,1.5022325640222263,2.874162274244898,2.6293693723731395,1.4896680429053997,1.2369772474407035,1.8592941604482907,2.82155314413399,5.253518077040207,1.3725981341323272,1.6488229385318638,3.8667266365111788,2.9945910407059704,7.335913768365028,7.339165573194004,0.14888835862189734,5.583508266590468,1.4791378663008319,1.7039572020460718,1.4888370874201262,1.405992431469911,1.9696958102050466,1.2993084002991842,0.948852572375863,1.6042276498361303,2.5134464736662543,3.270491616760249,2.548739535348714,1.1714010634226506,1.549519300519139,3.9872742754206896,2.2124520529994705,1.4217215311069789,0.7676258031823023,1.5383443468033142,1.2550610250534122,1.3565848168456884,1.0925493730972056,0.8413941761254596,2.443307922634262,1.6300169153992574,6.625917493425402,0.9277998127292321,1.6545531707917243,1.8453589274180873,1.5871208225360447,2.2753827421716966,0.4073205803456674,1.1493489219074833,2.681669041972349,3.5647408353926266,3.91300400299533,1.0631122260380188,1.9806224605458842,1.1594580143566315,1.0380632465959514,1.4819594279636015,2.527638087340534,1.3391156720904362,0.38213613690064124,0.9892118604467484,1.3506954346895057,1.0455048266260072,1.9925569092476845,0.8822739387973341,1.0818088951716753,2.2222481809447157,2.4395008118488812,3.1876705921048005,2.4268510697179457,0.6315252868976092,0.6532702726299251,2.3445868219308745,12.893706843156917,1.4034289075703434,1.295576632819849,1.4422925312772006,1.3059374108504789,2.1309031880800164,2.0004117594238426,2.667950739318328,1.1442029162509848,1.283562864093951,1.5009428912488123,1.3419154009675025,0.7700312468944361,1.394228936689868,1.8857119943037146,1.6498869106261385,1.4410332849185952,6.494156031421099,1.0631250191451402,1.7178536472417747,2.5594472796161822,4.218841741724004,1.1780592525416103,2.2532573514638723,1.493571901141561,0.33298563971356093,1.6542433009003656,0.9978878945654859,1.0818421138933474,1.6808215410829417,3.7806169335052404,1.8965764355492443,1.5829721903012597,1.0561986940148813,0.18284218555521806,1.4809936316834666,1.1230206540779721,1.1614690524244022,2.370575108346795,1.4383469748032327,1.1987801623189973,2.242492170806636,0.7664058961262953,2.4385311738792375,1.2839693299692767,1.49669979989958,3.027531642733647,1.519799050962775,2.8391949169492765,1.7801788843025697,2.046560287785657,1.4024503272576332,0.36848434043708933,1.2791582835203195,3.423978981424378,2.083874585290724,2.404162698636049,2.8509424806671264,3.221084429140897,0.7542155382828064,5.52583186955378,0.7255329113622979,0.9320418818956815,5.729182693541742,5.474308900033862,4.692694153513172,1.6340573769690923,4.19632171254431,4.723943406061345,3.2523861358645263,1.2625745419646852,2.056801355003094,2.7109324198605154,6.375686826932761,1.1105012815721076,1.2826322077581138,1.9868714982507993,0.4828443129101557,1.1989475599036394,2.6455899392263733,2.018326565857423,3.921537088254925,1.0746634494248029,2.2984168330976833,1.2889959949532312,1.400889589963846,1.4282318589260712,9.647026435663559,1.2796404932964855,0.28312068788000877,1.9087727046582446,0.9888254875120268,1.3929533190339816,1.6981050220842746,2.041505833282926,3.5385394692745393,1.2978328847200884,4.406233040244198,1.4814970882869631,5.519468445092423,2.677073285588213,1.474117041891039,2.0166307608746394,1.6100910047736252,1.8874777046921112,1.5582210032456987,1.7470564682616023,4.70091439948875,0.20274566635356572,1.6386958578095203,1.6729563183648806,0.3369471227259823,1.4561748901615752,0.9772776461357858,1.125127335970346,1.2527017120468644,4.11738332871749,4.362854213943114,0.2713291558102784,1.106544770408658,2.3774558252621723,1.428832670886972,2.6549166541639946,1.9276080887305713,1.8969912950154182,1.0050696999387667,1.270392691309882,1.2933921961430455,7.453690527912916,3.6161104980038075,2.3552659816529076,1.7227376368515341,2.56023884498139,1.366448109416565,1.8457401320911495,1.1767484117340001,1.69759381650542,8.757642995426792,5.159001743930721,1.3801458209222628,1.3242902861571337,1.3489750299831162,1.3037794495783155,5.580705157880761,1.491685981389339,4.436527899210304,0.13636793523618887,1.8309508295695378,1.259629946536941,1.6661974910851747,2.0426881263264334,0.16097829644063943,4.371843868772427,2.7259218631390594,1.0888574498879304,2.0297292470139774,2.312227013360528,2.50039029280587,2.7710988618409647,1.500834980114152,4.665079516682899,1.0753687590906413,0.5349932276772063,1.322819839899081,1.653871493456842,2.5521851760753647,1.9139174049498313,1.781346376083327,3.408176507921025,3.086072787167149,2.3822540112156,1.596586413547666,2.6085984819219536,1.0255571469452418,1.7840656472073695,2.1930310489213016,6.313148469043897,1.1849563200088562,1.2355463326754692,1.23855374355711,4.764467306026097,7.9338391017155505,1.1819348208347236,3.572004819718223,3.190507166950248,3.0855867244149784,2.155488696532018,3.11524217248351,2.020924432832851,2.3770188363470277,0.577978571915085,1.3798708905763395,1.3413944174001502,0.8593644625461409,0.28391050243574373,0.9617363648454019,4.08212484226441,0.10202335621146401,2.184824838821001,1.5039627844774595,0.659583017194999,1.8067949001539416,1.16649306108372,1.6080170206140278,4.342209747541521,1.4401003523937574,0.9576301875363752,1.376645628217775,1.7716948081028197,1.6124195771955134,2.2355766114268767,5.366083010039311,1.1345801081421951,0.4443082056658749,1.0347796986896447,2.910051357734729,0.6349607830320645,1.8461485627940502,1.5001037521997524,1.8734306299247294,1.2533789954872676,7.127689230398584,1.2734809774923808,3.6417178410291955,1.1033272658260491,3.078048636845888,2.534752544511451,1.0199881497702086,0.9654956785123777,1.2682883346858542,2.520980000828235,0.12849760677311223,1.2858615090625114,3.905350450909992,3.2343776798400836],\"xaxis\":\"x2\",\"yaxis\":\"y2\"},{\"alignmentgroup\":\"True\",\"bingroup\":\"x\",\"histnorm\":\"probability density\",\"hovertemplate\":\"Algorithm=FFT<br>MASE=%{x}<br>probability density=%{y}<extra></extra>\",\"legendgroup\":\"FFT\",\"marker\":{\"color\":\"#EF553B\",\"opacity\":0.5,\"pattern\":{\"shape\":\"/\"}},\"name\":\"FFT\",\"nbinsx\":500,\"offsetgroup\":\"FFT\",\"orientation\":\"v\",\"showlegend\":true,\"type\":\"histogram\",\"x\":[1.4958550115671472,1.0737921721362114,1.2728407164635964,1.6864546136865473,1.9293924165175205,1.2066618021594226,0.3296168997378689,1.7874534642433533,1.2206920183646288,1.9585538268191152,0.6454930048236623,1.3493714799282666,1.554100616308916,1.4126738236160417,1.9519211710465347,1.3136884869681376,1.6569632068082245,1.8334297336706982,1.1862125486018866,1.950242998607859,0.7997370733962043,1.2439893061424012,0.9555244920986371,0.7573523068486447,1.1154779577019145,1.9601574644196624,0.7583571510987878,0.4458829867609459,0.897671422258838,1.0614403346062249,2.6999199479167366,4.2578312011487665,1.0639217755698696,2.3028704389906096,3.9648244506708616,0.9042353753600604,0.9166837812468573,0.7572142777568708,1.2433781891473705,2.1990256753653683,1.213581947972672,1.3787480165783461,1.3021531377043445,4.20753388531392,2.353988968502756,2.1067327424177407,1.8469425315201844,0.9558922696509025,1.6514549566698993,1.1208905696893339,0.9292445438011948,1.6613503849392695,0.9712502592486961,3.395055328550437,1.1386776286030862,1.5602808413416487,0.9958200906814867,1.1199636554718793,1.7446854632185709,1.3723145087285868,1.6452686482459025,2.6359203458881817,0.9946278255681197,0.9309478233578624,0.7344036206099475,2.014781794633558,0.9012916811649285,0.995342737106599,2.9687892145318777,1.2223089574037922,1.7114715511111913,1.271025048279844,1.1069989748292783,1.6429947161283434,2.533989596846593,1.22277031888085,1.7281370346534408,2.899802553958706,1.5894044802890022,1.8029316155456527,1.109548487022708,0.6274447748251156,1.1286963281875604,2.494262281364617,1.863033513976855,1.4667409476290323,1.2678255018163813,1.7547161819960988,3.181996653291256,1.438865909053632,1.5448191018174022,1.2635975143962106,1.4822165660064237,1.0542073574502735,6.175297041667246,1.676370978760885,1.187592008232922,1.826209495352237,1.2292894346006114,1.195693591193134,1.6303073198433073,2.3571470340184177,2.8106957378922286,2.6610568346626233,1.6991565929089991,1.774016749280795,0.49339382485605787,1.8084155436842686,1.332690095413736,1.4591348364570798,0.7535601173948919,1.431105632020749,1.1751952633412832,1.4502561788405959,0.979323723651799,1.4312725430648219,1.5916278148855527,1.911584011563227,0.9148381684022777,1.2901123326312718,1.5041494802379107,3.9770426760684425,1.2748213090416631,1.1348709207128063,3.7584353135987736,1.6410179754064105,1.2041114619873392,1.3717144420435858,1.1506450842524276,3.0335378039150087,2.001478880523811,1.6941454520597776,2.574229699282082,1.0936306992058407,1.2290016992238402,1.8482803703218653,1.321315010611559,2.184389005411861,0.8893423148309589,1.499692909429968,4.542376199144231,2.3649067702328965,2.7842882144292735,1.0897443209380313,1.3645928147073199,1.3011446677207945,1.2094070042086542,1.0817664565948542,1.546256923245155,1.42667092940121,2.4859815662870193,0.8835828142304071,1.1897822117404695,1.2080828343241246,1.5579524095853108,1.1284690355388747,1.0132401868230303,1.0585848107200535,1.6541503306850975,2.0845714367378636,1.2969688464405222,1.4700468804979205,1.7632137163282657,2.038300737065708,3.3953839602918117,1.0881231977640302,1.2661457475934856,1.0220529911018228,1.2513221089689899,1.7361129719386739,1.5391492620612452,1.5177362694748127,1.9915106343380826,1.2081030813129023,1.1068662667448268,2.5684961768316334,0.8201962052401831,1.1344803735350852,1.475162587281142,1.453546297955704,1.5472421822799016,3.2709005926512322,1.1418386297319079,1.9014097339487264,1.4791292105846219,2.4851251026989387,1.2906837085105767,1.9257823281033202,1.6258864695077777,2.0987958526296153,0.9534476484764827,1.0629134935496887,1.16865111226129,1.7282037878961107,1.12978988858008,2.0467110804754416,1.2299654721128814,1.6072599930322269,0.9747349283691318,2.155771738779544,1.1321968833198797,1.2399920985109427,3.0981936703093997,1.4250413489881388,0.8673472044076345,1.5146821586952788,1.4439110063990854,1.6671628746242164,1.5759905560946696,1.360613157643301,1.3694350512281628,1.1743571617239648,1.7189408068900687,1.7183477053730563,2.308945599742916,1.0335082416136665,2.6846737313818796,1.6345633658060177,2.2913835170193027,1.480453939698499,1.847266154480532,1.5283510131442264,1.0969898428980818,0.7614511028005426,1.9512568161995618,1.7318220993743338,1.1256879098666543,1.7691523873924881,1.2273381844152043,1.948609211820294,1.3286221005032266,1.227349763341534,80.22618679618674,1.6128117220850566,0.9138406061722739,3.1280798872435045,1.9194533760875974,2.2555078131910795,1.002983281009259,2.6027988445597843,1.570103476688298,0.6606489445316892,1.3366555271218947,1.5008447140248473,1.0815849931699135,1.0989843163981032,1.1921755767223914,1.3729005023088143,1.3679847746681133,1.2504635919205422,1.3468862096536256,4.539685555363188,0.9371479996927337,0.5641770135627714,1.277819052124461,1.4252261768722332,1.7326134228048933,1.4286718292416327,1.0249097583903974,1.6444379782642466,2.4089496598601454,1.9094352881706151,1.168955950012428,2.65763935410295,1.8290307554011203,3.0563941360677434,1.605797968721345,1.4899471575191605,1.287456159771971,1.3131421892466684,1.6259263563048731,1.8474636251902565,0.9215913445782387,1.9344483532322403,2.970757974682173,0.7043899352833034,1.409550492937968,1.2224804210076379,1.1749932739002964,1.2612723314679488,3.5303548338691506,1.4485748400568146,1.953597085436819,1.3442964999060543,1.8411587103861498,1.504246790212341,1.2300251791241852,1.6264545620990916,1.2763252593954073,1.0933438491837173,1.5521965279849756,1.4166785435827554,2.7165546194463217,1.6042280129414628,1.1781792764356436,1.3231766358556372,2.065802214983129,1.2015933424145802,2.4899647944102443,1.5003407535482096,1.6115627761119011,1.9919001871064286,1.6532626205467098,2.157568275359216,1.350119377964316,2.0778898965011745,1.4422530803416316,2.0072703688241464,1.4533029510822106,2.903234513630663,0.36517075385174597,1.5616073014764738,1.5635323807776522,1.2574531360473158,1.3369103302143903,0.8427390690658174,1.408997535010389,2.2894394995603937,1.200041298970751,1.6085401574007405,1.7910047364288495,1.2396561585557044,2.105273753676754,1.5590425103388632,2.852499838792603,1.042746820434025,3.1342461353956317,1.5997268815956187,1.8199449741131497,1.9352191381304462,2.089946735020559,1.25850614011869,1.4890280662416764,1.4031767313061743,1.3777946060635122,0.9917139312215564,2.971216568560412,1.1055771604099716,1.8050715852587718,1.8221422692439402,1.0096719601496926,1.1198655236355755,1.2836798628411836,1.537955262882315,1.5678100635080112,2.575801712105208,1.234839041999828,0.8517468914896622,1.4855167594688987,1.2914149667215986,1.9627189625540065,1.913435988184022,3.5243136090212768,1.7413411365238547,1.5197501279806056,1.4739951485870633,1.09415704916009,0.7803604974435095,1.9725038273591793,1.1707479522875806,1.1942032256076502,0.4676290509377787,1.3049967626708348,1.0139392896367192,0.620793985226554,1.6957503834947318,1.0264836015572552,1.107391770930028,1.3915559494823553,1.1024650061497239,0.8044051763167047,1.4994349731867893,1.401862042430982,1.2122658946348173,1.9177329786366706,1.9415538346585803,0.9350103014610988,0.9512440644545906,1.0744730742699125,1.6068967865881583,1.3438175997408257,1.4528108719163917,1.0418164761350495,1.702320355936022,1.1104357925035029,1.4008040545176286,1.7846727611940596,1.4141838512767937,3.820458403785393,1.9215750453035294,1.9391302166693216,1.1008652470350664,0.807244942836445,1.269560155717322,1.556266827852728,0.5044950916583919,1.4031895893012405,1.7801812329131683,1.473175566995295],\"xaxis\":\"x\",\"yaxis\":\"y\"},{\"alignmentgroup\":\"True\",\"hovertemplate\":\"Algorithm=FFT<br>MASE=%{x}<extra></extra>\",\"legendgroup\":\"FFT\",\"marker\":{\"color\":\"#EF553B\"},\"name\":\"FFT\",\"notched\":true,\"offsetgroup\":\"FFT\",\"showlegend\":false,\"type\":\"box\",\"x\":[1.4958550115671472,1.0737921721362114,1.2728407164635964,1.6864546136865473,1.9293924165175205,1.2066618021594226,0.3296168997378689,1.7874534642433533,1.2206920183646288,1.9585538268191152,0.6454930048236623,1.3493714799282666,1.554100616308916,1.4126738236160417,1.9519211710465347,1.3136884869681376,1.6569632068082245,1.8334297336706982,1.1862125486018866,1.950242998607859,0.7997370733962043,1.2439893061424012,0.9555244920986371,0.7573523068486447,1.1154779577019145,1.9601574644196624,0.7583571510987878,0.4458829867609459,0.897671422258838,1.0614403346062249,2.6999199479167366,4.2578312011487665,1.0639217755698696,2.3028704389906096,3.9648244506708616,0.9042353753600604,0.9166837812468573,0.7572142777568708,1.2433781891473705,2.1990256753653683,1.213581947972672,1.3787480165783461,1.3021531377043445,4.20753388531392,2.353988968502756,2.1067327424177407,1.8469425315201844,0.9558922696509025,1.6514549566698993,1.1208905696893339,0.9292445438011948,1.6613503849392695,0.9712502592486961,3.395055328550437,1.1386776286030862,1.5602808413416487,0.9958200906814867,1.1199636554718793,1.7446854632185709,1.3723145087285868,1.6452686482459025,2.6359203458881817,0.9946278255681197,0.9309478233578624,0.7344036206099475,2.014781794633558,0.9012916811649285,0.995342737106599,2.9687892145318777,1.2223089574037922,1.7114715511111913,1.271025048279844,1.1069989748292783,1.6429947161283434,2.533989596846593,1.22277031888085,1.7281370346534408,2.899802553958706,1.5894044802890022,1.8029316155456527,1.109548487022708,0.6274447748251156,1.1286963281875604,2.494262281364617,1.863033513976855,1.4667409476290323,1.2678255018163813,1.7547161819960988,3.181996653291256,1.438865909053632,1.5448191018174022,1.2635975143962106,1.4822165660064237,1.0542073574502735,6.175297041667246,1.676370978760885,1.187592008232922,1.826209495352237,1.2292894346006114,1.195693591193134,1.6303073198433073,2.3571470340184177,2.8106957378922286,2.6610568346626233,1.6991565929089991,1.774016749280795,0.49339382485605787,1.8084155436842686,1.332690095413736,1.4591348364570798,0.7535601173948919,1.431105632020749,1.1751952633412832,1.4502561788405959,0.979323723651799,1.4312725430648219,1.5916278148855527,1.911584011563227,0.9148381684022777,1.2901123326312718,1.5041494802379107,3.9770426760684425,1.2748213090416631,1.1348709207128063,3.7584353135987736,1.6410179754064105,1.2041114619873392,1.3717144420435858,1.1506450842524276,3.0335378039150087,2.001478880523811,1.6941454520597776,2.574229699282082,1.0936306992058407,1.2290016992238402,1.8482803703218653,1.321315010611559,2.184389005411861,0.8893423148309589,1.499692909429968,4.542376199144231,2.3649067702328965,2.7842882144292735,1.0897443209380313,1.3645928147073199,1.3011446677207945,1.2094070042086542,1.0817664565948542,1.546256923245155,1.42667092940121,2.4859815662870193,0.8835828142304071,1.1897822117404695,1.2080828343241246,1.5579524095853108,1.1284690355388747,1.0132401868230303,1.0585848107200535,1.6541503306850975,2.0845714367378636,1.2969688464405222,1.4700468804979205,1.7632137163282657,2.038300737065708,3.3953839602918117,1.0881231977640302,1.2661457475934856,1.0220529911018228,1.2513221089689899,1.7361129719386739,1.5391492620612452,1.5177362694748127,1.9915106343380826,1.2081030813129023,1.1068662667448268,2.5684961768316334,0.8201962052401831,1.1344803735350852,1.475162587281142,1.453546297955704,1.5472421822799016,3.2709005926512322,1.1418386297319079,1.9014097339487264,1.4791292105846219,2.4851251026989387,1.2906837085105767,1.9257823281033202,1.6258864695077777,2.0987958526296153,0.9534476484764827,1.0629134935496887,1.16865111226129,1.7282037878961107,1.12978988858008,2.0467110804754416,1.2299654721128814,1.6072599930322269,0.9747349283691318,2.155771738779544,1.1321968833198797,1.2399920985109427,3.0981936703093997,1.4250413489881388,0.8673472044076345,1.5146821586952788,1.4439110063990854,1.6671628746242164,1.5759905560946696,1.360613157643301,1.3694350512281628,1.1743571617239648,1.7189408068900687,1.7183477053730563,2.308945599742916,1.0335082416136665,2.6846737313818796,1.6345633658060177,2.2913835170193027,1.480453939698499,1.847266154480532,1.5283510131442264,1.0969898428980818,0.7614511028005426,1.9512568161995618,1.7318220993743338,1.1256879098666543,1.7691523873924881,1.2273381844152043,1.948609211820294,1.3286221005032266,1.227349763341534,80.22618679618674,1.6128117220850566,0.9138406061722739,3.1280798872435045,1.9194533760875974,2.2555078131910795,1.002983281009259,2.6027988445597843,1.570103476688298,0.6606489445316892,1.3366555271218947,1.5008447140248473,1.0815849931699135,1.0989843163981032,1.1921755767223914,1.3729005023088143,1.3679847746681133,1.2504635919205422,1.3468862096536256,4.539685555363188,0.9371479996927337,0.5641770135627714,1.277819052124461,1.4252261768722332,1.7326134228048933,1.4286718292416327,1.0249097583903974,1.6444379782642466,2.4089496598601454,1.9094352881706151,1.168955950012428,2.65763935410295,1.8290307554011203,3.0563941360677434,1.605797968721345,1.4899471575191605,1.287456159771971,1.3131421892466684,1.6259263563048731,1.8474636251902565,0.9215913445782387,1.9344483532322403,2.970757974682173,0.7043899352833034,1.409550492937968,1.2224804210076379,1.1749932739002964,1.2612723314679488,3.5303548338691506,1.4485748400568146,1.953597085436819,1.3442964999060543,1.8411587103861498,1.504246790212341,1.2300251791241852,1.6264545620990916,1.2763252593954073,1.0933438491837173,1.5521965279849756,1.4166785435827554,2.7165546194463217,1.6042280129414628,1.1781792764356436,1.3231766358556372,2.065802214983129,1.2015933424145802,2.4899647944102443,1.5003407535482096,1.6115627761119011,1.9919001871064286,1.6532626205467098,2.157568275359216,1.350119377964316,2.0778898965011745,1.4422530803416316,2.0072703688241464,1.4533029510822106,2.903234513630663,0.36517075385174597,1.5616073014764738,1.5635323807776522,1.2574531360473158,1.3369103302143903,0.8427390690658174,1.408997535010389,2.2894394995603937,1.200041298970751,1.6085401574007405,1.7910047364288495,1.2396561585557044,2.105273753676754,1.5590425103388632,2.852499838792603,1.042746820434025,3.1342461353956317,1.5997268815956187,1.8199449741131497,1.9352191381304462,2.089946735020559,1.25850614011869,1.4890280662416764,1.4031767313061743,1.3777946060635122,0.9917139312215564,2.971216568560412,1.1055771604099716,1.8050715852587718,1.8221422692439402,1.0096719601496926,1.1198655236355755,1.2836798628411836,1.537955262882315,1.5678100635080112,2.575801712105208,1.234839041999828,0.8517468914896622,1.4855167594688987,1.2914149667215986,1.9627189625540065,1.913435988184022,3.5243136090212768,1.7413411365238547,1.5197501279806056,1.4739951485870633,1.09415704916009,0.7803604974435095,1.9725038273591793,1.1707479522875806,1.1942032256076502,0.4676290509377787,1.3049967626708348,1.0139392896367192,0.620793985226554,1.6957503834947318,1.0264836015572552,1.107391770930028,1.3915559494823553,1.1024650061497239,0.8044051763167047,1.4994349731867893,1.401862042430982,1.2122658946348173,1.9177329786366706,1.9415538346585803,0.9350103014610988,0.9512440644545906,1.0744730742699125,1.6068967865881583,1.3438175997408257,1.4528108719163917,1.0418164761350495,1.702320355936022,1.1104357925035029,1.4008040545176286,1.7846727611940596,1.4141838512767937,3.820458403785393,1.9215750453035294,1.9391302166693216,1.1008652470350664,0.807244942836445,1.269560155717322,1.556266827852728,0.5044950916583919,1.4031895893012405,1.7801812329131683,1.473175566995295],\"xaxis\":\"x2\",\"yaxis\":\"y2\"}],                        {\"autosize\":false,\"barmode\":\"overlay\",\"height\":500,\"legend\":{\"title\":{},\"tracegroupgap\":0},\"margin\":{\"t\":60},\"template\":{\"data\":{\"bar\":[{\"error_x\":{\"color\":\"#2a3f5f\"},\"error_y\":{\"color\":\"#2a3f5f\"},\"marker\":{\"line\":{\"color\":\"white\",\"width\":0.5},\"pattern\":{\"fillmode\":\"overlay\",\"size\":10,\"solidity\":0.2}},\"type\":\"bar\"}],\"barpolar\":[{\"marker\":{\"line\":{\"color\":\"white\",\"width\":0.5},\"pattern\":{\"fillmode\":\"overlay\",\"size\":10,\"solidity\":0.2}},\"type\":\"barpolar\"}],\"carpet\":[{\"aaxis\":{\"endlinecolor\":\"#2a3f5f\",\"gridcolor\":\"#C8D4E3\",\"linecolor\":\"#C8D4E3\",\"minorgridcolor\":\"#C8D4E3\",\"startlinecolor\":\"#2a3f5f\"},\"baxis\":{\"endlinecolor\":\"#2a3f5f\",\"gridcolor\":\"#C8D4E3\",\"linecolor\":\"#C8D4E3\",\"minorgridcolor\":\"#C8D4E3\",\"startlinecolor\":\"#2a3f5f\"},\"type\":\"carpet\"}],\"choropleth\":[{\"colorbar\":{\"outlinewidth\":0,\"ticks\":\"\"},\"type\":\"choropleth\"}],\"contour\":[{\"colorbar\":{\"outlinewidth\":0,\"ticks\":\"\"},\"colorscale\":[[0.0,\"#0d0887\"],[0.1111111111111111,\"#46039f\"],[0.2222222222222222,\"#7201a8\"],[0.3333333333333333,\"#9c179e\"],[0.4444444444444444,\"#bd3786\"],[0.5555555555555556,\"#d8576b\"],[0.6666666666666666,\"#ed7953\"],[0.7777777777777778,\"#fb9f3a\"],[0.8888888888888888,\"#fdca26\"],[1.0,\"#f0f921\"]],\"type\":\"contour\"}],\"contourcarpet\":[{\"colorbar\":{\"outlinewidth\":0,\"ticks\":\"\"},\"type\":\"contourcarpet\"}],\"heatmap\":[{\"colorbar\":{\"outlinewidth\":0,\"ticks\":\"\"},\"colorscale\":[[0.0,\"#0d0887\"],[0.1111111111111111,\"#46039f\"],[0.2222222222222222,\"#7201a8\"],[0.3333333333333333,\"#9c179e\"],[0.4444444444444444,\"#bd3786\"],[0.5555555555555556,\"#d8576b\"],[0.6666666666666666,\"#ed7953\"],[0.7777777777777778,\"#fb9f3a\"],[0.8888888888888888,\"#fdca26\"],[1.0,\"#f0f921\"]],\"type\":\"heatmap\"}],\"heatmapgl\":[{\"colorbar\":{\"outlinewidth\":0,\"ticks\":\"\"},\"colorscale\":[[0.0,\"#0d0887\"],[0.1111111111111111,\"#46039f\"],[0.2222222222222222,\"#7201a8\"],[0.3333333333333333,\"#9c179e\"],[0.4444444444444444,\"#bd3786\"],[0.5555555555555556,\"#d8576b\"],[0.6666666666666666,\"#ed7953\"],[0.7777777777777778,\"#fb9f3a\"],[0.8888888888888888,\"#fdca26\"],[1.0,\"#f0f921\"]],\"type\":\"heatmapgl\"}],\"histogram\":[{\"marker\":{\"pattern\":{\"fillmode\":\"overlay\",\"size\":10,\"solidity\":0.2}},\"type\":\"histogram\"}],\"histogram2d\":[{\"colorbar\":{\"outlinewidth\":0,\"ticks\":\"\"},\"colorscale\":[[0.0,\"#0d0887\"],[0.1111111111111111,\"#46039f\"],[0.2222222222222222,\"#7201a8\"],[0.3333333333333333,\"#9c179e\"],[0.4444444444444444,\"#bd3786\"],[0.5555555555555556,\"#d8576b\"],[0.6666666666666666,\"#ed7953\"],[0.7777777777777778,\"#fb9f3a\"],[0.8888888888888888,\"#fdca26\"],[1.0,\"#f0f921\"]],\"type\":\"histogram2d\"}],\"histogram2dcontour\":[{\"colorbar\":{\"outlinewidth\":0,\"ticks\":\"\"},\"colorscale\":[[0.0,\"#0d0887\"],[0.1111111111111111,\"#46039f\"],[0.2222222222222222,\"#7201a8\"],[0.3333333333333333,\"#9c179e\"],[0.4444444444444444,\"#bd3786\"],[0.5555555555555556,\"#d8576b\"],[0.6666666666666666,\"#ed7953\"],[0.7777777777777778,\"#fb9f3a\"],[0.8888888888888888,\"#fdca26\"],[1.0,\"#f0f921\"]],\"type\":\"histogram2dcontour\"}],\"mesh3d\":[{\"colorbar\":{\"outlinewidth\":0,\"ticks\":\"\"},\"type\":\"mesh3d\"}],\"parcoords\":[{\"line\":{\"colorbar\":{\"outlinewidth\":0,\"ticks\":\"\"}},\"type\":\"parcoords\"}],\"pie\":[{\"automargin\":true,\"type\":\"pie\"}],\"scatter\":[{\"marker\":{\"colorbar\":{\"outlinewidth\":0,\"ticks\":\"\"}},\"type\":\"scatter\"}],\"scatter3d\":[{\"line\":{\"colorbar\":{\"outlinewidth\":0,\"ticks\":\"\"}},\"marker\":{\"colorbar\":{\"outlinewidth\":0,\"ticks\":\"\"}},\"type\":\"scatter3d\"}],\"scattercarpet\":[{\"marker\":{\"colorbar\":{\"outlinewidth\":0,\"ticks\":\"\"}},\"type\":\"scattercarpet\"}],\"scattergeo\":[{\"marker\":{\"colorbar\":{\"outlinewidth\":0,\"ticks\":\"\"}},\"type\":\"scattergeo\"}],\"scattergl\":[{\"marker\":{\"colorbar\":{\"outlinewidth\":0,\"ticks\":\"\"}},\"type\":\"scattergl\"}],\"scattermapbox\":[{\"marker\":{\"colorbar\":{\"outlinewidth\":0,\"ticks\":\"\"}},\"type\":\"scattermapbox\"}],\"scatterpolar\":[{\"marker\":{\"colorbar\":{\"outlinewidth\":0,\"ticks\":\"\"}},\"type\":\"scatterpolar\"}],\"scatterpolargl\":[{\"marker\":{\"colorbar\":{\"outlinewidth\":0,\"ticks\":\"\"}},\"type\":\"scatterpolargl\"}],\"scatterternary\":[{\"marker\":{\"colorbar\":{\"outlinewidth\":0,\"ticks\":\"\"}},\"type\":\"scatterternary\"}],\"surface\":[{\"colorbar\":{\"outlinewidth\":0,\"ticks\":\"\"},\"colorscale\":[[0.0,\"#0d0887\"],[0.1111111111111111,\"#46039f\"],[0.2222222222222222,\"#7201a8\"],[0.3333333333333333,\"#9c179e\"],[0.4444444444444444,\"#bd3786\"],[0.5555555555555556,\"#d8576b\"],[0.6666666666666666,\"#ed7953\"],[0.7777777777777778,\"#fb9f3a\"],[0.8888888888888888,\"#fdca26\"],[1.0,\"#f0f921\"]],\"type\":\"surface\"}],\"table\":[{\"cells\":{\"fill\":{\"color\":\"#EBF0F8\"},\"line\":{\"color\":\"white\"}},\"header\":{\"fill\":{\"color\":\"#C8D4E3\"},\"line\":{\"color\":\"white\"}},\"type\":\"table\"}]},\"layout\":{\"annotationdefaults\":{\"arrowcolor\":\"#2a3f5f\",\"arrowhead\":0,\"arrowwidth\":1},\"autotypenumbers\":\"strict\",\"coloraxis\":{\"colorbar\":{\"outlinewidth\":0,\"ticks\":\"\"}},\"colorscale\":{\"diverging\":[[0,\"#8e0152\"],[0.1,\"#c51b7d\"],[0.2,\"#de77ae\"],[0.3,\"#f1b6da\"],[0.4,\"#fde0ef\"],[0.5,\"#f7f7f7\"],[0.6,\"#e6f5d0\"],[0.7,\"#b8e186\"],[0.8,\"#7fbc41\"],[0.9,\"#4d9221\"],[1,\"#276419\"]],\"sequential\":[[0.0,\"#0d0887\"],[0.1111111111111111,\"#46039f\"],[0.2222222222222222,\"#7201a8\"],[0.3333333333333333,\"#9c179e\"],[0.4444444444444444,\"#bd3786\"],[0.5555555555555556,\"#d8576b\"],[0.6666666666666666,\"#ed7953\"],[0.7777777777777778,\"#fb9f3a\"],[0.8888888888888888,\"#fdca26\"],[1.0,\"#f0f921\"]],\"sequentialminus\":[[0.0,\"#0d0887\"],[0.1111111111111111,\"#46039f\"],[0.2222222222222222,\"#7201a8\"],[0.3333333333333333,\"#9c179e\"],[0.4444444444444444,\"#bd3786\"],[0.5555555555555556,\"#d8576b\"],[0.6666666666666666,\"#ed7953\"],[0.7777777777777778,\"#fb9f3a\"],[0.8888888888888888,\"#fdca26\"],[1.0,\"#f0f921\"]]},\"colorway\":[\"#636efa\",\"#EF553B\",\"#00cc96\",\"#ab63fa\",\"#FFA15A\",\"#19d3f3\",\"#FF6692\",\"#B6E880\",\"#FF97FF\",\"#FECB52\"],\"font\":{\"color\":\"#2a3f5f\"},\"geo\":{\"bgcolor\":\"white\",\"lakecolor\":\"white\",\"landcolor\":\"white\",\"showlakes\":true,\"showland\":true,\"subunitcolor\":\"#C8D4E3\"},\"hoverlabel\":{\"align\":\"left\"},\"hovermode\":\"closest\",\"mapbox\":{\"style\":\"light\"},\"paper_bgcolor\":\"white\",\"plot_bgcolor\":\"white\",\"polar\":{\"angularaxis\":{\"gridcolor\":\"#EBF0F8\",\"linecolor\":\"#EBF0F8\",\"ticks\":\"\"},\"bgcolor\":\"white\",\"radialaxis\":{\"gridcolor\":\"#EBF0F8\",\"linecolor\":\"#EBF0F8\",\"ticks\":\"\"}},\"scene\":{\"xaxis\":{\"backgroundcolor\":\"white\",\"gridcolor\":\"#DFE8F3\",\"gridwidth\":2,\"linecolor\":\"#EBF0F8\",\"showbackground\":true,\"ticks\":\"\",\"zerolinecolor\":\"#EBF0F8\"},\"yaxis\":{\"backgroundcolor\":\"white\",\"gridcolor\":\"#DFE8F3\",\"gridwidth\":2,\"linecolor\":\"#EBF0F8\",\"showbackground\":true,\"ticks\":\"\",\"zerolinecolor\":\"#EBF0F8\"},\"zaxis\":{\"backgroundcolor\":\"white\",\"gridcolor\":\"#DFE8F3\",\"gridwidth\":2,\"linecolor\":\"#EBF0F8\",\"showbackground\":true,\"ticks\":\"\",\"zerolinecolor\":\"#EBF0F8\"}},\"shapedefaults\":{\"line\":{\"color\":\"#2a3f5f\"}},\"ternary\":{\"aaxis\":{\"gridcolor\":\"#DFE8F3\",\"linecolor\":\"#A2B1C6\",\"ticks\":\"\"},\"baxis\":{\"gridcolor\":\"#DFE8F3\",\"linecolor\":\"#A2B1C6\",\"ticks\":\"\"},\"bgcolor\":\"white\",\"caxis\":{\"gridcolor\":\"#DFE8F3\",\"linecolor\":\"#A2B1C6\",\"ticks\":\"\"}},\"title\":{\"x\":0.05},\"xaxis\":{\"automargin\":true,\"gridcolor\":\"#EBF0F8\",\"linecolor\":\"#EBF0F8\",\"ticks\":\"\",\"title\":{\"standoff\":15},\"zerolinecolor\":\"#EBF0F8\",\"zerolinewidth\":2},\"yaxis\":{\"automargin\":true,\"gridcolor\":\"#EBF0F8\",\"linecolor\":\"#EBF0F8\",\"ticks\":\"\",\"title\":{\"standoff\":15},\"zerolinecolor\":\"#EBF0F8\",\"zerolinewidth\":2}}},\"title\":{\"font\":{\"size\":20},\"text\":\"Distribution of MASE in the dataset\",\"x\":0.5,\"xanchor\":\"center\",\"yanchor\":\"top\"},\"width\":900,\"xaxis\":{\"anchor\":\"y\",\"domain\":[0.0,1.0],\"range\":[0,10],\"title\":{\"font\":{\"size\":12},\"text\":\"MASE\"}},\"xaxis2\":{\"anchor\":\"y2\",\"domain\":[0.0,1.0],\"matches\":\"x\",\"showgrid\":true,\"showticklabels\":false},\"yaxis\":{\"anchor\":\"x\",\"domain\":[0.0,0.7326],\"title\":{\"font\":{\"size\":12},\"text\":\"Probability Density\"}},\"yaxis2\":{\"anchor\":\"x2\",\"domain\":[0.7426,1.0],\"matches\":\"y2\",\"showgrid\":false,\"showline\":false,\"showticklabels\":false,\"ticks\":\"\"}},                        {\"responsive\": true}                    ).then(function(){\n",
       "                            \n",
       "var gd = document.getElementById('26206a81-d67c-438c-9afe-6020acc4ab02');\n",
       "var x = new MutationObserver(function (mutations, observer) {{\n",
       "        var display = window.getComputedStyle(gd).display;\n",
       "        if (!display || display === 'none') {{\n",
       "            console.log([gd, 'removed!']);\n",
       "            Plotly.purge(gd);\n",
       "            observer.disconnect();\n",
       "        }}\n",
       "}});\n",
       "\n",
       "// Listen for the removal of the full notebook cells\n",
       "var notebookContainer = gd.closest('#notebook-container');\n",
       "if (notebookContainer) {{\n",
       "    x.observe(notebookContainer, {childList: true});\n",
       "}}\n",
       "\n",
       "// Listen for the clearing of the current output cell\n",
       "var outputEl = gd.closest('.output');\n",
       "if (outputEl) {{\n",
       "    x.observe(outputEl, {childList: true});\n",
       "}}\n",
       "\n",
       "                        })                };                });            </script>        </div>"
      ]
     },
     "metadata": {},
     "output_type": "display_data"
    }
   ],
   "source": [
    "fig = px.histogram(baseline_metrics_df, \n",
    "                   x=\"MASE\", \n",
    "                   color=\"Algorithm\",\n",
    "                   pattern_shape=\"Algorithm\", \n",
    "                   marginal=\"box\", \n",
    "                   nbins=500, \n",
    "                   barmode=\"overlay\",\n",
    "                   histnorm=\"probability density\")\n",
    "fig = format_plot(fig, xlabel=\"MASE\", ylabel=\"Probability Density\", title=\"Distribution of MASE in the dataset\")\n",
    "fig.update_layout(xaxis_range=[0,10])\n",
    "fig.write_image(\"imgs/chapter_4/mase_dist.png\")\n",
    "fig.show()"
   ]
  },
  {
   "cell_type": "code",
   "execution_count": 47,
   "id": "05599872-81eb-406c-b096-cece0d153817",
   "metadata": {},
   "outputs": [
    {
     "data": {
      "application/vnd.plotly.v1+json": {
       "config": {
        "plotlyServerURL": "https://plot.ly"
       },
       "data": [
        {
         "alignmentgroup": "True",
         "bingroup": "x",
         "histnorm": "probability density",
         "hovertemplate": "Algorithm=Theta<br>MAE=%{x}<br>probability density=%{y}<extra></extra>",
         "legendgroup": "Theta",
         "marker": {
          "color": "#636efa",
          "opacity": 0.5,
          "pattern": {
           "shape": ""
          }
         },
         "name": "Theta",
         "nbinsx": 100,
         "offsetgroup": "Theta",
         "orientation": "v",
         "showlegend": true,
         "type": "histogram",
         "x": [
          0.19594318948447106,
          0.07778411743566718,
          0.1242688739736127,
          0.1329087279993294,
          0.3123683531941306,
          0.07695445009629598,
          0.01850579165664123,
          0.1241694009804586,
          0.16850992012858038,
          0.42322036913470124,
          0.022070181743358324,
          0.21123138734266841,
          0.15997041887888405,
          0.05942067635944291,
          0.2439553272857972,
          0.11427256770985918,
          0.5742397589584453,
          0.07269912084798512,
          0.07122546372944491,
          0.1866124949346728,
          0.013748947254700326,
          0.2030838254650266,
          0.09848119038800152,
          0.06765227663440851,
          0.19286715942131208,
          0.2858774580308161,
          0.09065648898975692,
          0.015243446805887892,
          0.07015433491849977,
          0.2615124362804999,
          0.15288935103589504,
          0.5210758233860968,
          0.21386839946427716,
          0.21454795866265347,
          0.400697270865474,
          0.06526109984728162,
          0.08712610432317522,
          0.017072591334879813,
          0.0877084514461021,
          0.017935454116762766,
          0.24433440593702366,
          0.21615377978912298,
          0.11127329673320167,
          0.41231699310120457,
          0.46630754649751077,
          0.29766606749926305,
          0.7455017699861815,
          0.05421162330685025,
          0.3638556190014079,
          0.013395201985245025,
          0.09313238768249017,
          0.226882237234171,
          0.03352648319670288,
          0.7457707177584655,
          0.08154845707918214,
          0.08006260617393154,
          0.05329117088386329,
          0.16102067824113778,
          0.34533755309294395,
          0.08408210105136141,
          0.1751494055138404,
          0.17527768979375838,
          0.12036580626780133,
          0.014764934257044914,
          0.05182975798906866,
          0.2997994661312272,
          0.02224049430737096,
          0.045689833767071766,
          0.6326654843372403,
          0.3024531895631546,
          0.17073539516914124,
          0.35717777873090484,
          0.17700425837321188,
          0.1897764224667759,
          0.04824018478015101,
          0.1269728435025075,
          0.24084818457432264,
          0.18503769029659067,
          0.23780423890597333,
          0.369167579958135,
          0.06202879290087457,
          0.014656460141240696,
          0.28340050957920365,
          0.09750326610851918,
          0.38128615475963057,
          0.16125639519185855,
          0.33853327205727185,
          0.29588822146589355,
          0.26323092481582977,
          0.21687415262809076,
          0.19305255201166313,
          0.09856786912314312,
          0.08916215700172851,
          0.17215334967406012,
          0.3493048808666641,
          0.1515736587256785,
          0.2107969513047684,
          0.25223341144559464,
          0.36533887566248185,
          0.6212227064779152,
          0.14364917260259516,
          0.08733112357161676,
          0.8435607172372704,
          0.23597415405180724,
          0.5828158581849261,
          1.4891626809471588,
          0.024334540225557286,
          0.7860324097341874,
          0.07173415515197945,
          0.2924097184819039,
          0.05906628520390529,
          0.13369914359031188,
          0.1228799946637696,
          0.07852003043224143,
          0.15074427570576632,
          0.48207185186403184,
          0.29562391190460413,
          0.46751150802834646,
          0.16846052081095914,
          0.16117814135597658,
          0.14774320919223805,
          0.45658013232151407,
          0.1612504616183933,
          0.11081967767439295,
          0.07964265104731368,
          0.1473328335051994,
          0.0829052439128548,
          0.14649333466397238,
          0.1815109811800321,
          0.18078997033487984,
          0.1631201607266144,
          0.23363774537364915,
          0.46638165256327496,
          0.0810633012794799,
          0.12665670993625433,
          0.11122438892871989,
          0.07788150382502573,
          0.24623818182882506,
          0.050147317002455075,
          0.1366637450452772,
          0.16312456130685568,
          0.3114161918177452,
          0.44206498531623367,
          0.16684516358798523,
          0.19671781714452666,
          0.08527007802135621,
          0.07832287293101055,
          0.1655728372755232,
          0.30373113952277936,
          0.1522054839944677,
          0.031932074713424595,
          0.03941347448569594,
          0.15623145295603963,
          0.08803456228773657,
          0.20698338854091133,
          0.05750416007351035,
          0.11354063484829009,
          0.1792175644419134,
          0.17931583258100608,
          0.6222398425699376,
          0.3047908935916139,
          0.07895181225741733,
          0.07412986032256415,
          0.5086923827146321,
          3.1548787161997063,
          0.09475321471083888,
          0.07553394648936274,
          0.1400149001545953,
          0.14507867499339916,
          0.33938838653876646,
          0.16826955069698535,
          0.24228869472065534,
          0.14304510837589743,
          0.09040980001603036,
          0.1181796817232427,
          0.19461172090746767,
          0.02211367150459027,
          0.17502126276074403,
          0.4782625909238857,
          0.12533705552291013,
          0.18066830643791174,
          0.4868303919120798,
          0.06656896684523636,
          0.1707615363128287,
          0.2587659685291798,
          0.8526951561866034,
          0.14869297444669782,
          0.35840395682199677,
          0.1958056722440323,
          0.01853009992539561,
          0.20990043090225421,
          0.05176642604140512,
          0.14329569412105075,
          0.11703281876095976,
          0.34697133047435735,
          0.053754064448153546,
          0.3032172167880718,
          0.09533730124276707,
          0.02684830515873375,
          0.16129712665783147,
          0.075012414417687,
          0.1377096308119323,
          0.439854746144234,
          0.21094063734837393,
          0.11144832152464429,
          0.3182932852576387,
          0.0812479889952504,
          0.35408311836322326,
          0.1349063161644985,
          0.09580588665935134,
          0.26696935859788223,
          0.17679620465882617,
          0.2351683274668274,
          0.08175635118641073,
          0.1202999082822426,
          0.12570034845693506,
          0.014994310455264996,
          0.20013941405487037,
          0.3232844708657317,
          0.23179797334641003,
          0.3808256029184088,
          0.45034680509907954,
          0.1921813528814047,
          0.05414339322125367,
          0.3298424547436106,
          0.06827360805629173,
          0.04520704293898235,
          1.1583426231298262,
          0.3561786292695099,
          0.6778796411740096,
          0.1673938353344834,
          0.1733683136119033,
          0.06967041811560507,
          0.5119314810506513,
          0.15140661324547644,
          0.2725381484793773,
          0.09095383734207316,
          0.7227409401381965,
          0.06148951833204516,
          0.18348820160796053,
          0.5968104632666212,
          0.04612453952062372,
          0.1047964455349849,
          0.23512279312534673,
          0.10662351469182207,
          0.24096484195446008,
          0.06755068309185353,
          0.31659469128976037,
          0.09296324067312425,
          0.12904181718227442,
          0.1912507830047786,
          0.4970970390785207,
          0.18440667678891473,
          0.02639614165980453,
          0.19152971145429168,
          0.2204748471822991,
          0.22118926780742637,
          0.12030163110510012,
          0.11921756271023239,
          0.20613631848835479,
          0.059046710130409984,
          0.6099140632925298,
          0.1845251863686508,
          0.8495781853655718,
          0.5145817677369247,
          0.151202838915065,
          0.33927695916012096,
          0.30957031934569496,
          0.22000030369961174,
          0.23645511214987577,
          0.3853523549964549,
          0.5210806649770336,
          0.010233921616507954,
          0.17105182976247565,
          0.28458732587151786,
          0.025540519645804602,
          0.19679702466602458,
          0.04256162794270802,
          0.14567688174287907,
          0.17288767196635105,
          0.2719025539952352,
          0.35742964757150053,
          0.02723868601268781,
          0.13037201895508949,
          0.23234901363009342,
          0.1520543223403969,
          0.7187720441422556,
          0.26382367030176984,
          0.2148192160809768,
          0.06245373104195675,
          0.1302340664677584,
          0.10101493698805004,
          1.3220332987081667,
          0.824174836909021,
          0.13667603655556498,
          0.21295582218370618,
          0.21277243974524107,
          0.14693710449477104,
          0.19293675473007882,
          0.13277037307455175,
          0.36218477407040156,
          0.8564091502502262,
          0.253678775031339,
          0.18292041735236883,
          0.12193435068478478,
          0.12431042463215569,
          0.13704542195815192,
          0.34546902263627816,
          0.30887511476372004,
          0.986514937956126,
          0.0074830946109878125,
          0.11725354135199156,
          0.3171552630921646,
          0.10208477708640329,
          0.18018696869196266,
          0.009220583199042223,
          0.11954757313494899,
          0.5017144319573187,
          0.07055997651275187,
          0.7693000660202577,
          0.24564285926832516,
          0.47298218438722134,
          0.4399266378727721,
          0.13437771531866707,
          0.8847244016132297,
          0.07384631475535662,
          0.016976977312756405,
          0.1019368209236864,
          0.17832083804774965,
          0.34857913818764424,
          0.22044308289822903,
          0.30261218084628766,
          0.11480779866630948,
          0.5097077389068781,
          0.055426175710815755,
          0.11993844144336537,
          0.4018021784301602,
          0.07850375521492588,
          0.12733292245089253,
          0.23886651150886687,
          0.3471958591571751,
          0.09203549615960718,
          0.24165012870528846,
          0.16003671621517032,
          0.5037686620406966,
          0.7244928325182628,
          0.0944887201862904,
          0.13804415558171818,
          0.36916806209058467,
          0.29789485409928645,
          0.16383321137077222,
          0.3967096191810817,
          0.40321789805849756,
          0.2062435771111643,
          0.02556022161994572,
          0.1294046978840589,
          0.08462375201265614,
          0.06155331289026023,
          0.03227978504403931,
          0.10609848525112507,
          0.5455542892841254,
          0.009998659592257892,
          0.1214155648412316,
          0.11517167033395255,
          0.019019532410145805,
          0.11724392571657487,
          0.1196574803421073,
          0.10624509557825496,
          0.35688301422317237,
          0.2864556800016636,
          0.04015804765380162,
          0.18222913928758602,
          0.13184792620578034,
          0.057172011673341336,
          0.17768934184499352,
          0.43315181962141286,
          0.0686722278891411,
          0.05923740944398399,
          0.12578247722311017,
          0.2623128966074671,
          0.018297078178055086,
          0.12564074799698355,
          0.05455788193612668,
          0.17621485021565447,
          0.09952021965781885,
          0.6228326161402284,
          0.1423657990601451,
          0.6033198946383995,
          0.08724752020720222,
          1.1280748903583115,
          0.31710668813215354,
          0.1085583890995763,
          0.06762675819780357,
          0.1649667939885853,
          0.09481028718963792,
          0.012407999068137091,
          0.11181280089507895,
          0.37479202054996974,
          0.2979916913738443
         ],
         "xaxis": "x",
         "yaxis": "y"
        },
        {
         "alignmentgroup": "True",
         "hovertemplate": "Algorithm=Theta<br>MAE=%{x}<extra></extra>",
         "legendgroup": "Theta",
         "marker": {
          "color": "#636efa"
         },
         "name": "Theta",
         "notched": true,
         "offsetgroup": "Theta",
         "showlegend": false,
         "type": "box",
         "x": [
          0.19594318948447106,
          0.07778411743566718,
          0.1242688739736127,
          0.1329087279993294,
          0.3123683531941306,
          0.07695445009629598,
          0.01850579165664123,
          0.1241694009804586,
          0.16850992012858038,
          0.42322036913470124,
          0.022070181743358324,
          0.21123138734266841,
          0.15997041887888405,
          0.05942067635944291,
          0.2439553272857972,
          0.11427256770985918,
          0.5742397589584453,
          0.07269912084798512,
          0.07122546372944491,
          0.1866124949346728,
          0.013748947254700326,
          0.2030838254650266,
          0.09848119038800152,
          0.06765227663440851,
          0.19286715942131208,
          0.2858774580308161,
          0.09065648898975692,
          0.015243446805887892,
          0.07015433491849977,
          0.2615124362804999,
          0.15288935103589504,
          0.5210758233860968,
          0.21386839946427716,
          0.21454795866265347,
          0.400697270865474,
          0.06526109984728162,
          0.08712610432317522,
          0.017072591334879813,
          0.0877084514461021,
          0.017935454116762766,
          0.24433440593702366,
          0.21615377978912298,
          0.11127329673320167,
          0.41231699310120457,
          0.46630754649751077,
          0.29766606749926305,
          0.7455017699861815,
          0.05421162330685025,
          0.3638556190014079,
          0.013395201985245025,
          0.09313238768249017,
          0.226882237234171,
          0.03352648319670288,
          0.7457707177584655,
          0.08154845707918214,
          0.08006260617393154,
          0.05329117088386329,
          0.16102067824113778,
          0.34533755309294395,
          0.08408210105136141,
          0.1751494055138404,
          0.17527768979375838,
          0.12036580626780133,
          0.014764934257044914,
          0.05182975798906866,
          0.2997994661312272,
          0.02224049430737096,
          0.045689833767071766,
          0.6326654843372403,
          0.3024531895631546,
          0.17073539516914124,
          0.35717777873090484,
          0.17700425837321188,
          0.1897764224667759,
          0.04824018478015101,
          0.1269728435025075,
          0.24084818457432264,
          0.18503769029659067,
          0.23780423890597333,
          0.369167579958135,
          0.06202879290087457,
          0.014656460141240696,
          0.28340050957920365,
          0.09750326610851918,
          0.38128615475963057,
          0.16125639519185855,
          0.33853327205727185,
          0.29588822146589355,
          0.26323092481582977,
          0.21687415262809076,
          0.19305255201166313,
          0.09856786912314312,
          0.08916215700172851,
          0.17215334967406012,
          0.3493048808666641,
          0.1515736587256785,
          0.2107969513047684,
          0.25223341144559464,
          0.36533887566248185,
          0.6212227064779152,
          0.14364917260259516,
          0.08733112357161676,
          0.8435607172372704,
          0.23597415405180724,
          0.5828158581849261,
          1.4891626809471588,
          0.024334540225557286,
          0.7860324097341874,
          0.07173415515197945,
          0.2924097184819039,
          0.05906628520390529,
          0.13369914359031188,
          0.1228799946637696,
          0.07852003043224143,
          0.15074427570576632,
          0.48207185186403184,
          0.29562391190460413,
          0.46751150802834646,
          0.16846052081095914,
          0.16117814135597658,
          0.14774320919223805,
          0.45658013232151407,
          0.1612504616183933,
          0.11081967767439295,
          0.07964265104731368,
          0.1473328335051994,
          0.0829052439128548,
          0.14649333466397238,
          0.1815109811800321,
          0.18078997033487984,
          0.1631201607266144,
          0.23363774537364915,
          0.46638165256327496,
          0.0810633012794799,
          0.12665670993625433,
          0.11122438892871989,
          0.07788150382502573,
          0.24623818182882506,
          0.050147317002455075,
          0.1366637450452772,
          0.16312456130685568,
          0.3114161918177452,
          0.44206498531623367,
          0.16684516358798523,
          0.19671781714452666,
          0.08527007802135621,
          0.07832287293101055,
          0.1655728372755232,
          0.30373113952277936,
          0.1522054839944677,
          0.031932074713424595,
          0.03941347448569594,
          0.15623145295603963,
          0.08803456228773657,
          0.20698338854091133,
          0.05750416007351035,
          0.11354063484829009,
          0.1792175644419134,
          0.17931583258100608,
          0.6222398425699376,
          0.3047908935916139,
          0.07895181225741733,
          0.07412986032256415,
          0.5086923827146321,
          3.1548787161997063,
          0.09475321471083888,
          0.07553394648936274,
          0.1400149001545953,
          0.14507867499339916,
          0.33938838653876646,
          0.16826955069698535,
          0.24228869472065534,
          0.14304510837589743,
          0.09040980001603036,
          0.1181796817232427,
          0.19461172090746767,
          0.02211367150459027,
          0.17502126276074403,
          0.4782625909238857,
          0.12533705552291013,
          0.18066830643791174,
          0.4868303919120798,
          0.06656896684523636,
          0.1707615363128287,
          0.2587659685291798,
          0.8526951561866034,
          0.14869297444669782,
          0.35840395682199677,
          0.1958056722440323,
          0.01853009992539561,
          0.20990043090225421,
          0.05176642604140512,
          0.14329569412105075,
          0.11703281876095976,
          0.34697133047435735,
          0.053754064448153546,
          0.3032172167880718,
          0.09533730124276707,
          0.02684830515873375,
          0.16129712665783147,
          0.075012414417687,
          0.1377096308119323,
          0.439854746144234,
          0.21094063734837393,
          0.11144832152464429,
          0.3182932852576387,
          0.0812479889952504,
          0.35408311836322326,
          0.1349063161644985,
          0.09580588665935134,
          0.26696935859788223,
          0.17679620465882617,
          0.2351683274668274,
          0.08175635118641073,
          0.1202999082822426,
          0.12570034845693506,
          0.014994310455264996,
          0.20013941405487037,
          0.3232844708657317,
          0.23179797334641003,
          0.3808256029184088,
          0.45034680509907954,
          0.1921813528814047,
          0.05414339322125367,
          0.3298424547436106,
          0.06827360805629173,
          0.04520704293898235,
          1.1583426231298262,
          0.3561786292695099,
          0.6778796411740096,
          0.1673938353344834,
          0.1733683136119033,
          0.06967041811560507,
          0.5119314810506513,
          0.15140661324547644,
          0.2725381484793773,
          0.09095383734207316,
          0.7227409401381965,
          0.06148951833204516,
          0.18348820160796053,
          0.5968104632666212,
          0.04612453952062372,
          0.1047964455349849,
          0.23512279312534673,
          0.10662351469182207,
          0.24096484195446008,
          0.06755068309185353,
          0.31659469128976037,
          0.09296324067312425,
          0.12904181718227442,
          0.1912507830047786,
          0.4970970390785207,
          0.18440667678891473,
          0.02639614165980453,
          0.19152971145429168,
          0.2204748471822991,
          0.22118926780742637,
          0.12030163110510012,
          0.11921756271023239,
          0.20613631848835479,
          0.059046710130409984,
          0.6099140632925298,
          0.1845251863686508,
          0.8495781853655718,
          0.5145817677369247,
          0.151202838915065,
          0.33927695916012096,
          0.30957031934569496,
          0.22000030369961174,
          0.23645511214987577,
          0.3853523549964549,
          0.5210806649770336,
          0.010233921616507954,
          0.17105182976247565,
          0.28458732587151786,
          0.025540519645804602,
          0.19679702466602458,
          0.04256162794270802,
          0.14567688174287907,
          0.17288767196635105,
          0.2719025539952352,
          0.35742964757150053,
          0.02723868601268781,
          0.13037201895508949,
          0.23234901363009342,
          0.1520543223403969,
          0.7187720441422556,
          0.26382367030176984,
          0.2148192160809768,
          0.06245373104195675,
          0.1302340664677584,
          0.10101493698805004,
          1.3220332987081667,
          0.824174836909021,
          0.13667603655556498,
          0.21295582218370618,
          0.21277243974524107,
          0.14693710449477104,
          0.19293675473007882,
          0.13277037307455175,
          0.36218477407040156,
          0.8564091502502262,
          0.253678775031339,
          0.18292041735236883,
          0.12193435068478478,
          0.12431042463215569,
          0.13704542195815192,
          0.34546902263627816,
          0.30887511476372004,
          0.986514937956126,
          0.0074830946109878125,
          0.11725354135199156,
          0.3171552630921646,
          0.10208477708640329,
          0.18018696869196266,
          0.009220583199042223,
          0.11954757313494899,
          0.5017144319573187,
          0.07055997651275187,
          0.7693000660202577,
          0.24564285926832516,
          0.47298218438722134,
          0.4399266378727721,
          0.13437771531866707,
          0.8847244016132297,
          0.07384631475535662,
          0.016976977312756405,
          0.1019368209236864,
          0.17832083804774965,
          0.34857913818764424,
          0.22044308289822903,
          0.30261218084628766,
          0.11480779866630948,
          0.5097077389068781,
          0.055426175710815755,
          0.11993844144336537,
          0.4018021784301602,
          0.07850375521492588,
          0.12733292245089253,
          0.23886651150886687,
          0.3471958591571751,
          0.09203549615960718,
          0.24165012870528846,
          0.16003671621517032,
          0.5037686620406966,
          0.7244928325182628,
          0.0944887201862904,
          0.13804415558171818,
          0.36916806209058467,
          0.29789485409928645,
          0.16383321137077222,
          0.3967096191810817,
          0.40321789805849756,
          0.2062435771111643,
          0.02556022161994572,
          0.1294046978840589,
          0.08462375201265614,
          0.06155331289026023,
          0.03227978504403931,
          0.10609848525112507,
          0.5455542892841254,
          0.009998659592257892,
          0.1214155648412316,
          0.11517167033395255,
          0.019019532410145805,
          0.11724392571657487,
          0.1196574803421073,
          0.10624509557825496,
          0.35688301422317237,
          0.2864556800016636,
          0.04015804765380162,
          0.18222913928758602,
          0.13184792620578034,
          0.057172011673341336,
          0.17768934184499352,
          0.43315181962141286,
          0.0686722278891411,
          0.05923740944398399,
          0.12578247722311017,
          0.2623128966074671,
          0.018297078178055086,
          0.12564074799698355,
          0.05455788193612668,
          0.17621485021565447,
          0.09952021965781885,
          0.6228326161402284,
          0.1423657990601451,
          0.6033198946383995,
          0.08724752020720222,
          1.1280748903583115,
          0.31710668813215354,
          0.1085583890995763,
          0.06762675819780357,
          0.1649667939885853,
          0.09481028718963792,
          0.012407999068137091,
          0.11181280089507895,
          0.37479202054996974,
          0.2979916913738443
         ],
         "xaxis": "x2",
         "yaxis": "y2"
        },
        {
         "alignmentgroup": "True",
         "bingroup": "x",
         "histnorm": "probability density",
         "hovertemplate": "Algorithm=FFT<br>MAE=%{x}<br>probability density=%{y}<extra></extra>",
         "legendgroup": "FFT",
         "marker": {
          "color": "#EF553B",
          "opacity": 0.5,
          "pattern": {
           "shape": "/"
          }
         },
         "name": "FFT",
         "nbinsx": 100,
         "offsetgroup": "FFT",
         "orientation": "v",
         "showlegend": true,
         "type": "histogram",
         "x": [
          0.16108636233291118,
          0.06045365856064838,
          0.0845855286545324,
          0.18401997814605744,
          0.36555072654941273,
          0.16392487682289597,
          0.0337703780337715,
          0.07908096600345822,
          0.08912619557695348,
          0.29347118852700066,
          0.08707246874374554,
          0.18661270923882678,
          0.17872448043455819,
          0.0644128121763688,
          0.25046550943254303,
          0.11375780571216328,
          0.29003798643375756,
          0.09029325064577591,
          0.06508349011723279,
          0.2089955122655216,
          0.0626921894232137,
          0.16486896603895793,
          0.09972055718191464,
          0.10495168909907783,
          0.15761844025450306,
          0.2959711746583386,
          0.16282792400947474,
          0.026985931662430625,
          0.0530745006851232,
          0.10253738605148807,
          0.13882344512734787,
          0.45131243210605787,
          0.061489124465917255,
          0.19409732849558173,
          0.5797986010509698,
          0.056514933283595685,
          0.03775767416058447,
          0.025040423055864944,
          0.09866609172427097,
          0.06856303173493207,
          0.2281577746814846,
          0.1417339150893902,
          0.11099813223246198,
          0.4394399640872198,
          0.2841410646415049,
          0.18476850205082734,
          0.26345681727806947,
          0.05708668958469152,
          0.3098547626722865,
          0.05166834295962422,
          0.09141367047657938,
          0.15540643736252874,
          0.033299790535979264,
          0.5310779521421528,
          0.10184008974573118,
          0.07770406846608488,
          0.05842704544241837,
          0.15508361371218976,
          0.2636984240281232,
          0.053733126527565934,
          0.24858262847311033,
          0.22161939278902498,
          0.06985170407674804,
          0.03891366042211188,
          0.09379848884524841,
          0.2987016361150449,
          0.02269372616100413,
          0.05530285195956263,
          1.1011601218337321,
          0.23090378970545727,
          0.12093699613492023,
          0.192254722871734,
          0.1575291815226968,
          0.11187530379493962,
          0.07557544229299805,
          0.11182543201460643,
          0.3065359095262767,
          0.1810357481076599,
          0.11800307126940618,
          0.2590263660443337,
          0.073878877473377,
          0.05854451489221798,
          0.1329672108670211,
          0.13555333319337068,
          0.3860303266227839,
          0.12203760088611451,
          0.11423657254085756,
          0.3004691306405903,
          0.16028033737071942,
          0.22034971705439538,
          0.12436410575166676,
          0.08076552688831377,
          0.08797414550445885,
          0.06314373042273119,
          0.8203721470707567,
          0.17057067434752646,
          0.2023810666262136,
          0.24774511791935647,
          0.15917021475723378,
          0.14138944569079703,
          0.17061971145071364,
          0.12484803194673302,
          0.6131782087216222,
          0.20969161628669553,
          0.13499278197043785,
          0.3599591141605001,
          0.08064103862204496,
          0.2545842434063269,
          0.0646318374047169,
          0.2503966685567126,
          0.029895814114533143,
          0.13608721718964734,
          0.07331486767656335,
          0.08764213274607371,
          0.15558522967768884,
          0.4300986866969168,
          0.18720241145470368,
          0.2732578549930936,
          0.060466796300433265,
          0.17751213858929732,
          0.14341729802315617,
          0.4554085186668158,
          0.09291298506796694,
          0.08846038192691011,
          0.3899448805966731,
          0.1571662603707702,
          0.07953968170597614,
          0.14812713538172592,
          0.1911627276308517,
          0.6518148391578057,
          0.13362276349105062,
          0.24282958048770711,
          0.18119354827764067,
          0.09555220171625946,
          0.09408057382360926,
          0.11140047158501781,
          0.0648381639203596,
          0.23639098914239037,
          0.10949147462099176,
          0.17832152231056325,
          0.27631042950442697,
          0.20659854233381206,
          0.31455023498203877,
          0.17102481284932708,
          0.1355330080051421,
          0.09569014656834103,
          0.09125092466488063,
          0.12086102905935851,
          0.18580443918946415,
          0.1621571189375815,
          0.2077336881947743,
          0.035204863687078966,
          0.13761903599251735,
          0.1017241057320308,
          0.161837419761927,
          0.0735504713491639,
          0.1063440452182918,
          0.08537164892707884,
          0.12158854070482643,
          0.40691262322845195,
          0.16288774313334137,
          0.18378181796779172,
          0.20008072001201932,
          0.44223913950562843,
          0.8307947993509487,
          0.07346518974593087,
          0.07381808433693704,
          0.0992188785551741,
          0.13901137378470588,
          0.2765102533476354,
          0.12946932228454655,
          0.13783250726555982,
          0.24897319389295697,
          0.08509466971635199,
          0.0871512859528332,
          0.37249700000243224,
          0.02355430318593213,
          0.14241433549987953,
          0.37413724002300147,
          0.11042163670651536,
          0.19398415543024727,
          0.24520104070819482,
          0.07149772276674855,
          0.1890077468767944,
          0.14954334312919637,
          0.5022833913469299,
          0.16290827415877684,
          0.30631565716259607,
          0.2131519700599086,
          0.11679451674158428,
          0.12097922485104166,
          0.055139693598758865,
          0.15479400382570865,
          0.12033196609351948,
          0.10368802438644716,
          0.05800928307683292,
          0.2355990266187293,
          0.14507860216025048,
          0.14312879014360524,
          0.23478817177629563,
          0.07562534269125537,
          0.14701971932805286,
          0.5748626928382705,
          0.20898930207328228,
          0.0806356270722145,
          0.21498989681593123,
          0.1530714548922281,
          0.24207778673883457,
          0.16558890876144114,
          0.08709478679501545,
          0.12075751483731223,
          0.13661140857745782,
          0.1423785426486934,
          0.07891669747328876,
          0.1357233136670986,
          0.09263240457006713,
          0.10924434767481589,
          0.25574673477285614,
          0.21634732919472666,
          0.1646770037300229,
          0.292611746879663,
          0.24142472200224213,
          0.06545031548941471,
          0.05466281770268704,
          0.11647247930879194,
          0.1629667536568373,
          0.05459950101569671,
          0.3576923143747324,
          0.07985512694989357,
          0.28148489334388127,
          0.136104859136534,
          0.05070716052260818,
          1.1832046867325197,
          0.25385949240107264,
          0.1095868058700389,
          0.41448878798684063,
          0.06439911554982518,
          0.2556819181438693,
          0.055536143782783265,
          0.3723459275752241,
          0.47162294296527946,
          0.06310963500357161,
          0.11683308997961869,
          0.13338529753863695,
          0.05713762844949496,
          0.06752877153818838,
          0.07493720440210899,
          0.18910974042694156,
          0.09865996352397953,
          0.1151854474312035,
          0.18035800042178438,
          0.23392329884948102,
          0.13505070305920314,
          0.05259981699931407,
          0.12821867881226534,
          0.3177775325520178,
          0.275124434643157,
          0.10121373480229054,
          0.05985152792669136,
          0.09579613107758309,
          0.10959851145641884,
          0.26430545651251797,
          0.14559719100237983,
          0.4090742509493787,
          0.3515726985982423,
          0.3134998491191444,
          0.27015865394068755,
          0.2864704019797109,
          0.15006309502128515,
          0.1992651767498318,
          0.35863440125454965,
          0.20478517422902162,
          0.04651884182036422,
          0.20192333362195197,
          0.5053569292547965,
          0.05339260604115845,
          0.1904958978491526,
          0.05324050647418865,
          0.15213331925939727,
          0.1740705189480158,
          0.23313653823372477,
          0.1186754287841535,
          0.19612126624063947,
          0.15838369440966021,
          0.17993663888476344,
          0.16007978469338074,
          0.33300770890825987,
          0.22260604459001965,
          0.14453371104448973,
          0.06793897248863211,
          0.1591231334841722,
          0.11064369665990119,
          0.4818251644897764,
          0.3656316259308956,
          0.06836971922046713,
          0.1635641796843098,
          0.17168155157659845,
          0.1292099167892866,
          0.2602780957476284,
          0.16928070571518095,
          0.34382989281140236,
          0.19478774683027023,
          0.08129433894431007,
          0.28595767448051995,
          0.12431257060469798,
          0.1914812132409597,
          0.1516009337543946,
          0.12425844277137423,
          0.3009273542839631,
          0.6455688504959567,
          0.020038488487088182,
          0.10000486268781558,
          0.39367317754072806,
          0.07704178152758183,
          0.11792980862307392,
          0.048270766141882616,
          0.038528877270018885,
          0.4213784898074293,
          0.07776489555949083,
          0.6096626193395458,
          0.1902700391775494,
          0.23449750202988467,
          0.3342233714612085,
          0.13958934419830846,
          0.5409717463448679,
          0.0716061437167228,
          0.0994592506604792,
          0.12327534539280925,
          0.1962269222660834,
          0.2643135089480774,
          0.24071796419715233,
          0.2137929449224342,
          0.0501593840695295,
          0.23175410572779748,
          0.032056147484508996,
          0.07449933323940015,
          0.45765620815502633,
          0.08462908091524554,
          0.12883216519742163,
          0.19846904016303765,
          0.055527590613463226,
          0.08697989736792001,
          0.25106416155211647,
          0.19872315693838574,
          0.165771643983875,
          0.2352139808336889,
          0.09871810074283649,
          0.03291671941649814,
          0.17188657307434604,
          0.12467835373063609,
          0.14918127437684608,
          0.2436659560225179,
          0.7031763793050506,
          0.1510885902441659,
          0.06720863361666664,
          0.13823169847855046,
          0.06902643517070949,
          0.055894531319137984,
          0.2242678555370094,
          0.1291565847866594,
          0.1595989140904849,
          0.045829346038040716,
          0.07252156614127518,
          0.07764625748053704,
          0.017901023850268937,
          0.11003818528565153,
          0.10529547536332703,
          0.07316772337403919,
          0.11437095639901554,
          0.2192953862484079,
          0.0337325846907514,
          0.19848299299455488,
          0.10432530607178812,
          0.042983650694568235,
          0.15242631769657647,
          0.15672280410159642,
          0.056592954556351015,
          0.1268246532669968,
          0.13060739900709548,
          0.14484615521263053,
          0.03872355007830866,
          0.09887191547004873,
          0.037890246071805626,
          0.16012022102594645,
          0.088170309526282,
          0.12240523201462095,
          0.19951327754307813,
          0.23428647945731976,
          0.3021093850476762,
          0.7042385661479652,
          0.2425921860484854,
          0.11716622184361429,
          0.05654231269032052,
          0.1651322202819214,
          0.05852886768000869,
          0.048715106719691106,
          0.12201512920390237,
          0.1708419589010758,
          0.1357275254636481
         ],
         "xaxis": "x",
         "yaxis": "y"
        },
        {
         "alignmentgroup": "True",
         "hovertemplate": "Algorithm=FFT<br>MAE=%{x}<extra></extra>",
         "legendgroup": "FFT",
         "marker": {
          "color": "#EF553B"
         },
         "name": "FFT",
         "notched": true,
         "offsetgroup": "FFT",
         "showlegend": false,
         "type": "box",
         "x": [
          0.16108636233291118,
          0.06045365856064838,
          0.0845855286545324,
          0.18401997814605744,
          0.36555072654941273,
          0.16392487682289597,
          0.0337703780337715,
          0.07908096600345822,
          0.08912619557695348,
          0.29347118852700066,
          0.08707246874374554,
          0.18661270923882678,
          0.17872448043455819,
          0.0644128121763688,
          0.25046550943254303,
          0.11375780571216328,
          0.29003798643375756,
          0.09029325064577591,
          0.06508349011723279,
          0.2089955122655216,
          0.0626921894232137,
          0.16486896603895793,
          0.09972055718191464,
          0.10495168909907783,
          0.15761844025450306,
          0.2959711746583386,
          0.16282792400947474,
          0.026985931662430625,
          0.0530745006851232,
          0.10253738605148807,
          0.13882344512734787,
          0.45131243210605787,
          0.061489124465917255,
          0.19409732849558173,
          0.5797986010509698,
          0.056514933283595685,
          0.03775767416058447,
          0.025040423055864944,
          0.09866609172427097,
          0.06856303173493207,
          0.2281577746814846,
          0.1417339150893902,
          0.11099813223246198,
          0.4394399640872198,
          0.2841410646415049,
          0.18476850205082734,
          0.26345681727806947,
          0.05708668958469152,
          0.3098547626722865,
          0.05166834295962422,
          0.09141367047657938,
          0.15540643736252874,
          0.033299790535979264,
          0.5310779521421528,
          0.10184008974573118,
          0.07770406846608488,
          0.05842704544241837,
          0.15508361371218976,
          0.2636984240281232,
          0.053733126527565934,
          0.24858262847311033,
          0.22161939278902498,
          0.06985170407674804,
          0.03891366042211188,
          0.09379848884524841,
          0.2987016361150449,
          0.02269372616100413,
          0.05530285195956263,
          1.1011601218337321,
          0.23090378970545727,
          0.12093699613492023,
          0.192254722871734,
          0.1575291815226968,
          0.11187530379493962,
          0.07557544229299805,
          0.11182543201460643,
          0.3065359095262767,
          0.1810357481076599,
          0.11800307126940618,
          0.2590263660443337,
          0.073878877473377,
          0.05854451489221798,
          0.1329672108670211,
          0.13555333319337068,
          0.3860303266227839,
          0.12203760088611451,
          0.11423657254085756,
          0.3004691306405903,
          0.16028033737071942,
          0.22034971705439538,
          0.12436410575166676,
          0.08076552688831377,
          0.08797414550445885,
          0.06314373042273119,
          0.8203721470707567,
          0.17057067434752646,
          0.2023810666262136,
          0.24774511791935647,
          0.15917021475723378,
          0.14138944569079703,
          0.17061971145071364,
          0.12484803194673302,
          0.6131782087216222,
          0.20969161628669553,
          0.13499278197043785,
          0.3599591141605001,
          0.08064103862204496,
          0.2545842434063269,
          0.0646318374047169,
          0.2503966685567126,
          0.029895814114533143,
          0.13608721718964734,
          0.07331486767656335,
          0.08764213274607371,
          0.15558522967768884,
          0.4300986866969168,
          0.18720241145470368,
          0.2732578549930936,
          0.060466796300433265,
          0.17751213858929732,
          0.14341729802315617,
          0.4554085186668158,
          0.09291298506796694,
          0.08846038192691011,
          0.3899448805966731,
          0.1571662603707702,
          0.07953968170597614,
          0.14812713538172592,
          0.1911627276308517,
          0.6518148391578057,
          0.13362276349105062,
          0.24282958048770711,
          0.18119354827764067,
          0.09555220171625946,
          0.09408057382360926,
          0.11140047158501781,
          0.0648381639203596,
          0.23639098914239037,
          0.10949147462099176,
          0.17832152231056325,
          0.27631042950442697,
          0.20659854233381206,
          0.31455023498203877,
          0.17102481284932708,
          0.1355330080051421,
          0.09569014656834103,
          0.09125092466488063,
          0.12086102905935851,
          0.18580443918946415,
          0.1621571189375815,
          0.2077336881947743,
          0.035204863687078966,
          0.13761903599251735,
          0.1017241057320308,
          0.161837419761927,
          0.0735504713491639,
          0.1063440452182918,
          0.08537164892707884,
          0.12158854070482643,
          0.40691262322845195,
          0.16288774313334137,
          0.18378181796779172,
          0.20008072001201932,
          0.44223913950562843,
          0.8307947993509487,
          0.07346518974593087,
          0.07381808433693704,
          0.0992188785551741,
          0.13901137378470588,
          0.2765102533476354,
          0.12946932228454655,
          0.13783250726555982,
          0.24897319389295697,
          0.08509466971635199,
          0.0871512859528332,
          0.37249700000243224,
          0.02355430318593213,
          0.14241433549987953,
          0.37413724002300147,
          0.11042163670651536,
          0.19398415543024727,
          0.24520104070819482,
          0.07149772276674855,
          0.1890077468767944,
          0.14954334312919637,
          0.5022833913469299,
          0.16290827415877684,
          0.30631565716259607,
          0.2131519700599086,
          0.11679451674158428,
          0.12097922485104166,
          0.055139693598758865,
          0.15479400382570865,
          0.12033196609351948,
          0.10368802438644716,
          0.05800928307683292,
          0.2355990266187293,
          0.14507860216025048,
          0.14312879014360524,
          0.23478817177629563,
          0.07562534269125537,
          0.14701971932805286,
          0.5748626928382705,
          0.20898930207328228,
          0.0806356270722145,
          0.21498989681593123,
          0.1530714548922281,
          0.24207778673883457,
          0.16558890876144114,
          0.08709478679501545,
          0.12075751483731223,
          0.13661140857745782,
          0.1423785426486934,
          0.07891669747328876,
          0.1357233136670986,
          0.09263240457006713,
          0.10924434767481589,
          0.25574673477285614,
          0.21634732919472666,
          0.1646770037300229,
          0.292611746879663,
          0.24142472200224213,
          0.06545031548941471,
          0.05466281770268704,
          0.11647247930879194,
          0.1629667536568373,
          0.05459950101569671,
          0.3576923143747324,
          0.07985512694989357,
          0.28148489334388127,
          0.136104859136534,
          0.05070716052260818,
          1.1832046867325197,
          0.25385949240107264,
          0.1095868058700389,
          0.41448878798684063,
          0.06439911554982518,
          0.2556819181438693,
          0.055536143782783265,
          0.3723459275752241,
          0.47162294296527946,
          0.06310963500357161,
          0.11683308997961869,
          0.13338529753863695,
          0.05713762844949496,
          0.06752877153818838,
          0.07493720440210899,
          0.18910974042694156,
          0.09865996352397953,
          0.1151854474312035,
          0.18035800042178438,
          0.23392329884948102,
          0.13505070305920314,
          0.05259981699931407,
          0.12821867881226534,
          0.3177775325520178,
          0.275124434643157,
          0.10121373480229054,
          0.05985152792669136,
          0.09579613107758309,
          0.10959851145641884,
          0.26430545651251797,
          0.14559719100237983,
          0.4090742509493787,
          0.3515726985982423,
          0.3134998491191444,
          0.27015865394068755,
          0.2864704019797109,
          0.15006309502128515,
          0.1992651767498318,
          0.35863440125454965,
          0.20478517422902162,
          0.04651884182036422,
          0.20192333362195197,
          0.5053569292547965,
          0.05339260604115845,
          0.1904958978491526,
          0.05324050647418865,
          0.15213331925939727,
          0.1740705189480158,
          0.23313653823372477,
          0.1186754287841535,
          0.19612126624063947,
          0.15838369440966021,
          0.17993663888476344,
          0.16007978469338074,
          0.33300770890825987,
          0.22260604459001965,
          0.14453371104448973,
          0.06793897248863211,
          0.1591231334841722,
          0.11064369665990119,
          0.4818251644897764,
          0.3656316259308956,
          0.06836971922046713,
          0.1635641796843098,
          0.17168155157659845,
          0.1292099167892866,
          0.2602780957476284,
          0.16928070571518095,
          0.34382989281140236,
          0.19478774683027023,
          0.08129433894431007,
          0.28595767448051995,
          0.12431257060469798,
          0.1914812132409597,
          0.1516009337543946,
          0.12425844277137423,
          0.3009273542839631,
          0.6455688504959567,
          0.020038488487088182,
          0.10000486268781558,
          0.39367317754072806,
          0.07704178152758183,
          0.11792980862307392,
          0.048270766141882616,
          0.038528877270018885,
          0.4213784898074293,
          0.07776489555949083,
          0.6096626193395458,
          0.1902700391775494,
          0.23449750202988467,
          0.3342233714612085,
          0.13958934419830846,
          0.5409717463448679,
          0.0716061437167228,
          0.0994592506604792,
          0.12327534539280925,
          0.1962269222660834,
          0.2643135089480774,
          0.24071796419715233,
          0.2137929449224342,
          0.0501593840695295,
          0.23175410572779748,
          0.032056147484508996,
          0.07449933323940015,
          0.45765620815502633,
          0.08462908091524554,
          0.12883216519742163,
          0.19846904016303765,
          0.055527590613463226,
          0.08697989736792001,
          0.25106416155211647,
          0.19872315693838574,
          0.165771643983875,
          0.2352139808336889,
          0.09871810074283649,
          0.03291671941649814,
          0.17188657307434604,
          0.12467835373063609,
          0.14918127437684608,
          0.2436659560225179,
          0.7031763793050506,
          0.1510885902441659,
          0.06720863361666664,
          0.13823169847855046,
          0.06902643517070949,
          0.055894531319137984,
          0.2242678555370094,
          0.1291565847866594,
          0.1595989140904849,
          0.045829346038040716,
          0.07252156614127518,
          0.07764625748053704,
          0.017901023850268937,
          0.11003818528565153,
          0.10529547536332703,
          0.07316772337403919,
          0.11437095639901554,
          0.2192953862484079,
          0.0337325846907514,
          0.19848299299455488,
          0.10432530607178812,
          0.042983650694568235,
          0.15242631769657647,
          0.15672280410159642,
          0.056592954556351015,
          0.1268246532669968,
          0.13060739900709548,
          0.14484615521263053,
          0.03872355007830866,
          0.09887191547004873,
          0.037890246071805626,
          0.16012022102594645,
          0.088170309526282,
          0.12240523201462095,
          0.19951327754307813,
          0.23428647945731976,
          0.3021093850476762,
          0.7042385661479652,
          0.2425921860484854,
          0.11716622184361429,
          0.05654231269032052,
          0.1651322202819214,
          0.05852886768000869,
          0.048715106719691106,
          0.12201512920390237,
          0.1708419589010758,
          0.1357275254636481
         ],
         "xaxis": "x2",
         "yaxis": "y2"
        }
       ],
       "layout": {
        "autosize": false,
        "barmode": "overlay",
        "height": 500,
        "legend": {
         "title": {},
         "tracegroupgap": 0
        },
        "margin": {
         "t": 60
        },
        "template": {
         "data": {
          "bar": [
           {
            "error_x": {
             "color": "#2a3f5f"
            },
            "error_y": {
             "color": "#2a3f5f"
            },
            "marker": {
             "line": {
              "color": "white",
              "width": 0.5
             },
             "pattern": {
              "fillmode": "overlay",
              "size": 10,
              "solidity": 0.2
             }
            },
            "type": "bar"
           }
          ],
          "barpolar": [
           {
            "marker": {
             "line": {
              "color": "white",
              "width": 0.5
             },
             "pattern": {
              "fillmode": "overlay",
              "size": 10,
              "solidity": 0.2
             }
            },
            "type": "barpolar"
           }
          ],
          "carpet": [
           {
            "aaxis": {
             "endlinecolor": "#2a3f5f",
             "gridcolor": "#C8D4E3",
             "linecolor": "#C8D4E3",
             "minorgridcolor": "#C8D4E3",
             "startlinecolor": "#2a3f5f"
            },
            "baxis": {
             "endlinecolor": "#2a3f5f",
             "gridcolor": "#C8D4E3",
             "linecolor": "#C8D4E3",
             "minorgridcolor": "#C8D4E3",
             "startlinecolor": "#2a3f5f"
            },
            "type": "carpet"
           }
          ],
          "choropleth": [
           {
            "colorbar": {
             "outlinewidth": 0,
             "ticks": ""
            },
            "type": "choropleth"
           }
          ],
          "contour": [
           {
            "colorbar": {
             "outlinewidth": 0,
             "ticks": ""
            },
            "colorscale": [
             [
              0,
              "#0d0887"
             ],
             [
              0.1111111111111111,
              "#46039f"
             ],
             [
              0.2222222222222222,
              "#7201a8"
             ],
             [
              0.3333333333333333,
              "#9c179e"
             ],
             [
              0.4444444444444444,
              "#bd3786"
             ],
             [
              0.5555555555555556,
              "#d8576b"
             ],
             [
              0.6666666666666666,
              "#ed7953"
             ],
             [
              0.7777777777777778,
              "#fb9f3a"
             ],
             [
              0.8888888888888888,
              "#fdca26"
             ],
             [
              1,
              "#f0f921"
             ]
            ],
            "type": "contour"
           }
          ],
          "contourcarpet": [
           {
            "colorbar": {
             "outlinewidth": 0,
             "ticks": ""
            },
            "type": "contourcarpet"
           }
          ],
          "heatmap": [
           {
            "colorbar": {
             "outlinewidth": 0,
             "ticks": ""
            },
            "colorscale": [
             [
              0,
              "#0d0887"
             ],
             [
              0.1111111111111111,
              "#46039f"
             ],
             [
              0.2222222222222222,
              "#7201a8"
             ],
             [
              0.3333333333333333,
              "#9c179e"
             ],
             [
              0.4444444444444444,
              "#bd3786"
             ],
             [
              0.5555555555555556,
              "#d8576b"
             ],
             [
              0.6666666666666666,
              "#ed7953"
             ],
             [
              0.7777777777777778,
              "#fb9f3a"
             ],
             [
              0.8888888888888888,
              "#fdca26"
             ],
             [
              1,
              "#f0f921"
             ]
            ],
            "type": "heatmap"
           }
          ],
          "heatmapgl": [
           {
            "colorbar": {
             "outlinewidth": 0,
             "ticks": ""
            },
            "colorscale": [
             [
              0,
              "#0d0887"
             ],
             [
              0.1111111111111111,
              "#46039f"
             ],
             [
              0.2222222222222222,
              "#7201a8"
             ],
             [
              0.3333333333333333,
              "#9c179e"
             ],
             [
              0.4444444444444444,
              "#bd3786"
             ],
             [
              0.5555555555555556,
              "#d8576b"
             ],
             [
              0.6666666666666666,
              "#ed7953"
             ],
             [
              0.7777777777777778,
              "#fb9f3a"
             ],
             [
              0.8888888888888888,
              "#fdca26"
             ],
             [
              1,
              "#f0f921"
             ]
            ],
            "type": "heatmapgl"
           }
          ],
          "histogram": [
           {
            "marker": {
             "pattern": {
              "fillmode": "overlay",
              "size": 10,
              "solidity": 0.2
             }
            },
            "type": "histogram"
           }
          ],
          "histogram2d": [
           {
            "colorbar": {
             "outlinewidth": 0,
             "ticks": ""
            },
            "colorscale": [
             [
              0,
              "#0d0887"
             ],
             [
              0.1111111111111111,
              "#46039f"
             ],
             [
              0.2222222222222222,
              "#7201a8"
             ],
             [
              0.3333333333333333,
              "#9c179e"
             ],
             [
              0.4444444444444444,
              "#bd3786"
             ],
             [
              0.5555555555555556,
              "#d8576b"
             ],
             [
              0.6666666666666666,
              "#ed7953"
             ],
             [
              0.7777777777777778,
              "#fb9f3a"
             ],
             [
              0.8888888888888888,
              "#fdca26"
             ],
             [
              1,
              "#f0f921"
             ]
            ],
            "type": "histogram2d"
           }
          ],
          "histogram2dcontour": [
           {
            "colorbar": {
             "outlinewidth": 0,
             "ticks": ""
            },
            "colorscale": [
             [
              0,
              "#0d0887"
             ],
             [
              0.1111111111111111,
              "#46039f"
             ],
             [
              0.2222222222222222,
              "#7201a8"
             ],
             [
              0.3333333333333333,
              "#9c179e"
             ],
             [
              0.4444444444444444,
              "#bd3786"
             ],
             [
              0.5555555555555556,
              "#d8576b"
             ],
             [
              0.6666666666666666,
              "#ed7953"
             ],
             [
              0.7777777777777778,
              "#fb9f3a"
             ],
             [
              0.8888888888888888,
              "#fdca26"
             ],
             [
              1,
              "#f0f921"
             ]
            ],
            "type": "histogram2dcontour"
           }
          ],
          "mesh3d": [
           {
            "colorbar": {
             "outlinewidth": 0,
             "ticks": ""
            },
            "type": "mesh3d"
           }
          ],
          "parcoords": [
           {
            "line": {
             "colorbar": {
              "outlinewidth": 0,
              "ticks": ""
             }
            },
            "type": "parcoords"
           }
          ],
          "pie": [
           {
            "automargin": true,
            "type": "pie"
           }
          ],
          "scatter": [
           {
            "marker": {
             "colorbar": {
              "outlinewidth": 0,
              "ticks": ""
             }
            },
            "type": "scatter"
           }
          ],
          "scatter3d": [
           {
            "line": {
             "colorbar": {
              "outlinewidth": 0,
              "ticks": ""
             }
            },
            "marker": {
             "colorbar": {
              "outlinewidth": 0,
              "ticks": ""
             }
            },
            "type": "scatter3d"
           }
          ],
          "scattercarpet": [
           {
            "marker": {
             "colorbar": {
              "outlinewidth": 0,
              "ticks": ""
             }
            },
            "type": "scattercarpet"
           }
          ],
          "scattergeo": [
           {
            "marker": {
             "colorbar": {
              "outlinewidth": 0,
              "ticks": ""
             }
            },
            "type": "scattergeo"
           }
          ],
          "scattergl": [
           {
            "marker": {
             "colorbar": {
              "outlinewidth": 0,
              "ticks": ""
             }
            },
            "type": "scattergl"
           }
          ],
          "scattermapbox": [
           {
            "marker": {
             "colorbar": {
              "outlinewidth": 0,
              "ticks": ""
             }
            },
            "type": "scattermapbox"
           }
          ],
          "scatterpolar": [
           {
            "marker": {
             "colorbar": {
              "outlinewidth": 0,
              "ticks": ""
             }
            },
            "type": "scatterpolar"
           }
          ],
          "scatterpolargl": [
           {
            "marker": {
             "colorbar": {
              "outlinewidth": 0,
              "ticks": ""
             }
            },
            "type": "scatterpolargl"
           }
          ],
          "scatterternary": [
           {
            "marker": {
             "colorbar": {
              "outlinewidth": 0,
              "ticks": ""
             }
            },
            "type": "scatterternary"
           }
          ],
          "surface": [
           {
            "colorbar": {
             "outlinewidth": 0,
             "ticks": ""
            },
            "colorscale": [
             [
              0,
              "#0d0887"
             ],
             [
              0.1111111111111111,
              "#46039f"
             ],
             [
              0.2222222222222222,
              "#7201a8"
             ],
             [
              0.3333333333333333,
              "#9c179e"
             ],
             [
              0.4444444444444444,
              "#bd3786"
             ],
             [
              0.5555555555555556,
              "#d8576b"
             ],
             [
              0.6666666666666666,
              "#ed7953"
             ],
             [
              0.7777777777777778,
              "#fb9f3a"
             ],
             [
              0.8888888888888888,
              "#fdca26"
             ],
             [
              1,
              "#f0f921"
             ]
            ],
            "type": "surface"
           }
          ],
          "table": [
           {
            "cells": {
             "fill": {
              "color": "#EBF0F8"
             },
             "line": {
              "color": "white"
             }
            },
            "header": {
             "fill": {
              "color": "#C8D4E3"
             },
             "line": {
              "color": "white"
             }
            },
            "type": "table"
           }
          ]
         },
         "layout": {
          "annotationdefaults": {
           "arrowcolor": "#2a3f5f",
           "arrowhead": 0,
           "arrowwidth": 1
          },
          "autotypenumbers": "strict",
          "coloraxis": {
           "colorbar": {
            "outlinewidth": 0,
            "ticks": ""
           }
          },
          "colorscale": {
           "diverging": [
            [
             0,
             "#8e0152"
            ],
            [
             0.1,
             "#c51b7d"
            ],
            [
             0.2,
             "#de77ae"
            ],
            [
             0.3,
             "#f1b6da"
            ],
            [
             0.4,
             "#fde0ef"
            ],
            [
             0.5,
             "#f7f7f7"
            ],
            [
             0.6,
             "#e6f5d0"
            ],
            [
             0.7,
             "#b8e186"
            ],
            [
             0.8,
             "#7fbc41"
            ],
            [
             0.9,
             "#4d9221"
            ],
            [
             1,
             "#276419"
            ]
           ],
           "sequential": [
            [
             0,
             "#0d0887"
            ],
            [
             0.1111111111111111,
             "#46039f"
            ],
            [
             0.2222222222222222,
             "#7201a8"
            ],
            [
             0.3333333333333333,
             "#9c179e"
            ],
            [
             0.4444444444444444,
             "#bd3786"
            ],
            [
             0.5555555555555556,
             "#d8576b"
            ],
            [
             0.6666666666666666,
             "#ed7953"
            ],
            [
             0.7777777777777778,
             "#fb9f3a"
            ],
            [
             0.8888888888888888,
             "#fdca26"
            ],
            [
             1,
             "#f0f921"
            ]
           ],
           "sequentialminus": [
            [
             0,
             "#0d0887"
            ],
            [
             0.1111111111111111,
             "#46039f"
            ],
            [
             0.2222222222222222,
             "#7201a8"
            ],
            [
             0.3333333333333333,
             "#9c179e"
            ],
            [
             0.4444444444444444,
             "#bd3786"
            ],
            [
             0.5555555555555556,
             "#d8576b"
            ],
            [
             0.6666666666666666,
             "#ed7953"
            ],
            [
             0.7777777777777778,
             "#fb9f3a"
            ],
            [
             0.8888888888888888,
             "#fdca26"
            ],
            [
             1,
             "#f0f921"
            ]
           ]
          },
          "colorway": [
           "#636efa",
           "#EF553B",
           "#00cc96",
           "#ab63fa",
           "#FFA15A",
           "#19d3f3",
           "#FF6692",
           "#B6E880",
           "#FF97FF",
           "#FECB52"
          ],
          "font": {
           "color": "#2a3f5f"
          },
          "geo": {
           "bgcolor": "white",
           "lakecolor": "white",
           "landcolor": "white",
           "showlakes": true,
           "showland": true,
           "subunitcolor": "#C8D4E3"
          },
          "hoverlabel": {
           "align": "left"
          },
          "hovermode": "closest",
          "mapbox": {
           "style": "light"
          },
          "paper_bgcolor": "white",
          "plot_bgcolor": "white",
          "polar": {
           "angularaxis": {
            "gridcolor": "#EBF0F8",
            "linecolor": "#EBF0F8",
            "ticks": ""
           },
           "bgcolor": "white",
           "radialaxis": {
            "gridcolor": "#EBF0F8",
            "linecolor": "#EBF0F8",
            "ticks": ""
           }
          },
          "scene": {
           "xaxis": {
            "backgroundcolor": "white",
            "gridcolor": "#DFE8F3",
            "gridwidth": 2,
            "linecolor": "#EBF0F8",
            "showbackground": true,
            "ticks": "",
            "zerolinecolor": "#EBF0F8"
           },
           "yaxis": {
            "backgroundcolor": "white",
            "gridcolor": "#DFE8F3",
            "gridwidth": 2,
            "linecolor": "#EBF0F8",
            "showbackground": true,
            "ticks": "",
            "zerolinecolor": "#EBF0F8"
           },
           "zaxis": {
            "backgroundcolor": "white",
            "gridcolor": "#DFE8F3",
            "gridwidth": 2,
            "linecolor": "#EBF0F8",
            "showbackground": true,
            "ticks": "",
            "zerolinecolor": "#EBF0F8"
           }
          },
          "shapedefaults": {
           "line": {
            "color": "#2a3f5f"
           }
          },
          "ternary": {
           "aaxis": {
            "gridcolor": "#DFE8F3",
            "linecolor": "#A2B1C6",
            "ticks": ""
           },
           "baxis": {
            "gridcolor": "#DFE8F3",
            "linecolor": "#A2B1C6",
            "ticks": ""
           },
           "bgcolor": "white",
           "caxis": {
            "gridcolor": "#DFE8F3",
            "linecolor": "#A2B1C6",
            "ticks": ""
           }
          },
          "title": {
           "x": 0.05
          },
          "xaxis": {
           "automargin": true,
           "gridcolor": "#EBF0F8",
           "linecolor": "#EBF0F8",
           "ticks": "",
           "title": {
            "standoff": 15
           },
           "zerolinecolor": "#EBF0F8",
           "zerolinewidth": 2
          },
          "yaxis": {
           "automargin": true,
           "gridcolor": "#EBF0F8",
           "linecolor": "#EBF0F8",
           "ticks": "",
           "title": {
            "standoff": 15
           },
           "zerolinecolor": "#EBF0F8",
           "zerolinewidth": 2
          }
         }
        },
        "title": {
         "font": {
          "size": 20
         },
         "text": "Distribution of MAE in the dataset",
         "x": 0.5,
         "xanchor": "center",
         "yanchor": "top"
        },
        "width": 900,
        "xaxis": {
         "anchor": "y",
         "domain": [
          0,
          1
         ],
         "range": [
          0,
          1.1
         ],
         "title": {
          "font": {
           "size": 12
          },
          "text": "MAE"
         },
         "type": "linear"
        },
        "xaxis2": {
         "anchor": "y2",
         "domain": [
          0,
          1
         ],
         "matches": "x",
         "showgrid": true,
         "showticklabels": false,
         "type": "linear"
        },
        "yaxis": {
         "anchor": "x",
         "autorange": true,
         "domain": [
          0,
          0.7326
         ],
         "range": [
          0,
          5.223585278986941
         ],
         "title": {
          "font": {
           "size": 12
          },
          "text": "Probability Density"
         }
        },
        "yaxis2": {
         "anchor": "x2",
         "autorange": true,
         "domain": [
          0.7426,
          1
         ],
         "matches": "y2",
         "range": [
          -0.5,
          1.5
         ],
         "showgrid": false,
         "showline": false,
         "showticklabels": false,
         "ticks": "",
         "type": "category"
        }
       }
      },
      "image/png": "[encoded data removed]",
      "text/html": [
       "<div>                            <div id=\"c4869e69-b6ca-49d0-8442-55b37a2b001d\" class=\"plotly-graph-div\" style=\"height:500px; width:900px;\"></div>            <script type=\"text/javascript\">                require([\"plotly\"], function(Plotly) {                    window.PLOTLYENV=window.PLOTLYENV || {};                                    if (document.getElementById(\"c4869e69-b6ca-49d0-8442-55b37a2b001d\")) {                    Plotly.newPlot(                        \"c4869e69-b6ca-49d0-8442-55b37a2b001d\",                        [{\"alignmentgroup\":\"True\",\"bingroup\":\"x\",\"histnorm\":\"probability density\",\"hovertemplate\":\"Algorithm=Theta<br>MAE=%{x}<br>probability density=%{y}<extra></extra>\",\"legendgroup\":\"Theta\",\"marker\":{\"color\":\"#636efa\",\"opacity\":0.5,\"pattern\":{\"shape\":\"\"}},\"name\":\"Theta\",\"nbinsx\":100,\"offsetgroup\":\"Theta\",\"orientation\":\"v\",\"showlegend\":true,\"type\":\"histogram\",\"x\":[0.19594318948447106,0.07778411743566718,0.1242688739736127,0.1329087279993294,0.3123683531941306,0.07695445009629598,0.01850579165664123,0.1241694009804586,0.16850992012858038,0.42322036913470124,0.022070181743358324,0.21123138734266841,0.15997041887888405,0.05942067635944291,0.2439553272857972,0.11427256770985918,0.5742397589584453,0.07269912084798512,0.07122546372944491,0.1866124949346728,0.013748947254700326,0.2030838254650266,0.09848119038800152,0.06765227663440851,0.19286715942131208,0.2858774580308161,0.09065648898975692,0.015243446805887892,0.07015433491849977,0.2615124362804999,0.15288935103589504,0.5210758233860968,0.21386839946427716,0.21454795866265347,0.400697270865474,0.06526109984728162,0.08712610432317522,0.017072591334879813,0.0877084514461021,0.017935454116762766,0.24433440593702366,0.21615377978912298,0.11127329673320167,0.41231699310120457,0.46630754649751077,0.29766606749926305,0.7455017699861815,0.05421162330685025,0.3638556190014079,0.013395201985245025,0.09313238768249017,0.226882237234171,0.03352648319670288,0.7457707177584655,0.08154845707918214,0.08006260617393154,0.05329117088386329,0.16102067824113778,0.34533755309294395,0.08408210105136141,0.1751494055138404,0.17527768979375838,0.12036580626780133,0.014764934257044914,0.05182975798906866,0.2997994661312272,0.02224049430737096,0.045689833767071766,0.6326654843372403,0.3024531895631546,0.17073539516914124,0.35717777873090484,0.17700425837321188,0.1897764224667759,0.04824018478015101,0.1269728435025075,0.24084818457432264,0.18503769029659067,0.23780423890597333,0.369167579958135,0.06202879290087457,0.014656460141240696,0.28340050957920365,0.09750326610851918,0.38128615475963057,0.16125639519185855,0.33853327205727185,0.29588822146589355,0.26323092481582977,0.21687415262809076,0.19305255201166313,0.09856786912314312,0.08916215700172851,0.17215334967406012,0.3493048808666641,0.1515736587256785,0.2107969513047684,0.25223341144559464,0.36533887566248185,0.6212227064779152,0.14364917260259516,0.08733112357161676,0.8435607172372704,0.23597415405180724,0.5828158581849261,1.4891626809471588,0.024334540225557286,0.7860324097341874,0.07173415515197945,0.2924097184819039,0.05906628520390529,0.13369914359031188,0.1228799946637696,0.07852003043224143,0.15074427570576632,0.48207185186403184,0.29562391190460413,0.46751150802834646,0.16846052081095914,0.16117814135597658,0.14774320919223805,0.45658013232151407,0.1612504616183933,0.11081967767439295,0.07964265104731368,0.1473328335051994,0.0829052439128548,0.14649333466397238,0.1815109811800321,0.18078997033487984,0.1631201607266144,0.23363774537364915,0.46638165256327496,0.0810633012794799,0.12665670993625433,0.11122438892871989,0.07788150382502573,0.24623818182882506,0.050147317002455075,0.1366637450452772,0.16312456130685568,0.3114161918177452,0.44206498531623367,0.16684516358798523,0.19671781714452666,0.08527007802135621,0.07832287293101055,0.1655728372755232,0.30373113952277936,0.1522054839944677,0.031932074713424595,0.03941347448569594,0.15623145295603963,0.08803456228773657,0.20698338854091133,0.05750416007351035,0.11354063484829009,0.1792175644419134,0.17931583258100608,0.6222398425699376,0.3047908935916139,0.07895181225741733,0.07412986032256415,0.5086923827146321,3.1548787161997063,0.09475321471083888,0.07553394648936274,0.1400149001545953,0.14507867499339916,0.33938838653876646,0.16826955069698535,0.24228869472065534,0.14304510837589743,0.09040980001603036,0.1181796817232427,0.19461172090746767,0.02211367150459027,0.17502126276074403,0.4782625909238857,0.12533705552291013,0.18066830643791174,0.4868303919120798,0.06656896684523636,0.1707615363128287,0.2587659685291798,0.8526951561866034,0.14869297444669782,0.35840395682199677,0.1958056722440323,0.01853009992539561,0.20990043090225421,0.05176642604140512,0.14329569412105075,0.11703281876095976,0.34697133047435735,0.053754064448153546,0.3032172167880718,0.09533730124276707,0.02684830515873375,0.16129712665783147,0.075012414417687,0.1377096308119323,0.439854746144234,0.21094063734837393,0.11144832152464429,0.3182932852576387,0.0812479889952504,0.35408311836322326,0.1349063161644985,0.09580588665935134,0.26696935859788223,0.17679620465882617,0.2351683274668274,0.08175635118641073,0.1202999082822426,0.12570034845693506,0.014994310455264996,0.20013941405487037,0.3232844708657317,0.23179797334641003,0.3808256029184088,0.45034680509907954,0.1921813528814047,0.05414339322125367,0.3298424547436106,0.06827360805629173,0.04520704293898235,1.1583426231298262,0.3561786292695099,0.6778796411740096,0.1673938353344834,0.1733683136119033,0.06967041811560507,0.5119314810506513,0.15140661324547644,0.2725381484793773,0.09095383734207316,0.7227409401381965,0.06148951833204516,0.18348820160796053,0.5968104632666212,0.04612453952062372,0.1047964455349849,0.23512279312534673,0.10662351469182207,0.24096484195446008,0.06755068309185353,0.31659469128976037,0.09296324067312425,0.12904181718227442,0.1912507830047786,0.4970970390785207,0.18440667678891473,0.02639614165980453,0.19152971145429168,0.2204748471822991,0.22118926780742637,0.12030163110510012,0.11921756271023239,0.20613631848835479,0.059046710130409984,0.6099140632925298,0.1845251863686508,0.8495781853655718,0.5145817677369247,0.151202838915065,0.33927695916012096,0.30957031934569496,0.22000030369961174,0.23645511214987577,0.3853523549964549,0.5210806649770336,0.010233921616507954,0.17105182976247565,0.28458732587151786,0.025540519645804602,0.19679702466602458,0.04256162794270802,0.14567688174287907,0.17288767196635105,0.2719025539952352,0.35742964757150053,0.02723868601268781,0.13037201895508949,0.23234901363009342,0.1520543223403969,0.7187720441422556,0.26382367030176984,0.2148192160809768,0.06245373104195675,0.1302340664677584,0.10101493698805004,1.3220332987081667,0.824174836909021,0.13667603655556498,0.21295582218370618,0.21277243974524107,0.14693710449477104,0.19293675473007882,0.13277037307455175,0.36218477407040156,0.8564091502502262,0.253678775031339,0.18292041735236883,0.12193435068478478,0.12431042463215569,0.13704542195815192,0.34546902263627816,0.30887511476372004,0.986514937956126,0.0074830946109878125,0.11725354135199156,0.3171552630921646,0.10208477708640329,0.18018696869196266,0.009220583199042223,0.11954757313494899,0.5017144319573187,0.07055997651275187,0.7693000660202577,0.24564285926832516,0.47298218438722134,0.4399266378727721,0.13437771531866707,0.8847244016132297,0.07384631475535662,0.016976977312756405,0.1019368209236864,0.17832083804774965,0.34857913818764424,0.22044308289822903,0.30261218084628766,0.11480779866630948,0.5097077389068781,0.055426175710815755,0.11993844144336537,0.4018021784301602,0.07850375521492588,0.12733292245089253,0.23886651150886687,0.3471958591571751,0.09203549615960718,0.24165012870528846,0.16003671621517032,0.5037686620406966,0.7244928325182628,0.0944887201862904,0.13804415558171818,0.36916806209058467,0.29789485409928645,0.16383321137077222,0.3967096191810817,0.40321789805849756,0.2062435771111643,0.02556022161994572,0.1294046978840589,0.08462375201265614,0.06155331289026023,0.03227978504403931,0.10609848525112507,0.5455542892841254,0.009998659592257892,0.1214155648412316,0.11517167033395255,0.019019532410145805,0.11724392571657487,0.1196574803421073,0.10624509557825496,0.35688301422317237,0.2864556800016636,0.04015804765380162,0.18222913928758602,0.13184792620578034,0.057172011673341336,0.17768934184499352,0.43315181962141286,0.0686722278891411,0.05923740944398399,0.12578247722311017,0.2623128966074671,0.018297078178055086,0.12564074799698355,0.05455788193612668,0.17621485021565447,0.09952021965781885,0.6228326161402284,0.1423657990601451,0.6033198946383995,0.08724752020720222,1.1280748903583115,0.31710668813215354,0.1085583890995763,0.06762675819780357,0.1649667939885853,0.09481028718963792,0.012407999068137091,0.11181280089507895,0.37479202054996974,0.2979916913738443],\"xaxis\":\"x\",\"yaxis\":\"y\"},{\"alignmentgroup\":\"True\",\"hovertemplate\":\"Algorithm=Theta<br>MAE=%{x}<extra></extra>\",\"legendgroup\":\"Theta\",\"marker\":{\"color\":\"#636efa\"},\"name\":\"Theta\",\"notched\":true,\"offsetgroup\":\"Theta\",\"showlegend\":false,\"type\":\"box\",\"x\":[0.19594318948447106,0.07778411743566718,0.1242688739736127,0.1329087279993294,0.3123683531941306,0.07695445009629598,0.01850579165664123,0.1241694009804586,0.16850992012858038,0.42322036913470124,0.022070181743358324,0.21123138734266841,0.15997041887888405,0.05942067635944291,0.2439553272857972,0.11427256770985918,0.5742397589584453,0.07269912084798512,0.07122546372944491,0.1866124949346728,0.013748947254700326,0.2030838254650266,0.09848119038800152,0.06765227663440851,0.19286715942131208,0.2858774580308161,0.09065648898975692,0.015243446805887892,0.07015433491849977,0.2615124362804999,0.15288935103589504,0.5210758233860968,0.21386839946427716,0.21454795866265347,0.400697270865474,0.06526109984728162,0.08712610432317522,0.017072591334879813,0.0877084514461021,0.017935454116762766,0.24433440593702366,0.21615377978912298,0.11127329673320167,0.41231699310120457,0.46630754649751077,0.29766606749926305,0.7455017699861815,0.05421162330685025,0.3638556190014079,0.013395201985245025,0.09313238768249017,0.226882237234171,0.03352648319670288,0.7457707177584655,0.08154845707918214,0.08006260617393154,0.05329117088386329,0.16102067824113778,0.34533755309294395,0.08408210105136141,0.1751494055138404,0.17527768979375838,0.12036580626780133,0.014764934257044914,0.05182975798906866,0.2997994661312272,0.02224049430737096,0.045689833767071766,0.6326654843372403,0.3024531895631546,0.17073539516914124,0.35717777873090484,0.17700425837321188,0.1897764224667759,0.04824018478015101,0.1269728435025075,0.24084818457432264,0.18503769029659067,0.23780423890597333,0.369167579958135,0.06202879290087457,0.014656460141240696,0.28340050957920365,0.09750326610851918,0.38128615475963057,0.16125639519185855,0.33853327205727185,0.29588822146589355,0.26323092481582977,0.21687415262809076,0.19305255201166313,0.09856786912314312,0.08916215700172851,0.17215334967406012,0.3493048808666641,0.1515736587256785,0.2107969513047684,0.25223341144559464,0.36533887566248185,0.6212227064779152,0.14364917260259516,0.08733112357161676,0.8435607172372704,0.23597415405180724,0.5828158581849261,1.4891626809471588,0.024334540225557286,0.7860324097341874,0.07173415515197945,0.2924097184819039,0.05906628520390529,0.13369914359031188,0.1228799946637696,0.07852003043224143,0.15074427570576632,0.48207185186403184,0.29562391190460413,0.46751150802834646,0.16846052081095914,0.16117814135597658,0.14774320919223805,0.45658013232151407,0.1612504616183933,0.11081967767439295,0.07964265104731368,0.1473328335051994,0.0829052439128548,0.14649333466397238,0.1815109811800321,0.18078997033487984,0.1631201607266144,0.23363774537364915,0.46638165256327496,0.0810633012794799,0.12665670993625433,0.11122438892871989,0.07788150382502573,0.24623818182882506,0.050147317002455075,0.1366637450452772,0.16312456130685568,0.3114161918177452,0.44206498531623367,0.16684516358798523,0.19671781714452666,0.08527007802135621,0.07832287293101055,0.1655728372755232,0.30373113952277936,0.1522054839944677,0.031932074713424595,0.03941347448569594,0.15623145295603963,0.08803456228773657,0.20698338854091133,0.05750416007351035,0.11354063484829009,0.1792175644419134,0.17931583258100608,0.6222398425699376,0.3047908935916139,0.07895181225741733,0.07412986032256415,0.5086923827146321,3.1548787161997063,0.09475321471083888,0.07553394648936274,0.1400149001545953,0.14507867499339916,0.33938838653876646,0.16826955069698535,0.24228869472065534,0.14304510837589743,0.09040980001603036,0.1181796817232427,0.19461172090746767,0.02211367150459027,0.17502126276074403,0.4782625909238857,0.12533705552291013,0.18066830643791174,0.4868303919120798,0.06656896684523636,0.1707615363128287,0.2587659685291798,0.8526951561866034,0.14869297444669782,0.35840395682199677,0.1958056722440323,0.01853009992539561,0.20990043090225421,0.05176642604140512,0.14329569412105075,0.11703281876095976,0.34697133047435735,0.053754064448153546,0.3032172167880718,0.09533730124276707,0.02684830515873375,0.16129712665783147,0.075012414417687,0.1377096308119323,0.439854746144234,0.21094063734837393,0.11144832152464429,0.3182932852576387,0.0812479889952504,0.35408311836322326,0.1349063161644985,0.09580588665935134,0.26696935859788223,0.17679620465882617,0.2351683274668274,0.08175635118641073,0.1202999082822426,0.12570034845693506,0.014994310455264996,0.20013941405487037,0.3232844708657317,0.23179797334641003,0.3808256029184088,0.45034680509907954,0.1921813528814047,0.05414339322125367,0.3298424547436106,0.06827360805629173,0.04520704293898235,1.1583426231298262,0.3561786292695099,0.6778796411740096,0.1673938353344834,0.1733683136119033,0.06967041811560507,0.5119314810506513,0.15140661324547644,0.2725381484793773,0.09095383734207316,0.7227409401381965,0.06148951833204516,0.18348820160796053,0.5968104632666212,0.04612453952062372,0.1047964455349849,0.23512279312534673,0.10662351469182207,0.24096484195446008,0.06755068309185353,0.31659469128976037,0.09296324067312425,0.12904181718227442,0.1912507830047786,0.4970970390785207,0.18440667678891473,0.02639614165980453,0.19152971145429168,0.2204748471822991,0.22118926780742637,0.12030163110510012,0.11921756271023239,0.20613631848835479,0.059046710130409984,0.6099140632925298,0.1845251863686508,0.8495781853655718,0.5145817677369247,0.151202838915065,0.33927695916012096,0.30957031934569496,0.22000030369961174,0.23645511214987577,0.3853523549964549,0.5210806649770336,0.010233921616507954,0.17105182976247565,0.28458732587151786,0.025540519645804602,0.19679702466602458,0.04256162794270802,0.14567688174287907,0.17288767196635105,0.2719025539952352,0.35742964757150053,0.02723868601268781,0.13037201895508949,0.23234901363009342,0.1520543223403969,0.7187720441422556,0.26382367030176984,0.2148192160809768,0.06245373104195675,0.1302340664677584,0.10101493698805004,1.3220332987081667,0.824174836909021,0.13667603655556498,0.21295582218370618,0.21277243974524107,0.14693710449477104,0.19293675473007882,0.13277037307455175,0.36218477407040156,0.8564091502502262,0.253678775031339,0.18292041735236883,0.12193435068478478,0.12431042463215569,0.13704542195815192,0.34546902263627816,0.30887511476372004,0.986514937956126,0.0074830946109878125,0.11725354135199156,0.3171552630921646,0.10208477708640329,0.18018696869196266,0.009220583199042223,0.11954757313494899,0.5017144319573187,0.07055997651275187,0.7693000660202577,0.24564285926832516,0.47298218438722134,0.4399266378727721,0.13437771531866707,0.8847244016132297,0.07384631475535662,0.016976977312756405,0.1019368209236864,0.17832083804774965,0.34857913818764424,0.22044308289822903,0.30261218084628766,0.11480779866630948,0.5097077389068781,0.055426175710815755,0.11993844144336537,0.4018021784301602,0.07850375521492588,0.12733292245089253,0.23886651150886687,0.3471958591571751,0.09203549615960718,0.24165012870528846,0.16003671621517032,0.5037686620406966,0.7244928325182628,0.0944887201862904,0.13804415558171818,0.36916806209058467,0.29789485409928645,0.16383321137077222,0.3967096191810817,0.40321789805849756,0.2062435771111643,0.02556022161994572,0.1294046978840589,0.08462375201265614,0.06155331289026023,0.03227978504403931,0.10609848525112507,0.5455542892841254,0.009998659592257892,0.1214155648412316,0.11517167033395255,0.019019532410145805,0.11724392571657487,0.1196574803421073,0.10624509557825496,0.35688301422317237,0.2864556800016636,0.04015804765380162,0.18222913928758602,0.13184792620578034,0.057172011673341336,0.17768934184499352,0.43315181962141286,0.0686722278891411,0.05923740944398399,0.12578247722311017,0.2623128966074671,0.018297078178055086,0.12564074799698355,0.05455788193612668,0.17621485021565447,0.09952021965781885,0.6228326161402284,0.1423657990601451,0.6033198946383995,0.08724752020720222,1.1280748903583115,0.31710668813215354,0.1085583890995763,0.06762675819780357,0.1649667939885853,0.09481028718963792,0.012407999068137091,0.11181280089507895,0.37479202054996974,0.2979916913738443],\"xaxis\":\"x2\",\"yaxis\":\"y2\"},{\"alignmentgroup\":\"True\",\"bingroup\":\"x\",\"histnorm\":\"probability density\",\"hovertemplate\":\"Algorithm=FFT<br>MAE=%{x}<br>probability density=%{y}<extra></extra>\",\"legendgroup\":\"FFT\",\"marker\":{\"color\":\"#EF553B\",\"opacity\":0.5,\"pattern\":{\"shape\":\"/\"}},\"name\":\"FFT\",\"nbinsx\":100,\"offsetgroup\":\"FFT\",\"orientation\":\"v\",\"showlegend\":true,\"type\":\"histogram\",\"x\":[0.16108636233291118,0.06045365856064838,0.0845855286545324,0.18401997814605744,0.36555072654941273,0.16392487682289597,0.0337703780337715,0.07908096600345822,0.08912619557695348,0.29347118852700066,0.08707246874374554,0.18661270923882678,0.17872448043455819,0.0644128121763688,0.25046550943254303,0.11375780571216328,0.29003798643375756,0.09029325064577591,0.06508349011723279,0.2089955122655216,0.0626921894232137,0.16486896603895793,0.09972055718191464,0.10495168909907783,0.15761844025450306,0.2959711746583386,0.16282792400947474,0.026985931662430625,0.0530745006851232,0.10253738605148807,0.13882344512734787,0.45131243210605787,0.061489124465917255,0.19409732849558173,0.5797986010509698,0.056514933283595685,0.03775767416058447,0.025040423055864944,0.09866609172427097,0.06856303173493207,0.2281577746814846,0.1417339150893902,0.11099813223246198,0.4394399640872198,0.2841410646415049,0.18476850205082734,0.26345681727806947,0.05708668958469152,0.3098547626722865,0.05166834295962422,0.09141367047657938,0.15540643736252874,0.033299790535979264,0.5310779521421528,0.10184008974573118,0.07770406846608488,0.05842704544241837,0.15508361371218976,0.2636984240281232,0.053733126527565934,0.24858262847311033,0.22161939278902498,0.06985170407674804,0.03891366042211188,0.09379848884524841,0.2987016361150449,0.02269372616100413,0.05530285195956263,1.1011601218337321,0.23090378970545727,0.12093699613492023,0.192254722871734,0.1575291815226968,0.11187530379493962,0.07557544229299805,0.11182543201460643,0.3065359095262767,0.1810357481076599,0.11800307126940618,0.2590263660443337,0.073878877473377,0.05854451489221798,0.1329672108670211,0.13555333319337068,0.3860303266227839,0.12203760088611451,0.11423657254085756,0.3004691306405903,0.16028033737071942,0.22034971705439538,0.12436410575166676,0.08076552688831377,0.08797414550445885,0.06314373042273119,0.8203721470707567,0.17057067434752646,0.2023810666262136,0.24774511791935647,0.15917021475723378,0.14138944569079703,0.17061971145071364,0.12484803194673302,0.6131782087216222,0.20969161628669553,0.13499278197043785,0.3599591141605001,0.08064103862204496,0.2545842434063269,0.0646318374047169,0.2503966685567126,0.029895814114533143,0.13608721718964734,0.07331486767656335,0.08764213274607371,0.15558522967768884,0.4300986866969168,0.18720241145470368,0.2732578549930936,0.060466796300433265,0.17751213858929732,0.14341729802315617,0.4554085186668158,0.09291298506796694,0.08846038192691011,0.3899448805966731,0.1571662603707702,0.07953968170597614,0.14812713538172592,0.1911627276308517,0.6518148391578057,0.13362276349105062,0.24282958048770711,0.18119354827764067,0.09555220171625946,0.09408057382360926,0.11140047158501781,0.0648381639203596,0.23639098914239037,0.10949147462099176,0.17832152231056325,0.27631042950442697,0.20659854233381206,0.31455023498203877,0.17102481284932708,0.1355330080051421,0.09569014656834103,0.09125092466488063,0.12086102905935851,0.18580443918946415,0.1621571189375815,0.2077336881947743,0.035204863687078966,0.13761903599251735,0.1017241057320308,0.161837419761927,0.0735504713491639,0.1063440452182918,0.08537164892707884,0.12158854070482643,0.40691262322845195,0.16288774313334137,0.18378181796779172,0.20008072001201932,0.44223913950562843,0.8307947993509487,0.07346518974593087,0.07381808433693704,0.0992188785551741,0.13901137378470588,0.2765102533476354,0.12946932228454655,0.13783250726555982,0.24897319389295697,0.08509466971635199,0.0871512859528332,0.37249700000243224,0.02355430318593213,0.14241433549987953,0.37413724002300147,0.11042163670651536,0.19398415543024727,0.24520104070819482,0.07149772276674855,0.1890077468767944,0.14954334312919637,0.5022833913469299,0.16290827415877684,0.30631565716259607,0.2131519700599086,0.11679451674158428,0.12097922485104166,0.055139693598758865,0.15479400382570865,0.12033196609351948,0.10368802438644716,0.05800928307683292,0.2355990266187293,0.14507860216025048,0.14312879014360524,0.23478817177629563,0.07562534269125537,0.14701971932805286,0.5748626928382705,0.20898930207328228,0.0806356270722145,0.21498989681593123,0.1530714548922281,0.24207778673883457,0.16558890876144114,0.08709478679501545,0.12075751483731223,0.13661140857745782,0.1423785426486934,0.07891669747328876,0.1357233136670986,0.09263240457006713,0.10924434767481589,0.25574673477285614,0.21634732919472666,0.1646770037300229,0.292611746879663,0.24142472200224213,0.06545031548941471,0.05466281770268704,0.11647247930879194,0.1629667536568373,0.05459950101569671,0.3576923143747324,0.07985512694989357,0.28148489334388127,0.136104859136534,0.05070716052260818,1.1832046867325197,0.25385949240107264,0.1095868058700389,0.41448878798684063,0.06439911554982518,0.2556819181438693,0.055536143782783265,0.3723459275752241,0.47162294296527946,0.06310963500357161,0.11683308997961869,0.13338529753863695,0.05713762844949496,0.06752877153818838,0.07493720440210899,0.18910974042694156,0.09865996352397953,0.1151854474312035,0.18035800042178438,0.23392329884948102,0.13505070305920314,0.05259981699931407,0.12821867881226534,0.3177775325520178,0.275124434643157,0.10121373480229054,0.05985152792669136,0.09579613107758309,0.10959851145641884,0.26430545651251797,0.14559719100237983,0.4090742509493787,0.3515726985982423,0.3134998491191444,0.27015865394068755,0.2864704019797109,0.15006309502128515,0.1992651767498318,0.35863440125454965,0.20478517422902162,0.04651884182036422,0.20192333362195197,0.5053569292547965,0.05339260604115845,0.1904958978491526,0.05324050647418865,0.15213331925939727,0.1740705189480158,0.23313653823372477,0.1186754287841535,0.19612126624063947,0.15838369440966021,0.17993663888476344,0.16007978469338074,0.33300770890825987,0.22260604459001965,0.14453371104448973,0.06793897248863211,0.1591231334841722,0.11064369665990119,0.4818251644897764,0.3656316259308956,0.06836971922046713,0.1635641796843098,0.17168155157659845,0.1292099167892866,0.2602780957476284,0.16928070571518095,0.34382989281140236,0.19478774683027023,0.08129433894431007,0.28595767448051995,0.12431257060469798,0.1914812132409597,0.1516009337543946,0.12425844277137423,0.3009273542839631,0.6455688504959567,0.020038488487088182,0.10000486268781558,0.39367317754072806,0.07704178152758183,0.11792980862307392,0.048270766141882616,0.038528877270018885,0.4213784898074293,0.07776489555949083,0.6096626193395458,0.1902700391775494,0.23449750202988467,0.3342233714612085,0.13958934419830846,0.5409717463448679,0.0716061437167228,0.0994592506604792,0.12327534539280925,0.1962269222660834,0.2643135089480774,0.24071796419715233,0.2137929449224342,0.0501593840695295,0.23175410572779748,0.032056147484508996,0.07449933323940015,0.45765620815502633,0.08462908091524554,0.12883216519742163,0.19846904016303765,0.055527590613463226,0.08697989736792001,0.25106416155211647,0.19872315693838574,0.165771643983875,0.2352139808336889,0.09871810074283649,0.03291671941649814,0.17188657307434604,0.12467835373063609,0.14918127437684608,0.2436659560225179,0.7031763793050506,0.1510885902441659,0.06720863361666664,0.13823169847855046,0.06902643517070949,0.055894531319137984,0.2242678555370094,0.1291565847866594,0.1595989140904849,0.045829346038040716,0.07252156614127518,0.07764625748053704,0.017901023850268937,0.11003818528565153,0.10529547536332703,0.07316772337403919,0.11437095639901554,0.2192953862484079,0.0337325846907514,0.19848299299455488,0.10432530607178812,0.042983650694568235,0.15242631769657647,0.15672280410159642,0.056592954556351015,0.1268246532669968,0.13060739900709548,0.14484615521263053,0.03872355007830866,0.09887191547004873,0.037890246071805626,0.16012022102594645,0.088170309526282,0.12240523201462095,0.19951327754307813,0.23428647945731976,0.3021093850476762,0.7042385661479652,0.2425921860484854,0.11716622184361429,0.05654231269032052,0.1651322202819214,0.05852886768000869,0.048715106719691106,0.12201512920390237,0.1708419589010758,0.1357275254636481],\"xaxis\":\"x\",\"yaxis\":\"y\"},{\"alignmentgroup\":\"True\",\"hovertemplate\":\"Algorithm=FFT<br>MAE=%{x}<extra></extra>\",\"legendgroup\":\"FFT\",\"marker\":{\"color\":\"#EF553B\"},\"name\":\"FFT\",\"notched\":true,\"offsetgroup\":\"FFT\",\"showlegend\":false,\"type\":\"box\",\"x\":[0.16108636233291118,0.06045365856064838,0.0845855286545324,0.18401997814605744,0.36555072654941273,0.16392487682289597,0.0337703780337715,0.07908096600345822,0.08912619557695348,0.29347118852700066,0.08707246874374554,0.18661270923882678,0.17872448043455819,0.0644128121763688,0.25046550943254303,0.11375780571216328,0.29003798643375756,0.09029325064577591,0.06508349011723279,0.2089955122655216,0.0626921894232137,0.16486896603895793,0.09972055718191464,0.10495168909907783,0.15761844025450306,0.2959711746583386,0.16282792400947474,0.026985931662430625,0.0530745006851232,0.10253738605148807,0.13882344512734787,0.45131243210605787,0.061489124465917255,0.19409732849558173,0.5797986010509698,0.056514933283595685,0.03775767416058447,0.025040423055864944,0.09866609172427097,0.06856303173493207,0.2281577746814846,0.1417339150893902,0.11099813223246198,0.4394399640872198,0.2841410646415049,0.18476850205082734,0.26345681727806947,0.05708668958469152,0.3098547626722865,0.05166834295962422,0.09141367047657938,0.15540643736252874,0.033299790535979264,0.5310779521421528,0.10184008974573118,0.07770406846608488,0.05842704544241837,0.15508361371218976,0.2636984240281232,0.053733126527565934,0.24858262847311033,0.22161939278902498,0.06985170407674804,0.03891366042211188,0.09379848884524841,0.2987016361150449,0.02269372616100413,0.05530285195956263,1.1011601218337321,0.23090378970545727,0.12093699613492023,0.192254722871734,0.1575291815226968,0.11187530379493962,0.07557544229299805,0.11182543201460643,0.3065359095262767,0.1810357481076599,0.11800307126940618,0.2590263660443337,0.073878877473377,0.05854451489221798,0.1329672108670211,0.13555333319337068,0.3860303266227839,0.12203760088611451,0.11423657254085756,0.3004691306405903,0.16028033737071942,0.22034971705439538,0.12436410575166676,0.08076552688831377,0.08797414550445885,0.06314373042273119,0.8203721470707567,0.17057067434752646,0.2023810666262136,0.24774511791935647,0.15917021475723378,0.14138944569079703,0.17061971145071364,0.12484803194673302,0.6131782087216222,0.20969161628669553,0.13499278197043785,0.3599591141605001,0.08064103862204496,0.2545842434063269,0.0646318374047169,0.2503966685567126,0.029895814114533143,0.13608721718964734,0.07331486767656335,0.08764213274607371,0.15558522967768884,0.4300986866969168,0.18720241145470368,0.2732578549930936,0.060466796300433265,0.17751213858929732,0.14341729802315617,0.4554085186668158,0.09291298506796694,0.08846038192691011,0.3899448805966731,0.1571662603707702,0.07953968170597614,0.14812713538172592,0.1911627276308517,0.6518148391578057,0.13362276349105062,0.24282958048770711,0.18119354827764067,0.09555220171625946,0.09408057382360926,0.11140047158501781,0.0648381639203596,0.23639098914239037,0.10949147462099176,0.17832152231056325,0.27631042950442697,0.20659854233381206,0.31455023498203877,0.17102481284932708,0.1355330080051421,0.09569014656834103,0.09125092466488063,0.12086102905935851,0.18580443918946415,0.1621571189375815,0.2077336881947743,0.035204863687078966,0.13761903599251735,0.1017241057320308,0.161837419761927,0.0735504713491639,0.1063440452182918,0.08537164892707884,0.12158854070482643,0.40691262322845195,0.16288774313334137,0.18378181796779172,0.20008072001201932,0.44223913950562843,0.8307947993509487,0.07346518974593087,0.07381808433693704,0.0992188785551741,0.13901137378470588,0.2765102533476354,0.12946932228454655,0.13783250726555982,0.24897319389295697,0.08509466971635199,0.0871512859528332,0.37249700000243224,0.02355430318593213,0.14241433549987953,0.37413724002300147,0.11042163670651536,0.19398415543024727,0.24520104070819482,0.07149772276674855,0.1890077468767944,0.14954334312919637,0.5022833913469299,0.16290827415877684,0.30631565716259607,0.2131519700599086,0.11679451674158428,0.12097922485104166,0.055139693598758865,0.15479400382570865,0.12033196609351948,0.10368802438644716,0.05800928307683292,0.2355990266187293,0.14507860216025048,0.14312879014360524,0.23478817177629563,0.07562534269125537,0.14701971932805286,0.5748626928382705,0.20898930207328228,0.0806356270722145,0.21498989681593123,0.1530714548922281,0.24207778673883457,0.16558890876144114,0.08709478679501545,0.12075751483731223,0.13661140857745782,0.1423785426486934,0.07891669747328876,0.1357233136670986,0.09263240457006713,0.10924434767481589,0.25574673477285614,0.21634732919472666,0.1646770037300229,0.292611746879663,0.24142472200224213,0.06545031548941471,0.05466281770268704,0.11647247930879194,0.1629667536568373,0.05459950101569671,0.3576923143747324,0.07985512694989357,0.28148489334388127,0.136104859136534,0.05070716052260818,1.1832046867325197,0.25385949240107264,0.1095868058700389,0.41448878798684063,0.06439911554982518,0.2556819181438693,0.055536143782783265,0.3723459275752241,0.47162294296527946,0.06310963500357161,0.11683308997961869,0.13338529753863695,0.05713762844949496,0.06752877153818838,0.07493720440210899,0.18910974042694156,0.09865996352397953,0.1151854474312035,0.18035800042178438,0.23392329884948102,0.13505070305920314,0.05259981699931407,0.12821867881226534,0.3177775325520178,0.275124434643157,0.10121373480229054,0.05985152792669136,0.09579613107758309,0.10959851145641884,0.26430545651251797,0.14559719100237983,0.4090742509493787,0.3515726985982423,0.3134998491191444,0.27015865394068755,0.2864704019797109,0.15006309502128515,0.1992651767498318,0.35863440125454965,0.20478517422902162,0.04651884182036422,0.20192333362195197,0.5053569292547965,0.05339260604115845,0.1904958978491526,0.05324050647418865,0.15213331925939727,0.1740705189480158,0.23313653823372477,0.1186754287841535,0.19612126624063947,0.15838369440966021,0.17993663888476344,0.16007978469338074,0.33300770890825987,0.22260604459001965,0.14453371104448973,0.06793897248863211,0.1591231334841722,0.11064369665990119,0.4818251644897764,0.3656316259308956,0.06836971922046713,0.1635641796843098,0.17168155157659845,0.1292099167892866,0.2602780957476284,0.16928070571518095,0.34382989281140236,0.19478774683027023,0.08129433894431007,0.28595767448051995,0.12431257060469798,0.1914812132409597,0.1516009337543946,0.12425844277137423,0.3009273542839631,0.6455688504959567,0.020038488487088182,0.10000486268781558,0.39367317754072806,0.07704178152758183,0.11792980862307392,0.048270766141882616,0.038528877270018885,0.4213784898074293,0.07776489555949083,0.6096626193395458,0.1902700391775494,0.23449750202988467,0.3342233714612085,0.13958934419830846,0.5409717463448679,0.0716061437167228,0.0994592506604792,0.12327534539280925,0.1962269222660834,0.2643135089480774,0.24071796419715233,0.2137929449224342,0.0501593840695295,0.23175410572779748,0.032056147484508996,0.07449933323940015,0.45765620815502633,0.08462908091524554,0.12883216519742163,0.19846904016303765,0.055527590613463226,0.08697989736792001,0.25106416155211647,0.19872315693838574,0.165771643983875,0.2352139808336889,0.09871810074283649,0.03291671941649814,0.17188657307434604,0.12467835373063609,0.14918127437684608,0.2436659560225179,0.7031763793050506,0.1510885902441659,0.06720863361666664,0.13823169847855046,0.06902643517070949,0.055894531319137984,0.2242678555370094,0.1291565847866594,0.1595989140904849,0.045829346038040716,0.07252156614127518,0.07764625748053704,0.017901023850268937,0.11003818528565153,0.10529547536332703,0.07316772337403919,0.11437095639901554,0.2192953862484079,0.0337325846907514,0.19848299299455488,0.10432530607178812,0.042983650694568235,0.15242631769657647,0.15672280410159642,0.056592954556351015,0.1268246532669968,0.13060739900709548,0.14484615521263053,0.03872355007830866,0.09887191547004873,0.037890246071805626,0.16012022102594645,0.088170309526282,0.12240523201462095,0.19951327754307813,0.23428647945731976,0.3021093850476762,0.7042385661479652,0.2425921860484854,0.11716622184361429,0.05654231269032052,0.1651322202819214,0.05852886768000869,0.048715106719691106,0.12201512920390237,0.1708419589010758,0.1357275254636481],\"xaxis\":\"x2\",\"yaxis\":\"y2\"}],                        {\"autosize\":false,\"barmode\":\"overlay\",\"height\":500,\"legend\":{\"title\":{},\"tracegroupgap\":0},\"margin\":{\"t\":60},\"template\":{\"data\":{\"bar\":[{\"error_x\":{\"color\":\"#2a3f5f\"},\"error_y\":{\"color\":\"#2a3f5f\"},\"marker\":{\"line\":{\"color\":\"white\",\"width\":0.5},\"pattern\":{\"fillmode\":\"overlay\",\"size\":10,\"solidity\":0.2}},\"type\":\"bar\"}],\"barpolar\":[{\"marker\":{\"line\":{\"color\":\"white\",\"width\":0.5},\"pattern\":{\"fillmode\":\"overlay\",\"size\":10,\"solidity\":0.2}},\"type\":\"barpolar\"}],\"carpet\":[{\"aaxis\":{\"endlinecolor\":\"#2a3f5f\",\"gridcolor\":\"#C8D4E3\",\"linecolor\":\"#C8D4E3\",\"minorgridcolor\":\"#C8D4E3\",\"startlinecolor\":\"#2a3f5f\"},\"baxis\":{\"endlinecolor\":\"#2a3f5f\",\"gridcolor\":\"#C8D4E3\",\"linecolor\":\"#C8D4E3\",\"minorgridcolor\":\"#C8D4E3\",\"startlinecolor\":\"#2a3f5f\"},\"type\":\"carpet\"}],\"choropleth\":[{\"colorbar\":{\"outlinewidth\":0,\"ticks\":\"\"},\"type\":\"choropleth\"}],\"contour\":[{\"colorbar\":{\"outlinewidth\":0,\"ticks\":\"\"},\"colorscale\":[[0.0,\"#0d0887\"],[0.1111111111111111,\"#46039f\"],[0.2222222222222222,\"#7201a8\"],[0.3333333333333333,\"#9c179e\"],[0.4444444444444444,\"#bd3786\"],[0.5555555555555556,\"#d8576b\"],[0.6666666666666666,\"#ed7953\"],[0.7777777777777778,\"#fb9f3a\"],[0.8888888888888888,\"#fdca26\"],[1.0,\"#f0f921\"]],\"type\":\"contour\"}],\"contourcarpet\":[{\"colorbar\":{\"outlinewidth\":0,\"ticks\":\"\"},\"type\":\"contourcarpet\"}],\"heatmap\":[{\"colorbar\":{\"outlinewidth\":0,\"ticks\":\"\"},\"colorscale\":[[0.0,\"#0d0887\"],[0.1111111111111111,\"#46039f\"],[0.2222222222222222,\"#7201a8\"],[0.3333333333333333,\"#9c179e\"],[0.4444444444444444,\"#bd3786\"],[0.5555555555555556,\"#d8576b\"],[0.6666666666666666,\"#ed7953\"],[0.7777777777777778,\"#fb9f3a\"],[0.8888888888888888,\"#fdca26\"],[1.0,\"#f0f921\"]],\"type\":\"heatmap\"}],\"heatmapgl\":[{\"colorbar\":{\"outlinewidth\":0,\"ticks\":\"\"},\"colorscale\":[[0.0,\"#0d0887\"],[0.1111111111111111,\"#46039f\"],[0.2222222222222222,\"#7201a8\"],[0.3333333333333333,\"#9c179e\"],[0.4444444444444444,\"#bd3786\"],[0.5555555555555556,\"#d8576b\"],[0.6666666666666666,\"#ed7953\"],[0.7777777777777778,\"#fb9f3a\"],[0.8888888888888888,\"#fdca26\"],[1.0,\"#f0f921\"]],\"type\":\"heatmapgl\"}],\"histogram\":[{\"marker\":{\"pattern\":{\"fillmode\":\"overlay\",\"size\":10,\"solidity\":0.2}},\"type\":\"histogram\"}],\"histogram2d\":[{\"colorbar\":{\"outlinewidth\":0,\"ticks\":\"\"},\"colorscale\":[[0.0,\"#0d0887\"],[0.1111111111111111,\"#46039f\"],[0.2222222222222222,\"#7201a8\"],[0.3333333333333333,\"#9c179e\"],[0.4444444444444444,\"#bd3786\"],[0.5555555555555556,\"#d8576b\"],[0.6666666666666666,\"#ed7953\"],[0.7777777777777778,\"#fb9f3a\"],[0.8888888888888888,\"#fdca26\"],[1.0,\"#f0f921\"]],\"type\":\"histogram2d\"}],\"histogram2dcontour\":[{\"colorbar\":{\"outlinewidth\":0,\"ticks\":\"\"},\"colorscale\":[[0.0,\"#0d0887\"],[0.1111111111111111,\"#46039f\"],[0.2222222222222222,\"#7201a8\"],[0.3333333333333333,\"#9c179e\"],[0.4444444444444444,\"#bd3786\"],[0.5555555555555556,\"#d8576b\"],[0.6666666666666666,\"#ed7953\"],[0.7777777777777778,\"#fb9f3a\"],[0.8888888888888888,\"#fdca26\"],[1.0,\"#f0f921\"]],\"type\":\"histogram2dcontour\"}],\"mesh3d\":[{\"colorbar\":{\"outlinewidth\":0,\"ticks\":\"\"},\"type\":\"mesh3d\"}],\"parcoords\":[{\"line\":{\"colorbar\":{\"outlinewidth\":0,\"ticks\":\"\"}},\"type\":\"parcoords\"}],\"pie\":[{\"automargin\":true,\"type\":\"pie\"}],\"scatter\":[{\"marker\":{\"colorbar\":{\"outlinewidth\":0,\"ticks\":\"\"}},\"type\":\"scatter\"}],\"scatter3d\":[{\"line\":{\"colorbar\":{\"outlinewidth\":0,\"ticks\":\"\"}},\"marker\":{\"colorbar\":{\"outlinewidth\":0,\"ticks\":\"\"}},\"type\":\"scatter3d\"}],\"scattercarpet\":[{\"marker\":{\"colorbar\":{\"outlinewidth\":0,\"ticks\":\"\"}},\"type\":\"scattercarpet\"}],\"scattergeo\":[{\"marker\":{\"colorbar\":{\"outlinewidth\":0,\"ticks\":\"\"}},\"type\":\"scattergeo\"}],\"scattergl\":[{\"marker\":{\"colorbar\":{\"outlinewidth\":0,\"ticks\":\"\"}},\"type\":\"scattergl\"}],\"scattermapbox\":[{\"marker\":{\"colorbar\":{\"outlinewidth\":0,\"ticks\":\"\"}},\"type\":\"scattermapbox\"}],\"scatterpolar\":[{\"marker\":{\"colorbar\":{\"outlinewidth\":0,\"ticks\":\"\"}},\"type\":\"scatterpolar\"}],\"scatterpolargl\":[{\"marker\":{\"colorbar\":{\"outlinewidth\":0,\"ticks\":\"\"}},\"type\":\"scatterpolargl\"}],\"scatterternary\":[{\"marker\":{\"colorbar\":{\"outlinewidth\":0,\"ticks\":\"\"}},\"type\":\"scatterternary\"}],\"surface\":[{\"colorbar\":{\"outlinewidth\":0,\"ticks\":\"\"},\"colorscale\":[[0.0,\"#0d0887\"],[0.1111111111111111,\"#46039f\"],[0.2222222222222222,\"#7201a8\"],[0.3333333333333333,\"#9c179e\"],[0.4444444444444444,\"#bd3786\"],[0.5555555555555556,\"#d8576b\"],[0.6666666666666666,\"#ed7953\"],[0.7777777777777778,\"#fb9f3a\"],[0.8888888888888888,\"#fdca26\"],[1.0,\"#f0f921\"]],\"type\":\"surface\"}],\"table\":[{\"cells\":{\"fill\":{\"color\":\"#EBF0F8\"},\"line\":{\"color\":\"white\"}},\"header\":{\"fill\":{\"color\":\"#C8D4E3\"},\"line\":{\"color\":\"white\"}},\"type\":\"table\"}]},\"layout\":{\"annotationdefaults\":{\"arrowcolor\":\"#2a3f5f\",\"arrowhead\":0,\"arrowwidth\":1},\"autotypenumbers\":\"strict\",\"coloraxis\":{\"colorbar\":{\"outlinewidth\":0,\"ticks\":\"\"}},\"colorscale\":{\"diverging\":[[0,\"#8e0152\"],[0.1,\"#c51b7d\"],[0.2,\"#de77ae\"],[0.3,\"#f1b6da\"],[0.4,\"#fde0ef\"],[0.5,\"#f7f7f7\"],[0.6,\"#e6f5d0\"],[0.7,\"#b8e186\"],[0.8,\"#7fbc41\"],[0.9,\"#4d9221\"],[1,\"#276419\"]],\"sequential\":[[0.0,\"#0d0887\"],[0.1111111111111111,\"#46039f\"],[0.2222222222222222,\"#7201a8\"],[0.3333333333333333,\"#9c179e\"],[0.4444444444444444,\"#bd3786\"],[0.5555555555555556,\"#d8576b\"],[0.6666666666666666,\"#ed7953\"],[0.7777777777777778,\"#fb9f3a\"],[0.8888888888888888,\"#fdca26\"],[1.0,\"#f0f921\"]],\"sequentialminus\":[[0.0,\"#0d0887\"],[0.1111111111111111,\"#46039f\"],[0.2222222222222222,\"#7201a8\"],[0.3333333333333333,\"#9c179e\"],[0.4444444444444444,\"#bd3786\"],[0.5555555555555556,\"#d8576b\"],[0.6666666666666666,\"#ed7953\"],[0.7777777777777778,\"#fb9f3a\"],[0.8888888888888888,\"#fdca26\"],[1.0,\"#f0f921\"]]},\"colorway\":[\"#636efa\",\"#EF553B\",\"#00cc96\",\"#ab63fa\",\"#FFA15A\",\"#19d3f3\",\"#FF6692\",\"#B6E880\",\"#FF97FF\",\"#FECB52\"],\"font\":{\"color\":\"#2a3f5f\"},\"geo\":{\"bgcolor\":\"white\",\"lakecolor\":\"white\",\"landcolor\":\"white\",\"showlakes\":true,\"showland\":true,\"subunitcolor\":\"#C8D4E3\"},\"hoverlabel\":{\"align\":\"left\"},\"hovermode\":\"closest\",\"mapbox\":{\"style\":\"light\"},\"paper_bgcolor\":\"white\",\"plot_bgcolor\":\"white\",\"polar\":{\"angularaxis\":{\"gridcolor\":\"#EBF0F8\",\"linecolor\":\"#EBF0F8\",\"ticks\":\"\"},\"bgcolor\":\"white\",\"radialaxis\":{\"gridcolor\":\"#EBF0F8\",\"linecolor\":\"#EBF0F8\",\"ticks\":\"\"}},\"scene\":{\"xaxis\":{\"backgroundcolor\":\"white\",\"gridcolor\":\"#DFE8F3\",\"gridwidth\":2,\"linecolor\":\"#EBF0F8\",\"showbackground\":true,\"ticks\":\"\",\"zerolinecolor\":\"#EBF0F8\"},\"yaxis\":{\"backgroundcolor\":\"white\",\"gridcolor\":\"#DFE8F3\",\"gridwidth\":2,\"linecolor\":\"#EBF0F8\",\"showbackground\":true,\"ticks\":\"\",\"zerolinecolor\":\"#EBF0F8\"},\"zaxis\":{\"backgroundcolor\":\"white\",\"gridcolor\":\"#DFE8F3\",\"gridwidth\":2,\"linecolor\":\"#EBF0F8\",\"showbackground\":true,\"ticks\":\"\",\"zerolinecolor\":\"#EBF0F8\"}},\"shapedefaults\":{\"line\":{\"color\":\"#2a3f5f\"}},\"ternary\":{\"aaxis\":{\"gridcolor\":\"#DFE8F3\",\"linecolor\":\"#A2B1C6\",\"ticks\":\"\"},\"baxis\":{\"gridcolor\":\"#DFE8F3\",\"linecolor\":\"#A2B1C6\",\"ticks\":\"\"},\"bgcolor\":\"white\",\"caxis\":{\"gridcolor\":\"#DFE8F3\",\"linecolor\":\"#A2B1C6\",\"ticks\":\"\"}},\"title\":{\"x\":0.05},\"xaxis\":{\"automargin\":true,\"gridcolor\":\"#EBF0F8\",\"linecolor\":\"#EBF0F8\",\"ticks\":\"\",\"title\":{\"standoff\":15},\"zerolinecolor\":\"#EBF0F8\",\"zerolinewidth\":2},\"yaxis\":{\"automargin\":true,\"gridcolor\":\"#EBF0F8\",\"linecolor\":\"#EBF0F8\",\"ticks\":\"\",\"title\":{\"standoff\":15},\"zerolinecolor\":\"#EBF0F8\",\"zerolinewidth\":2}}},\"title\":{\"font\":{\"size\":20},\"text\":\"Distribution of MAE in the dataset\",\"x\":0.5,\"xanchor\":\"center\",\"yanchor\":\"top\"},\"width\":900,\"xaxis\":{\"anchor\":\"y\",\"domain\":[0.0,1.0],\"range\":[0,1.1],\"title\":{\"font\":{\"size\":12},\"text\":\"MAE\"}},\"xaxis2\":{\"anchor\":\"y2\",\"domain\":[0.0,1.0],\"matches\":\"x\",\"showgrid\":true,\"showticklabels\":false},\"yaxis\":{\"anchor\":\"x\",\"domain\":[0.0,0.7326],\"title\":{\"font\":{\"size\":12},\"text\":\"Probability Density\"}},\"yaxis2\":{\"anchor\":\"x2\",\"domain\":[0.7426,1.0],\"matches\":\"y2\",\"showgrid\":false,\"showline\":false,\"showticklabels\":false,\"ticks\":\"\"}},                        {\"responsive\": true}                    ).then(function(){\n",
       "                            \n",
       "var gd = document.getElementById('c4869e69-b6ca-49d0-8442-55b37a2b001d');\n",
       "var x = new MutationObserver(function (mutations, observer) {{\n",
       "        var display = window.getComputedStyle(gd).display;\n",
       "        if (!display || display === 'none') {{\n",
       "            console.log([gd, 'removed!']);\n",
       "            Plotly.purge(gd);\n",
       "            observer.disconnect();\n",
       "        }}\n",
       "}});\n",
       "\n",
       "// Listen for the removal of the full notebook cells\n",
       "var notebookContainer = gd.closest('#notebook-container');\n",
       "if (notebookContainer) {{\n",
       "    x.observe(notebookContainer, {childList: true});\n",
       "}}\n",
       "\n",
       "// Listen for the clearing of the current output cell\n",
       "var outputEl = gd.closest('.output');\n",
       "if (outputEl) {{\n",
       "    x.observe(outputEl, {childList: true});\n",
       "}}\n",
       "\n",
       "                        })                };                });            </script>        </div>"
      ]
     },
     "metadata": {},
     "output_type": "display_data"
    }
   ],
   "source": [
    "fig = px.histogram(baseline_metrics_df, \n",
    "                   x=\"MAE\", \n",
    "                   color=\"Algorithm\",\n",
    "                   pattern_shape=\"Algorithm\", \n",
    "                   marginal=\"box\", \n",
    "                   nbins=100, \n",
    "                   barmode=\"overlay\",\n",
    "                   histnorm=\"probability density\")\n",
    "fig = format_plot(fig, xlabel=\"MAE\", ylabel=\"Probability Density\", title=\"Distribution of MAE in the dataset\")\n",
    "fig.write_image(\"imgs/chapter_4/mae_dist.png\")\n",
    "fig.update_layout(xaxis_range=[0,1.1])\n",
    "fig.show()"
   ]
  },
  {
   "cell_type": "code",
   "execution_count": 48,
   "id": "9e89266e-ab40-4f44-9461-ec0c755c6a61",
   "metadata": {},
   "outputs": [
    {
     "data": {
      "application/vnd.plotly.v1+json": {
       "config": {
        "plotlyServerURL": "https://plot.ly"
       },
       "data": [
        {
         "alignmentgroup": "True",
         "bingroup": "x",
         "histnorm": "probability density",
         "hovertemplate": "Algorithm=Theta<br>MSE=%{x}<br>probability density=%{y}<extra></extra>",
         "legendgroup": "Theta",
         "marker": {
          "color": "#636efa",
          "opacity": 0.5,
          "pattern": {
           "shape": ""
          }
         },
         "name": "Theta",
         "nbinsx": 500,
         "offsetgroup": "Theta",
         "orientation": "v",
         "showlegend": true,
         "type": "histogram",
         "x": [
          0.07213975238881051,
          0.013286625983932992,
          0.03377826178813364,
          0.06585107808497644,
          0.16600480927479475,
          0.00878791374068519,
          0.000532889219237085,
          0.03234666021827802,
          0.03436673646129114,
          0.2639047071770461,
          0.0006065231994370233,
          0.11003032674350403,
          0.10745167743173205,
          0.014812179834476278,
          0.1791803776705383,
          0.0382034418608076,
          0.46443763854624986,
          0.021065618999973404,
          0.01016435610445424,
          0.0892558863764868,
          0.0003559923246881522,
          0.07869092919807177,
          0.02480263724928638,
          0.006520515771846177,
          0.058174541630990374,
          0.19546025788138008,
          0.012978985880488764,
          0.0003913853931633974,
          0.008130771972017751,
          0.07917628881430931,
          0.02432197534978162,
          0.3597012695267993,
          0.04995439239043173,
          0.08252626441390316,
          0.24002433650155267,
          0.008079627438121269,
          0.009579535423674703,
          0.00037032889299342184,
          0.02667113216581245,
          0.0005400215789685667,
          0.13936932290025017,
          0.06489334938879375,
          0.023834612969339544,
          0.6179254058414296,
          0.3782170009987819,
          0.10942131680663171,
          0.6461222420279048,
          0.006922409122887596,
          0.26649586836548533,
          0.00026128790817796097,
          0.03209872898046375,
          0.09420804831226183,
          0.002344221653361944,
          0.7149240906183678,
          0.01660011086807113,
          0.016664209495030335,
          0.007505369764710116,
          0.06950766382491853,
          0.23153275875590631,
          0.013547708130770922,
          0.08653871726607776,
          0.0681402022756923,
          0.019718785563498174,
          0.00028542353594502445,
          0.004675636179259268,
          0.2290577089729972,
          0.0015196813583021418,
          0.005507368592554825,
          0.563527525143696,
          0.14037267201248493,
          0.05484657541780324,
          0.21414689728260825,
          0.07206738873017662,
          0.047852040637235575,
          0.0031262281762452155,
          0.044309380819750936,
          0.13946453422012406,
          0.08757897273143521,
          0.07506814262006686,
          0.17358546006274503,
          0.007915983373469708,
          0.00028484338317947487,
          0.09958084150494083,
          0.015953540472449738,
          0.3245183192695422,
          0.03837001833386597,
          0.12675303395022236,
          0.21918799579114343,
          0.09898103888872573,
          0.10320100631009103,
          0.07347725226792191,
          0.020716331324672668,
          0.027165233692125472,
          0.03644554918074342,
          0.1752707397577607,
          0.05370927218355549,
          0.09149240304114575,
          0.15746212568242243,
          0.18606908583547926,
          0.4228202994572466,
          0.05695503430752331,
          0.014550999820641647,
          0.8507240698313713,
          0.07467554888211975,
          0.36189165703932874,
          2.379845424899454,
          0.0008609559184268159,
          0.6905900242352317,
          0.019738323644798165,
          0.1456159949874025,
          0.0055046190116429874,
          0.042353175283691584,
          0.02436054534899944,
          0.031203639927943342,
          0.05348885135980928,
          0.4386229737363069,
          0.12609426186027817,
          0.27317070418999945,
          0.033094204354700216,
          0.05357157390630032,
          0.05913417764707115,
          0.4616054470743707,
          0.034997214834585,
          0.025342317935507636,
          0.011640324860850473,
          0.05419659698003751,
          0.02443800280817751,
          0.06480408634246239,
          0.09390269507729204,
          0.05948825012530497,
          0.04668662262811329,
          0.1139265412481708,
          0.2522002117921595,
          0.014751463117076688,
          0.023281914224521708,
          0.0261951968372762,
          0.010289163488461145,
          0.10695530109534701,
          0.005199337771418201,
          0.05581656603841629,
          0.06307007130089723,
          0.11370795041049442,
          0.22974993142588515,
          0.07094434560244475,
          0.06803126546468465,
          0.03032010338934506,
          0.0374406297848864,
          0.044589584228925984,
          0.11725989668539859,
          0.0705915199306219,
          0.001737461709594567,
          0.00787971987534397,
          0.03917979578654327,
          0.026389720714436713,
          0.05990392957395052,
          0.01042772108142357,
          0.03224312755846644,
          0.0456247730451446,
          0.04377323479800729,
          0.6343301872171715,
          0.11750803014184125,
          0.019414013234345568,
          0.008331012526320427,
          0.3685577606394882,
          10.36329248697282,
          0.018844123220800535,
          0.020899961922804442,
          0.03504526260661925,
          0.06234714604603222,
          0.1651034755370078,
          0.042319263208136004,
          0.07580535480332928,
          0.04515206002808679,
          0.018296311100319745,
          0.02239953500856588,
          0.07975099134652881,
          0.0006263845632831211,
          0.06533454078244809,
          0.34737924771539364,
          0.0466144684529632,
          0.08363636232820154,
          0.2844385985266123,
          0.01907368361149501,
          0.05406503390669724,
          0.08773133406999217,
          1.1448750313812541,
          0.07161774974564326,
          0.27170165329108426,
          0.08667248413930079,
          0.0004985153871131115,
          0.06089614769763262,
          0.00602702528352666,
          0.06196510761247613,
          0.028939437417481693,
          0.13249012325640022,
          0.006389671246977004,
          0.14722299423337132,
          0.027308308694820604,
          0.001027449365283405,
          0.050405577832663404,
          0.01168831612083676,
          0.05505595257757348,
          0.27713222631387946,
          0.10030764333275156,
          0.02351025821596584,
          0.13865201303734503,
          0.010196330073435097,
          0.1625835663193474,
          0.04937655262018414,
          0.021235059167193877,
          0.08453579921938024,
          0.0473762065746657,
          0.10104369736010173,
          0.013318801378744291,
          0.029880168379212747,
          0.02601366297221739,
          0.00030391432891370266,
          0.14088794705480456,
          0.1263867639649025,
          0.0858617453586894,
          0.20194196487887,
          0.28383924995639614,
          0.04298887494107352,
          0.009154973678650263,
          0.11839261256571584,
          0.007064184568608292,
          0.004314262483412206,
          1.5264264698226064,
          0.13544542558428707,
          0.5110928362149051,
          0.04835393256347721,
          0.0335711781326681,
          0.007946500799118692,
          0.310394370224253,
          0.04450101590128111,
          0.1276264128641013,
          0.012557001395248192,
          0.6138037747785952,
          0.0069906493222658414,
          0.09215481866621107,
          0.5891744752915266,
          0.0033278499226205415,
          0.03002600754304213,
          0.10428708076874767,
          0.015757237032850046,
          0.06497257669301959,
          0.023402832469232974,
          0.12681733160903227,
          0.018140168280860933,
          0.031651982532946786,
          0.09458450288931851,
          0.29602223967805524,
          0.05899705341766403,
          0.0008714447330790508,
          0.05170668644808079,
          0.19012612941562554,
          0.10268937267056358,
          0.03342131972778741,
          0.02561406053177069,
          0.046925668823522525,
          0.004615956210265328,
          0.41860637219404695,
          0.053020646062691676,
          0.8485059455038884,
          0.4377738532875039,
          0.0585086252974671,
          0.22215497943273682,
          0.1475102929544307,
          0.06183726443770055,
          0.09108159226077252,
          0.29585167770944965,
          0.32499305096196907,
          0.00014734904772059423,
          0.07568264604189989,
          0.13745042458892162,
          0.0008905156077739991,
          0.05997415551532242,
          0.003712038441399806,
          0.09808981484999144,
          0.07618800449308467,
          0.11056927196035983,
          0.14047604383927975,
          0.0012185500114173034,
          0.051884340269647604,
          0.1310963898114015,
          0.05758875880243114,
          0.5497184570068733,
          0.13011650099417926,
          0.06210605921838185,
          0.0098565843311633,
          0.039170290031209136,
          0.022284355647082314,
          1.931771942683493,
          0.8606657944804771,
          0.02817708430510979,
          0.06958222685389287,
          0.06408006680151601,
          0.04813106367292911,
          0.10943690750593721,
          0.043101524777779204,
          0.20453779424637844,
          0.7730202972665047,
          0.07064703629423412,
          0.07738668950883969,
          0.030919039095353602,
          0.031246429977446154,
          0.05357411496483693,
          0.1339160864750841,
          0.1565457798728017,
          1.4606929305500789,
          9.103011578958227e-05,
          0.02092348029813857,
          0.24104914630757138,
          0.018870345544701957,
          0.05543111224495689,
          0.00012604643480878142,
          0.016094244562101317,
          0.397023371425659,
          0.019451695997409046,
          0.8538215957255959,
          0.09421161489220604,
          0.27725257826218186,
          0.2579029048607993,
          0.046382076617605655,
          0.9867562256525175,
          0.01709917393708857,
          0.00045974414253698655,
          0.0313648599594779,
          0.10031791328114753,
          0.16660087444167676,
          0.08758133733354537,
          0.13247219191750073,
          0.018623633217515125,
          0.35609279598201443,
          0.007091992578933055,
          0.024029587771467412,
          0.34262618967425207,
          0.020710574348777308,
          0.06394544322752957,
          0.13602032078846502,
          0.12657878489820473,
          0.029635190271125343,
          0.15650815803873902,
          0.056936513655066814,
          0.27801232807290505,
          0.5674339696736622,
          0.027041216014144998,
          0.020710075672871288,
          0.20130690419564962,
          0.10301960902078235,
          0.07800387683954378,
          0.19053210577855867,
          0.3135319024341812,
          0.11194851713807395,
          0.0011881719810580864,
          0.03868896316820862,
          0.014976743323148483,
          0.016620225084155928,
          0.0016420772398142063,
          0.032295069371787145,
          0.32517943587176346,
          0.00014137121353405925,
          0.01761169829242301,
          0.024047816995571448,
          0.0007978036825935926,
          0.03249806450427481,
          0.03076914948420366,
          0.020492381484554737,
          0.14363099843019467,
          0.12882855781344602,
          0.002648553028475986,
          0.0879007628568242,
          0.046493340487357405,
          0.009152784372167022,
          0.06240304336717321,
          0.21738401237468327,
          0.010294984956994924,
          0.005453331652561374,
          0.04603502793503759,
          0.09510243962774381,
          0.0005690460409631972,
          0.030186326386840864,
          0.0039691583394555995,
          0.07512182217745719,
          0.020838143851117243,
          0.4083841192191113,
          0.06420740545666721,
          0.4065460885274736,
          0.023929589518782175,
          1.8931053842977408,
          0.13439790019443912,
          0.030954455169202134,
          0.011737230171107957,
          0.06366566883328292,
          0.012045116411620125,
          0.00024566376636241626,
          0.04699459045283123,
          0.14893087349188,
          0.10412013206433393
         ],
         "xaxis": "x",
         "yaxis": "y"
        },
        {
         "alignmentgroup": "True",
         "hovertemplate": "Algorithm=Theta<br>MSE=%{x}<extra></extra>",
         "legendgroup": "Theta",
         "marker": {
          "color": "#636efa"
         },
         "name": "Theta",
         "notched": true,
         "offsetgroup": "Theta",
         "showlegend": false,
         "type": "box",
         "x": [
          0.07213975238881051,
          0.013286625983932992,
          0.03377826178813364,
          0.06585107808497644,
          0.16600480927479475,
          0.00878791374068519,
          0.000532889219237085,
          0.03234666021827802,
          0.03436673646129114,
          0.2639047071770461,
          0.0006065231994370233,
          0.11003032674350403,
          0.10745167743173205,
          0.014812179834476278,
          0.1791803776705383,
          0.0382034418608076,
          0.46443763854624986,
          0.021065618999973404,
          0.01016435610445424,
          0.0892558863764868,
          0.0003559923246881522,
          0.07869092919807177,
          0.02480263724928638,
          0.006520515771846177,
          0.058174541630990374,
          0.19546025788138008,
          0.012978985880488764,
          0.0003913853931633974,
          0.008130771972017751,
          0.07917628881430931,
          0.02432197534978162,
          0.3597012695267993,
          0.04995439239043173,
          0.08252626441390316,
          0.24002433650155267,
          0.008079627438121269,
          0.009579535423674703,
          0.00037032889299342184,
          0.02667113216581245,
          0.0005400215789685667,
          0.13936932290025017,
          0.06489334938879375,
          0.023834612969339544,
          0.6179254058414296,
          0.3782170009987819,
          0.10942131680663171,
          0.6461222420279048,
          0.006922409122887596,
          0.26649586836548533,
          0.00026128790817796097,
          0.03209872898046375,
          0.09420804831226183,
          0.002344221653361944,
          0.7149240906183678,
          0.01660011086807113,
          0.016664209495030335,
          0.007505369764710116,
          0.06950766382491853,
          0.23153275875590631,
          0.013547708130770922,
          0.08653871726607776,
          0.0681402022756923,
          0.019718785563498174,
          0.00028542353594502445,
          0.004675636179259268,
          0.2290577089729972,
          0.0015196813583021418,
          0.005507368592554825,
          0.563527525143696,
          0.14037267201248493,
          0.05484657541780324,
          0.21414689728260825,
          0.07206738873017662,
          0.047852040637235575,
          0.0031262281762452155,
          0.044309380819750936,
          0.13946453422012406,
          0.08757897273143521,
          0.07506814262006686,
          0.17358546006274503,
          0.007915983373469708,
          0.00028484338317947487,
          0.09958084150494083,
          0.015953540472449738,
          0.3245183192695422,
          0.03837001833386597,
          0.12675303395022236,
          0.21918799579114343,
          0.09898103888872573,
          0.10320100631009103,
          0.07347725226792191,
          0.020716331324672668,
          0.027165233692125472,
          0.03644554918074342,
          0.1752707397577607,
          0.05370927218355549,
          0.09149240304114575,
          0.15746212568242243,
          0.18606908583547926,
          0.4228202994572466,
          0.05695503430752331,
          0.014550999820641647,
          0.8507240698313713,
          0.07467554888211975,
          0.36189165703932874,
          2.379845424899454,
          0.0008609559184268159,
          0.6905900242352317,
          0.019738323644798165,
          0.1456159949874025,
          0.0055046190116429874,
          0.042353175283691584,
          0.02436054534899944,
          0.031203639927943342,
          0.05348885135980928,
          0.4386229737363069,
          0.12609426186027817,
          0.27317070418999945,
          0.033094204354700216,
          0.05357157390630032,
          0.05913417764707115,
          0.4616054470743707,
          0.034997214834585,
          0.025342317935507636,
          0.011640324860850473,
          0.05419659698003751,
          0.02443800280817751,
          0.06480408634246239,
          0.09390269507729204,
          0.05948825012530497,
          0.04668662262811329,
          0.1139265412481708,
          0.2522002117921595,
          0.014751463117076688,
          0.023281914224521708,
          0.0261951968372762,
          0.010289163488461145,
          0.10695530109534701,
          0.005199337771418201,
          0.05581656603841629,
          0.06307007130089723,
          0.11370795041049442,
          0.22974993142588515,
          0.07094434560244475,
          0.06803126546468465,
          0.03032010338934506,
          0.0374406297848864,
          0.044589584228925984,
          0.11725989668539859,
          0.0705915199306219,
          0.001737461709594567,
          0.00787971987534397,
          0.03917979578654327,
          0.026389720714436713,
          0.05990392957395052,
          0.01042772108142357,
          0.03224312755846644,
          0.0456247730451446,
          0.04377323479800729,
          0.6343301872171715,
          0.11750803014184125,
          0.019414013234345568,
          0.008331012526320427,
          0.3685577606394882,
          10.36329248697282,
          0.018844123220800535,
          0.020899961922804442,
          0.03504526260661925,
          0.06234714604603222,
          0.1651034755370078,
          0.042319263208136004,
          0.07580535480332928,
          0.04515206002808679,
          0.018296311100319745,
          0.02239953500856588,
          0.07975099134652881,
          0.0006263845632831211,
          0.06533454078244809,
          0.34737924771539364,
          0.0466144684529632,
          0.08363636232820154,
          0.2844385985266123,
          0.01907368361149501,
          0.05406503390669724,
          0.08773133406999217,
          1.1448750313812541,
          0.07161774974564326,
          0.27170165329108426,
          0.08667248413930079,
          0.0004985153871131115,
          0.06089614769763262,
          0.00602702528352666,
          0.06196510761247613,
          0.028939437417481693,
          0.13249012325640022,
          0.006389671246977004,
          0.14722299423337132,
          0.027308308694820604,
          0.001027449365283405,
          0.050405577832663404,
          0.01168831612083676,
          0.05505595257757348,
          0.27713222631387946,
          0.10030764333275156,
          0.02351025821596584,
          0.13865201303734503,
          0.010196330073435097,
          0.1625835663193474,
          0.04937655262018414,
          0.021235059167193877,
          0.08453579921938024,
          0.0473762065746657,
          0.10104369736010173,
          0.013318801378744291,
          0.029880168379212747,
          0.02601366297221739,
          0.00030391432891370266,
          0.14088794705480456,
          0.1263867639649025,
          0.0858617453586894,
          0.20194196487887,
          0.28383924995639614,
          0.04298887494107352,
          0.009154973678650263,
          0.11839261256571584,
          0.007064184568608292,
          0.004314262483412206,
          1.5264264698226064,
          0.13544542558428707,
          0.5110928362149051,
          0.04835393256347721,
          0.0335711781326681,
          0.007946500799118692,
          0.310394370224253,
          0.04450101590128111,
          0.1276264128641013,
          0.012557001395248192,
          0.6138037747785952,
          0.0069906493222658414,
          0.09215481866621107,
          0.5891744752915266,
          0.0033278499226205415,
          0.03002600754304213,
          0.10428708076874767,
          0.015757237032850046,
          0.06497257669301959,
          0.023402832469232974,
          0.12681733160903227,
          0.018140168280860933,
          0.031651982532946786,
          0.09458450288931851,
          0.29602223967805524,
          0.05899705341766403,
          0.0008714447330790508,
          0.05170668644808079,
          0.19012612941562554,
          0.10268937267056358,
          0.03342131972778741,
          0.02561406053177069,
          0.046925668823522525,
          0.004615956210265328,
          0.41860637219404695,
          0.053020646062691676,
          0.8485059455038884,
          0.4377738532875039,
          0.0585086252974671,
          0.22215497943273682,
          0.1475102929544307,
          0.06183726443770055,
          0.09108159226077252,
          0.29585167770944965,
          0.32499305096196907,
          0.00014734904772059423,
          0.07568264604189989,
          0.13745042458892162,
          0.0008905156077739991,
          0.05997415551532242,
          0.003712038441399806,
          0.09808981484999144,
          0.07618800449308467,
          0.11056927196035983,
          0.14047604383927975,
          0.0012185500114173034,
          0.051884340269647604,
          0.1310963898114015,
          0.05758875880243114,
          0.5497184570068733,
          0.13011650099417926,
          0.06210605921838185,
          0.0098565843311633,
          0.039170290031209136,
          0.022284355647082314,
          1.931771942683493,
          0.8606657944804771,
          0.02817708430510979,
          0.06958222685389287,
          0.06408006680151601,
          0.04813106367292911,
          0.10943690750593721,
          0.043101524777779204,
          0.20453779424637844,
          0.7730202972665047,
          0.07064703629423412,
          0.07738668950883969,
          0.030919039095353602,
          0.031246429977446154,
          0.05357411496483693,
          0.1339160864750841,
          0.1565457798728017,
          1.4606929305500789,
          9.103011578958227e-05,
          0.02092348029813857,
          0.24104914630757138,
          0.018870345544701957,
          0.05543111224495689,
          0.00012604643480878142,
          0.016094244562101317,
          0.397023371425659,
          0.019451695997409046,
          0.8538215957255959,
          0.09421161489220604,
          0.27725257826218186,
          0.2579029048607993,
          0.046382076617605655,
          0.9867562256525175,
          0.01709917393708857,
          0.00045974414253698655,
          0.0313648599594779,
          0.10031791328114753,
          0.16660087444167676,
          0.08758133733354537,
          0.13247219191750073,
          0.018623633217515125,
          0.35609279598201443,
          0.007091992578933055,
          0.024029587771467412,
          0.34262618967425207,
          0.020710574348777308,
          0.06394544322752957,
          0.13602032078846502,
          0.12657878489820473,
          0.029635190271125343,
          0.15650815803873902,
          0.056936513655066814,
          0.27801232807290505,
          0.5674339696736622,
          0.027041216014144998,
          0.020710075672871288,
          0.20130690419564962,
          0.10301960902078235,
          0.07800387683954378,
          0.19053210577855867,
          0.3135319024341812,
          0.11194851713807395,
          0.0011881719810580864,
          0.03868896316820862,
          0.014976743323148483,
          0.016620225084155928,
          0.0016420772398142063,
          0.032295069371787145,
          0.32517943587176346,
          0.00014137121353405925,
          0.01761169829242301,
          0.024047816995571448,
          0.0007978036825935926,
          0.03249806450427481,
          0.03076914948420366,
          0.020492381484554737,
          0.14363099843019467,
          0.12882855781344602,
          0.002648553028475986,
          0.0879007628568242,
          0.046493340487357405,
          0.009152784372167022,
          0.06240304336717321,
          0.21738401237468327,
          0.010294984956994924,
          0.005453331652561374,
          0.04603502793503759,
          0.09510243962774381,
          0.0005690460409631972,
          0.030186326386840864,
          0.0039691583394555995,
          0.07512182217745719,
          0.020838143851117243,
          0.4083841192191113,
          0.06420740545666721,
          0.4065460885274736,
          0.023929589518782175,
          1.8931053842977408,
          0.13439790019443912,
          0.030954455169202134,
          0.011737230171107957,
          0.06366566883328292,
          0.012045116411620125,
          0.00024566376636241626,
          0.04699459045283123,
          0.14893087349188,
          0.10412013206433393
         ],
         "xaxis": "x2",
         "yaxis": "y2"
        },
        {
         "alignmentgroup": "True",
         "bingroup": "x",
         "histnorm": "probability density",
         "hovertemplate": "Algorithm=FFT<br>MSE=%{x}<br>probability density=%{y}<extra></extra>",
         "legendgroup": "FFT",
         "marker": {
          "color": "#EF553B",
          "opacity": 0.5,
          "pattern": {
           "shape": "/"
          }
         },
         "name": "FFT",
         "nbinsx": 500,
         "offsetgroup": "FFT",
         "orientation": "v",
         "showlegend": true,
         "type": "histogram",
         "x": [
          0.07138175007847052,
          0.014239127609623111,
          0.019560642996311266,
          0.07587718302347168,
          0.18425902113189827,
          0.03840428862384578,
          0.0017694513152054368,
          0.030450894450106663,
          0.01867942307303836,
          0.13926437622666174,
          0.010834013944386735,
          0.08278682542973541,
          0.09672161616818205,
          0.01507528754937465,
          0.13692523928421926,
          0.0405035947110068,
          0.1651322222204258,
          0.023531515047597568,
          0.010661040288332023,
          0.09703332239510093,
          0.005425836397158312,
          0.04633902685906458,
          0.024589129213467342,
          0.015465526599680727,
          0.05029530954346334,
          0.2355963181627145,
          0.041441047737772796,
          0.0011336014950019254,
          0.006745103782241969,
          0.03355912589701102,
          0.02271458655161392,
          0.36601450259530743,
          0.008568878425490352,
          0.054630841628511825,
          0.43417405933763936,
          0.008128609360510753,
          0.0036945378383473827,
          0.0010035582574718063,
          0.029413979633602136,
          0.006152418833682644,
          0.1461888978561215,
          0.05160865340381518,
          0.02380981268702858,
          0.6701831640624336,
          0.17783428113470526,
          0.06376858461402102,
          0.13798761973077148,
          0.007174570864410618,
          0.2145286447215719,
          0.003433255768292578,
          0.02913955715639962,
          0.059023425591029625,
          0.0023303059996253855,
          0.5727855082959394,
          0.01937884924000814,
          0.01795244446298004,
          0.007740345114009315,
          0.0595521391227504,
          0.15120178555700453,
          0.01238282687719098,
          0.10615238965281726,
          0.09030832074964601,
          0.015357069758877863,
          0.002075562671154749,
          0.014592570821305804,
          0.20147460270864861,
          0.001623452977047031,
          0.006310472787944845,
          1.7871473152828479,
          0.12745922219228376,
          0.03252484986347279,
          0.10749416980238445,
          0.05743520624391977,
          0.03640159757458989,
          0.007431625534410797,
          0.04665805295896314,
          0.19910226706181738,
          0.06608912824947766,
          0.036167952781334715,
          0.12361818809004994,
          0.008971306724488988,
          0.0048839838583076235,
          0.05597590333647526,
          0.030968793440150445,
          0.32917997314708386,
          0.03180625797515462,
          0.03608483574458211,
          0.23588185311782775,
          0.04357117569370477,
          0.11001831098706708,
          0.0460430069056983,
          0.015627368451646646,
          0.02954760426075179,
          0.017219322847800627,
          1.0046009230483433,
          0.05804149822907364,
          0.09492275052277938,
          0.16333367423709033,
          0.06567501630411827,
          0.05140561227633269,
          0.062412383545690446,
          0.029732876912351082,
          0.565761164988878,
          0.07179520960927395,
          0.0454029392182382,
          0.25664920691121745,
          0.010556688104341088,
          0.15234212391296897,
          0.0167301832209396,
          0.15496367542554368,
          0.0031622649736998305,
          0.047321112521337395,
          0.020555591507164836,
          0.0380020690596422,
          0.05754308001930389,
          0.38145110312808234,
          0.10841999664948034,
          0.165503928317392,
          0.007766575400270992,
          0.06075672003463555,
          0.0632539333911365,
          0.4683064593918414,
          0.025962521891967995,
          0.027675478126149247,
          0.1651386484739199,
          0.06932700243936507,
          0.026777036990843738,
          0.061313747297628424,
          0.09777951577492694,
          0.4795048304636593,
          0.05434743442935099,
          0.1317207822679218,
          0.08673202427864904,
          0.02340819937295385,
          0.02241249061961044,
          0.026583818864489645,
          0.009768867405660098,
          0.10286944424216642,
          0.01700245899178257,
          0.07431361807625693,
          0.14588530446327724,
          0.07867553757940822,
          0.1418460508036308,
          0.07347911178304328,
          0.07298980317855543,
          0.0322076004301982,
          0.037604033403945726,
          0.03946685056938871,
          0.07199140824370254,
          0.06955127439662956,
          0.04823598990909764,
          0.007984326555325527,
          0.03811100676706424,
          0.031499830390602834,
          0.06398919364435272,
          0.013332076301665179,
          0.03400634331936722,
          0.03167343930574143,
          0.03223259908771495,
          0.34494996507223996,
          0.07157974498736779,
          0.046079754838764676,
          0.05099773619917142,
          0.3201789766296009,
          1.0577214082597994,
          0.017669669692878358,
          0.02253185717702511,
          0.03441459030844303,
          0.059612911247884266,
          0.2060927371705723,
          0.038954524246733,
          0.062189620954382636,
          0.09613478318824914,
          0.021697918856706525,
          0.01958844666239389,
          0.22924106955381993,
          0.000990183895010761,
          0.06757215135200637,
          0.29947633631550263,
          0.040481232401111907,
          0.08267908261828404,
          0.12151600530541776,
          0.019375580481747465,
          0.07872793201699027,
          0.05007583871842177,
          0.5727562880910122,
          0.07436967302031444,
          0.21818676336502907,
          0.07941876575953981,
          0.015209392052130344,
          0.040794486706671185,
          0.0059149188854531595,
          0.0622167205174234,
          0.029639015412919106,
          0.02909431320245072,
          0.00717098983956447,
          0.13382780054114699,
          0.0351854824996931,
          0.029141508497408375,
          0.09326748704616822,
          0.012737167011585893,
          0.060981179612148925,
          0.5336786178747557,
          0.07514814944972353,
          0.020647205985408177,
          0.1101219824430222,
          0.03403094733471026,
          0.11324466775270978,
          0.055232840834846336,
          0.02341849405181968,
          0.04413670788753731,
          0.04148132569181819,
          0.05101341330737629,
          0.013997523233079035,
          0.034655839846600624,
          0.023179984846428626,
          0.015567597664551187,
          0.14937731249918765,
          0.07418911794484843,
          0.07286272534960887,
          0.17539252005824751,
          0.0933586579774531,
          0.015410318765232392,
          0.009157419533488285,
          0.03674505891553225,
          0.034911168433908624,
          0.005161503297861497,
          0.24488428519530123,
          0.015787286406719756,
          0.12460966758720317,
          0.04879851692899167,
          0.01106350970991292,
          1.422561897553716,
          0.1224401504799359,
          0.028727828695805174,
          0.24004203444922848,
          0.008778477507390222,
          0.13539093930639562,
          0.006998992672015891,
          0.23453930921108868,
          0.37496595927606363,
          0.0058465172351721975,
          0.03402314818264731,
          0.055917145478856366,
          0.008921246882093949,
          0.012469792810503609,
          0.023338498481220802,
          0.0821362938502028,
          0.0203347936782043,
          0.034190778127501514,
          0.07459557639866783,
          0.10726785335247561,
          0.05163051567905291,
          0.004060410272873558,
          0.04148087380701274,
          0.24461143140396222,
          0.14014794108005554,
          0.022767604518049347,
          0.011500661862229965,
          0.022513538540133774,
          0.017011756777891313,
          0.1767962473063061,
          0.04452977055568802,
          0.3428178263963846,
          0.24314848327862265,
          0.14689737902039168,
          0.13629806361825578,
          0.15400027173609573,
          0.04314108686668501,
          0.08221749168301061,
          0.23979283686026673,
          0.13326467390612465,
          0.0030843132288106206,
          0.0988757644695599,
          0.3790343834307893,
          0.004477760700611079,
          0.06309318857923168,
          0.0058533412547317806,
          0.10247090519158861,
          0.07870763040726667,
          0.08137915125011085,
          0.029954905066522656,
          0.05694676980264035,
          0.056271225347239245,
          0.0853061314764775,
          0.062420990074510824,
          0.16685751511521385,
          0.1326928818573461,
          0.04670304360574656,
          0.010273621304088657,
          0.056173875421891624,
          0.02595385168268065,
          0.40435950256188685,
          0.23350109549417816,
          0.01820647152125126,
          0.053635906183300476,
          0.053868052369517215,
          0.03574814579256387,
          0.12223580865222768,
          0.05265367735330893,
          0.21829766358266603,
          0.06599396394191305,
          0.015326426944336653,
          0.12373704754199773,
          0.026090213986364578,
          0.05901754729298267,
          0.05352701748603113,
          0.03210366288507867,
          0.1694476130614996,
          0.7363818035791749,
          0.0006216938602659144,
          0.019276414434477796,
          0.2799510125916813,
          0.01267349528044136,
          0.032284127961761305,
          0.003528933458610191,
          0.002698233944894988,
          0.3264631729616135,
          0.02018982818352701,
          0.8833781284035488,
          0.11057289548090239,
          0.09587975671324935,
          0.21169916317198909,
          0.049512391081637665,
          0.6448989677355145,
          0.017575517581863983,
          0.014801638582800251,
          0.035480499778040644,
          0.10084240159720156,
          0.154071006402014,
          0.10149545334134288,
          0.10191762720232675,
          0.00974819484375517,
          0.1013457770256454,
          0.006000323615972333,
          0.018921837821672966,
          0.3441082018809117,
          0.021850924495679998,
          0.07092259256249599,
          0.08650196694195042,
          0.019386083652039615,
          0.029116343712619897,
          0.1352106661779111,
          0.07156741770378448,
          0.07414264661857901,
          0.10410755906577303,
          0.025980126525810807,
          0.0028586348711013465,
          0.06540058595932688,
          0.03217138182283472,
          0.09029837201996847,
          0.14424189181619115,
          0.7906751850608923,
          0.08443579920548805,
          0.0061060799492807525,
          0.04346188632125557,
          0.014966745595191053,
          0.017874437566843232,
          0.05924968077537903,
          0.041909256465135415,
          0.11076752557989586,
          0.0027693531180123278,
          0.007576382176770447,
          0.020119929278533837,
          0.0007599236142165814,
          0.03431382104429797,
          0.02697206662027218,
          0.016531573232349068,
          0.028536857873630833,
          0.07757543414140146,
          0.0022415961935465687,
          0.08599945116056221,
          0.03279975154656651,
          0.008861468537360348,
          0.04273313081440597,
          0.055691695262283576,
          0.010006948759142018,
          0.021968431554416416,
          0.04537047772388867,
          0.06251764887674252,
          0.002092314773936987,
          0.028081177211488884,
          0.0028493675150085313,
          0.06681678281186419,
          0.02263158503595575,
          0.0551373516546229,
          0.07119597402926438,
          0.13648218223531086,
          0.17587473947834337,
          0.7348054841794697,
          0.09368782239486918,
          0.031278685089087335,
          0.009408769623901376,
          0.06284742497556811,
          0.008160361591168935,
          0.003948400749841932,
          0.050568907024202324,
          0.04090834596578548,
          0.05064773792716021
         ],
         "xaxis": "x",
         "yaxis": "y"
        },
        {
         "alignmentgroup": "True",
         "hovertemplate": "Algorithm=FFT<br>MSE=%{x}<extra></extra>",
         "legendgroup": "FFT",
         "marker": {
          "color": "#EF553B"
         },
         "name": "FFT",
         "notched": true,
         "offsetgroup": "FFT",
         "showlegend": false,
         "type": "box",
         "x": [
          0.07138175007847052,
          0.014239127609623111,
          0.019560642996311266,
          0.07587718302347168,
          0.18425902113189827,
          0.03840428862384578,
          0.0017694513152054368,
          0.030450894450106663,
          0.01867942307303836,
          0.13926437622666174,
          0.010834013944386735,
          0.08278682542973541,
          0.09672161616818205,
          0.01507528754937465,
          0.13692523928421926,
          0.0405035947110068,
          0.1651322222204258,
          0.023531515047597568,
          0.010661040288332023,
          0.09703332239510093,
          0.005425836397158312,
          0.04633902685906458,
          0.024589129213467342,
          0.015465526599680727,
          0.05029530954346334,
          0.2355963181627145,
          0.041441047737772796,
          0.0011336014950019254,
          0.006745103782241969,
          0.03355912589701102,
          0.02271458655161392,
          0.36601450259530743,
          0.008568878425490352,
          0.054630841628511825,
          0.43417405933763936,
          0.008128609360510753,
          0.0036945378383473827,
          0.0010035582574718063,
          0.029413979633602136,
          0.006152418833682644,
          0.1461888978561215,
          0.05160865340381518,
          0.02380981268702858,
          0.6701831640624336,
          0.17783428113470526,
          0.06376858461402102,
          0.13798761973077148,
          0.007174570864410618,
          0.2145286447215719,
          0.003433255768292578,
          0.02913955715639962,
          0.059023425591029625,
          0.0023303059996253855,
          0.5727855082959394,
          0.01937884924000814,
          0.01795244446298004,
          0.007740345114009315,
          0.0595521391227504,
          0.15120178555700453,
          0.01238282687719098,
          0.10615238965281726,
          0.09030832074964601,
          0.015357069758877863,
          0.002075562671154749,
          0.014592570821305804,
          0.20147460270864861,
          0.001623452977047031,
          0.006310472787944845,
          1.7871473152828479,
          0.12745922219228376,
          0.03252484986347279,
          0.10749416980238445,
          0.05743520624391977,
          0.03640159757458989,
          0.007431625534410797,
          0.04665805295896314,
          0.19910226706181738,
          0.06608912824947766,
          0.036167952781334715,
          0.12361818809004994,
          0.008971306724488988,
          0.0048839838583076235,
          0.05597590333647526,
          0.030968793440150445,
          0.32917997314708386,
          0.03180625797515462,
          0.03608483574458211,
          0.23588185311782775,
          0.04357117569370477,
          0.11001831098706708,
          0.0460430069056983,
          0.015627368451646646,
          0.02954760426075179,
          0.017219322847800627,
          1.0046009230483433,
          0.05804149822907364,
          0.09492275052277938,
          0.16333367423709033,
          0.06567501630411827,
          0.05140561227633269,
          0.062412383545690446,
          0.029732876912351082,
          0.565761164988878,
          0.07179520960927395,
          0.0454029392182382,
          0.25664920691121745,
          0.010556688104341088,
          0.15234212391296897,
          0.0167301832209396,
          0.15496367542554368,
          0.0031622649736998305,
          0.047321112521337395,
          0.020555591507164836,
          0.0380020690596422,
          0.05754308001930389,
          0.38145110312808234,
          0.10841999664948034,
          0.165503928317392,
          0.007766575400270992,
          0.06075672003463555,
          0.0632539333911365,
          0.4683064593918414,
          0.025962521891967995,
          0.027675478126149247,
          0.1651386484739199,
          0.06932700243936507,
          0.026777036990843738,
          0.061313747297628424,
          0.09777951577492694,
          0.4795048304636593,
          0.05434743442935099,
          0.1317207822679218,
          0.08673202427864904,
          0.02340819937295385,
          0.02241249061961044,
          0.026583818864489645,
          0.009768867405660098,
          0.10286944424216642,
          0.01700245899178257,
          0.07431361807625693,
          0.14588530446327724,
          0.07867553757940822,
          0.1418460508036308,
          0.07347911178304328,
          0.07298980317855543,
          0.0322076004301982,
          0.037604033403945726,
          0.03946685056938871,
          0.07199140824370254,
          0.06955127439662956,
          0.04823598990909764,
          0.007984326555325527,
          0.03811100676706424,
          0.031499830390602834,
          0.06398919364435272,
          0.013332076301665179,
          0.03400634331936722,
          0.03167343930574143,
          0.03223259908771495,
          0.34494996507223996,
          0.07157974498736779,
          0.046079754838764676,
          0.05099773619917142,
          0.3201789766296009,
          1.0577214082597994,
          0.017669669692878358,
          0.02253185717702511,
          0.03441459030844303,
          0.059612911247884266,
          0.2060927371705723,
          0.038954524246733,
          0.062189620954382636,
          0.09613478318824914,
          0.021697918856706525,
          0.01958844666239389,
          0.22924106955381993,
          0.000990183895010761,
          0.06757215135200637,
          0.29947633631550263,
          0.040481232401111907,
          0.08267908261828404,
          0.12151600530541776,
          0.019375580481747465,
          0.07872793201699027,
          0.05007583871842177,
          0.5727562880910122,
          0.07436967302031444,
          0.21818676336502907,
          0.07941876575953981,
          0.015209392052130344,
          0.040794486706671185,
          0.0059149188854531595,
          0.0622167205174234,
          0.029639015412919106,
          0.02909431320245072,
          0.00717098983956447,
          0.13382780054114699,
          0.0351854824996931,
          0.029141508497408375,
          0.09326748704616822,
          0.012737167011585893,
          0.060981179612148925,
          0.5336786178747557,
          0.07514814944972353,
          0.020647205985408177,
          0.1101219824430222,
          0.03403094733471026,
          0.11324466775270978,
          0.055232840834846336,
          0.02341849405181968,
          0.04413670788753731,
          0.04148132569181819,
          0.05101341330737629,
          0.013997523233079035,
          0.034655839846600624,
          0.023179984846428626,
          0.015567597664551187,
          0.14937731249918765,
          0.07418911794484843,
          0.07286272534960887,
          0.17539252005824751,
          0.0933586579774531,
          0.015410318765232392,
          0.009157419533488285,
          0.03674505891553225,
          0.034911168433908624,
          0.005161503297861497,
          0.24488428519530123,
          0.015787286406719756,
          0.12460966758720317,
          0.04879851692899167,
          0.01106350970991292,
          1.422561897553716,
          0.1224401504799359,
          0.028727828695805174,
          0.24004203444922848,
          0.008778477507390222,
          0.13539093930639562,
          0.006998992672015891,
          0.23453930921108868,
          0.37496595927606363,
          0.0058465172351721975,
          0.03402314818264731,
          0.055917145478856366,
          0.008921246882093949,
          0.012469792810503609,
          0.023338498481220802,
          0.0821362938502028,
          0.0203347936782043,
          0.034190778127501514,
          0.07459557639866783,
          0.10726785335247561,
          0.05163051567905291,
          0.004060410272873558,
          0.04148087380701274,
          0.24461143140396222,
          0.14014794108005554,
          0.022767604518049347,
          0.011500661862229965,
          0.022513538540133774,
          0.017011756777891313,
          0.1767962473063061,
          0.04452977055568802,
          0.3428178263963846,
          0.24314848327862265,
          0.14689737902039168,
          0.13629806361825578,
          0.15400027173609573,
          0.04314108686668501,
          0.08221749168301061,
          0.23979283686026673,
          0.13326467390612465,
          0.0030843132288106206,
          0.0988757644695599,
          0.3790343834307893,
          0.004477760700611079,
          0.06309318857923168,
          0.0058533412547317806,
          0.10247090519158861,
          0.07870763040726667,
          0.08137915125011085,
          0.029954905066522656,
          0.05694676980264035,
          0.056271225347239245,
          0.0853061314764775,
          0.062420990074510824,
          0.16685751511521385,
          0.1326928818573461,
          0.04670304360574656,
          0.010273621304088657,
          0.056173875421891624,
          0.02595385168268065,
          0.40435950256188685,
          0.23350109549417816,
          0.01820647152125126,
          0.053635906183300476,
          0.053868052369517215,
          0.03574814579256387,
          0.12223580865222768,
          0.05265367735330893,
          0.21829766358266603,
          0.06599396394191305,
          0.015326426944336653,
          0.12373704754199773,
          0.026090213986364578,
          0.05901754729298267,
          0.05352701748603113,
          0.03210366288507867,
          0.1694476130614996,
          0.7363818035791749,
          0.0006216938602659144,
          0.019276414434477796,
          0.2799510125916813,
          0.01267349528044136,
          0.032284127961761305,
          0.003528933458610191,
          0.002698233944894988,
          0.3264631729616135,
          0.02018982818352701,
          0.8833781284035488,
          0.11057289548090239,
          0.09587975671324935,
          0.21169916317198909,
          0.049512391081637665,
          0.6448989677355145,
          0.017575517581863983,
          0.014801638582800251,
          0.035480499778040644,
          0.10084240159720156,
          0.154071006402014,
          0.10149545334134288,
          0.10191762720232675,
          0.00974819484375517,
          0.1013457770256454,
          0.006000323615972333,
          0.018921837821672966,
          0.3441082018809117,
          0.021850924495679998,
          0.07092259256249599,
          0.08650196694195042,
          0.019386083652039615,
          0.029116343712619897,
          0.1352106661779111,
          0.07156741770378448,
          0.07414264661857901,
          0.10410755906577303,
          0.025980126525810807,
          0.0028586348711013465,
          0.06540058595932688,
          0.03217138182283472,
          0.09029837201996847,
          0.14424189181619115,
          0.7906751850608923,
          0.08443579920548805,
          0.0061060799492807525,
          0.04346188632125557,
          0.014966745595191053,
          0.017874437566843232,
          0.05924968077537903,
          0.041909256465135415,
          0.11076752557989586,
          0.0027693531180123278,
          0.007576382176770447,
          0.020119929278533837,
          0.0007599236142165814,
          0.03431382104429797,
          0.02697206662027218,
          0.016531573232349068,
          0.028536857873630833,
          0.07757543414140146,
          0.0022415961935465687,
          0.08599945116056221,
          0.03279975154656651,
          0.008861468537360348,
          0.04273313081440597,
          0.055691695262283576,
          0.010006948759142018,
          0.021968431554416416,
          0.04537047772388867,
          0.06251764887674252,
          0.002092314773936987,
          0.028081177211488884,
          0.0028493675150085313,
          0.06681678281186419,
          0.02263158503595575,
          0.0551373516546229,
          0.07119597402926438,
          0.13648218223531086,
          0.17587473947834337,
          0.7348054841794697,
          0.09368782239486918,
          0.031278685089087335,
          0.009408769623901376,
          0.06284742497556811,
          0.008160361591168935,
          0.003948400749841932,
          0.050568907024202324,
          0.04090834596578548,
          0.05064773792716021
         ],
         "xaxis": "x2",
         "yaxis": "y2"
        }
       ],
       "layout": {
        "autosize": false,
        "barmode": "overlay",
        "height": 500,
        "legend": {
         "title": {},
         "tracegroupgap": 0
        },
        "margin": {
         "t": 60
        },
        "template": {
         "data": {
          "bar": [
           {
            "error_x": {
             "color": "#2a3f5f"
            },
            "error_y": {
             "color": "#2a3f5f"
            },
            "marker": {
             "line": {
              "color": "white",
              "width": 0.5
             },
             "pattern": {
              "fillmode": "overlay",
              "size": 10,
              "solidity": 0.2
             }
            },
            "type": "bar"
           }
          ],
          "barpolar": [
           {
            "marker": {
             "line": {
              "color": "white",
              "width": 0.5
             },
             "pattern": {
              "fillmode": "overlay",
              "size": 10,
              "solidity": 0.2
             }
            },
            "type": "barpolar"
           }
          ],
          "carpet": [
           {
            "aaxis": {
             "endlinecolor": "#2a3f5f",
             "gridcolor": "#C8D4E3",
             "linecolor": "#C8D4E3",
             "minorgridcolor": "#C8D4E3",
             "startlinecolor": "#2a3f5f"
            },
            "baxis": {
             "endlinecolor": "#2a3f5f",
             "gridcolor": "#C8D4E3",
             "linecolor": "#C8D4E3",
             "minorgridcolor": "#C8D4E3",
             "startlinecolor": "#2a3f5f"
            },
            "type": "carpet"
           }
          ],
          "choropleth": [
           {
            "colorbar": {
             "outlinewidth": 0,
             "ticks": ""
            },
            "type": "choropleth"
           }
          ],
          "contour": [
           {
            "colorbar": {
             "outlinewidth": 0,
             "ticks": ""
            },
            "colorscale": [
             [
              0,
              "#0d0887"
             ],
             [
              0.1111111111111111,
              "#46039f"
             ],
             [
              0.2222222222222222,
              "#7201a8"
             ],
             [
              0.3333333333333333,
              "#9c179e"
             ],
             [
              0.4444444444444444,
              "#bd3786"
             ],
             [
              0.5555555555555556,
              "#d8576b"
             ],
             [
              0.6666666666666666,
              "#ed7953"
             ],
             [
              0.7777777777777778,
              "#fb9f3a"
             ],
             [
              0.8888888888888888,
              "#fdca26"
             ],
             [
              1,
              "#f0f921"
             ]
            ],
            "type": "contour"
           }
          ],
          "contourcarpet": [
           {
            "colorbar": {
             "outlinewidth": 0,
             "ticks": ""
            },
            "type": "contourcarpet"
           }
          ],
          "heatmap": [
           {
            "colorbar": {
             "outlinewidth": 0,
             "ticks": ""
            },
            "colorscale": [
             [
              0,
              "#0d0887"
             ],
             [
              0.1111111111111111,
              "#46039f"
             ],
             [
              0.2222222222222222,
              "#7201a8"
             ],
             [
              0.3333333333333333,
              "#9c179e"
             ],
             [
              0.4444444444444444,
              "#bd3786"
             ],
             [
              0.5555555555555556,
              "#d8576b"
             ],
             [
              0.6666666666666666,
              "#ed7953"
             ],
             [
              0.7777777777777778,
              "#fb9f3a"
             ],
             [
              0.8888888888888888,
              "#fdca26"
             ],
             [
              1,
              "#f0f921"
             ]
            ],
            "type": "heatmap"
           }
          ],
          "heatmapgl": [
           {
            "colorbar": {
             "outlinewidth": 0,
             "ticks": ""
            },
            "colorscale": [
             [
              0,
              "#0d0887"
             ],
             [
              0.1111111111111111,
              "#46039f"
             ],
             [
              0.2222222222222222,
              "#7201a8"
             ],
             [
              0.3333333333333333,
              "#9c179e"
             ],
             [
              0.4444444444444444,
              "#bd3786"
             ],
             [
              0.5555555555555556,
              "#d8576b"
             ],
             [
              0.6666666666666666,
              "#ed7953"
             ],
             [
              0.7777777777777778,
              "#fb9f3a"
             ],
             [
              0.8888888888888888,
              "#fdca26"
             ],
             [
              1,
              "#f0f921"
             ]
            ],
            "type": "heatmapgl"
           }
          ],
          "histogram": [
           {
            "marker": {
             "pattern": {
              "fillmode": "overlay",
              "size": 10,
              "solidity": 0.2
             }
            },
            "type": "histogram"
           }
          ],
          "histogram2d": [
           {
            "colorbar": {
             "outlinewidth": 0,
             "ticks": ""
            },
            "colorscale": [
             [
              0,
              "#0d0887"
             ],
             [
              0.1111111111111111,
              "#46039f"
             ],
             [
              0.2222222222222222,
              "#7201a8"
             ],
             [
              0.3333333333333333,
              "#9c179e"
             ],
             [
              0.4444444444444444,
              "#bd3786"
             ],
             [
              0.5555555555555556,
              "#d8576b"
             ],
             [
              0.6666666666666666,
              "#ed7953"
             ],
             [
              0.7777777777777778,
              "#fb9f3a"
             ],
             [
              0.8888888888888888,
              "#fdca26"
             ],
             [
              1,
              "#f0f921"
             ]
            ],
            "type": "histogram2d"
           }
          ],
          "histogram2dcontour": [
           {
            "colorbar": {
             "outlinewidth": 0,
             "ticks": ""
            },
            "colorscale": [
             [
              0,
              "#0d0887"
             ],
             [
              0.1111111111111111,
              "#46039f"
             ],
             [
              0.2222222222222222,
              "#7201a8"
             ],
             [
              0.3333333333333333,
              "#9c179e"
             ],
             [
              0.4444444444444444,
              "#bd3786"
             ],
             [
              0.5555555555555556,
              "#d8576b"
             ],
             [
              0.6666666666666666,
              "#ed7953"
             ],
             [
              0.7777777777777778,
              "#fb9f3a"
             ],
             [
              0.8888888888888888,
              "#fdca26"
             ],
             [
              1,
              "#f0f921"
             ]
            ],
            "type": "histogram2dcontour"
           }
          ],
          "mesh3d": [
           {
            "colorbar": {
             "outlinewidth": 0,
             "ticks": ""
            },
            "type": "mesh3d"
           }
          ],
          "parcoords": [
           {
            "line": {
             "colorbar": {
              "outlinewidth": 0,
              "ticks": ""
             }
            },
            "type": "parcoords"
           }
          ],
          "pie": [
           {
            "automargin": true,
            "type": "pie"
           }
          ],
          "scatter": [
           {
            "marker": {
             "colorbar": {
              "outlinewidth": 0,
              "ticks": ""
             }
            },
            "type": "scatter"
           }
          ],
          "scatter3d": [
           {
            "line": {
             "colorbar": {
              "outlinewidth": 0,
              "ticks": ""
             }
            },
            "marker": {
             "colorbar": {
              "outlinewidth": 0,
              "ticks": ""
             }
            },
            "type": "scatter3d"
           }
          ],
          "scattercarpet": [
           {
            "marker": {
             "colorbar": {
              "outlinewidth": 0,
              "ticks": ""
             }
            },
            "type": "scattercarpet"
           }
          ],
          "scattergeo": [
           {
            "marker": {
             "colorbar": {
              "outlinewidth": 0,
              "ticks": ""
             }
            },
            "type": "scattergeo"
           }
          ],
          "scattergl": [
           {
            "marker": {
             "colorbar": {
              "outlinewidth": 0,
              "ticks": ""
             }
            },
            "type": "scattergl"
           }
          ],
          "scattermapbox": [
           {
            "marker": {
             "colorbar": {
              "outlinewidth": 0,
              "ticks": ""
             }
            },
            "type": "scattermapbox"
           }
          ],
          "scatterpolar": [
           {
            "marker": {
             "colorbar": {
              "outlinewidth": 0,
              "ticks": ""
             }
            },
            "type": "scatterpolar"
           }
          ],
          "scatterpolargl": [
           {
            "marker": {
             "colorbar": {
              "outlinewidth": 0,
              "ticks": ""
             }
            },
            "type": "scatterpolargl"
           }
          ],
          "scatterternary": [
           {
            "marker": {
             "colorbar": {
              "outlinewidth": 0,
              "ticks": ""
             }
            },
            "type": "scatterternary"
           }
          ],
          "surface": [
           {
            "colorbar": {
             "outlinewidth": 0,
             "ticks": ""
            },
            "colorscale": [
             [
              0,
              "#0d0887"
             ],
             [
              0.1111111111111111,
              "#46039f"
             ],
             [
              0.2222222222222222,
              "#7201a8"
             ],
             [
              0.3333333333333333,
              "#9c179e"
             ],
             [
              0.4444444444444444,
              "#bd3786"
             ],
             [
              0.5555555555555556,
              "#d8576b"
             ],
             [
              0.6666666666666666,
              "#ed7953"
             ],
             [
              0.7777777777777778,
              "#fb9f3a"
             ],
             [
              0.8888888888888888,
              "#fdca26"
             ],
             [
              1,
              "#f0f921"
             ]
            ],
            "type": "surface"
           }
          ],
          "table": [
           {
            "cells": {
             "fill": {
              "color": "#EBF0F8"
             },
             "line": {
              "color": "white"
             }
            },
            "header": {
             "fill": {
              "color": "#C8D4E3"
             },
             "line": {
              "color": "white"
             }
            },
            "type": "table"
           }
          ]
         },
         "layout": {
          "annotationdefaults": {
           "arrowcolor": "#2a3f5f",
           "arrowhead": 0,
           "arrowwidth": 1
          },
          "autotypenumbers": "strict",
          "coloraxis": {
           "colorbar": {
            "outlinewidth": 0,
            "ticks": ""
           }
          },
          "colorscale": {
           "diverging": [
            [
             0,
             "#8e0152"
            ],
            [
             0.1,
             "#c51b7d"
            ],
            [
             0.2,
             "#de77ae"
            ],
            [
             0.3,
             "#f1b6da"
            ],
            [
             0.4,
             "#fde0ef"
            ],
            [
             0.5,
             "#f7f7f7"
            ],
            [
             0.6,
             "#e6f5d0"
            ],
            [
             0.7,
             "#b8e186"
            ],
            [
             0.8,
             "#7fbc41"
            ],
            [
             0.9,
             "#4d9221"
            ],
            [
             1,
             "#276419"
            ]
           ],
           "sequential": [
            [
             0,
             "#0d0887"
            ],
            [
             0.1111111111111111,
             "#46039f"
            ],
            [
             0.2222222222222222,
             "#7201a8"
            ],
            [
             0.3333333333333333,
             "#9c179e"
            ],
            [
             0.4444444444444444,
             "#bd3786"
            ],
            [
             0.5555555555555556,
             "#d8576b"
            ],
            [
             0.6666666666666666,
             "#ed7953"
            ],
            [
             0.7777777777777778,
             "#fb9f3a"
            ],
            [
             0.8888888888888888,
             "#fdca26"
            ],
            [
             1,
             "#f0f921"
            ]
           ],
           "sequentialminus": [
            [
             0,
             "#0d0887"
            ],
            [
             0.1111111111111111,
             "#46039f"
            ],
            [
             0.2222222222222222,
             "#7201a8"
            ],
            [
             0.3333333333333333,
             "#9c179e"
            ],
            [
             0.4444444444444444,
             "#bd3786"
            ],
            [
             0.5555555555555556,
             "#d8576b"
            ],
            [
             0.6666666666666666,
             "#ed7953"
            ],
            [
             0.7777777777777778,
             "#fb9f3a"
            ],
            [
             0.8888888888888888,
             "#fdca26"
            ],
            [
             1,
             "#f0f921"
            ]
           ]
          },
          "colorway": [
           "#636efa",
           "#EF553B",
           "#00cc96",
           "#ab63fa",
           "#FFA15A",
           "#19d3f3",
           "#FF6692",
           "#B6E880",
           "#FF97FF",
           "#FECB52"
          ],
          "font": {
           "color": "#2a3f5f"
          },
          "geo": {
           "bgcolor": "white",
           "lakecolor": "white",
           "landcolor": "white",
           "showlakes": true,
           "showland": true,
           "subunitcolor": "#C8D4E3"
          },
          "hoverlabel": {
           "align": "left"
          },
          "hovermode": "closest",
          "mapbox": {
           "style": "light"
          },
          "paper_bgcolor": "white",
          "plot_bgcolor": "white",
          "polar": {
           "angularaxis": {
            "gridcolor": "#EBF0F8",
            "linecolor": "#EBF0F8",
            "ticks": ""
           },
           "bgcolor": "white",
           "radialaxis": {
            "gridcolor": "#EBF0F8",
            "linecolor": "#EBF0F8",
            "ticks": ""
           }
          },
          "scene": {
           "xaxis": {
            "backgroundcolor": "white",
            "gridcolor": "#DFE8F3",
            "gridwidth": 2,
            "linecolor": "#EBF0F8",
            "showbackground": true,
            "ticks": "",
            "zerolinecolor": "#EBF0F8"
           },
           "yaxis": {
            "backgroundcolor": "white",
            "gridcolor": "#DFE8F3",
            "gridwidth": 2,
            "linecolor": "#EBF0F8",
            "showbackground": true,
            "ticks": "",
            "zerolinecolor": "#EBF0F8"
           },
           "zaxis": {
            "backgroundcolor": "white",
            "gridcolor": "#DFE8F3",
            "gridwidth": 2,
            "linecolor": "#EBF0F8",
            "showbackground": true,
            "ticks": "",
            "zerolinecolor": "#EBF0F8"
           }
          },
          "shapedefaults": {
           "line": {
            "color": "#2a3f5f"
           }
          },
          "ternary": {
           "aaxis": {
            "gridcolor": "#DFE8F3",
            "linecolor": "#A2B1C6",
            "ticks": ""
           },
           "baxis": {
            "gridcolor": "#DFE8F3",
            "linecolor": "#A2B1C6",
            "ticks": ""
           },
           "bgcolor": "white",
           "caxis": {
            "gridcolor": "#DFE8F3",
            "linecolor": "#A2B1C6",
            "ticks": ""
           }
          },
          "title": {
           "x": 0.05
          },
          "xaxis": {
           "automargin": true,
           "gridcolor": "#EBF0F8",
           "linecolor": "#EBF0F8",
           "ticks": "",
           "title": {
            "standoff": 15
           },
           "zerolinecolor": "#EBF0F8",
           "zerolinewidth": 2
          },
          "yaxis": {
           "automargin": true,
           "gridcolor": "#EBF0F8",
           "linecolor": "#EBF0F8",
           "ticks": "",
           "title": {
            "standoff": 15
           },
           "zerolinecolor": "#EBF0F8",
           "zerolinewidth": 2
          }
         }
        },
        "title": {
         "font": {
          "size": 20
         },
         "text": "Distribution of MSE in the dataset",
         "x": 0.5,
         "xanchor": "center",
         "yanchor": "top"
        },
        "width": 900,
        "xaxis": {
         "anchor": "y",
         "domain": [
          0,
          1
         ],
         "range": [
          0,
          1
         ],
         "title": {
          "font": {
           "size": 12
          },
          "text": "MSE"
         },
         "type": "linear"
        },
        "xaxis2": {
         "anchor": "y2",
         "domain": [
          0,
          1
         ],
         "matches": "x",
         "showgrid": true,
         "showticklabels": false,
         "type": "linear"
        },
        "yaxis": {
         "anchor": "x",
         "autorange": true,
         "domain": [
          0,
          0.7326
         ],
         "range": [
          0,
          7.756232686980609
         ],
         "title": {
          "font": {
           "size": 12
          },
          "text": "Probability Density"
         }
        },
        "yaxis2": {
         "anchor": "x2",
         "autorange": true,
         "domain": [
          0.7426,
          1
         ],
         "matches": "y2",
         "range": [
          -0.5,
          1.5
         ],
         "showgrid": false,
         "showline": false,
         "showticklabels": false,
         "ticks": "",
         "type": "category"
        }
       }
      },
      "image/png": "[encoded data removed]",
      "text/html": [
       "<div>                            <div id=\"db96a278-f268-4622-802c-3ce368a97a66\" class=\"plotly-graph-div\" style=\"height:500px; width:900px;\"></div>            <script type=\"text/javascript\">                require([\"plotly\"], function(Plotly) {                    window.PLOTLYENV=window.PLOTLYENV || {};                                    if (document.getElementById(\"db96a278-f268-4622-802c-3ce368a97a66\")) {                    Plotly.newPlot(                        \"db96a278-f268-4622-802c-3ce368a97a66\",                        [{\"alignmentgroup\":\"True\",\"bingroup\":\"x\",\"histnorm\":\"probability density\",\"hovertemplate\":\"Algorithm=Theta<br>MSE=%{x}<br>probability density=%{y}<extra></extra>\",\"legendgroup\":\"Theta\",\"marker\":{\"color\":\"#636efa\",\"opacity\":0.5,\"pattern\":{\"shape\":\"\"}},\"name\":\"Theta\",\"nbinsx\":500,\"offsetgroup\":\"Theta\",\"orientation\":\"v\",\"showlegend\":true,\"type\":\"histogram\",\"x\":[0.07213975238881051,0.013286625983932992,0.03377826178813364,0.06585107808497644,0.16600480927479475,0.00878791374068519,0.000532889219237085,0.03234666021827802,0.03436673646129114,0.2639047071770461,0.0006065231994370233,0.11003032674350403,0.10745167743173205,0.014812179834476278,0.1791803776705383,0.0382034418608076,0.46443763854624986,0.021065618999973404,0.01016435610445424,0.0892558863764868,0.0003559923246881522,0.07869092919807177,0.02480263724928638,0.006520515771846177,0.058174541630990374,0.19546025788138008,0.012978985880488764,0.0003913853931633974,0.008130771972017751,0.07917628881430931,0.02432197534978162,0.3597012695267993,0.04995439239043173,0.08252626441390316,0.24002433650155267,0.008079627438121269,0.009579535423674703,0.00037032889299342184,0.02667113216581245,0.0005400215789685667,0.13936932290025017,0.06489334938879375,0.023834612969339544,0.6179254058414296,0.3782170009987819,0.10942131680663171,0.6461222420279048,0.006922409122887596,0.26649586836548533,0.00026128790817796097,0.03209872898046375,0.09420804831226183,0.002344221653361944,0.7149240906183678,0.01660011086807113,0.016664209495030335,0.007505369764710116,0.06950766382491853,0.23153275875590631,0.013547708130770922,0.08653871726607776,0.0681402022756923,0.019718785563498174,0.00028542353594502445,0.004675636179259268,0.2290577089729972,0.0015196813583021418,0.005507368592554825,0.563527525143696,0.14037267201248493,0.05484657541780324,0.21414689728260825,0.07206738873017662,0.047852040637235575,0.0031262281762452155,0.044309380819750936,0.13946453422012406,0.08757897273143521,0.07506814262006686,0.17358546006274503,0.007915983373469708,0.00028484338317947487,0.09958084150494083,0.015953540472449738,0.3245183192695422,0.03837001833386597,0.12675303395022236,0.21918799579114343,0.09898103888872573,0.10320100631009103,0.07347725226792191,0.020716331324672668,0.027165233692125472,0.03644554918074342,0.1752707397577607,0.05370927218355549,0.09149240304114575,0.15746212568242243,0.18606908583547926,0.4228202994572466,0.05695503430752331,0.014550999820641647,0.8507240698313713,0.07467554888211975,0.36189165703932874,2.379845424899454,0.0008609559184268159,0.6905900242352317,0.019738323644798165,0.1456159949874025,0.0055046190116429874,0.042353175283691584,0.02436054534899944,0.031203639927943342,0.05348885135980928,0.4386229737363069,0.12609426186027817,0.27317070418999945,0.033094204354700216,0.05357157390630032,0.05913417764707115,0.4616054470743707,0.034997214834585,0.025342317935507636,0.011640324860850473,0.05419659698003751,0.02443800280817751,0.06480408634246239,0.09390269507729204,0.05948825012530497,0.04668662262811329,0.1139265412481708,0.2522002117921595,0.014751463117076688,0.023281914224521708,0.0261951968372762,0.010289163488461145,0.10695530109534701,0.005199337771418201,0.05581656603841629,0.06307007130089723,0.11370795041049442,0.22974993142588515,0.07094434560244475,0.06803126546468465,0.03032010338934506,0.0374406297848864,0.044589584228925984,0.11725989668539859,0.0705915199306219,0.001737461709594567,0.00787971987534397,0.03917979578654327,0.026389720714436713,0.05990392957395052,0.01042772108142357,0.03224312755846644,0.0456247730451446,0.04377323479800729,0.6343301872171715,0.11750803014184125,0.019414013234345568,0.008331012526320427,0.3685577606394882,10.36329248697282,0.018844123220800535,0.020899961922804442,0.03504526260661925,0.06234714604603222,0.1651034755370078,0.042319263208136004,0.07580535480332928,0.04515206002808679,0.018296311100319745,0.02239953500856588,0.07975099134652881,0.0006263845632831211,0.06533454078244809,0.34737924771539364,0.0466144684529632,0.08363636232820154,0.2844385985266123,0.01907368361149501,0.05406503390669724,0.08773133406999217,1.1448750313812541,0.07161774974564326,0.27170165329108426,0.08667248413930079,0.0004985153871131115,0.06089614769763262,0.00602702528352666,0.06196510761247613,0.028939437417481693,0.13249012325640022,0.006389671246977004,0.14722299423337132,0.027308308694820604,0.001027449365283405,0.050405577832663404,0.01168831612083676,0.05505595257757348,0.27713222631387946,0.10030764333275156,0.02351025821596584,0.13865201303734503,0.010196330073435097,0.1625835663193474,0.04937655262018414,0.021235059167193877,0.08453579921938024,0.0473762065746657,0.10104369736010173,0.013318801378744291,0.029880168379212747,0.02601366297221739,0.00030391432891370266,0.14088794705480456,0.1263867639649025,0.0858617453586894,0.20194196487887,0.28383924995639614,0.04298887494107352,0.009154973678650263,0.11839261256571584,0.007064184568608292,0.004314262483412206,1.5264264698226064,0.13544542558428707,0.5110928362149051,0.04835393256347721,0.0335711781326681,0.007946500799118692,0.310394370224253,0.04450101590128111,0.1276264128641013,0.012557001395248192,0.6138037747785952,0.0069906493222658414,0.09215481866621107,0.5891744752915266,0.0033278499226205415,0.03002600754304213,0.10428708076874767,0.015757237032850046,0.06497257669301959,0.023402832469232974,0.12681733160903227,0.018140168280860933,0.031651982532946786,0.09458450288931851,0.29602223967805524,0.05899705341766403,0.0008714447330790508,0.05170668644808079,0.19012612941562554,0.10268937267056358,0.03342131972778741,0.02561406053177069,0.046925668823522525,0.004615956210265328,0.41860637219404695,0.053020646062691676,0.8485059455038884,0.4377738532875039,0.0585086252974671,0.22215497943273682,0.1475102929544307,0.06183726443770055,0.09108159226077252,0.29585167770944965,0.32499305096196907,0.00014734904772059423,0.07568264604189989,0.13745042458892162,0.0008905156077739991,0.05997415551532242,0.003712038441399806,0.09808981484999144,0.07618800449308467,0.11056927196035983,0.14047604383927975,0.0012185500114173034,0.051884340269647604,0.1310963898114015,0.05758875880243114,0.5497184570068733,0.13011650099417926,0.06210605921838185,0.0098565843311633,0.039170290031209136,0.022284355647082314,1.931771942683493,0.8606657944804771,0.02817708430510979,0.06958222685389287,0.06408006680151601,0.04813106367292911,0.10943690750593721,0.043101524777779204,0.20453779424637844,0.7730202972665047,0.07064703629423412,0.07738668950883969,0.030919039095353602,0.031246429977446154,0.05357411496483693,0.1339160864750841,0.1565457798728017,1.4606929305500789,9.103011578958227e-05,0.02092348029813857,0.24104914630757138,0.018870345544701957,0.05543111224495689,0.00012604643480878142,0.016094244562101317,0.397023371425659,0.019451695997409046,0.8538215957255959,0.09421161489220604,0.27725257826218186,0.2579029048607993,0.046382076617605655,0.9867562256525175,0.01709917393708857,0.00045974414253698655,0.0313648599594779,0.10031791328114753,0.16660087444167676,0.08758133733354537,0.13247219191750073,0.018623633217515125,0.35609279598201443,0.007091992578933055,0.024029587771467412,0.34262618967425207,0.020710574348777308,0.06394544322752957,0.13602032078846502,0.12657878489820473,0.029635190271125343,0.15650815803873902,0.056936513655066814,0.27801232807290505,0.5674339696736622,0.027041216014144998,0.020710075672871288,0.20130690419564962,0.10301960902078235,0.07800387683954378,0.19053210577855867,0.3135319024341812,0.11194851713807395,0.0011881719810580864,0.03868896316820862,0.014976743323148483,0.016620225084155928,0.0016420772398142063,0.032295069371787145,0.32517943587176346,0.00014137121353405925,0.01761169829242301,0.024047816995571448,0.0007978036825935926,0.03249806450427481,0.03076914948420366,0.020492381484554737,0.14363099843019467,0.12882855781344602,0.002648553028475986,0.0879007628568242,0.046493340487357405,0.009152784372167022,0.06240304336717321,0.21738401237468327,0.010294984956994924,0.005453331652561374,0.04603502793503759,0.09510243962774381,0.0005690460409631972,0.030186326386840864,0.0039691583394555995,0.07512182217745719,0.020838143851117243,0.4083841192191113,0.06420740545666721,0.4065460885274736,0.023929589518782175,1.8931053842977408,0.13439790019443912,0.030954455169202134,0.011737230171107957,0.06366566883328292,0.012045116411620125,0.00024566376636241626,0.04699459045283123,0.14893087349188,0.10412013206433393],\"xaxis\":\"x\",\"yaxis\":\"y\"},{\"alignmentgroup\":\"True\",\"hovertemplate\":\"Algorithm=Theta<br>MSE=%{x}<extra></extra>\",\"legendgroup\":\"Theta\",\"marker\":{\"color\":\"#636efa\"},\"name\":\"Theta\",\"notched\":true,\"offsetgroup\":\"Theta\",\"showlegend\":false,\"type\":\"box\",\"x\":[0.07213975238881051,0.013286625983932992,0.03377826178813364,0.06585107808497644,0.16600480927479475,0.00878791374068519,0.000532889219237085,0.03234666021827802,0.03436673646129114,0.2639047071770461,0.0006065231994370233,0.11003032674350403,0.10745167743173205,0.014812179834476278,0.1791803776705383,0.0382034418608076,0.46443763854624986,0.021065618999973404,0.01016435610445424,0.0892558863764868,0.0003559923246881522,0.07869092919807177,0.02480263724928638,0.006520515771846177,0.058174541630990374,0.19546025788138008,0.012978985880488764,0.0003913853931633974,0.008130771972017751,0.07917628881430931,0.02432197534978162,0.3597012695267993,0.04995439239043173,0.08252626441390316,0.24002433650155267,0.008079627438121269,0.009579535423674703,0.00037032889299342184,0.02667113216581245,0.0005400215789685667,0.13936932290025017,0.06489334938879375,0.023834612969339544,0.6179254058414296,0.3782170009987819,0.10942131680663171,0.6461222420279048,0.006922409122887596,0.26649586836548533,0.00026128790817796097,0.03209872898046375,0.09420804831226183,0.002344221653361944,0.7149240906183678,0.01660011086807113,0.016664209495030335,0.007505369764710116,0.06950766382491853,0.23153275875590631,0.013547708130770922,0.08653871726607776,0.0681402022756923,0.019718785563498174,0.00028542353594502445,0.004675636179259268,0.2290577089729972,0.0015196813583021418,0.005507368592554825,0.563527525143696,0.14037267201248493,0.05484657541780324,0.21414689728260825,0.07206738873017662,0.047852040637235575,0.0031262281762452155,0.044309380819750936,0.13946453422012406,0.08757897273143521,0.07506814262006686,0.17358546006274503,0.007915983373469708,0.00028484338317947487,0.09958084150494083,0.015953540472449738,0.3245183192695422,0.03837001833386597,0.12675303395022236,0.21918799579114343,0.09898103888872573,0.10320100631009103,0.07347725226792191,0.020716331324672668,0.027165233692125472,0.03644554918074342,0.1752707397577607,0.05370927218355549,0.09149240304114575,0.15746212568242243,0.18606908583547926,0.4228202994572466,0.05695503430752331,0.014550999820641647,0.8507240698313713,0.07467554888211975,0.36189165703932874,2.379845424899454,0.0008609559184268159,0.6905900242352317,0.019738323644798165,0.1456159949874025,0.0055046190116429874,0.042353175283691584,0.02436054534899944,0.031203639927943342,0.05348885135980928,0.4386229737363069,0.12609426186027817,0.27317070418999945,0.033094204354700216,0.05357157390630032,0.05913417764707115,0.4616054470743707,0.034997214834585,0.025342317935507636,0.011640324860850473,0.05419659698003751,0.02443800280817751,0.06480408634246239,0.09390269507729204,0.05948825012530497,0.04668662262811329,0.1139265412481708,0.2522002117921595,0.014751463117076688,0.023281914224521708,0.0261951968372762,0.010289163488461145,0.10695530109534701,0.005199337771418201,0.05581656603841629,0.06307007130089723,0.11370795041049442,0.22974993142588515,0.07094434560244475,0.06803126546468465,0.03032010338934506,0.0374406297848864,0.044589584228925984,0.11725989668539859,0.0705915199306219,0.001737461709594567,0.00787971987534397,0.03917979578654327,0.026389720714436713,0.05990392957395052,0.01042772108142357,0.03224312755846644,0.0456247730451446,0.04377323479800729,0.6343301872171715,0.11750803014184125,0.019414013234345568,0.008331012526320427,0.3685577606394882,10.36329248697282,0.018844123220800535,0.020899961922804442,0.03504526260661925,0.06234714604603222,0.1651034755370078,0.042319263208136004,0.07580535480332928,0.04515206002808679,0.018296311100319745,0.02239953500856588,0.07975099134652881,0.0006263845632831211,0.06533454078244809,0.34737924771539364,0.0466144684529632,0.08363636232820154,0.2844385985266123,0.01907368361149501,0.05406503390669724,0.08773133406999217,1.1448750313812541,0.07161774974564326,0.27170165329108426,0.08667248413930079,0.0004985153871131115,0.06089614769763262,0.00602702528352666,0.06196510761247613,0.028939437417481693,0.13249012325640022,0.006389671246977004,0.14722299423337132,0.027308308694820604,0.001027449365283405,0.050405577832663404,0.01168831612083676,0.05505595257757348,0.27713222631387946,0.10030764333275156,0.02351025821596584,0.13865201303734503,0.010196330073435097,0.1625835663193474,0.04937655262018414,0.021235059167193877,0.08453579921938024,0.0473762065746657,0.10104369736010173,0.013318801378744291,0.029880168379212747,0.02601366297221739,0.00030391432891370266,0.14088794705480456,0.1263867639649025,0.0858617453586894,0.20194196487887,0.28383924995639614,0.04298887494107352,0.009154973678650263,0.11839261256571584,0.007064184568608292,0.004314262483412206,1.5264264698226064,0.13544542558428707,0.5110928362149051,0.04835393256347721,0.0335711781326681,0.007946500799118692,0.310394370224253,0.04450101590128111,0.1276264128641013,0.012557001395248192,0.6138037747785952,0.0069906493222658414,0.09215481866621107,0.5891744752915266,0.0033278499226205415,0.03002600754304213,0.10428708076874767,0.015757237032850046,0.06497257669301959,0.023402832469232974,0.12681733160903227,0.018140168280860933,0.031651982532946786,0.09458450288931851,0.29602223967805524,0.05899705341766403,0.0008714447330790508,0.05170668644808079,0.19012612941562554,0.10268937267056358,0.03342131972778741,0.02561406053177069,0.046925668823522525,0.004615956210265328,0.41860637219404695,0.053020646062691676,0.8485059455038884,0.4377738532875039,0.0585086252974671,0.22215497943273682,0.1475102929544307,0.06183726443770055,0.09108159226077252,0.29585167770944965,0.32499305096196907,0.00014734904772059423,0.07568264604189989,0.13745042458892162,0.0008905156077739991,0.05997415551532242,0.003712038441399806,0.09808981484999144,0.07618800449308467,0.11056927196035983,0.14047604383927975,0.0012185500114173034,0.051884340269647604,0.1310963898114015,0.05758875880243114,0.5497184570068733,0.13011650099417926,0.06210605921838185,0.0098565843311633,0.039170290031209136,0.022284355647082314,1.931771942683493,0.8606657944804771,0.02817708430510979,0.06958222685389287,0.06408006680151601,0.04813106367292911,0.10943690750593721,0.043101524777779204,0.20453779424637844,0.7730202972665047,0.07064703629423412,0.07738668950883969,0.030919039095353602,0.031246429977446154,0.05357411496483693,0.1339160864750841,0.1565457798728017,1.4606929305500789,9.103011578958227e-05,0.02092348029813857,0.24104914630757138,0.018870345544701957,0.05543111224495689,0.00012604643480878142,0.016094244562101317,0.397023371425659,0.019451695997409046,0.8538215957255959,0.09421161489220604,0.27725257826218186,0.2579029048607993,0.046382076617605655,0.9867562256525175,0.01709917393708857,0.00045974414253698655,0.0313648599594779,0.10031791328114753,0.16660087444167676,0.08758133733354537,0.13247219191750073,0.018623633217515125,0.35609279598201443,0.007091992578933055,0.024029587771467412,0.34262618967425207,0.020710574348777308,0.06394544322752957,0.13602032078846502,0.12657878489820473,0.029635190271125343,0.15650815803873902,0.056936513655066814,0.27801232807290505,0.5674339696736622,0.027041216014144998,0.020710075672871288,0.20130690419564962,0.10301960902078235,0.07800387683954378,0.19053210577855867,0.3135319024341812,0.11194851713807395,0.0011881719810580864,0.03868896316820862,0.014976743323148483,0.016620225084155928,0.0016420772398142063,0.032295069371787145,0.32517943587176346,0.00014137121353405925,0.01761169829242301,0.024047816995571448,0.0007978036825935926,0.03249806450427481,0.03076914948420366,0.020492381484554737,0.14363099843019467,0.12882855781344602,0.002648553028475986,0.0879007628568242,0.046493340487357405,0.009152784372167022,0.06240304336717321,0.21738401237468327,0.010294984956994924,0.005453331652561374,0.04603502793503759,0.09510243962774381,0.0005690460409631972,0.030186326386840864,0.0039691583394555995,0.07512182217745719,0.020838143851117243,0.4083841192191113,0.06420740545666721,0.4065460885274736,0.023929589518782175,1.8931053842977408,0.13439790019443912,0.030954455169202134,0.011737230171107957,0.06366566883328292,0.012045116411620125,0.00024566376636241626,0.04699459045283123,0.14893087349188,0.10412013206433393],\"xaxis\":\"x2\",\"yaxis\":\"y2\"},{\"alignmentgroup\":\"True\",\"bingroup\":\"x\",\"histnorm\":\"probability density\",\"hovertemplate\":\"Algorithm=FFT<br>MSE=%{x}<br>probability density=%{y}<extra></extra>\",\"legendgroup\":\"FFT\",\"marker\":{\"color\":\"#EF553B\",\"opacity\":0.5,\"pattern\":{\"shape\":\"/\"}},\"name\":\"FFT\",\"nbinsx\":500,\"offsetgroup\":\"FFT\",\"orientation\":\"v\",\"showlegend\":true,\"type\":\"histogram\",\"x\":[0.07138175007847052,0.014239127609623111,0.019560642996311266,0.07587718302347168,0.18425902113189827,0.03840428862384578,0.0017694513152054368,0.030450894450106663,0.01867942307303836,0.13926437622666174,0.010834013944386735,0.08278682542973541,0.09672161616818205,0.01507528754937465,0.13692523928421926,0.0405035947110068,0.1651322222204258,0.023531515047597568,0.010661040288332023,0.09703332239510093,0.005425836397158312,0.04633902685906458,0.024589129213467342,0.015465526599680727,0.05029530954346334,0.2355963181627145,0.041441047737772796,0.0011336014950019254,0.006745103782241969,0.03355912589701102,0.02271458655161392,0.36601450259530743,0.008568878425490352,0.054630841628511825,0.43417405933763936,0.008128609360510753,0.0036945378383473827,0.0010035582574718063,0.029413979633602136,0.006152418833682644,0.1461888978561215,0.05160865340381518,0.02380981268702858,0.6701831640624336,0.17783428113470526,0.06376858461402102,0.13798761973077148,0.007174570864410618,0.2145286447215719,0.003433255768292578,0.02913955715639962,0.059023425591029625,0.0023303059996253855,0.5727855082959394,0.01937884924000814,0.01795244446298004,0.007740345114009315,0.0595521391227504,0.15120178555700453,0.01238282687719098,0.10615238965281726,0.09030832074964601,0.015357069758877863,0.002075562671154749,0.014592570821305804,0.20147460270864861,0.001623452977047031,0.006310472787944845,1.7871473152828479,0.12745922219228376,0.03252484986347279,0.10749416980238445,0.05743520624391977,0.03640159757458989,0.007431625534410797,0.04665805295896314,0.19910226706181738,0.06608912824947766,0.036167952781334715,0.12361818809004994,0.008971306724488988,0.0048839838583076235,0.05597590333647526,0.030968793440150445,0.32917997314708386,0.03180625797515462,0.03608483574458211,0.23588185311782775,0.04357117569370477,0.11001831098706708,0.0460430069056983,0.015627368451646646,0.02954760426075179,0.017219322847800627,1.0046009230483433,0.05804149822907364,0.09492275052277938,0.16333367423709033,0.06567501630411827,0.05140561227633269,0.062412383545690446,0.029732876912351082,0.565761164988878,0.07179520960927395,0.0454029392182382,0.25664920691121745,0.010556688104341088,0.15234212391296897,0.0167301832209396,0.15496367542554368,0.0031622649736998305,0.047321112521337395,0.020555591507164836,0.0380020690596422,0.05754308001930389,0.38145110312808234,0.10841999664948034,0.165503928317392,0.007766575400270992,0.06075672003463555,0.0632539333911365,0.4683064593918414,0.025962521891967995,0.027675478126149247,0.1651386484739199,0.06932700243936507,0.026777036990843738,0.061313747297628424,0.09777951577492694,0.4795048304636593,0.05434743442935099,0.1317207822679218,0.08673202427864904,0.02340819937295385,0.02241249061961044,0.026583818864489645,0.009768867405660098,0.10286944424216642,0.01700245899178257,0.07431361807625693,0.14588530446327724,0.07867553757940822,0.1418460508036308,0.07347911178304328,0.07298980317855543,0.0322076004301982,0.037604033403945726,0.03946685056938871,0.07199140824370254,0.06955127439662956,0.04823598990909764,0.007984326555325527,0.03811100676706424,0.031499830390602834,0.06398919364435272,0.013332076301665179,0.03400634331936722,0.03167343930574143,0.03223259908771495,0.34494996507223996,0.07157974498736779,0.046079754838764676,0.05099773619917142,0.3201789766296009,1.0577214082597994,0.017669669692878358,0.02253185717702511,0.03441459030844303,0.059612911247884266,0.2060927371705723,0.038954524246733,0.062189620954382636,0.09613478318824914,0.021697918856706525,0.01958844666239389,0.22924106955381993,0.000990183895010761,0.06757215135200637,0.29947633631550263,0.040481232401111907,0.08267908261828404,0.12151600530541776,0.019375580481747465,0.07872793201699027,0.05007583871842177,0.5727562880910122,0.07436967302031444,0.21818676336502907,0.07941876575953981,0.015209392052130344,0.040794486706671185,0.0059149188854531595,0.0622167205174234,0.029639015412919106,0.02909431320245072,0.00717098983956447,0.13382780054114699,0.0351854824996931,0.029141508497408375,0.09326748704616822,0.012737167011585893,0.060981179612148925,0.5336786178747557,0.07514814944972353,0.020647205985408177,0.1101219824430222,0.03403094733471026,0.11324466775270978,0.055232840834846336,0.02341849405181968,0.04413670788753731,0.04148132569181819,0.05101341330737629,0.013997523233079035,0.034655839846600624,0.023179984846428626,0.015567597664551187,0.14937731249918765,0.07418911794484843,0.07286272534960887,0.17539252005824751,0.0933586579774531,0.015410318765232392,0.009157419533488285,0.03674505891553225,0.034911168433908624,0.005161503297861497,0.24488428519530123,0.015787286406719756,0.12460966758720317,0.04879851692899167,0.01106350970991292,1.422561897553716,0.1224401504799359,0.028727828695805174,0.24004203444922848,0.008778477507390222,0.13539093930639562,0.006998992672015891,0.23453930921108868,0.37496595927606363,0.0058465172351721975,0.03402314818264731,0.055917145478856366,0.008921246882093949,0.012469792810503609,0.023338498481220802,0.0821362938502028,0.0203347936782043,0.034190778127501514,0.07459557639866783,0.10726785335247561,0.05163051567905291,0.004060410272873558,0.04148087380701274,0.24461143140396222,0.14014794108005554,0.022767604518049347,0.011500661862229965,0.022513538540133774,0.017011756777891313,0.1767962473063061,0.04452977055568802,0.3428178263963846,0.24314848327862265,0.14689737902039168,0.13629806361825578,0.15400027173609573,0.04314108686668501,0.08221749168301061,0.23979283686026673,0.13326467390612465,0.0030843132288106206,0.0988757644695599,0.3790343834307893,0.004477760700611079,0.06309318857923168,0.0058533412547317806,0.10247090519158861,0.07870763040726667,0.08137915125011085,0.029954905066522656,0.05694676980264035,0.056271225347239245,0.0853061314764775,0.062420990074510824,0.16685751511521385,0.1326928818573461,0.04670304360574656,0.010273621304088657,0.056173875421891624,0.02595385168268065,0.40435950256188685,0.23350109549417816,0.01820647152125126,0.053635906183300476,0.053868052369517215,0.03574814579256387,0.12223580865222768,0.05265367735330893,0.21829766358266603,0.06599396394191305,0.015326426944336653,0.12373704754199773,0.026090213986364578,0.05901754729298267,0.05352701748603113,0.03210366288507867,0.1694476130614996,0.7363818035791749,0.0006216938602659144,0.019276414434477796,0.2799510125916813,0.01267349528044136,0.032284127961761305,0.003528933458610191,0.002698233944894988,0.3264631729616135,0.02018982818352701,0.8833781284035488,0.11057289548090239,0.09587975671324935,0.21169916317198909,0.049512391081637665,0.6448989677355145,0.017575517581863983,0.014801638582800251,0.035480499778040644,0.10084240159720156,0.154071006402014,0.10149545334134288,0.10191762720232675,0.00974819484375517,0.1013457770256454,0.006000323615972333,0.018921837821672966,0.3441082018809117,0.021850924495679998,0.07092259256249599,0.08650196694195042,0.019386083652039615,0.029116343712619897,0.1352106661779111,0.07156741770378448,0.07414264661857901,0.10410755906577303,0.025980126525810807,0.0028586348711013465,0.06540058595932688,0.03217138182283472,0.09029837201996847,0.14424189181619115,0.7906751850608923,0.08443579920548805,0.0061060799492807525,0.04346188632125557,0.014966745595191053,0.017874437566843232,0.05924968077537903,0.041909256465135415,0.11076752557989586,0.0027693531180123278,0.007576382176770447,0.020119929278533837,0.0007599236142165814,0.03431382104429797,0.02697206662027218,0.016531573232349068,0.028536857873630833,0.07757543414140146,0.0022415961935465687,0.08599945116056221,0.03279975154656651,0.008861468537360348,0.04273313081440597,0.055691695262283576,0.010006948759142018,0.021968431554416416,0.04537047772388867,0.06251764887674252,0.002092314773936987,0.028081177211488884,0.0028493675150085313,0.06681678281186419,0.02263158503595575,0.0551373516546229,0.07119597402926438,0.13648218223531086,0.17587473947834337,0.7348054841794697,0.09368782239486918,0.031278685089087335,0.009408769623901376,0.06284742497556811,0.008160361591168935,0.003948400749841932,0.050568907024202324,0.04090834596578548,0.05064773792716021],\"xaxis\":\"x\",\"yaxis\":\"y\"},{\"alignmentgroup\":\"True\",\"hovertemplate\":\"Algorithm=FFT<br>MSE=%{x}<extra></extra>\",\"legendgroup\":\"FFT\",\"marker\":{\"color\":\"#EF553B\"},\"name\":\"FFT\",\"notched\":true,\"offsetgroup\":\"FFT\",\"showlegend\":false,\"type\":\"box\",\"x\":[0.07138175007847052,0.014239127609623111,0.019560642996311266,0.07587718302347168,0.18425902113189827,0.03840428862384578,0.0017694513152054368,0.030450894450106663,0.01867942307303836,0.13926437622666174,0.010834013944386735,0.08278682542973541,0.09672161616818205,0.01507528754937465,0.13692523928421926,0.0405035947110068,0.1651322222204258,0.023531515047597568,0.010661040288332023,0.09703332239510093,0.005425836397158312,0.04633902685906458,0.024589129213467342,0.015465526599680727,0.05029530954346334,0.2355963181627145,0.041441047737772796,0.0011336014950019254,0.006745103782241969,0.03355912589701102,0.02271458655161392,0.36601450259530743,0.008568878425490352,0.054630841628511825,0.43417405933763936,0.008128609360510753,0.0036945378383473827,0.0010035582574718063,0.029413979633602136,0.006152418833682644,0.1461888978561215,0.05160865340381518,0.02380981268702858,0.6701831640624336,0.17783428113470526,0.06376858461402102,0.13798761973077148,0.007174570864410618,0.2145286447215719,0.003433255768292578,0.02913955715639962,0.059023425591029625,0.0023303059996253855,0.5727855082959394,0.01937884924000814,0.01795244446298004,0.007740345114009315,0.0595521391227504,0.15120178555700453,0.01238282687719098,0.10615238965281726,0.09030832074964601,0.015357069758877863,0.002075562671154749,0.014592570821305804,0.20147460270864861,0.001623452977047031,0.006310472787944845,1.7871473152828479,0.12745922219228376,0.03252484986347279,0.10749416980238445,0.05743520624391977,0.03640159757458989,0.007431625534410797,0.04665805295896314,0.19910226706181738,0.06608912824947766,0.036167952781334715,0.12361818809004994,0.008971306724488988,0.0048839838583076235,0.05597590333647526,0.030968793440150445,0.32917997314708386,0.03180625797515462,0.03608483574458211,0.23588185311782775,0.04357117569370477,0.11001831098706708,0.0460430069056983,0.015627368451646646,0.02954760426075179,0.017219322847800627,1.0046009230483433,0.05804149822907364,0.09492275052277938,0.16333367423709033,0.06567501630411827,0.05140561227633269,0.062412383545690446,0.029732876912351082,0.565761164988878,0.07179520960927395,0.0454029392182382,0.25664920691121745,0.010556688104341088,0.15234212391296897,0.0167301832209396,0.15496367542554368,0.0031622649736998305,0.047321112521337395,0.020555591507164836,0.0380020690596422,0.05754308001930389,0.38145110312808234,0.10841999664948034,0.165503928317392,0.007766575400270992,0.06075672003463555,0.0632539333911365,0.4683064593918414,0.025962521891967995,0.027675478126149247,0.1651386484739199,0.06932700243936507,0.026777036990843738,0.061313747297628424,0.09777951577492694,0.4795048304636593,0.05434743442935099,0.1317207822679218,0.08673202427864904,0.02340819937295385,0.02241249061961044,0.026583818864489645,0.009768867405660098,0.10286944424216642,0.01700245899178257,0.07431361807625693,0.14588530446327724,0.07867553757940822,0.1418460508036308,0.07347911178304328,0.07298980317855543,0.0322076004301982,0.037604033403945726,0.03946685056938871,0.07199140824370254,0.06955127439662956,0.04823598990909764,0.007984326555325527,0.03811100676706424,0.031499830390602834,0.06398919364435272,0.013332076301665179,0.03400634331936722,0.03167343930574143,0.03223259908771495,0.34494996507223996,0.07157974498736779,0.046079754838764676,0.05099773619917142,0.3201789766296009,1.0577214082597994,0.017669669692878358,0.02253185717702511,0.03441459030844303,0.059612911247884266,0.2060927371705723,0.038954524246733,0.062189620954382636,0.09613478318824914,0.021697918856706525,0.01958844666239389,0.22924106955381993,0.000990183895010761,0.06757215135200637,0.29947633631550263,0.040481232401111907,0.08267908261828404,0.12151600530541776,0.019375580481747465,0.07872793201699027,0.05007583871842177,0.5727562880910122,0.07436967302031444,0.21818676336502907,0.07941876575953981,0.015209392052130344,0.040794486706671185,0.0059149188854531595,0.0622167205174234,0.029639015412919106,0.02909431320245072,0.00717098983956447,0.13382780054114699,0.0351854824996931,0.029141508497408375,0.09326748704616822,0.012737167011585893,0.060981179612148925,0.5336786178747557,0.07514814944972353,0.020647205985408177,0.1101219824430222,0.03403094733471026,0.11324466775270978,0.055232840834846336,0.02341849405181968,0.04413670788753731,0.04148132569181819,0.05101341330737629,0.013997523233079035,0.034655839846600624,0.023179984846428626,0.015567597664551187,0.14937731249918765,0.07418911794484843,0.07286272534960887,0.17539252005824751,0.0933586579774531,0.015410318765232392,0.009157419533488285,0.03674505891553225,0.034911168433908624,0.005161503297861497,0.24488428519530123,0.015787286406719756,0.12460966758720317,0.04879851692899167,0.01106350970991292,1.422561897553716,0.1224401504799359,0.028727828695805174,0.24004203444922848,0.008778477507390222,0.13539093930639562,0.006998992672015891,0.23453930921108868,0.37496595927606363,0.0058465172351721975,0.03402314818264731,0.055917145478856366,0.008921246882093949,0.012469792810503609,0.023338498481220802,0.0821362938502028,0.0203347936782043,0.034190778127501514,0.07459557639866783,0.10726785335247561,0.05163051567905291,0.004060410272873558,0.04148087380701274,0.24461143140396222,0.14014794108005554,0.022767604518049347,0.011500661862229965,0.022513538540133774,0.017011756777891313,0.1767962473063061,0.04452977055568802,0.3428178263963846,0.24314848327862265,0.14689737902039168,0.13629806361825578,0.15400027173609573,0.04314108686668501,0.08221749168301061,0.23979283686026673,0.13326467390612465,0.0030843132288106206,0.0988757644695599,0.3790343834307893,0.004477760700611079,0.06309318857923168,0.0058533412547317806,0.10247090519158861,0.07870763040726667,0.08137915125011085,0.029954905066522656,0.05694676980264035,0.056271225347239245,0.0853061314764775,0.062420990074510824,0.16685751511521385,0.1326928818573461,0.04670304360574656,0.010273621304088657,0.056173875421891624,0.02595385168268065,0.40435950256188685,0.23350109549417816,0.01820647152125126,0.053635906183300476,0.053868052369517215,0.03574814579256387,0.12223580865222768,0.05265367735330893,0.21829766358266603,0.06599396394191305,0.015326426944336653,0.12373704754199773,0.026090213986364578,0.05901754729298267,0.05352701748603113,0.03210366288507867,0.1694476130614996,0.7363818035791749,0.0006216938602659144,0.019276414434477796,0.2799510125916813,0.01267349528044136,0.032284127961761305,0.003528933458610191,0.002698233944894988,0.3264631729616135,0.02018982818352701,0.8833781284035488,0.11057289548090239,0.09587975671324935,0.21169916317198909,0.049512391081637665,0.6448989677355145,0.017575517581863983,0.014801638582800251,0.035480499778040644,0.10084240159720156,0.154071006402014,0.10149545334134288,0.10191762720232675,0.00974819484375517,0.1013457770256454,0.006000323615972333,0.018921837821672966,0.3441082018809117,0.021850924495679998,0.07092259256249599,0.08650196694195042,0.019386083652039615,0.029116343712619897,0.1352106661779111,0.07156741770378448,0.07414264661857901,0.10410755906577303,0.025980126525810807,0.0028586348711013465,0.06540058595932688,0.03217138182283472,0.09029837201996847,0.14424189181619115,0.7906751850608923,0.08443579920548805,0.0061060799492807525,0.04346188632125557,0.014966745595191053,0.017874437566843232,0.05924968077537903,0.041909256465135415,0.11076752557989586,0.0027693531180123278,0.007576382176770447,0.020119929278533837,0.0007599236142165814,0.03431382104429797,0.02697206662027218,0.016531573232349068,0.028536857873630833,0.07757543414140146,0.0022415961935465687,0.08599945116056221,0.03279975154656651,0.008861468537360348,0.04273313081440597,0.055691695262283576,0.010006948759142018,0.021968431554416416,0.04537047772388867,0.06251764887674252,0.002092314773936987,0.028081177211488884,0.0028493675150085313,0.06681678281186419,0.02263158503595575,0.0551373516546229,0.07119597402926438,0.13648218223531086,0.17587473947834337,0.7348054841794697,0.09368782239486918,0.031278685089087335,0.009408769623901376,0.06284742497556811,0.008160361591168935,0.003948400749841932,0.050568907024202324,0.04090834596578548,0.05064773792716021],\"xaxis\":\"x2\",\"yaxis\":\"y2\"}],                        {\"autosize\":false,\"barmode\":\"overlay\",\"height\":500,\"legend\":{\"title\":{},\"tracegroupgap\":0},\"margin\":{\"t\":60},\"template\":{\"data\":{\"bar\":[{\"error_x\":{\"color\":\"#2a3f5f\"},\"error_y\":{\"color\":\"#2a3f5f\"},\"marker\":{\"line\":{\"color\":\"white\",\"width\":0.5},\"pattern\":{\"fillmode\":\"overlay\",\"size\":10,\"solidity\":0.2}},\"type\":\"bar\"}],\"barpolar\":[{\"marker\":{\"line\":{\"color\":\"white\",\"width\":0.5},\"pattern\":{\"fillmode\":\"overlay\",\"size\":10,\"solidity\":0.2}},\"type\":\"barpolar\"}],\"carpet\":[{\"aaxis\":{\"endlinecolor\":\"#2a3f5f\",\"gridcolor\":\"#C8D4E3\",\"linecolor\":\"#C8D4E3\",\"minorgridcolor\":\"#C8D4E3\",\"startlinecolor\":\"#2a3f5f\"},\"baxis\":{\"endlinecolor\":\"#2a3f5f\",\"gridcolor\":\"#C8D4E3\",\"linecolor\":\"#C8D4E3\",\"minorgridcolor\":\"#C8D4E3\",\"startlinecolor\":\"#2a3f5f\"},\"type\":\"carpet\"}],\"choropleth\":[{\"colorbar\":{\"outlinewidth\":0,\"ticks\":\"\"},\"type\":\"choropleth\"}],\"contour\":[{\"colorbar\":{\"outlinewidth\":0,\"ticks\":\"\"},\"colorscale\":[[0.0,\"#0d0887\"],[0.1111111111111111,\"#46039f\"],[0.2222222222222222,\"#7201a8\"],[0.3333333333333333,\"#9c179e\"],[0.4444444444444444,\"#bd3786\"],[0.5555555555555556,\"#d8576b\"],[0.6666666666666666,\"#ed7953\"],[0.7777777777777778,\"#fb9f3a\"],[0.8888888888888888,\"#fdca26\"],[1.0,\"#f0f921\"]],\"type\":\"contour\"}],\"contourcarpet\":[{\"colorbar\":{\"outlinewidth\":0,\"ticks\":\"\"},\"type\":\"contourcarpet\"}],\"heatmap\":[{\"colorbar\":{\"outlinewidth\":0,\"ticks\":\"\"},\"colorscale\":[[0.0,\"#0d0887\"],[0.1111111111111111,\"#46039f\"],[0.2222222222222222,\"#7201a8\"],[0.3333333333333333,\"#9c179e\"],[0.4444444444444444,\"#bd3786\"],[0.5555555555555556,\"#d8576b\"],[0.6666666666666666,\"#ed7953\"],[0.7777777777777778,\"#fb9f3a\"],[0.8888888888888888,\"#fdca26\"],[1.0,\"#f0f921\"]],\"type\":\"heatmap\"}],\"heatmapgl\":[{\"colorbar\":{\"outlinewidth\":0,\"ticks\":\"\"},\"colorscale\":[[0.0,\"#0d0887\"],[0.1111111111111111,\"#46039f\"],[0.2222222222222222,\"#7201a8\"],[0.3333333333333333,\"#9c179e\"],[0.4444444444444444,\"#bd3786\"],[0.5555555555555556,\"#d8576b\"],[0.6666666666666666,\"#ed7953\"],[0.7777777777777778,\"#fb9f3a\"],[0.8888888888888888,\"#fdca26\"],[1.0,\"#f0f921\"]],\"type\":\"heatmapgl\"}],\"histogram\":[{\"marker\":{\"pattern\":{\"fillmode\":\"overlay\",\"size\":10,\"solidity\":0.2}},\"type\":\"histogram\"}],\"histogram2d\":[{\"colorbar\":{\"outlinewidth\":0,\"ticks\":\"\"},\"colorscale\":[[0.0,\"#0d0887\"],[0.1111111111111111,\"#46039f\"],[0.2222222222222222,\"#7201a8\"],[0.3333333333333333,\"#9c179e\"],[0.4444444444444444,\"#bd3786\"],[0.5555555555555556,\"#d8576b\"],[0.6666666666666666,\"#ed7953\"],[0.7777777777777778,\"#fb9f3a\"],[0.8888888888888888,\"#fdca26\"],[1.0,\"#f0f921\"]],\"type\":\"histogram2d\"}],\"histogram2dcontour\":[{\"colorbar\":{\"outlinewidth\":0,\"ticks\":\"\"},\"colorscale\":[[0.0,\"#0d0887\"],[0.1111111111111111,\"#46039f\"],[0.2222222222222222,\"#7201a8\"],[0.3333333333333333,\"#9c179e\"],[0.4444444444444444,\"#bd3786\"],[0.5555555555555556,\"#d8576b\"],[0.6666666666666666,\"#ed7953\"],[0.7777777777777778,\"#fb9f3a\"],[0.8888888888888888,\"#fdca26\"],[1.0,\"#f0f921\"]],\"type\":\"histogram2dcontour\"}],\"mesh3d\":[{\"colorbar\":{\"outlinewidth\":0,\"ticks\":\"\"},\"type\":\"mesh3d\"}],\"parcoords\":[{\"line\":{\"colorbar\":{\"outlinewidth\":0,\"ticks\":\"\"}},\"type\":\"parcoords\"}],\"pie\":[{\"automargin\":true,\"type\":\"pie\"}],\"scatter\":[{\"marker\":{\"colorbar\":{\"outlinewidth\":0,\"ticks\":\"\"}},\"type\":\"scatter\"}],\"scatter3d\":[{\"line\":{\"colorbar\":{\"outlinewidth\":0,\"ticks\":\"\"}},\"marker\":{\"colorbar\":{\"outlinewidth\":0,\"ticks\":\"\"}},\"type\":\"scatter3d\"}],\"scattercarpet\":[{\"marker\":{\"colorbar\":{\"outlinewidth\":0,\"ticks\":\"\"}},\"type\":\"scattercarpet\"}],\"scattergeo\":[{\"marker\":{\"colorbar\":{\"outlinewidth\":0,\"ticks\":\"\"}},\"type\":\"scattergeo\"}],\"scattergl\":[{\"marker\":{\"colorbar\":{\"outlinewidth\":0,\"ticks\":\"\"}},\"type\":\"scattergl\"}],\"scattermapbox\":[{\"marker\":{\"colorbar\":{\"outlinewidth\":0,\"ticks\":\"\"}},\"type\":\"scattermapbox\"}],\"scatterpolar\":[{\"marker\":{\"colorbar\":{\"outlinewidth\":0,\"ticks\":\"\"}},\"type\":\"scatterpolar\"}],\"scatterpolargl\":[{\"marker\":{\"colorbar\":{\"outlinewidth\":0,\"ticks\":\"\"}},\"type\":\"scatterpolargl\"}],\"scatterternary\":[{\"marker\":{\"colorbar\":{\"outlinewidth\":0,\"ticks\":\"\"}},\"type\":\"scatterternary\"}],\"surface\":[{\"colorbar\":{\"outlinewidth\":0,\"ticks\":\"\"},\"colorscale\":[[0.0,\"#0d0887\"],[0.1111111111111111,\"#46039f\"],[0.2222222222222222,\"#7201a8\"],[0.3333333333333333,\"#9c179e\"],[0.4444444444444444,\"#bd3786\"],[0.5555555555555556,\"#d8576b\"],[0.6666666666666666,\"#ed7953\"],[0.7777777777777778,\"#fb9f3a\"],[0.8888888888888888,\"#fdca26\"],[1.0,\"#f0f921\"]],\"type\":\"surface\"}],\"table\":[{\"cells\":{\"fill\":{\"color\":\"#EBF0F8\"},\"line\":{\"color\":\"white\"}},\"header\":{\"fill\":{\"color\":\"#C8D4E3\"},\"line\":{\"color\":\"white\"}},\"type\":\"table\"}]},\"layout\":{\"annotationdefaults\":{\"arrowcolor\":\"#2a3f5f\",\"arrowhead\":0,\"arrowwidth\":1},\"autotypenumbers\":\"strict\",\"coloraxis\":{\"colorbar\":{\"outlinewidth\":0,\"ticks\":\"\"}},\"colorscale\":{\"diverging\":[[0,\"#8e0152\"],[0.1,\"#c51b7d\"],[0.2,\"#de77ae\"],[0.3,\"#f1b6da\"],[0.4,\"#fde0ef\"],[0.5,\"#f7f7f7\"],[0.6,\"#e6f5d0\"],[0.7,\"#b8e186\"],[0.8,\"#7fbc41\"],[0.9,\"#4d9221\"],[1,\"#276419\"]],\"sequential\":[[0.0,\"#0d0887\"],[0.1111111111111111,\"#46039f\"],[0.2222222222222222,\"#7201a8\"],[0.3333333333333333,\"#9c179e\"],[0.4444444444444444,\"#bd3786\"],[0.5555555555555556,\"#d8576b\"],[0.6666666666666666,\"#ed7953\"],[0.7777777777777778,\"#fb9f3a\"],[0.8888888888888888,\"#fdca26\"],[1.0,\"#f0f921\"]],\"sequentialminus\":[[0.0,\"#0d0887\"],[0.1111111111111111,\"#46039f\"],[0.2222222222222222,\"#7201a8\"],[0.3333333333333333,\"#9c179e\"],[0.4444444444444444,\"#bd3786\"],[0.5555555555555556,\"#d8576b\"],[0.6666666666666666,\"#ed7953\"],[0.7777777777777778,\"#fb9f3a\"],[0.8888888888888888,\"#fdca26\"],[1.0,\"#f0f921\"]]},\"colorway\":[\"#636efa\",\"#EF553B\",\"#00cc96\",\"#ab63fa\",\"#FFA15A\",\"#19d3f3\",\"#FF6692\",\"#B6E880\",\"#FF97FF\",\"#FECB52\"],\"font\":{\"color\":\"#2a3f5f\"},\"geo\":{\"bgcolor\":\"white\",\"lakecolor\":\"white\",\"landcolor\":\"white\",\"showlakes\":true,\"showland\":true,\"subunitcolor\":\"#C8D4E3\"},\"hoverlabel\":{\"align\":\"left\"},\"hovermode\":\"closest\",\"mapbox\":{\"style\":\"light\"},\"paper_bgcolor\":\"white\",\"plot_bgcolor\":\"white\",\"polar\":{\"angularaxis\":{\"gridcolor\":\"#EBF0F8\",\"linecolor\":\"#EBF0F8\",\"ticks\":\"\"},\"bgcolor\":\"white\",\"radialaxis\":{\"gridcolor\":\"#EBF0F8\",\"linecolor\":\"#EBF0F8\",\"ticks\":\"\"}},\"scene\":{\"xaxis\":{\"backgroundcolor\":\"white\",\"gridcolor\":\"#DFE8F3\",\"gridwidth\":2,\"linecolor\":\"#EBF0F8\",\"showbackground\":true,\"ticks\":\"\",\"zerolinecolor\":\"#EBF0F8\"},\"yaxis\":{\"backgroundcolor\":\"white\",\"gridcolor\":\"#DFE8F3\",\"gridwidth\":2,\"linecolor\":\"#EBF0F8\",\"showbackground\":true,\"ticks\":\"\",\"zerolinecolor\":\"#EBF0F8\"},\"zaxis\":{\"backgroundcolor\":\"white\",\"gridcolor\":\"#DFE8F3\",\"gridwidth\":2,\"linecolor\":\"#EBF0F8\",\"showbackground\":true,\"ticks\":\"\",\"zerolinecolor\":\"#EBF0F8\"}},\"shapedefaults\":{\"line\":{\"color\":\"#2a3f5f\"}},\"ternary\":{\"aaxis\":{\"gridcolor\":\"#DFE8F3\",\"linecolor\":\"#A2B1C6\",\"ticks\":\"\"},\"baxis\":{\"gridcolor\":\"#DFE8F3\",\"linecolor\":\"#A2B1C6\",\"ticks\":\"\"},\"bgcolor\":\"white\",\"caxis\":{\"gridcolor\":\"#DFE8F3\",\"linecolor\":\"#A2B1C6\",\"ticks\":\"\"}},\"title\":{\"x\":0.05},\"xaxis\":{\"automargin\":true,\"gridcolor\":\"#EBF0F8\",\"linecolor\":\"#EBF0F8\",\"ticks\":\"\",\"title\":{\"standoff\":15},\"zerolinecolor\":\"#EBF0F8\",\"zerolinewidth\":2},\"yaxis\":{\"automargin\":true,\"gridcolor\":\"#EBF0F8\",\"linecolor\":\"#EBF0F8\",\"ticks\":\"\",\"title\":{\"standoff\":15},\"zerolinecolor\":\"#EBF0F8\",\"zerolinewidth\":2}}},\"title\":{\"font\":{\"size\":20},\"text\":\"Distribution of MSE in the dataset\",\"x\":0.5,\"xanchor\":\"center\",\"yanchor\":\"top\"},\"width\":900,\"xaxis\":{\"anchor\":\"y\",\"domain\":[0.0,1.0],\"range\":[0,1],\"title\":{\"font\":{\"size\":12},\"text\":\"MSE\"}},\"xaxis2\":{\"anchor\":\"y2\",\"domain\":[0.0,1.0],\"matches\":\"x\",\"showgrid\":true,\"showticklabels\":false},\"yaxis\":{\"anchor\":\"x\",\"domain\":[0.0,0.7326],\"title\":{\"font\":{\"size\":12},\"text\":\"Probability Density\"}},\"yaxis2\":{\"anchor\":\"x2\",\"domain\":[0.7426,1.0],\"matches\":\"y2\",\"showgrid\":false,\"showline\":false,\"showticklabels\":false,\"ticks\":\"\"}},                        {\"responsive\": true}                    ).then(function(){\n",
       "                            \n",
       "var gd = document.getElementById('db96a278-f268-4622-802c-3ce368a97a66');\n",
       "var x = new MutationObserver(function (mutations, observer) {{\n",
       "        var display = window.getComputedStyle(gd).display;\n",
       "        if (!display || display === 'none') {{\n",
       "            console.log([gd, 'removed!']);\n",
       "            Plotly.purge(gd);\n",
       "            observer.disconnect();\n",
       "        }}\n",
       "}});\n",
       "\n",
       "// Listen for the removal of the full notebook cells\n",
       "var notebookContainer = gd.closest('#notebook-container');\n",
       "if (notebookContainer) {{\n",
       "    x.observe(notebookContainer, {childList: true});\n",
       "}}\n",
       "\n",
       "// Listen for the clearing of the current output cell\n",
       "var outputEl = gd.closest('.output');\n",
       "if (outputEl) {{\n",
       "    x.observe(outputEl, {childList: true});\n",
       "}}\n",
       "\n",
       "                        })                };                });            </script>        </div>"
      ]
     },
     "metadata": {},
     "output_type": "display_data"
    }
   ],
   "source": [
    "fig = px.histogram(baseline_metrics_df, \n",
    "                   x=\"MSE\", \n",
    "                   color=\"Algorithm\",\n",
    "                   pattern_shape=\"Algorithm\", \n",
    "                   marginal=\"box\", \n",
    "                   nbins=500, \n",
    "                   barmode=\"overlay\",\n",
    "                   histnorm=\"probability density\")\n",
    "fig = format_plot(fig, xlabel=\"MSE\", ylabel=\"Probability Density\", title=\"Distribution of MSE in the dataset\")\n",
    "fig.update_layout(xaxis_range=[0,1])\n",
    "fig.write_image(\"imgs/chapter_4/mse_dist.png\")\n",
    "fig.show()"
   ]
  },
  {
   "cell_type": "code",
   "execution_count": 49,
   "id": "2695707d-1e83-4289-9aea-859bbf83586c",
   "metadata": {},
   "outputs": [
    {
     "data": {
      "application/vnd.plotly.v1+json": {
       "config": {
        "plotlyServerURL": "https://plot.ly"
       },
       "data": [
        {
         "alignmentgroup": "True",
         "bingroup": "x",
         "histnorm": "probability density",
         "hovertemplate": "Algorithm=Theta<br>Forecast Bias=%{x}<br>probability density=%{y}<extra></extra>",
         "legendgroup": "Theta",
         "marker": {
          "color": "#636efa",
          "opacity": 0.5,
          "pattern": {
           "shape": ""
          }
         },
         "name": "Theta",
         "nbinsx": 250,
         "offsetgroup": "Theta",
         "orientation": "v",
         "showlegend": true,
         "type": "histogram",
         "x": [
          -21.151956091755746,
          -25.762580788813764,
          77.88623109248609,
          27.962868599208523,
          -4.295670198519965,
          -2.7570720666202497,
          0.9018038844128875,
          -64.7870893889048,
          -47.92406560982248,
          81.21482802375408,
          2.6864186063001476,
          53.3773245123864,
          28.91005192142395,
          1.6847671745116644,
          55.00629334713253,
          -23.772078450770753,
          142.91270905212318,
          19.938197813542097,
          -3.5301984131333355,
          17.81459058078769,
          -3.8695155138847332,
          65.47487037622392,
          -9.050046023563159,
          -8.686716217840864,
          -32.544447144843886,
          7.829840524918123,
          3.021206002613664,
          -9.603609093863136,
          -30.593926331246017,
          -96.08823326465173,
          -94.99305520465458,
          -27.676720316681312,
          -125.2006459061044,
          13.863682755176916,
          -15.519992929280457,
          -18.261391333759693,
          -65.52394359065184,
          3.394885388368982,
          19.62586548373812,
          -2.006092172702561,
          3.714268710289967,
          -41.15955548171108,
          -17.767486307613606,
          52.50196211660288,
          101.34547083528618,
          -91.49370567237293,
          -135.2905612841756,
          7.317521273907607,
          59.623782317622506,
          2.839696901379416,
          49.587986338829516,
          77.97349339376,
          -0.5592084194357517,
          -49.71529606446819,
          -7.041139840504858,
          -4.877821515775041,
          10.311871739176635,
          32.99252039677747,
          73.86177404656547,
          -48.12902272767039,
          18.319709902161083,
          58.26776560101726,
          -55.12664885620383,
          14.749130184276874,
          -2.159328968411215,
          46.37158505522086,
          11.011049188972025,
          2.5138028439767415,
          -15.11133687180109,
          -39.13097818947437,
          60.659923277678764,
          97.48954359651152,
          36.519058291316135,
          -59.781823394934705,
          -65.27226489451277,
          -7.324305205879869,
          18.875303248924048,
          61.04911414697508,
          -106.47080048833604,
          -55.815733373516174,
          -23.543991368084217,
          1.1493465839586374,
          -84.33584319994355,
          -2.103557691289096,
          22.803775911190968,
          -28.785203451534365,
          -172.22266884575615,
          40.35833675099711,
          -78.96799926051827,
          -5.446330911378441,
          79.7421956139458,
          42.31103107863084,
          13.63271585672489,
          -105.61050052882534,
          -52.84990932642004,
          16.479372805430632,
          3.97977721251355,
          9.32443902756598,
          125.91117571456817,
          -144.167232420105,
          19.358609380079297,
          19.972991798694295,
          -54.915293055146904,
          -55.553314323972124,
          -232.261025004562,
          -247.82529551397246,
          6.936338450564825,
          -84.6488545841294,
          62.63111947242225,
          -16.128424456853203,
          -112.79636314047397,
          8.085883653591447,
          -48.1392542804139,
          13.096005740680411,
          16.414363663485148,
          59.13419707670127,
          -51.08978151851874,
          -82.54572812029035,
          -129.06340592765943,
          8.931478775277066,
          14.942728597669367,
          59.42842996047625,
          -58.011259232623345,
          -18.20943896926166,
          169.52330134037342,
          9.521679546574834,
          3.38206667853486,
          36.06844067337239,
          4.721161283030347,
          -15.207870701797646,
          -18.73614417800418,
          3.3863255038491276,
          -143.6099387077426,
          -6.291896660402481,
          -49.33712546275995,
          2.289144017216774,
          -18.963119586839227,
          51.40688237059704,
          -9.142704948897897,
          12.32516906772253,
          -0.318059903493677,
          -98.9950204401043,
          -95.41870771098513,
          15.195357435607812,
          -28.022667015532072,
          11.989463748556922,
          19.04458109790126,
          -29.608688825416667,
          -51.44756344725295,
          36.816812848099154,
          -0.8607487153361595,
          -11.86973886809559,
          -72.24979562014225,
          9.809768435222708,
          -62.97906556225513,
          -7.728647469520871,
          -10.314649029098694,
          -65.32526861617704,
          -48.03662596759384,
          75.57360767968963,
          -57.45936232446164,
          1.3201358994299013,
          -3.9901936820315487,
          -19.302602685576463,
          -215.7160580290645,
          -23.91567633112264,
          4.183167549216955,
          -33.985416373285894,
          20.248974805680184,
          -36.63028382203281,
          -27.180328180793694,
          -44.107016347701574,
          20.407953452108455,
          -10.93780502709408,
          -34.564673774684046,
          3.5030398615994227,
          8.130679364626715,
          -15.58149846649217,
          -35.53931462667021,
          50.63234818949724,
          20.189377861672547,
          -110.320881326368,
          12.911290767657341,
          4.594391807513039,
          -44.14552333696402,
          98.4808539862203,
          2.7139389385545662,
          61.80818104071524,
          57.15856803665097,
          -9.526632516829505,
          -80.20804239991445,
          14.721380734499137,
          16.791176816218773,
          33.01575923210622,
          -105.33766056401825,
          0.22343777652105828,
          -32.53061732548671,
          -1.6398001167812766,
          -0.37866509498185347,
          6.0201295655891665,
          -14.419535415440766,
          19.13681497632475,
          -31.55053833092883,
          39.926652230012074,
          -24.537883126103228,
          -36.54328032456338,
          53.441643241803206,
          -52.62721171022597,
          7.8624564360450995,
          -17.85951552019358,
          -98.7923013217738,
          -27.20559213522833,
          56.95515292185704,
          -10.451722358790319,
          17.90884984709875,
          -34.0427479135825,
          -2.0759911706922956,
          22.3491681746432,
          -87.5333918014009,
          -24.96356060134971,
          -44.82059069493553,
          109.23340687286324,
          -115.22111046876991,
          -15.750273623867198,
          -195.2447018033071,
          -50.40582771428041,
          -25.019723919319155,
          -180.99896376585193,
          -351.153892001631,
          -183.06209169014434,
          -21.497488680800764,
          -116.89458442359879,
          6.472605387825528,
          -128.39969643992848,
          32.61853266770784,
          -16.308118953214894,
          -64.51347002238431,
          -170.3893695535841,
          -15.259602377087747,
          10.754843925073294,
          52.99781390146223,
          -11.365266552329617,
          3.8945455672542395,
          73.59667715124002,
          -77.36957015945426,
          -142.79868164826465,
          13.406235911481982,
          -72.71854327857453,
          -20.920659365279736,
          -18.727233879467963,
          29.553430022517112,
          -90.19178713319779,
          -27.43419690460434,
          5.9199862802797725,
          -46.79461341378402,
          -22.829645242025123,
          22.498980017853647,
          44.16371774599951,
          84.45316940789967,
          -84.68799636594511,
          87.97408927503024,
          -74.18453002457585,
          -26.898197745836743,
          -149.00788229230184,
          50.40226931582198,
          7.442002947701244,
          73.38912582762018,
          -21.520955284057912,
          -69.69862654651064,
          -30.034627811654076,
          20.475486496911234,
          -81.46924728220944,
          1.5219706966123931,
          8.416467527693225,
          7.97811092453149,
          -97.23031490961826,
          -33.15435242711347,
          -11.930817857119903,
          34.63557770792147,
          -14.999190148652595,
          -59.61416423779132,
          -245.94409482182465,
          -1.969269832410974,
          15.054742755256022,
          94.40705578292472,
          -13.70874513850473,
          -139.80219446971742,
          -15.290644274806217,
          -55.25829086687648,
          -0.13845135322945373,
          -123.86122504692996,
          -8.283704763071851,
          -230.85825480867803,
          130.14891359391143,
          -58.93441202726816,
          -101.91895570465745,
          -46.95487100834811,
          45.66477656543559,
          17.680939701172342,
          -6.960837008551142,
          -12.400825394990964,
          -279.3468736962434,
          -93.43949087059808,
          14.921541585377785,
          35.690006574241536,
          -14.929525414436116,
          10.11997050035317,
          -172.9475117115957,
          -17.089061972692196,
          112.84410367687914,
          -1.775912471556184,
          -44.050954363096444,
          19.92143519777347,
          60.201903197575824,
          78.63745867262547,
          0.4350710728059617,
          -126.42885501531936,
          71.70967351515559,
          26.514244485354016,
          -16.65069800409292,
          -23.798445596824727,
          -47.86443707624417,
          -42.527567984688396,
          3.674836219682721,
          -90.04360795881556,
          -11.642345565774464,
          -6.814544929248548,
          2.3617044654658006,
          18.984139906140836,
          -51.65905355337438,
          19.130114986644397,
          -35.998233581129405,
          -85.35132909432677,
          135.18647700371892,
          -33.2348068900599,
          -45.34946292224601,
          19.467165054111142,
          2.165712132488253,
          23.398177683876618,
          44.628469932581346,
          -357.3360167273534,
          -13.529286232967769,
          44.08335824524779,
          -8.121603936625721,
          -203.08644794847459,
          -202.84209461429953,
          5.242824050760452,
          -120.29095811237389,
          74.08379818684386,
          -98.23132473240392,
          5.04917400451911,
          -58.380739396999594,
          0.6730772480378466,
          76.45518702698973,
          -41.72607015026005,
          11.902691681432884,
          -14.707248623515786,
          -5.920485551705642,
          -6.04979148617731,
          1.9226302314391985,
          -174.14986459557383,
          4.494784437946376,
          -115.30143739372882,
          -50.336841647334516,
          -13.119368053384713,
          -14.827062434782281,
          -22.797532111131837,
          -54.821354415722766,
          -120.26390942222085,
          -86.5660733743419,
          -13.793706060921537,
          21.504835722076415,
          45.554062041382274,
          -35.59126842225726,
          67.4954486439352,
          -172.4118477745662,
          -3.356832330096795,
          -3.3854801407551696,
          6.883671839612575,
          -42.97746036747711,
          -10.535581752373838,
          -39.015762899535346,
          -42.133075210192885,
          37.28995334589446,
          -7.349272385244912,
          -268.54772233105496,
          12.106277053074125,
          -137.67877781603923,
          -34.701768270273284,
          64.58561106776115,
          -46.24585075891513,
          12.824509236216864,
          34.29407255639735,
          12.469771221212486,
          -39.50829999039457,
          0.07668166040429285,
          31.5169328454498,
          -402.70799501779334,
          -89.61072388043053
         ],
         "xaxis": "x",
         "yaxis": "y"
        },
        {
         "alignmentgroup": "True",
         "hovertemplate": "Algorithm=Theta<br>Forecast Bias=%{x}<extra></extra>",
         "legendgroup": "Theta",
         "marker": {
          "color": "#636efa"
         },
         "name": "Theta",
         "notched": true,
         "offsetgroup": "Theta",
         "showlegend": false,
         "type": "box",
         "x": [
          -21.151956091755746,
          -25.762580788813764,
          77.88623109248609,
          27.962868599208523,
          -4.295670198519965,
          -2.7570720666202497,
          0.9018038844128875,
          -64.7870893889048,
          -47.92406560982248,
          81.21482802375408,
          2.6864186063001476,
          53.3773245123864,
          28.91005192142395,
          1.6847671745116644,
          55.00629334713253,
          -23.772078450770753,
          142.91270905212318,
          19.938197813542097,
          -3.5301984131333355,
          17.81459058078769,
          -3.8695155138847332,
          65.47487037622392,
          -9.050046023563159,
          -8.686716217840864,
          -32.544447144843886,
          7.829840524918123,
          3.021206002613664,
          -9.603609093863136,
          -30.593926331246017,
          -96.08823326465173,
          -94.99305520465458,
          -27.676720316681312,
          -125.2006459061044,
          13.863682755176916,
          -15.519992929280457,
          -18.261391333759693,
          -65.52394359065184,
          3.394885388368982,
          19.62586548373812,
          -2.006092172702561,
          3.714268710289967,
          -41.15955548171108,
          -17.767486307613606,
          52.50196211660288,
          101.34547083528618,
          -91.49370567237293,
          -135.2905612841756,
          7.317521273907607,
          59.623782317622506,
          2.839696901379416,
          49.587986338829516,
          77.97349339376,
          -0.5592084194357517,
          -49.71529606446819,
          -7.041139840504858,
          -4.877821515775041,
          10.311871739176635,
          32.99252039677747,
          73.86177404656547,
          -48.12902272767039,
          18.319709902161083,
          58.26776560101726,
          -55.12664885620383,
          14.749130184276874,
          -2.159328968411215,
          46.37158505522086,
          11.011049188972025,
          2.5138028439767415,
          -15.11133687180109,
          -39.13097818947437,
          60.659923277678764,
          97.48954359651152,
          36.519058291316135,
          -59.781823394934705,
          -65.27226489451277,
          -7.324305205879869,
          18.875303248924048,
          61.04911414697508,
          -106.47080048833604,
          -55.815733373516174,
          -23.543991368084217,
          1.1493465839586374,
          -84.33584319994355,
          -2.103557691289096,
          22.803775911190968,
          -28.785203451534365,
          -172.22266884575615,
          40.35833675099711,
          -78.96799926051827,
          -5.446330911378441,
          79.7421956139458,
          42.31103107863084,
          13.63271585672489,
          -105.61050052882534,
          -52.84990932642004,
          16.479372805430632,
          3.97977721251355,
          9.32443902756598,
          125.91117571456817,
          -144.167232420105,
          19.358609380079297,
          19.972991798694295,
          -54.915293055146904,
          -55.553314323972124,
          -232.261025004562,
          -247.82529551397246,
          6.936338450564825,
          -84.6488545841294,
          62.63111947242225,
          -16.128424456853203,
          -112.79636314047397,
          8.085883653591447,
          -48.1392542804139,
          13.096005740680411,
          16.414363663485148,
          59.13419707670127,
          -51.08978151851874,
          -82.54572812029035,
          -129.06340592765943,
          8.931478775277066,
          14.942728597669367,
          59.42842996047625,
          -58.011259232623345,
          -18.20943896926166,
          169.52330134037342,
          9.521679546574834,
          3.38206667853486,
          36.06844067337239,
          4.721161283030347,
          -15.207870701797646,
          -18.73614417800418,
          3.3863255038491276,
          -143.6099387077426,
          -6.291896660402481,
          -49.33712546275995,
          2.289144017216774,
          -18.963119586839227,
          51.40688237059704,
          -9.142704948897897,
          12.32516906772253,
          -0.318059903493677,
          -98.9950204401043,
          -95.41870771098513,
          15.195357435607812,
          -28.022667015532072,
          11.989463748556922,
          19.04458109790126,
          -29.608688825416667,
          -51.44756344725295,
          36.816812848099154,
          -0.8607487153361595,
          -11.86973886809559,
          -72.24979562014225,
          9.809768435222708,
          -62.97906556225513,
          -7.728647469520871,
          -10.314649029098694,
          -65.32526861617704,
          -48.03662596759384,
          75.57360767968963,
          -57.45936232446164,
          1.3201358994299013,
          -3.9901936820315487,
          -19.302602685576463,
          -215.7160580290645,
          -23.91567633112264,
          4.183167549216955,
          -33.985416373285894,
          20.248974805680184,
          -36.63028382203281,
          -27.180328180793694,
          -44.107016347701574,
          20.407953452108455,
          -10.93780502709408,
          -34.564673774684046,
          3.5030398615994227,
          8.130679364626715,
          -15.58149846649217,
          -35.53931462667021,
          50.63234818949724,
          20.189377861672547,
          -110.320881326368,
          12.911290767657341,
          4.594391807513039,
          -44.14552333696402,
          98.4808539862203,
          2.7139389385545662,
          61.80818104071524,
          57.15856803665097,
          -9.526632516829505,
          -80.20804239991445,
          14.721380734499137,
          16.791176816218773,
          33.01575923210622,
          -105.33766056401825,
          0.22343777652105828,
          -32.53061732548671,
          -1.6398001167812766,
          -0.37866509498185347,
          6.0201295655891665,
          -14.419535415440766,
          19.13681497632475,
          -31.55053833092883,
          39.926652230012074,
          -24.537883126103228,
          -36.54328032456338,
          53.441643241803206,
          -52.62721171022597,
          7.8624564360450995,
          -17.85951552019358,
          -98.7923013217738,
          -27.20559213522833,
          56.95515292185704,
          -10.451722358790319,
          17.90884984709875,
          -34.0427479135825,
          -2.0759911706922956,
          22.3491681746432,
          -87.5333918014009,
          -24.96356060134971,
          -44.82059069493553,
          109.23340687286324,
          -115.22111046876991,
          -15.750273623867198,
          -195.2447018033071,
          -50.40582771428041,
          -25.019723919319155,
          -180.99896376585193,
          -351.153892001631,
          -183.06209169014434,
          -21.497488680800764,
          -116.89458442359879,
          6.472605387825528,
          -128.39969643992848,
          32.61853266770784,
          -16.308118953214894,
          -64.51347002238431,
          -170.3893695535841,
          -15.259602377087747,
          10.754843925073294,
          52.99781390146223,
          -11.365266552329617,
          3.8945455672542395,
          73.59667715124002,
          -77.36957015945426,
          -142.79868164826465,
          13.406235911481982,
          -72.71854327857453,
          -20.920659365279736,
          -18.727233879467963,
          29.553430022517112,
          -90.19178713319779,
          -27.43419690460434,
          5.9199862802797725,
          -46.79461341378402,
          -22.829645242025123,
          22.498980017853647,
          44.16371774599951,
          84.45316940789967,
          -84.68799636594511,
          87.97408927503024,
          -74.18453002457585,
          -26.898197745836743,
          -149.00788229230184,
          50.40226931582198,
          7.442002947701244,
          73.38912582762018,
          -21.520955284057912,
          -69.69862654651064,
          -30.034627811654076,
          20.475486496911234,
          -81.46924728220944,
          1.5219706966123931,
          8.416467527693225,
          7.97811092453149,
          -97.23031490961826,
          -33.15435242711347,
          -11.930817857119903,
          34.63557770792147,
          -14.999190148652595,
          -59.61416423779132,
          -245.94409482182465,
          -1.969269832410974,
          15.054742755256022,
          94.40705578292472,
          -13.70874513850473,
          -139.80219446971742,
          -15.290644274806217,
          -55.25829086687648,
          -0.13845135322945373,
          -123.86122504692996,
          -8.283704763071851,
          -230.85825480867803,
          130.14891359391143,
          -58.93441202726816,
          -101.91895570465745,
          -46.95487100834811,
          45.66477656543559,
          17.680939701172342,
          -6.960837008551142,
          -12.400825394990964,
          -279.3468736962434,
          -93.43949087059808,
          14.921541585377785,
          35.690006574241536,
          -14.929525414436116,
          10.11997050035317,
          -172.9475117115957,
          -17.089061972692196,
          112.84410367687914,
          -1.775912471556184,
          -44.050954363096444,
          19.92143519777347,
          60.201903197575824,
          78.63745867262547,
          0.4350710728059617,
          -126.42885501531936,
          71.70967351515559,
          26.514244485354016,
          -16.65069800409292,
          -23.798445596824727,
          -47.86443707624417,
          -42.527567984688396,
          3.674836219682721,
          -90.04360795881556,
          -11.642345565774464,
          -6.814544929248548,
          2.3617044654658006,
          18.984139906140836,
          -51.65905355337438,
          19.130114986644397,
          -35.998233581129405,
          -85.35132909432677,
          135.18647700371892,
          -33.2348068900599,
          -45.34946292224601,
          19.467165054111142,
          2.165712132488253,
          23.398177683876618,
          44.628469932581346,
          -357.3360167273534,
          -13.529286232967769,
          44.08335824524779,
          -8.121603936625721,
          -203.08644794847459,
          -202.84209461429953,
          5.242824050760452,
          -120.29095811237389,
          74.08379818684386,
          -98.23132473240392,
          5.04917400451911,
          -58.380739396999594,
          0.6730772480378466,
          76.45518702698973,
          -41.72607015026005,
          11.902691681432884,
          -14.707248623515786,
          -5.920485551705642,
          -6.04979148617731,
          1.9226302314391985,
          -174.14986459557383,
          4.494784437946376,
          -115.30143739372882,
          -50.336841647334516,
          -13.119368053384713,
          -14.827062434782281,
          -22.797532111131837,
          -54.821354415722766,
          -120.26390942222085,
          -86.5660733743419,
          -13.793706060921537,
          21.504835722076415,
          45.554062041382274,
          -35.59126842225726,
          67.4954486439352,
          -172.4118477745662,
          -3.356832330096795,
          -3.3854801407551696,
          6.883671839612575,
          -42.97746036747711,
          -10.535581752373838,
          -39.015762899535346,
          -42.133075210192885,
          37.28995334589446,
          -7.349272385244912,
          -268.54772233105496,
          12.106277053074125,
          -137.67877781603923,
          -34.701768270273284,
          64.58561106776115,
          -46.24585075891513,
          12.824509236216864,
          34.29407255639735,
          12.469771221212486,
          -39.50829999039457,
          0.07668166040429285,
          31.5169328454498,
          -402.70799501779334,
          -89.61072388043053
         ],
         "xaxis": "x2",
         "yaxis": "y2"
        },
        {
         "alignmentgroup": "True",
         "bingroup": "x",
         "histnorm": "probability density",
         "hovertemplate": "Algorithm=FFT<br>Forecast Bias=%{x}<br>probability density=%{y}<extra></extra>",
         "legendgroup": "FFT",
         "marker": {
          "color": "#EF553B",
          "opacity": 0.5,
          "pattern": {
           "shape": "/"
          }
         },
         "name": "FFT",
         "nbinsx": 250,
         "offsetgroup": "FFT",
         "orientation": "v",
         "showlegend": true,
         "type": "histogram",
         "x": [
          19.78989440652527,
          19.20694235707612,
          -3.2366477330185828,
          -19.18053303981325,
          -18.135195888699798,
          54.13668824149981,
          -0.3310771845249349,
          13.922531357786463,
          -10.094846868795653,
          -34.7600968046204,
          7.963605158143551,
          -3.3252873900644957,
          0.6238301205572847,
          -5.231440082769047,
          19.869526632220516,
          32.2178699591025,
          -4.646070169085054,
          8.134236718468383,
          16.222447061734783,
          19.30796879791929,
          -30.68297847042269,
          -20.41142882864878,
          -1.460032464997065,
          16.005090009943444,
          -7.190602432216734,
          25.608831849427517,
          1.6922334325162145,
          12.785804427717867,
          -1.6029787701374716,
          16.78398519192076,
          86.86248573341256,
          31.919224183461587,
          0.8740769683068859,
          -6.947363947659089,
          -56.34250794520849,
          14.748222493617513,
          8.74302931006005,
          -6.074062392822794,
          14.988324044752927,
          -16.132657643418,
          18.91144870545942,
          19.126857361221575,
          -18.850121682809814,
          67.60374025109383,
          18.163938033377885,
          -27.238871157745866,
          18.876544935594065,
          1.2920199257518579,
          33.49633016380393,
          37.797135879818235,
          12.66892067050972,
          27.244714849501438,
          1.8892364406630293,
          10.230482742989436,
          -19.443872309864794,
          26.532341262087456,
          -7.867302296823493,
          4.8472445238815025,
          15.661303112416041,
          12.545143670877607,
          -21.728960150984893,
          75.32343011699874,
          26.521425644268167,
          43.77548506309859,
          -5.185511948240479,
          21.860294515375774,
          12.52862413945027,
          -6.483976835604106,
          55.36386765982514,
          2.3455210329489518,
          5.239019711916386,
          26.78425522060179,
          11.261640569211014,
          20.62736057417367,
          121.38855642981798,
          5.829088863566375,
          33.7727623860826,
          11.170595737756425,
          -1.3925772406603274,
          -6.407508607875037,
          -39.17500942849904,
          -11.493723593534337,
          19.583799909315434,
          48.18118872611956,
          22.334579825398865,
          12.346423028358435,
          10.081300569261643,
          38.81587387876948,
          16.399042056884827,
          0.9289012405222813,
          22.681781119064894,
          8.899727444037365,
          27.623530242727195,
          15.746168685688167,
          -156.38382507780665,
          -4.994650170929468,
          14.27981726565776,
          16.28910902186297,
          28.821178954199834,
          14.539236105768127,
          -0.6914683058918577,
          69.88968818690084,
          43.52823664103854,
          55.37775068296875,
          42.88457409164709,
          34.38506343653924,
          73.09024343678632,
          19.599775627273708,
          17.880074363320844,
          15.476974368614163,
          46.35277712063648,
          22.14736114358788,
          21.820708500894252,
          62.44253606225968,
          23.869147943365032,
          39.934285209242326,
          10.3553275729836,
          31.885784298360655,
          -13.889789266659017,
          -0.04509235850003865,
          25.244596448252356,
          66.06942230240267,
          30.683087359928034,
          27.62601853197082,
          1934.5790901106745,
          48.296615849806585,
          28.339091334543674,
          22.8318094321883,
          5.103907955248807,
          76.08330459257672,
          42.011849303873596,
          28.727418394298216,
          46.647777495577856,
          29.251176144917146,
          42.835671108248846,
          14.414263712714012,
          1.88386424763979,
          45.724673036547635,
          27.668143131983115,
          15.46499063588013,
          94.97423599730148,
          65.78342140343678,
          -48.23258798250135,
          15.412313703623454,
          34.03237714519611,
          11.418369066587255,
          12.022208767669344,
          11.577387011544754,
          22.17385147815359,
          16.757682759816774,
          -24.996504116145964,
          9.588036435380195,
          -38.698652805378785,
          11.203010943541214,
          45.13970164236747,
          34.16972088121366,
          16.601415366942888,
          15.088393851247735,
          27.022368736972595,
          26.042622054979315,
          14.768087969480176,
          -75.39426262559226,
          -18.116454904801305,
          -2.8531519219421337,
          52.39760541109118,
          9.91995979938258,
          25.118932149016366,
          17.905066467992885,
          19.92012419576333,
          43.173181200536035,
          -1.9766754551271488,
          24.607324789093102,
          42.758830640265785,
          11.032524008070444,
          15.645131564095967,
          89.26582493029989,
          -5.36723556999691,
          20.245546961334586,
          0.5488167438116882,
          33.08153701885927,
          6.788569495487656,
          47.06339962766362,
          8.87664205281624,
          25.865209180878878,
          9.258063220464198,
          47.00648960270849,
          -0.9680136158442092,
          43.09292028894394,
          -38.299782156694675,
          202.7684186609624,
          25.158484783325985,
          -3.944180555025125,
          0.24030551637944716,
          23.586328467160033,
          17.635222056873445,
          14.989441053775533,
          1.3207459964625494,
          -35.05722936821222,
          17.366155730867877,
          31.214308522026922,
          -9.243447895626787,
          24.245097232090426,
          62.30249253289439,
          -10.998180491949348,
          6.16078295281751,
          -1.4364038627305575,
          -147.53424424408436,
          -11.489468997214711,
          -17.177432230755954,
          13.341948812747562,
          16.4837134778392,
          2.7521829750426496,
          3.892444140656637,
          -1.5339460462452417,
          14.754622648598215,
          13.872801788641894,
          136.32343774866567,
          -9.809437349012551,
          -42.85877393239831,
          4.532960024686456,
          9.184970250391961,
          -22.722616290818365,
          5.36223991544197,
          -9.794260892111362,
          -8.31476994820535,
          -458.75695145253525,
          -43.67449088021097,
          3.86150158768747,
          18.082512560372454,
          55.05041373354034,
          11.536123840612134,
          -1.1380640373682431,
          160.52021952764267,
          -13.288299729542818,
          8.09102493940024,
          -75.00967569160551,
          31.099620678391776,
          34.404020449381925,
          2.9907196119314854,
          -44.2749730549897,
          34.88011716929023,
          5.724877013584238,
          4.351767927594101,
          9.000902005663457,
          19.645373884440904,
          16.19192668875094,
          32.992201465680296,
          -16.81769874342208,
          -17.70760191241868,
          18.45994435146493,
          15.68966670597339,
          10.301227934981378,
          10.03293369259929,
          3.989279177721344,
          5.509351545779768,
          -51.52855624925304,
          31.333954513971218,
          -9.28727959548659,
          3.8982505580298885,
          30.095785187730463,
          63.60058946762444,
          12.600436037346958,
          -5.335826206399701,
          54.37794215376132,
          -1.3559641917748835,
          35.96736369858905,
          -17.227304946143914,
          -1.0524090525922356,
          -23.263896387449964,
          -15.005392119516303,
          2.2341396149409114,
          12.50536719220654,
          8.64368921664404,
          27.70112676647003,
          41.60577782054452,
          -168.37194217172672,
          -30.909249969898127,
          40.01516875650818,
          41.17847994471976,
          -17.627334843599748,
          31.29659514521081,
          -26.23575703436619,
          -22.72102781448225,
          -3.707902504632127,
          -16.3677550984659,
          -15.828381595816026,
          -36.749911873350555,
          16.01112747633413,
          -15.944286805062447,
          -10.476382137266642,
          -70.66354442017266,
          -7.068722324123253,
          -46.44064247212391,
          17.858342220624326,
          12.521002750490767,
          -57.93021999674024,
          -27.917467573259497,
          -13.12035121476207,
          -17.530374806466,
          -29.984165940390522,
          5.105724207962501,
          -31.04003790858268,
          5.0051882881645104,
          -37.630510616278734,
          -20.506757845637587,
          -5.656939086040188,
          -4.104168627926112,
          -21.635039005907313,
          -8.125541909187303,
          55.463956301748254,
          0.9913412386895116,
          -29.420664961001012,
          -2.753019285608861,
          -16.998328364934423,
          18.498333308791437,
          -6.5993403557238555,
          -0.21476651879780637,
          57.70052814561396,
          15.639567152197117,
          14.496068586830221,
          33.63572889444004,
          7.565700052277251,
          1.210247586124882,
          15.736975886044227,
          2.5805008070810076,
          -4.269230696402044,
          -84.55541102388543,
          -16.646152769603905,
          10.162311807472701,
          43.36314566206536,
          23.253629340174225,
          -2.2677232537495353,
          11.955855764191684,
          -7.531740022673383,
          5.1077444984945775,
          0.09705059905079232,
          -6.416944071415881,
          19.295526989260956,
          42.67743392785274,
          5.453858890139858,
          37.1254398840153,
          -2.0654773534408952,
          -8.88799388145875,
          -17.667599663980354,
          -19.88858414963755,
          -26.542082666441047,
          -1.4373593048864561,
          -2.242599768562853,
          -4.039487545725672,
          -0.9003435413123058,
          22.72654277884308,
          30.129756830522087,
          42.17668842917558,
          35.89309037881487,
          120.26591172748185,
          4.019159178780473,
          13.614735408335344,
          33.82036124390259,
          51.52655371985133,
          23.78132002918273,
          23.346266114721566,
          38.674561460412946,
          -62.07570710416241,
          -4.002388897972853,
          -0.8976618584371793,
          0.973031034057547,
          -6.9643496309590605,
          10.791027321546085,
          -10.83652591056549,
          -12.717742210494373,
          -3.867537816576775,
          -0.9259586959652554,
          3.839085326747388,
          18.758969172639592,
          -17.796545740593288,
          -3.4845833054012356,
          9.733675637845161,
          41.12248821621572,
          1.9362197095100855,
          7.129100115594514,
          37.59440622507077,
          13.001690702135196,
          4.392985578452751,
          23.89644658990779,
          11.635510923324837,
          20.507854447583593,
          -24.527707027765697,
          3.4589976027762965,
          -67.04513817545981,
          -14.427365921259364,
          -8.772360796816512,
          9.674152989697163,
          4.586328398260372,
          13.986671255887611,
          13.585532130475228,
          23.959606388623538,
          16.79019090132734,
          -157.86120375365675,
          33.15322963048408
         ],
         "xaxis": "x",
         "yaxis": "y"
        },
        {
         "alignmentgroup": "True",
         "hovertemplate": "Algorithm=FFT<br>Forecast Bias=%{x}<extra></extra>",
         "legendgroup": "FFT",
         "marker": {
          "color": "#EF553B"
         },
         "name": "FFT",
         "notched": true,
         "offsetgroup": "FFT",
         "showlegend": false,
         "type": "box",
         "x": [
          19.78989440652527,
          19.20694235707612,
          -3.2366477330185828,
          -19.18053303981325,
          -18.135195888699798,
          54.13668824149981,
          -0.3310771845249349,
          13.922531357786463,
          -10.094846868795653,
          -34.7600968046204,
          7.963605158143551,
          -3.3252873900644957,
          0.6238301205572847,
          -5.231440082769047,
          19.869526632220516,
          32.2178699591025,
          -4.646070169085054,
          8.134236718468383,
          16.222447061734783,
          19.30796879791929,
          -30.68297847042269,
          -20.41142882864878,
          -1.460032464997065,
          16.005090009943444,
          -7.190602432216734,
          25.608831849427517,
          1.6922334325162145,
          12.785804427717867,
          -1.6029787701374716,
          16.78398519192076,
          86.86248573341256,
          31.919224183461587,
          0.8740769683068859,
          -6.947363947659089,
          -56.34250794520849,
          14.748222493617513,
          8.74302931006005,
          -6.074062392822794,
          14.988324044752927,
          -16.132657643418,
          18.91144870545942,
          19.126857361221575,
          -18.850121682809814,
          67.60374025109383,
          18.163938033377885,
          -27.238871157745866,
          18.876544935594065,
          1.2920199257518579,
          33.49633016380393,
          37.797135879818235,
          12.66892067050972,
          27.244714849501438,
          1.8892364406630293,
          10.230482742989436,
          -19.443872309864794,
          26.532341262087456,
          -7.867302296823493,
          4.8472445238815025,
          15.661303112416041,
          12.545143670877607,
          -21.728960150984893,
          75.32343011699874,
          26.521425644268167,
          43.77548506309859,
          -5.185511948240479,
          21.860294515375774,
          12.52862413945027,
          -6.483976835604106,
          55.36386765982514,
          2.3455210329489518,
          5.239019711916386,
          26.78425522060179,
          11.261640569211014,
          20.62736057417367,
          121.38855642981798,
          5.829088863566375,
          33.7727623860826,
          11.170595737756425,
          -1.3925772406603274,
          -6.407508607875037,
          -39.17500942849904,
          -11.493723593534337,
          19.583799909315434,
          48.18118872611956,
          22.334579825398865,
          12.346423028358435,
          10.081300569261643,
          38.81587387876948,
          16.399042056884827,
          0.9289012405222813,
          22.681781119064894,
          8.899727444037365,
          27.623530242727195,
          15.746168685688167,
          -156.38382507780665,
          -4.994650170929468,
          14.27981726565776,
          16.28910902186297,
          28.821178954199834,
          14.539236105768127,
          -0.6914683058918577,
          69.88968818690084,
          43.52823664103854,
          55.37775068296875,
          42.88457409164709,
          34.38506343653924,
          73.09024343678632,
          19.599775627273708,
          17.880074363320844,
          15.476974368614163,
          46.35277712063648,
          22.14736114358788,
          21.820708500894252,
          62.44253606225968,
          23.869147943365032,
          39.934285209242326,
          10.3553275729836,
          31.885784298360655,
          -13.889789266659017,
          -0.04509235850003865,
          25.244596448252356,
          66.06942230240267,
          30.683087359928034,
          27.62601853197082,
          1934.5790901106745,
          48.296615849806585,
          28.339091334543674,
          22.8318094321883,
          5.103907955248807,
          76.08330459257672,
          42.011849303873596,
          28.727418394298216,
          46.647777495577856,
          29.251176144917146,
          42.835671108248846,
          14.414263712714012,
          1.88386424763979,
          45.724673036547635,
          27.668143131983115,
          15.46499063588013,
          94.97423599730148,
          65.78342140343678,
          -48.23258798250135,
          15.412313703623454,
          34.03237714519611,
          11.418369066587255,
          12.022208767669344,
          11.577387011544754,
          22.17385147815359,
          16.757682759816774,
          -24.996504116145964,
          9.588036435380195,
          -38.698652805378785,
          11.203010943541214,
          45.13970164236747,
          34.16972088121366,
          16.601415366942888,
          15.088393851247735,
          27.022368736972595,
          26.042622054979315,
          14.768087969480176,
          -75.39426262559226,
          -18.116454904801305,
          -2.8531519219421337,
          52.39760541109118,
          9.91995979938258,
          25.118932149016366,
          17.905066467992885,
          19.92012419576333,
          43.173181200536035,
          -1.9766754551271488,
          24.607324789093102,
          42.758830640265785,
          11.032524008070444,
          15.645131564095967,
          89.26582493029989,
          -5.36723556999691,
          20.245546961334586,
          0.5488167438116882,
          33.08153701885927,
          6.788569495487656,
          47.06339962766362,
          8.87664205281624,
          25.865209180878878,
          9.258063220464198,
          47.00648960270849,
          -0.9680136158442092,
          43.09292028894394,
          -38.299782156694675,
          202.7684186609624,
          25.158484783325985,
          -3.944180555025125,
          0.24030551637944716,
          23.586328467160033,
          17.635222056873445,
          14.989441053775533,
          1.3207459964625494,
          -35.05722936821222,
          17.366155730867877,
          31.214308522026922,
          -9.243447895626787,
          24.245097232090426,
          62.30249253289439,
          -10.998180491949348,
          6.16078295281751,
          -1.4364038627305575,
          -147.53424424408436,
          -11.489468997214711,
          -17.177432230755954,
          13.341948812747562,
          16.4837134778392,
          2.7521829750426496,
          3.892444140656637,
          -1.5339460462452417,
          14.754622648598215,
          13.872801788641894,
          136.32343774866567,
          -9.809437349012551,
          -42.85877393239831,
          4.532960024686456,
          9.184970250391961,
          -22.722616290818365,
          5.36223991544197,
          -9.794260892111362,
          -8.31476994820535,
          -458.75695145253525,
          -43.67449088021097,
          3.86150158768747,
          18.082512560372454,
          55.05041373354034,
          11.536123840612134,
          -1.1380640373682431,
          160.52021952764267,
          -13.288299729542818,
          8.09102493940024,
          -75.00967569160551,
          31.099620678391776,
          34.404020449381925,
          2.9907196119314854,
          -44.2749730549897,
          34.88011716929023,
          5.724877013584238,
          4.351767927594101,
          9.000902005663457,
          19.645373884440904,
          16.19192668875094,
          32.992201465680296,
          -16.81769874342208,
          -17.70760191241868,
          18.45994435146493,
          15.68966670597339,
          10.301227934981378,
          10.03293369259929,
          3.989279177721344,
          5.509351545779768,
          -51.52855624925304,
          31.333954513971218,
          -9.28727959548659,
          3.8982505580298885,
          30.095785187730463,
          63.60058946762444,
          12.600436037346958,
          -5.335826206399701,
          54.37794215376132,
          -1.3559641917748835,
          35.96736369858905,
          -17.227304946143914,
          -1.0524090525922356,
          -23.263896387449964,
          -15.005392119516303,
          2.2341396149409114,
          12.50536719220654,
          8.64368921664404,
          27.70112676647003,
          41.60577782054452,
          -168.37194217172672,
          -30.909249969898127,
          40.01516875650818,
          41.17847994471976,
          -17.627334843599748,
          31.29659514521081,
          -26.23575703436619,
          -22.72102781448225,
          -3.707902504632127,
          -16.3677550984659,
          -15.828381595816026,
          -36.749911873350555,
          16.01112747633413,
          -15.944286805062447,
          -10.476382137266642,
          -70.66354442017266,
          -7.068722324123253,
          -46.44064247212391,
          17.858342220624326,
          12.521002750490767,
          -57.93021999674024,
          -27.917467573259497,
          -13.12035121476207,
          -17.530374806466,
          -29.984165940390522,
          5.105724207962501,
          -31.04003790858268,
          5.0051882881645104,
          -37.630510616278734,
          -20.506757845637587,
          -5.656939086040188,
          -4.104168627926112,
          -21.635039005907313,
          -8.125541909187303,
          55.463956301748254,
          0.9913412386895116,
          -29.420664961001012,
          -2.753019285608861,
          -16.998328364934423,
          18.498333308791437,
          -6.5993403557238555,
          -0.21476651879780637,
          57.70052814561396,
          15.639567152197117,
          14.496068586830221,
          33.63572889444004,
          7.565700052277251,
          1.210247586124882,
          15.736975886044227,
          2.5805008070810076,
          -4.269230696402044,
          -84.55541102388543,
          -16.646152769603905,
          10.162311807472701,
          43.36314566206536,
          23.253629340174225,
          -2.2677232537495353,
          11.955855764191684,
          -7.531740022673383,
          5.1077444984945775,
          0.09705059905079232,
          -6.416944071415881,
          19.295526989260956,
          42.67743392785274,
          5.453858890139858,
          37.1254398840153,
          -2.0654773534408952,
          -8.88799388145875,
          -17.667599663980354,
          -19.88858414963755,
          -26.542082666441047,
          -1.4373593048864561,
          -2.242599768562853,
          -4.039487545725672,
          -0.9003435413123058,
          22.72654277884308,
          30.129756830522087,
          42.17668842917558,
          35.89309037881487,
          120.26591172748185,
          4.019159178780473,
          13.614735408335344,
          33.82036124390259,
          51.52655371985133,
          23.78132002918273,
          23.346266114721566,
          38.674561460412946,
          -62.07570710416241,
          -4.002388897972853,
          -0.8976618584371793,
          0.973031034057547,
          -6.9643496309590605,
          10.791027321546085,
          -10.83652591056549,
          -12.717742210494373,
          -3.867537816576775,
          -0.9259586959652554,
          3.839085326747388,
          18.758969172639592,
          -17.796545740593288,
          -3.4845833054012356,
          9.733675637845161,
          41.12248821621572,
          1.9362197095100855,
          7.129100115594514,
          37.59440622507077,
          13.001690702135196,
          4.392985578452751,
          23.89644658990779,
          11.635510923324837,
          20.507854447583593,
          -24.527707027765697,
          3.4589976027762965,
          -67.04513817545981,
          -14.427365921259364,
          -8.772360796816512,
          9.674152989697163,
          4.586328398260372,
          13.986671255887611,
          13.585532130475228,
          23.959606388623538,
          16.79019090132734,
          -157.86120375365675,
          33.15322963048408
         ],
         "xaxis": "x2",
         "yaxis": "y2"
        }
       ],
       "layout": {
        "autosize": false,
        "barmode": "overlay",
        "height": 500,
        "legend": {
         "title": {},
         "tracegroupgap": 0
        },
        "margin": {
         "t": 60
        },
        "template": {
         "data": {
          "bar": [
           {
            "error_x": {
             "color": "#2a3f5f"
            },
            "error_y": {
             "color": "#2a3f5f"
            },
            "marker": {
             "line": {
              "color": "white",
              "width": 0.5
             },
             "pattern": {
              "fillmode": "overlay",
              "size": 10,
              "solidity": 0.2
             }
            },
            "type": "bar"
           }
          ],
          "barpolar": [
           {
            "marker": {
             "line": {
              "color": "white",
              "width": 0.5
             },
             "pattern": {
              "fillmode": "overlay",
              "size": 10,
              "solidity": 0.2
             }
            },
            "type": "barpolar"
           }
          ],
          "carpet": [
           {
            "aaxis": {
             "endlinecolor": "#2a3f5f",
             "gridcolor": "#C8D4E3",
             "linecolor": "#C8D4E3",
             "minorgridcolor": "#C8D4E3",
             "startlinecolor": "#2a3f5f"
            },
            "baxis": {
             "endlinecolor": "#2a3f5f",
             "gridcolor": "#C8D4E3",
             "linecolor": "#C8D4E3",
             "minorgridcolor": "#C8D4E3",
             "startlinecolor": "#2a3f5f"
            },
            "type": "carpet"
           }
          ],
          "choropleth": [
           {
            "colorbar": {
             "outlinewidth": 0,
             "ticks": ""
            },
            "type": "choropleth"
           }
          ],
          "contour": [
           {
            "colorbar": {
             "outlinewidth": 0,
             "ticks": ""
            },
            "colorscale": [
             [
              0,
              "#0d0887"
             ],
             [
              0.1111111111111111,
              "#46039f"
             ],
             [
              0.2222222222222222,
              "#7201a8"
             ],
             [
              0.3333333333333333,
              "#9c179e"
             ],
             [
              0.4444444444444444,
              "#bd3786"
             ],
             [
              0.5555555555555556,
              "#d8576b"
             ],
             [
              0.6666666666666666,
              "#ed7953"
             ],
             [
              0.7777777777777778,
              "#fb9f3a"
             ],
             [
              0.8888888888888888,
              "#fdca26"
             ],
             [
              1,
              "#f0f921"
             ]
            ],
            "type": "contour"
           }
          ],
          "contourcarpet": [
           {
            "colorbar": {
             "outlinewidth": 0,
             "ticks": ""
            },
            "type": "contourcarpet"
           }
          ],
          "heatmap": [
           {
            "colorbar": {
             "outlinewidth": 0,
             "ticks": ""
            },
            "colorscale": [
             [
              0,
              "#0d0887"
             ],
             [
              0.1111111111111111,
              "#46039f"
             ],
             [
              0.2222222222222222,
              "#7201a8"
             ],
             [
              0.3333333333333333,
              "#9c179e"
             ],
             [
              0.4444444444444444,
              "#bd3786"
             ],
             [
              0.5555555555555556,
              "#d8576b"
             ],
             [
              0.6666666666666666,
              "#ed7953"
             ],
             [
              0.7777777777777778,
              "#fb9f3a"
             ],
             [
              0.8888888888888888,
              "#fdca26"
             ],
             [
              1,
              "#f0f921"
             ]
            ],
            "type": "heatmap"
           }
          ],
          "heatmapgl": [
           {
            "colorbar": {
             "outlinewidth": 0,
             "ticks": ""
            },
            "colorscale": [
             [
              0,
              "#0d0887"
             ],
             [
              0.1111111111111111,
              "#46039f"
             ],
             [
              0.2222222222222222,
              "#7201a8"
             ],
             [
              0.3333333333333333,
              "#9c179e"
             ],
             [
              0.4444444444444444,
              "#bd3786"
             ],
             [
              0.5555555555555556,
              "#d8576b"
             ],
             [
              0.6666666666666666,
              "#ed7953"
             ],
             [
              0.7777777777777778,
              "#fb9f3a"
             ],
             [
              0.8888888888888888,
              "#fdca26"
             ],
             [
              1,
              "#f0f921"
             ]
            ],
            "type": "heatmapgl"
           }
          ],
          "histogram": [
           {
            "marker": {
             "pattern": {
              "fillmode": "overlay",
              "size": 10,
              "solidity": 0.2
             }
            },
            "type": "histogram"
           }
          ],
          "histogram2d": [
           {
            "colorbar": {
             "outlinewidth": 0,
             "ticks": ""
            },
            "colorscale": [
             [
              0,
              "#0d0887"
             ],
             [
              0.1111111111111111,
              "#46039f"
             ],
             [
              0.2222222222222222,
              "#7201a8"
             ],
             [
              0.3333333333333333,
              "#9c179e"
             ],
             [
              0.4444444444444444,
              "#bd3786"
             ],
             [
              0.5555555555555556,
              "#d8576b"
             ],
             [
              0.6666666666666666,
              "#ed7953"
             ],
             [
              0.7777777777777778,
              "#fb9f3a"
             ],
             [
              0.8888888888888888,
              "#fdca26"
             ],
             [
              1,
              "#f0f921"
             ]
            ],
            "type": "histogram2d"
           }
          ],
          "histogram2dcontour": [
           {
            "colorbar": {
             "outlinewidth": 0,
             "ticks": ""
            },
            "colorscale": [
             [
              0,
              "#0d0887"
             ],
             [
              0.1111111111111111,
              "#46039f"
             ],
             [
              0.2222222222222222,
              "#7201a8"
             ],
             [
              0.3333333333333333,
              "#9c179e"
             ],
             [
              0.4444444444444444,
              "#bd3786"
             ],
             [
              0.5555555555555556,
              "#d8576b"
             ],
             [
              0.6666666666666666,
              "#ed7953"
             ],
             [
              0.7777777777777778,
              "#fb9f3a"
             ],
             [
              0.8888888888888888,
              "#fdca26"
             ],
             [
              1,
              "#f0f921"
             ]
            ],
            "type": "histogram2dcontour"
           }
          ],
          "mesh3d": [
           {
            "colorbar": {
             "outlinewidth": 0,
             "ticks": ""
            },
            "type": "mesh3d"
           }
          ],
          "parcoords": [
           {
            "line": {
             "colorbar": {
              "outlinewidth": 0,
              "ticks": ""
             }
            },
            "type": "parcoords"
           }
          ],
          "pie": [
           {
            "automargin": true,
            "type": "pie"
           }
          ],
          "scatter": [
           {
            "marker": {
             "colorbar": {
              "outlinewidth": 0,
              "ticks": ""
             }
            },
            "type": "scatter"
           }
          ],
          "scatter3d": [
           {
            "line": {
             "colorbar": {
              "outlinewidth": 0,
              "ticks": ""
             }
            },
            "marker": {
             "colorbar": {
              "outlinewidth": 0,
              "ticks": ""
             }
            },
            "type": "scatter3d"
           }
          ],
          "scattercarpet": [
           {
            "marker": {
             "colorbar": {
              "outlinewidth": 0,
              "ticks": ""
             }
            },
            "type": "scattercarpet"
           }
          ],
          "scattergeo": [
           {
            "marker": {
             "colorbar": {
              "outlinewidth": 0,
              "ticks": ""
             }
            },
            "type": "scattergeo"
           }
          ],
          "scattergl": [
           {
            "marker": {
             "colorbar": {
              "outlinewidth": 0,
              "ticks": ""
             }
            },
            "type": "scattergl"
           }
          ],
          "scattermapbox": [
           {
            "marker": {
             "colorbar": {
              "outlinewidth": 0,
              "ticks": ""
             }
            },
            "type": "scattermapbox"
           }
          ],
          "scatterpolar": [
           {
            "marker": {
             "colorbar": {
              "outlinewidth": 0,
              "ticks": ""
             }
            },
            "type": "scatterpolar"
           }
          ],
          "scatterpolargl": [
           {
            "marker": {
             "colorbar": {
              "outlinewidth": 0,
              "ticks": ""
             }
            },
            "type": "scatterpolargl"
           }
          ],
          "scatterternary": [
           {
            "marker": {
             "colorbar": {
              "outlinewidth": 0,
              "ticks": ""
             }
            },
            "type": "scatterternary"
           }
          ],
          "surface": [
           {
            "colorbar": {
             "outlinewidth": 0,
             "ticks": ""
            },
            "colorscale": [
             [
              0,
              "#0d0887"
             ],
             [
              0.1111111111111111,
              "#46039f"
             ],
             [
              0.2222222222222222,
              "#7201a8"
             ],
             [
              0.3333333333333333,
              "#9c179e"
             ],
             [
              0.4444444444444444,
              "#bd3786"
             ],
             [
              0.5555555555555556,
              "#d8576b"
             ],
             [
              0.6666666666666666,
              "#ed7953"
             ],
             [
              0.7777777777777778,
              "#fb9f3a"
             ],
             [
              0.8888888888888888,
              "#fdca26"
             ],
             [
              1,
              "#f0f921"
             ]
            ],
            "type": "surface"
           }
          ],
          "table": [
           {
            "cells": {
             "fill": {
              "color": "#EBF0F8"
             },
             "line": {
              "color": "white"
             }
            },
            "header": {
             "fill": {
              "color": "#C8D4E3"
             },
             "line": {
              "color": "white"
             }
            },
            "type": "table"
           }
          ]
         },
         "layout": {
          "annotationdefaults": {
           "arrowcolor": "#2a3f5f",
           "arrowhead": 0,
           "arrowwidth": 1
          },
          "autotypenumbers": "strict",
          "coloraxis": {
           "colorbar": {
            "outlinewidth": 0,
            "ticks": ""
           }
          },
          "colorscale": {
           "diverging": [
            [
             0,
             "#8e0152"
            ],
            [
             0.1,
             "#c51b7d"
            ],
            [
             0.2,
             "#de77ae"
            ],
            [
             0.3,
             "#f1b6da"
            ],
            [
             0.4,
             "#fde0ef"
            ],
            [
             0.5,
             "#f7f7f7"
            ],
            [
             0.6,
             "#e6f5d0"
            ],
            [
             0.7,
             "#b8e186"
            ],
            [
             0.8,
             "#7fbc41"
            ],
            [
             0.9,
             "#4d9221"
            ],
            [
             1,
             "#276419"
            ]
           ],
           "sequential": [
            [
             0,
             "#0d0887"
            ],
            [
             0.1111111111111111,
             "#46039f"
            ],
            [
             0.2222222222222222,
             "#7201a8"
            ],
            [
             0.3333333333333333,
             "#9c179e"
            ],
            [
             0.4444444444444444,
             "#bd3786"
            ],
            [
             0.5555555555555556,
             "#d8576b"
            ],
            [
             0.6666666666666666,
             "#ed7953"
            ],
            [
             0.7777777777777778,
             "#fb9f3a"
            ],
            [
             0.8888888888888888,
             "#fdca26"
            ],
            [
             1,
             "#f0f921"
            ]
           ],
           "sequentialminus": [
            [
             0,
             "#0d0887"
            ],
            [
             0.1111111111111111,
             "#46039f"
            ],
            [
             0.2222222222222222,
             "#7201a8"
            ],
            [
             0.3333333333333333,
             "#9c179e"
            ],
            [
             0.4444444444444444,
             "#bd3786"
            ],
            [
             0.5555555555555556,
             "#d8576b"
            ],
            [
             0.6666666666666666,
             "#ed7953"
            ],
            [
             0.7777777777777778,
             "#fb9f3a"
            ],
            [
             0.8888888888888888,
             "#fdca26"
            ],
            [
             1,
             "#f0f921"
            ]
           ]
          },
          "colorway": [
           "#636efa",
           "#EF553B",
           "#00cc96",
           "#ab63fa",
           "#FFA15A",
           "#19d3f3",
           "#FF6692",
           "#B6E880",
           "#FF97FF",
           "#FECB52"
          ],
          "font": {
           "color": "#2a3f5f"
          },
          "geo": {
           "bgcolor": "white",
           "lakecolor": "white",
           "landcolor": "white",
           "showlakes": true,
           "showland": true,
           "subunitcolor": "#C8D4E3"
          },
          "hoverlabel": {
           "align": "left"
          },
          "hovermode": "closest",
          "mapbox": {
           "style": "light"
          },
          "paper_bgcolor": "white",
          "plot_bgcolor": "white",
          "polar": {
           "angularaxis": {
            "gridcolor": "#EBF0F8",
            "linecolor": "#EBF0F8",
            "ticks": ""
           },
           "bgcolor": "white",
           "radialaxis": {
            "gridcolor": "#EBF0F8",
            "linecolor": "#EBF0F8",
            "ticks": ""
           }
          },
          "scene": {
           "xaxis": {
            "backgroundcolor": "white",
            "gridcolor": "#DFE8F3",
            "gridwidth": 2,
            "linecolor": "#EBF0F8",
            "showbackground": true,
            "ticks": "",
            "zerolinecolor": "#EBF0F8"
           },
           "yaxis": {
            "backgroundcolor": "white",
            "gridcolor": "#DFE8F3",
            "gridwidth": 2,
            "linecolor": "#EBF0F8",
            "showbackground": true,
            "ticks": "",
            "zerolinecolor": "#EBF0F8"
           },
           "zaxis": {
            "backgroundcolor": "white",
            "gridcolor": "#DFE8F3",
            "gridwidth": 2,
            "linecolor": "#EBF0F8",
            "showbackground": true,
            "ticks": "",
            "zerolinecolor": "#EBF0F8"
           }
          },
          "shapedefaults": {
           "line": {
            "color": "#2a3f5f"
           }
          },
          "ternary": {
           "aaxis": {
            "gridcolor": "#DFE8F3",
            "linecolor": "#A2B1C6",
            "ticks": ""
           },
           "baxis": {
            "gridcolor": "#DFE8F3",
            "linecolor": "#A2B1C6",
            "ticks": ""
           },
           "bgcolor": "white",
           "caxis": {
            "gridcolor": "#DFE8F3",
            "linecolor": "#A2B1C6",
            "ticks": ""
           }
          },
          "title": {
           "x": 0.05
          },
          "xaxis": {
           "automargin": true,
           "gridcolor": "#EBF0F8",
           "linecolor": "#EBF0F8",
           "ticks": "",
           "title": {
            "standoff": 15
           },
           "zerolinecolor": "#EBF0F8",
           "zerolinewidth": 2
          },
          "yaxis": {
           "automargin": true,
           "gridcolor": "#EBF0F8",
           "linecolor": "#EBF0F8",
           "ticks": "",
           "title": {
            "standoff": 15
           },
           "zerolinecolor": "#EBF0F8",
           "zerolinewidth": 2
          }
         }
        },
        "title": {
         "font": {
          "size": 20
         },
         "text": "Distribution of Forecast Bias in the dataset",
         "x": 0.5,
         "xanchor": "center",
         "yanchor": "top"
        },
        "width": 900,
        "xaxis": {
         "anchor": "y",
         "domain": [
          0,
          1
         ],
         "range": [
          -200,
          200
         ],
         "title": {
          "font": {
           "size": 12
          },
          "text": "Forecast Bias"
         },
         "type": "linear"
        },
        "xaxis2": {
         "anchor": "y2",
         "domain": [
          0,
          1
         ],
         "matches": "x",
         "showgrid": true,
         "showticklabels": false,
         "type": "linear"
        },
        "yaxis": {
         "anchor": "x",
         "autorange": true,
         "domain": [
          0,
          0.7326
         ],
         "range": [
          0,
          0.0221606648199446
         ],
         "title": {
          "font": {
           "size": 12
          },
          "text": "Probability Density"
         }
        },
        "yaxis2": {
         "anchor": "x2",
         "autorange": true,
         "domain": [
          0.7426,
          1
         ],
         "matches": "y2",
         "range": [
          -0.5,
          1.5
         ],
         "showgrid": false,
         "showline": false,
         "showticklabels": false,
         "ticks": "",
         "type": "category"
        }
       }
      },
      "image/png": "[encoded data removed]",
      "text/html": [
       "<div>                            <div id=\"3e5e470a-e5bd-4563-bb9d-5aebea6bcdfb\" class=\"plotly-graph-div\" style=\"height:500px; width:900px;\"></div>            <script type=\"text/javascript\">                require([\"plotly\"], function(Plotly) {                    window.PLOTLYENV=window.PLOTLYENV || {};                                    if (document.getElementById(\"3e5e470a-e5bd-4563-bb9d-5aebea6bcdfb\")) {                    Plotly.newPlot(                        \"3e5e470a-e5bd-4563-bb9d-5aebea6bcdfb\",                        [{\"alignmentgroup\":\"True\",\"bingroup\":\"x\",\"histnorm\":\"probability density\",\"hovertemplate\":\"Algorithm=Theta<br>Forecast Bias=%{x}<br>probability density=%{y}<extra></extra>\",\"legendgroup\":\"Theta\",\"marker\":{\"color\":\"#636efa\",\"opacity\":0.5,\"pattern\":{\"shape\":\"\"}},\"name\":\"Theta\",\"nbinsx\":250,\"offsetgroup\":\"Theta\",\"orientation\":\"v\",\"showlegend\":true,\"type\":\"histogram\",\"x\":[-21.151956091755746,-25.762580788813764,77.88623109248609,27.962868599208523,-4.295670198519965,-2.7570720666202497,0.9018038844128875,-64.7870893889048,-47.92406560982248,81.21482802375408,2.6864186063001476,53.3773245123864,28.91005192142395,1.6847671745116644,55.00629334713253,-23.772078450770753,142.91270905212318,19.938197813542097,-3.5301984131333355,17.81459058078769,-3.8695155138847332,65.47487037622392,-9.050046023563159,-8.686716217840864,-32.544447144843886,7.829840524918123,3.021206002613664,-9.603609093863136,-30.593926331246017,-96.08823326465173,-94.99305520465458,-27.676720316681312,-125.2006459061044,13.863682755176916,-15.519992929280457,-18.261391333759693,-65.52394359065184,3.394885388368982,19.62586548373812,-2.006092172702561,3.714268710289967,-41.15955548171108,-17.767486307613606,52.50196211660288,101.34547083528618,-91.49370567237293,-135.2905612841756,7.317521273907607,59.623782317622506,2.839696901379416,49.587986338829516,77.97349339376,-0.5592084194357517,-49.71529606446819,-7.041139840504858,-4.877821515775041,10.311871739176635,32.99252039677747,73.86177404656547,-48.12902272767039,18.319709902161083,58.26776560101726,-55.12664885620383,14.749130184276874,-2.159328968411215,46.37158505522086,11.011049188972025,2.5138028439767415,-15.11133687180109,-39.13097818947437,60.659923277678764,97.48954359651152,36.519058291316135,-59.781823394934705,-65.27226489451277,-7.324305205879869,18.875303248924048,61.04911414697508,-106.47080048833604,-55.815733373516174,-23.543991368084217,1.1493465839586374,-84.33584319994355,-2.103557691289096,22.803775911190968,-28.785203451534365,-172.22266884575615,40.35833675099711,-78.96799926051827,-5.446330911378441,79.7421956139458,42.31103107863084,13.63271585672489,-105.61050052882534,-52.84990932642004,16.479372805430632,3.97977721251355,9.32443902756598,125.91117571456817,-144.167232420105,19.358609380079297,19.972991798694295,-54.915293055146904,-55.553314323972124,-232.261025004562,-247.82529551397246,6.936338450564825,-84.6488545841294,62.63111947242225,-16.128424456853203,-112.79636314047397,8.085883653591447,-48.1392542804139,13.096005740680411,16.414363663485148,59.13419707670127,-51.08978151851874,-82.54572812029035,-129.06340592765943,8.931478775277066,14.942728597669367,59.42842996047625,-58.011259232623345,-18.20943896926166,169.52330134037342,9.521679546574834,3.38206667853486,36.06844067337239,4.721161283030347,-15.207870701797646,-18.73614417800418,3.3863255038491276,-143.6099387077426,-6.291896660402481,-49.33712546275995,2.289144017216774,-18.963119586839227,51.40688237059704,-9.142704948897897,12.32516906772253,-0.318059903493677,-98.9950204401043,-95.41870771098513,15.195357435607812,-28.022667015532072,11.989463748556922,19.04458109790126,-29.608688825416667,-51.44756344725295,36.816812848099154,-0.8607487153361595,-11.86973886809559,-72.24979562014225,9.809768435222708,-62.97906556225513,-7.728647469520871,-10.314649029098694,-65.32526861617704,-48.03662596759384,75.57360767968963,-57.45936232446164,1.3201358994299013,-3.9901936820315487,-19.302602685576463,-215.7160580290645,-23.91567633112264,4.183167549216955,-33.985416373285894,20.248974805680184,-36.63028382203281,-27.180328180793694,-44.107016347701574,20.407953452108455,-10.93780502709408,-34.564673774684046,3.5030398615994227,8.130679364626715,-15.58149846649217,-35.53931462667021,50.63234818949724,20.189377861672547,-110.320881326368,12.911290767657341,4.594391807513039,-44.14552333696402,98.4808539862203,2.7139389385545662,61.80818104071524,57.15856803665097,-9.526632516829505,-80.20804239991445,14.721380734499137,16.791176816218773,33.01575923210622,-105.33766056401825,0.22343777652105828,-32.53061732548671,-1.6398001167812766,-0.37866509498185347,6.0201295655891665,-14.419535415440766,19.13681497632475,-31.55053833092883,39.926652230012074,-24.537883126103228,-36.54328032456338,53.441643241803206,-52.62721171022597,7.8624564360450995,-17.85951552019358,-98.7923013217738,-27.20559213522833,56.95515292185704,-10.451722358790319,17.90884984709875,-34.0427479135825,-2.0759911706922956,22.3491681746432,-87.5333918014009,-24.96356060134971,-44.82059069493553,109.23340687286324,-115.22111046876991,-15.750273623867198,-195.2447018033071,-50.40582771428041,-25.019723919319155,-180.99896376585193,-351.153892001631,-183.06209169014434,-21.497488680800764,-116.89458442359879,6.472605387825528,-128.39969643992848,32.61853266770784,-16.308118953214894,-64.51347002238431,-170.3893695535841,-15.259602377087747,10.754843925073294,52.99781390146223,-11.365266552329617,3.8945455672542395,73.59667715124002,-77.36957015945426,-142.79868164826465,13.406235911481982,-72.71854327857453,-20.920659365279736,-18.727233879467963,29.553430022517112,-90.19178713319779,-27.43419690460434,5.9199862802797725,-46.79461341378402,-22.829645242025123,22.498980017853647,44.16371774599951,84.45316940789967,-84.68799636594511,87.97408927503024,-74.18453002457585,-26.898197745836743,-149.00788229230184,50.40226931582198,7.442002947701244,73.38912582762018,-21.520955284057912,-69.69862654651064,-30.034627811654076,20.475486496911234,-81.46924728220944,1.5219706966123931,8.416467527693225,7.97811092453149,-97.23031490961826,-33.15435242711347,-11.930817857119903,34.63557770792147,-14.999190148652595,-59.61416423779132,-245.94409482182465,-1.969269832410974,15.054742755256022,94.40705578292472,-13.70874513850473,-139.80219446971742,-15.290644274806217,-55.25829086687648,-0.13845135322945373,-123.86122504692996,-8.283704763071851,-230.85825480867803,130.14891359391143,-58.93441202726816,-101.91895570465745,-46.95487100834811,45.66477656543559,17.680939701172342,-6.960837008551142,-12.400825394990964,-279.3468736962434,-93.43949087059808,14.921541585377785,35.690006574241536,-14.929525414436116,10.11997050035317,-172.9475117115957,-17.089061972692196,112.84410367687914,-1.775912471556184,-44.050954363096444,19.92143519777347,60.201903197575824,78.63745867262547,0.4350710728059617,-126.42885501531936,71.70967351515559,26.514244485354016,-16.65069800409292,-23.798445596824727,-47.86443707624417,-42.527567984688396,3.674836219682721,-90.04360795881556,-11.642345565774464,-6.814544929248548,2.3617044654658006,18.984139906140836,-51.65905355337438,19.130114986644397,-35.998233581129405,-85.35132909432677,135.18647700371892,-33.2348068900599,-45.34946292224601,19.467165054111142,2.165712132488253,23.398177683876618,44.628469932581346,-357.3360167273534,-13.529286232967769,44.08335824524779,-8.121603936625721,-203.08644794847459,-202.84209461429953,5.242824050760452,-120.29095811237389,74.08379818684386,-98.23132473240392,5.04917400451911,-58.380739396999594,0.6730772480378466,76.45518702698973,-41.72607015026005,11.902691681432884,-14.707248623515786,-5.920485551705642,-6.04979148617731,1.9226302314391985,-174.14986459557383,4.494784437946376,-115.30143739372882,-50.336841647334516,-13.119368053384713,-14.827062434782281,-22.797532111131837,-54.821354415722766,-120.26390942222085,-86.5660733743419,-13.793706060921537,21.504835722076415,45.554062041382274,-35.59126842225726,67.4954486439352,-172.4118477745662,-3.356832330096795,-3.3854801407551696,6.883671839612575,-42.97746036747711,-10.535581752373838,-39.015762899535346,-42.133075210192885,37.28995334589446,-7.349272385244912,-268.54772233105496,12.106277053074125,-137.67877781603923,-34.701768270273284,64.58561106776115,-46.24585075891513,12.824509236216864,34.29407255639735,12.469771221212486,-39.50829999039457,0.07668166040429285,31.5169328454498,-402.70799501779334,-89.61072388043053],\"xaxis\":\"x\",\"yaxis\":\"y\"},{\"alignmentgroup\":\"True\",\"hovertemplate\":\"Algorithm=Theta<br>Forecast Bias=%{x}<extra></extra>\",\"legendgroup\":\"Theta\",\"marker\":{\"color\":\"#636efa\"},\"name\":\"Theta\",\"notched\":true,\"offsetgroup\":\"Theta\",\"showlegend\":false,\"type\":\"box\",\"x\":[-21.151956091755746,-25.762580788813764,77.88623109248609,27.962868599208523,-4.295670198519965,-2.7570720666202497,0.9018038844128875,-64.7870893889048,-47.92406560982248,81.21482802375408,2.6864186063001476,53.3773245123864,28.91005192142395,1.6847671745116644,55.00629334713253,-23.772078450770753,142.91270905212318,19.938197813542097,-3.5301984131333355,17.81459058078769,-3.8695155138847332,65.47487037622392,-9.050046023563159,-8.686716217840864,-32.544447144843886,7.829840524918123,3.021206002613664,-9.603609093863136,-30.593926331246017,-96.08823326465173,-94.99305520465458,-27.676720316681312,-125.2006459061044,13.863682755176916,-15.519992929280457,-18.261391333759693,-65.52394359065184,3.394885388368982,19.62586548373812,-2.006092172702561,3.714268710289967,-41.15955548171108,-17.767486307613606,52.50196211660288,101.34547083528618,-91.49370567237293,-135.2905612841756,7.317521273907607,59.623782317622506,2.839696901379416,49.587986338829516,77.97349339376,-0.5592084194357517,-49.71529606446819,-7.041139840504858,-4.877821515775041,10.311871739176635,32.99252039677747,73.86177404656547,-48.12902272767039,18.319709902161083,58.26776560101726,-55.12664885620383,14.749130184276874,-2.159328968411215,46.37158505522086,11.011049188972025,2.5138028439767415,-15.11133687180109,-39.13097818947437,60.659923277678764,97.48954359651152,36.519058291316135,-59.781823394934705,-65.27226489451277,-7.324305205879869,18.875303248924048,61.04911414697508,-106.47080048833604,-55.815733373516174,-23.543991368084217,1.1493465839586374,-84.33584319994355,-2.103557691289096,22.803775911190968,-28.785203451534365,-172.22266884575615,40.35833675099711,-78.96799926051827,-5.446330911378441,79.7421956139458,42.31103107863084,13.63271585672489,-105.61050052882534,-52.84990932642004,16.479372805430632,3.97977721251355,9.32443902756598,125.91117571456817,-144.167232420105,19.358609380079297,19.972991798694295,-54.915293055146904,-55.553314323972124,-232.261025004562,-247.82529551397246,6.936338450564825,-84.6488545841294,62.63111947242225,-16.128424456853203,-112.79636314047397,8.085883653591447,-48.1392542804139,13.096005740680411,16.414363663485148,59.13419707670127,-51.08978151851874,-82.54572812029035,-129.06340592765943,8.931478775277066,14.942728597669367,59.42842996047625,-58.011259232623345,-18.20943896926166,169.52330134037342,9.521679546574834,3.38206667853486,36.06844067337239,4.721161283030347,-15.207870701797646,-18.73614417800418,3.3863255038491276,-143.6099387077426,-6.291896660402481,-49.33712546275995,2.289144017216774,-18.963119586839227,51.40688237059704,-9.142704948897897,12.32516906772253,-0.318059903493677,-98.9950204401043,-95.41870771098513,15.195357435607812,-28.022667015532072,11.989463748556922,19.04458109790126,-29.608688825416667,-51.44756344725295,36.816812848099154,-0.8607487153361595,-11.86973886809559,-72.24979562014225,9.809768435222708,-62.97906556225513,-7.728647469520871,-10.314649029098694,-65.32526861617704,-48.03662596759384,75.57360767968963,-57.45936232446164,1.3201358994299013,-3.9901936820315487,-19.302602685576463,-215.7160580290645,-23.91567633112264,4.183167549216955,-33.985416373285894,20.248974805680184,-36.63028382203281,-27.180328180793694,-44.107016347701574,20.407953452108455,-10.93780502709408,-34.564673774684046,3.5030398615994227,8.130679364626715,-15.58149846649217,-35.53931462667021,50.63234818949724,20.189377861672547,-110.320881326368,12.911290767657341,4.594391807513039,-44.14552333696402,98.4808539862203,2.7139389385545662,61.80818104071524,57.15856803665097,-9.526632516829505,-80.20804239991445,14.721380734499137,16.791176816218773,33.01575923210622,-105.33766056401825,0.22343777652105828,-32.53061732548671,-1.6398001167812766,-0.37866509498185347,6.0201295655891665,-14.419535415440766,19.13681497632475,-31.55053833092883,39.926652230012074,-24.537883126103228,-36.54328032456338,53.441643241803206,-52.62721171022597,7.8624564360450995,-17.85951552019358,-98.7923013217738,-27.20559213522833,56.95515292185704,-10.451722358790319,17.90884984709875,-34.0427479135825,-2.0759911706922956,22.3491681746432,-87.5333918014009,-24.96356060134971,-44.82059069493553,109.23340687286324,-115.22111046876991,-15.750273623867198,-195.2447018033071,-50.40582771428041,-25.019723919319155,-180.99896376585193,-351.153892001631,-183.06209169014434,-21.497488680800764,-116.89458442359879,6.472605387825528,-128.39969643992848,32.61853266770784,-16.308118953214894,-64.51347002238431,-170.3893695535841,-15.259602377087747,10.754843925073294,52.99781390146223,-11.365266552329617,3.8945455672542395,73.59667715124002,-77.36957015945426,-142.79868164826465,13.406235911481982,-72.71854327857453,-20.920659365279736,-18.727233879467963,29.553430022517112,-90.19178713319779,-27.43419690460434,5.9199862802797725,-46.79461341378402,-22.829645242025123,22.498980017853647,44.16371774599951,84.45316940789967,-84.68799636594511,87.97408927503024,-74.18453002457585,-26.898197745836743,-149.00788229230184,50.40226931582198,7.442002947701244,73.38912582762018,-21.520955284057912,-69.69862654651064,-30.034627811654076,20.475486496911234,-81.46924728220944,1.5219706966123931,8.416467527693225,7.97811092453149,-97.23031490961826,-33.15435242711347,-11.930817857119903,34.63557770792147,-14.999190148652595,-59.61416423779132,-245.94409482182465,-1.969269832410974,15.054742755256022,94.40705578292472,-13.70874513850473,-139.80219446971742,-15.290644274806217,-55.25829086687648,-0.13845135322945373,-123.86122504692996,-8.283704763071851,-230.85825480867803,130.14891359391143,-58.93441202726816,-101.91895570465745,-46.95487100834811,45.66477656543559,17.680939701172342,-6.960837008551142,-12.400825394990964,-279.3468736962434,-93.43949087059808,14.921541585377785,35.690006574241536,-14.929525414436116,10.11997050035317,-172.9475117115957,-17.089061972692196,112.84410367687914,-1.775912471556184,-44.050954363096444,19.92143519777347,60.201903197575824,78.63745867262547,0.4350710728059617,-126.42885501531936,71.70967351515559,26.514244485354016,-16.65069800409292,-23.798445596824727,-47.86443707624417,-42.527567984688396,3.674836219682721,-90.04360795881556,-11.642345565774464,-6.814544929248548,2.3617044654658006,18.984139906140836,-51.65905355337438,19.130114986644397,-35.998233581129405,-85.35132909432677,135.18647700371892,-33.2348068900599,-45.34946292224601,19.467165054111142,2.165712132488253,23.398177683876618,44.628469932581346,-357.3360167273534,-13.529286232967769,44.08335824524779,-8.121603936625721,-203.08644794847459,-202.84209461429953,5.242824050760452,-120.29095811237389,74.08379818684386,-98.23132473240392,5.04917400451911,-58.380739396999594,0.6730772480378466,76.45518702698973,-41.72607015026005,11.902691681432884,-14.707248623515786,-5.920485551705642,-6.04979148617731,1.9226302314391985,-174.14986459557383,4.494784437946376,-115.30143739372882,-50.336841647334516,-13.119368053384713,-14.827062434782281,-22.797532111131837,-54.821354415722766,-120.26390942222085,-86.5660733743419,-13.793706060921537,21.504835722076415,45.554062041382274,-35.59126842225726,67.4954486439352,-172.4118477745662,-3.356832330096795,-3.3854801407551696,6.883671839612575,-42.97746036747711,-10.535581752373838,-39.015762899535346,-42.133075210192885,37.28995334589446,-7.349272385244912,-268.54772233105496,12.106277053074125,-137.67877781603923,-34.701768270273284,64.58561106776115,-46.24585075891513,12.824509236216864,34.29407255639735,12.469771221212486,-39.50829999039457,0.07668166040429285,31.5169328454498,-402.70799501779334,-89.61072388043053],\"xaxis\":\"x2\",\"yaxis\":\"y2\"},{\"alignmentgroup\":\"True\",\"bingroup\":\"x\",\"histnorm\":\"probability density\",\"hovertemplate\":\"Algorithm=FFT<br>Forecast Bias=%{x}<br>probability density=%{y}<extra></extra>\",\"legendgroup\":\"FFT\",\"marker\":{\"color\":\"#EF553B\",\"opacity\":0.5,\"pattern\":{\"shape\":\"/\"}},\"name\":\"FFT\",\"nbinsx\":250,\"offsetgroup\":\"FFT\",\"orientation\":\"v\",\"showlegend\":true,\"type\":\"histogram\",\"x\":[19.78989440652527,19.20694235707612,-3.2366477330185828,-19.18053303981325,-18.135195888699798,54.13668824149981,-0.3310771845249349,13.922531357786463,-10.094846868795653,-34.7600968046204,7.963605158143551,-3.3252873900644957,0.6238301205572847,-5.231440082769047,19.869526632220516,32.2178699591025,-4.646070169085054,8.134236718468383,16.222447061734783,19.30796879791929,-30.68297847042269,-20.41142882864878,-1.460032464997065,16.005090009943444,-7.190602432216734,25.608831849427517,1.6922334325162145,12.785804427717867,-1.6029787701374716,16.78398519192076,86.86248573341256,31.919224183461587,0.8740769683068859,-6.947363947659089,-56.34250794520849,14.748222493617513,8.74302931006005,-6.074062392822794,14.988324044752927,-16.132657643418,18.91144870545942,19.126857361221575,-18.850121682809814,67.60374025109383,18.163938033377885,-27.238871157745866,18.876544935594065,1.2920199257518579,33.49633016380393,37.797135879818235,12.66892067050972,27.244714849501438,1.8892364406630293,10.230482742989436,-19.443872309864794,26.532341262087456,-7.867302296823493,4.8472445238815025,15.661303112416041,12.545143670877607,-21.728960150984893,75.32343011699874,26.521425644268167,43.77548506309859,-5.185511948240479,21.860294515375774,12.52862413945027,-6.483976835604106,55.36386765982514,2.3455210329489518,5.239019711916386,26.78425522060179,11.261640569211014,20.62736057417367,121.38855642981798,5.829088863566375,33.7727623860826,11.170595737756425,-1.3925772406603274,-6.407508607875037,-39.17500942849904,-11.493723593534337,19.583799909315434,48.18118872611956,22.334579825398865,12.346423028358435,10.081300569261643,38.81587387876948,16.399042056884827,0.9289012405222813,22.681781119064894,8.899727444037365,27.623530242727195,15.746168685688167,-156.38382507780665,-4.994650170929468,14.27981726565776,16.28910902186297,28.821178954199834,14.539236105768127,-0.6914683058918577,69.88968818690084,43.52823664103854,55.37775068296875,42.88457409164709,34.38506343653924,73.09024343678632,19.599775627273708,17.880074363320844,15.476974368614163,46.35277712063648,22.14736114358788,21.820708500894252,62.44253606225968,23.869147943365032,39.934285209242326,10.3553275729836,31.885784298360655,-13.889789266659017,-0.04509235850003865,25.244596448252356,66.06942230240267,30.683087359928034,27.62601853197082,1934.5790901106745,48.296615849806585,28.339091334543674,22.8318094321883,5.103907955248807,76.08330459257672,42.011849303873596,28.727418394298216,46.647777495577856,29.251176144917146,42.835671108248846,14.414263712714012,1.88386424763979,45.724673036547635,27.668143131983115,15.46499063588013,94.97423599730148,65.78342140343678,-48.23258798250135,15.412313703623454,34.03237714519611,11.418369066587255,12.022208767669344,11.577387011544754,22.17385147815359,16.757682759816774,-24.996504116145964,9.588036435380195,-38.698652805378785,11.203010943541214,45.13970164236747,34.16972088121366,16.601415366942888,15.088393851247735,27.022368736972595,26.042622054979315,14.768087969480176,-75.39426262559226,-18.116454904801305,-2.8531519219421337,52.39760541109118,9.91995979938258,25.118932149016366,17.905066467992885,19.92012419576333,43.173181200536035,-1.9766754551271488,24.607324789093102,42.758830640265785,11.032524008070444,15.645131564095967,89.26582493029989,-5.36723556999691,20.245546961334586,0.5488167438116882,33.08153701885927,6.788569495487656,47.06339962766362,8.87664205281624,25.865209180878878,9.258063220464198,47.00648960270849,-0.9680136158442092,43.09292028894394,-38.299782156694675,202.7684186609624,25.158484783325985,-3.944180555025125,0.24030551637944716,23.586328467160033,17.635222056873445,14.989441053775533,1.3207459964625494,-35.05722936821222,17.366155730867877,31.214308522026922,-9.243447895626787,24.245097232090426,62.30249253289439,-10.998180491949348,6.16078295281751,-1.4364038627305575,-147.53424424408436,-11.489468997214711,-17.177432230755954,13.341948812747562,16.4837134778392,2.7521829750426496,3.892444140656637,-1.5339460462452417,14.754622648598215,13.872801788641894,136.32343774866567,-9.809437349012551,-42.85877393239831,4.532960024686456,9.184970250391961,-22.722616290818365,5.36223991544197,-9.794260892111362,-8.31476994820535,-458.75695145253525,-43.67449088021097,3.86150158768747,18.082512560372454,55.05041373354034,11.536123840612134,-1.1380640373682431,160.52021952764267,-13.288299729542818,8.09102493940024,-75.00967569160551,31.099620678391776,34.404020449381925,2.9907196119314854,-44.2749730549897,34.88011716929023,5.724877013584238,4.351767927594101,9.000902005663457,19.645373884440904,16.19192668875094,32.992201465680296,-16.81769874342208,-17.70760191241868,18.45994435146493,15.68966670597339,10.301227934981378,10.03293369259929,3.989279177721344,5.509351545779768,-51.52855624925304,31.333954513971218,-9.28727959548659,3.8982505580298885,30.095785187730463,63.60058946762444,12.600436037346958,-5.335826206399701,54.37794215376132,-1.3559641917748835,35.96736369858905,-17.227304946143914,-1.0524090525922356,-23.263896387449964,-15.005392119516303,2.2341396149409114,12.50536719220654,8.64368921664404,27.70112676647003,41.60577782054452,-168.37194217172672,-30.909249969898127,40.01516875650818,41.17847994471976,-17.627334843599748,31.29659514521081,-26.23575703436619,-22.72102781448225,-3.707902504632127,-16.3677550984659,-15.828381595816026,-36.749911873350555,16.01112747633413,-15.944286805062447,-10.476382137266642,-70.66354442017266,-7.068722324123253,-46.44064247212391,17.858342220624326,12.521002750490767,-57.93021999674024,-27.917467573259497,-13.12035121476207,-17.530374806466,-29.984165940390522,5.105724207962501,-31.04003790858268,5.0051882881645104,-37.630510616278734,-20.506757845637587,-5.656939086040188,-4.104168627926112,-21.635039005907313,-8.125541909187303,55.463956301748254,0.9913412386895116,-29.420664961001012,-2.753019285608861,-16.998328364934423,18.498333308791437,-6.5993403557238555,-0.21476651879780637,57.70052814561396,15.639567152197117,14.496068586830221,33.63572889444004,7.565700052277251,1.210247586124882,15.736975886044227,2.5805008070810076,-4.269230696402044,-84.55541102388543,-16.646152769603905,10.162311807472701,43.36314566206536,23.253629340174225,-2.2677232537495353,11.955855764191684,-7.531740022673383,5.1077444984945775,0.09705059905079232,-6.416944071415881,19.295526989260956,42.67743392785274,5.453858890139858,37.1254398840153,-2.0654773534408952,-8.88799388145875,-17.667599663980354,-19.88858414963755,-26.542082666441047,-1.4373593048864561,-2.242599768562853,-4.039487545725672,-0.9003435413123058,22.72654277884308,30.129756830522087,42.17668842917558,35.89309037881487,120.26591172748185,4.019159178780473,13.614735408335344,33.82036124390259,51.52655371985133,23.78132002918273,23.346266114721566,38.674561460412946,-62.07570710416241,-4.002388897972853,-0.8976618584371793,0.973031034057547,-6.9643496309590605,10.791027321546085,-10.83652591056549,-12.717742210494373,-3.867537816576775,-0.9259586959652554,3.839085326747388,18.758969172639592,-17.796545740593288,-3.4845833054012356,9.733675637845161,41.12248821621572,1.9362197095100855,7.129100115594514,37.59440622507077,13.001690702135196,4.392985578452751,23.89644658990779,11.635510923324837,20.507854447583593,-24.527707027765697,3.4589976027762965,-67.04513817545981,-14.427365921259364,-8.772360796816512,9.674152989697163,4.586328398260372,13.986671255887611,13.585532130475228,23.959606388623538,16.79019090132734,-157.86120375365675,33.15322963048408],\"xaxis\":\"x\",\"yaxis\":\"y\"},{\"alignmentgroup\":\"True\",\"hovertemplate\":\"Algorithm=FFT<br>Forecast Bias=%{x}<extra></extra>\",\"legendgroup\":\"FFT\",\"marker\":{\"color\":\"#EF553B\"},\"name\":\"FFT\",\"notched\":true,\"offsetgroup\":\"FFT\",\"showlegend\":false,\"type\":\"box\",\"x\":[19.78989440652527,19.20694235707612,-3.2366477330185828,-19.18053303981325,-18.135195888699798,54.13668824149981,-0.3310771845249349,13.922531357786463,-10.094846868795653,-34.7600968046204,7.963605158143551,-3.3252873900644957,0.6238301205572847,-5.231440082769047,19.869526632220516,32.2178699591025,-4.646070169085054,8.134236718468383,16.222447061734783,19.30796879791929,-30.68297847042269,-20.41142882864878,-1.460032464997065,16.005090009943444,-7.190602432216734,25.608831849427517,1.6922334325162145,12.785804427717867,-1.6029787701374716,16.78398519192076,86.86248573341256,31.919224183461587,0.8740769683068859,-6.947363947659089,-56.34250794520849,14.748222493617513,8.74302931006005,-6.074062392822794,14.988324044752927,-16.132657643418,18.91144870545942,19.126857361221575,-18.850121682809814,67.60374025109383,18.163938033377885,-27.238871157745866,18.876544935594065,1.2920199257518579,33.49633016380393,37.797135879818235,12.66892067050972,27.244714849501438,1.8892364406630293,10.230482742989436,-19.443872309864794,26.532341262087456,-7.867302296823493,4.8472445238815025,15.661303112416041,12.545143670877607,-21.728960150984893,75.32343011699874,26.521425644268167,43.77548506309859,-5.185511948240479,21.860294515375774,12.52862413945027,-6.483976835604106,55.36386765982514,2.3455210329489518,5.239019711916386,26.78425522060179,11.261640569211014,20.62736057417367,121.38855642981798,5.829088863566375,33.7727623860826,11.170595737756425,-1.3925772406603274,-6.407508607875037,-39.17500942849904,-11.493723593534337,19.583799909315434,48.18118872611956,22.334579825398865,12.346423028358435,10.081300569261643,38.81587387876948,16.399042056884827,0.9289012405222813,22.681781119064894,8.899727444037365,27.623530242727195,15.746168685688167,-156.38382507780665,-4.994650170929468,14.27981726565776,16.28910902186297,28.821178954199834,14.539236105768127,-0.6914683058918577,69.88968818690084,43.52823664103854,55.37775068296875,42.88457409164709,34.38506343653924,73.09024343678632,19.599775627273708,17.880074363320844,15.476974368614163,46.35277712063648,22.14736114358788,21.820708500894252,62.44253606225968,23.869147943365032,39.934285209242326,10.3553275729836,31.885784298360655,-13.889789266659017,-0.04509235850003865,25.244596448252356,66.06942230240267,30.683087359928034,27.62601853197082,1934.5790901106745,48.296615849806585,28.339091334543674,22.8318094321883,5.103907955248807,76.08330459257672,42.011849303873596,28.727418394298216,46.647777495577856,29.251176144917146,42.835671108248846,14.414263712714012,1.88386424763979,45.724673036547635,27.668143131983115,15.46499063588013,94.97423599730148,65.78342140343678,-48.23258798250135,15.412313703623454,34.03237714519611,11.418369066587255,12.022208767669344,11.577387011544754,22.17385147815359,16.757682759816774,-24.996504116145964,9.588036435380195,-38.698652805378785,11.203010943541214,45.13970164236747,34.16972088121366,16.601415366942888,15.088393851247735,27.022368736972595,26.042622054979315,14.768087969480176,-75.39426262559226,-18.116454904801305,-2.8531519219421337,52.39760541109118,9.91995979938258,25.118932149016366,17.905066467992885,19.92012419576333,43.173181200536035,-1.9766754551271488,24.607324789093102,42.758830640265785,11.032524008070444,15.645131564095967,89.26582493029989,-5.36723556999691,20.245546961334586,0.5488167438116882,33.08153701885927,6.788569495487656,47.06339962766362,8.87664205281624,25.865209180878878,9.258063220464198,47.00648960270849,-0.9680136158442092,43.09292028894394,-38.299782156694675,202.7684186609624,25.158484783325985,-3.944180555025125,0.24030551637944716,23.586328467160033,17.635222056873445,14.989441053775533,1.3207459964625494,-35.05722936821222,17.366155730867877,31.214308522026922,-9.243447895626787,24.245097232090426,62.30249253289439,-10.998180491949348,6.16078295281751,-1.4364038627305575,-147.53424424408436,-11.489468997214711,-17.177432230755954,13.341948812747562,16.4837134778392,2.7521829750426496,3.892444140656637,-1.5339460462452417,14.754622648598215,13.872801788641894,136.32343774866567,-9.809437349012551,-42.85877393239831,4.532960024686456,9.184970250391961,-22.722616290818365,5.36223991544197,-9.794260892111362,-8.31476994820535,-458.75695145253525,-43.67449088021097,3.86150158768747,18.082512560372454,55.05041373354034,11.536123840612134,-1.1380640373682431,160.52021952764267,-13.288299729542818,8.09102493940024,-75.00967569160551,31.099620678391776,34.404020449381925,2.9907196119314854,-44.2749730549897,34.88011716929023,5.724877013584238,4.351767927594101,9.000902005663457,19.645373884440904,16.19192668875094,32.992201465680296,-16.81769874342208,-17.70760191241868,18.45994435146493,15.68966670597339,10.301227934981378,10.03293369259929,3.989279177721344,5.509351545779768,-51.52855624925304,31.333954513971218,-9.28727959548659,3.8982505580298885,30.095785187730463,63.60058946762444,12.600436037346958,-5.335826206399701,54.37794215376132,-1.3559641917748835,35.96736369858905,-17.227304946143914,-1.0524090525922356,-23.263896387449964,-15.005392119516303,2.2341396149409114,12.50536719220654,8.64368921664404,27.70112676647003,41.60577782054452,-168.37194217172672,-30.909249969898127,40.01516875650818,41.17847994471976,-17.627334843599748,31.29659514521081,-26.23575703436619,-22.72102781448225,-3.707902504632127,-16.3677550984659,-15.828381595816026,-36.749911873350555,16.01112747633413,-15.944286805062447,-10.476382137266642,-70.66354442017266,-7.068722324123253,-46.44064247212391,17.858342220624326,12.521002750490767,-57.93021999674024,-27.917467573259497,-13.12035121476207,-17.530374806466,-29.984165940390522,5.105724207962501,-31.04003790858268,5.0051882881645104,-37.630510616278734,-20.506757845637587,-5.656939086040188,-4.104168627926112,-21.635039005907313,-8.125541909187303,55.463956301748254,0.9913412386895116,-29.420664961001012,-2.753019285608861,-16.998328364934423,18.498333308791437,-6.5993403557238555,-0.21476651879780637,57.70052814561396,15.639567152197117,14.496068586830221,33.63572889444004,7.565700052277251,1.210247586124882,15.736975886044227,2.5805008070810076,-4.269230696402044,-84.55541102388543,-16.646152769603905,10.162311807472701,43.36314566206536,23.253629340174225,-2.2677232537495353,11.955855764191684,-7.531740022673383,5.1077444984945775,0.09705059905079232,-6.416944071415881,19.295526989260956,42.67743392785274,5.453858890139858,37.1254398840153,-2.0654773534408952,-8.88799388145875,-17.667599663980354,-19.88858414963755,-26.542082666441047,-1.4373593048864561,-2.242599768562853,-4.039487545725672,-0.9003435413123058,22.72654277884308,30.129756830522087,42.17668842917558,35.89309037881487,120.26591172748185,4.019159178780473,13.614735408335344,33.82036124390259,51.52655371985133,23.78132002918273,23.346266114721566,38.674561460412946,-62.07570710416241,-4.002388897972853,-0.8976618584371793,0.973031034057547,-6.9643496309590605,10.791027321546085,-10.83652591056549,-12.717742210494373,-3.867537816576775,-0.9259586959652554,3.839085326747388,18.758969172639592,-17.796545740593288,-3.4845833054012356,9.733675637845161,41.12248821621572,1.9362197095100855,7.129100115594514,37.59440622507077,13.001690702135196,4.392985578452751,23.89644658990779,11.635510923324837,20.507854447583593,-24.527707027765697,3.4589976027762965,-67.04513817545981,-14.427365921259364,-8.772360796816512,9.674152989697163,4.586328398260372,13.986671255887611,13.585532130475228,23.959606388623538,16.79019090132734,-157.86120375365675,33.15322963048408],\"xaxis\":\"x2\",\"yaxis\":\"y2\"}],                        {\"autosize\":false,\"barmode\":\"overlay\",\"height\":500,\"legend\":{\"title\":{},\"tracegroupgap\":0},\"margin\":{\"t\":60},\"template\":{\"data\":{\"bar\":[{\"error_x\":{\"color\":\"#2a3f5f\"},\"error_y\":{\"color\":\"#2a3f5f\"},\"marker\":{\"line\":{\"color\":\"white\",\"width\":0.5},\"pattern\":{\"fillmode\":\"overlay\",\"size\":10,\"solidity\":0.2}},\"type\":\"bar\"}],\"barpolar\":[{\"marker\":{\"line\":{\"color\":\"white\",\"width\":0.5},\"pattern\":{\"fillmode\":\"overlay\",\"size\":10,\"solidity\":0.2}},\"type\":\"barpolar\"}],\"carpet\":[{\"aaxis\":{\"endlinecolor\":\"#2a3f5f\",\"gridcolor\":\"#C8D4E3\",\"linecolor\":\"#C8D4E3\",\"minorgridcolor\":\"#C8D4E3\",\"startlinecolor\":\"#2a3f5f\"},\"baxis\":{\"endlinecolor\":\"#2a3f5f\",\"gridcolor\":\"#C8D4E3\",\"linecolor\":\"#C8D4E3\",\"minorgridcolor\":\"#C8D4E3\",\"startlinecolor\":\"#2a3f5f\"},\"type\":\"carpet\"}],\"choropleth\":[{\"colorbar\":{\"outlinewidth\":0,\"ticks\":\"\"},\"type\":\"choropleth\"}],\"contour\":[{\"colorbar\":{\"outlinewidth\":0,\"ticks\":\"\"},\"colorscale\":[[0.0,\"#0d0887\"],[0.1111111111111111,\"#46039f\"],[0.2222222222222222,\"#7201a8\"],[0.3333333333333333,\"#9c179e\"],[0.4444444444444444,\"#bd3786\"],[0.5555555555555556,\"#d8576b\"],[0.6666666666666666,\"#ed7953\"],[0.7777777777777778,\"#fb9f3a\"],[0.8888888888888888,\"#fdca26\"],[1.0,\"#f0f921\"]],\"type\":\"contour\"}],\"contourcarpet\":[{\"colorbar\":{\"outlinewidth\":0,\"ticks\":\"\"},\"type\":\"contourcarpet\"}],\"heatmap\":[{\"colorbar\":{\"outlinewidth\":0,\"ticks\":\"\"},\"colorscale\":[[0.0,\"#0d0887\"],[0.1111111111111111,\"#46039f\"],[0.2222222222222222,\"#7201a8\"],[0.3333333333333333,\"#9c179e\"],[0.4444444444444444,\"#bd3786\"],[0.5555555555555556,\"#d8576b\"],[0.6666666666666666,\"#ed7953\"],[0.7777777777777778,\"#fb9f3a\"],[0.8888888888888888,\"#fdca26\"],[1.0,\"#f0f921\"]],\"type\":\"heatmap\"}],\"heatmapgl\":[{\"colorbar\":{\"outlinewidth\":0,\"ticks\":\"\"},\"colorscale\":[[0.0,\"#0d0887\"],[0.1111111111111111,\"#46039f\"],[0.2222222222222222,\"#7201a8\"],[0.3333333333333333,\"#9c179e\"],[0.4444444444444444,\"#bd3786\"],[0.5555555555555556,\"#d8576b\"],[0.6666666666666666,\"#ed7953\"],[0.7777777777777778,\"#fb9f3a\"],[0.8888888888888888,\"#fdca26\"],[1.0,\"#f0f921\"]],\"type\":\"heatmapgl\"}],\"histogram\":[{\"marker\":{\"pattern\":{\"fillmode\":\"overlay\",\"size\":10,\"solidity\":0.2}},\"type\":\"histogram\"}],\"histogram2d\":[{\"colorbar\":{\"outlinewidth\":0,\"ticks\":\"\"},\"colorscale\":[[0.0,\"#0d0887\"],[0.1111111111111111,\"#46039f\"],[0.2222222222222222,\"#7201a8\"],[0.3333333333333333,\"#9c179e\"],[0.4444444444444444,\"#bd3786\"],[0.5555555555555556,\"#d8576b\"],[0.6666666666666666,\"#ed7953\"],[0.7777777777777778,\"#fb9f3a\"],[0.8888888888888888,\"#fdca26\"],[1.0,\"#f0f921\"]],\"type\":\"histogram2d\"}],\"histogram2dcontour\":[{\"colorbar\":{\"outlinewidth\":0,\"ticks\":\"\"},\"colorscale\":[[0.0,\"#0d0887\"],[0.1111111111111111,\"#46039f\"],[0.2222222222222222,\"#7201a8\"],[0.3333333333333333,\"#9c179e\"],[0.4444444444444444,\"#bd3786\"],[0.5555555555555556,\"#d8576b\"],[0.6666666666666666,\"#ed7953\"],[0.7777777777777778,\"#fb9f3a\"],[0.8888888888888888,\"#fdca26\"],[1.0,\"#f0f921\"]],\"type\":\"histogram2dcontour\"}],\"mesh3d\":[{\"colorbar\":{\"outlinewidth\":0,\"ticks\":\"\"},\"type\":\"mesh3d\"}],\"parcoords\":[{\"line\":{\"colorbar\":{\"outlinewidth\":0,\"ticks\":\"\"}},\"type\":\"parcoords\"}],\"pie\":[{\"automargin\":true,\"type\":\"pie\"}],\"scatter\":[{\"marker\":{\"colorbar\":{\"outlinewidth\":0,\"ticks\":\"\"}},\"type\":\"scatter\"}],\"scatter3d\":[{\"line\":{\"colorbar\":{\"outlinewidth\":0,\"ticks\":\"\"}},\"marker\":{\"colorbar\":{\"outlinewidth\":0,\"ticks\":\"\"}},\"type\":\"scatter3d\"}],\"scattercarpet\":[{\"marker\":{\"colorbar\":{\"outlinewidth\":0,\"ticks\":\"\"}},\"type\":\"scattercarpet\"}],\"scattergeo\":[{\"marker\":{\"colorbar\":{\"outlinewidth\":0,\"ticks\":\"\"}},\"type\":\"scattergeo\"}],\"scattergl\":[{\"marker\":{\"colorbar\":{\"outlinewidth\":0,\"ticks\":\"\"}},\"type\":\"scattergl\"}],\"scattermapbox\":[{\"marker\":{\"colorbar\":{\"outlinewidth\":0,\"ticks\":\"\"}},\"type\":\"scattermapbox\"}],\"scatterpolar\":[{\"marker\":{\"colorbar\":{\"outlinewidth\":0,\"ticks\":\"\"}},\"type\":\"scatterpolar\"}],\"scatterpolargl\":[{\"marker\":{\"colorbar\":{\"outlinewidth\":0,\"ticks\":\"\"}},\"type\":\"scatterpolargl\"}],\"scatterternary\":[{\"marker\":{\"colorbar\":{\"outlinewidth\":0,\"ticks\":\"\"}},\"type\":\"scatterternary\"}],\"surface\":[{\"colorbar\":{\"outlinewidth\":0,\"ticks\":\"\"},\"colorscale\":[[0.0,\"#0d0887\"],[0.1111111111111111,\"#46039f\"],[0.2222222222222222,\"#7201a8\"],[0.3333333333333333,\"#9c179e\"],[0.4444444444444444,\"#bd3786\"],[0.5555555555555556,\"#d8576b\"],[0.6666666666666666,\"#ed7953\"],[0.7777777777777778,\"#fb9f3a\"],[0.8888888888888888,\"#fdca26\"],[1.0,\"#f0f921\"]],\"type\":\"surface\"}],\"table\":[{\"cells\":{\"fill\":{\"color\":\"#EBF0F8\"},\"line\":{\"color\":\"white\"}},\"header\":{\"fill\":{\"color\":\"#C8D4E3\"},\"line\":{\"color\":\"white\"}},\"type\":\"table\"}]},\"layout\":{\"annotationdefaults\":{\"arrowcolor\":\"#2a3f5f\",\"arrowhead\":0,\"arrowwidth\":1},\"autotypenumbers\":\"strict\",\"coloraxis\":{\"colorbar\":{\"outlinewidth\":0,\"ticks\":\"\"}},\"colorscale\":{\"diverging\":[[0,\"#8e0152\"],[0.1,\"#c51b7d\"],[0.2,\"#de77ae\"],[0.3,\"#f1b6da\"],[0.4,\"#fde0ef\"],[0.5,\"#f7f7f7\"],[0.6,\"#e6f5d0\"],[0.7,\"#b8e186\"],[0.8,\"#7fbc41\"],[0.9,\"#4d9221\"],[1,\"#276419\"]],\"sequential\":[[0.0,\"#0d0887\"],[0.1111111111111111,\"#46039f\"],[0.2222222222222222,\"#7201a8\"],[0.3333333333333333,\"#9c179e\"],[0.4444444444444444,\"#bd3786\"],[0.5555555555555556,\"#d8576b\"],[0.6666666666666666,\"#ed7953\"],[0.7777777777777778,\"#fb9f3a\"],[0.8888888888888888,\"#fdca26\"],[1.0,\"#f0f921\"]],\"sequentialminus\":[[0.0,\"#0d0887\"],[0.1111111111111111,\"#46039f\"],[0.2222222222222222,\"#7201a8\"],[0.3333333333333333,\"#9c179e\"],[0.4444444444444444,\"#bd3786\"],[0.5555555555555556,\"#d8576b\"],[0.6666666666666666,\"#ed7953\"],[0.7777777777777778,\"#fb9f3a\"],[0.8888888888888888,\"#fdca26\"],[1.0,\"#f0f921\"]]},\"colorway\":[\"#636efa\",\"#EF553B\",\"#00cc96\",\"#ab63fa\",\"#FFA15A\",\"#19d3f3\",\"#FF6692\",\"#B6E880\",\"#FF97FF\",\"#FECB52\"],\"font\":{\"color\":\"#2a3f5f\"},\"geo\":{\"bgcolor\":\"white\",\"lakecolor\":\"white\",\"landcolor\":\"white\",\"showlakes\":true,\"showland\":true,\"subunitcolor\":\"#C8D4E3\"},\"hoverlabel\":{\"align\":\"left\"},\"hovermode\":\"closest\",\"mapbox\":{\"style\":\"light\"},\"paper_bgcolor\":\"white\",\"plot_bgcolor\":\"white\",\"polar\":{\"angularaxis\":{\"gridcolor\":\"#EBF0F8\",\"linecolor\":\"#EBF0F8\",\"ticks\":\"\"},\"bgcolor\":\"white\",\"radialaxis\":{\"gridcolor\":\"#EBF0F8\",\"linecolor\":\"#EBF0F8\",\"ticks\":\"\"}},\"scene\":{\"xaxis\":{\"backgroundcolor\":\"white\",\"gridcolor\":\"#DFE8F3\",\"gridwidth\":2,\"linecolor\":\"#EBF0F8\",\"showbackground\":true,\"ticks\":\"\",\"zerolinecolor\":\"#EBF0F8\"},\"yaxis\":{\"backgroundcolor\":\"white\",\"gridcolor\":\"#DFE8F3\",\"gridwidth\":2,\"linecolor\":\"#EBF0F8\",\"showbackground\":true,\"ticks\":\"\",\"zerolinecolor\":\"#EBF0F8\"},\"zaxis\":{\"backgroundcolor\":\"white\",\"gridcolor\":\"#DFE8F3\",\"gridwidth\":2,\"linecolor\":\"#EBF0F8\",\"showbackground\":true,\"ticks\":\"\",\"zerolinecolor\":\"#EBF0F8\"}},\"shapedefaults\":{\"line\":{\"color\":\"#2a3f5f\"}},\"ternary\":{\"aaxis\":{\"gridcolor\":\"#DFE8F3\",\"linecolor\":\"#A2B1C6\",\"ticks\":\"\"},\"baxis\":{\"gridcolor\":\"#DFE8F3\",\"linecolor\":\"#A2B1C6\",\"ticks\":\"\"},\"bgcolor\":\"white\",\"caxis\":{\"gridcolor\":\"#DFE8F3\",\"linecolor\":\"#A2B1C6\",\"ticks\":\"\"}},\"title\":{\"x\":0.05},\"xaxis\":{\"automargin\":true,\"gridcolor\":\"#EBF0F8\",\"linecolor\":\"#EBF0F8\",\"ticks\":\"\",\"title\":{\"standoff\":15},\"zerolinecolor\":\"#EBF0F8\",\"zerolinewidth\":2},\"yaxis\":{\"automargin\":true,\"gridcolor\":\"#EBF0F8\",\"linecolor\":\"#EBF0F8\",\"ticks\":\"\",\"title\":{\"standoff\":15},\"zerolinecolor\":\"#EBF0F8\",\"zerolinewidth\":2}}},\"title\":{\"font\":{\"size\":20},\"text\":\"Distribution of Forecast Bias in the dataset\",\"x\":0.5,\"xanchor\":\"center\",\"yanchor\":\"top\"},\"width\":900,\"xaxis\":{\"anchor\":\"y\",\"domain\":[0.0,1.0],\"range\":[-200,200],\"title\":{\"font\":{\"size\":12},\"text\":\"Forecast Bias\"}},\"xaxis2\":{\"anchor\":\"y2\",\"domain\":[0.0,1.0],\"matches\":\"x\",\"showgrid\":true,\"showticklabels\":false},\"yaxis\":{\"anchor\":\"x\",\"domain\":[0.0,0.7326],\"title\":{\"font\":{\"size\":12},\"text\":\"Probability Density\"}},\"yaxis2\":{\"anchor\":\"x2\",\"domain\":[0.7426,1.0],\"matches\":\"y2\",\"showgrid\":false,\"showline\":false,\"showticklabels\":false,\"ticks\":\"\"}},                        {\"responsive\": true}                    ).then(function(){\n",
       "                            \n",
       "var gd = document.getElementById('3e5e470a-e5bd-4563-bb9d-5aebea6bcdfb');\n",
       "var x = new MutationObserver(function (mutations, observer) {{\n",
       "        var display = window.getComputedStyle(gd).display;\n",
       "        if (!display || display === 'none') {{\n",
       "            console.log([gd, 'removed!']);\n",
       "            Plotly.purge(gd);\n",
       "            observer.disconnect();\n",
       "        }}\n",
       "}});\n",
       "\n",
       "// Listen for the removal of the full notebook cells\n",
       "var notebookContainer = gd.closest('#notebook-container');\n",
       "if (notebookContainer) {{\n",
       "    x.observe(notebookContainer, {childList: true});\n",
       "}}\n",
       "\n",
       "// Listen for the clearing of the current output cell\n",
       "var outputEl = gd.closest('.output');\n",
       "if (outputEl) {{\n",
       "    x.observe(outputEl, {childList: true});\n",
       "}}\n",
       "\n",
       "                        })                };                });            </script>        </div>"
      ]
     },
     "metadata": {},
     "output_type": "display_data"
    }
   ],
   "source": [
    "fig = px.histogram(baseline_metrics_df, \n",
    "                   x=\"Forecast Bias\", \n",
    "                   color=\"Algorithm\",\n",
    "                   pattern_shape=\"Algorithm\", \n",
    "                   marginal=\"box\", \n",
    "                   nbins=250,\n",
    "                   barmode=\"overlay\",\n",
    "                   histnorm=\"probability density\")\n",
    "fig = format_plot(fig, xlabel=\"Forecast Bias\", ylabel=\"Probability Density\", title=\"Distribution of Forecast Bias in the dataset\")\n",
    "fig.update_layout(xaxis_range=[-200,200])\n",
    "fig.write_image(\"imgs/chapter_4/bias_dist.png\")\n",
    "fig.show()"
   ]
  },
  {
   "cell_type": "markdown",
   "id": "8563e46a-8c50-4ae4-8321-2a36e9d104d8",
   "metadata": {},
   "source": [
    "## Saving the Baseline Forecasts and Metrics"
   ]
  },
  {
   "cell_type": "code",
   "execution_count": 50,
   "id": "330d2005-faba-44da-89a9-29b088758998",
   "metadata": {},
   "outputs": [],
   "source": [
    "os.makedirs(\"data/london_smart_meters/output\", exist_ok=True)\n",
    "output = Path(\"data/london_smart_meters/output\")"
   ]
  },
  {
   "cell_type": "code",
   "execution_count": 51,
   "id": "b93cdcae-b729-42f3-80a8-c6bb368f534f",
   "metadata": {},
   "outputs": [],
   "source": [
    "baseline_pred_df.to_pickle(output/\"baseline_prediction_df.pkl\")\n",
    "baseline_metrics_df.to_pickle(output/\"baseline_metrics_df.pkl\")\n",
    "p_df.to_pickle(output/\"baseline_aggregate_metrics.pkl\")"
   ]
  }
 ],
 "metadata": {
  "kernelspec": {
   "display_name": "Python 3 (ipykernel)",
   "language": "python",
   "name": "python3"
  },
  "language_info": {
   "codemirror_mode": {
    "name": "ipython",
    "version": 3
   },
   "file_extension": ".py",
   "mimetype": "text/x-python",
   "name": "python",
   "nbconvert_exporter": "python",
   "pygments_lexer": "ipython3",
   "version": "3.9.0"
  },
  "varInspector": {
   "cols": {
    "lenName": 16,
    "lenType": 16,
    "lenVar": 40
   },
   "kernels_config": {
    "python": {
     "delete_cmd_postfix": "",
     "delete_cmd_prefix": "del ",
     "library": "var_list.py",
     "varRefreshCmd": "print(var_dic_list())"
    },
    "r": {
     "delete_cmd_postfix": ") ",
     "delete_cmd_prefix": "rm(",
     "library": "var_list.r",
     "varRefreshCmd": "cat(var_dic_list()) "
    }
   },
   "types_to_exclude": [
    "module",
    "function",
    "builtin_function_or_method",
    "instance",
    "_Feature"
   ],
   "window_display": false
  }
 },
 "nbformat": 4,
 "nbformat_minor": 5
}
