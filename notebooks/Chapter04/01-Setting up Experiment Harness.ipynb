{
 "cells": [
  {
   "cell_type": "code",
   "execution_count": 1,
   "id": "b25018c9-2624-434c-aa23-04be1d73e729",
   "metadata": {},
   "outputs": [
    {
     "name": "stdout",
     "output_type": "stream",
     "text": [
      "D:\\Playground\\AdvancedTimeSeriesForecastingBook\\Github\\Modern-Time-Series-Forecasting-with-Python-\n"
     ]
    }
   ],
   "source": [
    "%cd ../.."
   ]
  },
  {
   "cell_type": "code",
   "execution_count": 2,
   "id": "4f023467-970a-461e-a60f-7a66fce6a497",
   "metadata": {},
   "outputs": [
    {
     "name": "stderr",
     "output_type": "stream",
     "text": [
      "C:\\Users\\MANUJO~1\\AppData\\Local\\Temp/ipykernel_2508/2442497750.py:5: TqdmExperimentalWarning: Using `tqdm.autonotebook.tqdm` in notebook mode. Use `tqdm.tqdm` instead to force console mode (e.g. in jupyter console)\n",
      "  from tqdm.autonotebook import tqdm\n"
     ]
    }
   ],
   "source": [
    "import numpy as np\n",
    "import os\n",
    "import pandas as pd\n",
    "from pathlib import Path\n",
    "from tqdm.autonotebook import tqdm\n",
    "import statsmodels.api as sm\n",
    "import warnings\n",
    "np.random.seed()\n",
    "tqdm.pandas()"
   ]
  },
  {
   "cell_type": "markdown",
   "id": "163b0173-695f-47f0-b58f-6a1ed4ce19a0",
   "metadata": {
    "tags": []
   },
   "source": [
    "# Reading Blocks 0-7"
   ]
  },
  {
   "cell_type": "code",
   "execution_count": 3,
   "id": "2d1ba165-4bbd-4d70-a258-6f5c1d614649",
   "metadata": {},
   "outputs": [],
   "source": [
    "from src.utils.data_utils import compact_to_expanded"
   ]
  },
  {
   "cell_type": "code",
   "execution_count": 4,
   "id": "91a45da0-76e2-46ed-9eef-5cd1a1b5623c",
   "metadata": {},
   "outputs": [
    {
     "data": {
      "text/html": [
       "<div>\n",
       "<style scoped>\n",
       "    .dataframe tbody tr th:only-of-type {\n",
       "        vertical-align: middle;\n",
       "    }\n",
       "\n",
       "    .dataframe tbody tr th {\n",
       "        vertical-align: top;\n",
       "    }\n",
       "\n",
       "    .dataframe thead th {\n",
       "        text-align: right;\n",
       "    }\n",
       "</style>\n",
       "<table border=\"1\" class=\"dataframe\">\n",
       "  <thead>\n",
       "    <tr style=\"text-align: right;\">\n",
       "      <th></th>\n",
       "      <th>LCLid</th>\n",
       "      <th>start_timestamp</th>\n",
       "      <th>frequency</th>\n",
       "      <th>energy_consumption</th>\n",
       "      <th>series_length</th>\n",
       "      <th>stdorToU</th>\n",
       "      <th>Acorn</th>\n",
       "      <th>Acorn_grouped</th>\n",
       "      <th>file</th>\n",
       "      <th>holidays</th>\n",
       "      <th>...</th>\n",
       "      <th>windBearing</th>\n",
       "      <th>temperature</th>\n",
       "      <th>dewPoint</th>\n",
       "      <th>pressure</th>\n",
       "      <th>apparentTemperature</th>\n",
       "      <th>windSpeed</th>\n",
       "      <th>precipType</th>\n",
       "      <th>icon</th>\n",
       "      <th>humidity</th>\n",
       "      <th>summary</th>\n",
       "    </tr>\n",
       "  </thead>\n",
       "  <tbody>\n",
       "    <tr>\n",
       "      <th>0</th>\n",
       "      <td>MAC000002</td>\n",
       "      <td>2012-10-13</td>\n",
       "      <td>30min</td>\n",
       "      <td>[0.263, 0.2689999999999999, 0.275, 0.256, 0.21...</td>\n",
       "      <td>24144</td>\n",
       "      <td>Std</td>\n",
       "      <td>ACORN-A</td>\n",
       "      <td>Affluent</td>\n",
       "      <td>block_0</td>\n",
       "      <td>[NO_HOLIDAY, NO_HOLIDAY, NO_HOLIDAY, NO_HOLIDA...</td>\n",
       "      <td>...</td>\n",
       "      <td>[186, 186, 188, 188, 190, 190, 203, 203, 206, ...</td>\n",
       "      <td>[8.78, 8.78, 8.27, 8.27, 7.87, 7.87, 7.89, 7.8...</td>\n",
       "      <td>[6.28, 6.28, 6.21, 6.21, 6.22, 6.22, 6.76, 6.7...</td>\n",
       "      <td>[1007.7, 1007.7, 1007.36, 1007.36, 1006.73, 10...</td>\n",
       "      <td>[7.55, 7.55, 7.34, 7.34, 6.75, 6.75, 6.89, 6.8...</td>\n",
       "      <td>[2.28, 2.28, 1.81, 1.81, 1.95, 1.95, 1.83, 1.8...</td>\n",
       "      <td>[rain, rain, rain, rain, rain, rain, rain, rai...</td>\n",
       "      <td>[clear-night, clear-night, clear-night, clear-...</td>\n",
       "      <td>[0.84, 0.84, 0.87, 0.87, 0.89, 0.89, 0.93, 0.9...</td>\n",
       "      <td>[Clear, Clear, Clear, Clear, Partly Cloudy, Pa...</td>\n",
       "    </tr>\n",
       "    <tr>\n",
       "      <th>1</th>\n",
       "      <td>MAC000246</td>\n",
       "      <td>2012-01-01</td>\n",
       "      <td>30min</td>\n",
       "      <td>[0.509, 0.317, 0.253, 0.249, 0.93, 0.607, 0.10...</td>\n",
       "      <td>37872</td>\n",
       "      <td>Std</td>\n",
       "      <td>ACORN-A</td>\n",
       "      <td>Affluent</td>\n",
       "      <td>block_0</td>\n",
       "      <td>[NO_HOLIDAY, NO_HOLIDAY, NO_HOLIDAY, NO_HOLIDA...</td>\n",
       "      <td>...</td>\n",
       "      <td>[229, 229, 238, 238, 229, 229, 231, 231, 227, ...</td>\n",
       "      <td>[12.12, 12.12, 12.59, 12.59, 12.45, 12.45, 12....</td>\n",
       "      <td>[10.97, 10.97, 11.02, 11.02, 11.04, 11.04, 10....</td>\n",
       "      <td>[1008.1, 1008.1, 1007.88, 1007.88, 1007.95, 10...</td>\n",
       "      <td>[12.12, 12.12, 12.59, 12.59, 12.45, 12.45, 12....</td>\n",
       "      <td>[5.9, 5.9, 6.06, 6.06, 5.31, 5.31, 4.68, 4.68,...</td>\n",
       "      <td>[rain, rain, rain, rain, rain, rain, rain, rai...</td>\n",
       "      <td>[partly-cloudy-night, partly-cloudy-night, clo...</td>\n",
       "      <td>[0.93, 0.93, 0.9, 0.9, 0.91, 0.91, 0.93, 0.93,...</td>\n",
       "      <td>[Mostly Cloudy, Mostly Cloudy, Overcast, Overc...</td>\n",
       "    </tr>\n",
       "    <tr>\n",
       "      <th>2</th>\n",
       "      <td>MAC000450</td>\n",
       "      <td>2012-03-23</td>\n",
       "      <td>30min</td>\n",
       "      <td>[1.337, 1.426, 0.996, 0.971, 0.994, 0.952, 0.8...</td>\n",
       "      <td>33936</td>\n",
       "      <td>Std</td>\n",
       "      <td>ACORN-A</td>\n",
       "      <td>Affluent</td>\n",
       "      <td>block_0</td>\n",
       "      <td>[NO_HOLIDAY, NO_HOLIDAY, NO_HOLIDAY, NO_HOLIDA...</td>\n",
       "      <td>...</td>\n",
       "      <td>[78, 78, 73, 73, 81, 81, 80, 80, 75, 75, 71, 7...</td>\n",
       "      <td>[8.76, 8.76, 8.54, 8.54, 8.09, 8.09, 7.34, 7.3...</td>\n",
       "      <td>[7.25, 7.25, 7.12, 7.12, 7.17, 7.17, 6.68, 6.6...</td>\n",
       "      <td>[1027.41, 1027.41, 1026.91, 1026.91, 1026.54, ...</td>\n",
       "      <td>[7.59, 7.59, 7.43, 7.43, 7.24, 7.24, 7.34, 7.3...</td>\n",
       "      <td>[2.18, 2.18, 2.07, 2.07, 1.72, 1.72, 1.34, 1.3...</td>\n",
       "      <td>[rain, rain, rain, rain, rain, rain, rain, rai...</td>\n",
       "      <td>[fog, fog, fog, fog, fog, fog, fog, fog, fog, ...</td>\n",
       "      <td>[0.9, 0.9, 0.91, 0.91, 0.94, 0.94, 0.96, 0.96,...</td>\n",
       "      <td>[Foggy, Foggy, Foggy, Foggy, Foggy, Foggy, Fog...</td>\n",
       "    </tr>\n",
       "    <tr>\n",
       "      <th>3</th>\n",
       "      <td>MAC001074</td>\n",
       "      <td>2012-05-09</td>\n",
       "      <td>30min</td>\n",
       "      <td>[0.18, 0.086, 0.106, 0.173, 0.146, 0.223, 0.21...</td>\n",
       "      <td>31680</td>\n",
       "      <td>ToU</td>\n",
       "      <td>ACORN-</td>\n",
       "      <td>ACORN-</td>\n",
       "      <td>block_0</td>\n",
       "      <td>[NO_HOLIDAY, NO_HOLIDAY, NO_HOLIDAY, NO_HOLIDA...</td>\n",
       "      <td>...</td>\n",
       "      <td>[215, 215, 207, 207, 215, 215, 216, 216, 126, ...</td>\n",
       "      <td>[11.46, 11.46, 11.38, 11.38, 11.38, 11.38, 10....</td>\n",
       "      <td>[10.23, 10.23, 10.17, 10.17, 10.24, 10.24, 10....</td>\n",
       "      <td>[1007.39, 1007.39, 1007.21, 1007.21, 1007.06, ...</td>\n",
       "      <td>[11.46, 11.46, 11.38, 11.38, 11.38, 11.38, 10....</td>\n",
       "      <td>[2.35, 2.35, 2.15, 2.15, 1.84, 1.84, 1.22, 1.2...</td>\n",
       "      <td>[rain, rain, rain, rain, rain, rain, rain, rai...</td>\n",
       "      <td>[partly-cloudy-night, partly-cloudy-night, par...</td>\n",
       "      <td>[0.92, 0.92, 0.92, 0.92, 0.93, 0.93, 0.95, 0.9...</td>\n",
       "      <td>[Partly Cloudy, Partly Cloudy, Mostly Cloudy, ...</td>\n",
       "    </tr>\n",
       "    <tr>\n",
       "      <th>4</th>\n",
       "      <td>MAC003223</td>\n",
       "      <td>2012-09-18</td>\n",
       "      <td>30min</td>\n",
       "      <td>[0.076, 0.079, 0.123, 0.109, 0.051, 0.069, 0.0...</td>\n",
       "      <td>25344</td>\n",
       "      <td>Std</td>\n",
       "      <td>ACORN-A</td>\n",
       "      <td>Affluent</td>\n",
       "      <td>block_0</td>\n",
       "      <td>[NO_HOLIDAY, NO_HOLIDAY, NO_HOLIDAY, NO_HOLIDA...</td>\n",
       "      <td>...</td>\n",
       "      <td>[236, 236, 240, 240, 242, 242, 244, 244, 248, ...</td>\n",
       "      <td>[14.06, 14.06, 13.12, 13.12, 12.53, 12.53, 12....</td>\n",
       "      <td>[10.82, 10.82, 10.29, 10.29, 9.86, 9.86, 9.83,...</td>\n",
       "      <td>[1011.09, 1011.09, 1010.82, 1010.82, 1010.65, ...</td>\n",
       "      <td>[14.06, 14.06, 13.12, 13.12, 12.53, 12.53, 12....</td>\n",
       "      <td>[3.86, 3.86, 3.81, 3.81, 4.27, 4.27, 4.12, 4.1...</td>\n",
       "      <td>[rain, rain, rain, rain, rain, rain, rain, rai...</td>\n",
       "      <td>[clear-night, clear-night, clear-night, clear-...</td>\n",
       "      <td>[0.81, 0.81, 0.83, 0.83, 0.84, 0.84, 0.86, 0.8...</td>\n",
       "      <td>[Clear, Clear, Clear, Clear, Clear, Clear, Par...</td>\n",
       "    </tr>\n",
       "  </tbody>\n",
       "</table>\n",
       "<p>5 rows × 21 columns</p>\n",
       "</div>"
      ],
      "text/plain": [
       "       LCLid start_timestamp frequency  \\\n",
       "0  MAC000002      2012-10-13     30min   \n",
       "1  MAC000246      2012-01-01     30min   \n",
       "2  MAC000450      2012-03-23     30min   \n",
       "3  MAC001074      2012-05-09     30min   \n",
       "4  MAC003223      2012-09-18     30min   \n",
       "\n",
       "                                  energy_consumption  series_length stdorToU  \\\n",
       "0  [0.263, 0.2689999999999999, 0.275, 0.256, 0.21...          24144      Std   \n",
       "1  [0.509, 0.317, 0.253, 0.249, 0.93, 0.607, 0.10...          37872      Std   \n",
       "2  [1.337, 1.426, 0.996, 0.971, 0.994, 0.952, 0.8...          33936      Std   \n",
       "3  [0.18, 0.086, 0.106, 0.173, 0.146, 0.223, 0.21...          31680      ToU   \n",
       "4  [0.076, 0.079, 0.123, 0.109, 0.051, 0.069, 0.0...          25344      Std   \n",
       "\n",
       "     Acorn Acorn_grouped     file  \\\n",
       "0  ACORN-A      Affluent  block_0   \n",
       "1  ACORN-A      Affluent  block_0   \n",
       "2  ACORN-A      Affluent  block_0   \n",
       "3   ACORN-        ACORN-  block_0   \n",
       "4  ACORN-A      Affluent  block_0   \n",
       "\n",
       "                                            holidays  ...  \\\n",
       "0  [NO_HOLIDAY, NO_HOLIDAY, NO_HOLIDAY, NO_HOLIDA...  ...   \n",
       "1  [NO_HOLIDAY, NO_HOLIDAY, NO_HOLIDAY, NO_HOLIDA...  ...   \n",
       "2  [NO_HOLIDAY, NO_HOLIDAY, NO_HOLIDAY, NO_HOLIDA...  ...   \n",
       "3  [NO_HOLIDAY, NO_HOLIDAY, NO_HOLIDAY, NO_HOLIDA...  ...   \n",
       "4  [NO_HOLIDAY, NO_HOLIDAY, NO_HOLIDAY, NO_HOLIDA...  ...   \n",
       "\n",
       "                                         windBearing  \\\n",
       "0  [186, 186, 188, 188, 190, 190, 203, 203, 206, ...   \n",
       "1  [229, 229, 238, 238, 229, 229, 231, 231, 227, ...   \n",
       "2  [78, 78, 73, 73, 81, 81, 80, 80, 75, 75, 71, 7...   \n",
       "3  [215, 215, 207, 207, 215, 215, 216, 216, 126, ...   \n",
       "4  [236, 236, 240, 240, 242, 242, 244, 244, 248, ...   \n",
       "\n",
       "                                         temperature  \\\n",
       "0  [8.78, 8.78, 8.27, 8.27, 7.87, 7.87, 7.89, 7.8...   \n",
       "1  [12.12, 12.12, 12.59, 12.59, 12.45, 12.45, 12....   \n",
       "2  [8.76, 8.76, 8.54, 8.54, 8.09, 8.09, 7.34, 7.3...   \n",
       "3  [11.46, 11.46, 11.38, 11.38, 11.38, 11.38, 10....   \n",
       "4  [14.06, 14.06, 13.12, 13.12, 12.53, 12.53, 12....   \n",
       "\n",
       "                                            dewPoint  \\\n",
       "0  [6.28, 6.28, 6.21, 6.21, 6.22, 6.22, 6.76, 6.7...   \n",
       "1  [10.97, 10.97, 11.02, 11.02, 11.04, 11.04, 10....   \n",
       "2  [7.25, 7.25, 7.12, 7.12, 7.17, 7.17, 6.68, 6.6...   \n",
       "3  [10.23, 10.23, 10.17, 10.17, 10.24, 10.24, 10....   \n",
       "4  [10.82, 10.82, 10.29, 10.29, 9.86, 9.86, 9.83,...   \n",
       "\n",
       "                                            pressure  \\\n",
       "0  [1007.7, 1007.7, 1007.36, 1007.36, 1006.73, 10...   \n",
       "1  [1008.1, 1008.1, 1007.88, 1007.88, 1007.95, 10...   \n",
       "2  [1027.41, 1027.41, 1026.91, 1026.91, 1026.54, ...   \n",
       "3  [1007.39, 1007.39, 1007.21, 1007.21, 1007.06, ...   \n",
       "4  [1011.09, 1011.09, 1010.82, 1010.82, 1010.65, ...   \n",
       "\n",
       "                                 apparentTemperature  \\\n",
       "0  [7.55, 7.55, 7.34, 7.34, 6.75, 6.75, 6.89, 6.8...   \n",
       "1  [12.12, 12.12, 12.59, 12.59, 12.45, 12.45, 12....   \n",
       "2  [7.59, 7.59, 7.43, 7.43, 7.24, 7.24, 7.34, 7.3...   \n",
       "3  [11.46, 11.46, 11.38, 11.38, 11.38, 11.38, 10....   \n",
       "4  [14.06, 14.06, 13.12, 13.12, 12.53, 12.53, 12....   \n",
       "\n",
       "                                           windSpeed  \\\n",
       "0  [2.28, 2.28, 1.81, 1.81, 1.95, 1.95, 1.83, 1.8...   \n",
       "1  [5.9, 5.9, 6.06, 6.06, 5.31, 5.31, 4.68, 4.68,...   \n",
       "2  [2.18, 2.18, 2.07, 2.07, 1.72, 1.72, 1.34, 1.3...   \n",
       "3  [2.35, 2.35, 2.15, 2.15, 1.84, 1.84, 1.22, 1.2...   \n",
       "4  [3.86, 3.86, 3.81, 3.81, 4.27, 4.27, 4.12, 4.1...   \n",
       "\n",
       "                                          precipType  \\\n",
       "0  [rain, rain, rain, rain, rain, rain, rain, rai...   \n",
       "1  [rain, rain, rain, rain, rain, rain, rain, rai...   \n",
       "2  [rain, rain, rain, rain, rain, rain, rain, rai...   \n",
       "3  [rain, rain, rain, rain, rain, rain, rain, rai...   \n",
       "4  [rain, rain, rain, rain, rain, rain, rain, rai...   \n",
       "\n",
       "                                                icon  \\\n",
       "0  [clear-night, clear-night, clear-night, clear-...   \n",
       "1  [partly-cloudy-night, partly-cloudy-night, clo...   \n",
       "2  [fog, fog, fog, fog, fog, fog, fog, fog, fog, ...   \n",
       "3  [partly-cloudy-night, partly-cloudy-night, par...   \n",
       "4  [clear-night, clear-night, clear-night, clear-...   \n",
       "\n",
       "                                            humidity  \\\n",
       "0  [0.84, 0.84, 0.87, 0.87, 0.89, 0.89, 0.93, 0.9...   \n",
       "1  [0.93, 0.93, 0.9, 0.9, 0.91, 0.91, 0.93, 0.93,...   \n",
       "2  [0.9, 0.9, 0.91, 0.91, 0.94, 0.94, 0.96, 0.96,...   \n",
       "3  [0.92, 0.92, 0.92, 0.92, 0.93, 0.93, 0.95, 0.9...   \n",
       "4  [0.81, 0.81, 0.83, 0.83, 0.84, 0.84, 0.86, 0.8...   \n",
       "\n",
       "                                             summary  \n",
       "0  [Clear, Clear, Clear, Clear, Partly Cloudy, Pa...  \n",
       "1  [Mostly Cloudy, Mostly Cloudy, Overcast, Overc...  \n",
       "2  [Foggy, Foggy, Foggy, Foggy, Foggy, Foggy, Fog...  \n",
       "3  [Partly Cloudy, Partly Cloudy, Mostly Cloudy, ...  \n",
       "4  [Clear, Clear, Clear, Clear, Clear, Clear, Par...  \n",
       "\n",
       "[5 rows x 21 columns]"
      ]
     },
     "execution_count": 4,
     "metadata": {},
     "output_type": "execute_result"
    }
   ],
   "source": [
    "block_df = pd.read_parquet(\"data/london_smart_meters/preprocessed/london_smart_meters_merged_block_0-7.parquet\")\n",
    "\n",
    "block_df.head()"
   ]
  },
  {
   "cell_type": "markdown",
   "id": "ec938c25-a175-499a-bc7a-19a2b1a39a7b",
   "metadata": {},
   "source": [
    "Let's take all the consumers in one block for our exercise. Keep in mind, you can do the same with more number of blocks as long as it fits in your RAM"
   ]
  },
  {
   "cell_type": "code",
   "execution_count": 5,
   "id": "7cd4d2ee-860c-458e-9070-0d83164eb583",
   "metadata": {},
   "outputs": [],
   "source": [
    "# uncomment and further filter to a single block if you have RAM constraints\n",
    "# block_df = block_df[block_df.file==\"block_7\"]"
   ]
  },
  {
   "cell_type": "code",
   "execution_count": 6,
   "id": "8a6ee29c-6c81-4ab4-9617-c488bbe26b3f",
   "metadata": {},
   "outputs": [
    {
     "data": {
      "application/vnd.jupyter.widget-view+json": {
       "model_id": "db206f6935954c6395ccfbe4850612d1",
       "version_major": 2,
       "version_minor": 0
      },
      "text/plain": [
       "  0%|          | 0/399 [00:00<?, ?it/s]"
      ]
     },
     "metadata": {},
     "output_type": "display_data"
    },
    {
     "data": {
      "text/html": [
       "<div>\n",
       "<style scoped>\n",
       "    .dataframe tbody tr th:only-of-type {\n",
       "        vertical-align: middle;\n",
       "    }\n",
       "\n",
       "    .dataframe tbody tr th {\n",
       "        vertical-align: top;\n",
       "    }\n",
       "\n",
       "    .dataframe thead th {\n",
       "        text-align: right;\n",
       "    }\n",
       "</style>\n",
       "<table border=\"1\" class=\"dataframe\">\n",
       "  <thead>\n",
       "    <tr style=\"text-align: right;\">\n",
       "      <th></th>\n",
       "      <th>timestamp</th>\n",
       "      <th>LCLid</th>\n",
       "      <th>energy_consumption</th>\n",
       "      <th>frequency</th>\n",
       "      <th>series_length</th>\n",
       "      <th>stdorToU</th>\n",
       "      <th>Acorn</th>\n",
       "      <th>Acorn_grouped</th>\n",
       "      <th>file</th>\n",
       "      <th>holidays</th>\n",
       "      <th>...</th>\n",
       "      <th>windBearing</th>\n",
       "      <th>temperature</th>\n",
       "      <th>dewPoint</th>\n",
       "      <th>pressure</th>\n",
       "      <th>apparentTemperature</th>\n",
       "      <th>windSpeed</th>\n",
       "      <th>precipType</th>\n",
       "      <th>icon</th>\n",
       "      <th>humidity</th>\n",
       "      <th>summary</th>\n",
       "    </tr>\n",
       "  </thead>\n",
       "  <tbody>\n",
       "    <tr>\n",
       "      <th>0</th>\n",
       "      <td>2012-10-13 00:00:00</td>\n",
       "      <td>MAC000002</td>\n",
       "      <td>0.263</td>\n",
       "      <td>30min</td>\n",
       "      <td>24144</td>\n",
       "      <td>Std</td>\n",
       "      <td>ACORN-A</td>\n",
       "      <td>Affluent</td>\n",
       "      <td>block_0</td>\n",
       "      <td>NO_HOLIDAY</td>\n",
       "      <td>...</td>\n",
       "      <td>186</td>\n",
       "      <td>8.78</td>\n",
       "      <td>6.28</td>\n",
       "      <td>1007.70</td>\n",
       "      <td>7.55</td>\n",
       "      <td>2.28</td>\n",
       "      <td>rain</td>\n",
       "      <td>clear-night</td>\n",
       "      <td>0.84</td>\n",
       "      <td>Clear</td>\n",
       "    </tr>\n",
       "    <tr>\n",
       "      <th>1</th>\n",
       "      <td>2012-10-13 00:30:00</td>\n",
       "      <td>MAC000002</td>\n",
       "      <td>0.269</td>\n",
       "      <td>30min</td>\n",
       "      <td>24144</td>\n",
       "      <td>Std</td>\n",
       "      <td>ACORN-A</td>\n",
       "      <td>Affluent</td>\n",
       "      <td>block_0</td>\n",
       "      <td>NO_HOLIDAY</td>\n",
       "      <td>...</td>\n",
       "      <td>186</td>\n",
       "      <td>8.78</td>\n",
       "      <td>6.28</td>\n",
       "      <td>1007.70</td>\n",
       "      <td>7.55</td>\n",
       "      <td>2.28</td>\n",
       "      <td>rain</td>\n",
       "      <td>clear-night</td>\n",
       "      <td>0.84</td>\n",
       "      <td>Clear</td>\n",
       "    </tr>\n",
       "    <tr>\n",
       "      <th>2</th>\n",
       "      <td>2012-10-13 01:00:00</td>\n",
       "      <td>MAC000002</td>\n",
       "      <td>0.275</td>\n",
       "      <td>30min</td>\n",
       "      <td>24144</td>\n",
       "      <td>Std</td>\n",
       "      <td>ACORN-A</td>\n",
       "      <td>Affluent</td>\n",
       "      <td>block_0</td>\n",
       "      <td>NO_HOLIDAY</td>\n",
       "      <td>...</td>\n",
       "      <td>188</td>\n",
       "      <td>8.27</td>\n",
       "      <td>6.21</td>\n",
       "      <td>1007.36</td>\n",
       "      <td>7.34</td>\n",
       "      <td>1.81</td>\n",
       "      <td>rain</td>\n",
       "      <td>clear-night</td>\n",
       "      <td>0.87</td>\n",
       "      <td>Clear</td>\n",
       "    </tr>\n",
       "    <tr>\n",
       "      <th>3</th>\n",
       "      <td>2012-10-13 01:30:00</td>\n",
       "      <td>MAC000002</td>\n",
       "      <td>0.256</td>\n",
       "      <td>30min</td>\n",
       "      <td>24144</td>\n",
       "      <td>Std</td>\n",
       "      <td>ACORN-A</td>\n",
       "      <td>Affluent</td>\n",
       "      <td>block_0</td>\n",
       "      <td>NO_HOLIDAY</td>\n",
       "      <td>...</td>\n",
       "      <td>188</td>\n",
       "      <td>8.27</td>\n",
       "      <td>6.21</td>\n",
       "      <td>1007.36</td>\n",
       "      <td>7.34</td>\n",
       "      <td>1.81</td>\n",
       "      <td>rain</td>\n",
       "      <td>clear-night</td>\n",
       "      <td>0.87</td>\n",
       "      <td>Clear</td>\n",
       "    </tr>\n",
       "    <tr>\n",
       "      <th>4</th>\n",
       "      <td>2012-10-13 02:00:00</td>\n",
       "      <td>MAC000002</td>\n",
       "      <td>0.211</td>\n",
       "      <td>30min</td>\n",
       "      <td>24144</td>\n",
       "      <td>Std</td>\n",
       "      <td>ACORN-A</td>\n",
       "      <td>Affluent</td>\n",
       "      <td>block_0</td>\n",
       "      <td>NO_HOLIDAY</td>\n",
       "      <td>...</td>\n",
       "      <td>190</td>\n",
       "      <td>7.87</td>\n",
       "      <td>6.22</td>\n",
       "      <td>1006.73</td>\n",
       "      <td>6.75</td>\n",
       "      <td>1.95</td>\n",
       "      <td>rain</td>\n",
       "      <td>partly-cloudy-night</td>\n",
       "      <td>0.89</td>\n",
       "      <td>Partly Cloudy</td>\n",
       "    </tr>\n",
       "  </tbody>\n",
       "</table>\n",
       "<p>5 rows × 21 columns</p>\n",
       "</div>"
      ],
      "text/plain": [
       "            timestamp      LCLid  energy_consumption frequency  series_length  \\\n",
       "0 2012-10-13 00:00:00  MAC000002               0.263     30min          24144   \n",
       "1 2012-10-13 00:30:00  MAC000002               0.269     30min          24144   \n",
       "2 2012-10-13 01:00:00  MAC000002               0.275     30min          24144   \n",
       "3 2012-10-13 01:30:00  MAC000002               0.256     30min          24144   \n",
       "4 2012-10-13 02:00:00  MAC000002               0.211     30min          24144   \n",
       "\n",
       "  stdorToU    Acorn Acorn_grouped     file    holidays  ...  windBearing  \\\n",
       "0      Std  ACORN-A      Affluent  block_0  NO_HOLIDAY  ...          186   \n",
       "1      Std  ACORN-A      Affluent  block_0  NO_HOLIDAY  ...          186   \n",
       "2      Std  ACORN-A      Affluent  block_0  NO_HOLIDAY  ...          188   \n",
       "3      Std  ACORN-A      Affluent  block_0  NO_HOLIDAY  ...          188   \n",
       "4      Std  ACORN-A      Affluent  block_0  NO_HOLIDAY  ...          190   \n",
       "\n",
       "   temperature  dewPoint  pressure  apparentTemperature  windSpeed  \\\n",
       "0         8.78      6.28   1007.70                 7.55       2.28   \n",
       "1         8.78      6.28   1007.70                 7.55       2.28   \n",
       "2         8.27      6.21   1007.36                 7.34       1.81   \n",
       "3         8.27      6.21   1007.36                 7.34       1.81   \n",
       "4         7.87      6.22   1006.73                 6.75       1.95   \n",
       "\n",
       "   precipType                 icon humidity        summary  \n",
       "0        rain          clear-night     0.84          Clear  \n",
       "1        rain          clear-night     0.84          Clear  \n",
       "2        rain          clear-night     0.87          Clear  \n",
       "3        rain          clear-night     0.87          Clear  \n",
       "4        rain  partly-cloudy-night     0.89  Partly Cloudy  \n",
       "\n",
       "[5 rows x 21 columns]"
      ]
     },
     "execution_count": 6,
     "metadata": {},
     "output_type": "execute_result"
    }
   ],
   "source": [
    "#Converting to expanded form\n",
    "exp_block_df = compact_to_expanded(block_df, timeseries_col = 'energy_consumption',\n",
    "static_cols = [\"frequency\", \"series_length\", \"stdorToU\", \"Acorn\", \"Acorn_grouped\", \"file\"],\n",
    "time_varying_cols = ['holidays', 'visibility', 'windBearing', 'temperature', 'dewPoint',\n",
    "       'pressure', 'apparentTemperature', 'windSpeed', 'precipType', 'icon',\n",
    "       'humidity', 'summary'],\n",
    "ts_identifier = \"LCLid\")\n",
    "\n",
    "exp_block_df.head()"
   ]
  },
  {
   "cell_type": "markdown",
   "id": "3a94732d-a46a-416d-972f-daa75fb92fb4",
   "metadata": {},
   "source": [
    "## Reduce Memory Footprint"
   ]
  },
  {
   "cell_type": "code",
   "execution_count": 7,
   "id": "ca804c7a-421c-4c76-beef-4f26ec016c9e",
   "metadata": {},
   "outputs": [],
   "source": [
    "from src.utils.data_utils import reduce_memory_footprint"
   ]
  },
  {
   "cell_type": "code",
   "execution_count": 8,
   "id": "19bff3aa-e7f1-4edf-979b-36cbc473f7b7",
   "metadata": {},
   "outputs": [
    {
     "name": "stdout",
     "output_type": "stream",
     "text": [
      "<class 'pandas.core.frame.DataFrame'>\n",
      "Int64Index: 11821680 entries, 0 to 35279\n",
      "Columns: 21 entries, timestamp to summary\n",
      "dtypes: datetime64[ns](1), float64(8), int64(2), object(10)\n",
      "memory usage: 8.2 GB\n"
     ]
    }
   ],
   "source": [
    "exp_block_df.info(memory_usage=\"deep\", verbose=False)"
   ]
  },
  {
   "cell_type": "code",
   "execution_count": 9,
   "id": "85908d31-5276-466d-ad8f-a9fdda67cee8",
   "metadata": {},
   "outputs": [],
   "source": [
    "exp_block_df = reduce_memory_footprint(exp_block_df)"
   ]
  },
  {
   "cell_type": "code",
   "execution_count": 10,
   "id": "9a3a3371-c1dd-4cce-af05-73673bb2497b",
   "metadata": {},
   "outputs": [
    {
     "name": "stdout",
     "output_type": "stream",
     "text": [
      "<class 'pandas.core.frame.DataFrame'>\n",
      "Int64Index: 11821680 entries, 0 to 35279\n",
      "Columns: 21 entries, timestamp to summary\n",
      "dtypes: category(10), datetime64[ns](1), float32(8), int32(2)\n",
      "memory usage: 755.4 MB\n"
     ]
    }
   ],
   "source": [
    "exp_block_df.info(memory_usage=\"deep\", verbose=False)"
   ]
  },
  {
   "cell_type": "markdown",
   "id": "9d4fccc6-fead-4ce4-9c58-0aa017f5dffb",
   "metadata": {},
   "source": [
    "# Train Test Valildation Split"
   ]
  },
  {
   "cell_type": "markdown",
   "id": "1e20542e-e027-43f1-8164-054ea1c07b2f",
   "metadata": {},
   "source": [
    "We are going to keep 2014 data as the validation and test period. We have 2 months(Jan and Feb) of data in 2014. Jan is Validation and Feb is Test"
   ]
  },
  {
   "cell_type": "code",
   "execution_count": 16,
   "id": "74a762af-b17d-46bf-9440-367d132caa6e",
   "metadata": {},
   "outputs": [
    {
     "name": "stdout",
     "output_type": "stream",
     "text": [
      "# of Training samples: 10710864 | # of Validation samples: 593712 | # of Test samples: 517104\n",
      "Max Date in Train: 2013-12-31 23:30:00 | Min Date in Validation: 2014-01-01 00:00:00 | Min Date in Test: 2014-02-01 00:00:00\n"
     ]
    }
   ],
   "source": [
    "test_mask = (exp_block_df.timestamp.dt.year==2014) & (exp_block_df.timestamp.dt.month==2)\n",
    "val_mask = (exp_block_df.timestamp.dt.year==2014) & (exp_block_df.timestamp.dt.month==1)\n",
    "\n",
    "train = exp_block_df[~(val_mask|test_mask)]\n",
    "val = exp_block_df[val_mask]\n",
    "test = exp_block_df[test_mask]\n",
    "print(f\"# of Training samples: {len(train)} | # of Validation samples: {len(val)} | # of Test samples: {len(test)}\")\n",
    "print(f\"Max Date in Train: {train.timestamp.max()} | Min Date in Validation: {val.timestamp.min()} | Min Date in Test: {test.timestamp.min()}\")"
   ]
  },
  {
   "cell_type": "code",
   "execution_count": 17,
   "id": "62ec1fc8-7f08-45b9-b0c9-7a782fd62c9b",
   "metadata": {},
   "outputs": [],
   "source": [
    "train.to_parquet(\"data/london_smart_meters/preprocessed/block_0-7_train.parquet\")\n",
    "val.to_parquet(\"data/london_smart_meters/preprocessed/block_0-7_val.parquet\")\n",
    "test.to_parquet(\"data/london_smart_meters/preprocessed/block_0-7_test.parquet\")"
   ]
  },
  {
   "cell_type": "markdown",
   "id": "0adfd81a-39b1-4261-a6be-24ede1313be3",
   "metadata": {},
   "source": [
    "## Train Test Split after filling in missing values"
   ]
  },
  {
   "cell_type": "code",
   "execution_count": 18,
   "id": "b7c669aa-3892-4de7-886b-4275cdf229ee",
   "metadata": {},
   "outputs": [
    {
     "data": {
      "application/vnd.jupyter.widget-view+json": {
       "model_id": "95ae88ac9cb14ee5b38ff8cec9d08adf",
       "version_major": 2,
       "version_minor": 0
      },
      "text/plain": [
       "  0%|          | 0/399 [00:00<?, ?it/s]"
      ]
     },
     "metadata": {},
     "output_type": "display_data"
    },
    {
     "name": "stderr",
     "output_type": "stream",
     "text": [
      "D:\\Playground\\AdvancedTimeSeriesForecastingBook\\Github\\Modern-Time-Series-Forecasting-with-Python-\\src\\imputation\\_solver.py:68: UserWarning: Input matrix is not missing any values\n",
      "  warnings.warn(\"Input matrix is not missing any values\")\n",
      "D:\\Playground\\AdvancedTimeSeriesForecastingBook\\Github\\Modern-Time-Series-Forecasting-with-Python-\\src\\imputation\\interpolation.py:83: UserWarning: [Seasonal Interpolation] Warning: provided matrix doesn't contain any missing values.\n",
      "  warnings.warn(\n",
      "D:\\Playground\\AdvancedTimeSeriesForecastingBook\\Github\\Modern-Time-Series-Forecasting-with-Python-\\src\\imputation\\interpolation.py:86: UserWarning: [Seasonal Interpolation] The algorithm will run, but will return an unchanged matrix.\n",
      "  warnings.warn(\n"
     ]
    }
   ],
   "source": [
    "from src.imputation.interpolation import SeasonalInterpolation\n",
    "\n",
    "block_df.energy_consumption = block_df.energy_consumption.progress_apply(lambda x: SeasonalInterpolation(seasonal_period=48*7).fit_transform(x.reshape(-1,1)).squeeze())"
   ]
  },
  {
   "cell_type": "code",
   "execution_count": 19,
   "id": "7d8a9a3b-8a02-47ee-a35f-09450de68cc7",
   "metadata": {
    "tags": []
   },
   "outputs": [
    {
     "data": {
      "application/vnd.jupyter.widget-view+json": {
       "model_id": "21eec69b2f5244daa7740238e72cea73",
       "version_major": 2,
       "version_minor": 0
      },
      "text/plain": [
       "  0%|          | 0/399 [00:00<?, ?it/s]"
      ]
     },
     "metadata": {},
     "output_type": "display_data"
    },
    {
     "data": {
      "text/html": [
       "<div>\n",
       "<style scoped>\n",
       "    .dataframe tbody tr th:only-of-type {\n",
       "        vertical-align: middle;\n",
       "    }\n",
       "\n",
       "    .dataframe tbody tr th {\n",
       "        vertical-align: top;\n",
       "    }\n",
       "\n",
       "    .dataframe thead th {\n",
       "        text-align: right;\n",
       "    }\n",
       "</style>\n",
       "<table border=\"1\" class=\"dataframe\">\n",
       "  <thead>\n",
       "    <tr style=\"text-align: right;\">\n",
       "      <th></th>\n",
       "      <th>timestamp</th>\n",
       "      <th>LCLid</th>\n",
       "      <th>energy_consumption</th>\n",
       "      <th>frequency</th>\n",
       "      <th>series_length</th>\n",
       "      <th>stdorToU</th>\n",
       "      <th>Acorn</th>\n",
       "      <th>Acorn_grouped</th>\n",
       "      <th>file</th>\n",
       "      <th>holidays</th>\n",
       "      <th>...</th>\n",
       "      <th>windBearing</th>\n",
       "      <th>temperature</th>\n",
       "      <th>dewPoint</th>\n",
       "      <th>pressure</th>\n",
       "      <th>apparentTemperature</th>\n",
       "      <th>windSpeed</th>\n",
       "      <th>precipType</th>\n",
       "      <th>icon</th>\n",
       "      <th>humidity</th>\n",
       "      <th>summary</th>\n",
       "    </tr>\n",
       "  </thead>\n",
       "  <tbody>\n",
       "    <tr>\n",
       "      <th>0</th>\n",
       "      <td>2012-10-13 00:00:00</td>\n",
       "      <td>MAC000002</td>\n",
       "      <td>0.263</td>\n",
       "      <td>30min</td>\n",
       "      <td>24144</td>\n",
       "      <td>Std</td>\n",
       "      <td>ACORN-A</td>\n",
       "      <td>Affluent</td>\n",
       "      <td>block_0</td>\n",
       "      <td>NO_HOLIDAY</td>\n",
       "      <td>...</td>\n",
       "      <td>186</td>\n",
       "      <td>8.78</td>\n",
       "      <td>6.28</td>\n",
       "      <td>1007.70</td>\n",
       "      <td>7.55</td>\n",
       "      <td>2.28</td>\n",
       "      <td>rain</td>\n",
       "      <td>clear-night</td>\n",
       "      <td>0.84</td>\n",
       "      <td>Clear</td>\n",
       "    </tr>\n",
       "    <tr>\n",
       "      <th>1</th>\n",
       "      <td>2012-10-13 00:30:00</td>\n",
       "      <td>MAC000002</td>\n",
       "      <td>0.269</td>\n",
       "      <td>30min</td>\n",
       "      <td>24144</td>\n",
       "      <td>Std</td>\n",
       "      <td>ACORN-A</td>\n",
       "      <td>Affluent</td>\n",
       "      <td>block_0</td>\n",
       "      <td>NO_HOLIDAY</td>\n",
       "      <td>...</td>\n",
       "      <td>186</td>\n",
       "      <td>8.78</td>\n",
       "      <td>6.28</td>\n",
       "      <td>1007.70</td>\n",
       "      <td>7.55</td>\n",
       "      <td>2.28</td>\n",
       "      <td>rain</td>\n",
       "      <td>clear-night</td>\n",
       "      <td>0.84</td>\n",
       "      <td>Clear</td>\n",
       "    </tr>\n",
       "    <tr>\n",
       "      <th>2</th>\n",
       "      <td>2012-10-13 01:00:00</td>\n",
       "      <td>MAC000002</td>\n",
       "      <td>0.275</td>\n",
       "      <td>30min</td>\n",
       "      <td>24144</td>\n",
       "      <td>Std</td>\n",
       "      <td>ACORN-A</td>\n",
       "      <td>Affluent</td>\n",
       "      <td>block_0</td>\n",
       "      <td>NO_HOLIDAY</td>\n",
       "      <td>...</td>\n",
       "      <td>188</td>\n",
       "      <td>8.27</td>\n",
       "      <td>6.21</td>\n",
       "      <td>1007.36</td>\n",
       "      <td>7.34</td>\n",
       "      <td>1.81</td>\n",
       "      <td>rain</td>\n",
       "      <td>clear-night</td>\n",
       "      <td>0.87</td>\n",
       "      <td>Clear</td>\n",
       "    </tr>\n",
       "    <tr>\n",
       "      <th>3</th>\n",
       "      <td>2012-10-13 01:30:00</td>\n",
       "      <td>MAC000002</td>\n",
       "      <td>0.256</td>\n",
       "      <td>30min</td>\n",
       "      <td>24144</td>\n",
       "      <td>Std</td>\n",
       "      <td>ACORN-A</td>\n",
       "      <td>Affluent</td>\n",
       "      <td>block_0</td>\n",
       "      <td>NO_HOLIDAY</td>\n",
       "      <td>...</td>\n",
       "      <td>188</td>\n",
       "      <td>8.27</td>\n",
       "      <td>6.21</td>\n",
       "      <td>1007.36</td>\n",
       "      <td>7.34</td>\n",
       "      <td>1.81</td>\n",
       "      <td>rain</td>\n",
       "      <td>clear-night</td>\n",
       "      <td>0.87</td>\n",
       "      <td>Clear</td>\n",
       "    </tr>\n",
       "    <tr>\n",
       "      <th>4</th>\n",
       "      <td>2012-10-13 02:00:00</td>\n",
       "      <td>MAC000002</td>\n",
       "      <td>0.211</td>\n",
       "      <td>30min</td>\n",
       "      <td>24144</td>\n",
       "      <td>Std</td>\n",
       "      <td>ACORN-A</td>\n",
       "      <td>Affluent</td>\n",
       "      <td>block_0</td>\n",
       "      <td>NO_HOLIDAY</td>\n",
       "      <td>...</td>\n",
       "      <td>190</td>\n",
       "      <td>7.87</td>\n",
       "      <td>6.22</td>\n",
       "      <td>1006.73</td>\n",
       "      <td>6.75</td>\n",
       "      <td>1.95</td>\n",
       "      <td>rain</td>\n",
       "      <td>partly-cloudy-night</td>\n",
       "      <td>0.89</td>\n",
       "      <td>Partly Cloudy</td>\n",
       "    </tr>\n",
       "  </tbody>\n",
       "</table>\n",
       "<p>5 rows × 21 columns</p>\n",
       "</div>"
      ],
      "text/plain": [
       "            timestamp      LCLid  energy_consumption frequency  series_length  \\\n",
       "0 2012-10-13 00:00:00  MAC000002               0.263     30min          24144   \n",
       "1 2012-10-13 00:30:00  MAC000002               0.269     30min          24144   \n",
       "2 2012-10-13 01:00:00  MAC000002               0.275     30min          24144   \n",
       "3 2012-10-13 01:30:00  MAC000002               0.256     30min          24144   \n",
       "4 2012-10-13 02:00:00  MAC000002               0.211     30min          24144   \n",
       "\n",
       "  stdorToU    Acorn Acorn_grouped     file    holidays  ...  windBearing  \\\n",
       "0      Std  ACORN-A      Affluent  block_0  NO_HOLIDAY  ...          186   \n",
       "1      Std  ACORN-A      Affluent  block_0  NO_HOLIDAY  ...          186   \n",
       "2      Std  ACORN-A      Affluent  block_0  NO_HOLIDAY  ...          188   \n",
       "3      Std  ACORN-A      Affluent  block_0  NO_HOLIDAY  ...          188   \n",
       "4      Std  ACORN-A      Affluent  block_0  NO_HOLIDAY  ...          190   \n",
       "\n",
       "   temperature  dewPoint  pressure  apparentTemperature  windSpeed  \\\n",
       "0         8.78      6.28   1007.70                 7.55       2.28   \n",
       "1         8.78      6.28   1007.70                 7.55       2.28   \n",
       "2         8.27      6.21   1007.36                 7.34       1.81   \n",
       "3         8.27      6.21   1007.36                 7.34       1.81   \n",
       "4         7.87      6.22   1006.73                 6.75       1.95   \n",
       "\n",
       "   precipType                 icon humidity        summary  \n",
       "0        rain          clear-night     0.84          Clear  \n",
       "1        rain          clear-night     0.84          Clear  \n",
       "2        rain          clear-night     0.87          Clear  \n",
       "3        rain          clear-night     0.87          Clear  \n",
       "4        rain  partly-cloudy-night     0.89  Partly Cloudy  \n",
       "\n",
       "[5 rows x 21 columns]"
      ]
     },
     "execution_count": 19,
     "metadata": {},
     "output_type": "execute_result"
    }
   ],
   "source": [
    "#Converting to expanded form\n",
    "exp_block_df = compact_to_expanded(block_df, timeseries_col = 'energy_consumption',\n",
    "static_cols = [\"frequency\", \"series_length\", \"stdorToU\", \"Acorn\", \"Acorn_grouped\", \"file\"],\n",
    "time_varying_cols = ['holidays', 'visibility', 'windBearing', 'temperature', 'dewPoint',\n",
    "       'pressure', 'apparentTemperature', 'windSpeed', 'precipType', 'icon',\n",
    "       'humidity', 'summary'],\n",
    "ts_identifier = \"LCLid\")\n",
    "\n",
    "exp_block_df.head()"
   ]
  },
  {
   "cell_type": "markdown",
   "id": "38bc27a1-d06c-4513-875c-05956990cf58",
   "metadata": {},
   "source": [
    "## Reduce Memory Footprint"
   ]
  },
  {
   "cell_type": "code",
   "execution_count": 20,
   "id": "da3cde56-201f-4637-a8f7-0597841b7e18",
   "metadata": {},
   "outputs": [],
   "source": [
    "from src.utils.data_utils import reduce_memory_footprint"
   ]
  },
  {
   "cell_type": "code",
   "execution_count": 21,
   "id": "0c03bb4c-d5ee-4e5a-bf36-d1d01e1d27dd",
   "metadata": {},
   "outputs": [
    {
     "name": "stdout",
     "output_type": "stream",
     "text": [
      "<class 'pandas.core.frame.DataFrame'>\n",
      "Int64Index: 11821680 entries, 0 to 35279\n",
      "Columns: 21 entries, timestamp to summary\n",
      "dtypes: datetime64[ns](1), float64(8), int64(2), object(10)\n",
      "memory usage: 8.2 GB\n"
     ]
    }
   ],
   "source": [
    "exp_block_df.info(memory_usage=\"deep\", verbose=False)"
   ]
  },
  {
   "cell_type": "code",
   "execution_count": 22,
   "id": "001fb4df-8669-432e-85a9-a57d5a721add",
   "metadata": {},
   "outputs": [],
   "source": [
    "exp_block_df = reduce_memory_footprint(exp_block_df)"
   ]
  },
  {
   "cell_type": "code",
   "execution_count": 23,
   "id": "0d78f0e8-c9e3-4f10-97d5-b7969577b058",
   "metadata": {},
   "outputs": [
    {
     "name": "stdout",
     "output_type": "stream",
     "text": [
      "<class 'pandas.core.frame.DataFrame'>\n",
      "Int64Index: 11821680 entries, 0 to 35279\n",
      "Columns: 21 entries, timestamp to summary\n",
      "dtypes: category(10), datetime64[ns](1), float32(8), int32(2)\n",
      "memory usage: 755.4 MB\n"
     ]
    }
   ],
   "source": [
    "exp_block_df.info(memory_usage=\"deep\", verbose=False)"
   ]
  },
  {
   "cell_type": "code",
   "execution_count": 24,
   "id": "a0bbf4f4-d075-4de3-8bcc-0278b3386451",
   "metadata": {},
   "outputs": [
    {
     "name": "stdout",
     "output_type": "stream",
     "text": [
      "# of Training samples: 10710864 | # of Validation samples: 593712 | # of Test samples: 517104\n",
      "Max Date in Train: 2013-12-31 23:30:00 | Min Date in Validation: 2014-01-01 00:00:00 | Min Date in Test: 2014-02-01 00:00:00\n"
     ]
    }
   ],
   "source": [
    "test_mask = (exp_block_df.timestamp.dt.year==2014) & (exp_block_df.timestamp.dt.month==2)\n",
    "val_mask = (exp_block_df.timestamp.dt.year==2014) & (exp_block_df.timestamp.dt.month==1)\n",
    "\n",
    "train = exp_block_df[~(val_mask|test_mask)]\n",
    "val = exp_block_df[val_mask]\n",
    "test = exp_block_df[test_mask]\n",
    "print(f\"# of Training samples: {len(train)} | # of Validation samples: {len(val)} | # of Test samples: {len(test)}\")\n",
    "print(f\"Max Date in Train: {train.timestamp.max()} | Min Date in Validation: {val.timestamp.min()} | Min Date in Test: {test.timestamp.min()}\")"
   ]
  },
  {
   "cell_type": "code",
   "execution_count": 25,
   "id": "b43ed1d0-e1de-4e4c-8389-4ade3bbcd17b",
   "metadata": {},
   "outputs": [],
   "source": [
    "train.to_parquet(\"data/london_smart_meters/preprocessed/block_0-7_train_missing_imputed.parquet\")\n",
    "val.to_parquet(\"data/london_smart_meters/preprocessed/block_0-7_val_missing_imputed.parquet\")\n",
    "test.to_parquet(\"data/london_smart_meters/preprocessed/block_0-7_test_missing_imputed.parquet\")"
   ]
  }
 ],
 "metadata": {
  "kernelspec": {
   "display_name": "Python 3 (ipykernel)",
   "language": "python",
   "name": "python3"
  },
  "language_info": {
   "codemirror_mode": {
    "name": "ipython",
    "version": 3
   },
   "file_extension": ".py",
   "mimetype": "text/x-python",
   "name": "python",
   "nbconvert_exporter": "python",
   "pygments_lexer": "ipython3",
   "version": "3.9.0"
  }
 },
 "nbformat": 4,
 "nbformat_minor": 5
}
